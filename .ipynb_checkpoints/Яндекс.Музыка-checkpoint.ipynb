{
 "cells": [
  {
   "cell_type": "markdown",
   "metadata": {
    "toc": true
   },
   "source": [
    "<h1>Содержание<span class=\"tocSkip\"></span></h1>\n",
    "<div class=\"toc\"><ul class=\"toc-item\"><li><span><a href=\"#Обзор-данных\" data-toc-modified-id=\"Обзор-данных-1\"><span class=\"toc-item-num\">1&nbsp;&nbsp;</span>Обзор данных</a></span></li><li><span><a href=\"#Предобработка-данных\" data-toc-modified-id=\"Предобработка-данных-2\"><span class=\"toc-item-num\">2&nbsp;&nbsp;</span>Предобработка данных</a></span><ul class=\"toc-item\"><li><span><a href=\"#Стиль-заголовков\" data-toc-modified-id=\"Стиль-заголовков-2.1\"><span class=\"toc-item-num\">2.1&nbsp;&nbsp;</span>Стиль заголовков</a></span></li><li><span><a href=\"#Пропуски-значений\" data-toc-modified-id=\"Пропуски-значений-2.2\"><span class=\"toc-item-num\">2.2&nbsp;&nbsp;</span>Пропуски значений</a></span></li><li><span><a href=\"#Дубликаты\" data-toc-modified-id=\"Дубликаты-2.3\"><span class=\"toc-item-num\">2.3&nbsp;&nbsp;</span>Дубликаты</a></span></li></ul></li><li><span><a href=\"#Проверка-гипотез\" data-toc-modified-id=\"Проверка-гипотез-3\"><span class=\"toc-item-num\">3&nbsp;&nbsp;</span>Проверка гипотез</a></span><ul class=\"toc-item\"><li><span><a href=\"#Сравнение-поведения-пользователей-двух-столиц\" data-toc-modified-id=\"Сравнение-поведения-пользователей-двух-столиц-3.1\"><span class=\"toc-item-num\">3.1&nbsp;&nbsp;</span>Сравнение поведения пользователей двух столиц</a></span></li><li><span><a href=\"#Музыка-в-начале-и-в-конце-недели\" data-toc-modified-id=\"Музыка-в-начале-и-в-конце-недели-3.2\"><span class=\"toc-item-num\">3.2&nbsp;&nbsp;</span>Музыка в начале и в конце недели</a></span></li><li><span><a href=\"#Жанровые-предпочтения-в-Москве-и-Петербурге\" data-toc-modified-id=\"Жанровые-предпочтения-в-Москве-и-Петербурге-3.3\"><span class=\"toc-item-num\">3.3&nbsp;&nbsp;</span>Жанровые предпочтения в Москве и Петербурге</a></span></li></ul></li><li><span><a href=\"#Итоги-исследования\" data-toc-modified-id=\"Итоги-исследования-4\"><span class=\"toc-item-num\">4&nbsp;&nbsp;</span>Итоги исследования</a></span></li></ul></div>"
   ]
  },
  {
   "cell_type": "markdown",
   "metadata": {
    "id": "E0vqbgi9ay0H"
   },
   "source": [
    "# Яндекс.Музыка"
   ]
  },
  {
   "cell_type": "markdown",
   "metadata": {
    "id": "VUC88oWjTJw2"
   },
   "source": [
    "Сравнение Москвы и Петербурга окружено мифами. Например:\n",
    " * Москва — мегаполис, подчинённый жёсткому ритму рабочей недели;\n",
    " * Петербург — культурная столица, со своими вкусами.\n",
    "\n",
    "На данных Яндекс.Музыки сравним поведение пользователей двух столиц.\n",
    "\n",
    "**Цель исследования** - проверить 3 гипотезы:\n",
    "\n",
    "1. Активность пользователей зависит от дня недели. Причём в Москве и Петербурге это проявляется по-разному.\n",
    "\n",
    "2. В понедельник утром в Москве преобладают одни жанры, а в Петербурге — другие. Так же и вечером пятницы преобладают разные жанры — в зависимости от города. \n",
    "\n",
    "3. Москва и Петербург предпочитают разные жанры музыки. В Москве чаще слушают поп-музыку, в Петербурге — русский рэп.\n",
    "\n",
    "\n",
    "Данные о поведении пользователей находятся в файле `yandex_music_project.csv`. О качестве данных ничего не известно. Поэтому перед проверкой гипотез понадобится обзор данных. \n",
    "\n",
    "Необходимо проверить данные на ошибки и оценить их влияние на исследование. Затем, на этапе предобработки нужно найти возможность исправить самые критичные ошибки данных.\n",
    " \n",
    "Исследование пройдёт в три этапа:\n",
    "\n",
    " 1. Обзор данных.\n",
    " 2. Предобработка данных.\n",
    " 3. Проверка гипотез.\n",
    "\n"
   ]
  },
  {
   "cell_type": "markdown",
   "metadata": {
    "id": "Ml1hmfXC_Zcs"
   },
   "source": [
    "## Обзор данных\n",
    "\n",
    "**Импортируем необходимые библиотеки и прочитаем данные.**"
   ]
  },
  {
   "cell_type": "code",
   "execution_count": 1,
   "metadata": {
    "id": "AXN7PHPN_Zcs"
   },
   "outputs": [],
   "source": [
    "# импорт библиотеки pandas\n",
    "import pandas as pd"
   ]
  },
  {
   "cell_type": "code",
   "execution_count": 2,
   "metadata": {
    "id": "fFVu7vqh_Zct"
   },
   "outputs": [
    {
     "data": {
      "text/html": [
       "<div>\n",
       "<style scoped>\n",
       "    .dataframe tbody tr th:only-of-type {\n",
       "        vertical-align: middle;\n",
       "    }\n",
       "\n",
       "    .dataframe tbody tr th {\n",
       "        vertical-align: top;\n",
       "    }\n",
       "\n",
       "    .dataframe thead th {\n",
       "        text-align: right;\n",
       "    }\n",
       "</style>\n",
       "<table border=\"1\" class=\"dataframe\">\n",
       "  <thead>\n",
       "    <tr style=\"text-align: right;\">\n",
       "      <th></th>\n",
       "      <th>userID</th>\n",
       "      <th>Track</th>\n",
       "      <th>artist</th>\n",
       "      <th>genre</th>\n",
       "      <th>City</th>\n",
       "      <th>time</th>\n",
       "      <th>Day</th>\n",
       "    </tr>\n",
       "  </thead>\n",
       "  <tbody>\n",
       "    <tr>\n",
       "      <th>0</th>\n",
       "      <td>FFB692EC</td>\n",
       "      <td>Kamigata To Boots</td>\n",
       "      <td>The Mass Missile</td>\n",
       "      <td>rock</td>\n",
       "      <td>Saint-Petersburg</td>\n",
       "      <td>20:28:33</td>\n",
       "      <td>Wednesday</td>\n",
       "    </tr>\n",
       "    <tr>\n",
       "      <th>1</th>\n",
       "      <td>55204538</td>\n",
       "      <td>Delayed Because of Accident</td>\n",
       "      <td>Andreas Rönnberg</td>\n",
       "      <td>rock</td>\n",
       "      <td>Moscow</td>\n",
       "      <td>14:07:09</td>\n",
       "      <td>Friday</td>\n",
       "    </tr>\n",
       "    <tr>\n",
       "      <th>2</th>\n",
       "      <td>20EC38</td>\n",
       "      <td>Funiculì funiculà</td>\n",
       "      <td>Mario Lanza</td>\n",
       "      <td>pop</td>\n",
       "      <td>Saint-Petersburg</td>\n",
       "      <td>20:58:07</td>\n",
       "      <td>Wednesday</td>\n",
       "    </tr>\n",
       "    <tr>\n",
       "      <th>3</th>\n",
       "      <td>A3DD03C9</td>\n",
       "      <td>Dragons in the Sunset</td>\n",
       "      <td>Fire + Ice</td>\n",
       "      <td>folk</td>\n",
       "      <td>Saint-Petersburg</td>\n",
       "      <td>08:37:09</td>\n",
       "      <td>Monday</td>\n",
       "    </tr>\n",
       "    <tr>\n",
       "      <th>4</th>\n",
       "      <td>E2DC1FAE</td>\n",
       "      <td>Soul People</td>\n",
       "      <td>Space Echo</td>\n",
       "      <td>dance</td>\n",
       "      <td>Moscow</td>\n",
       "      <td>08:34:34</td>\n",
       "      <td>Monday</td>\n",
       "    </tr>\n",
       "    <tr>\n",
       "      <th>5</th>\n",
       "      <td>842029A1</td>\n",
       "      <td>Преданная</td>\n",
       "      <td>IMPERVTOR</td>\n",
       "      <td>rusrap</td>\n",
       "      <td>Saint-Petersburg</td>\n",
       "      <td>13:09:41</td>\n",
       "      <td>Friday</td>\n",
       "    </tr>\n",
       "    <tr>\n",
       "      <th>6</th>\n",
       "      <td>4CB90AA5</td>\n",
       "      <td>True</td>\n",
       "      <td>Roman Messer</td>\n",
       "      <td>dance</td>\n",
       "      <td>Moscow</td>\n",
       "      <td>13:00:07</td>\n",
       "      <td>Wednesday</td>\n",
       "    </tr>\n",
       "    <tr>\n",
       "      <th>7</th>\n",
       "      <td>F03E1C1F</td>\n",
       "      <td>Feeling This Way</td>\n",
       "      <td>Polina Griffith</td>\n",
       "      <td>dance</td>\n",
       "      <td>Moscow</td>\n",
       "      <td>20:47:49</td>\n",
       "      <td>Wednesday</td>\n",
       "    </tr>\n",
       "    <tr>\n",
       "      <th>8</th>\n",
       "      <td>8FA1D3BE</td>\n",
       "      <td>И вновь продолжается бой</td>\n",
       "      <td>NaN</td>\n",
       "      <td>ruspop</td>\n",
       "      <td>Moscow</td>\n",
       "      <td>09:17:40</td>\n",
       "      <td>Friday</td>\n",
       "    </tr>\n",
       "    <tr>\n",
       "      <th>9</th>\n",
       "      <td>E772D5C0</td>\n",
       "      <td>Pessimist</td>\n",
       "      <td>NaN</td>\n",
       "      <td>dance</td>\n",
       "      <td>Saint-Petersburg</td>\n",
       "      <td>21:20:49</td>\n",
       "      <td>Wednesday</td>\n",
       "    </tr>\n",
       "  </tbody>\n",
       "</table>\n",
       "</div>"
      ],
      "text/plain": [
       "     userID                        Track            artist   genre  \\\n",
       "0  FFB692EC            Kamigata To Boots  The Mass Missile    rock   \n",
       "1  55204538  Delayed Because of Accident  Andreas Rönnberg    rock   \n",
       "2    20EC38            Funiculì funiculà       Mario Lanza     pop   \n",
       "3  A3DD03C9        Dragons in the Sunset        Fire + Ice    folk   \n",
       "4  E2DC1FAE                  Soul People        Space Echo   dance   \n",
       "5  842029A1                    Преданная         IMPERVTOR  rusrap   \n",
       "6  4CB90AA5                         True      Roman Messer   dance   \n",
       "7  F03E1C1F             Feeling This Way   Polina Griffith   dance   \n",
       "8  8FA1D3BE     И вновь продолжается бой               NaN  ruspop   \n",
       "9  E772D5C0                    Pessimist               NaN   dance   \n",
       "\n",
       "             City        time        Day  \n",
       "0  Saint-Petersburg  20:28:33  Wednesday  \n",
       "1            Moscow  14:07:09     Friday  \n",
       "2  Saint-Petersburg  20:58:07  Wednesday  \n",
       "3  Saint-Petersburg  08:37:09     Monday  \n",
       "4            Moscow  08:34:34     Monday  \n",
       "5  Saint-Petersburg  13:09:41     Friday  \n",
       "6            Moscow  13:00:07  Wednesday  \n",
       "7            Moscow  20:47:49  Wednesday  \n",
       "8            Moscow  09:17:40     Friday  \n",
       "9  Saint-Petersburg  21:20:49  Wednesday  "
      ]
     },
     "execution_count": 2,
     "metadata": {},
     "output_type": "execute_result"
    }
   ],
   "source": [
    "# чтение файла с данными\n",
    "df = pd.read_csv('D:/datasets/yandex_music_project.csv')\n",
    "# получение первых 10 строк таблицы df\n",
    "df.head(10)"
   ]
  },
  {
   "cell_type": "markdown",
   "metadata": {
    "id": "oWTVX3gW_Zct"
   },
   "source": [
    "**Посмотрим общую информацию о таблице.**"
   ]
  },
  {
   "cell_type": "code",
   "execution_count": 3,
   "metadata": {
    "id": "DSf2kIb-_Zct",
    "scrolled": false
   },
   "outputs": [
    {
     "name": "stdout",
     "output_type": "stream",
     "text": [
      "<class 'pandas.core.frame.DataFrame'>\n",
      "RangeIndex: 65079 entries, 0 to 65078\n",
      "Data columns (total 7 columns):\n",
      " #   Column    Non-Null Count  Dtype \n",
      "---  ------    --------------  ----- \n",
      " 0     userID  65079 non-null  object\n",
      " 1   Track     63848 non-null  object\n",
      " 2   artist    57876 non-null  object\n",
      " 3   genre     63881 non-null  object\n",
      " 4     City    65079 non-null  object\n",
      " 5   time      65079 non-null  object\n",
      " 6   Day       65079 non-null  object\n",
      "dtypes: object(7)\n",
      "memory usage: 3.5+ MB\n"
     ]
    }
   ],
   "source": [
    "df.info()"
   ]
  },
  {
   "cell_type": "markdown",
   "metadata": {},
   "source": [
    "В таблице 7 столбцов, 65 079 строк. Тип данных во всех столбцах — `object`.\n",
    "\n",
    "\n",
    "\n",
    "**Данные таблицы:**\n",
    "\n",
    "* `userID` - идентификатор пользователя;\n",
    "* `Track` - название трека;  \n",
    "* `artist` - имя исполнителя;\n",
    "* `genre` - название жанра;\n",
    "* `City` - город пользователя;\n",
    "* `time` - время начала прослушивания;\n",
    "* `Day` - день недели.\n",
    "\n",
    "**В названиях колонок видны 3 нарушения стиля:**\n",
    "\n",
    "1. Строчные буквы сочетаются с прописными.\n",
    "\n",
    "2. Встречаются пробелы.\n",
    "\n",
    "3. Нет единого стиля snake_case в названии колонок. \n",
    "\n",
    "\n",
    "Количество значений в столбцах различается. Значит, в данных есть пропущенные значения."
   ]
  },
  {
   "cell_type": "code",
   "execution_count": 4,
   "metadata": {
    "scrolled": true
   },
   "outputs": [
    {
     "data": {
      "text/html": [
       "<div>\n",
       "<style scoped>\n",
       "    .dataframe tbody tr th:only-of-type {\n",
       "        vertical-align: middle;\n",
       "    }\n",
       "\n",
       "    .dataframe tbody tr th {\n",
       "        vertical-align: top;\n",
       "    }\n",
       "\n",
       "    .dataframe thead th {\n",
       "        text-align: right;\n",
       "    }\n",
       "</style>\n",
       "<table border=\"1\" class=\"dataframe\">\n",
       "  <thead>\n",
       "    <tr style=\"text-align: right;\">\n",
       "      <th></th>\n",
       "      <th>userID</th>\n",
       "      <th>Track</th>\n",
       "      <th>artist</th>\n",
       "      <th>genre</th>\n",
       "      <th>City</th>\n",
       "      <th>time</th>\n",
       "      <th>Day</th>\n",
       "    </tr>\n",
       "  </thead>\n",
       "  <tbody>\n",
       "    <tr>\n",
       "      <th>count</th>\n",
       "      <td>65079</td>\n",
       "      <td>63848</td>\n",
       "      <td>57876</td>\n",
       "      <td>63881</td>\n",
       "      <td>65079</td>\n",
       "      <td>65079</td>\n",
       "      <td>65079</td>\n",
       "    </tr>\n",
       "    <tr>\n",
       "      <th>unique</th>\n",
       "      <td>41748</td>\n",
       "      <td>47245</td>\n",
       "      <td>43605</td>\n",
       "      <td>289</td>\n",
       "      <td>2</td>\n",
       "      <td>20392</td>\n",
       "      <td>3</td>\n",
       "    </tr>\n",
       "    <tr>\n",
       "      <th>top</th>\n",
       "      <td>A8AE9169</td>\n",
       "      <td>Intro</td>\n",
       "      <td>Sardor Rahimxon</td>\n",
       "      <td>pop</td>\n",
       "      <td>Moscow</td>\n",
       "      <td>21:51:22</td>\n",
       "      <td>Friday</td>\n",
       "    </tr>\n",
       "    <tr>\n",
       "      <th>freq</th>\n",
       "      <td>76</td>\n",
       "      <td>34</td>\n",
       "      <td>6</td>\n",
       "      <td>8850</td>\n",
       "      <td>45360</td>\n",
       "      <td>14</td>\n",
       "      <td>23149</td>\n",
       "    </tr>\n",
       "  </tbody>\n",
       "</table>\n",
       "</div>"
      ],
      "text/plain": [
       "          userID  Track           artist  genre   City        time     Day\n",
       "count      65079  63848            57876  63881    65079     65079   65079\n",
       "unique     41748  47245            43605    289        2     20392       3\n",
       "top     A8AE9169  Intro  Sardor Rahimxon    pop   Moscow  21:51:22  Friday\n",
       "freq          76     34                6   8850    45360        14   23149"
      ]
     },
     "execution_count": 4,
     "metadata": {},
     "output_type": "execute_result"
    }
   ],
   "source": [
    "df.describe()"
   ]
  },
  {
   "cell_type": "markdown",
   "metadata": {
    "id": "TaQ2Iwbr_Zct"
   },
   "source": [
    "* Уникальных пользователей в таблице 41748, треков - 47245, уникальных исполнителей - 43605, жанров - 289.\n",
    "\n",
    "* Самый часто повторяющийся жанр - это `pop`."
   ]
  },
  {
   "cell_type": "markdown",
   "metadata": {
    "id": "MCB6-dXG_Zct"
   },
   "source": [
    "**Выводы**\n",
    "\n",
    "В каждой строке таблицы — данные о прослушанном треке. Часть колонок описывает саму композицию: название, исполнителя и жанр. Остальные данные рассказывают о пользователе: из какого он города, когда он слушал музыку. \n",
    "\n",
    "Предварительно можно утверждать, что, данных достаточно для проверки гипотез. Но встречаются пропуски в данных, а в названиях колонок — расхождения с хорошим стилем.\n",
    "\n",
    "Чтобы двигаться дальше, нужно устранить проблемы в данных."
   ]
  },
  {
   "cell_type": "markdown",
   "metadata": {
    "id": "SjYF6Ub9_Zct"
   },
   "source": [
    "## Предобработка данных\n",
    "\n",
    "**Исправим стиль в заголовках столбцов, исключим пропуски. Затем проверим данные на дубликаты.**"
   ]
  },
  {
   "cell_type": "markdown",
   "metadata": {
    "id": "dIaKXr29_Zct"
   },
   "source": [
    "### Стиль заголовков\n",
    "\n",
    "**Выведем на экран названия столбцов:**"
   ]
  },
  {
   "cell_type": "code",
   "execution_count": 5,
   "metadata": {
    "id": "oKOTdF_Q_Zct"
   },
   "outputs": [
    {
     "data": {
      "text/plain": [
       "Index(['  userID', 'Track', 'artist', 'genre', '  City  ', 'time', 'Day'], dtype='object')"
      ]
     },
     "execution_count": 5,
     "metadata": {},
     "output_type": "execute_result"
    }
   ],
   "source": [
    "# перечень названий столбцов таблицы df\n",
    "df.columns"
   ]
  },
  {
   "cell_type": "markdown",
   "metadata": {
    "id": "zj5534cv_Zct"
   },
   "source": [
    "**Приведём названия столбцов в соответствие с хорошим стилем:**\n",
    "\n",
    "* несколько слов в названии запишем в «змеином_регистре»(snake_case);\n",
    "\n",
    "* все символы сделаем строчными;\n",
    "\n",
    "* устраним пробелы."
   ]
  },
  {
   "cell_type": "code",
   "execution_count": 6,
   "metadata": {
    "id": "ISlFqs5y_Zct"
   },
   "outputs": [],
   "source": [
    "# переименование столбцов\n",
    "df = df.rename(columns={'  userID': 'user_id', \n",
    "                        'Track': 'track', \n",
    "                        '  City  ': 'city', \n",
    "                        'Day': 'day'})"
   ]
  },
  {
   "cell_type": "markdown",
   "metadata": {
    "id": "1dqbh00J_Zct"
   },
   "source": [
    "**Проверим результат.**"
   ]
  },
  {
   "cell_type": "code",
   "execution_count": 7,
   "metadata": {
    "id": "d4NOAmTW_Zct",
    "scrolled": true
   },
   "outputs": [
    {
     "data": {
      "text/plain": [
       "Index(['user_id', 'track', 'artist', 'genre', 'city', 'time', 'day'], dtype='object')"
      ]
     },
     "execution_count": 7,
     "metadata": {},
     "output_type": "execute_result"
    }
   ],
   "source": [
    "# выведем названия столбцов\n",
    "df.columns"
   ]
  },
  {
   "cell_type": "markdown",
   "metadata": {},
   "source": [
    "* Названия столбцов успешно приведены к хорошему стилю."
   ]
  },
  {
   "cell_type": "markdown",
   "metadata": {
    "id": "5ISfbcfY_Zct"
   },
   "source": [
    "### Пропуски значений\n",
    "\n",
    "**Посчитаем, сколько в таблице пропущенных значений.**"
   ]
  },
  {
   "cell_type": "code",
   "execution_count": 8,
   "metadata": {
    "id": "RskX29qr_Zct"
   },
   "outputs": [
    {
     "data": {
      "text/plain": [
       "user_id       0\n",
       "track      1231\n",
       "artist     7203\n",
       "genre      1198\n",
       "city          0\n",
       "time          0\n",
       "day           0\n",
       "dtype: int64"
      ]
     },
     "execution_count": 8,
     "metadata": {},
     "output_type": "execute_result"
    }
   ],
   "source": [
    "# подсчёт пропусков\n",
    "df.isna().sum()"
   ]
  },
  {
   "cell_type": "markdown",
   "metadata": {
    "id": "qubhgnlO_Zct"
   },
   "source": [
    "Не все пропущенные значения влияют на исследование. Так в `track` и `artist` пропуски не важны для вашей работы. Достаточно заменить их явными обозначениями.\n",
    "\n",
    "Но пропуски в `genre` могут помешать сравнению музыкальных вкусов в Москве и Санкт-Петербурге. На практике было бы правильно установить причину пропусков и восстановить данные. Такой возможности нет в учебном проекте. Придётся:\n",
    "* заполнить и эти пропуски явными обозначениями,\n",
    "* оценить, насколько они повредят расчётам. "
   ]
  },
  {
   "cell_type": "markdown",
   "metadata": {
    "id": "fSv2laPA_Zct"
   },
   "source": [
    "* Заменим пропущенные значения в столбцах `track`, `artist` и `genre` на строку `'unknown'`."
   ]
  },
  {
   "cell_type": "code",
   "execution_count": 9,
   "metadata": {
    "id": "KplB5qWs_Zct"
   },
   "outputs": [],
   "source": [
    "# сохраним в переменную columns список столбцов, в которых необходимо заполнить пропуски\n",
    "columns = ['track', 'artist', 'genre']\n",
    "\n",
    "# замена пропусков в столбцах на значение unknown\n",
    "df[columns] = df[columns].fillna('unknown')        "
   ]
  },
  {
   "cell_type": "markdown",
   "metadata": {
    "id": "Ilsm-MZo_Zct"
   },
   "source": [
    "* Убедимся, что в таблице не осталось пропусков. Для этого ещё раз посчитаем пропущенные значения."
   ]
  },
  {
   "cell_type": "code",
   "execution_count": 10,
   "metadata": {
    "id": "Tq4nYRX4_Zct",
    "scrolled": true
   },
   "outputs": [
    {
     "data": {
      "text/plain": [
       "user_id    0\n",
       "track      0\n",
       "artist     0\n",
       "genre      0\n",
       "city       0\n",
       "time       0\n",
       "day        0\n",
       "dtype: int64"
      ]
     },
     "execution_count": 10,
     "metadata": {},
     "output_type": "execute_result"
    }
   ],
   "source": [
    "# подсчёт пропусков\n",
    "df.isna().sum()"
   ]
  },
  {
   "cell_type": "markdown",
   "metadata": {},
   "source": [
    "* Пропусков больше нет."
   ]
  },
  {
   "cell_type": "markdown",
   "metadata": {
    "id": "BWKRtBJ3_Zct"
   },
   "source": [
    "### Дубликаты\n",
    "\n",
    "**Проверим таблицу на явные дубликаты.**"
   ]
  },
  {
   "cell_type": "code",
   "execution_count": 11,
   "metadata": {
    "id": "36eES_S0_Zct"
   },
   "outputs": [
    {
     "name": "stdout",
     "output_type": "stream",
     "text": [
      "Дубликатов в таблице: 3826\n"
     ]
    }
   ],
   "source": [
    "# подсчёт явных дубликатов\n",
    "print('Дубликатов в таблице:', df.duplicated().sum())"
   ]
  },
  {
   "cell_type": "markdown",
   "metadata": {
    "id": "Ot25h6XR_Zct"
   },
   "source": [
    "**Удалим явные дубликаты:**"
   ]
  },
  {
   "cell_type": "code",
   "execution_count": 12,
   "metadata": {
    "id": "exFHq6tt_Zct"
   },
   "outputs": [],
   "source": [
    "# удаление явных дубликатов (с удалением старых индексов и формированием новых)\n",
    "df = df.drop_duplicates().reset_index(drop=True)"
   ]
  },
  {
   "cell_type": "markdown",
   "metadata": {
    "id": "Im2YwBEG_Zct"
   },
   "source": [
    "**Убедимся, что явных дубликатов в таблице больше нет.**"
   ]
  },
  {
   "cell_type": "code",
   "execution_count": 13,
   "metadata": {
    "id": "-8PuNWQ0_Zct"
   },
   "outputs": [
    {
     "data": {
      "text/plain": [
       "0"
      ]
     },
     "execution_count": 13,
     "metadata": {},
     "output_type": "execute_result"
    }
   ],
   "source": [
    "# проверка на отсутствие дубликатов\n",
    "df.duplicated().sum()"
   ]
  },
  {
   "cell_type": "markdown",
   "metadata": {
    "id": "QlFBsxAr_Zct"
   },
   "source": [
    "* Теперь избавимся от неявных дубликатов в колонке `genre`. Например, название одного и того же жанра может быть записано немного по-разному. Такие ошибки тоже повлияют на результат исследования."
   ]
  },
  {
   "cell_type": "markdown",
   "metadata": {
    "id": "eSjWwsOh_Zct"
   },
   "source": [
    "**Выведем на экран список уникальных названий жанров, отсортированный в алфавитном порядке.**"
   ]
  },
  {
   "cell_type": "code",
   "execution_count": 14,
   "metadata": {
    "id": "JIUcqzZN_Zct"
   },
   "outputs": [
    {
     "data": {
      "text/plain": [
       "array(['acid', 'acoustic', 'action', 'adult', 'africa', 'afrikaans',\n",
       "       'alternative', 'alternativepunk', 'ambient', 'americana',\n",
       "       'animated', 'anime', 'arabesk', 'arabic', 'arena',\n",
       "       'argentinetango', 'art', 'audiobook', 'author', 'avantgarde',\n",
       "       'axé', 'baile', 'balkan', 'beats', 'bigroom', 'black', 'bluegrass',\n",
       "       'blues', 'bollywood', 'bossa', 'brazilian', 'breakbeat', 'breaks',\n",
       "       'broadway', 'cantautori', 'cantopop', 'canzone', 'caribbean',\n",
       "       'caucasian', 'celtic', 'chamber', 'chanson', 'children', 'chill',\n",
       "       'chinese', 'choral', 'christian', 'christmas', 'classical',\n",
       "       'classicmetal', 'club', 'colombian', 'comedy', 'conjazz',\n",
       "       'contemporary', 'country', 'cuban', 'dance', 'dancehall',\n",
       "       'dancepop', 'dark', 'death', 'deep', 'deutschrock', 'deutschspr',\n",
       "       'dirty', 'disco', 'dnb', 'documentary', 'downbeat', 'downtempo',\n",
       "       'drum', 'dub', 'dubstep', 'eastern', 'easy', 'electronic',\n",
       "       'electropop', 'emo', 'entehno', 'epicmetal', 'estrada', 'ethnic',\n",
       "       'eurofolk', 'european', 'experimental', 'extrememetal', 'fado',\n",
       "       'fairytail', 'film', 'fitness', 'flamenco', 'folk', 'folklore',\n",
       "       'folkmetal', 'folkrock', 'folktronica', 'forró', 'frankreich',\n",
       "       'französisch', 'french', 'funk', 'future', 'gangsta', 'garage',\n",
       "       'german', 'ghazal', 'gitarre', 'glitch', 'gospel', 'gothic',\n",
       "       'grime', 'grunge', 'gypsy', 'handsup', \"hard'n'heavy\", 'hardcore',\n",
       "       'hardstyle', 'hardtechno', 'hip', 'hip-hop', 'hiphop',\n",
       "       'historisch', 'holiday', 'hop', 'horror', 'house', 'hymn', 'idm',\n",
       "       'independent', 'indian', 'indie', 'indipop', 'industrial',\n",
       "       'inspirational', 'instrumental', 'international', 'irish', 'jam',\n",
       "       'japanese', 'jazz', 'jewish', 'jpop', 'jungle', 'k-pop',\n",
       "       'karadeniz', 'karaoke', 'kayokyoku', 'korean', 'laiko', 'latin',\n",
       "       'latino', 'leftfield', 'local', 'lounge', 'loungeelectronic',\n",
       "       'lovers', 'malaysian', 'mandopop', 'marschmusik', 'meditative',\n",
       "       'mediterranean', 'melodic', 'metal', 'metalcore', 'mexican',\n",
       "       'middle', 'minimal', 'miscellaneous', 'modern', 'mood', 'mpb',\n",
       "       'muslim', 'native', 'neoklassik', 'neue', 'new', 'newage',\n",
       "       'newwave', 'nu', 'nujazz', 'numetal', 'oceania', 'old', 'opera',\n",
       "       'orchestral', 'other', 'piano', 'podcasts', 'pop', 'popdance',\n",
       "       'popelectronic', 'popeurodance', 'poprussian', 'post',\n",
       "       'posthardcore', 'postrock', 'power', 'progmetal', 'progressive',\n",
       "       'psychedelic', 'punjabi', 'punk', 'quebecois', 'ragga', 'ram',\n",
       "       'rancheras', 'rap', 'rave', 'reggae', 'reggaeton', 'regional',\n",
       "       'relax', 'religious', 'retro', 'rhythm', 'rnb', 'rnr', 'rock',\n",
       "       'rockabilly', 'rockalternative', 'rockindie', 'rockother',\n",
       "       'romance', 'roots', 'ruspop', 'rusrap', 'rusrock', 'russian',\n",
       "       'salsa', 'samba', 'scenic', 'schlager', 'self', 'sertanejo',\n",
       "       'shanson', 'shoegazing', 'showtunes', 'singer', 'ska', 'skarock',\n",
       "       'slow', 'smooth', 'soft', 'soul', 'soulful', 'sound', 'soundtrack',\n",
       "       'southern', 'specialty', 'speech', 'spiritual', 'sport',\n",
       "       'stonerrock', 'surf', 'swing', 'synthpop', 'synthrock',\n",
       "       'sängerportrait', 'tango', 'tanzorchester', 'taraftar', 'tatar',\n",
       "       'tech', 'techno', 'teen', 'thrash', 'top', 'traditional',\n",
       "       'tradjazz', 'trance', 'tribal', 'trip', 'triphop', 'tropical',\n",
       "       'türk', 'türkçe', 'ukrrock', 'unknown', 'urban', 'uzbek',\n",
       "       'variété', 'vi', 'videogame', 'vocal', 'western', 'world',\n",
       "       'worldbeat', 'ïîï', 'электроника'], dtype=object)"
      ]
     },
     "execution_count": 14,
     "metadata": {},
     "output_type": "execute_result"
    }
   ],
   "source": [
    "# Сортировка названий жанров по возрастанию и вывод уникальных названий\n",
    "df['genre'].sort_values().unique()"
   ]
  },
  {
   "cell_type": "markdown",
   "metadata": {
    "id": "qej-Qmuo_Zct"
   },
   "source": [
    "Есть неявные дубликаты названия `hiphop`. Это названия с ошибками или альтернативные названия того же жанра:\n",
    "\n",
    "* *hip*,\n",
    "* *hop*,\n",
    "* *hip-hop*.\n",
    "\n",
    "Чтобы очистить от них таблицу, напишем функцию `replace_wrong_genres()` с двумя параметрами:\n",
    "\n",
    "* `wrong_genres` — список дубликатов,\n",
    "* `correct_genre` — строка с правильным значением.\n",
    "\n",
    "Функция должна исправить колонку `genre` в таблице `df`: заменить каждое значение из списка `wrong_genres` на значение из `correct_genre`."
   ]
  },
  {
   "cell_type": "code",
   "execution_count": 15,
   "metadata": {
    "id": "ErNDkmns_Zct"
   },
   "outputs": [],
   "source": [
    "# Функция для замены неявных дубликатов\n",
    "def replace_wrong_genres(wrong_genres, correct_genre):\n",
    "    for wrong_genre in wrong_genres:\n",
    "         df['genre'] = df['genre'].replace(wrong_genre, correct_genre)"
   ]
  },
  {
   "cell_type": "markdown",
   "metadata": {
    "id": "aDoBJxbA_Zct"
   },
   "source": [
    "* Вызовем `replace_wrong_genres()` и передадим ей аргументы, чтобы она устранила неявные дубликаты: вместо `hip`, `hop` и `hip-hop` на значение `hiphop`."
   ]
  },
  {
   "cell_type": "code",
   "execution_count": 16,
   "metadata": {
    "id": "YN5i2hpmSo09"
   },
   "outputs": [],
   "source": [
    "# Устранение неявных дубликатов\n",
    "duplicates = ['hip', 'hop', 'hip-hop']\n",
    "correct_genre = 'hiphop'\n",
    "replace_wrong_genres(duplicates, correct_genre)"
   ]
  },
  {
   "cell_type": "markdown",
   "metadata": {
    "id": "zQKF16_RG15m"
   },
   "source": [
    "Проверим, что заменили неправильные названия:\n",
    "\n",
    "*   hip\n",
    "*   hop\n",
    "*   hip-hop\n",
    "\n",
    "Выведем отсортированный список уникальных значений столбца `genre`:"
   ]
  },
  {
   "cell_type": "code",
   "execution_count": 17,
   "metadata": {
    "id": "wvixALnFG15m"
   },
   "outputs": [
    {
     "data": {
      "text/plain": [
       "array(['acid', 'acoustic', 'action', 'adult', 'africa', 'afrikaans',\n",
       "       'alternative', 'alternativepunk', 'ambient', 'americana',\n",
       "       'animated', 'anime', 'arabesk', 'arabic', 'arena',\n",
       "       'argentinetango', 'art', 'audiobook', 'author', 'avantgarde',\n",
       "       'axé', 'baile', 'balkan', 'beats', 'bigroom', 'black', 'bluegrass',\n",
       "       'blues', 'bollywood', 'bossa', 'brazilian', 'breakbeat', 'breaks',\n",
       "       'broadway', 'cantautori', 'cantopop', 'canzone', 'caribbean',\n",
       "       'caucasian', 'celtic', 'chamber', 'chanson', 'children', 'chill',\n",
       "       'chinese', 'choral', 'christian', 'christmas', 'classical',\n",
       "       'classicmetal', 'club', 'colombian', 'comedy', 'conjazz',\n",
       "       'contemporary', 'country', 'cuban', 'dance', 'dancehall',\n",
       "       'dancepop', 'dark', 'death', 'deep', 'deutschrock', 'deutschspr',\n",
       "       'dirty', 'disco', 'dnb', 'documentary', 'downbeat', 'downtempo',\n",
       "       'drum', 'dub', 'dubstep', 'eastern', 'easy', 'electronic',\n",
       "       'electropop', 'emo', 'entehno', 'epicmetal', 'estrada', 'ethnic',\n",
       "       'eurofolk', 'european', 'experimental', 'extrememetal', 'fado',\n",
       "       'fairytail', 'film', 'fitness', 'flamenco', 'folk', 'folklore',\n",
       "       'folkmetal', 'folkrock', 'folktronica', 'forró', 'frankreich',\n",
       "       'französisch', 'french', 'funk', 'future', 'gangsta', 'garage',\n",
       "       'german', 'ghazal', 'gitarre', 'glitch', 'gospel', 'gothic',\n",
       "       'grime', 'grunge', 'gypsy', 'handsup', \"hard'n'heavy\", 'hardcore',\n",
       "       'hardstyle', 'hardtechno', 'hiphop', 'historisch', 'holiday',\n",
       "       'horror', 'house', 'hymn', 'idm', 'independent', 'indian', 'indie',\n",
       "       'indipop', 'industrial', 'inspirational', 'instrumental',\n",
       "       'international', 'irish', 'jam', 'japanese', 'jazz', 'jewish',\n",
       "       'jpop', 'jungle', 'k-pop', 'karadeniz', 'karaoke', 'kayokyoku',\n",
       "       'korean', 'laiko', 'latin', 'latino', 'leftfield', 'local',\n",
       "       'lounge', 'loungeelectronic', 'lovers', 'malaysian', 'mandopop',\n",
       "       'marschmusik', 'meditative', 'mediterranean', 'melodic', 'metal',\n",
       "       'metalcore', 'mexican', 'middle', 'minimal', 'miscellaneous',\n",
       "       'modern', 'mood', 'mpb', 'muslim', 'native', 'neoklassik', 'neue',\n",
       "       'new', 'newage', 'newwave', 'nu', 'nujazz', 'numetal', 'oceania',\n",
       "       'old', 'opera', 'orchestral', 'other', 'piano', 'podcasts', 'pop',\n",
       "       'popdance', 'popelectronic', 'popeurodance', 'poprussian', 'post',\n",
       "       'posthardcore', 'postrock', 'power', 'progmetal', 'progressive',\n",
       "       'psychedelic', 'punjabi', 'punk', 'quebecois', 'ragga', 'ram',\n",
       "       'rancheras', 'rap', 'rave', 'reggae', 'reggaeton', 'regional',\n",
       "       'relax', 'religious', 'retro', 'rhythm', 'rnb', 'rnr', 'rock',\n",
       "       'rockabilly', 'rockalternative', 'rockindie', 'rockother',\n",
       "       'romance', 'roots', 'ruspop', 'rusrap', 'rusrock', 'russian',\n",
       "       'salsa', 'samba', 'scenic', 'schlager', 'self', 'sertanejo',\n",
       "       'shanson', 'shoegazing', 'showtunes', 'singer', 'ska', 'skarock',\n",
       "       'slow', 'smooth', 'soft', 'soul', 'soulful', 'sound', 'soundtrack',\n",
       "       'southern', 'specialty', 'speech', 'spiritual', 'sport',\n",
       "       'stonerrock', 'surf', 'swing', 'synthpop', 'synthrock',\n",
       "       'sängerportrait', 'tango', 'tanzorchester', 'taraftar', 'tatar',\n",
       "       'tech', 'techno', 'teen', 'thrash', 'top', 'traditional',\n",
       "       'tradjazz', 'trance', 'tribal', 'trip', 'triphop', 'tropical',\n",
       "       'türk', 'türkçe', 'ukrrock', 'unknown', 'urban', 'uzbek',\n",
       "       'variété', 'vi', 'videogame', 'vocal', 'western', 'world',\n",
       "       'worldbeat', 'ïîï', 'электроника'], dtype=object)"
      ]
     },
     "execution_count": 17,
     "metadata": {},
     "output_type": "execute_result"
    }
   ],
   "source": [
    "# Проверка на неявные дубликаты\n",
    "df['genre'].sort_values().unique()"
   ]
  },
  {
   "cell_type": "markdown",
   "metadata": {
    "id": "jz6a9-7HQUDd"
   },
   "source": [
    "**Выводы**\n",
    "\n",
    "Предобработка обнаружила три проблемы в данных:\n",
    "\n",
    "- нарушения в стиле заголовков,\n",
    "- пропущенные значения,\n",
    "- дубликаты — явные и неявные.\n",
    "\n",
    "Были исправлены заголовки, чтобы упростить работу с таблицей. Без дубликатов исследование станет более точным.\n",
    "\n",
    "Пропущенные значения заменены на значение `'unknown'`. Ещё предстоит увидеть, не повредят ли исследованию пропуски в колонке `genre`.\n",
    "\n",
    "Теперь можно перейти к проверке гипотез. "
   ]
  },
  {
   "cell_type": "markdown",
   "metadata": {
    "id": "WttZHXH0SqKk"
   },
   "source": [
    "## Проверка гипотез"
   ]
  },
  {
   "cell_type": "markdown",
   "metadata": {
    "id": "Im936VVi_Zcu"
   },
   "source": [
    "### Сравнение поведения пользователей двух столиц"
   ]
  },
  {
   "cell_type": "markdown",
   "metadata": {
    "id": "nwt_MuaL_Zcu"
   },
   "source": [
    "Первая гипотеза утверждает, что пользователи по-разному слушают музыку в Москве и Санкт-Петербурге. Проверим это предположение по данным о трёх днях недели — понедельнике, среде и пятнице. Для этого:\n",
    "\n",
    "* Разделим пользователей Москвы и Санкт-Петербурга.\n",
    "\n",
    "* Сравним, сколько треков послушала каждая группа пользователей в понедельник, среду и пятницу."
   ]
  },
  {
   "cell_type": "code",
   "execution_count": 18,
   "metadata": {
    "id": "0_Qs96oh_Zcu"
   },
   "outputs": [
    {
     "data": {
      "text/plain": [
       "city\n",
       "Moscow              42741\n",
       "Saint-Petersburg    18512\n",
       "Name: track, dtype: int64"
      ]
     },
     "execution_count": 18,
     "metadata": {},
     "output_type": "execute_result"
    }
   ],
   "source": [
    "# Подсчёт прослушиваний в каждом городе\n",
    "df.groupby('city')['track'].count()"
   ]
  },
  {
   "cell_type": "markdown",
   "metadata": {
    "id": "dzli3w8o_Zcu"
   },
   "source": [
    "В Москве прослушиваний больше, чем в Петербурге. Из этого не следует, что пользователи  Москвы чаще слушают музыку. Просто самих пользователей в Москве больше.\n",
    "\n",
    "Теперь сгруппируем данные по дню недели и подсчитаем прослушивания в понедельник, среду и пятницу, так как в  таблице есть информация  только о прослушиваниях за эти дни."
   ]
  },
  {
   "cell_type": "code",
   "execution_count": 19,
   "metadata": {
    "id": "uZMKjiJz_Zcu"
   },
   "outputs": [
    {
     "data": {
      "text/plain": [
       "day\n",
       "Friday       21840\n",
       "Monday       21354\n",
       "Wednesday    18059\n",
       "Name: track, dtype: int64"
      ]
     },
     "execution_count": 19,
     "metadata": {},
     "output_type": "execute_result"
    }
   ],
   "source": [
    "# подсчёт прослушиваний в каждый из трёх дней\n",
    "df.groupby('day')['track'].count()"
   ]
  },
  {
   "cell_type": "markdown",
   "metadata": {
    "id": "cC2tNrlL_Zcu"
   },
   "source": [
    "Пользователи из двух городов менее активны по средам. Но картина может измениться, если рассмотреть каждый город в отдельности."
   ]
  },
  {
   "cell_type": "markdown",
   "metadata": {
    "id": "POzs8bGa_Zcu"
   },
   "source": [
    "Создадим функцию `number_tracks()`, которая посчитает прослушивания для заданного дня и города. Ей понадобятся два параметра:\n",
    "* день недели,\n",
    "* название города.\n",
    "\n",
    "В функции сохраним в переменную строки исходной таблицы, у которых значение:\n",
    "  * в колонке `day` равно параметру `day`,\n",
    "  * в колонке `city` равно параметру `city`.\n",
    "\n",
    "Для этого применим последовательную фильтрацию с логической индексацией.\n",
    "\n",
    "Затем посчитаем значения в столбце `user_id` получившейся таблицы. Результат сохраним в новую переменную. Вернём эту переменную из функции."
   ]
  },
  {
   "cell_type": "code",
   "execution_count": 20,
   "metadata": {
    "id": "Nz3GdQB1_Zcu"
   },
   "outputs": [],
   "source": [
    "def number_tracks(day, city):\n",
    "    track_list = []\n",
    "    track_list = df[df['day'] == day]\n",
    "    track_list = track_list[track_list['city'] == city]\n",
    "    track_list_count = track_list['user_id'].count()\n",
    "    return track_list_count "
   ]
  },
  {
   "cell_type": "markdown",
   "metadata": {
    "id": "ytf7xFrFJQ2r"
   },
   "source": [
    "Вызовем `number_tracks()` шесть раз, меняя значение параметров — так, чтобы получить данные для каждого города в каждый из трёх дней."
   ]
  },
  {
   "cell_type": "code",
   "execution_count": 21,
   "metadata": {
    "id": "rJcRATNQ_Zcu"
   },
   "outputs": [
    {
     "name": "stdout",
     "output_type": "stream",
     "text": [
      "15740\n"
     ]
    }
   ],
   "source": [
    "mon_mos = number_tracks('Monday', 'Moscow') # количество прослушиваний в Москве по понедельникам\n",
    "print(mon_mos)"
   ]
  },
  {
   "cell_type": "code",
   "execution_count": 22,
   "metadata": {
    "id": "hq_ncZ5T_Zcu"
   },
   "outputs": [
    {
     "name": "stdout",
     "output_type": "stream",
     "text": [
      "5614\n"
     ]
    }
   ],
   "source": [
    "mon_spb = number_tracks('Monday', 'Saint-Petersburg') # количество прослушиваний в Санкт-Петербурге по понедельникам\n",
    "print(mon_spb)"
   ]
  },
  {
   "cell_type": "code",
   "execution_count": 23,
   "metadata": {
    "id": "_NTy2VPU_Zcu"
   },
   "outputs": [
    {
     "name": "stdout",
     "output_type": "stream",
     "text": [
      "11056\n"
     ]
    }
   ],
   "source": [
    "wed_mos = number_tracks('Wednesday', 'Moscow') # количество прослушиваний в Москве по средам\n",
    "print(wed_mos)"
   ]
  },
  {
   "cell_type": "code",
   "execution_count": 24,
   "metadata": {
    "id": "j2y3TAwo_Zcu"
   },
   "outputs": [
    {
     "name": "stdout",
     "output_type": "stream",
     "text": [
      "7003\n"
     ]
    }
   ],
   "source": [
    "wed_spb = number_tracks('Wednesday','Saint-Petersburg') # количество прослушиваний в Санкт-Петербурге по средам\n",
    "print(wed_spb)"
   ]
  },
  {
   "cell_type": "code",
   "execution_count": 25,
   "metadata": {
    "id": "vYDw5u_K_Zcu"
   },
   "outputs": [
    {
     "name": "stdout",
     "output_type": "stream",
     "text": [
      "15945\n"
     ]
    }
   ],
   "source": [
    "fri_mos = number_tracks('Friday', 'Moscow') # количество прослушиваний в Москве по пятницам\n",
    "print(fri_mos)"
   ]
  },
  {
   "cell_type": "code",
   "execution_count": 26,
   "metadata": {
    "id": "8_yzFtW3_Zcu"
   },
   "outputs": [
    {
     "name": "stdout",
     "output_type": "stream",
     "text": [
      "5895\n"
     ]
    }
   ],
   "source": [
    "fri_spb = number_tracks('Friday', 'Saint-Petersburg') # количество прослушиваний в Санкт-Петербурге по пятницам\n",
    "print(fri_spb)"
   ]
  },
  {
   "cell_type": "markdown",
   "metadata": {
    "id": "7QXffbO-_Zcu"
   },
   "source": [
    "**Создадим c помощью конструктора `pd.DataFrame` таблицу, где:**\n",
    "\n",
    "* названия колонок — `['city', 'monday', 'wednesday', 'friday']`;\n",
    "\n",
    "* данные - результаты, которые были получены с помощью функции `number_tracks`."
   ]
  },
  {
   "cell_type": "code",
   "execution_count": 27,
   "metadata": {
    "id": "APAcLpOr_Zcu"
   },
   "outputs": [
    {
     "data": {
      "text/html": [
       "<div>\n",
       "<style scoped>\n",
       "    .dataframe tbody tr th:only-of-type {\n",
       "        vertical-align: middle;\n",
       "    }\n",
       "\n",
       "    .dataframe tbody tr th {\n",
       "        vertical-align: top;\n",
       "    }\n",
       "\n",
       "    .dataframe thead th {\n",
       "        text-align: right;\n",
       "    }\n",
       "</style>\n",
       "<table border=\"1\" class=\"dataframe\">\n",
       "  <thead>\n",
       "    <tr style=\"text-align: right;\">\n",
       "      <th></th>\n",
       "      <th>city</th>\n",
       "      <th>monday</th>\n",
       "      <th>wednesday</th>\n",
       "      <th>friday</th>\n",
       "    </tr>\n",
       "  </thead>\n",
       "  <tbody>\n",
       "    <tr>\n",
       "      <th>0</th>\n",
       "      <td>Moscow</td>\n",
       "      <td>15740</td>\n",
       "      <td>11056</td>\n",
       "      <td>15945</td>\n",
       "    </tr>\n",
       "    <tr>\n",
       "      <th>1</th>\n",
       "      <td>Saint-Petersburg</td>\n",
       "      <td>5614</td>\n",
       "      <td>7003</td>\n",
       "      <td>5895</td>\n",
       "    </tr>\n",
       "  </tbody>\n",
       "</table>\n",
       "</div>"
      ],
      "text/plain": [
       "               city  monday  wednesday  friday\n",
       "0            Moscow   15740      11056   15945\n",
       "1  Saint-Petersburg    5614       7003    5895"
      ]
     },
     "metadata": {},
     "output_type": "display_data"
    }
   ],
   "source": [
    "# Таблица с результатами\n",
    "data = [['Moscow', mon_mos, wed_mos, fri_mos], ['Saint-Petersburg', mon_spb, wed_spb, fri_spb]]\n",
    "\n",
    "columns = ['city', 'monday', 'wednesday', 'friday']\n",
    "\n",
    "table = pd.DataFrame(data=data, columns=columns)\n",
    "\n",
    "display(table)"
   ]
  },
  {
   "cell_type": "markdown",
   "metadata": {
    "id": "-EgPIHYu_Zcu"
   },
   "source": [
    "**Выводы**\n",
    "\n",
    "Данные показывают разницу поведения пользователей:\n",
    "\n",
    "- В Москве пик прослушиваний приходится на понедельник и пятницу, а в среду заметен спад.\n",
    "- В Петербурге, наоборот, больше слушают музыку по средам. Активность в понедельник и пятницу здесь почти в равной мере уступает среде.\n",
    "\n",
    "Значит, данные говорят в пользу первой гипотезы."
   ]
  },
  {
   "cell_type": "markdown",
   "metadata": {
    "id": "atZAxtq4_Zcu"
   },
   "source": [
    "### Музыка в начале и в конце недели"
   ]
  },
  {
   "cell_type": "markdown",
   "metadata": {
    "id": "eXrQqXFH_Zcu"
   },
   "source": [
    "Согласно второй гипотезе, утром в понедельник в Москве преобладают одни жанры, а в Петербурге — другие. Так же и вечером пятницы преобладают разные жанры — в зависимости от города."
   ]
  },
  {
   "cell_type": "markdown",
   "metadata": {
    "id": "S8UcW6Hw_Zcu"
   },
   "source": [
    "Сохраним таблицы с данными в две переменные:\n",
    "* по Москве — в `moscow`;\n",
    "* по Санкт-Петербургу — в `spb`."
   ]
  },
  {
   "cell_type": "code",
   "execution_count": 28,
   "metadata": {
    "id": "qeaFfM_P_Zcu"
   },
   "outputs": [
    {
     "data": {
      "text/html": [
       "<div>\n",
       "<style scoped>\n",
       "    .dataframe tbody tr th:only-of-type {\n",
       "        vertical-align: middle;\n",
       "    }\n",
       "\n",
       "    .dataframe tbody tr th {\n",
       "        vertical-align: top;\n",
       "    }\n",
       "\n",
       "    .dataframe thead th {\n",
       "        text-align: right;\n",
       "    }\n",
       "</style>\n",
       "<table border=\"1\" class=\"dataframe\">\n",
       "  <thead>\n",
       "    <tr style=\"text-align: right;\">\n",
       "      <th></th>\n",
       "      <th>user_id</th>\n",
       "      <th>track</th>\n",
       "      <th>artist</th>\n",
       "      <th>genre</th>\n",
       "      <th>city</th>\n",
       "      <th>time</th>\n",
       "      <th>day</th>\n",
       "    </tr>\n",
       "  </thead>\n",
       "  <tbody>\n",
       "    <tr>\n",
       "      <th>1</th>\n",
       "      <td>55204538</td>\n",
       "      <td>Delayed Because of Accident</td>\n",
       "      <td>Andreas Rönnberg</td>\n",
       "      <td>rock</td>\n",
       "      <td>Moscow</td>\n",
       "      <td>14:07:09</td>\n",
       "      <td>Friday</td>\n",
       "    </tr>\n",
       "    <tr>\n",
       "      <th>4</th>\n",
       "      <td>E2DC1FAE</td>\n",
       "      <td>Soul People</td>\n",
       "      <td>Space Echo</td>\n",
       "      <td>dance</td>\n",
       "      <td>Moscow</td>\n",
       "      <td>08:34:34</td>\n",
       "      <td>Monday</td>\n",
       "    </tr>\n",
       "    <tr>\n",
       "      <th>6</th>\n",
       "      <td>4CB90AA5</td>\n",
       "      <td>True</td>\n",
       "      <td>Roman Messer</td>\n",
       "      <td>dance</td>\n",
       "      <td>Moscow</td>\n",
       "      <td>13:00:07</td>\n",
       "      <td>Wednesday</td>\n",
       "    </tr>\n",
       "    <tr>\n",
       "      <th>7</th>\n",
       "      <td>F03E1C1F</td>\n",
       "      <td>Feeling This Way</td>\n",
       "      <td>Polina Griffith</td>\n",
       "      <td>dance</td>\n",
       "      <td>Moscow</td>\n",
       "      <td>20:47:49</td>\n",
       "      <td>Wednesday</td>\n",
       "    </tr>\n",
       "    <tr>\n",
       "      <th>8</th>\n",
       "      <td>8FA1D3BE</td>\n",
       "      <td>И вновь продолжается бой</td>\n",
       "      <td>unknown</td>\n",
       "      <td>ruspop</td>\n",
       "      <td>Moscow</td>\n",
       "      <td>09:17:40</td>\n",
       "      <td>Friday</td>\n",
       "    </tr>\n",
       "    <tr>\n",
       "      <th>10</th>\n",
       "      <td>BC5A3A29</td>\n",
       "      <td>Gool la Mita</td>\n",
       "      <td>Shireen Abdul Wahab</td>\n",
       "      <td>world</td>\n",
       "      <td>Moscow</td>\n",
       "      <td>14:08:42</td>\n",
       "      <td>Monday</td>\n",
       "    </tr>\n",
       "    <tr>\n",
       "      <th>11</th>\n",
       "      <td>8B5192C0</td>\n",
       "      <td>Is There Anybody Out There? (Panoramic Paralys...</td>\n",
       "      <td>Pink Floyd Floydhead</td>\n",
       "      <td>electronic</td>\n",
       "      <td>Moscow</td>\n",
       "      <td>13:47:49</td>\n",
       "      <td>Monday</td>\n",
       "    </tr>\n",
       "    <tr>\n",
       "      <th>12</th>\n",
       "      <td>FF3FD2BD</td>\n",
       "      <td>Мина син генэ кирэк</td>\n",
       "      <td>Ильдар Хакимов</td>\n",
       "      <td>pop</td>\n",
       "      <td>Moscow</td>\n",
       "      <td>09:19:49</td>\n",
       "      <td>Monday</td>\n",
       "    </tr>\n",
       "    <tr>\n",
       "      <th>13</th>\n",
       "      <td>CC782B0F</td>\n",
       "      <td>After School Special</td>\n",
       "      <td>Detroit Grand Pubahs</td>\n",
       "      <td>dance</td>\n",
       "      <td>Moscow</td>\n",
       "      <td>20:04:12</td>\n",
       "      <td>Friday</td>\n",
       "    </tr>\n",
       "    <tr>\n",
       "      <th>15</th>\n",
       "      <td>E3C5756F</td>\n",
       "      <td>unknown</td>\n",
       "      <td>unknown</td>\n",
       "      <td>unknown</td>\n",
       "      <td>Moscow</td>\n",
       "      <td>09:24:51</td>\n",
       "      <td>Monday</td>\n",
       "    </tr>\n",
       "  </tbody>\n",
       "</table>\n",
       "</div>"
      ],
      "text/plain": [
       "     user_id                                              track  \\\n",
       "1   55204538                        Delayed Because of Accident   \n",
       "4   E2DC1FAE                                        Soul People   \n",
       "6   4CB90AA5                                               True   \n",
       "7   F03E1C1F                                   Feeling This Way   \n",
       "8   8FA1D3BE                           И вновь продолжается бой   \n",
       "10  BC5A3A29                                       Gool la Mita   \n",
       "11  8B5192C0  Is There Anybody Out There? (Panoramic Paralys...   \n",
       "12  FF3FD2BD                                Мина син генэ кирэк   \n",
       "13  CC782B0F                               After School Special   \n",
       "15  E3C5756F                                            unknown   \n",
       "\n",
       "                  artist       genre    city      time        day  \n",
       "1       Andreas Rönnberg        rock  Moscow  14:07:09     Friday  \n",
       "4             Space Echo       dance  Moscow  08:34:34     Monday  \n",
       "6           Roman Messer       dance  Moscow  13:00:07  Wednesday  \n",
       "7        Polina Griffith       dance  Moscow  20:47:49  Wednesday  \n",
       "8                unknown      ruspop  Moscow  09:17:40     Friday  \n",
       "10   Shireen Abdul Wahab       world  Moscow  14:08:42     Monday  \n",
       "11  Pink Floyd Floydhead  electronic  Moscow  13:47:49     Monday  \n",
       "12        Ильдар Хакимов         pop  Moscow  09:19:49     Monday  \n",
       "13  Detroit Grand Pubahs       dance  Moscow  20:04:12     Friday  \n",
       "15               unknown     unknown  Moscow  09:24:51     Monday  "
      ]
     },
     "execution_count": 28,
     "metadata": {},
     "output_type": "execute_result"
    }
   ],
   "source": [
    "moscow = df[df['city'] == 'Moscow'] \n",
    "moscow.head(10)"
   ]
  },
  {
   "cell_type": "code",
   "execution_count": 29,
   "metadata": {
    "id": "ORaVRKto_Zcu"
   },
   "outputs": [
    {
     "data": {
      "text/html": [
       "<div>\n",
       "<style scoped>\n",
       "    .dataframe tbody tr th:only-of-type {\n",
       "        vertical-align: middle;\n",
       "    }\n",
       "\n",
       "    .dataframe tbody tr th {\n",
       "        vertical-align: top;\n",
       "    }\n",
       "\n",
       "    .dataframe thead th {\n",
       "        text-align: right;\n",
       "    }\n",
       "</style>\n",
       "<table border=\"1\" class=\"dataframe\">\n",
       "  <thead>\n",
       "    <tr style=\"text-align: right;\">\n",
       "      <th></th>\n",
       "      <th>user_id</th>\n",
       "      <th>track</th>\n",
       "      <th>artist</th>\n",
       "      <th>genre</th>\n",
       "      <th>city</th>\n",
       "      <th>time</th>\n",
       "      <th>day</th>\n",
       "    </tr>\n",
       "  </thead>\n",
       "  <tbody>\n",
       "    <tr>\n",
       "      <th>0</th>\n",
       "      <td>FFB692EC</td>\n",
       "      <td>Kamigata To Boots</td>\n",
       "      <td>The Mass Missile</td>\n",
       "      <td>rock</td>\n",
       "      <td>Saint-Petersburg</td>\n",
       "      <td>20:28:33</td>\n",
       "      <td>Wednesday</td>\n",
       "    </tr>\n",
       "    <tr>\n",
       "      <th>2</th>\n",
       "      <td>20EC38</td>\n",
       "      <td>Funiculì funiculà</td>\n",
       "      <td>Mario Lanza</td>\n",
       "      <td>pop</td>\n",
       "      <td>Saint-Petersburg</td>\n",
       "      <td>20:58:07</td>\n",
       "      <td>Wednesday</td>\n",
       "    </tr>\n",
       "    <tr>\n",
       "      <th>3</th>\n",
       "      <td>A3DD03C9</td>\n",
       "      <td>Dragons in the Sunset</td>\n",
       "      <td>Fire + Ice</td>\n",
       "      <td>folk</td>\n",
       "      <td>Saint-Petersburg</td>\n",
       "      <td>08:37:09</td>\n",
       "      <td>Monday</td>\n",
       "    </tr>\n",
       "    <tr>\n",
       "      <th>5</th>\n",
       "      <td>842029A1</td>\n",
       "      <td>Преданная</td>\n",
       "      <td>IMPERVTOR</td>\n",
       "      <td>rusrap</td>\n",
       "      <td>Saint-Petersburg</td>\n",
       "      <td>13:09:41</td>\n",
       "      <td>Friday</td>\n",
       "    </tr>\n",
       "    <tr>\n",
       "      <th>9</th>\n",
       "      <td>E772D5C0</td>\n",
       "      <td>Pessimist</td>\n",
       "      <td>unknown</td>\n",
       "      <td>dance</td>\n",
       "      <td>Saint-Petersburg</td>\n",
       "      <td>21:20:49</td>\n",
       "      <td>Wednesday</td>\n",
       "    </tr>\n",
       "    <tr>\n",
       "      <th>14</th>\n",
       "      <td>94EB25C2</td>\n",
       "      <td>Make Love Whenever You Can</td>\n",
       "      <td>Arabesque</td>\n",
       "      <td>pop</td>\n",
       "      <td>Saint-Petersburg</td>\n",
       "      <td>13:22:08</td>\n",
       "      <td>Wednesday</td>\n",
       "    </tr>\n",
       "    <tr>\n",
       "      <th>16</th>\n",
       "      <td>81D05C7D</td>\n",
       "      <td>SLAVES OF FEAR</td>\n",
       "      <td>HEALTH</td>\n",
       "      <td>alternative</td>\n",
       "      <td>Saint-Petersburg</td>\n",
       "      <td>20:54:48</td>\n",
       "      <td>Monday</td>\n",
       "    </tr>\n",
       "    <tr>\n",
       "      <th>17</th>\n",
       "      <td>39DE290E</td>\n",
       "      <td>Веснянка</td>\n",
       "      <td>Веданъ Колодъ</td>\n",
       "      <td>folk</td>\n",
       "      <td>Saint-Petersburg</td>\n",
       "      <td>14:36:47</td>\n",
       "      <td>Monday</td>\n",
       "    </tr>\n",
       "    <tr>\n",
       "      <th>18</th>\n",
       "      <td>58AE138A</td>\n",
       "      <td>Pat-a-Cake</td>\n",
       "      <td>Mother Goose Club</td>\n",
       "      <td>children</td>\n",
       "      <td>Saint-Petersburg</td>\n",
       "      <td>20:04:56</td>\n",
       "      <td>Monday</td>\n",
       "    </tr>\n",
       "    <tr>\n",
       "      <th>22</th>\n",
       "      <td>B8E29C9C</td>\n",
       "      <td>Самота</td>\n",
       "      <td>unknown</td>\n",
       "      <td>folk</td>\n",
       "      <td>Saint-Petersburg</td>\n",
       "      <td>20:20:49</td>\n",
       "      <td>Wednesday</td>\n",
       "    </tr>\n",
       "  </tbody>\n",
       "</table>\n",
       "</div>"
      ],
      "text/plain": [
       "     user_id                       track             artist        genre  \\\n",
       "0   FFB692EC           Kamigata To Boots   The Mass Missile         rock   \n",
       "2     20EC38           Funiculì funiculà        Mario Lanza          pop   \n",
       "3   A3DD03C9       Dragons in the Sunset         Fire + Ice         folk   \n",
       "5   842029A1                   Преданная          IMPERVTOR       rusrap   \n",
       "9   E772D5C0                   Pessimist            unknown        dance   \n",
       "14  94EB25C2  Make Love Whenever You Can          Arabesque          pop   \n",
       "16  81D05C7D              SLAVES OF FEAR             HEALTH  alternative   \n",
       "17  39DE290E                    Веснянка      Веданъ Колодъ         folk   \n",
       "18  58AE138A                  Pat-a-Cake  Mother Goose Club     children   \n",
       "22  B8E29C9C                      Самота            unknown         folk   \n",
       "\n",
       "                city      time        day  \n",
       "0   Saint-Petersburg  20:28:33  Wednesday  \n",
       "2   Saint-Petersburg  20:58:07  Wednesday  \n",
       "3   Saint-Petersburg  08:37:09     Monday  \n",
       "5   Saint-Petersburg  13:09:41     Friday  \n",
       "9   Saint-Petersburg  21:20:49  Wednesday  \n",
       "14  Saint-Petersburg  13:22:08  Wednesday  \n",
       "16  Saint-Petersburg  20:54:48     Monday  \n",
       "17  Saint-Petersburg  14:36:47     Monday  \n",
       "18  Saint-Petersburg  20:04:56     Monday  \n",
       "22  Saint-Petersburg  20:20:49  Wednesday  "
      ]
     },
     "execution_count": 29,
     "metadata": {},
     "output_type": "execute_result"
    }
   ],
   "source": [
    "spb = df[df['city'] == 'Saint-Petersburg']\n",
    "spb.head(10)"
   ]
  },
  {
   "cell_type": "markdown",
   "metadata": {
    "id": "MEJV-CX2_Zcu"
   },
   "source": [
    "Создадим функцию `genre_weekday()` с четырьмя параметрами:\n",
    "\n",
    "* таблица (датафрейм) с данными,\n",
    "* день недели,\n",
    "* начальная временная метка в формате 'hh:mm', \n",
    "* последняя временная метка в формате 'hh:mm'.\n",
    "\n",
    "Функция должна вернуть информацию о топ-10 жанров тех треков, которые прослушивали в указанный день, в промежутке между двумя отметками времени."
   ]
  },
  {
   "cell_type": "code",
   "execution_count": 30,
   "metadata": {
    "id": "laJT9BYl_Zcu"
   },
   "outputs": [],
   "source": [
    "def genre_weekday(table, day, time1, time2): \n",
    "    genre_df = table[table['day'] == day]\n",
    "    genre_df = genre_df[genre_df['time'] > time1]\n",
    "    genre_df = genre_df[genre_df['time'] < time2]\n",
    "    \n",
    "    genre_df_count = genre_df.groupby('genre')['user_id'].count()\n",
    "    \n",
    "    genre_df_sorted = genre_df_count.sort_values(ascending=False)\n",
    "    \n",
    "    return genre_df_sorted.head(10)\n",
    "\n",
    "\n",
    "# Объявление функции genre_weekday() с параметрами table, day, time1, time2,\n",
    "    # которая возвращает информацию о самых популярных жанрах в указанный день в\n",
    "# заданное время:\n",
    "# 1) в переменную genre_df сохраняются те строки переданного датафрейма table, для\n",
    "#    которых одновременно:\n",
    "#    - значение в столбце day равно значению аргумента day\n",
    "#    - значение в столбце time больше значения аргумента time1\n",
    "#    - значение в столбце time меньше значения аргумента time2\n",
    "#    Используйте последовательную фильтрацию с помощью логической индексации.\n",
    "# 2) сгруппировать датафрейм genre_df по столбцу genre, взять один из его\n",
    "#    столбцов и посчитать методом count() количество записей для каждого из\n",
    "#    присутствующих жанров, получившийся Series записать в переменную\n",
    "#    genre_df_count\n",
    "# 3) отсортировать genre_df_count по убыванию встречаемости и сохранить\n",
    "#    в переменную genre_df_sorted\n",
    "# 4) вернуть Series из 10 первых значений genre_df_sorted, это будут топ-10\n",
    "#    популярных жанров (в указанный день, в заданное время)"
   ]
  },
  {
   "cell_type": "markdown",
   "metadata": {
    "id": "la2s2_PF_Zcu"
   },
   "source": [
    "Cравним результаты функции `genre_weekday()` для Москвы и Санкт-Петербурга в понедельник утром (с 7:00 до 11:00) и в пятницу вечером (с 17:00 до 23:00):"
   ]
  },
  {
   "cell_type": "code",
   "execution_count": 31,
   "metadata": {
    "id": "yz7itPUQ_Zcu"
   },
   "outputs": [
    {
     "data": {
      "text/plain": [
       "genre\n",
       "pop            781\n",
       "dance          549\n",
       "electronic     480\n",
       "rock           474\n",
       "hiphop         286\n",
       "ruspop         186\n",
       "world          181\n",
       "rusrap         175\n",
       "alternative    164\n",
       "unknown        161\n",
       "Name: user_id, dtype: int64"
      ]
     },
     "execution_count": 31,
     "metadata": {},
     "output_type": "execute_result"
    }
   ],
   "source": [
    "genre_weekday(moscow, 'Monday', '07:00', '11:00') # вызов функции для утра понедельника в Москве (вместо df — таблица moscow)\n",
    "# объекты, хранящие время, являются строками и сравниваются как строки"
   ]
  },
  {
   "cell_type": "code",
   "execution_count": 32,
   "metadata": {
    "id": "kwUcHPdy_Zcu"
   },
   "outputs": [
    {
     "data": {
      "text/plain": [
       "genre\n",
       "pop            218\n",
       "dance          182\n",
       "rock           162\n",
       "electronic     147\n",
       "hiphop          80\n",
       "ruspop          64\n",
       "alternative     58\n",
       "rusrap          55\n",
       "jazz            44\n",
       "classical       40\n",
       "Name: user_id, dtype: int64"
      ]
     },
     "execution_count": 32,
     "metadata": {},
     "output_type": "execute_result"
    }
   ],
   "source": [
    "genre_weekday(spb, 'Monday', '07:00', '11:00') # вызов функции для утра понедельника в Петербурге (вместо df — таблица spb)"
   ]
  },
  {
   "cell_type": "code",
   "execution_count": 33,
   "metadata": {
    "id": "EzXVRE1o_Zcu"
   },
   "outputs": [
    {
     "data": {
      "text/plain": [
       "genre\n",
       "pop            713\n",
       "rock           517\n",
       "dance          495\n",
       "electronic     482\n",
       "hiphop         273\n",
       "world          208\n",
       "ruspop         170\n",
       "alternative    163\n",
       "classical      163\n",
       "rusrap         142\n",
       "Name: user_id, dtype: int64"
      ]
     },
     "execution_count": 33,
     "metadata": {},
     "output_type": "execute_result"
    }
   ],
   "source": [
    "genre_weekday(moscow, 'Friday', '17:00', '23:00') # вызов функции для вечера пятницы в Москве"
   ]
  },
  {
   "cell_type": "code",
   "execution_count": 34,
   "metadata": {
    "id": "JZaEKu5v_Zcu"
   },
   "outputs": [
    {
     "data": {
      "text/plain": [
       "genre\n",
       "pop            256\n",
       "electronic     216\n",
       "rock           216\n",
       "dance          210\n",
       "hiphop          97\n",
       "alternative     63\n",
       "jazz            61\n",
       "classical       60\n",
       "rusrap          59\n",
       "world           54\n",
       "Name: user_id, dtype: int64"
      ]
     },
     "execution_count": 34,
     "metadata": {},
     "output_type": "execute_result"
    }
   ],
   "source": [
    "genre_weekday(spb, 'Friday', '17:00', '23:00') # вызов функции для вечера пятницы в Петербурге"
   ]
  },
  {
   "cell_type": "markdown",
   "metadata": {
    "id": "wrCe4MNX_Zcu"
   },
   "source": [
    "**Выводы**\n",
    "\n",
    "Если сравнить топ-10 жанров в понедельник утром, можно сделать такие выводы:\n",
    "\n",
    "1. В Москве и Петербурге слушают похожую музыку. Единственное отличие — в московский рейтинг вошёл жанр “world”, а в петербургский — джаз и классика.\n",
    "\n",
    "2. В Москве пропущенных значений оказалось так много, что значение `'unknown'` заняло десятое место среди самых популярных жанров. Значит, пропущенные значения занимают существенную долю в данных и угрожают достоверности исследования.\n",
    "\n",
    "Вечер пятницы не меняет эту картину. Некоторые жанры поднимаются немного выше, другие спускаются, но в целом топ-10 остаётся тем же самым.\n",
    "\n",
    "Таким образом, вторая гипотеза подтвердилась лишь частично:\n",
    "* Пользователи слушают похожую музыку в начале недели и в конце.\n",
    "* Разница между Москвой и Петербургом не слишком выражена. В Москве чаще слушают русскую популярную музыку, в Петербурге — джаз.\n",
    "\n",
    "Однако пропуски в данных ставят под сомнение этот результат. В Москве их так много, что рейтинг топ-10 мог бы выглядеть иначе, если бы не утерянные  данные о жанрах."
   ]
  },
  {
   "cell_type": "markdown",
   "metadata": {
    "id": "JolODAqr_Zcu"
   },
   "source": [
    "### Жанровые предпочтения в Москве и Петербурге\n",
    "\n",
    "Гипотеза: Петербург — столица рэпа, музыку этого жанра там слушают чаще, чем в Москве.  А Москва — город контрастов, в котором, тем не менее, преобладает поп-музыка."
   ]
  },
  {
   "cell_type": "markdown",
   "metadata": {
    "id": "DlegSvaT_Zcu"
   },
   "source": [
    "Сгруппируем таблицу `moscow` по жанру и посчитаем прослушивания треков каждого жанра методом `count()`. Затем отсортируем результат в порядке убывания и сохраним его в таблице `moscow_genres`."
   ]
  },
  {
   "cell_type": "code",
   "execution_count": 43,
   "metadata": {
    "id": "r19lIPke_Zcu"
   },
   "outputs": [
    {
     "data": {
      "text/plain": [
       "genre\n",
       "pop            5892\n",
       "dance          4435\n",
       "rock           3965\n",
       "electronic     3786\n",
       "hiphop         2096\n",
       "classical      1616\n",
       "world          1432\n",
       "alternative    1379\n",
       "ruspop         1372\n",
       "rusrap         1161\n",
       "Name: track, dtype: int64"
      ]
     },
     "execution_count": 43,
     "metadata": {},
     "output_type": "execute_result"
    }
   ],
   "source": [
    "moscow_genres = moscow.groupby('genre')['track'].count().sort_values(ascending=False)\n",
    "moscow_genres[:10]"
   ]
  },
  {
   "cell_type": "markdown",
   "metadata": {
    "id": "cnPG2vnN_Zcv"
   },
   "source": [
    "Теперь повторим то же и для Петербурга.\n",
    "\n",
    "Сгруппируем таблицу `spb` по жанру. Посчитаем прослушивания треков каждого жанра. Результат отсортируем в порядке убывания и сохраним в таблице `spb_genres`:"
   ]
  },
  {
   "cell_type": "code",
   "execution_count": 44,
   "metadata": {
    "id": "gluLIpE7_Zcv"
   },
   "outputs": [
    {
     "data": {
      "text/plain": [
       "genre\n",
       "pop            2431\n",
       "dance          1932\n",
       "rock           1879\n",
       "electronic     1736\n",
       "hiphop          960\n",
       "alternative     649\n",
       "classical       646\n",
       "rusrap          564\n",
       "ruspop          538\n",
       "world           515\n",
       "Name: track, dtype: int64"
      ]
     },
     "execution_count": 44,
     "metadata": {},
     "output_type": "execute_result"
    }
   ],
   "source": [
    "spb_genres = spb.groupby('genre')['track'].count().sort_values(ascending=False)\n",
    "spb_genres[:10]"
   ]
  },
  {
   "cell_type": "markdown",
   "metadata": {
    "id": "RY51YJYu_Zcv"
   },
   "source": [
    "**Выводы**"
   ]
  },
  {
   "cell_type": "markdown",
   "metadata": {
    "id": "nVhnJEm__Zcv"
   },
   "source": [
    "Гипотеза частично подтвердилась:\n",
    "* Поп-музыка — самый популярный жанр в Москве, как и предполагала гипотеза. Более того, в топ-10 жанров встречается близкий жанр — русская популярная музыка.\n",
    "* Вопреки ожиданиям, рэп одинаково популярен в Москве и Петербурге. \n"
   ]
  },
  {
   "cell_type": "markdown",
   "metadata": {
    "id": "ykKQ0N65_Zcv"
   },
   "source": [
    "## Итоги исследования"
   ]
  },
  {
   "cell_type": "markdown",
   "metadata": {
    "id": "tjUwbHb3_Zcv"
   },
   "source": [
    "Были проверены 3 гипотезы и установлено:\n",
    "\n",
    "1. День недели по-разному влияет на активность пользователей в Москве и Петербурге. \n",
    "\n",
    "Первая гипотеза полностью подтвердилась.\n",
    "\n",
    "2. Музыкальные предпочтения не сильно меняются в течение недели — будь то Москва или Петербург. Небольшие различия заметны в начале недели, по понедельникам:\n",
    "* в Москве слушают музыку жанра “world”,\n",
    "* в Петербурге — джаз и классику.\n",
    "\n",
    "Таким образом, вторая гипотеза подтвердилась лишь отчасти. Этот результат мог оказаться иным, если бы не пропуски в данных.\n",
    "\n",
    "3. Во вкусах пользователей Москвы и Петербурга больше общего чем различий. Вопреки ожиданиям, предпочтения жанров в Петербурге напоминают московские.\n",
    "\n",
    "Третья гипотеза не подтвердилась. Если различия в предпочтениях и существуют, на основной массе пользователей они незаметны."
   ]
  }
 ],
 "metadata": {
  "ExecuteTimeLog": [
   {
    "duration": 224,
    "start_time": "2022-01-26T07:44:44.834Z"
   },
   {
    "duration": 197,
    "start_time": "2022-01-26T07:44:55.220Z"
   },
   {
    "duration": 185,
    "start_time": "2022-01-26T07:45:25.530Z"
   },
   {
    "duration": 62,
    "start_time": "2022-01-26T07:45:31.449Z"
   },
   {
    "duration": 206,
    "start_time": "2022-01-26T07:45:44.045Z"
   },
   {
    "duration": 196,
    "start_time": "2022-01-26T07:45:59.363Z"
   },
   {
    "duration": 190,
    "start_time": "2022-01-26T07:46:15.853Z"
   },
   {
    "duration": 187,
    "start_time": "2022-01-26T07:46:58.527Z"
   },
   {
    "duration": 191,
    "start_time": "2022-01-26T07:57:47.095Z"
   },
   {
    "duration": 178,
    "start_time": "2022-01-26T07:58:06.601Z"
   },
   {
    "duration": 197,
    "start_time": "2022-01-26T07:58:33.587Z"
   },
   {
    "duration": 238,
    "start_time": "2022-01-26T07:59:07.511Z"
   },
   {
    "duration": 189,
    "start_time": "2022-01-26T07:59:12.165Z"
   },
   {
    "duration": 198,
    "start_time": "2022-01-26T08:00:01.734Z"
   },
   {
    "duration": 188,
    "start_time": "2022-01-26T08:01:07.066Z"
   },
   {
    "duration": 615,
    "start_time": "2022-01-26T08:01:12.071Z"
   },
   {
    "duration": 232,
    "start_time": "2022-01-26T08:02:47.624Z"
   },
   {
    "duration": 569,
    "start_time": "2022-01-26T08:04:20.708Z"
   },
   {
    "duration": 127,
    "start_time": "2022-01-26T08:04:25.924Z"
   },
   {
    "duration": 15,
    "start_time": "2022-01-26T08:04:33.576Z"
   },
   {
    "duration": 23,
    "start_time": "2022-01-26T08:05:09.173Z"
   },
   {
    "duration": 211,
    "start_time": "2022-01-26T08:18:04.460Z"
   },
   {
    "duration": 198,
    "start_time": "2022-01-26T08:18:24.091Z"
   },
   {
    "duration": 4,
    "start_time": "2022-01-26T08:19:06.656Z"
   },
   {
    "duration": 12,
    "start_time": "2022-01-26T08:43:22.200Z"
   },
   {
    "duration": 65,
    "start_time": "2022-01-26T08:43:40.751Z"
   },
   {
    "duration": 19,
    "start_time": "2022-01-26T08:43:55.808Z"
   },
   {
    "duration": 13,
    "start_time": "2022-01-26T08:43:58.250Z"
   },
   {
    "duration": 22,
    "start_time": "2022-01-26T08:44:43.793Z"
   },
   {
    "duration": 18,
    "start_time": "2022-01-26T08:45:57.198Z"
   },
   {
    "duration": 24,
    "start_time": "2022-01-26T08:46:01.251Z"
   },
   {
    "duration": 22,
    "start_time": "2022-01-26T08:54:50.635Z"
   },
   {
    "duration": 19,
    "start_time": "2022-01-26T09:05:48.574Z"
   },
   {
    "duration": 22,
    "start_time": "2022-01-26T09:06:09.427Z"
   },
   {
    "duration": 55,
    "start_time": "2022-01-26T09:07:06.271Z"
   },
   {
    "duration": 61,
    "start_time": "2022-01-26T09:09:00.592Z"
   },
   {
    "duration": 48,
    "start_time": "2022-01-26T09:09:12.653Z"
   },
   {
    "duration": 7,
    "start_time": "2022-01-26T09:12:20.923Z"
   },
   {
    "duration": 254,
    "start_time": "2022-01-26T09:15:56.839Z"
   },
   {
    "duration": 210,
    "start_time": "2022-01-26T09:17:26.153Z"
   },
   {
    "duration": 8,
    "start_time": "2022-01-26T09:17:39.038Z"
   },
   {
    "duration": 228,
    "start_time": "2022-01-26T09:18:06.232Z"
   },
   {
    "duration": 199,
    "start_time": "2022-01-26T09:18:20.869Z"
   },
   {
    "duration": 312,
    "start_time": "2022-01-26T09:18:42.600Z"
   },
   {
    "duration": 6,
    "start_time": "2022-01-26T09:32:46.709Z"
   },
   {
    "duration": 6,
    "start_time": "2022-01-26T09:33:04.647Z"
   },
   {
    "duration": 6,
    "start_time": "2022-01-26T09:33:07.686Z"
   },
   {
    "duration": 7,
    "start_time": "2022-01-26T09:33:13.743Z"
   },
   {
    "duration": 5,
    "start_time": "2022-01-26T09:33:17.205Z"
   },
   {
    "duration": 7,
    "start_time": "2022-01-26T09:33:22.388Z"
   },
   {
    "duration": 5,
    "start_time": "2022-01-26T09:38:23.601Z"
   },
   {
    "duration": 5,
    "start_time": "2022-01-26T09:38:27.120Z"
   },
   {
    "duration": 5,
    "start_time": "2022-01-26T09:39:15.808Z"
   },
   {
    "duration": 197,
    "start_time": "2022-01-26T10:14:24.670Z"
   },
   {
    "duration": 194,
    "start_time": "2022-01-26T10:14:39.937Z"
   },
   {
    "duration": 202,
    "start_time": "2022-01-26T10:15:24.369Z"
   },
   {
    "duration": 203,
    "start_time": "2022-01-26T10:16:33.489Z"
   },
   {
    "duration": 184,
    "start_time": "2022-01-26T10:17:03.547Z"
   },
   {
    "duration": 5,
    "start_time": "2022-01-26T10:19:15.808Z"
   },
   {
    "duration": 5,
    "start_time": "2022-01-26T10:19:19.916Z"
   },
   {
    "duration": 271,
    "start_time": "2022-01-26T10:27:19.761Z"
   },
   {
    "duration": 183,
    "start_time": "2022-01-26T10:27:41.714Z"
   },
   {
    "duration": 204,
    "start_time": "2022-01-26T10:27:53.282Z"
   },
   {
    "duration": 234,
    "start_time": "2022-01-26T10:31:34.092Z"
   },
   {
    "duration": 199,
    "start_time": "2022-01-26T10:32:48.756Z"
   },
   {
    "duration": 214,
    "start_time": "2022-01-26T10:35:57.569Z"
   },
   {
    "duration": 634,
    "start_time": "2022-01-26T10:36:29.993Z"
   },
   {
    "duration": 213,
    "start_time": "2022-01-26T10:36:56.128Z"
   },
   {
    "duration": 203,
    "start_time": "2022-01-26T10:37:50.105Z"
   },
   {
    "duration": 194,
    "start_time": "2022-01-26T10:38:16.476Z"
   },
   {
    "duration": 215,
    "start_time": "2022-01-26T10:42:01.778Z"
   },
   {
    "duration": 250,
    "start_time": "2022-01-26T10:42:11.145Z"
   },
   {
    "duration": 287,
    "start_time": "2022-01-26T10:43:08.035Z"
   },
   {
    "duration": 615,
    "start_time": "2022-01-26T10:44:46.383Z"
   },
   {
    "duration": 124,
    "start_time": "2022-01-26T10:44:47.000Z"
   },
   {
    "duration": 16,
    "start_time": "2022-01-26T10:44:47.126Z"
   },
   {
    "duration": 22,
    "start_time": "2022-01-26T10:44:47.143Z"
   },
   {
    "duration": 3,
    "start_time": "2022-01-26T10:44:47.166Z"
   },
   {
    "duration": 19,
    "start_time": "2022-01-26T10:44:47.171Z"
   },
   {
    "duration": 22,
    "start_time": "2022-01-26T10:44:47.212Z"
   },
   {
    "duration": 20,
    "start_time": "2022-01-26T10:44:47.236Z"
   },
   {
    "duration": 15,
    "start_time": "2022-01-26T10:44:47.259Z"
   },
   {
    "duration": 39,
    "start_time": "2022-01-26T10:44:47.276Z"
   },
   {
    "duration": 53,
    "start_time": "2022-01-26T10:44:47.317Z"
   },
   {
    "duration": 78,
    "start_time": "2022-01-26T10:44:47.371Z"
   },
   {
    "duration": 47,
    "start_time": "2022-01-26T10:44:47.450Z"
   },
   {
    "duration": 299,
    "start_time": "2022-01-26T10:44:47.499Z"
   },
   {
    "duration": 1643,
    "start_time": "2022-01-26T10:44:46.157Z"
   },
   {
    "duration": 1642,
    "start_time": "2022-01-26T10:44:46.159Z"
   },
   {
    "duration": 1642,
    "start_time": "2022-01-26T10:44:46.160Z"
   },
   {
    "duration": 1641,
    "start_time": "2022-01-26T10:44:46.162Z"
   },
   {
    "duration": 1625,
    "start_time": "2022-01-26T10:44:46.179Z"
   },
   {
    "duration": 1625,
    "start_time": "2022-01-26T10:44:46.180Z"
   },
   {
    "duration": 1624,
    "start_time": "2022-01-26T10:44:46.181Z"
   },
   {
    "duration": 1623,
    "start_time": "2022-01-26T10:44:46.183Z"
   },
   {
    "duration": 1623,
    "start_time": "2022-01-26T10:44:46.184Z"
   },
   {
    "duration": 1623,
    "start_time": "2022-01-26T10:44:46.185Z"
   },
   {
    "duration": 1623,
    "start_time": "2022-01-26T10:44:46.186Z"
   },
   {
    "duration": 1622,
    "start_time": "2022-01-26T10:44:46.188Z"
   },
   {
    "duration": 1622,
    "start_time": "2022-01-26T10:44:46.189Z"
   },
   {
    "duration": 1622,
    "start_time": "2022-01-26T10:44:46.190Z"
   },
   {
    "duration": 1622,
    "start_time": "2022-01-26T10:44:46.191Z"
   },
   {
    "duration": 1621,
    "start_time": "2022-01-26T10:44:46.192Z"
   },
   {
    "duration": 1621,
    "start_time": "2022-01-26T10:44:46.193Z"
   },
   {
    "duration": 1620,
    "start_time": "2022-01-26T10:44:46.195Z"
   },
   {
    "duration": 1618,
    "start_time": "2022-01-26T10:44:46.198Z"
   },
   {
    "duration": 1618,
    "start_time": "2022-01-26T10:44:46.199Z"
   },
   {
    "duration": 1618,
    "start_time": "2022-01-26T10:44:46.200Z"
   },
   {
    "duration": 1616,
    "start_time": "2022-01-26T10:44:46.202Z"
   },
   {
    "duration": 1616,
    "start_time": "2022-01-26T10:44:46.203Z"
   },
   {
    "duration": 1616,
    "start_time": "2022-01-26T10:44:46.204Z"
   },
   {
    "duration": 6,
    "start_time": "2022-01-26T10:45:11.017Z"
   },
   {
    "duration": 82,
    "start_time": "2022-01-26T10:46:25.322Z"
   },
   {
    "duration": 1619,
    "start_time": "2022-01-26T10:46:35.064Z"
   },
   {
    "duration": 5393,
    "start_time": "2022-01-26T10:46:43.725Z"
   },
   {
    "duration": 5351,
    "start_time": "2022-01-26T10:47:03.721Z"
   },
   {
    "duration": 1623,
    "start_time": "2022-01-26T10:47:13.372Z"
   },
   {
    "duration": 6,
    "start_time": "2022-01-26T10:47:34.411Z"
   },
   {
    "duration": 5,
    "start_time": "2022-01-26T10:47:46.497Z"
   },
   {
    "duration": 5,
    "start_time": "2022-01-26T10:47:49.209Z"
   },
   {
    "duration": 8,
    "start_time": "2022-01-26T10:47:54.537Z"
   },
   {
    "duration": 5,
    "start_time": "2022-01-26T10:48:52.496Z"
   },
   {
    "duration": 5,
    "start_time": "2022-01-26T10:48:54.417Z"
   },
   {
    "duration": 6,
    "start_time": "2022-01-26T10:49:06.946Z"
   },
   {
    "duration": 226,
    "start_time": "2022-01-26T10:49:31.729Z"
   },
   {
    "duration": 6,
    "start_time": "2022-01-26T10:49:50.710Z"
   },
   {
    "duration": 5,
    "start_time": "2022-01-26T10:49:52.589Z"
   },
   {
    "duration": 5,
    "start_time": "2022-01-26T10:50:00.117Z"
   },
   {
    "duration": 5,
    "start_time": "2022-01-26T10:50:04.267Z"
   },
   {
    "duration": 7,
    "start_time": "2022-01-26T10:50:15.799Z"
   },
   {
    "duration": 201,
    "start_time": "2022-01-26T10:50:55.017Z"
   },
   {
    "duration": 5,
    "start_time": "2022-01-26T10:52:30.424Z"
   },
   {
    "duration": 5,
    "start_time": "2022-01-26T10:52:32.378Z"
   },
   {
    "duration": 527,
    "start_time": "2022-01-26T10:52:46.028Z"
   },
   {
    "duration": 119,
    "start_time": "2022-01-26T10:52:46.556Z"
   },
   {
    "duration": 14,
    "start_time": "2022-01-26T10:52:46.677Z"
   },
   {
    "duration": 35,
    "start_time": "2022-01-26T10:52:46.693Z"
   },
   {
    "duration": 4,
    "start_time": "2022-01-26T10:52:46.729Z"
   },
   {
    "duration": 20,
    "start_time": "2022-01-26T10:52:46.734Z"
   },
   {
    "duration": 20,
    "start_time": "2022-01-26T10:52:46.755Z"
   },
   {
    "duration": 38,
    "start_time": "2022-01-26T10:52:46.777Z"
   },
   {
    "duration": 14,
    "start_time": "2022-01-26T10:52:46.817Z"
   },
   {
    "duration": 22,
    "start_time": "2022-01-26T10:52:46.833Z"
   },
   {
    "duration": 75,
    "start_time": "2022-01-26T10:52:46.857Z"
   },
   {
    "duration": 62,
    "start_time": "2022-01-26T10:52:46.934Z"
   },
   {
    "duration": 58,
    "start_time": "2022-01-26T10:52:46.998Z"
   },
   {
    "duration": 6,
    "start_time": "2022-01-26T10:52:47.058Z"
   },
   {
    "duration": 3,
    "start_time": "2022-01-26T10:52:47.066Z"
   },
   {
    "duration": 3,
    "start_time": "2022-01-26T10:52:47.070Z"
   },
   {
    "duration": 3,
    "start_time": "2022-01-26T10:52:47.075Z"
   },
   {
    "duration": 4,
    "start_time": "2022-01-26T10:52:47.080Z"
   },
   {
    "duration": 2,
    "start_time": "2022-01-26T10:52:47.112Z"
   },
   {
    "duration": 9,
    "start_time": "2022-01-26T10:52:47.117Z"
   },
   {
    "duration": 5,
    "start_time": "2022-01-26T10:52:47.128Z"
   },
   {
    "duration": 5,
    "start_time": "2022-01-26T10:52:47.135Z"
   },
   {
    "duration": 4,
    "start_time": "2022-01-26T10:52:47.142Z"
   },
   {
    "duration": 4,
    "start_time": "2022-01-26T10:52:47.147Z"
   },
   {
    "duration": 4,
    "start_time": "2022-01-26T10:52:47.153Z"
   },
   {
    "duration": 9,
    "start_time": "2022-01-26T10:52:47.158Z"
   },
   {
    "duration": 4,
    "start_time": "2022-01-26T10:52:47.168Z"
   },
   {
    "duration": 4,
    "start_time": "2022-01-26T10:52:47.174Z"
   },
   {
    "duration": 4,
    "start_time": "2022-01-26T10:52:47.179Z"
   },
   {
    "duration": 4,
    "start_time": "2022-01-26T10:52:47.185Z"
   },
   {
    "duration": 25,
    "start_time": "2022-01-26T10:52:47.191Z"
   },
   {
    "duration": 4,
    "start_time": "2022-01-26T10:52:47.217Z"
   },
   {
    "duration": 6,
    "start_time": "2022-01-26T10:52:47.223Z"
   },
   {
    "duration": 5,
    "start_time": "2022-01-26T10:52:47.230Z"
   },
   {
    "duration": 4,
    "start_time": "2022-01-26T10:52:47.236Z"
   },
   {
    "duration": 5,
    "start_time": "2022-01-26T10:52:47.241Z"
   },
   {
    "duration": 4,
    "start_time": "2022-01-26T10:52:47.247Z"
   },
   {
    "duration": 4,
    "start_time": "2022-01-26T10:52:47.253Z"
   },
   {
    "duration": 6,
    "start_time": "2022-01-26T10:52:51.947Z"
   },
   {
    "duration": 293,
    "start_time": "2022-01-26T10:53:42.183Z"
   },
   {
    "duration": 228,
    "start_time": "2022-01-26T10:55:07.741Z"
   },
   {
    "duration": 201,
    "start_time": "2022-01-26T10:55:14.743Z"
   },
   {
    "duration": 8,
    "start_time": "2022-01-26T11:13:25.668Z"
   },
   {
    "duration": 5,
    "start_time": "2022-01-26T11:17:27.593Z"
   },
   {
    "duration": 6,
    "start_time": "2022-01-26T11:17:30.262Z"
   },
   {
    "duration": 5,
    "start_time": "2022-01-26T11:17:51.264Z"
   },
   {
    "duration": 5,
    "start_time": "2022-01-26T11:17:53.440Z"
   },
   {
    "duration": 5,
    "start_time": "2022-01-26T11:18:03.920Z"
   },
   {
    "duration": 544,
    "start_time": "2022-01-26T11:46:45.518Z"
   },
   {
    "duration": 125,
    "start_time": "2022-01-26T11:46:46.064Z"
   },
   {
    "duration": 20,
    "start_time": "2022-01-26T11:46:46.193Z"
   },
   {
    "duration": 22,
    "start_time": "2022-01-26T11:46:46.214Z"
   },
   {
    "duration": 3,
    "start_time": "2022-01-26T11:46:46.238Z"
   },
   {
    "duration": 19,
    "start_time": "2022-01-26T11:46:46.243Z"
   },
   {
    "duration": 22,
    "start_time": "2022-01-26T11:46:46.263Z"
   },
   {
    "duration": 24,
    "start_time": "2022-01-26T11:46:46.312Z"
   },
   {
    "duration": 21,
    "start_time": "2022-01-26T11:46:46.338Z"
   },
   {
    "duration": 20,
    "start_time": "2022-01-26T11:46:46.360Z"
   },
   {
    "duration": 83,
    "start_time": "2022-01-26T11:46:46.381Z"
   },
   {
    "duration": 80,
    "start_time": "2022-01-26T11:46:46.465Z"
   },
   {
    "duration": 48,
    "start_time": "2022-01-26T11:46:46.546Z"
   },
   {
    "duration": 6,
    "start_time": "2022-01-26T11:46:46.595Z"
   },
   {
    "duration": 11,
    "start_time": "2022-01-26T11:46:46.602Z"
   },
   {
    "duration": 10,
    "start_time": "2022-01-26T11:46:46.616Z"
   },
   {
    "duration": 3,
    "start_time": "2022-01-26T11:46:46.628Z"
   },
   {
    "duration": 4,
    "start_time": "2022-01-26T11:46:46.633Z"
   },
   {
    "duration": 8,
    "start_time": "2022-01-26T11:46:46.639Z"
   },
   {
    "duration": 6,
    "start_time": "2022-01-26T11:46:46.649Z"
   },
   {
    "duration": 9,
    "start_time": "2022-01-26T11:46:46.656Z"
   },
   {
    "duration": 10,
    "start_time": "2022-01-26T11:46:46.667Z"
   },
   {
    "duration": 9,
    "start_time": "2022-01-26T11:46:46.679Z"
   },
   {
    "duration": 4,
    "start_time": "2022-01-26T11:46:46.690Z"
   },
   {
    "duration": 4,
    "start_time": "2022-01-26T11:46:46.696Z"
   },
   {
    "duration": 9,
    "start_time": "2022-01-26T11:46:46.703Z"
   },
   {
    "duration": 12,
    "start_time": "2022-01-26T11:46:46.715Z"
   },
   {
    "duration": 4,
    "start_time": "2022-01-26T11:46:46.729Z"
   },
   {
    "duration": 4,
    "start_time": "2022-01-26T11:46:46.735Z"
   },
   {
    "duration": 4,
    "start_time": "2022-01-26T11:46:46.740Z"
   },
   {
    "duration": 6,
    "start_time": "2022-01-26T11:46:46.746Z"
   },
   {
    "duration": 6,
    "start_time": "2022-01-26T11:46:46.753Z"
   },
   {
    "duration": 7,
    "start_time": "2022-01-26T11:46:46.760Z"
   },
   {
    "duration": 6,
    "start_time": "2022-01-26T11:46:46.768Z"
   },
   {
    "duration": 5,
    "start_time": "2022-01-26T11:46:46.775Z"
   },
   {
    "duration": 4,
    "start_time": "2022-01-26T11:46:46.781Z"
   },
   {
    "duration": 4,
    "start_time": "2022-01-26T11:46:46.787Z"
   },
   {
    "duration": 4,
    "start_time": "2022-01-26T11:46:46.793Z"
   },
   {
    "duration": 264,
    "start_time": "2022-01-26T11:47:06.175Z"
   },
   {
    "duration": 203,
    "start_time": "2022-01-26T11:48:12.185Z"
   },
   {
    "duration": 195,
    "start_time": "2022-01-26T11:48:14.551Z"
   },
   {
    "duration": 209,
    "start_time": "2022-01-26T11:49:18.078Z"
   },
   {
    "duration": 7,
    "start_time": "2022-01-26T11:49:40.994Z"
   },
   {
    "duration": 72,
    "start_time": "2022-01-26T11:53:18.941Z"
   },
   {
    "duration": 273,
    "start_time": "2022-01-26T11:54:05.959Z"
   },
   {
    "duration": 206,
    "start_time": "2022-01-26T11:55:50.970Z"
   },
   {
    "duration": 2,
    "start_time": "2022-01-26T11:56:38.565Z"
   },
   {
    "duration": 2,
    "start_time": "2022-01-26T11:56:40.723Z"
   },
   {
    "duration": 5,
    "start_time": "2022-01-26T11:56:49.380Z"
   },
   {
    "duration": 198,
    "start_time": "2022-01-26T11:58:14.780Z"
   },
   {
    "duration": 199,
    "start_time": "2022-01-26T11:59:11.225Z"
   },
   {
    "duration": 198,
    "start_time": "2022-01-26T11:59:53.667Z"
   },
   {
    "duration": 191,
    "start_time": "2022-01-26T12:03:29.778Z"
   },
   {
    "duration": 38,
    "start_time": "2022-01-26T12:03:35.702Z"
   },
   {
    "duration": 40,
    "start_time": "2022-01-26T12:05:01.797Z"
   },
   {
    "duration": 38,
    "start_time": "2022-01-26T12:05:04.713Z"
   },
   {
    "duration": 38,
    "start_time": "2022-01-26T12:06:00.821Z"
   },
   {
    "duration": 40,
    "start_time": "2022-01-26T12:06:04.799Z"
   },
   {
    "duration": 230,
    "start_time": "2022-01-26T12:06:15.859Z"
   },
   {
    "duration": 39,
    "start_time": "2022-01-26T12:06:19.576Z"
   },
   {
    "duration": 4,
    "start_time": "2022-01-26T12:16:22.521Z"
   },
   {
    "duration": 23,
    "start_time": "2022-01-26T12:20:57.395Z"
   },
   {
    "duration": 5,
    "start_time": "2022-01-26T12:21:56.313Z"
   },
   {
    "duration": 611,
    "start_time": "2022-01-26T18:36:48.042Z"
   },
   {
    "duration": 157,
    "start_time": "2022-01-26T18:36:48.655Z"
   },
   {
    "duration": 17,
    "start_time": "2022-01-26T18:36:48.814Z"
   },
   {
    "duration": 47,
    "start_time": "2022-01-26T18:36:48.833Z"
   },
   {
    "duration": 35,
    "start_time": "2022-01-26T18:36:48.882Z"
   },
   {
    "duration": 38,
    "start_time": "2022-01-26T18:36:48.918Z"
   },
   {
    "duration": 48,
    "start_time": "2022-01-26T18:36:48.957Z"
   },
   {
    "duration": 29,
    "start_time": "2022-01-26T18:36:49.007Z"
   },
   {
    "duration": 46,
    "start_time": "2022-01-26T18:36:49.038Z"
   },
   {
    "duration": 43,
    "start_time": "2022-01-26T18:36:49.086Z"
   },
   {
    "duration": 74,
    "start_time": "2022-01-26T18:36:49.130Z"
   },
   {
    "duration": 70,
    "start_time": "2022-01-26T18:36:49.205Z"
   },
   {
    "duration": 56,
    "start_time": "2022-01-26T18:36:49.277Z"
   },
   {
    "duration": 58,
    "start_time": "2022-01-26T18:36:49.335Z"
   },
   {
    "duration": 24,
    "start_time": "2022-01-26T18:36:49.395Z"
   },
   {
    "duration": 41,
    "start_time": "2022-01-26T18:36:49.421Z"
   },
   {
    "duration": 10,
    "start_time": "2022-01-26T18:36:49.465Z"
   },
   {
    "duration": 153,
    "start_time": "2022-01-26T18:36:49.477Z"
   },
   {
    "duration": 2261,
    "start_time": "2022-01-26T18:36:47.372Z"
   },
   {
    "duration": 2260,
    "start_time": "2022-01-26T18:36:47.374Z"
   },
   {
    "duration": 2259,
    "start_time": "2022-01-26T18:36:47.376Z"
   },
   {
    "duration": 2259,
    "start_time": "2022-01-26T18:36:47.377Z"
   },
   {
    "duration": 2253,
    "start_time": "2022-01-26T18:36:47.384Z"
   },
   {
    "duration": 2253,
    "start_time": "2022-01-26T18:36:47.385Z"
   },
   {
    "duration": 2252,
    "start_time": "2022-01-26T18:36:47.387Z"
   },
   {
    "duration": 2252,
    "start_time": "2022-01-26T18:36:47.388Z"
   },
   {
    "duration": 2252,
    "start_time": "2022-01-26T18:36:47.389Z"
   },
   {
    "duration": 2252,
    "start_time": "2022-01-26T18:36:47.390Z"
   },
   {
    "duration": 2252,
    "start_time": "2022-01-26T18:36:47.391Z"
   },
   {
    "duration": 2251,
    "start_time": "2022-01-26T18:36:47.392Z"
   },
   {
    "duration": 2250,
    "start_time": "2022-01-26T18:36:47.394Z"
   },
   {
    "duration": 2250,
    "start_time": "2022-01-26T18:36:47.395Z"
   },
   {
    "duration": 2250,
    "start_time": "2022-01-26T18:36:47.396Z"
   },
   {
    "duration": 2247,
    "start_time": "2022-01-26T18:36:47.399Z"
   },
   {
    "duration": 2247,
    "start_time": "2022-01-26T18:36:47.400Z"
   },
   {
    "duration": 2247,
    "start_time": "2022-01-26T18:36:47.401Z"
   },
   {
    "duration": 2246,
    "start_time": "2022-01-26T18:36:47.403Z"
   },
   {
    "duration": 2246,
    "start_time": "2022-01-26T18:36:47.404Z"
   },
   {
    "duration": 3,
    "start_time": "2022-01-26T18:40:36.075Z"
   },
   {
    "duration": 315,
    "start_time": "2022-01-26T19:13:01.412Z"
   },
   {
    "duration": 567,
    "start_time": "2022-01-26T19:13:26.000Z"
   },
   {
    "duration": 146,
    "start_time": "2022-01-26T19:13:26.569Z"
   },
   {
    "duration": 18,
    "start_time": "2022-01-26T19:13:26.717Z"
   },
   {
    "duration": 36,
    "start_time": "2022-01-26T19:13:26.737Z"
   },
   {
    "duration": 4,
    "start_time": "2022-01-26T19:13:26.775Z"
   },
   {
    "duration": 22,
    "start_time": "2022-01-26T19:13:26.780Z"
   },
   {
    "duration": 27,
    "start_time": "2022-01-26T19:13:26.804Z"
   },
   {
    "duration": 48,
    "start_time": "2022-01-26T19:13:26.833Z"
   },
   {
    "duration": 18,
    "start_time": "2022-01-26T19:13:26.884Z"
   },
   {
    "duration": 25,
    "start_time": "2022-01-26T19:13:26.904Z"
   },
   {
    "duration": 94,
    "start_time": "2022-01-26T19:13:26.930Z"
   },
   {
    "duration": 73,
    "start_time": "2022-01-26T19:13:27.025Z"
   },
   {
    "duration": 53,
    "start_time": "2022-01-26T19:13:27.099Z"
   },
   {
    "duration": 42,
    "start_time": "2022-01-26T19:13:27.161Z"
   },
   {
    "duration": 3,
    "start_time": "2022-01-26T19:13:27.204Z"
   },
   {
    "duration": 24,
    "start_time": "2022-01-26T19:13:27.209Z"
   },
   {
    "duration": 28,
    "start_time": "2022-01-26T19:13:27.235Z"
   },
   {
    "duration": 6602,
    "start_time": "2022-01-26T19:13:27.265Z"
   },
   {
    "duration": 2285,
    "start_time": "2022-01-26T19:13:31.584Z"
   },
   {
    "duration": 2284,
    "start_time": "2022-01-26T19:13:31.586Z"
   },
   {
    "duration": 2284,
    "start_time": "2022-01-26T19:13:31.587Z"
   },
   {
    "duration": 2283,
    "start_time": "2022-01-26T19:13:31.589Z"
   },
   {
    "duration": 2283,
    "start_time": "2022-01-26T19:13:31.590Z"
   },
   {
    "duration": 2282,
    "start_time": "2022-01-26T19:13:31.592Z"
   },
   {
    "duration": 2282,
    "start_time": "2022-01-26T19:13:31.593Z"
   },
   {
    "duration": 2282,
    "start_time": "2022-01-26T19:13:31.594Z"
   },
   {
    "duration": 2282,
    "start_time": "2022-01-26T19:13:31.595Z"
   },
   {
    "duration": 2280,
    "start_time": "2022-01-26T19:13:31.597Z"
   },
   {
    "duration": 2280,
    "start_time": "2022-01-26T19:13:31.598Z"
   },
   {
    "duration": 2258,
    "start_time": "2022-01-26T19:13:31.621Z"
   },
   {
    "duration": 2258,
    "start_time": "2022-01-26T19:13:31.622Z"
   },
   {
    "duration": 2258,
    "start_time": "2022-01-26T19:13:31.623Z"
   },
   {
    "duration": 2258,
    "start_time": "2022-01-26T19:13:31.624Z"
   },
   {
    "duration": 2257,
    "start_time": "2022-01-26T19:13:31.626Z"
   },
   {
    "duration": 2257,
    "start_time": "2022-01-26T19:13:31.627Z"
   },
   {
    "duration": 2256,
    "start_time": "2022-01-26T19:13:31.629Z"
   },
   {
    "duration": 2256,
    "start_time": "2022-01-26T19:13:31.630Z"
   },
   {
    "duration": 2256,
    "start_time": "2022-01-26T19:13:31.631Z"
   },
   {
    "duration": 2290,
    "start_time": "2022-01-26T19:14:15.641Z"
   },
   {
    "duration": 2292,
    "start_time": "2022-01-26T19:14:34.513Z"
   },
   {
    "duration": 13,
    "start_time": "2022-01-26T19:14:51.534Z"
   },
   {
    "duration": 17,
    "start_time": "2022-01-26T19:15:19.994Z"
   },
   {
    "duration": 21,
    "start_time": "2022-01-26T19:16:58.816Z"
   },
   {
    "duration": 21,
    "start_time": "2022-01-26T19:21:20.047Z"
   },
   {
    "duration": 2,
    "start_time": "2022-01-26T19:23:09.512Z"
   },
   {
    "duration": 33,
    "start_time": "2022-01-26T19:28:17.338Z"
   },
   {
    "duration": 12,
    "start_time": "2022-01-26T19:29:00.424Z"
   },
   {
    "duration": 33,
    "start_time": "2022-01-26T19:30:47.654Z"
   },
   {
    "duration": 12,
    "start_time": "2022-01-26T19:31:05.879Z"
   },
   {
    "duration": 85,
    "start_time": "2022-01-26T19:32:10.766Z"
   },
   {
    "duration": 253,
    "start_time": "2022-01-26T19:32:18.204Z"
   },
   {
    "duration": 13,
    "start_time": "2022-01-26T19:32:45.521Z"
   },
   {
    "duration": 12,
    "start_time": "2022-01-26T19:34:41.800Z"
   },
   {
    "duration": 13,
    "start_time": "2022-01-26T19:34:51.024Z"
   },
   {
    "duration": 13,
    "start_time": "2022-01-26T19:34:58.728Z"
   },
   {
    "duration": 2342,
    "start_time": "2022-01-26T19:43:55.965Z"
   },
   {
    "duration": 12,
    "start_time": "2022-01-26T19:47:12.128Z"
   },
   {
    "duration": 11,
    "start_time": "2022-01-26T19:47:36.219Z"
   },
   {
    "duration": 12,
    "start_time": "2022-01-26T19:48:31.176Z"
   },
   {
    "duration": 9,
    "start_time": "2022-01-26T19:54:47.279Z"
   },
   {
    "duration": 11,
    "start_time": "2022-01-26T19:55:25.554Z"
   },
   {
    "duration": 10,
    "start_time": "2022-01-26T19:55:43.992Z"
   },
   {
    "duration": 35,
    "start_time": "2022-01-26T19:56:30.413Z"
   },
   {
    "duration": 35,
    "start_time": "2022-01-26T19:58:22.102Z"
   },
   {
    "duration": 103,
    "start_time": "2022-01-26T19:59:03.224Z"
   },
   {
    "duration": 11,
    "start_time": "2022-01-26T19:59:08.608Z"
   },
   {
    "duration": 33,
    "start_time": "2022-01-26T19:59:16.061Z"
   },
   {
    "duration": 113,
    "start_time": "2022-01-26T20:02:36.101Z"
   },
   {
    "duration": 236,
    "start_time": "2022-01-26T20:02:54.924Z"
   },
   {
    "duration": 86,
    "start_time": "2022-01-26T20:03:53.915Z"
   },
   {
    "duration": 82,
    "start_time": "2022-01-26T20:04:00.761Z"
   },
   {
    "duration": 33,
    "start_time": "2022-01-26T20:04:04.604Z"
   },
   {
    "duration": 10,
    "start_time": "2022-01-26T20:04:29.825Z"
   },
   {
    "duration": 11,
    "start_time": "2022-01-26T20:04:47.753Z"
   },
   {
    "duration": 32,
    "start_time": "2022-01-26T20:05:14.686Z"
   },
   {
    "duration": 34,
    "start_time": "2022-01-26T20:05:16.564Z"
   },
   {
    "duration": 747,
    "start_time": "2022-01-27T06:34:33.316Z"
   },
   {
    "duration": 181,
    "start_time": "2022-01-27T06:34:34.065Z"
   },
   {
    "duration": 27,
    "start_time": "2022-01-27T06:34:34.249Z"
   },
   {
    "duration": 53,
    "start_time": "2022-01-27T06:34:34.279Z"
   },
   {
    "duration": 6,
    "start_time": "2022-01-27T06:34:34.335Z"
   },
   {
    "duration": 27,
    "start_time": "2022-01-27T06:34:34.344Z"
   },
   {
    "duration": 64,
    "start_time": "2022-01-27T06:34:34.374Z"
   },
   {
    "duration": 30,
    "start_time": "2022-01-27T06:34:34.441Z"
   },
   {
    "duration": 34,
    "start_time": "2022-01-27T06:34:34.475Z"
   },
   {
    "duration": 51,
    "start_time": "2022-01-27T06:34:34.534Z"
   },
   {
    "duration": 107,
    "start_time": "2022-01-27T06:34:34.587Z"
   },
   {
    "duration": 112,
    "start_time": "2022-01-27T06:34:34.697Z"
   },
   {
    "duration": 88,
    "start_time": "2022-01-27T06:34:34.812Z"
   },
   {
    "duration": 63,
    "start_time": "2022-01-27T06:34:34.903Z"
   },
   {
    "duration": 4,
    "start_time": "2022-01-27T06:34:34.968Z"
   },
   {
    "duration": 35,
    "start_time": "2022-01-27T06:34:34.974Z"
   },
   {
    "duration": 8,
    "start_time": "2022-01-27T06:34:35.031Z"
   },
   {
    "duration": 55,
    "start_time": "2022-01-27T06:34:35.042Z"
   },
   {
    "duration": 62,
    "start_time": "2022-01-27T06:34:35.099Z"
   },
   {
    "duration": 3,
    "start_time": "2022-01-27T06:34:35.163Z"
   },
   {
    "duration": 23,
    "start_time": "2022-01-27T06:34:35.168Z"
   },
   {
    "duration": 18,
    "start_time": "2022-01-27T06:34:35.193Z"
   },
   {
    "duration": 23,
    "start_time": "2022-01-27T06:34:35.216Z"
   },
   {
    "duration": 18,
    "start_time": "2022-01-27T06:34:35.242Z"
   },
   {
    "duration": 25,
    "start_time": "2022-01-27T06:34:35.263Z"
   },
   {
    "duration": 15,
    "start_time": "2022-01-27T06:34:35.290Z"
   },
   {
    "duration": 9,
    "start_time": "2022-01-27T06:34:35.308Z"
   },
   {
    "duration": 7,
    "start_time": "2022-01-27T06:34:35.320Z"
   },
   {
    "duration": 9,
    "start_time": "2022-01-27T06:34:35.329Z"
   },
   {
    "duration": 8,
    "start_time": "2022-01-27T06:34:35.340Z"
   },
   {
    "duration": 9,
    "start_time": "2022-01-27T06:34:35.350Z"
   },
   {
    "duration": 9,
    "start_time": "2022-01-27T06:34:35.361Z"
   },
   {
    "duration": 13,
    "start_time": "2022-01-27T06:34:35.372Z"
   },
   {
    "duration": 9,
    "start_time": "2022-01-27T06:34:35.387Z"
   },
   {
    "duration": 18,
    "start_time": "2022-01-27T06:34:35.399Z"
   },
   {
    "duration": 10,
    "start_time": "2022-01-27T06:34:35.419Z"
   },
   {
    "duration": 23,
    "start_time": "2022-01-27T06:34:35.431Z"
   },
   {
    "duration": 6,
    "start_time": "2022-01-27T06:34:35.457Z"
   },
   {
    "duration": 21,
    "start_time": "2022-01-27T06:39:14.904Z"
   },
   {
    "duration": 24,
    "start_time": "2022-01-27T06:39:26.325Z"
   },
   {
    "duration": 23,
    "start_time": "2022-01-27T06:41:22.439Z"
   },
   {
    "duration": 47,
    "start_time": "2022-01-27T06:42:02.035Z"
   },
   {
    "duration": 47,
    "start_time": "2022-01-27T06:42:03.821Z"
   },
   {
    "duration": 80,
    "start_time": "2022-01-27T07:31:27.052Z"
   },
   {
    "duration": 5,
    "start_time": "2022-01-27T07:31:59.190Z"
   },
   {
    "duration": 5,
    "start_time": "2022-01-27T07:32:01.698Z"
   },
   {
    "duration": 364,
    "start_time": "2022-01-27T07:57:17.039Z"
   },
   {
    "duration": 254,
    "start_time": "2022-01-27T07:57:34.897Z"
   },
   {
    "duration": 281,
    "start_time": "2022-01-27T07:59:15.164Z"
   },
   {
    "duration": 253,
    "start_time": "2022-01-27T07:59:59.469Z"
   },
   {
    "duration": 244,
    "start_time": "2022-01-27T08:03:40.860Z"
   },
   {
    "duration": 271,
    "start_time": "2022-01-27T08:04:14.672Z"
   },
   {
    "duration": 278,
    "start_time": "2022-01-27T08:05:31.338Z"
   },
   {
    "duration": 6813,
    "start_time": "2022-01-27T08:06:23.678Z"
   },
   {
    "duration": -5613,
    "start_time": "2022-01-27T08:06:36.107Z"
   },
   {
    "duration": -5611,
    "start_time": "2022-01-27T08:06:36.110Z"
   },
   {
    "duration": 6712,
    "start_time": "2022-01-27T08:06:57.857Z"
   },
   {
    "duration": -5593,
    "start_time": "2022-01-27T08:07:10.166Z"
   },
   {
    "duration": -5594,
    "start_time": "2022-01-27T08:07:10.169Z"
   },
   {
    "duration": -5596,
    "start_time": "2022-01-27T08:07:10.172Z"
   },
   {
    "duration": -5597,
    "start_time": "2022-01-27T08:07:10.175Z"
   },
   {
    "duration": 1121,
    "start_time": "2022-01-27T08:07:22.411Z"
   },
   {
    "duration": 226,
    "start_time": "2022-01-27T08:07:23.535Z"
   },
   {
    "duration": 36,
    "start_time": "2022-01-27T08:07:23.765Z"
   },
   {
    "duration": 70,
    "start_time": "2022-01-27T08:07:23.804Z"
   },
   {
    "duration": 12,
    "start_time": "2022-01-27T08:07:23.877Z"
   },
   {
    "duration": 56,
    "start_time": "2022-01-27T08:07:23.892Z"
   },
   {
    "duration": 35,
    "start_time": "2022-01-27T08:07:23.951Z"
   },
   {
    "duration": 90,
    "start_time": "2022-01-27T08:07:23.990Z"
   },
   {
    "duration": 23,
    "start_time": "2022-01-27T08:07:24.083Z"
   },
   {
    "duration": 51,
    "start_time": "2022-01-27T08:07:24.108Z"
   },
   {
    "duration": 132,
    "start_time": "2022-01-27T08:07:24.162Z"
   },
   {
    "duration": 131,
    "start_time": "2022-01-27T08:07:24.296Z"
   },
   {
    "duration": 115,
    "start_time": "2022-01-27T08:07:24.432Z"
   },
   {
    "duration": 94,
    "start_time": "2022-01-27T08:07:24.550Z"
   },
   {
    "duration": 6,
    "start_time": "2022-01-27T08:07:24.647Z"
   },
   {
    "duration": 42,
    "start_time": "2022-01-27T08:07:24.657Z"
   },
   {
    "duration": 36,
    "start_time": "2022-01-27T08:07:24.701Z"
   },
   {
    "duration": 69,
    "start_time": "2022-01-27T08:07:24.739Z"
   },
   {
    "duration": 65,
    "start_time": "2022-01-27T08:07:24.811Z"
   },
   {
    "duration": 5,
    "start_time": "2022-01-27T08:07:24.879Z"
   },
   {
    "duration": 7040,
    "start_time": "2022-01-27T08:07:24.887Z"
   },
   {
    "duration": -5574,
    "start_time": "2022-01-27T08:07:37.504Z"
   },
   {
    "duration": -5583,
    "start_time": "2022-01-27T08:07:37.515Z"
   },
   {
    "duration": -5583,
    "start_time": "2022-01-27T08:07:37.518Z"
   },
   {
    "duration": -5583,
    "start_time": "2022-01-27T08:07:37.520Z"
   },
   {
    "duration": -5584,
    "start_time": "2022-01-27T08:07:37.524Z"
   },
   {
    "duration": -5588,
    "start_time": "2022-01-27T08:07:37.531Z"
   },
   {
    "duration": -5588,
    "start_time": "2022-01-27T08:07:37.534Z"
   },
   {
    "duration": -5586,
    "start_time": "2022-01-27T08:07:37.535Z"
   },
   {
    "duration": -5586,
    "start_time": "2022-01-27T08:07:37.537Z"
   },
   {
    "duration": -5586,
    "start_time": "2022-01-27T08:07:37.541Z"
   },
   {
    "duration": -5590,
    "start_time": "2022-01-27T08:07:37.549Z"
   },
   {
    "duration": -5590,
    "start_time": "2022-01-27T08:07:37.551Z"
   },
   {
    "duration": -5589,
    "start_time": "2022-01-27T08:07:37.553Z"
   },
   {
    "duration": -5599,
    "start_time": "2022-01-27T08:07:37.565Z"
   },
   {
    "duration": -5618,
    "start_time": "2022-01-27T08:07:37.587Z"
   },
   {
    "duration": -5619,
    "start_time": "2022-01-27T08:07:37.591Z"
   },
   {
    "duration": -5626,
    "start_time": "2022-01-27T08:07:37.600Z"
   },
   {
    "duration": 267,
    "start_time": "2022-01-27T08:08:50.859Z"
   },
   {
    "duration": 6574,
    "start_time": "2022-01-27T08:09:30.801Z"
   },
   {
    "duration": 6777,
    "start_time": "2022-01-27T08:09:40.767Z"
   },
   {
    "duration": 7014,
    "start_time": "2022-01-27T08:09:50.455Z"
   },
   {
    "duration": -5570,
    "start_time": "2022-01-27T08:10:03.042Z"
   },
   {
    "duration": 7910,
    "start_time": "2022-01-27T08:10:02.272Z"
   },
   {
    "duration": 19,
    "start_time": "2022-01-27T08:28:59.606Z"
   },
   {
    "duration": 25,
    "start_time": "2022-01-27T08:29:02.571Z"
   },
   {
    "duration": 49,
    "start_time": "2022-01-27T08:32:53.691Z"
   },
   {
    "duration": 78,
    "start_time": "2022-01-27T08:32:58.975Z"
   },
   {
    "duration": 113,
    "start_time": "2022-01-27T08:38:44.660Z"
   },
   {
    "duration": 6,
    "start_time": "2022-01-27T08:38:54.747Z"
   },
   {
    "duration": 8,
    "start_time": "2022-01-27T08:38:56.968Z"
   },
   {
    "duration": 6,
    "start_time": "2022-01-27T09:51:41.389Z"
   },
   {
    "duration": 311,
    "start_time": "2022-01-27T09:51:49.407Z"
   },
   {
    "duration": 915,
    "start_time": "2022-01-27T10:01:11.258Z"
   },
   {
    "duration": 238,
    "start_time": "2022-01-27T10:01:12.183Z"
   },
   {
    "duration": 36,
    "start_time": "2022-01-27T10:01:12.425Z"
   },
   {
    "duration": 82,
    "start_time": "2022-01-27T10:01:12.464Z"
   },
   {
    "duration": 49,
    "start_time": "2022-01-27T10:01:12.550Z"
   },
   {
    "duration": 61,
    "start_time": "2022-01-27T10:01:12.602Z"
   },
   {
    "duration": 48,
    "start_time": "2022-01-27T10:01:12.670Z"
   },
   {
    "duration": 57,
    "start_time": "2022-01-27T10:01:12.722Z"
   },
   {
    "duration": 64,
    "start_time": "2022-01-27T10:01:12.783Z"
   },
   {
    "duration": 49,
    "start_time": "2022-01-27T10:01:12.850Z"
   },
   {
    "duration": 127,
    "start_time": "2022-01-27T10:01:12.901Z"
   },
   {
    "duration": 123,
    "start_time": "2022-01-27T10:01:13.030Z"
   },
   {
    "duration": 111,
    "start_time": "2022-01-27T10:01:13.155Z"
   },
   {
    "duration": 81,
    "start_time": "2022-01-27T10:01:13.269Z"
   },
   {
    "duration": 5,
    "start_time": "2022-01-27T10:01:13.357Z"
   },
   {
    "duration": 83,
    "start_time": "2022-01-27T10:01:13.364Z"
   },
   {
    "duration": 13,
    "start_time": "2022-01-27T10:01:13.449Z"
   },
   {
    "duration": 98,
    "start_time": "2022-01-27T10:01:13.465Z"
   },
   {
    "duration": 57,
    "start_time": "2022-01-27T10:01:13.565Z"
   },
   {
    "duration": 21,
    "start_time": "2022-01-27T10:01:13.624Z"
   },
   {
    "duration": 782,
    "start_time": "2022-01-27T10:01:13.650Z"
   },
   {
    "duration": -89,
    "start_time": "2022-01-27T10:01:14.525Z"
   },
   {
    "duration": -113,
    "start_time": "2022-01-27T10:01:14.551Z"
   },
   {
    "duration": -116,
    "start_time": "2022-01-27T10:01:14.555Z"
   },
   {
    "duration": -120,
    "start_time": "2022-01-27T10:01:14.561Z"
   },
   {
    "duration": -121,
    "start_time": "2022-01-27T10:01:14.564Z"
   },
   {
    "duration": -121,
    "start_time": "2022-01-27T10:01:14.566Z"
   },
   {
    "duration": -121,
    "start_time": "2022-01-27T10:01:14.568Z"
   },
   {
    "duration": -120,
    "start_time": "2022-01-27T10:01:14.572Z"
   },
   {
    "duration": -119,
    "start_time": "2022-01-27T10:01:14.573Z"
   },
   {
    "duration": -119,
    "start_time": "2022-01-27T10:01:14.575Z"
   },
   {
    "duration": -119,
    "start_time": "2022-01-27T10:01:14.577Z"
   },
   {
    "duration": -119,
    "start_time": "2022-01-27T10:01:14.579Z"
   },
   {
    "duration": -119,
    "start_time": "2022-01-27T10:01:14.581Z"
   },
   {
    "duration": -117,
    "start_time": "2022-01-27T10:01:14.583Z"
   },
   {
    "duration": -116,
    "start_time": "2022-01-27T10:01:14.584Z"
   },
   {
    "duration": -116,
    "start_time": "2022-01-27T10:01:14.586Z"
   },
   {
    "duration": -113,
    "start_time": "2022-01-27T10:01:14.588Z"
   },
   {
    "duration": 16,
    "start_time": "2022-01-27T10:03:42.114Z"
   },
   {
    "duration": 16,
    "start_time": "2022-01-27T10:06:50.400Z"
   },
   {
    "duration": 28,
    "start_time": "2022-01-27T10:07:16.367Z"
   },
   {
    "duration": 5,
    "start_time": "2022-01-27T10:25:55.517Z"
   },
   {
    "duration": 7825,
    "start_time": "2022-01-27T10:26:01.758Z"
   },
   {
    "duration": -126,
    "start_time": "2022-01-27T10:26:09.712Z"
   },
   {
    "duration": 258,
    "start_time": "2022-01-27T10:27:01.373Z"
   },
   {
    "duration": 5,
    "start_time": "2022-01-27T10:29:11.775Z"
   },
   {
    "duration": 341,
    "start_time": "2022-01-27T10:29:22.994Z"
   },
   {
    "duration": 8032,
    "start_time": "2022-01-27T10:32:18.305Z"
   },
   {
    "duration": 820,
    "start_time": "2022-01-27T10:32:52.922Z"
   },
   {
    "duration": 214,
    "start_time": "2022-01-27T10:32:53.745Z"
   },
   {
    "duration": 28,
    "start_time": "2022-01-27T10:32:53.965Z"
   },
   {
    "duration": 47,
    "start_time": "2022-01-27T10:32:53.996Z"
   },
   {
    "duration": 10,
    "start_time": "2022-01-27T10:32:54.045Z"
   },
   {
    "duration": 46,
    "start_time": "2022-01-27T10:32:54.057Z"
   },
   {
    "duration": 36,
    "start_time": "2022-01-27T10:32:54.106Z"
   },
   {
    "duration": 55,
    "start_time": "2022-01-27T10:32:54.148Z"
   },
   {
    "duration": 21,
    "start_time": "2022-01-27T10:32:54.206Z"
   },
   {
    "duration": 67,
    "start_time": "2022-01-27T10:32:54.230Z"
   },
   {
    "duration": 93,
    "start_time": "2022-01-27T10:32:54.300Z"
   },
   {
    "duration": 117,
    "start_time": "2022-01-27T10:32:54.395Z"
   },
   {
    "duration": 103,
    "start_time": "2022-01-27T10:32:54.514Z"
   },
   {
    "duration": 81,
    "start_time": "2022-01-27T10:32:54.619Z"
   },
   {
    "duration": 4,
    "start_time": "2022-01-27T10:32:54.702Z"
   },
   {
    "duration": 67,
    "start_time": "2022-01-27T10:32:54.708Z"
   },
   {
    "duration": 9,
    "start_time": "2022-01-27T10:32:54.778Z"
   },
   {
    "duration": 18,
    "start_time": "2022-01-27T10:32:54.789Z"
   },
   {
    "duration": 53,
    "start_time": "2022-01-27T10:32:54.809Z"
   },
   {
    "duration": 12,
    "start_time": "2022-01-27T10:32:54.870Z"
   },
   {
    "duration": 7587,
    "start_time": "2022-01-27T10:32:54.884Z"
   },
   {
    "duration": -143,
    "start_time": "2022-01-27T10:33:02.618Z"
   },
   {
    "duration": -150,
    "start_time": "2022-01-27T10:33:02.626Z"
   },
   {
    "duration": -152,
    "start_time": "2022-01-27T10:33:02.629Z"
   },
   {
    "duration": -152,
    "start_time": "2022-01-27T10:33:02.631Z"
   },
   {
    "duration": -154,
    "start_time": "2022-01-27T10:33:02.634Z"
   },
   {
    "duration": -172,
    "start_time": "2022-01-27T10:33:02.654Z"
   },
   {
    "duration": -179,
    "start_time": "2022-01-27T10:33:02.662Z"
   },
   {
    "duration": -182,
    "start_time": "2022-01-27T10:33:02.666Z"
   },
   {
    "duration": -184,
    "start_time": "2022-01-27T10:33:02.670Z"
   },
   {
    "duration": -187,
    "start_time": "2022-01-27T10:33:02.674Z"
   },
   {
    "duration": -189,
    "start_time": "2022-01-27T10:33:02.678Z"
   },
   {
    "duration": -190,
    "start_time": "2022-01-27T10:33:02.680Z"
   },
   {
    "duration": -191,
    "start_time": "2022-01-27T10:33:02.683Z"
   },
   {
    "duration": -191,
    "start_time": "2022-01-27T10:33:02.685Z"
   },
   {
    "duration": -192,
    "start_time": "2022-01-27T10:33:02.688Z"
   },
   {
    "duration": -194,
    "start_time": "2022-01-27T10:33:02.691Z"
   },
   {
    "duration": -194,
    "start_time": "2022-01-27T10:33:02.693Z"
   },
   {
    "duration": 350,
    "start_time": "2022-01-27T10:43:49.155Z"
   },
   {
    "duration": 880,
    "start_time": "2022-01-27T10:47:07.322Z"
   },
   {
    "duration": 203,
    "start_time": "2022-01-27T10:47:08.205Z"
   },
   {
    "duration": 40,
    "start_time": "2022-01-27T10:47:08.415Z"
   },
   {
    "duration": 40,
    "start_time": "2022-01-27T10:47:08.462Z"
   },
   {
    "duration": 5,
    "start_time": "2022-01-27T10:47:08.505Z"
   },
   {
    "duration": 31,
    "start_time": "2022-01-27T10:47:08.532Z"
   },
   {
    "duration": 39,
    "start_time": "2022-01-27T10:47:08.569Z"
   },
   {
    "duration": 47,
    "start_time": "2022-01-27T10:47:08.611Z"
   },
   {
    "duration": 37,
    "start_time": "2022-01-27T10:47:08.661Z"
   },
   {
    "duration": 34,
    "start_time": "2022-01-27T10:47:08.701Z"
   },
   {
    "duration": 117,
    "start_time": "2022-01-27T10:47:08.738Z"
   },
   {
    "duration": 97,
    "start_time": "2022-01-27T10:47:08.859Z"
   },
   {
    "duration": 102,
    "start_time": "2022-01-27T10:47:08.959Z"
   },
   {
    "duration": 85,
    "start_time": "2022-01-27T10:47:09.064Z"
   },
   {
    "duration": 8,
    "start_time": "2022-01-27T10:47:09.154Z"
   },
   {
    "duration": 48,
    "start_time": "2022-01-27T10:47:09.165Z"
   },
   {
    "duration": 6,
    "start_time": "2022-01-27T10:47:09.216Z"
   },
   {
    "duration": 28,
    "start_time": "2022-01-27T10:47:09.224Z"
   },
   {
    "duration": 38,
    "start_time": "2022-01-27T10:47:09.254Z"
   },
   {
    "duration": 4,
    "start_time": "2022-01-27T10:47:09.295Z"
   },
   {
    "duration": 1069,
    "start_time": "2022-01-27T10:47:09.301Z"
   },
   {
    "duration": -133,
    "start_time": "2022-01-27T10:47:10.507Z"
   },
   {
    "duration": -137,
    "start_time": "2022-01-27T10:47:10.513Z"
   },
   {
    "duration": -137,
    "start_time": "2022-01-27T10:47:10.516Z"
   },
   {
    "duration": -137,
    "start_time": "2022-01-27T10:47:10.518Z"
   },
   {
    "duration": -136,
    "start_time": "2022-01-27T10:47:10.519Z"
   },
   {
    "duration": -136,
    "start_time": "2022-01-27T10:47:10.521Z"
   },
   {
    "duration": -137,
    "start_time": "2022-01-27T10:47:10.524Z"
   },
   {
    "duration": -137,
    "start_time": "2022-01-27T10:47:10.526Z"
   },
   {
    "duration": -135,
    "start_time": "2022-01-27T10:47:10.527Z"
   },
   {
    "duration": -135,
    "start_time": "2022-01-27T10:47:10.529Z"
   },
   {
    "duration": -158,
    "start_time": "2022-01-27T10:47:10.554Z"
   },
   {
    "duration": -158,
    "start_time": "2022-01-27T10:47:10.556Z"
   },
   {
    "duration": -158,
    "start_time": "2022-01-27T10:47:10.558Z"
   },
   {
    "duration": -156,
    "start_time": "2022-01-27T10:47:10.559Z"
   },
   {
    "duration": -156,
    "start_time": "2022-01-27T10:47:10.561Z"
   },
   {
    "duration": -160,
    "start_time": "2022-01-27T10:47:10.567Z"
   },
   {
    "duration": -160,
    "start_time": "2022-01-27T10:47:10.569Z"
   },
   {
    "duration": 7,
    "start_time": "2022-01-27T10:49:06.844Z"
   },
   {
    "duration": 286,
    "start_time": "2022-01-27T10:49:11.754Z"
   },
   {
    "duration": 5,
    "start_time": "2022-01-27T10:49:41.526Z"
   },
   {
    "duration": 639,
    "start_time": "2022-01-27T10:50:20.861Z"
   },
   {
    "duration": 577,
    "start_time": "2022-01-27T10:50:28.397Z"
   },
   {
    "duration": 563,
    "start_time": "2022-01-27T10:50:32.862Z"
   },
   {
    "duration": 636,
    "start_time": "2022-01-27T10:50:35.894Z"
   },
   {
    "duration": 632,
    "start_time": "2022-01-27T10:50:39.121Z"
   },
   {
    "duration": 5,
    "start_time": "2022-01-27T10:52:18.326Z"
   },
   {
    "duration": 711,
    "start_time": "2022-01-27T10:52:22.552Z"
   },
   {
    "duration": 642,
    "start_time": "2022-01-27T10:52:55.356Z"
   },
   {
    "duration": 823,
    "start_time": "2022-01-27T10:53:25.367Z"
   },
   {
    "duration": 214,
    "start_time": "2022-01-27T10:53:26.197Z"
   },
   {
    "duration": 46,
    "start_time": "2022-01-27T10:53:26.414Z"
   },
   {
    "duration": 50,
    "start_time": "2022-01-27T10:53:26.466Z"
   },
   {
    "duration": 10,
    "start_time": "2022-01-27T10:53:26.519Z"
   },
   {
    "duration": 54,
    "start_time": "2022-01-27T10:53:26.532Z"
   },
   {
    "duration": 34,
    "start_time": "2022-01-27T10:53:26.589Z"
   },
   {
    "duration": 54,
    "start_time": "2022-01-27T10:53:26.626Z"
   },
   {
    "duration": 34,
    "start_time": "2022-01-27T10:53:26.684Z"
   },
   {
    "duration": 41,
    "start_time": "2022-01-27T10:53:26.721Z"
   },
   {
    "duration": 127,
    "start_time": "2022-01-27T10:53:26.765Z"
   },
   {
    "duration": 109,
    "start_time": "2022-01-27T10:53:26.895Z"
   },
   {
    "duration": 148,
    "start_time": "2022-01-27T10:53:27.008Z"
   },
   {
    "duration": 96,
    "start_time": "2022-01-27T10:53:27.159Z"
   },
   {
    "duration": 5,
    "start_time": "2022-01-27T10:53:27.257Z"
   },
   {
    "duration": 63,
    "start_time": "2022-01-27T10:53:27.265Z"
   },
   {
    "duration": 24,
    "start_time": "2022-01-27T10:53:27.332Z"
   },
   {
    "duration": 58,
    "start_time": "2022-01-27T10:53:27.359Z"
   },
   {
    "duration": 22,
    "start_time": "2022-01-27T10:53:27.419Z"
   },
   {
    "duration": 34,
    "start_time": "2022-01-27T10:53:27.449Z"
   },
   {
    "duration": 919,
    "start_time": "2022-01-27T10:53:27.486Z"
   },
   {
    "duration": -145,
    "start_time": "2022-01-27T10:53:28.555Z"
   },
   {
    "duration": -146,
    "start_time": "2022-01-27T10:53:28.558Z"
   },
   {
    "duration": -145,
    "start_time": "2022-01-27T10:53:28.560Z"
   },
   {
    "duration": -146,
    "start_time": "2022-01-27T10:53:28.563Z"
   },
   {
    "duration": -146,
    "start_time": "2022-01-27T10:53:28.565Z"
   },
   {
    "duration": -147,
    "start_time": "2022-01-27T10:53:28.568Z"
   },
   {
    "duration": -148,
    "start_time": "2022-01-27T10:53:28.571Z"
   },
   {
    "duration": -147,
    "start_time": "2022-01-27T10:53:28.573Z"
   },
   {
    "duration": -151,
    "start_time": "2022-01-27T10:53:28.579Z"
   },
   {
    "duration": -152,
    "start_time": "2022-01-27T10:53:28.582Z"
   },
   {
    "duration": -151,
    "start_time": "2022-01-27T10:53:28.583Z"
   },
   {
    "duration": -151,
    "start_time": "2022-01-27T10:53:28.585Z"
   },
   {
    "duration": -152,
    "start_time": "2022-01-27T10:53:28.587Z"
   },
   {
    "duration": -155,
    "start_time": "2022-01-27T10:53:28.595Z"
   },
   {
    "duration": -169,
    "start_time": "2022-01-27T10:53:28.611Z"
   },
   {
    "duration": -170,
    "start_time": "2022-01-27T10:53:28.613Z"
   },
   {
    "duration": -170,
    "start_time": "2022-01-27T10:53:28.614Z"
   },
   {
    "duration": 5,
    "start_time": "2022-01-27T11:21:16.873Z"
   },
   {
    "duration": -244,
    "start_time": "2022-01-27T11:25:09.793Z"
   },
   {
    "duration": -208,
    "start_time": "2022-01-27T11:25:31.302Z"
   },
   {
    "duration": 261,
    "start_time": "2022-01-27T11:26:47.012Z"
   },
   {
    "duration": 334,
    "start_time": "2022-01-27T11:29:05.765Z"
   },
   {
    "duration": 998,
    "start_time": "2022-01-27T11:29:43.324Z"
   },
   {
    "duration": 205,
    "start_time": "2022-01-27T11:29:44.325Z"
   },
   {
    "duration": 32,
    "start_time": "2022-01-27T11:29:44.533Z"
   },
   {
    "duration": 35,
    "start_time": "2022-01-27T11:29:44.568Z"
   },
   {
    "duration": 6,
    "start_time": "2022-01-27T11:29:44.605Z"
   },
   {
    "duration": 31,
    "start_time": "2022-01-27T11:29:44.633Z"
   },
   {
    "duration": 33,
    "start_time": "2022-01-27T11:29:44.666Z"
   },
   {
    "duration": 69,
    "start_time": "2022-01-27T11:29:44.704Z"
   },
   {
    "duration": 21,
    "start_time": "2022-01-27T11:29:44.777Z"
   },
   {
    "duration": 68,
    "start_time": "2022-01-27T11:29:44.801Z"
   },
   {
    "duration": 102,
    "start_time": "2022-01-27T11:29:44.872Z"
   },
   {
    "duration": 126,
    "start_time": "2022-01-27T11:29:44.977Z"
   },
   {
    "duration": 92,
    "start_time": "2022-01-27T11:29:45.105Z"
   },
   {
    "duration": 79,
    "start_time": "2022-01-27T11:29:45.200Z"
   },
   {
    "duration": 4,
    "start_time": "2022-01-27T11:29:45.282Z"
   },
   {
    "duration": 64,
    "start_time": "2022-01-27T11:29:45.288Z"
   },
   {
    "duration": 10,
    "start_time": "2022-01-27T11:29:45.355Z"
   },
   {
    "duration": 21,
    "start_time": "2022-01-27T11:29:45.368Z"
   },
   {
    "duration": 15,
    "start_time": "2022-01-27T11:29:45.391Z"
   },
   {
    "duration": 5,
    "start_time": "2022-01-27T11:29:45.441Z"
   },
   {
    "duration": 7851,
    "start_time": "2022-01-27T11:29:45.449Z"
   },
   {
    "duration": -191,
    "start_time": "2022-01-27T11:29:53.496Z"
   },
   {
    "duration": -193,
    "start_time": "2022-01-27T11:29:53.500Z"
   },
   {
    "duration": -193,
    "start_time": "2022-01-27T11:29:53.502Z"
   },
   {
    "duration": -195,
    "start_time": "2022-01-27T11:29:53.505Z"
   },
   {
    "duration": -196,
    "start_time": "2022-01-27T11:29:53.508Z"
   },
   {
    "duration": -196,
    "start_time": "2022-01-27T11:29:53.509Z"
   },
   {
    "duration": -198,
    "start_time": "2022-01-27T11:29:53.512Z"
   },
   {
    "duration": -198,
    "start_time": "2022-01-27T11:29:53.514Z"
   },
   {
    "duration": -199,
    "start_time": "2022-01-27T11:29:53.516Z"
   },
   {
    "duration": -199,
    "start_time": "2022-01-27T11:29:53.517Z"
   },
   {
    "duration": -205,
    "start_time": "2022-01-27T11:29:53.524Z"
   },
   {
    "duration": -205,
    "start_time": "2022-01-27T11:29:53.526Z"
   },
   {
    "duration": -207,
    "start_time": "2022-01-27T11:29:53.529Z"
   },
   {
    "duration": -208,
    "start_time": "2022-01-27T11:29:53.531Z"
   },
   {
    "duration": -208,
    "start_time": "2022-01-27T11:29:53.533Z"
   },
   {
    "duration": -207,
    "start_time": "2022-01-27T11:29:53.534Z"
   },
   {
    "duration": -208,
    "start_time": "2022-01-27T11:29:53.536Z"
   },
   {
    "duration": 7500,
    "start_time": "2022-01-27T11:30:26.508Z"
   },
   {
    "duration": -210,
    "start_time": "2022-01-27T11:30:34.221Z"
   },
   {
    "duration": -213,
    "start_time": "2022-01-27T11:30:34.225Z"
   },
   {
    "duration": -214,
    "start_time": "2022-01-27T11:30:34.228Z"
   },
   {
    "duration": -215,
    "start_time": "2022-01-27T11:30:34.230Z"
   },
   {
    "duration": 6829,
    "start_time": "2022-01-27T11:30:34.388Z"
   },
   {
    "duration": 272,
    "start_time": "2022-01-27T11:32:39.074Z"
   },
   {
    "duration": -186,
    "start_time": "2022-01-27T11:36:11.695Z"
   },
   {
    "duration": 7780,
    "start_time": "2022-01-27T11:36:52.158Z"
   },
   {
    "duration": -208,
    "start_time": "2022-01-27T11:37:00.149Z"
   },
   {
    "duration": 756,
    "start_time": "2022-01-27T11:37:56.911Z"
   },
   {
    "duration": 196,
    "start_time": "2022-01-27T11:37:57.670Z"
   },
   {
    "duration": 26,
    "start_time": "2022-01-27T11:37:57.873Z"
   },
   {
    "duration": 58,
    "start_time": "2022-01-27T11:37:57.901Z"
   },
   {
    "duration": 7,
    "start_time": "2022-01-27T11:37:57.962Z"
   },
   {
    "duration": 28,
    "start_time": "2022-01-27T11:37:57.971Z"
   },
   {
    "duration": 71,
    "start_time": "2022-01-27T11:37:58.003Z"
   },
   {
    "duration": 30,
    "start_time": "2022-01-27T11:37:58.078Z"
   },
   {
    "duration": 53,
    "start_time": "2022-01-27T11:37:58.110Z"
   },
   {
    "duration": 29,
    "start_time": "2022-01-27T11:37:58.165Z"
   },
   {
    "duration": 102,
    "start_time": "2022-01-27T11:37:58.197Z"
   },
   {
    "duration": 116,
    "start_time": "2022-01-27T11:37:58.302Z"
   },
   {
    "duration": 95,
    "start_time": "2022-01-27T11:37:58.420Z"
   },
   {
    "duration": 80,
    "start_time": "2022-01-27T11:37:58.518Z"
   },
   {
    "duration": 5,
    "start_time": "2022-01-27T11:37:58.600Z"
   },
   {
    "duration": 56,
    "start_time": "2022-01-27T11:37:58.607Z"
   },
   {
    "duration": 6,
    "start_time": "2022-01-27T11:37:58.666Z"
   },
   {
    "duration": 17,
    "start_time": "2022-01-27T11:37:58.675Z"
   },
   {
    "duration": 47,
    "start_time": "2022-01-27T11:37:58.694Z"
   },
   {
    "duration": 8,
    "start_time": "2022-01-27T11:37:58.744Z"
   },
   {
    "duration": 7332,
    "start_time": "2022-01-27T11:37:58.755Z"
   },
   {
    "duration": -188,
    "start_time": "2022-01-27T11:38:06.279Z"
   },
   {
    "duration": -190,
    "start_time": "2022-01-27T11:38:06.283Z"
   },
   {
    "duration": -191,
    "start_time": "2022-01-27T11:38:06.286Z"
   },
   {
    "duration": -193,
    "start_time": "2022-01-27T11:38:06.289Z"
   },
   {
    "duration": -196,
    "start_time": "2022-01-27T11:38:06.294Z"
   },
   {
    "duration": -198,
    "start_time": "2022-01-27T11:38:06.298Z"
   },
   {
    "duration": -200,
    "start_time": "2022-01-27T11:38:06.302Z"
   },
   {
    "duration": -200,
    "start_time": "2022-01-27T11:38:06.304Z"
   },
   {
    "duration": -202,
    "start_time": "2022-01-27T11:38:06.307Z"
   },
   {
    "duration": -202,
    "start_time": "2022-01-27T11:38:06.309Z"
   },
   {
    "duration": -203,
    "start_time": "2022-01-27T11:38:06.312Z"
   },
   {
    "duration": -207,
    "start_time": "2022-01-27T11:38:06.317Z"
   },
   {
    "duration": -209,
    "start_time": "2022-01-27T11:38:06.320Z"
   },
   {
    "duration": -208,
    "start_time": "2022-01-27T11:38:06.322Z"
   },
   {
    "duration": -210,
    "start_time": "2022-01-27T11:38:06.325Z"
   },
   {
    "duration": -211,
    "start_time": "2022-01-27T11:38:06.327Z"
   },
   {
    "duration": -212,
    "start_time": "2022-01-27T11:38:06.330Z"
   },
   {
    "duration": 4,
    "start_time": "2022-01-27T11:39:00.398Z"
   },
   {
    "duration": 89,
    "start_time": "2022-01-27T11:44:21.366Z"
   },
   {
    "duration": 6,
    "start_time": "2022-01-27T11:45:18.064Z"
   },
   {
    "duration": 807,
    "start_time": "2022-01-27T11:45:31.313Z"
   },
   {
    "duration": 189,
    "start_time": "2022-01-27T11:45:32.123Z"
   },
   {
    "duration": 33,
    "start_time": "2022-01-27T11:45:32.315Z"
   },
   {
    "duration": 31,
    "start_time": "2022-01-27T11:45:32.351Z"
   },
   {
    "duration": 9,
    "start_time": "2022-01-27T11:45:32.385Z"
   },
   {
    "duration": 52,
    "start_time": "2022-01-27T11:45:32.396Z"
   },
   {
    "duration": 36,
    "start_time": "2022-01-27T11:45:32.450Z"
   },
   {
    "duration": 44,
    "start_time": "2022-01-27T11:45:32.490Z"
   },
   {
    "duration": 28,
    "start_time": "2022-01-27T11:45:32.537Z"
   },
   {
    "duration": 30,
    "start_time": "2022-01-27T11:45:32.567Z"
   },
   {
    "duration": 113,
    "start_time": "2022-01-27T11:45:32.600Z"
   },
   {
    "duration": 117,
    "start_time": "2022-01-27T11:45:32.716Z"
   },
   {
    "duration": 82,
    "start_time": "2022-01-27T11:45:32.839Z"
   },
   {
    "duration": 62,
    "start_time": "2022-01-27T11:45:32.931Z"
   },
   {
    "duration": 4,
    "start_time": "2022-01-27T11:45:32.995Z"
   },
   {
    "duration": 57,
    "start_time": "2022-01-27T11:45:33.001Z"
   },
   {
    "duration": 7,
    "start_time": "2022-01-27T11:45:33.061Z"
   },
   {
    "duration": 18,
    "start_time": "2022-01-27T11:45:33.070Z"
   },
   {
    "duration": 42,
    "start_time": "2022-01-27T11:45:33.091Z"
   },
   {
    "duration": 14,
    "start_time": "2022-01-27T11:45:33.135Z"
   },
   {
    "duration": 2890,
    "start_time": "2022-01-27T11:45:33.151Z"
   },
   {
    "duration": -224,
    "start_time": "2022-01-27T11:45:36.269Z"
   },
   {
    "duration": -226,
    "start_time": "2022-01-27T11:45:36.273Z"
   },
   {
    "duration": -227,
    "start_time": "2022-01-27T11:45:36.276Z"
   },
   {
    "duration": -228,
    "start_time": "2022-01-27T11:45:36.279Z"
   },
   {
    "duration": -230,
    "start_time": "2022-01-27T11:45:36.282Z"
   },
   {
    "duration": -231,
    "start_time": "2022-01-27T11:45:36.285Z"
   },
   {
    "duration": -232,
    "start_time": "2022-01-27T11:45:36.287Z"
   },
   {
    "duration": -233,
    "start_time": "2022-01-27T11:45:36.290Z"
   },
   {
    "duration": -233,
    "start_time": "2022-01-27T11:45:36.292Z"
   },
   {
    "duration": -233,
    "start_time": "2022-01-27T11:45:36.294Z"
   },
   {
    "duration": -234,
    "start_time": "2022-01-27T11:45:36.296Z"
   },
   {
    "duration": -234,
    "start_time": "2022-01-27T11:45:36.298Z"
   },
   {
    "duration": -234,
    "start_time": "2022-01-27T11:45:36.300Z"
   },
   {
    "duration": -235,
    "start_time": "2022-01-27T11:45:36.302Z"
   },
   {
    "duration": -235,
    "start_time": "2022-01-27T11:45:36.304Z"
   },
   {
    "duration": -237,
    "start_time": "2022-01-27T11:45:36.307Z"
   },
   {
    "duration": -237,
    "start_time": "2022-01-27T11:45:36.309Z"
   },
   {
    "duration": 5,
    "start_time": "2022-01-27T11:45:44.535Z"
   },
   {
    "duration": 2288,
    "start_time": "2022-01-27T11:45:49.327Z"
   },
   {
    "duration": 5,
    "start_time": "2022-01-27T11:47:42.088Z"
   },
   {
    "duration": 4,
    "start_time": "2022-01-27T11:47:43.809Z"
   },
   {
    "duration": 3528,
    "start_time": "2022-01-27T11:47:46.701Z"
   },
   {
    "duration": 7,
    "start_time": "2022-01-27T11:48:10.778Z"
   },
   {
    "duration": 3427,
    "start_time": "2022-01-27T11:48:13.578Z"
   },
   {
    "duration": 3826,
    "start_time": "2022-01-27T11:48:17.161Z"
   },
   {
    "duration": 781,
    "start_time": "2022-01-27T11:48:45.078Z"
   },
   {
    "duration": 260,
    "start_time": "2022-01-27T11:48:45.863Z"
   },
   {
    "duration": 39,
    "start_time": "2022-01-27T11:48:46.131Z"
   },
   {
    "duration": 36,
    "start_time": "2022-01-27T11:48:46.172Z"
   },
   {
    "duration": 28,
    "start_time": "2022-01-27T11:48:46.211Z"
   },
   {
    "duration": 36,
    "start_time": "2022-01-27T11:48:46.241Z"
   },
   {
    "duration": 31,
    "start_time": "2022-01-27T11:48:46.280Z"
   },
   {
    "duration": 31,
    "start_time": "2022-01-27T11:48:46.334Z"
   },
   {
    "duration": 26,
    "start_time": "2022-01-27T11:48:46.368Z"
   },
   {
    "duration": 62,
    "start_time": "2022-01-27T11:48:46.397Z"
   },
   {
    "duration": 98,
    "start_time": "2022-01-27T11:48:46.461Z"
   },
   {
    "duration": 109,
    "start_time": "2022-01-27T11:48:46.562Z"
   },
   {
    "duration": 96,
    "start_time": "2022-01-27T11:48:46.673Z"
   },
   {
    "duration": 72,
    "start_time": "2022-01-27T11:48:46.772Z"
   },
   {
    "duration": 8,
    "start_time": "2022-01-27T11:48:46.847Z"
   },
   {
    "duration": 44,
    "start_time": "2022-01-27T11:48:46.858Z"
   },
   {
    "duration": 7,
    "start_time": "2022-01-27T11:48:46.904Z"
   },
   {
    "duration": 22,
    "start_time": "2022-01-27T11:48:46.933Z"
   },
   {
    "duration": 22,
    "start_time": "2022-01-27T11:48:46.957Z"
   },
   {
    "duration": 6,
    "start_time": "2022-01-27T11:48:46.982Z"
   },
   {
    "duration": 3682,
    "start_time": "2022-01-27T11:48:46.991Z"
   },
   {
    "duration": -184,
    "start_time": "2022-01-27T11:48:50.861Z"
   },
   {
    "duration": -187,
    "start_time": "2022-01-27T11:48:50.865Z"
   },
   {
    "duration": -189,
    "start_time": "2022-01-27T11:48:50.869Z"
   },
   {
    "duration": -191,
    "start_time": "2022-01-27T11:48:50.872Z"
   },
   {
    "duration": -193,
    "start_time": "2022-01-27T11:48:50.876Z"
   },
   {
    "duration": -196,
    "start_time": "2022-01-27T11:48:50.880Z"
   },
   {
    "duration": -198,
    "start_time": "2022-01-27T11:48:50.884Z"
   },
   {
    "duration": -198,
    "start_time": "2022-01-27T11:48:50.886Z"
   },
   {
    "duration": -198,
    "start_time": "2022-01-27T11:48:50.887Z"
   },
   {
    "duration": -198,
    "start_time": "2022-01-27T11:48:50.889Z"
   },
   {
    "duration": -199,
    "start_time": "2022-01-27T11:48:50.891Z"
   },
   {
    "duration": -200,
    "start_time": "2022-01-27T11:48:50.893Z"
   },
   {
    "duration": -200,
    "start_time": "2022-01-27T11:48:50.895Z"
   },
   {
    "duration": -200,
    "start_time": "2022-01-27T11:48:50.897Z"
   },
   {
    "duration": -205,
    "start_time": "2022-01-27T11:48:50.903Z"
   },
   {
    "duration": -207,
    "start_time": "2022-01-27T11:48:50.906Z"
   },
   {
    "duration": -207,
    "start_time": "2022-01-27T11:48:50.908Z"
   },
   {
    "duration": 5,
    "start_time": "2022-01-27T11:49:50.124Z"
   },
   {
    "duration": 6,
    "start_time": "2022-01-27T11:49:52.458Z"
   },
   {
    "duration": 515,
    "start_time": "2022-01-27T11:49:55.648Z"
   },
   {
    "duration": 854,
    "start_time": "2022-01-27T11:50:17.511Z"
   },
   {
    "duration": 211,
    "start_time": "2022-01-27T11:50:18.368Z"
   },
   {
    "duration": 26,
    "start_time": "2022-01-27T11:50:18.583Z"
   },
   {
    "duration": 65,
    "start_time": "2022-01-27T11:50:18.612Z"
   },
   {
    "duration": 6,
    "start_time": "2022-01-27T11:50:18.680Z"
   },
   {
    "duration": 44,
    "start_time": "2022-01-27T11:50:18.688Z"
   },
   {
    "duration": 46,
    "start_time": "2022-01-27T11:50:18.735Z"
   },
   {
    "duration": 30,
    "start_time": "2022-01-27T11:50:18.785Z"
   },
   {
    "duration": 47,
    "start_time": "2022-01-27T11:50:18.818Z"
   },
   {
    "duration": 33,
    "start_time": "2022-01-27T11:50:18.868Z"
   },
   {
    "duration": 112,
    "start_time": "2022-01-27T11:50:18.904Z"
   },
   {
    "duration": 140,
    "start_time": "2022-01-27T11:50:19.019Z"
   },
   {
    "duration": 102,
    "start_time": "2022-01-27T11:50:19.162Z"
   },
   {
    "duration": 128,
    "start_time": "2022-01-27T11:50:19.267Z"
   },
   {
    "duration": 45,
    "start_time": "2022-01-27T11:50:19.398Z"
   },
   {
    "duration": 42,
    "start_time": "2022-01-27T11:50:19.448Z"
   },
   {
    "duration": 7,
    "start_time": "2022-01-27T11:50:19.492Z"
   },
   {
    "duration": 21,
    "start_time": "2022-01-27T11:50:19.501Z"
   },
   {
    "duration": 21,
    "start_time": "2022-01-27T11:50:19.525Z"
   },
   {
    "duration": 6,
    "start_time": "2022-01-27T11:50:19.549Z"
   },
   {
    "duration": 3728,
    "start_time": "2022-01-27T11:50:19.557Z"
   },
   {
    "duration": -203,
    "start_time": "2022-01-27T11:50:23.491Z"
   },
   {
    "duration": -207,
    "start_time": "2022-01-27T11:50:23.497Z"
   },
   {
    "duration": -212,
    "start_time": "2022-01-27T11:50:23.503Z"
   },
   {
    "duration": -217,
    "start_time": "2022-01-27T11:50:23.510Z"
   },
   {
    "duration": -218,
    "start_time": "2022-01-27T11:50:23.512Z"
   },
   {
    "duration": -220,
    "start_time": "2022-01-27T11:50:23.515Z"
   },
   {
    "duration": -221,
    "start_time": "2022-01-27T11:50:23.517Z"
   },
   {
    "duration": -222,
    "start_time": "2022-01-27T11:50:23.520Z"
   },
   {
    "duration": -224,
    "start_time": "2022-01-27T11:50:23.523Z"
   },
   {
    "duration": -225,
    "start_time": "2022-01-27T11:50:23.525Z"
   },
   {
    "duration": -226,
    "start_time": "2022-01-27T11:50:23.527Z"
   },
   {
    "duration": -228,
    "start_time": "2022-01-27T11:50:23.530Z"
   },
   {
    "duration": -228,
    "start_time": "2022-01-27T11:50:23.532Z"
   },
   {
    "duration": -229,
    "start_time": "2022-01-27T11:50:23.534Z"
   },
   {
    "duration": -231,
    "start_time": "2022-01-27T11:50:23.537Z"
   },
   {
    "duration": -233,
    "start_time": "2022-01-27T11:50:23.540Z"
   },
   {
    "duration": -233,
    "start_time": "2022-01-27T11:50:23.542Z"
   },
   {
    "duration": 824,
    "start_time": "2022-01-27T12:33:25.960Z"
   },
   {
    "duration": 289,
    "start_time": "2022-01-27T12:33:26.788Z"
   },
   {
    "duration": 33,
    "start_time": "2022-01-27T12:33:27.082Z"
   },
   {
    "duration": 40,
    "start_time": "2022-01-27T12:33:27.134Z"
   },
   {
    "duration": 27,
    "start_time": "2022-01-27T12:33:27.177Z"
   },
   {
    "duration": 51,
    "start_time": "2022-01-27T12:33:27.207Z"
   },
   {
    "duration": 59,
    "start_time": "2022-01-27T12:33:27.263Z"
   },
   {
    "duration": 51,
    "start_time": "2022-01-27T12:33:27.326Z"
   },
   {
    "duration": 22,
    "start_time": "2022-01-27T12:33:27.381Z"
   },
   {
    "duration": 33,
    "start_time": "2022-01-27T12:33:27.405Z"
   },
   {
    "duration": 100,
    "start_time": "2022-01-27T12:33:27.441Z"
   },
   {
    "duration": 117,
    "start_time": "2022-01-27T12:33:27.544Z"
   },
   {
    "duration": 94,
    "start_time": "2022-01-27T12:33:27.664Z"
   },
   {
    "duration": 76,
    "start_time": "2022-01-27T12:33:27.761Z"
   },
   {
    "duration": 4,
    "start_time": "2022-01-27T12:33:27.840Z"
   },
   {
    "duration": 35,
    "start_time": "2022-01-27T12:33:27.846Z"
   },
   {
    "duration": 8,
    "start_time": "2022-01-27T12:33:27.883Z"
   },
   {
    "duration": 83,
    "start_time": "2022-01-27T12:33:27.893Z"
   },
   {
    "duration": 16,
    "start_time": "2022-01-27T12:33:27.978Z"
   },
   {
    "duration": 4,
    "start_time": "2022-01-27T12:33:27.996Z"
   },
   {
    "duration": 3616,
    "start_time": "2022-01-27T12:33:28.002Z"
   },
   {
    "duration": 461,
    "start_time": "2022-01-27T12:33:31.160Z"
   },
   {
    "duration": 448,
    "start_time": "2022-01-27T12:33:31.174Z"
   },
   {
    "duration": 438,
    "start_time": "2022-01-27T12:33:31.185Z"
   },
   {
    "duration": 437,
    "start_time": "2022-01-27T12:33:31.188Z"
   },
   {
    "duration": 433,
    "start_time": "2022-01-27T12:33:31.193Z"
   },
   {
    "duration": 431,
    "start_time": "2022-01-27T12:33:31.196Z"
   },
   {
    "duration": 428,
    "start_time": "2022-01-27T12:33:31.200Z"
   },
   {
    "duration": 427,
    "start_time": "2022-01-27T12:33:31.203Z"
   },
   {
    "duration": 426,
    "start_time": "2022-01-27T12:33:31.205Z"
   },
   {
    "duration": 425,
    "start_time": "2022-01-27T12:33:31.208Z"
   },
   {
    "duration": 427,
    "start_time": "2022-01-27T12:33:31.209Z"
   },
   {
    "duration": 425,
    "start_time": "2022-01-27T12:33:31.212Z"
   },
   {
    "duration": 427,
    "start_time": "2022-01-27T12:33:31.213Z"
   },
   {
    "duration": 427,
    "start_time": "2022-01-27T12:33:31.215Z"
   },
   {
    "duration": 427,
    "start_time": "2022-01-27T12:33:31.217Z"
   },
   {
    "duration": 428,
    "start_time": "2022-01-27T12:33:31.218Z"
   },
   {
    "duration": 428,
    "start_time": "2022-01-27T12:33:31.220Z"
   },
   {
    "duration": 742,
    "start_time": "2022-01-27T12:40:49.866Z"
   },
   {
    "duration": 202,
    "start_time": "2022-01-27T12:40:50.611Z"
   },
   {
    "duration": 37,
    "start_time": "2022-01-27T12:40:50.816Z"
   },
   {
    "duration": 35,
    "start_time": "2022-01-27T12:40:50.855Z"
   },
   {
    "duration": 5,
    "start_time": "2022-01-27T12:40:50.893Z"
   },
   {
    "duration": 59,
    "start_time": "2022-01-27T12:40:50.900Z"
   },
   {
    "duration": 36,
    "start_time": "2022-01-27T12:40:50.962Z"
   },
   {
    "duration": 52,
    "start_time": "2022-01-27T12:40:51.003Z"
   },
   {
    "duration": 26,
    "start_time": "2022-01-27T12:40:51.059Z"
   },
   {
    "duration": 52,
    "start_time": "2022-01-27T12:40:51.087Z"
   },
   {
    "duration": 117,
    "start_time": "2022-01-27T12:40:51.142Z"
   },
   {
    "duration": 117,
    "start_time": "2022-01-27T12:40:51.262Z"
   },
   {
    "duration": 99,
    "start_time": "2022-01-27T12:40:51.381Z"
   },
   {
    "duration": 79,
    "start_time": "2022-01-27T12:40:51.482Z"
   },
   {
    "duration": 4,
    "start_time": "2022-01-27T12:40:51.564Z"
   },
   {
    "duration": 39,
    "start_time": "2022-01-27T12:40:51.570Z"
   },
   {
    "duration": 29,
    "start_time": "2022-01-27T12:40:51.613Z"
   },
   {
    "duration": 36,
    "start_time": "2022-01-27T12:40:51.645Z"
   },
   {
    "duration": 18,
    "start_time": "2022-01-27T12:40:51.683Z"
   },
   {
    "duration": 11,
    "start_time": "2022-01-27T12:40:51.703Z"
   },
   {
    "duration": 3394,
    "start_time": "2022-01-27T12:40:51.716Z"
   },
   {
    "duration": 456,
    "start_time": "2022-01-27T12:40:54.657Z"
   },
   {
    "duration": 451,
    "start_time": "2022-01-27T12:40:54.664Z"
   },
   {
    "duration": 447,
    "start_time": "2022-01-27T12:40:54.670Z"
   },
   {
    "duration": 443,
    "start_time": "2022-01-27T12:40:54.675Z"
   },
   {
    "duration": 443,
    "start_time": "2022-01-27T12:40:54.677Z"
   },
   {
    "duration": 442,
    "start_time": "2022-01-27T12:40:54.680Z"
   },
   {
    "duration": 442,
    "start_time": "2022-01-27T12:40:54.682Z"
   },
   {
    "duration": 441,
    "start_time": "2022-01-27T12:40:54.684Z"
   },
   {
    "duration": 441,
    "start_time": "2022-01-27T12:40:54.686Z"
   },
   {
    "duration": 441,
    "start_time": "2022-01-27T12:40:54.688Z"
   },
   {
    "duration": 440,
    "start_time": "2022-01-27T12:40:54.691Z"
   },
   {
    "duration": 439,
    "start_time": "2022-01-27T12:40:54.693Z"
   },
   {
    "duration": 441,
    "start_time": "2022-01-27T12:40:54.695Z"
   },
   {
    "duration": 441,
    "start_time": "2022-01-27T12:40:54.697Z"
   },
   {
    "duration": 441,
    "start_time": "2022-01-27T12:40:54.699Z"
   },
   {
    "duration": 442,
    "start_time": "2022-01-27T12:40:54.701Z"
   },
   {
    "duration": 442,
    "start_time": "2022-01-27T12:40:54.703Z"
   },
   {
    "duration": 519,
    "start_time": "2022-01-27T12:43:24.557Z"
   },
   {
    "duration": 320,
    "start_time": "2022-01-27T12:43:26.693Z"
   },
   {
    "duration": 172,
    "start_time": "2022-01-27T13:12:38.428Z"
   },
   {
    "duration": 31,
    "start_time": "2022-01-27T13:12:47.686Z"
   },
   {
    "duration": 28,
    "start_time": "2022-01-27T13:14:19.867Z"
   },
   {
    "duration": 766,
    "start_time": "2022-01-27T13:26:06.808Z"
   },
   {
    "duration": 195,
    "start_time": "2022-01-27T13:26:07.577Z"
   },
   {
    "duration": 28,
    "start_time": "2022-01-27T13:26:07.775Z"
   },
   {
    "duration": 55,
    "start_time": "2022-01-27T13:26:07.805Z"
   },
   {
    "duration": 6,
    "start_time": "2022-01-27T13:26:07.862Z"
   },
   {
    "duration": 28,
    "start_time": "2022-01-27T13:26:07.870Z"
   },
   {
    "duration": 60,
    "start_time": "2022-01-27T13:26:07.900Z"
   },
   {
    "duration": 29,
    "start_time": "2022-01-27T13:26:07.966Z"
   },
   {
    "duration": 55,
    "start_time": "2022-01-27T13:26:07.998Z"
   },
   {
    "duration": 40,
    "start_time": "2022-01-27T13:26:08.056Z"
   },
   {
    "duration": 102,
    "start_time": "2022-01-27T13:26:08.099Z"
   },
   {
    "duration": 108,
    "start_time": "2022-01-27T13:26:08.203Z"
   },
   {
    "duration": 91,
    "start_time": "2022-01-27T13:26:08.314Z"
   },
   {
    "duration": 71,
    "start_time": "2022-01-27T13:26:08.408Z"
   },
   {
    "duration": 5,
    "start_time": "2022-01-27T13:26:08.481Z"
   },
   {
    "duration": 59,
    "start_time": "2022-01-27T13:26:08.488Z"
   },
   {
    "duration": 6,
    "start_time": "2022-01-27T13:26:08.549Z"
   },
   {
    "duration": 21,
    "start_time": "2022-01-27T13:26:08.558Z"
   },
   {
    "duration": 16,
    "start_time": "2022-01-27T13:26:08.581Z"
   },
   {
    "duration": 4,
    "start_time": "2022-01-27T13:26:08.599Z"
   },
   {
    "duration": 3799,
    "start_time": "2022-01-27T13:26:08.632Z"
   },
   {
    "duration": 378,
    "start_time": "2022-01-27T13:26:12.058Z"
   },
   {
    "duration": 378,
    "start_time": "2022-01-27T13:26:12.061Z"
   },
   {
    "duration": 375,
    "start_time": "2022-01-27T13:26:12.066Z"
   },
   {
    "duration": 374,
    "start_time": "2022-01-27T13:26:12.070Z"
   },
   {
    "duration": 373,
    "start_time": "2022-01-27T13:26:12.073Z"
   },
   {
    "duration": 372,
    "start_time": "2022-01-27T13:26:12.076Z"
   },
   {
    "duration": 373,
    "start_time": "2022-01-27T13:26:12.078Z"
   },
   {
    "duration": 373,
    "start_time": "2022-01-27T13:26:12.080Z"
   },
   {
    "duration": 372,
    "start_time": "2022-01-27T13:26:12.083Z"
   },
   {
    "duration": 372,
    "start_time": "2022-01-27T13:26:12.085Z"
   },
   {
    "duration": 367,
    "start_time": "2022-01-27T13:26:12.092Z"
   },
   {
    "duration": 366,
    "start_time": "2022-01-27T13:26:12.095Z"
   },
   {
    "duration": 361,
    "start_time": "2022-01-27T13:26:12.102Z"
   },
   {
    "duration": 360,
    "start_time": "2022-01-27T13:26:12.105Z"
   },
   {
    "duration": 360,
    "start_time": "2022-01-27T13:26:12.107Z"
   },
   {
    "duration": 361,
    "start_time": "2022-01-27T13:26:12.108Z"
   },
   {
    "duration": 362,
    "start_time": "2022-01-27T13:26:12.110Z"
   },
   {
    "duration": 4,
    "start_time": "2022-01-27T13:26:21.084Z"
   },
   {
    "duration": 4,
    "start_time": "2022-01-27T13:26:23.260Z"
   },
   {
    "duration": 4,
    "start_time": "2022-01-27T13:26:25.567Z"
   },
   {
    "duration": 211,
    "start_time": "2022-01-27T13:26:28.303Z"
   },
   {
    "duration": 16,
    "start_time": "2022-01-27T13:26:30.885Z"
   },
   {
    "duration": 44,
    "start_time": "2022-01-27T13:26:35.517Z"
   },
   {
    "duration": 7,
    "start_time": "2022-01-27T13:26:40.025Z"
   },
   {
    "duration": 33,
    "start_time": "2022-01-27T13:26:46.439Z"
   },
   {
    "duration": 52,
    "start_time": "2022-01-27T13:26:51.942Z"
   },
   {
    "duration": 36,
    "start_time": "2022-01-27T13:26:58.344Z"
   },
   {
    "duration": 24,
    "start_time": "2022-01-27T13:27:04.196Z"
   },
   {
    "duration": 34,
    "start_time": "2022-01-27T13:27:07.392Z"
   },
   {
    "duration": 108,
    "start_time": "2022-01-27T13:27:11.222Z"
   },
   {
    "duration": 103,
    "start_time": "2022-01-27T13:27:14.884Z"
   },
   {
    "duration": 87,
    "start_time": "2022-01-27T13:27:17.409Z"
   },
   {
    "duration": 60,
    "start_time": "2022-01-27T13:27:21.161Z"
   },
   {
    "duration": 4,
    "start_time": "2022-01-27T13:27:35.858Z"
   },
   {
    "duration": 32,
    "start_time": "2022-01-27T13:27:38.768Z"
   },
   {
    "duration": 16,
    "start_time": "2022-01-27T13:27:53.641Z"
   },
   {
    "duration": 15,
    "start_time": "2022-01-27T13:28:08.678Z"
   },
   {
    "duration": 18,
    "start_time": "2022-01-27T13:28:16.709Z"
   },
   {
    "duration": 6,
    "start_time": "2022-01-27T13:28:27.166Z"
   },
   {
    "duration": 3902,
    "start_time": "2022-01-27T13:28:31.294Z"
   },
   {
    "duration": 4228,
    "start_time": "2022-01-27T13:29:28.866Z"
   },
   {
    "duration": 402,
    "start_time": "2022-01-27T13:29:32.695Z"
   },
   {
    "duration": 400,
    "start_time": "2022-01-27T13:29:32.698Z"
   },
   {
    "duration": 3772,
    "start_time": "2022-01-27T13:29:37.696Z"
   },
   {
    "duration": 394,
    "start_time": "2022-01-27T13:29:41.077Z"
   },
   {
    "duration": 262,
    "start_time": "2022-01-27T13:29:51.367Z"
   },
   {
    "duration": 18,
    "start_time": "2022-01-27T13:30:18.321Z"
   },
   {
    "duration": 17,
    "start_time": "2022-01-27T13:30:25.296Z"
   },
   {
    "duration": 3679,
    "start_time": "2022-01-27T13:31:50.244Z"
   },
   {
    "duration": 4928,
    "start_time": "2022-01-27T13:31:57.550Z"
   },
   {
    "duration": 396,
    "start_time": "2022-01-27T13:32:02.085Z"
   },
   {
    "duration": 3510,
    "start_time": "2022-01-27T13:50:34.667Z"
   },
   {
    "duration": 270,
    "start_time": "2022-01-27T13:54:29.661Z"
   },
   {
    "duration": 267,
    "start_time": "2022-01-27T13:55:03.054Z"
   },
   {
    "duration": 289,
    "start_time": "2022-01-27T13:55:56.888Z"
   },
   {
    "duration": 97,
    "start_time": "2022-01-27T13:57:07.546Z"
   },
   {
    "duration": 91,
    "start_time": "2022-01-27T13:57:53.900Z"
   },
   {
    "duration": 85,
    "start_time": "2022-01-27T13:58:33.731Z"
   },
   {
    "duration": 96,
    "start_time": "2022-01-27T14:13:35.693Z"
   },
   {
    "duration": 91,
    "start_time": "2022-01-27T14:13:39.085Z"
   },
   {
    "duration": 7,
    "start_time": "2022-01-27T14:13:49.534Z"
   },
   {
    "duration": 275,
    "start_time": "2022-01-27T14:14:07.914Z"
   },
   {
    "duration": 987,
    "start_time": "2022-01-27T14:16:47.588Z"
   },
   {
    "duration": 199,
    "start_time": "2022-01-27T14:16:48.579Z"
   },
   {
    "duration": 28,
    "start_time": "2022-01-27T14:16:48.781Z"
   },
   {
    "duration": 85,
    "start_time": "2022-01-27T14:16:48.813Z"
   },
   {
    "duration": 7,
    "start_time": "2022-01-27T14:16:48.901Z"
   },
   {
    "duration": 55,
    "start_time": "2022-01-27T14:16:48.911Z"
   },
   {
    "duration": 84,
    "start_time": "2022-01-27T14:16:48.970Z"
   },
   {
    "duration": 32,
    "start_time": "2022-01-27T14:16:49.058Z"
   },
   {
    "duration": 50,
    "start_time": "2022-01-27T14:16:49.093Z"
   },
   {
    "duration": 66,
    "start_time": "2022-01-27T14:16:49.146Z"
   },
   {
    "duration": 141,
    "start_time": "2022-01-27T14:16:49.234Z"
   },
   {
    "duration": 159,
    "start_time": "2022-01-27T14:16:49.378Z"
   },
   {
    "duration": 127,
    "start_time": "2022-01-27T14:16:49.544Z"
   },
   {
    "duration": 111,
    "start_time": "2022-01-27T14:16:49.674Z"
   },
   {
    "duration": 5,
    "start_time": "2022-01-27T14:16:49.789Z"
   },
   {
    "duration": 65,
    "start_time": "2022-01-27T14:16:49.797Z"
   },
   {
    "duration": 8,
    "start_time": "2022-01-27T14:16:49.864Z"
   },
   {
    "duration": 23,
    "start_time": "2022-01-27T14:16:49.874Z"
   },
   {
    "duration": 39,
    "start_time": "2022-01-27T14:16:49.899Z"
   },
   {
    "duration": 396,
    "start_time": "2022-01-27T14:16:49.941Z"
   },
   {
    "duration": 398,
    "start_time": "2022-01-27T14:16:49.944Z"
   },
   {
    "duration": 395,
    "start_time": "2022-01-27T14:16:49.949Z"
   },
   {
    "duration": 394,
    "start_time": "2022-01-27T14:16:49.951Z"
   },
   {
    "duration": 394,
    "start_time": "2022-01-27T14:16:49.953Z"
   },
   {
    "duration": 394,
    "start_time": "2022-01-27T14:16:49.955Z"
   },
   {
    "duration": 397,
    "start_time": "2022-01-27T14:16:49.956Z"
   },
   {
    "duration": 392,
    "start_time": "2022-01-27T14:16:49.963Z"
   },
   {
    "duration": 392,
    "start_time": "2022-01-27T14:16:49.966Z"
   },
   {
    "duration": 391,
    "start_time": "2022-01-27T14:16:49.968Z"
   },
   {
    "duration": 392,
    "start_time": "2022-01-27T14:16:49.969Z"
   },
   {
    "duration": 392,
    "start_time": "2022-01-27T14:16:49.971Z"
   },
   {
    "duration": 392,
    "start_time": "2022-01-27T14:16:49.972Z"
   },
   {
    "duration": 388,
    "start_time": "2022-01-27T14:16:49.978Z"
   },
   {
    "duration": 388,
    "start_time": "2022-01-27T14:16:49.980Z"
   },
   {
    "duration": 354,
    "start_time": "2022-01-27T14:16:50.015Z"
   },
   {
    "duration": 352,
    "start_time": "2022-01-27T14:16:50.019Z"
   },
   {
    "duration": 351,
    "start_time": "2022-01-27T14:16:50.021Z"
   },
   {
    "duration": 351,
    "start_time": "2022-01-27T14:16:50.023Z"
   },
   {
    "duration": 5,
    "start_time": "2022-01-27T14:20:18.985Z"
   },
   {
    "duration": 258,
    "start_time": "2022-01-27T14:20:25.993Z"
   },
   {
    "duration": 232,
    "start_time": "2022-01-27T14:20:31.951Z"
   },
   {
    "duration": 5,
    "start_time": "2022-01-27T14:20:45.605Z"
   },
   {
    "duration": 987,
    "start_time": "2022-01-27T14:20:49.699Z"
   },
   {
    "duration": 656,
    "start_time": "2022-01-27T14:22:00.589Z"
   },
   {
    "duration": 91,
    "start_time": "2022-01-27T14:22:23.469Z"
   },
   {
    "duration": 5,
    "start_time": "2022-01-27T14:23:16.897Z"
   },
   {
    "duration": 5,
    "start_time": "2022-01-27T14:23:19.611Z"
   },
   {
    "duration": 7132,
    "start_time": "2022-01-27T14:23:22.661Z"
   },
   {
    "duration": 4,
    "start_time": "2022-01-27T14:24:50.284Z"
   },
   {
    "duration": 7744,
    "start_time": "2022-01-27T14:24:54.845Z"
   },
   {
    "duration": 7,
    "start_time": "2022-01-27T14:25:21.434Z"
   },
   {
    "duration": 726,
    "start_time": "2022-01-27T14:25:34.277Z"
   },
   {
    "duration": 195,
    "start_time": "2022-01-27T14:25:35.006Z"
   },
   {
    "duration": 41,
    "start_time": "2022-01-27T14:25:35.204Z"
   },
   {
    "duration": 58,
    "start_time": "2022-01-27T14:25:35.249Z"
   },
   {
    "duration": 22,
    "start_time": "2022-01-27T14:25:35.309Z"
   },
   {
    "duration": 50,
    "start_time": "2022-01-27T14:25:35.335Z"
   },
   {
    "duration": 33,
    "start_time": "2022-01-27T14:25:35.388Z"
   },
   {
    "duration": 37,
    "start_time": "2022-01-27T14:25:35.426Z"
   },
   {
    "duration": 23,
    "start_time": "2022-01-27T14:25:35.467Z"
   },
   {
    "duration": 64,
    "start_time": "2022-01-27T14:25:35.493Z"
   },
   {
    "duration": 109,
    "start_time": "2022-01-27T14:25:35.560Z"
   },
   {
    "duration": 117,
    "start_time": "2022-01-27T14:25:35.672Z"
   },
   {
    "duration": 91,
    "start_time": "2022-01-27T14:25:35.792Z"
   },
   {
    "duration": 76,
    "start_time": "2022-01-27T14:25:35.886Z"
   },
   {
    "duration": 4,
    "start_time": "2022-01-27T14:25:35.965Z"
   },
   {
    "duration": 39,
    "start_time": "2022-01-27T14:25:35.972Z"
   },
   {
    "duration": 26,
    "start_time": "2022-01-27T14:25:36.013Z"
   },
   {
    "duration": 23,
    "start_time": "2022-01-27T14:25:36.041Z"
   },
   {
    "duration": 14,
    "start_time": "2022-01-27T14:25:36.066Z"
   },
   {
    "duration": 6,
    "start_time": "2022-01-27T14:25:36.083Z"
   },
   {
    "duration": 732,
    "start_time": "2022-01-27T14:25:36.091Z"
   },
   {
    "duration": 387,
    "start_time": "2022-01-27T14:25:36.439Z"
   },
   {
    "duration": 377,
    "start_time": "2022-01-27T14:25:36.451Z"
   },
   {
    "duration": 375,
    "start_time": "2022-01-27T14:25:36.454Z"
   },
   {
    "duration": 373,
    "start_time": "2022-01-27T14:25:36.457Z"
   },
   {
    "duration": 373,
    "start_time": "2022-01-27T14:25:36.460Z"
   },
   {
    "duration": 373,
    "start_time": "2022-01-27T14:25:36.463Z"
   },
   {
    "duration": 372,
    "start_time": "2022-01-27T14:25:36.466Z"
   },
   {
    "duration": 372,
    "start_time": "2022-01-27T14:25:36.468Z"
   },
   {
    "duration": 372,
    "start_time": "2022-01-27T14:25:36.471Z"
   },
   {
    "duration": 371,
    "start_time": "2022-01-27T14:25:36.474Z"
   },
   {
    "duration": 372,
    "start_time": "2022-01-27T14:25:36.476Z"
   },
   {
    "duration": 372,
    "start_time": "2022-01-27T14:25:36.478Z"
   },
   {
    "duration": 372,
    "start_time": "2022-01-27T14:25:36.480Z"
   },
   {
    "duration": 371,
    "start_time": "2022-01-27T14:25:36.482Z"
   },
   {
    "duration": 366,
    "start_time": "2022-01-27T14:25:36.488Z"
   },
   {
    "duration": 365,
    "start_time": "2022-01-27T14:25:36.490Z"
   },
   {
    "duration": 365,
    "start_time": "2022-01-27T14:25:36.492Z"
   },
   {
    "duration": 325,
    "start_time": "2022-01-27T14:25:51.990Z"
   },
   {
    "duration": 509,
    "start_time": "2022-01-27T14:26:05.821Z"
   },
   {
    "duration": 507,
    "start_time": "2022-01-27T14:26:14.178Z"
   },
   {
    "duration": 492,
    "start_time": "2022-01-27T14:26:17.300Z"
   },
   {
    "duration": 570,
    "start_time": "2022-01-27T14:26:19.909Z"
   },
   {
    "duration": 517,
    "start_time": "2022-01-27T14:26:22.601Z"
   },
   {
    "duration": 661,
    "start_time": "2022-01-27T14:26:25.167Z"
   },
   {
    "duration": 245,
    "start_time": "2022-01-27T14:26:29.459Z"
   },
   {
    "duration": 5,
    "start_time": "2022-01-27T14:27:32.748Z"
   },
   {
    "duration": 557,
    "start_time": "2022-01-27T14:28:06.058Z"
   },
   {
    "duration": 730,
    "start_time": "2022-01-27T14:29:29.268Z"
   },
   {
    "duration": 198,
    "start_time": "2022-01-27T14:29:30.001Z"
   },
   {
    "duration": 34,
    "start_time": "2022-01-27T14:29:30.202Z"
   },
   {
    "duration": 46,
    "start_time": "2022-01-27T14:29:30.240Z"
   },
   {
    "duration": 10,
    "start_time": "2022-01-27T14:29:30.288Z"
   },
   {
    "duration": 54,
    "start_time": "2022-01-27T14:29:30.300Z"
   },
   {
    "duration": 35,
    "start_time": "2022-01-27T14:29:30.357Z"
   },
   {
    "duration": 47,
    "start_time": "2022-01-27T14:29:30.396Z"
   },
   {
    "duration": 30,
    "start_time": "2022-01-27T14:29:30.446Z"
   },
   {
    "duration": 31,
    "start_time": "2022-01-27T14:29:30.479Z"
   },
   {
    "duration": 138,
    "start_time": "2022-01-27T14:29:30.513Z"
   },
   {
    "duration": 120,
    "start_time": "2022-01-27T14:29:30.654Z"
   },
   {
    "duration": 105,
    "start_time": "2022-01-27T14:29:30.776Z"
   },
   {
    "duration": 74,
    "start_time": "2022-01-27T14:29:30.884Z"
   },
   {
    "duration": 4,
    "start_time": "2022-01-27T14:29:30.961Z"
   },
   {
    "duration": 38,
    "start_time": "2022-01-27T14:29:30.967Z"
   },
   {
    "duration": 35,
    "start_time": "2022-01-27T14:29:31.008Z"
   },
   {
    "duration": 40,
    "start_time": "2022-01-27T14:29:31.046Z"
   },
   {
    "duration": 20,
    "start_time": "2022-01-27T14:29:31.089Z"
   },
   {
    "duration": 5,
    "start_time": "2022-01-27T14:29:31.112Z"
   },
   {
    "duration": 7577,
    "start_time": "2022-01-27T14:29:31.120Z"
   },
   {
    "duration": 342,
    "start_time": "2022-01-27T14:29:38.360Z"
   },
   {
    "duration": 337,
    "start_time": "2022-01-27T14:29:38.367Z"
   },
   {
    "duration": 328,
    "start_time": "2022-01-27T14:29:38.377Z"
   },
   {
    "duration": 323,
    "start_time": "2022-01-27T14:29:38.383Z"
   },
   {
    "duration": 314,
    "start_time": "2022-01-27T14:29:38.394Z"
   },
   {
    "duration": 310,
    "start_time": "2022-01-27T14:29:38.399Z"
   },
   {
    "duration": 301,
    "start_time": "2022-01-27T14:29:38.410Z"
   },
   {
    "duration": 296,
    "start_time": "2022-01-27T14:29:38.416Z"
   },
   {
    "duration": 288,
    "start_time": "2022-01-27T14:29:38.426Z"
   },
   {
    "duration": 286,
    "start_time": "2022-01-27T14:29:38.429Z"
   },
   {
    "duration": 278,
    "start_time": "2022-01-27T14:29:38.439Z"
   },
   {
    "duration": 276,
    "start_time": "2022-01-27T14:29:38.442Z"
   },
   {
    "duration": 275,
    "start_time": "2022-01-27T14:29:38.445Z"
   },
   {
    "duration": 272,
    "start_time": "2022-01-27T14:29:38.449Z"
   },
   {
    "duration": 266,
    "start_time": "2022-01-27T14:29:38.457Z"
   },
   {
    "duration": 264,
    "start_time": "2022-01-27T14:29:38.460Z"
   },
   {
    "duration": 263,
    "start_time": "2022-01-27T14:29:38.462Z"
   },
   {
    "duration": 4,
    "start_time": "2022-01-27T14:29:48.181Z"
   },
   {
    "duration": 6526,
    "start_time": "2022-01-27T14:29:52.512Z"
   },
   {
    "duration": 7062,
    "start_time": "2022-01-27T14:29:59.319Z"
   },
   {
    "duration": 330,
    "start_time": "2022-01-27T14:30:06.053Z"
   },
   {
    "duration": 327,
    "start_time": "2022-01-27T14:30:06.058Z"
   },
   {
    "duration": 325,
    "start_time": "2022-01-27T14:30:06.062Z"
   },
   {
    "duration": 322,
    "start_time": "2022-01-27T14:30:06.067Z"
   },
   {
    "duration": 320,
    "start_time": "2022-01-27T14:30:06.070Z"
   },
   {
    "duration": 242,
    "start_time": "2022-01-27T14:30:13.430Z"
   },
   {
    "duration": 85,
    "start_time": "2022-01-27T14:34:43.064Z"
   },
   {
    "duration": 5,
    "start_time": "2022-01-27T14:35:23.925Z"
   },
   {
    "duration": 5,
    "start_time": "2022-01-27T14:35:26.610Z"
   },
   {
    "duration": 347,
    "start_time": "2022-01-27T14:35:36.658Z"
   },
   {
    "duration": 8632,
    "start_time": "2022-01-27T14:35:40.867Z"
   },
   {
    "duration": 329,
    "start_time": "2022-01-27T14:35:49.172Z"
   },
   {
    "duration": 326,
    "start_time": "2022-01-27T14:35:49.177Z"
   },
   {
    "duration": 325,
    "start_time": "2022-01-27T14:35:49.180Z"
   },
   {
    "duration": 322,
    "start_time": "2022-01-27T14:35:49.184Z"
   },
   {
    "duration": 6,
    "start_time": "2022-01-27T14:37:11.641Z"
   },
   {
    "duration": 5,
    "start_time": "2022-01-27T14:37:14.551Z"
   },
   {
    "duration": 6383,
    "start_time": "2022-01-27T14:37:17.279Z"
   },
   {
    "duration": 6456,
    "start_time": "2022-01-27T14:37:23.766Z"
   },
   {
    "duration": 357,
    "start_time": "2022-01-27T14:37:29.868Z"
   },
   {
    "duration": 6,
    "start_time": "2022-01-27T14:38:28.017Z"
   },
   {
    "duration": 789,
    "start_time": "2022-01-27T14:38:42.308Z"
   },
   {
    "duration": 199,
    "start_time": "2022-01-27T14:38:43.099Z"
   },
   {
    "duration": 34,
    "start_time": "2022-01-27T14:38:43.301Z"
   },
   {
    "duration": 42,
    "start_time": "2022-01-27T14:38:43.338Z"
   },
   {
    "duration": 13,
    "start_time": "2022-01-27T14:38:43.382Z"
   },
   {
    "duration": 52,
    "start_time": "2022-01-27T14:38:43.398Z"
   },
   {
    "duration": 33,
    "start_time": "2022-01-27T14:38:43.453Z"
   },
   {
    "duration": 55,
    "start_time": "2022-01-27T14:38:43.489Z"
   },
   {
    "duration": 36,
    "start_time": "2022-01-27T14:38:43.548Z"
   },
   {
    "duration": 31,
    "start_time": "2022-01-27T14:38:43.587Z"
   },
   {
    "duration": 99,
    "start_time": "2022-01-27T14:38:43.620Z"
   },
   {
    "duration": 133,
    "start_time": "2022-01-27T14:38:43.722Z"
   },
   {
    "duration": 93,
    "start_time": "2022-01-27T14:38:43.857Z"
   },
   {
    "duration": 58,
    "start_time": "2022-01-27T14:38:43.952Z"
   },
   {
    "duration": 20,
    "start_time": "2022-01-27T14:38:44.013Z"
   },
   {
    "duration": 46,
    "start_time": "2022-01-27T14:38:44.036Z"
   },
   {
    "duration": 7,
    "start_time": "2022-01-27T14:38:44.085Z"
   },
   {
    "duration": 32,
    "start_time": "2022-01-27T14:38:44.094Z"
   },
   {
    "duration": 22,
    "start_time": "2022-01-27T14:38:44.135Z"
   },
   {
    "duration": 4,
    "start_time": "2022-01-27T14:38:44.160Z"
   },
   {
    "duration": 6404,
    "start_time": "2022-01-27T14:38:44.167Z"
   },
   {
    "duration": 344,
    "start_time": "2022-01-27T14:38:50.230Z"
   },
   {
    "duration": 341,
    "start_time": "2022-01-27T14:38:50.234Z"
   },
   {
    "duration": 340,
    "start_time": "2022-01-27T14:38:50.237Z"
   },
   {
    "duration": 338,
    "start_time": "2022-01-27T14:38:50.240Z"
   },
   {
    "duration": 336,
    "start_time": "2022-01-27T14:38:50.244Z"
   },
   {
    "duration": 335,
    "start_time": "2022-01-27T14:38:50.246Z"
   },
   {
    "duration": 333,
    "start_time": "2022-01-27T14:38:50.249Z"
   },
   {
    "duration": 332,
    "start_time": "2022-01-27T14:38:50.252Z"
   },
   {
    "duration": 321,
    "start_time": "2022-01-27T14:38:50.264Z"
   },
   {
    "duration": 319,
    "start_time": "2022-01-27T14:38:50.267Z"
   },
   {
    "duration": 319,
    "start_time": "2022-01-27T14:38:50.269Z"
   },
   {
    "duration": 318,
    "start_time": "2022-01-27T14:38:50.271Z"
   },
   {
    "duration": 318,
    "start_time": "2022-01-27T14:38:50.273Z"
   },
   {
    "duration": 317,
    "start_time": "2022-01-27T14:38:50.275Z"
   },
   {
    "duration": 317,
    "start_time": "2022-01-27T14:38:50.277Z"
   },
   {
    "duration": 316,
    "start_time": "2022-01-27T14:38:50.279Z"
   },
   {
    "duration": 316,
    "start_time": "2022-01-27T14:38:50.281Z"
   },
   {
    "duration": 7287,
    "start_time": "2022-01-27T14:38:58.364Z"
   },
   {
    "duration": 346,
    "start_time": "2022-01-27T14:39:05.307Z"
   },
   {
    "duration": 763,
    "start_time": "2022-01-27T14:42:52.834Z"
   },
   {
    "duration": 196,
    "start_time": "2022-01-27T14:42:53.601Z"
   },
   {
    "duration": 42,
    "start_time": "2022-01-27T14:42:53.801Z"
   },
   {
    "duration": 33,
    "start_time": "2022-01-27T14:42:53.847Z"
   },
   {
    "duration": 5,
    "start_time": "2022-01-27T14:42:53.883Z"
   },
   {
    "duration": 59,
    "start_time": "2022-01-27T14:42:53.891Z"
   },
   {
    "duration": 29,
    "start_time": "2022-01-27T14:42:53.952Z"
   },
   {
    "duration": 49,
    "start_time": "2022-01-27T14:42:53.986Z"
   },
   {
    "duration": 25,
    "start_time": "2022-01-27T14:42:54.041Z"
   },
   {
    "duration": 28,
    "start_time": "2022-01-27T14:42:54.068Z"
   },
   {
    "duration": 117,
    "start_time": "2022-01-27T14:42:54.098Z"
   },
   {
    "duration": 114,
    "start_time": "2022-01-27T14:42:54.218Z"
   },
   {
    "duration": 85,
    "start_time": "2022-01-27T14:42:54.335Z"
   },
   {
    "duration": 62,
    "start_time": "2022-01-27T14:42:54.434Z"
   },
   {
    "duration": 4,
    "start_time": "2022-01-27T14:42:54.499Z"
   },
   {
    "duration": 59,
    "start_time": "2022-01-27T14:42:54.505Z"
   },
   {
    "duration": 9,
    "start_time": "2022-01-27T14:42:54.566Z"
   },
   {
    "duration": 18,
    "start_time": "2022-01-27T14:42:54.578Z"
   },
   {
    "duration": 46,
    "start_time": "2022-01-27T14:42:54.598Z"
   },
   {
    "duration": 7,
    "start_time": "2022-01-27T14:42:54.650Z"
   },
   {
    "duration": 7991,
    "start_time": "2022-01-27T14:42:54.660Z"
   },
   {
    "duration": 343,
    "start_time": "2022-01-27T14:43:02.311Z"
   },
   {
    "duration": 327,
    "start_time": "2022-01-27T14:43:02.329Z"
   },
   {
    "duration": 320,
    "start_time": "2022-01-27T14:43:02.337Z"
   },
   {
    "duration": 314,
    "start_time": "2022-01-27T14:43:02.344Z"
   },
   {
    "duration": 307,
    "start_time": "2022-01-27T14:43:02.353Z"
   },
   {
    "duration": 300,
    "start_time": "2022-01-27T14:43:02.361Z"
   },
   {
    "duration": 293,
    "start_time": "2022-01-27T14:43:02.370Z"
   },
   {
    "duration": 286,
    "start_time": "2022-01-27T14:43:02.378Z"
   },
   {
    "duration": 281,
    "start_time": "2022-01-27T14:43:02.384Z"
   },
   {
    "duration": 277,
    "start_time": "2022-01-27T14:43:02.390Z"
   },
   {
    "duration": 270,
    "start_time": "2022-01-27T14:43:02.398Z"
   },
   {
    "duration": 268,
    "start_time": "2022-01-27T14:43:02.402Z"
   },
   {
    "duration": 265,
    "start_time": "2022-01-27T14:43:02.407Z"
   },
   {
    "duration": 262,
    "start_time": "2022-01-27T14:43:02.411Z"
   },
   {
    "duration": 246,
    "start_time": "2022-01-27T14:43:02.428Z"
   },
   {
    "duration": 243,
    "start_time": "2022-01-27T14:43:02.433Z"
   },
   {
    "duration": 239,
    "start_time": "2022-01-27T14:43:02.438Z"
   },
   {
    "duration": 4,
    "start_time": "2022-01-27T14:43:12.404Z"
   },
   {
    "duration": 6378,
    "start_time": "2022-01-27T14:43:16.681Z"
   },
   {
    "duration": 5,
    "start_time": "2022-01-27T15:13:42.602Z"
   },
   {
    "duration": 7104,
    "start_time": "2022-01-27T15:13:45.791Z"
   },
   {
    "duration": 889,
    "start_time": "2022-01-27T15:14:01.643Z"
   },
   {
    "duration": 189,
    "start_time": "2022-01-27T15:14:02.534Z"
   },
   {
    "duration": 32,
    "start_time": "2022-01-27T15:14:02.729Z"
   },
   {
    "duration": 34,
    "start_time": "2022-01-27T15:14:02.764Z"
   },
   {
    "duration": 34,
    "start_time": "2022-01-27T15:14:02.801Z"
   },
   {
    "duration": 36,
    "start_time": "2022-01-27T15:14:02.839Z"
   },
   {
    "duration": 70,
    "start_time": "2022-01-27T15:14:02.880Z"
   },
   {
    "duration": 49,
    "start_time": "2022-01-27T15:14:02.953Z"
   },
   {
    "duration": 34,
    "start_time": "2022-01-27T15:14:03.005Z"
   },
   {
    "duration": 36,
    "start_time": "2022-01-27T15:14:03.043Z"
   },
   {
    "duration": 111,
    "start_time": "2022-01-27T15:14:03.081Z"
   },
   {
    "duration": 115,
    "start_time": "2022-01-27T15:14:03.194Z"
   },
   {
    "duration": 101,
    "start_time": "2022-01-27T15:14:03.311Z"
   },
   {
    "duration": 72,
    "start_time": "2022-01-27T15:14:03.415Z"
   },
   {
    "duration": 4,
    "start_time": "2022-01-27T15:14:03.489Z"
   },
   {
    "duration": 64,
    "start_time": "2022-01-27T15:14:03.496Z"
   },
   {
    "duration": 10,
    "start_time": "2022-01-27T15:14:03.564Z"
   },
   {
    "duration": 26,
    "start_time": "2022-01-27T15:14:03.577Z"
   },
   {
    "duration": 48,
    "start_time": "2022-01-27T15:14:03.605Z"
   },
   {
    "duration": 8,
    "start_time": "2022-01-27T15:14:03.656Z"
   },
   {
    "duration": 6723,
    "start_time": "2022-01-27T15:14:03.666Z"
   },
   {
    "duration": 368,
    "start_time": "2022-01-27T15:14:10.024Z"
   },
   {
    "duration": 365,
    "start_time": "2022-01-27T15:14:10.029Z"
   },
   {
    "duration": 360,
    "start_time": "2022-01-27T15:14:10.035Z"
   },
   {
    "duration": 358,
    "start_time": "2022-01-27T15:14:10.039Z"
   },
   {
    "duration": 355,
    "start_time": "2022-01-27T15:14:10.043Z"
   },
   {
    "duration": 353,
    "start_time": "2022-01-27T15:14:10.047Z"
   },
   {
    "duration": 350,
    "start_time": "2022-01-27T15:14:10.051Z"
   },
   {
    "duration": 348,
    "start_time": "2022-01-27T15:14:10.055Z"
   },
   {
    "duration": 338,
    "start_time": "2022-01-27T15:14:10.066Z"
   },
   {
    "duration": 337,
    "start_time": "2022-01-27T15:14:10.069Z"
   },
   {
    "duration": 335,
    "start_time": "2022-01-27T15:14:10.072Z"
   },
   {
    "duration": 334,
    "start_time": "2022-01-27T15:14:10.074Z"
   },
   {
    "duration": 333,
    "start_time": "2022-01-27T15:14:10.077Z"
   },
   {
    "duration": 332,
    "start_time": "2022-01-27T15:14:10.079Z"
   },
   {
    "duration": 331,
    "start_time": "2022-01-27T15:14:10.082Z"
   },
   {
    "duration": 329,
    "start_time": "2022-01-27T15:14:10.085Z"
   },
   {
    "duration": 329,
    "start_time": "2022-01-27T15:14:10.087Z"
   },
   {
    "duration": 240,
    "start_time": "2022-01-27T15:14:24.166Z"
   },
   {
    "duration": 836,
    "start_time": "2022-01-27T15:32:30.237Z"
   },
   {
    "duration": 205,
    "start_time": "2022-01-27T15:32:31.077Z"
   },
   {
    "duration": 27,
    "start_time": "2022-01-27T15:32:31.285Z"
   },
   {
    "duration": 83,
    "start_time": "2022-01-27T15:32:31.314Z"
   },
   {
    "duration": 20,
    "start_time": "2022-01-27T15:32:31.401Z"
   },
   {
    "duration": 60,
    "start_time": "2022-01-27T15:32:31.424Z"
   },
   {
    "duration": 36,
    "start_time": "2022-01-27T15:32:31.487Z"
   },
   {
    "duration": 54,
    "start_time": "2022-01-27T15:32:31.528Z"
   },
   {
    "duration": 27,
    "start_time": "2022-01-27T15:32:31.586Z"
   },
   {
    "duration": 40,
    "start_time": "2022-01-27T15:32:31.616Z"
   },
   {
    "duration": 114,
    "start_time": "2022-01-27T15:32:31.658Z"
   },
   {
    "duration": 119,
    "start_time": "2022-01-27T15:32:31.775Z"
   },
   {
    "duration": 116,
    "start_time": "2022-01-27T15:32:31.897Z"
   },
   {
    "duration": 76,
    "start_time": "2022-01-27T15:32:32.016Z"
   },
   {
    "duration": 4,
    "start_time": "2022-01-27T15:32:32.095Z"
   },
   {
    "duration": 66,
    "start_time": "2022-01-27T15:32:32.101Z"
   },
   {
    "duration": 7,
    "start_time": "2022-01-27T15:32:32.170Z"
   },
   {
    "duration": 24,
    "start_time": "2022-01-27T15:32:32.179Z"
   },
   {
    "duration": 41,
    "start_time": "2022-01-27T15:32:32.206Z"
   },
   {
    "duration": 5,
    "start_time": "2022-01-27T15:32:32.249Z"
   },
   {
    "duration": 6546,
    "start_time": "2022-01-27T15:32:32.257Z"
   },
   {
    "duration": 330,
    "start_time": "2022-01-27T15:32:38.477Z"
   },
   {
    "duration": 326,
    "start_time": "2022-01-27T15:32:38.483Z"
   },
   {
    "duration": 324,
    "start_time": "2022-01-27T15:32:38.487Z"
   },
   {
    "duration": 321,
    "start_time": "2022-01-27T15:32:38.492Z"
   },
   {
    "duration": 317,
    "start_time": "2022-01-27T15:32:38.497Z"
   },
   {
    "duration": 314,
    "start_time": "2022-01-27T15:32:38.502Z"
   },
   {
    "duration": 312,
    "start_time": "2022-01-27T15:32:38.507Z"
   },
   {
    "duration": 308,
    "start_time": "2022-01-27T15:32:38.512Z"
   },
   {
    "duration": 306,
    "start_time": "2022-01-27T15:32:38.516Z"
   },
   {
    "duration": 295,
    "start_time": "2022-01-27T15:32:38.529Z"
   },
   {
    "duration": 294,
    "start_time": "2022-01-27T15:32:38.532Z"
   },
   {
    "duration": 293,
    "start_time": "2022-01-27T15:32:38.535Z"
   },
   {
    "duration": 293,
    "start_time": "2022-01-27T15:32:38.537Z"
   },
   {
    "duration": 292,
    "start_time": "2022-01-27T15:32:38.540Z"
   },
   {
    "duration": 291,
    "start_time": "2022-01-27T15:32:38.542Z"
   },
   {
    "duration": 290,
    "start_time": "2022-01-27T15:32:38.545Z"
   },
   {
    "duration": 291,
    "start_time": "2022-01-27T15:32:38.547Z"
   },
   {
    "duration": 6,
    "start_time": "2022-01-27T15:33:20.743Z"
   },
   {
    "duration": 6393,
    "start_time": "2022-01-27T15:33:23.947Z"
   },
   {
    "duration": 277,
    "start_time": "2022-01-27T15:33:30.069Z"
   },
   {
    "duration": 251,
    "start_time": "2022-01-27T15:33:33.821Z"
   },
   {
    "duration": 242,
    "start_time": "2022-01-27T15:34:04.244Z"
   },
   {
    "duration": 6680,
    "start_time": "2022-01-27T15:34:12.596Z"
   },
   {
    "duration": 327,
    "start_time": "2022-01-27T15:34:18.953Z"
   },
   {
    "duration": 322,
    "start_time": "2022-01-27T15:34:18.960Z"
   },
   {
    "duration": 318,
    "start_time": "2022-01-27T15:34:18.966Z"
   },
   {
    "duration": 316,
    "start_time": "2022-01-27T15:34:18.970Z"
   },
   {
    "duration": 6989,
    "start_time": "2022-01-27T15:34:24.943Z"
   },
   {
    "duration": 255,
    "start_time": "2022-01-27T15:38:04.456Z"
   },
   {
    "duration": 234,
    "start_time": "2022-01-27T15:41:28.319Z"
   },
   {
    "duration": 5,
    "start_time": "2022-01-27T15:42:31.660Z"
   },
   {
    "duration": 7,
    "start_time": "2022-01-27T15:42:34.423Z"
   },
   {
    "duration": 2263,
    "start_time": "2022-01-27T15:42:38.169Z"
   },
   {
    "duration": 282,
    "start_time": "2022-01-27T15:42:51.379Z"
   },
   {
    "duration": 371,
    "start_time": "2022-01-27T18:42:25.475Z"
   },
   {
    "duration": 928,
    "start_time": "2022-01-27T18:42:37.619Z"
   },
   {
    "duration": 431,
    "start_time": "2022-01-27T18:42:38.550Z"
   },
   {
    "duration": 25,
    "start_time": "2022-01-27T18:42:38.984Z"
   },
   {
    "duration": 44,
    "start_time": "2022-01-27T18:42:39.013Z"
   },
   {
    "duration": 7,
    "start_time": "2022-01-27T18:42:39.059Z"
   },
   {
    "duration": 37,
    "start_time": "2022-01-27T18:42:39.069Z"
   },
   {
    "duration": 54,
    "start_time": "2022-01-27T18:42:39.109Z"
   },
   {
    "duration": 31,
    "start_time": "2022-01-27T18:42:39.167Z"
   },
   {
    "duration": 47,
    "start_time": "2022-01-27T18:42:39.201Z"
   },
   {
    "duration": 32,
    "start_time": "2022-01-27T18:42:39.251Z"
   },
   {
    "duration": 108,
    "start_time": "2022-01-27T18:42:39.286Z"
   },
   {
    "duration": 121,
    "start_time": "2022-01-27T18:42:39.396Z"
   },
   {
    "duration": 87,
    "start_time": "2022-01-27T18:42:39.519Z"
   },
   {
    "duration": 81,
    "start_time": "2022-01-27T18:42:39.608Z"
   },
   {
    "duration": 5,
    "start_time": "2022-01-27T18:42:39.692Z"
   },
   {
    "duration": 57,
    "start_time": "2022-01-27T18:42:39.700Z"
   },
   {
    "duration": 8,
    "start_time": "2022-01-27T18:42:39.760Z"
   },
   {
    "duration": 27,
    "start_time": "2022-01-27T18:42:39.771Z"
   },
   {
    "duration": 49,
    "start_time": "2022-01-27T18:42:39.801Z"
   },
   {
    "duration": 6,
    "start_time": "2022-01-27T18:42:39.853Z"
   },
   {
    "duration": 2185,
    "start_time": "2022-01-27T18:42:39.861Z"
   },
   {
    "duration": 198,
    "start_time": "2022-01-27T18:42:41.852Z"
   },
   {
    "duration": 197,
    "start_time": "2022-01-27T18:42:41.856Z"
   },
   {
    "duration": 198,
    "start_time": "2022-01-27T18:42:41.857Z"
   },
   {
    "duration": 200,
    "start_time": "2022-01-27T18:42:41.858Z"
   },
   {
    "duration": 201,
    "start_time": "2022-01-27T18:42:41.859Z"
   },
   {
    "duration": 202,
    "start_time": "2022-01-27T18:42:41.860Z"
   },
   {
    "duration": 202,
    "start_time": "2022-01-27T18:42:41.862Z"
   },
   {
    "duration": 204,
    "start_time": "2022-01-27T18:42:41.863Z"
   },
   {
    "duration": 204,
    "start_time": "2022-01-27T18:42:41.865Z"
   },
   {
    "duration": 205,
    "start_time": "2022-01-27T18:42:41.866Z"
   },
   {
    "duration": 194,
    "start_time": "2022-01-27T18:42:41.880Z"
   },
   {
    "duration": 191,
    "start_time": "2022-01-27T18:42:41.885Z"
   },
   {
    "duration": 191,
    "start_time": "2022-01-27T18:42:41.887Z"
   },
   {
    "duration": 191,
    "start_time": "2022-01-27T18:42:41.889Z"
   },
   {
    "duration": 191,
    "start_time": "2022-01-27T18:42:41.891Z"
   },
   {
    "duration": 184,
    "start_time": "2022-01-27T18:42:41.900Z"
   },
   {
    "duration": 183,
    "start_time": "2022-01-27T18:42:41.902Z"
   },
   {
    "duration": 4,
    "start_time": "2022-01-27T18:42:52.041Z"
   },
   {
    "duration": 212,
    "start_time": "2022-01-27T18:42:54.009Z"
   },
   {
    "duration": 16,
    "start_time": "2022-01-27T18:42:55.625Z"
   },
   {
    "duration": 34,
    "start_time": "2022-01-27T18:43:16.140Z"
   },
   {
    "duration": 7,
    "start_time": "2022-01-27T18:43:22.822Z"
   },
   {
    "duration": 6,
    "start_time": "2022-01-27T18:44:39.999Z"
   },
   {
    "duration": 48,
    "start_time": "2022-01-27T18:45:16.369Z"
   },
   {
    "duration": 6623,
    "start_time": "2022-01-27T18:45:59.316Z"
   },
   {
    "duration": 228,
    "start_time": "2022-01-27T18:46:05.714Z"
   },
   {
    "duration": 31,
    "start_time": "2022-01-27T18:46:06.047Z"
   },
   {
    "duration": 232,
    "start_time": "2022-01-27T18:46:39.294Z"
   },
   {
    "duration": 6214,
    "start_time": "2022-01-27T18:46:46.230Z"
   },
   {
    "duration": 232,
    "start_time": "2022-01-27T18:46:52.215Z"
   },
   {
    "duration": 6252,
    "start_time": "2022-01-27T18:48:02.377Z"
   },
   {
    "duration": 908,
    "start_time": "2022-01-27T18:48:28.537Z"
   },
   {
    "duration": 262,
    "start_time": "2022-01-27T18:48:29.448Z"
   },
   {
    "duration": 36,
    "start_time": "2022-01-27T18:48:29.713Z"
   },
   {
    "duration": 33,
    "start_time": "2022-01-27T18:48:29.752Z"
   },
   {
    "duration": 11,
    "start_time": "2022-01-27T18:48:29.788Z"
   },
   {
    "duration": 51,
    "start_time": "2022-01-27T18:48:29.802Z"
   },
   {
    "duration": 7,
    "start_time": "2022-01-27T18:48:29.856Z"
   },
   {
    "duration": 32,
    "start_time": "2022-01-27T18:48:29.867Z"
   },
   {
    "duration": 47,
    "start_time": "2022-01-27T18:48:29.902Z"
   },
   {
    "duration": 31,
    "start_time": "2022-01-27T18:48:29.952Z"
   },
   {
    "duration": 151,
    "start_time": "2022-01-27T18:48:29.986Z"
   },
   {
    "duration": 153,
    "start_time": "2022-01-27T18:48:30.140Z"
   },
   {
    "duration": 116,
    "start_time": "2022-01-27T18:48:30.296Z"
   },
   {
    "duration": 70,
    "start_time": "2022-01-27T18:48:30.415Z"
   },
   {
    "duration": 5,
    "start_time": "2022-01-27T18:48:30.487Z"
   },
   {
    "duration": 58,
    "start_time": "2022-01-27T18:48:30.494Z"
   },
   {
    "duration": 8,
    "start_time": "2022-01-27T18:48:30.554Z"
   },
   {
    "duration": 23,
    "start_time": "2022-01-27T18:48:30.565Z"
   },
   {
    "duration": 50,
    "start_time": "2022-01-27T18:48:30.591Z"
   },
   {
    "duration": 5,
    "start_time": "2022-01-27T18:48:30.644Z"
   },
   {
    "duration": 2249,
    "start_time": "2022-01-27T18:48:30.652Z"
   },
   {
    "duration": 191,
    "start_time": "2022-01-27T18:48:32.715Z"
   },
   {
    "duration": 192,
    "start_time": "2022-01-27T18:48:32.717Z"
   },
   {
    "duration": 194,
    "start_time": "2022-01-27T18:48:32.718Z"
   },
   {
    "duration": 195,
    "start_time": "2022-01-27T18:48:32.719Z"
   },
   {
    "duration": 196,
    "start_time": "2022-01-27T18:48:32.720Z"
   },
   {
    "duration": 196,
    "start_time": "2022-01-27T18:48:32.722Z"
   },
   {
    "duration": 198,
    "start_time": "2022-01-27T18:48:32.723Z"
   },
   {
    "duration": 199,
    "start_time": "2022-01-27T18:48:32.724Z"
   },
   {
    "duration": 201,
    "start_time": "2022-01-27T18:48:32.725Z"
   },
   {
    "duration": 202,
    "start_time": "2022-01-27T18:48:32.726Z"
   },
   {
    "duration": 203,
    "start_time": "2022-01-27T18:48:32.727Z"
   },
   {
    "duration": 203,
    "start_time": "2022-01-27T18:48:32.729Z"
   },
   {
    "duration": 204,
    "start_time": "2022-01-27T18:48:32.730Z"
   },
   {
    "duration": 206,
    "start_time": "2022-01-27T18:48:32.731Z"
   },
   {
    "duration": 207,
    "start_time": "2022-01-27T18:48:32.732Z"
   },
   {
    "duration": 209,
    "start_time": "2022-01-27T18:48:32.733Z"
   },
   {
    "duration": 210,
    "start_time": "2022-01-27T18:48:32.734Z"
   },
   {
    "duration": 32,
    "start_time": "2022-01-27T18:51:43.892Z"
   },
   {
    "duration": 27,
    "start_time": "2022-01-27T18:51:56.730Z"
   },
   {
    "duration": 42,
    "start_time": "2022-01-27T18:52:05.072Z"
   },
   {
    "duration": 110,
    "start_time": "2022-01-27T18:52:23.477Z"
   },
   {
    "duration": 108,
    "start_time": "2022-01-27T18:52:37.572Z"
   },
   {
    "duration": 104,
    "start_time": "2022-01-27T18:52:44.144Z"
   },
   {
    "duration": 90,
    "start_time": "2022-01-27T18:52:48.361Z"
   },
   {
    "duration": 105,
    "start_time": "2022-01-27T18:53:21.258Z"
   },
   {
    "duration": 83,
    "start_time": "2022-01-27T18:53:33.936Z"
   },
   {
    "duration": 62,
    "start_time": "2022-01-27T18:54:30.845Z"
   },
   {
    "duration": 72,
    "start_time": "2022-01-27T18:54:41.958Z"
   },
   {
    "duration": 4,
    "start_time": "2022-01-27T18:55:44.265Z"
   },
   {
    "duration": 35,
    "start_time": "2022-01-27T18:56:42.019Z"
   },
   {
    "duration": 9,
    "start_time": "2022-01-27T18:57:21.126Z"
   },
   {
    "duration": 109,
    "start_time": "2022-01-27T18:57:57.428Z"
   },
   {
    "duration": 7,
    "start_time": "2022-01-27T18:58:36.738Z"
   },
   {
    "duration": 90,
    "start_time": "2022-01-27T18:59:00.007Z"
   },
   {
    "duration": 18,
    "start_time": "2022-01-27T19:00:02.034Z"
   },
   {
    "duration": 30,
    "start_time": "2022-01-27T19:00:04.978Z"
   },
   {
    "duration": 20,
    "start_time": "2022-01-27T19:00:27.010Z"
   },
   {
    "duration": 5,
    "start_time": "2022-01-27T19:01:04.561Z"
   },
   {
    "duration": 7047,
    "start_time": "2022-01-27T19:01:25.823Z"
   },
   {
    "duration": 268,
    "start_time": "2022-01-27T19:03:36.043Z"
   },
   {
    "duration": 7215,
    "start_time": "2022-01-27T19:04:09.409Z"
   },
   {
    "duration": 238,
    "start_time": "2022-01-27T19:06:32.030Z"
   },
   {
    "duration": 964,
    "start_time": "2022-01-27T19:06:48.493Z"
   },
   {
    "duration": 266,
    "start_time": "2022-01-27T19:06:49.460Z"
   },
   {
    "duration": 26,
    "start_time": "2022-01-27T19:06:49.729Z"
   },
   {
    "duration": 33,
    "start_time": "2022-01-27T19:06:49.758Z"
   },
   {
    "duration": 5,
    "start_time": "2022-01-27T19:06:49.794Z"
   },
   {
    "duration": 30,
    "start_time": "2022-01-27T19:06:49.833Z"
   },
   {
    "duration": 8,
    "start_time": "2022-01-27T19:06:49.865Z"
   },
   {
    "duration": 57,
    "start_time": "2022-01-27T19:06:49.876Z"
   },
   {
    "duration": 20,
    "start_time": "2022-01-27T19:06:49.937Z"
   },
   {
    "duration": 29,
    "start_time": "2022-01-27T19:06:49.960Z"
   },
   {
    "duration": 114,
    "start_time": "2022-01-27T19:06:49.992Z"
   },
   {
    "duration": 108,
    "start_time": "2022-01-27T19:06:50.108Z"
   },
   {
    "duration": 81,
    "start_time": "2022-01-27T19:06:50.219Z"
   },
   {
    "duration": 74,
    "start_time": "2022-01-27T19:06:50.303Z"
   },
   {
    "duration": 4,
    "start_time": "2022-01-27T19:06:50.381Z"
   },
   {
    "duration": 58,
    "start_time": "2022-01-27T19:06:50.388Z"
   },
   {
    "duration": 105,
    "start_time": "2022-01-27T19:06:50.449Z"
   },
   {
    "duration": 23,
    "start_time": "2022-01-27T19:06:50.557Z"
   },
   {
    "duration": 48,
    "start_time": "2022-01-27T19:06:50.583Z"
   },
   {
    "duration": 5,
    "start_time": "2022-01-27T19:06:50.634Z"
   },
   {
    "duration": 7163,
    "start_time": "2022-01-27T19:06:50.642Z"
   },
   {
    "duration": 251,
    "start_time": "2022-01-27T19:06:57.557Z"
   },
   {
    "duration": 248,
    "start_time": "2022-01-27T19:06:57.561Z"
   },
   {
    "duration": 249,
    "start_time": "2022-01-27T19:06:57.562Z"
   },
   {
    "duration": 249,
    "start_time": "2022-01-27T19:06:57.563Z"
   },
   {
    "duration": 249,
    "start_time": "2022-01-27T19:06:57.564Z"
   },
   {
    "duration": 250,
    "start_time": "2022-01-27T19:06:57.565Z"
   },
   {
    "duration": 250,
    "start_time": "2022-01-27T19:06:57.567Z"
   },
   {
    "duration": 250,
    "start_time": "2022-01-27T19:06:57.568Z"
   },
   {
    "duration": 251,
    "start_time": "2022-01-27T19:06:57.569Z"
   },
   {
    "duration": 251,
    "start_time": "2022-01-27T19:06:57.570Z"
   },
   {
    "duration": 250,
    "start_time": "2022-01-27T19:06:57.572Z"
   },
   {
    "duration": 251,
    "start_time": "2022-01-27T19:06:57.573Z"
   },
   {
    "duration": 251,
    "start_time": "2022-01-27T19:06:57.574Z"
   },
   {
    "duration": 252,
    "start_time": "2022-01-27T19:06:57.575Z"
   },
   {
    "duration": 253,
    "start_time": "2022-01-27T19:06:57.576Z"
   },
   {
    "duration": 237,
    "start_time": "2022-01-27T19:06:57.593Z"
   },
   {
    "duration": 235,
    "start_time": "2022-01-27T19:06:57.596Z"
   },
   {
    "duration": 342,
    "start_time": "2022-01-27T19:08:26.343Z"
   },
   {
    "duration": 5,
    "start_time": "2022-01-27T19:09:08.912Z"
   },
   {
    "duration": 534,
    "start_time": "2022-01-27T19:09:43.155Z"
   },
   {
    "duration": 5,
    "start_time": "2022-01-27T19:13:38.627Z"
   },
   {
    "duration": 6604,
    "start_time": "2022-01-27T19:13:45.196Z"
   },
   {
    "duration": 144,
    "start_time": "2022-01-27T19:14:50.751Z"
   },
   {
    "duration": 86,
    "start_time": "2022-01-27T19:15:08.855Z"
   },
   {
    "duration": 3,
    "start_time": "2022-01-27T19:15:35.430Z"
   },
   {
    "duration": 751,
    "start_time": "2022-01-27T19:15:47.290Z"
   },
   {
    "duration": 182,
    "start_time": "2022-01-27T19:15:48.045Z"
   },
   {
    "duration": 26,
    "start_time": "2022-01-27T19:15:48.234Z"
   },
   {
    "duration": 33,
    "start_time": "2022-01-27T19:15:48.263Z"
   },
   {
    "duration": 35,
    "start_time": "2022-01-27T19:15:48.299Z"
   },
   {
    "duration": 33,
    "start_time": "2022-01-27T19:15:48.336Z"
   },
   {
    "duration": 14,
    "start_time": "2022-01-27T19:15:48.371Z"
   },
   {
    "duration": 49,
    "start_time": "2022-01-27T19:15:48.388Z"
   },
   {
    "duration": 22,
    "start_time": "2022-01-27T19:15:48.443Z"
   },
   {
    "duration": 37,
    "start_time": "2022-01-27T19:15:48.468Z"
   },
   {
    "duration": 88,
    "start_time": "2022-01-27T19:15:48.531Z"
   },
   {
    "duration": 124,
    "start_time": "2022-01-27T19:15:48.621Z"
   },
   {
    "duration": 116,
    "start_time": "2022-01-27T19:15:48.748Z"
   },
   {
    "duration": 102,
    "start_time": "2022-01-27T19:15:48.867Z"
   },
   {
    "duration": 5,
    "start_time": "2022-01-27T19:15:48.972Z"
   },
   {
    "duration": 38,
    "start_time": "2022-01-27T19:15:48.980Z"
   },
   {
    "duration": 60,
    "start_time": "2022-01-27T19:15:49.033Z"
   },
   {
    "duration": 38,
    "start_time": "2022-01-27T19:15:49.096Z"
   },
   {
    "duration": 16,
    "start_time": "2022-01-27T19:15:49.136Z"
   },
   {
    "duration": 4,
    "start_time": "2022-01-27T19:15:49.154Z"
   },
   {
    "duration": 6766,
    "start_time": "2022-01-27T19:15:49.161Z"
   },
   {
    "duration": 264,
    "start_time": "2022-01-27T19:15:55.667Z"
   },
   {
    "duration": 264,
    "start_time": "2022-01-27T19:15:55.668Z"
   },
   {
    "duration": 264,
    "start_time": "2022-01-27T19:15:55.670Z"
   },
   {
    "duration": 265,
    "start_time": "2022-01-27T19:15:55.671Z"
   },
   {
    "duration": 265,
    "start_time": "2022-01-27T19:15:55.672Z"
   },
   {
    "duration": 264,
    "start_time": "2022-01-27T19:15:55.674Z"
   },
   {
    "duration": 264,
    "start_time": "2022-01-27T19:15:55.675Z"
   },
   {
    "duration": 265,
    "start_time": "2022-01-27T19:15:55.676Z"
   },
   {
    "duration": 265,
    "start_time": "2022-01-27T19:15:55.677Z"
   },
   {
    "duration": 266,
    "start_time": "2022-01-27T19:15:55.678Z"
   },
   {
    "duration": 266,
    "start_time": "2022-01-27T19:15:55.679Z"
   },
   {
    "duration": 266,
    "start_time": "2022-01-27T19:15:55.680Z"
   },
   {
    "duration": 266,
    "start_time": "2022-01-27T19:15:55.682Z"
   },
   {
    "duration": 266,
    "start_time": "2022-01-27T19:15:55.683Z"
   },
   {
    "duration": 267,
    "start_time": "2022-01-27T19:15:55.684Z"
   },
   {
    "duration": 242,
    "start_time": "2022-01-27T19:15:55.710Z"
   },
   {
    "duration": 243,
    "start_time": "2022-01-27T19:15:55.711Z"
   },
   {
    "duration": 259,
    "start_time": "2022-01-27T19:16:25.439Z"
   },
   {
    "duration": 4,
    "start_time": "2022-01-27T19:16:35.607Z"
   },
   {
    "duration": 6566,
    "start_time": "2022-01-27T19:16:39.684Z"
   },
   {
    "duration": 265,
    "start_time": "2022-01-27T19:16:45.989Z"
   },
   {
    "duration": 266,
    "start_time": "2022-01-27T19:16:45.990Z"
   },
   {
    "duration": 267,
    "start_time": "2022-01-27T19:16:45.991Z"
   },
   {
    "duration": 267,
    "start_time": "2022-01-27T19:16:45.993Z"
   },
   {
    "duration": 268,
    "start_time": "2022-01-27T19:16:45.994Z"
   },
   {
    "duration": 6280,
    "start_time": "2022-01-27T19:16:52.897Z"
   },
   {
    "duration": 4,
    "start_time": "2022-01-27T19:17:33.841Z"
   },
   {
    "duration": 5,
    "start_time": "2022-01-27T19:18:32.378Z"
   },
   {
    "duration": 7321,
    "start_time": "2022-01-27T19:18:41.100Z"
   },
   {
    "duration": 5,
    "start_time": "2022-01-27T19:18:57.002Z"
   },
   {
    "duration": 560,
    "start_time": "2022-01-27T19:19:02.259Z"
   },
   {
    "duration": 5,
    "start_time": "2022-01-27T19:19:14.981Z"
   },
   {
    "duration": 855,
    "start_time": "2022-01-27T19:28:08.252Z"
   },
   {
    "duration": 267,
    "start_time": "2022-01-27T19:28:09.110Z"
   },
   {
    "duration": 54,
    "start_time": "2022-01-27T19:28:09.381Z"
   },
   {
    "duration": 51,
    "start_time": "2022-01-27T19:28:09.438Z"
   },
   {
    "duration": 6,
    "start_time": "2022-01-27T19:28:09.492Z"
   },
   {
    "duration": 64,
    "start_time": "2022-01-27T19:28:09.501Z"
   },
   {
    "duration": 21,
    "start_time": "2022-01-27T19:28:09.568Z"
   },
   {
    "duration": 36,
    "start_time": "2022-01-27T19:28:09.593Z"
   },
   {
    "duration": 23,
    "start_time": "2022-01-27T19:28:09.633Z"
   },
   {
    "duration": 30,
    "start_time": "2022-01-27T19:28:09.658Z"
   },
   {
    "duration": 112,
    "start_time": "2022-01-27T19:28:09.691Z"
   },
   {
    "duration": 115,
    "start_time": "2022-01-27T19:28:09.805Z"
   },
   {
    "duration": 75,
    "start_time": "2022-01-27T19:28:09.922Z"
   },
   {
    "duration": 71,
    "start_time": "2022-01-27T19:28:10.000Z"
   },
   {
    "duration": 4,
    "start_time": "2022-01-27T19:28:10.074Z"
   },
   {
    "duration": 53,
    "start_time": "2022-01-27T19:28:10.081Z"
   },
   {
    "duration": 60,
    "start_time": "2022-01-27T19:28:10.136Z"
   },
   {
    "duration": 42,
    "start_time": "2022-01-27T19:28:10.199Z"
   },
   {
    "duration": 15,
    "start_time": "2022-01-27T19:28:10.243Z"
   },
   {
    "duration": 5,
    "start_time": "2022-01-27T19:28:10.261Z"
   },
   {
    "duration": 6736,
    "start_time": "2022-01-27T19:28:10.268Z"
   },
   {
    "duration": 292,
    "start_time": "2022-01-27T19:28:16.717Z"
   },
   {
    "duration": 294,
    "start_time": "2022-01-27T19:28:16.718Z"
   },
   {
    "duration": 295,
    "start_time": "2022-01-27T19:28:16.719Z"
   },
   {
    "duration": 296,
    "start_time": "2022-01-27T19:28:16.720Z"
   },
   {
    "duration": 297,
    "start_time": "2022-01-27T19:28:16.722Z"
   },
   {
    "duration": 298,
    "start_time": "2022-01-27T19:28:16.723Z"
   },
   {
    "duration": 300,
    "start_time": "2022-01-27T19:28:16.724Z"
   },
   {
    "duration": 301,
    "start_time": "2022-01-27T19:28:16.725Z"
   },
   {
    "duration": 302,
    "start_time": "2022-01-27T19:28:16.727Z"
   },
   {
    "duration": 278,
    "start_time": "2022-01-27T19:28:16.753Z"
   },
   {
    "duration": 277,
    "start_time": "2022-01-27T19:28:16.756Z"
   },
   {
    "duration": 278,
    "start_time": "2022-01-27T19:28:16.757Z"
   },
   {
    "duration": 280,
    "start_time": "2022-01-27T19:28:16.758Z"
   },
   {
    "duration": 281,
    "start_time": "2022-01-27T19:28:16.759Z"
   },
   {
    "duration": 282,
    "start_time": "2022-01-27T19:28:16.760Z"
   },
   {
    "duration": 283,
    "start_time": "2022-01-27T19:28:16.762Z"
   },
   {
    "duration": 284,
    "start_time": "2022-01-27T19:28:16.763Z"
   },
   {
    "duration": 342,
    "start_time": "2022-01-27T19:30:38.871Z"
   },
   {
    "duration": 5,
    "start_time": "2022-01-27T19:31:31.497Z"
   },
   {
    "duration": 6150,
    "start_time": "2022-01-27T19:31:38.124Z"
   },
   {
    "duration": 296,
    "start_time": "2022-01-27T19:31:43.981Z"
   },
   {
    "duration": 297,
    "start_time": "2022-01-27T19:31:43.982Z"
   },
   {
    "duration": 297,
    "start_time": "2022-01-27T19:31:43.983Z"
   },
   {
    "duration": 297,
    "start_time": "2022-01-27T19:31:43.984Z"
   },
   {
    "duration": 297,
    "start_time": "2022-01-27T19:31:43.986Z"
   },
   {
    "duration": 297,
    "start_time": "2022-01-27T19:31:43.987Z"
   },
   {
    "duration": 250,
    "start_time": "2022-01-27T19:31:45.304Z"
   },
   {
    "duration": 745,
    "start_time": "2022-01-27T19:43:15.950Z"
   },
   {
    "duration": 180,
    "start_time": "2022-01-27T19:43:16.698Z"
   },
   {
    "duration": 25,
    "start_time": "2022-01-27T19:43:16.881Z"
   },
   {
    "duration": 48,
    "start_time": "2022-01-27T19:43:16.909Z"
   },
   {
    "duration": 6,
    "start_time": "2022-01-27T19:43:16.960Z"
   },
   {
    "duration": 27,
    "start_time": "2022-01-27T19:43:16.969Z"
   },
   {
    "duration": 34,
    "start_time": "2022-01-27T19:43:16.999Z"
   },
   {
    "duration": 29,
    "start_time": "2022-01-27T19:43:17.037Z"
   },
   {
    "duration": 22,
    "start_time": "2022-01-27T19:43:17.069Z"
   },
   {
    "duration": 52,
    "start_time": "2022-01-27T19:43:17.093Z"
   },
   {
    "duration": 96,
    "start_time": "2022-01-27T19:43:17.148Z"
   },
   {
    "duration": 110,
    "start_time": "2022-01-27T19:43:17.247Z"
   },
   {
    "duration": 83,
    "start_time": "2022-01-27T19:43:17.359Z"
   },
   {
    "duration": 56,
    "start_time": "2022-01-27T19:43:17.445Z"
   },
   {
    "duration": 4,
    "start_time": "2022-01-27T19:43:17.503Z"
   },
   {
    "duration": 31,
    "start_time": "2022-01-27T19:43:17.532Z"
   },
   {
    "duration": 78,
    "start_time": "2022-01-27T19:43:17.566Z"
   },
   {
    "duration": 15,
    "start_time": "2022-01-27T19:43:17.647Z"
   },
   {
    "duration": 15,
    "start_time": "2022-01-27T19:43:17.664Z"
   },
   {
    "duration": 5,
    "start_time": "2022-01-27T19:43:17.681Z"
   },
   {
    "duration": 6765,
    "start_time": "2022-01-27T19:43:17.688Z"
   },
   {
    "duration": 328,
    "start_time": "2022-01-27T19:43:24.129Z"
   },
   {
    "duration": 328,
    "start_time": "2022-01-27T19:43:24.130Z"
   },
   {
    "duration": 329,
    "start_time": "2022-01-27T19:43:24.131Z"
   },
   {
    "duration": 328,
    "start_time": "2022-01-27T19:43:24.133Z"
   },
   {
    "duration": 328,
    "start_time": "2022-01-27T19:43:24.134Z"
   },
   {
    "duration": 328,
    "start_time": "2022-01-27T19:43:24.136Z"
   },
   {
    "duration": 328,
    "start_time": "2022-01-27T19:43:24.137Z"
   },
   {
    "duration": 328,
    "start_time": "2022-01-27T19:43:24.138Z"
   },
   {
    "duration": 328,
    "start_time": "2022-01-27T19:43:24.139Z"
   },
   {
    "duration": 328,
    "start_time": "2022-01-27T19:43:24.141Z"
   },
   {
    "duration": 328,
    "start_time": "2022-01-27T19:43:24.142Z"
   },
   {
    "duration": 328,
    "start_time": "2022-01-27T19:43:24.143Z"
   },
   {
    "duration": 329,
    "start_time": "2022-01-27T19:43:24.144Z"
   },
   {
    "duration": 329,
    "start_time": "2022-01-27T19:43:24.146Z"
   },
   {
    "duration": 329,
    "start_time": "2022-01-27T19:43:24.147Z"
   },
   {
    "duration": 321,
    "start_time": "2022-01-27T19:43:24.157Z"
   },
   {
    "duration": 320,
    "start_time": "2022-01-27T19:43:24.160Z"
   },
   {
    "duration": 458,
    "start_time": "2022-01-27T19:43:37.213Z"
   },
   {
    "duration": 1021,
    "start_time": "2022-01-27T19:51:35.255Z"
   },
   {
    "duration": 202,
    "start_time": "2022-01-27T19:51:36.279Z"
   },
   {
    "duration": 26,
    "start_time": "2022-01-27T19:51:36.484Z"
   },
   {
    "duration": 61,
    "start_time": "2022-01-27T19:51:36.512Z"
   },
   {
    "duration": 5,
    "start_time": "2022-01-27T19:51:36.576Z"
   },
   {
    "duration": 56,
    "start_time": "2022-01-27T19:51:36.584Z"
   },
   {
    "duration": 5,
    "start_time": "2022-01-27T19:51:36.643Z"
   },
   {
    "duration": 32,
    "start_time": "2022-01-27T19:51:36.650Z"
   },
   {
    "duration": 53,
    "start_time": "2022-01-27T19:51:36.687Z"
   },
   {
    "duration": 48,
    "start_time": "2022-01-27T19:51:36.744Z"
   },
   {
    "duration": 105,
    "start_time": "2022-01-27T19:51:36.795Z"
   },
   {
    "duration": 110,
    "start_time": "2022-01-27T19:51:36.903Z"
   },
   {
    "duration": 86,
    "start_time": "2022-01-27T19:51:37.015Z"
   },
   {
    "duration": 70,
    "start_time": "2022-01-27T19:51:37.103Z"
   },
   {
    "duration": 4,
    "start_time": "2022-01-27T19:51:37.175Z"
   },
   {
    "duration": 30,
    "start_time": "2022-01-27T19:51:37.182Z"
   },
   {
    "duration": 76,
    "start_time": "2022-01-27T19:51:37.215Z"
   },
   {
    "duration": 41,
    "start_time": "2022-01-27T19:51:37.294Z"
   },
   {
    "duration": 18,
    "start_time": "2022-01-27T19:51:37.338Z"
   },
   {
    "duration": 5,
    "start_time": "2022-01-27T19:51:37.359Z"
   },
   {
    "duration": 6472,
    "start_time": "2022-01-27T19:51:37.367Z"
   },
   {
    "duration": 344,
    "start_time": "2022-01-27T19:51:43.499Z"
   },
   {
    "duration": 341,
    "start_time": "2022-01-27T19:51:43.503Z"
   },
   {
    "duration": 342,
    "start_time": "2022-01-27T19:51:43.504Z"
   },
   {
    "duration": 343,
    "start_time": "2022-01-27T19:51:43.505Z"
   },
   {
    "duration": 342,
    "start_time": "2022-01-27T19:51:43.507Z"
   },
   {
    "duration": 343,
    "start_time": "2022-01-27T19:51:43.508Z"
   },
   {
    "duration": 342,
    "start_time": "2022-01-27T19:51:43.510Z"
   },
   {
    "duration": 343,
    "start_time": "2022-01-27T19:51:43.511Z"
   },
   {
    "duration": 343,
    "start_time": "2022-01-27T19:51:43.512Z"
   },
   {
    "duration": 343,
    "start_time": "2022-01-27T19:51:43.513Z"
   },
   {
    "duration": 343,
    "start_time": "2022-01-27T19:51:43.514Z"
   },
   {
    "duration": 343,
    "start_time": "2022-01-27T19:51:43.516Z"
   },
   {
    "duration": 343,
    "start_time": "2022-01-27T19:51:43.517Z"
   },
   {
    "duration": 331,
    "start_time": "2022-01-27T19:51:43.530Z"
   },
   {
    "duration": 332,
    "start_time": "2022-01-27T19:51:43.531Z"
   },
   {
    "duration": 333,
    "start_time": "2022-01-27T19:51:43.532Z"
   },
   {
    "duration": 332,
    "start_time": "2022-01-27T19:51:43.534Z"
   },
   {
    "duration": 3,
    "start_time": "2022-01-27T19:52:15.470Z"
   },
   {
    "duration": 177,
    "start_time": "2022-01-27T19:52:33.088Z"
   },
   {
    "duration": 182,
    "start_time": "2022-01-27T19:52:41.676Z"
   },
   {
    "duration": 17,
    "start_time": "2022-01-27T19:53:10.378Z"
   },
   {
    "duration": 45,
    "start_time": "2022-01-27T19:53:38.630Z"
   },
   {
    "duration": 5,
    "start_time": "2022-01-27T19:54:06.984Z"
   },
   {
    "duration": 19,
    "start_time": "2022-01-27T19:55:32.626Z"
   },
   {
    "duration": 5,
    "start_time": "2022-01-27T19:55:46.515Z"
   },
   {
    "duration": 29,
    "start_time": "2022-01-27T19:56:07.251Z"
   },
   {
    "duration": 24,
    "start_time": "2022-01-27T19:57:41.835Z"
   },
   {
    "duration": 29,
    "start_time": "2022-01-27T19:57:53.775Z"
   },
   {
    "duration": 80,
    "start_time": "2022-01-27T19:58:23.511Z"
   },
   {
    "duration": 89,
    "start_time": "2022-01-27T19:58:53.984Z"
   },
   {
    "duration": 75,
    "start_time": "2022-01-27T19:59:07.580Z"
   },
   {
    "duration": 57,
    "start_time": "2022-01-27T20:02:26.888Z"
   },
   {
    "duration": 5,
    "start_time": "2022-01-27T20:03:31.658Z"
   },
   {
    "duration": 31,
    "start_time": "2022-01-27T20:04:04.300Z"
   },
   {
    "duration": 58,
    "start_time": "2022-01-27T20:05:12.850Z"
   },
   {
    "duration": 58,
    "start_time": "2022-01-27T20:06:09.905Z"
   },
   {
    "duration": 17,
    "start_time": "2022-01-27T20:06:42.667Z"
   },
   {
    "duration": 16,
    "start_time": "2022-01-27T20:07:04.572Z"
   },
   {
    "duration": 5,
    "start_time": "2022-01-27T20:12:28.039Z"
   },
   {
    "duration": 5,
    "start_time": "2022-01-27T20:14:17.160Z"
   },
   {
    "duration": 6816,
    "start_time": "2022-01-27T20:14:18.911Z"
   },
   {
    "duration": 6402,
    "start_time": "2022-01-27T20:15:26.462Z"
   },
   {
    "duration": 6740,
    "start_time": "2022-01-27T20:21:44.826Z"
   },
   {
    "duration": 222,
    "start_time": "2022-01-27T20:24:27.816Z"
   },
   {
    "duration": 798,
    "start_time": "2022-01-27T20:25:29.880Z"
   },
   {
    "duration": 191,
    "start_time": "2022-01-27T20:25:30.681Z"
   },
   {
    "duration": 27,
    "start_time": "2022-01-27T20:25:30.875Z"
   },
   {
    "duration": 57,
    "start_time": "2022-01-27T20:25:30.905Z"
   },
   {
    "duration": 8,
    "start_time": "2022-01-27T20:25:30.964Z"
   },
   {
    "duration": 45,
    "start_time": "2022-01-27T20:25:30.975Z"
   },
   {
    "duration": 17,
    "start_time": "2022-01-27T20:25:31.022Z"
   },
   {
    "duration": 39,
    "start_time": "2022-01-27T20:25:31.042Z"
   },
   {
    "duration": 29,
    "start_time": "2022-01-27T20:25:31.085Z"
   },
   {
    "duration": 38,
    "start_time": "2022-01-27T20:25:31.117Z"
   },
   {
    "duration": 100,
    "start_time": "2022-01-27T20:25:31.157Z"
   },
   {
    "duration": 112,
    "start_time": "2022-01-27T20:25:31.260Z"
   },
   {
    "duration": 89,
    "start_time": "2022-01-27T20:25:31.375Z"
   },
   {
    "duration": 74,
    "start_time": "2022-01-27T20:25:31.467Z"
   },
   {
    "duration": 5,
    "start_time": "2022-01-27T20:25:31.544Z"
   },
   {
    "duration": 30,
    "start_time": "2022-01-27T20:25:31.551Z"
   },
   {
    "duration": 81,
    "start_time": "2022-01-27T20:25:31.583Z"
   },
   {
    "duration": 15,
    "start_time": "2022-01-27T20:25:31.667Z"
   },
   {
    "duration": 14,
    "start_time": "2022-01-27T20:25:31.685Z"
   },
   {
    "duration": 32,
    "start_time": "2022-01-27T20:25:31.702Z"
   },
   {
    "duration": 6488,
    "start_time": "2022-01-27T20:25:31.737Z"
   },
   {
    "duration": 399,
    "start_time": "2022-01-27T20:25:37.830Z"
   },
   {
    "duration": 400,
    "start_time": "2022-01-27T20:25:37.831Z"
   },
   {
    "duration": 401,
    "start_time": "2022-01-27T20:25:37.832Z"
   },
   {
    "duration": 403,
    "start_time": "2022-01-27T20:25:37.833Z"
   },
   {
    "duration": 404,
    "start_time": "2022-01-27T20:25:37.834Z"
   },
   {
    "duration": 404,
    "start_time": "2022-01-27T20:25:37.836Z"
   },
   {
    "duration": 405,
    "start_time": "2022-01-27T20:25:37.837Z"
   },
   {
    "duration": 405,
    "start_time": "2022-01-27T20:25:37.839Z"
   },
   {
    "duration": 403,
    "start_time": "2022-01-27T20:25:37.843Z"
   },
   {
    "duration": 404,
    "start_time": "2022-01-27T20:25:37.844Z"
   },
   {
    "duration": 393,
    "start_time": "2022-01-27T20:25:37.857Z"
   },
   {
    "duration": 395,
    "start_time": "2022-01-27T20:25:37.858Z"
   },
   {
    "duration": 396,
    "start_time": "2022-01-27T20:25:37.859Z"
   },
   {
    "duration": 397,
    "start_time": "2022-01-27T20:25:37.860Z"
   },
   {
    "duration": 397,
    "start_time": "2022-01-27T20:25:37.862Z"
   },
   {
    "duration": 398,
    "start_time": "2022-01-27T20:25:37.863Z"
   },
   {
    "duration": 362,
    "start_time": "2022-01-27T20:25:37.902Z"
   },
   {
    "duration": 5,
    "start_time": "2022-01-27T20:26:47.593Z"
   },
   {
    "duration": 5,
    "start_time": "2022-01-27T20:27:57.253Z"
   },
   {
    "duration": 6,
    "start_time": "2022-01-27T20:28:35.155Z"
   },
   {
    "duration": 692,
    "start_time": "2022-01-27T20:28:46.681Z"
   },
   {
    "duration": 183,
    "start_time": "2022-01-27T20:28:47.377Z"
   },
   {
    "duration": 31,
    "start_time": "2022-01-27T20:28:47.563Z"
   },
   {
    "duration": 57,
    "start_time": "2022-01-27T20:28:47.598Z"
   },
   {
    "duration": 5,
    "start_time": "2022-01-27T20:28:47.658Z"
   },
   {
    "duration": 26,
    "start_time": "2022-01-27T20:28:47.665Z"
   },
   {
    "duration": 8,
    "start_time": "2022-01-27T20:28:47.694Z"
   },
   {
    "duration": 33,
    "start_time": "2022-01-27T20:28:47.731Z"
   },
   {
    "duration": 25,
    "start_time": "2022-01-27T20:28:47.768Z"
   },
   {
    "duration": 60,
    "start_time": "2022-01-27T20:28:47.795Z"
   },
   {
    "duration": 104,
    "start_time": "2022-01-27T20:28:47.858Z"
   },
   {
    "duration": 110,
    "start_time": "2022-01-27T20:28:47.965Z"
   },
   {
    "duration": 82,
    "start_time": "2022-01-27T20:28:48.078Z"
   },
   {
    "duration": 71,
    "start_time": "2022-01-27T20:28:48.162Z"
   },
   {
    "duration": 4,
    "start_time": "2022-01-27T20:28:48.235Z"
   },
   {
    "duration": 30,
    "start_time": "2022-01-27T20:28:48.242Z"
   },
   {
    "duration": 94,
    "start_time": "2022-01-27T20:28:48.274Z"
   },
   {
    "duration": 15,
    "start_time": "2022-01-27T20:28:48.370Z"
   },
   {
    "duration": 17,
    "start_time": "2022-01-27T20:28:48.387Z"
   },
   {
    "duration": 30,
    "start_time": "2022-01-27T20:28:48.406Z"
   },
   {
    "duration": 6682,
    "start_time": "2022-01-27T20:28:48.438Z"
   },
   {
    "duration": 411,
    "start_time": "2022-01-27T20:28:54.712Z"
   },
   {
    "duration": 411,
    "start_time": "2022-01-27T20:28:54.713Z"
   },
   {
    "duration": 411,
    "start_time": "2022-01-27T20:28:54.715Z"
   },
   {
    "duration": 411,
    "start_time": "2022-01-27T20:28:54.716Z"
   },
   {
    "duration": 412,
    "start_time": "2022-01-27T20:28:54.717Z"
   },
   {
    "duration": 412,
    "start_time": "2022-01-27T20:28:54.719Z"
   },
   {
    "duration": 412,
    "start_time": "2022-01-27T20:28:54.720Z"
   },
   {
    "duration": 413,
    "start_time": "2022-01-27T20:28:54.721Z"
   },
   {
    "duration": 413,
    "start_time": "2022-01-27T20:28:54.722Z"
   },
   {
    "duration": 413,
    "start_time": "2022-01-27T20:28:54.724Z"
   },
   {
    "duration": 414,
    "start_time": "2022-01-27T20:28:54.725Z"
   },
   {
    "duration": 414,
    "start_time": "2022-01-27T20:28:54.726Z"
   },
   {
    "duration": 415,
    "start_time": "2022-01-27T20:28:54.727Z"
   },
   {
    "duration": 414,
    "start_time": "2022-01-27T20:28:54.729Z"
   },
   {
    "duration": 406,
    "start_time": "2022-01-27T20:28:54.738Z"
   },
   {
    "duration": 407,
    "start_time": "2022-01-27T20:28:54.739Z"
   },
   {
    "duration": 408,
    "start_time": "2022-01-27T20:28:54.740Z"
   },
   {
    "duration": 5,
    "start_time": "2022-01-27T20:29:04.751Z"
   },
   {
    "duration": 6880,
    "start_time": "2022-01-27T20:29:08.282Z"
   },
   {
    "duration": 5,
    "start_time": "2022-01-27T20:31:30.309Z"
   },
   {
    "duration": 5,
    "start_time": "2022-01-27T20:31:32.727Z"
   },
   {
    "duration": 6145,
    "start_time": "2022-01-27T20:31:36.124Z"
   },
   {
    "duration": 5,
    "start_time": "2022-01-27T20:31:56.103Z"
   },
   {
    "duration": 6455,
    "start_time": "2022-01-27T20:32:06.687Z"
   },
   {
    "duration": 6,
    "start_time": "2022-01-27T20:33:10.336Z"
   },
   {
    "duration": 766,
    "start_time": "2022-01-27T20:35:56.678Z"
   },
   {
    "duration": 182,
    "start_time": "2022-01-27T20:35:57.447Z"
   },
   {
    "duration": 29,
    "start_time": "2022-01-27T20:35:57.634Z"
   },
   {
    "duration": 34,
    "start_time": "2022-01-27T20:35:57.666Z"
   },
   {
    "duration": 32,
    "start_time": "2022-01-27T20:35:57.702Z"
   },
   {
    "duration": 36,
    "start_time": "2022-01-27T20:35:57.737Z"
   },
   {
    "duration": 8,
    "start_time": "2022-01-27T20:35:57.775Z"
   },
   {
    "duration": 48,
    "start_time": "2022-01-27T20:35:57.786Z"
   },
   {
    "duration": 36,
    "start_time": "2022-01-27T20:35:57.837Z"
   },
   {
    "duration": 29,
    "start_time": "2022-01-27T20:35:57.876Z"
   },
   {
    "duration": 102,
    "start_time": "2022-01-27T20:35:57.908Z"
   },
   {
    "duration": 122,
    "start_time": "2022-01-27T20:35:58.012Z"
   },
   {
    "duration": 78,
    "start_time": "2022-01-27T20:35:58.137Z"
   },
   {
    "duration": 64,
    "start_time": "2022-01-27T20:35:58.233Z"
   },
   {
    "duration": 4,
    "start_time": "2022-01-27T20:35:58.300Z"
   },
   {
    "duration": 51,
    "start_time": "2022-01-27T20:35:58.306Z"
   },
   {
    "duration": 77,
    "start_time": "2022-01-27T20:35:58.360Z"
   },
   {
    "duration": 19,
    "start_time": "2022-01-27T20:35:58.439Z"
   },
   {
    "duration": 14,
    "start_time": "2022-01-27T20:35:58.461Z"
   },
   {
    "duration": 5,
    "start_time": "2022-01-27T20:35:58.477Z"
   },
   {
    "duration": 7665,
    "start_time": "2022-01-27T20:35:58.484Z"
   },
   {
    "duration": 444,
    "start_time": "2022-01-27T20:36:05.709Z"
   },
   {
    "duration": 443,
    "start_time": "2022-01-27T20:36:05.711Z"
   },
   {
    "duration": 444,
    "start_time": "2022-01-27T20:36:05.712Z"
   },
   {
    "duration": 443,
    "start_time": "2022-01-27T20:36:05.714Z"
   },
   {
    "duration": 443,
    "start_time": "2022-01-27T20:36:05.715Z"
   },
   {
    "duration": 444,
    "start_time": "2022-01-27T20:36:05.716Z"
   },
   {
    "duration": 444,
    "start_time": "2022-01-27T20:36:05.717Z"
   },
   {
    "duration": 444,
    "start_time": "2022-01-27T20:36:05.718Z"
   },
   {
    "duration": 445,
    "start_time": "2022-01-27T20:36:05.719Z"
   },
   {
    "duration": 446,
    "start_time": "2022-01-27T20:36:05.720Z"
   },
   {
    "duration": 446,
    "start_time": "2022-01-27T20:36:05.721Z"
   },
   {
    "duration": 445,
    "start_time": "2022-01-27T20:36:05.723Z"
   },
   {
    "duration": 445,
    "start_time": "2022-01-27T20:36:05.724Z"
   },
   {
    "duration": 436,
    "start_time": "2022-01-27T20:36:05.735Z"
   },
   {
    "duration": 435,
    "start_time": "2022-01-27T20:36:05.738Z"
   },
   {
    "duration": 434,
    "start_time": "2022-01-27T20:36:05.740Z"
   },
   {
    "duration": 434,
    "start_time": "2022-01-27T20:36:05.741Z"
   },
   {
    "duration": 252,
    "start_time": "2022-01-27T20:42:36.207Z"
   },
   {
    "duration": 5,
    "start_time": "2022-01-27T20:44:40.227Z"
   },
   {
    "duration": 815,
    "start_time": "2022-01-27T20:45:13.312Z"
   },
   {
    "duration": 264,
    "start_time": "2022-01-27T20:45:14.133Z"
   },
   {
    "duration": 40,
    "start_time": "2022-01-27T20:45:14.401Z"
   },
   {
    "duration": 41,
    "start_time": "2022-01-27T20:45:14.444Z"
   },
   {
    "duration": 5,
    "start_time": "2022-01-27T20:45:14.488Z"
   },
   {
    "duration": 67,
    "start_time": "2022-01-27T20:45:14.495Z"
   },
   {
    "duration": 6,
    "start_time": "2022-01-27T20:45:14.564Z"
   },
   {
    "duration": 30,
    "start_time": "2022-01-27T20:45:14.572Z"
   },
   {
    "duration": 47,
    "start_time": "2022-01-27T20:45:14.606Z"
   },
   {
    "duration": 30,
    "start_time": "2022-01-27T20:45:14.657Z"
   },
   {
    "duration": 114,
    "start_time": "2022-01-27T20:45:14.689Z"
   },
   {
    "duration": 132,
    "start_time": "2022-01-27T20:45:14.806Z"
   },
   {
    "duration": 99,
    "start_time": "2022-01-27T20:45:14.940Z"
   },
   {
    "duration": 94,
    "start_time": "2022-01-27T20:45:15.047Z"
   },
   {
    "duration": 5,
    "start_time": "2022-01-27T20:45:15.144Z"
   },
   {
    "duration": 35,
    "start_time": "2022-01-27T20:45:15.152Z"
   },
   {
    "duration": 86,
    "start_time": "2022-01-27T20:45:15.190Z"
   },
   {
    "duration": 15,
    "start_time": "2022-01-27T20:45:15.278Z"
   },
   {
    "duration": 44,
    "start_time": "2022-01-27T20:45:15.295Z"
   },
   {
    "duration": 5,
    "start_time": "2022-01-27T20:45:15.342Z"
   },
   {
    "duration": 6999,
    "start_time": "2022-01-27T20:45:15.349Z"
   },
   {
    "duration": 441,
    "start_time": "2022-01-27T20:45:21.910Z"
   },
   {
    "duration": 442,
    "start_time": "2022-01-27T20:45:21.911Z"
   },
   {
    "duration": 442,
    "start_time": "2022-01-27T20:45:21.912Z"
   },
   {
    "duration": 442,
    "start_time": "2022-01-27T20:45:21.914Z"
   },
   {
    "duration": 442,
    "start_time": "2022-01-27T20:45:21.915Z"
   },
   {
    "duration": 443,
    "start_time": "2022-01-27T20:45:21.916Z"
   },
   {
    "duration": 442,
    "start_time": "2022-01-27T20:45:21.918Z"
   },
   {
    "duration": 443,
    "start_time": "2022-01-27T20:45:21.919Z"
   },
   {
    "duration": 444,
    "start_time": "2022-01-27T20:45:21.920Z"
   },
   {
    "duration": 444,
    "start_time": "2022-01-27T20:45:21.921Z"
   },
   {
    "duration": 445,
    "start_time": "2022-01-27T20:45:21.922Z"
   },
   {
    "duration": 444,
    "start_time": "2022-01-27T20:45:21.924Z"
   },
   {
    "duration": 445,
    "start_time": "2022-01-27T20:45:21.925Z"
   },
   {
    "duration": 445,
    "start_time": "2022-01-27T20:45:21.926Z"
   },
   {
    "duration": 439,
    "start_time": "2022-01-27T20:45:21.934Z"
   },
   {
    "duration": 439,
    "start_time": "2022-01-27T20:45:21.935Z"
   },
   {
    "duration": 439,
    "start_time": "2022-01-27T20:45:21.936Z"
   },
   {
    "duration": 754,
    "start_time": "2022-01-27T20:50:22.748Z"
   },
   {
    "duration": 188,
    "start_time": "2022-01-27T20:50:23.505Z"
   },
   {
    "duration": 36,
    "start_time": "2022-01-27T20:50:23.696Z"
   },
   {
    "duration": 37,
    "start_time": "2022-01-27T20:50:23.735Z"
   },
   {
    "duration": 6,
    "start_time": "2022-01-27T20:50:23.775Z"
   },
   {
    "duration": 63,
    "start_time": "2022-01-27T20:50:23.784Z"
   },
   {
    "duration": 6,
    "start_time": "2022-01-27T20:50:23.850Z"
   },
   {
    "duration": 39,
    "start_time": "2022-01-27T20:50:23.859Z"
   },
   {
    "duration": 49,
    "start_time": "2022-01-27T20:50:23.903Z"
   },
   {
    "duration": 30,
    "start_time": "2022-01-27T20:50:23.955Z"
   },
   {
    "duration": 111,
    "start_time": "2022-01-27T20:50:23.987Z"
   },
   {
    "duration": 108,
    "start_time": "2022-01-27T20:50:24.100Z"
   },
   {
    "duration": 86,
    "start_time": "2022-01-27T20:50:24.210Z"
   },
   {
    "duration": 65,
    "start_time": "2022-01-27T20:50:24.299Z"
   },
   {
    "duration": 5,
    "start_time": "2022-01-27T20:50:24.367Z"
   },
   {
    "duration": 45,
    "start_time": "2022-01-27T20:50:24.375Z"
   },
   {
    "duration": 65,
    "start_time": "2022-01-27T20:50:24.432Z"
   },
   {
    "duration": 36,
    "start_time": "2022-01-27T20:50:24.500Z"
   },
   {
    "duration": 22,
    "start_time": "2022-01-27T20:50:24.539Z"
   },
   {
    "duration": 78,
    "start_time": "2022-01-27T20:50:24.563Z"
   },
   {
    "duration": 465,
    "start_time": "2022-01-27T20:50:24.180Z"
   },
   {
    "duration": 465,
    "start_time": "2022-01-27T20:50:24.182Z"
   },
   {
    "duration": 464,
    "start_time": "2022-01-27T20:50:24.184Z"
   },
   {
    "duration": 465,
    "start_time": "2022-01-27T20:50:24.185Z"
   },
   {
    "duration": 462,
    "start_time": "2022-01-27T20:50:24.189Z"
   },
   {
    "duration": 446,
    "start_time": "2022-01-27T20:50:24.206Z"
   },
   {
    "duration": 446,
    "start_time": "2022-01-27T20:50:24.208Z"
   },
   {
    "duration": 446,
    "start_time": "2022-01-27T20:50:24.209Z"
   },
   {
    "duration": 447,
    "start_time": "2022-01-27T20:50:24.210Z"
   },
   {
    "duration": 446,
    "start_time": "2022-01-27T20:50:24.212Z"
   },
   {
    "duration": 447,
    "start_time": "2022-01-27T20:50:24.213Z"
   },
   {
    "duration": 447,
    "start_time": "2022-01-27T20:50:24.214Z"
   },
   {
    "duration": 446,
    "start_time": "2022-01-27T20:50:24.216Z"
   },
   {
    "duration": 446,
    "start_time": "2022-01-27T20:50:24.217Z"
   },
   {
    "duration": 447,
    "start_time": "2022-01-27T20:50:24.218Z"
   },
   {
    "duration": 447,
    "start_time": "2022-01-27T20:50:24.219Z"
   },
   {
    "duration": 445,
    "start_time": "2022-01-27T20:50:24.223Z"
   },
   {
    "duration": 444,
    "start_time": "2022-01-27T20:50:24.225Z"
   },
   {
    "duration": 88,
    "start_time": "2022-01-27T20:50:45.486Z"
   },
   {
    "duration": 5,
    "start_time": "2022-01-27T20:51:12.108Z"
   },
   {
    "duration": 6546,
    "start_time": "2022-01-27T20:51:15.496Z"
   },
   {
    "duration": 5,
    "start_time": "2022-01-27T21:08:35.216Z"
   },
   {
    "duration": 6733,
    "start_time": "2022-01-27T21:08:38.554Z"
   },
   {
    "duration": 759,
    "start_time": "2022-01-27T21:10:04.457Z"
   },
   {
    "duration": 194,
    "start_time": "2022-01-27T21:10:05.218Z"
   },
   {
    "duration": 33,
    "start_time": "2022-01-27T21:10:05.415Z"
   },
   {
    "duration": 34,
    "start_time": "2022-01-27T21:10:05.451Z"
   },
   {
    "duration": 5,
    "start_time": "2022-01-27T21:10:05.488Z"
   },
   {
    "duration": 59,
    "start_time": "2022-01-27T21:10:05.496Z"
   },
   {
    "duration": 5,
    "start_time": "2022-01-27T21:10:05.557Z"
   },
   {
    "duration": 46,
    "start_time": "2022-01-27T21:10:05.565Z"
   },
   {
    "duration": 42,
    "start_time": "2022-01-27T21:10:05.615Z"
   },
   {
    "duration": 32,
    "start_time": "2022-01-27T21:10:05.659Z"
   },
   {
    "duration": 116,
    "start_time": "2022-01-27T21:10:05.693Z"
   },
   {
    "duration": 112,
    "start_time": "2022-01-27T21:10:05.812Z"
   },
   {
    "duration": 77,
    "start_time": "2022-01-27T21:10:05.933Z"
   },
   {
    "duration": 75,
    "start_time": "2022-01-27T21:10:06.013Z"
   },
   {
    "duration": 4,
    "start_time": "2022-01-27T21:10:06.091Z"
   },
   {
    "duration": 58,
    "start_time": "2022-01-27T21:10:06.098Z"
   },
   {
    "duration": 74,
    "start_time": "2022-01-27T21:10:06.159Z"
   },
   {
    "duration": 18,
    "start_time": "2022-01-27T21:10:06.236Z"
   },
   {
    "duration": 21,
    "start_time": "2022-01-27T21:10:06.257Z"
   },
   {
    "duration": 5,
    "start_time": "2022-01-27T21:10:06.281Z"
   },
   {
    "duration": 7037,
    "start_time": "2022-01-27T21:10:06.288Z"
   },
   {
    "duration": 463,
    "start_time": "2022-01-27T21:10:12.866Z"
   },
   {
    "duration": 461,
    "start_time": "2022-01-27T21:10:12.869Z"
   },
   {
    "duration": 461,
    "start_time": "2022-01-27T21:10:12.871Z"
   },
   {
    "duration": 462,
    "start_time": "2022-01-27T21:10:12.872Z"
   },
   {
    "duration": 463,
    "start_time": "2022-01-27T21:10:12.873Z"
   },
   {
    "duration": 463,
    "start_time": "2022-01-27T21:10:12.875Z"
   },
   {
    "duration": 464,
    "start_time": "2022-01-27T21:10:12.876Z"
   },
   {
    "duration": 465,
    "start_time": "2022-01-27T21:10:12.877Z"
   },
   {
    "duration": 465,
    "start_time": "2022-01-27T21:10:12.878Z"
   },
   {
    "duration": 465,
    "start_time": "2022-01-27T21:10:12.880Z"
   },
   {
    "duration": 465,
    "start_time": "2022-01-27T21:10:12.881Z"
   },
   {
    "duration": 465,
    "start_time": "2022-01-27T21:10:12.882Z"
   },
   {
    "duration": 466,
    "start_time": "2022-01-27T21:10:12.883Z"
   },
   {
    "duration": 463,
    "start_time": "2022-01-27T21:10:12.887Z"
   },
   {
    "duration": 463,
    "start_time": "2022-01-27T21:10:12.888Z"
   },
   {
    "duration": 464,
    "start_time": "2022-01-27T21:10:12.889Z"
   },
   {
    "duration": 449,
    "start_time": "2022-01-27T21:10:12.906Z"
   },
   {
    "duration": 23,
    "start_time": "2022-01-27T21:10:42.039Z"
   },
   {
    "duration": 5,
    "start_time": "2022-01-27T21:10:45.699Z"
   },
   {
    "duration": 6339,
    "start_time": "2022-01-27T21:10:49.766Z"
   },
   {
    "duration": 553,
    "start_time": "2022-01-28T06:36:27.872Z"
   },
   {
    "duration": 127,
    "start_time": "2022-01-28T06:36:28.426Z"
   },
   {
    "duration": 15,
    "start_time": "2022-01-28T06:36:28.555Z"
   },
   {
    "duration": 24,
    "start_time": "2022-01-28T06:36:28.572Z"
   },
   {
    "duration": 5,
    "start_time": "2022-01-28T06:36:28.597Z"
   },
   {
    "duration": 33,
    "start_time": "2022-01-28T06:36:28.604Z"
   },
   {
    "duration": 6,
    "start_time": "2022-01-28T06:36:28.639Z"
   },
   {
    "duration": 26,
    "start_time": "2022-01-28T06:36:28.647Z"
   },
   {
    "duration": 15,
    "start_time": "2022-01-28T06:36:28.675Z"
   },
   {
    "duration": 20,
    "start_time": "2022-01-28T06:36:28.692Z"
   },
   {
    "duration": 53,
    "start_time": "2022-01-28T06:36:28.727Z"
   },
   {
    "duration": 70,
    "start_time": "2022-01-28T06:36:28.781Z"
   },
   {
    "duration": 46,
    "start_time": "2022-01-28T06:36:28.852Z"
   },
   {
    "duration": 50,
    "start_time": "2022-01-28T06:36:28.899Z"
   },
   {
    "duration": 2,
    "start_time": "2022-01-28T06:36:28.950Z"
   },
   {
    "duration": 20,
    "start_time": "2022-01-28T06:36:28.954Z"
   },
   {
    "duration": 35,
    "start_time": "2022-01-28T06:36:28.975Z"
   },
   {
    "duration": 9,
    "start_time": "2022-01-28T06:36:29.027Z"
   },
   {
    "duration": 12,
    "start_time": "2022-01-28T06:36:29.038Z"
   },
   {
    "duration": 4,
    "start_time": "2022-01-28T06:36:29.051Z"
   },
   {
    "duration": 10587,
    "start_time": "2022-01-28T06:36:29.057Z"
   },
   {
    "duration": 703,
    "start_time": "2022-01-28T06:36:38.944Z"
   },
   {
    "duration": 701,
    "start_time": "2022-01-28T06:36:38.947Z"
   },
   {
    "duration": 699,
    "start_time": "2022-01-28T06:36:38.949Z"
   },
   {
    "duration": 699,
    "start_time": "2022-01-28T06:36:38.950Z"
   },
   {
    "duration": 698,
    "start_time": "2022-01-28T06:36:38.952Z"
   },
   {
    "duration": 698,
    "start_time": "2022-01-28T06:36:38.953Z"
   },
   {
    "duration": 697,
    "start_time": "2022-01-28T06:36:38.954Z"
   },
   {
    "duration": 697,
    "start_time": "2022-01-28T06:36:38.955Z"
   },
   {
    "duration": 697,
    "start_time": "2022-01-28T06:36:38.956Z"
   },
   {
    "duration": 696,
    "start_time": "2022-01-28T06:36:38.958Z"
   },
   {
    "duration": 675,
    "start_time": "2022-01-28T06:36:38.980Z"
   },
   {
    "duration": 673,
    "start_time": "2022-01-28T06:36:38.982Z"
   },
   {
    "duration": 673,
    "start_time": "2022-01-28T06:36:38.983Z"
   },
   {
    "duration": 673,
    "start_time": "2022-01-28T06:36:38.984Z"
   },
   {
    "duration": 672,
    "start_time": "2022-01-28T06:36:38.986Z"
   },
   {
    "duration": 672,
    "start_time": "2022-01-28T06:36:38.987Z"
   },
   {
    "duration": 672,
    "start_time": "2022-01-28T06:36:38.988Z"
   },
   {
    "duration": 12,
    "start_time": "2022-01-28T06:37:11.594Z"
   },
   {
    "duration": 3,
    "start_time": "2022-01-28T06:39:05.918Z"
   },
   {
    "duration": 10183,
    "start_time": "2022-01-28T06:39:13.745Z"
   },
   {
    "duration": 713,
    "start_time": "2022-01-28T06:39:23.217Z"
   },
   {
    "duration": 712,
    "start_time": "2022-01-28T06:39:23.219Z"
   },
   {
    "duration": 712,
    "start_time": "2022-01-28T06:39:23.220Z"
   },
   {
    "duration": 712,
    "start_time": "2022-01-28T06:39:23.221Z"
   },
   {
    "duration": 711,
    "start_time": "2022-01-28T06:39:23.223Z"
   },
   {
    "duration": 711,
    "start_time": "2022-01-28T06:39:23.224Z"
   },
   {
    "duration": 317,
    "start_time": "2022-01-28T06:39:26.354Z"
   },
   {
    "duration": 8366,
    "start_time": "2022-01-28T06:39:34.183Z"
   },
   {
    "duration": 548,
    "start_time": "2022-01-28T07:30:23.573Z"
   },
   {
    "duration": 126,
    "start_time": "2022-01-28T07:30:24.123Z"
   },
   {
    "duration": 15,
    "start_time": "2022-01-28T07:30:24.252Z"
   },
   {
    "duration": 24,
    "start_time": "2022-01-28T07:30:24.269Z"
   },
   {
    "duration": 4,
    "start_time": "2022-01-28T07:30:24.295Z"
   },
   {
    "duration": 43,
    "start_time": "2022-01-28T07:30:24.300Z"
   },
   {
    "duration": 4,
    "start_time": "2022-01-28T07:30:24.345Z"
   },
   {
    "duration": 30,
    "start_time": "2022-01-28T07:30:24.351Z"
   },
   {
    "duration": 15,
    "start_time": "2022-01-28T07:30:24.383Z"
   },
   {
    "duration": 30,
    "start_time": "2022-01-28T07:30:24.400Z"
   },
   {
    "duration": 58,
    "start_time": "2022-01-28T07:30:24.432Z"
   },
   {
    "duration": 77,
    "start_time": "2022-01-28T07:30:24.492Z"
   },
   {
    "duration": 57,
    "start_time": "2022-01-28T07:30:24.571Z"
   },
   {
    "duration": 38,
    "start_time": "2022-01-28T07:30:24.630Z"
   },
   {
    "duration": 3,
    "start_time": "2022-01-28T07:30:24.670Z"
   },
   {
    "duration": 19,
    "start_time": "2022-01-28T07:30:24.675Z"
   },
   {
    "duration": 58,
    "start_time": "2022-01-28T07:30:24.696Z"
   },
   {
    "duration": 10,
    "start_time": "2022-01-28T07:30:24.756Z"
   },
   {
    "duration": 15,
    "start_time": "2022-01-28T07:30:24.767Z"
   },
   {
    "duration": 3,
    "start_time": "2022-01-28T07:30:24.783Z"
   },
   {
    "duration": 9003,
    "start_time": "2022-01-28T07:30:24.788Z"
   },
   {
    "duration": -111,
    "start_time": "2022-01-28T07:30:33.904Z"
   },
   {
    "duration": -112,
    "start_time": "2022-01-28T07:30:33.906Z"
   },
   {
    "duration": -112,
    "start_time": "2022-01-28T07:30:33.907Z"
   },
   {
    "duration": -112,
    "start_time": "2022-01-28T07:30:33.908Z"
   },
   {
    "duration": -113,
    "start_time": "2022-01-28T07:30:33.910Z"
   },
   {
    "duration": -113,
    "start_time": "2022-01-28T07:30:33.911Z"
   },
   {
    "duration": -113,
    "start_time": "2022-01-28T07:30:33.912Z"
   },
   {
    "duration": -114,
    "start_time": "2022-01-28T07:30:33.913Z"
   },
   {
    "duration": -114,
    "start_time": "2022-01-28T07:30:33.914Z"
   },
   {
    "duration": -115,
    "start_time": "2022-01-28T07:30:33.916Z"
   },
   {
    "duration": -115,
    "start_time": "2022-01-28T07:30:33.917Z"
   },
   {
    "duration": -115,
    "start_time": "2022-01-28T07:30:33.918Z"
   },
   {
    "duration": -115,
    "start_time": "2022-01-28T07:30:33.919Z"
   },
   {
    "duration": -115,
    "start_time": "2022-01-28T07:30:33.920Z"
   },
   {
    "duration": -116,
    "start_time": "2022-01-28T07:30:33.922Z"
   },
   {
    "duration": -128,
    "start_time": "2022-01-28T07:30:33.935Z"
   },
   {
    "duration": -129,
    "start_time": "2022-01-28T07:30:33.937Z"
   },
   {
    "duration": 709,
    "start_time": "2022-01-28T07:30:45.312Z"
   },
   {
    "duration": 13,
    "start_time": "2022-01-28T08:23:09.746Z"
   },
   {
    "duration": 15,
    "start_time": "2022-01-28T08:23:14.436Z"
   },
   {
    "duration": 4,
    "start_time": "2022-01-28T08:23:17.831Z"
   },
   {
    "duration": 11,
    "start_time": "2022-01-28T08:23:31.442Z"
   },
   {
    "duration": 4,
    "start_time": "2022-01-28T08:23:33.259Z"
   },
   {
    "duration": 4,
    "start_time": "2022-01-28T08:28:52.316Z"
   },
   {
    "duration": 8550,
    "start_time": "2022-01-28T08:28:56.502Z"
   },
   {
    "duration": 562,
    "start_time": "2022-01-28T08:29:10.054Z"
   },
   {
    "duration": 704,
    "start_time": "2022-01-28T08:29:10.618Z"
   },
   {
    "duration": 15,
    "start_time": "2022-01-28T08:29:11.324Z"
   },
   {
    "duration": 25,
    "start_time": "2022-01-28T08:29:11.340Z"
   },
   {
    "duration": 3,
    "start_time": "2022-01-28T08:29:11.366Z"
   },
   {
    "duration": 21,
    "start_time": "2022-01-28T08:29:11.371Z"
   },
   {
    "duration": 3,
    "start_time": "2022-01-28T08:29:11.394Z"
   },
   {
    "duration": 42,
    "start_time": "2022-01-28T08:29:11.400Z"
   },
   {
    "duration": 15,
    "start_time": "2022-01-28T08:29:11.444Z"
   },
   {
    "duration": 18,
    "start_time": "2022-01-28T08:29:11.461Z"
   },
   {
    "duration": 69,
    "start_time": "2022-01-28T08:29:11.481Z"
   },
   {
    "duration": 65,
    "start_time": "2022-01-28T08:29:11.552Z"
   },
   {
    "duration": 46,
    "start_time": "2022-01-28T08:29:11.627Z"
   },
   {
    "duration": 35,
    "start_time": "2022-01-28T08:29:11.675Z"
   },
   {
    "duration": 15,
    "start_time": "2022-01-28T08:29:11.712Z"
   },
   {
    "duration": 17,
    "start_time": "2022-01-28T08:29:11.729Z"
   },
   {
    "duration": 37,
    "start_time": "2022-01-28T08:29:11.747Z"
   },
   {
    "duration": 10,
    "start_time": "2022-01-28T08:29:11.785Z"
   },
   {
    "duration": 34,
    "start_time": "2022-01-28T08:29:11.797Z"
   },
   {
    "duration": 3,
    "start_time": "2022-01-28T08:29:11.832Z"
   },
   {
    "duration": 9517,
    "start_time": "2022-01-28T08:29:11.837Z"
   },
   {
    "duration": 329,
    "start_time": "2022-01-28T08:29:21.027Z"
   },
   {
    "duration": 328,
    "start_time": "2022-01-28T08:29:21.029Z"
   },
   {
    "duration": 328,
    "start_time": "2022-01-28T08:29:21.030Z"
   },
   {
    "duration": 326,
    "start_time": "2022-01-28T08:29:21.032Z"
   },
   {
    "duration": 326,
    "start_time": "2022-01-28T08:29:21.033Z"
   },
   {
    "duration": 326,
    "start_time": "2022-01-28T08:29:21.034Z"
   },
   {
    "duration": 325,
    "start_time": "2022-01-28T08:29:21.036Z"
   },
   {
    "duration": 322,
    "start_time": "2022-01-28T08:29:21.040Z"
   },
   {
    "duration": 320,
    "start_time": "2022-01-28T08:29:21.042Z"
   },
   {
    "duration": 320,
    "start_time": "2022-01-28T08:29:21.043Z"
   },
   {
    "duration": 320,
    "start_time": "2022-01-28T08:29:21.044Z"
   },
   {
    "duration": 320,
    "start_time": "2022-01-28T08:29:21.045Z"
   },
   {
    "duration": 308,
    "start_time": "2022-01-28T08:29:21.057Z"
   },
   {
    "duration": 307,
    "start_time": "2022-01-28T08:29:21.059Z"
   },
   {
    "duration": 307,
    "start_time": "2022-01-28T08:29:21.060Z"
   },
   {
    "duration": 307,
    "start_time": "2022-01-28T08:29:21.061Z"
   },
   {
    "duration": 306,
    "start_time": "2022-01-28T08:29:21.062Z"
   },
   {
    "duration": 591,
    "start_time": "2022-01-28T08:43:02.510Z"
   },
   {
    "duration": 126,
    "start_time": "2022-01-28T08:43:03.102Z"
   },
   {
    "duration": 17,
    "start_time": "2022-01-28T08:43:03.232Z"
   },
   {
    "duration": 23,
    "start_time": "2022-01-28T08:43:03.253Z"
   },
   {
    "duration": 4,
    "start_time": "2022-01-28T08:43:03.278Z"
   },
   {
    "duration": 43,
    "start_time": "2022-01-28T08:43:03.284Z"
   },
   {
    "duration": 4,
    "start_time": "2022-01-28T08:43:03.330Z"
   },
   {
    "duration": 23,
    "start_time": "2022-01-28T08:43:03.336Z"
   },
   {
    "duration": 17,
    "start_time": "2022-01-28T08:43:03.360Z"
   },
   {
    "duration": 19,
    "start_time": "2022-01-28T08:43:03.379Z"
   },
   {
    "duration": 74,
    "start_time": "2022-01-28T08:43:03.399Z"
   },
   {
    "duration": 70,
    "start_time": "2022-01-28T08:43:03.475Z"
   },
   {
    "duration": 45,
    "start_time": "2022-01-28T08:43:03.547Z"
   },
   {
    "duration": 48,
    "start_time": "2022-01-28T08:43:03.594Z"
   },
   {
    "duration": 3,
    "start_time": "2022-01-28T08:43:03.644Z"
   },
   {
    "duration": 18,
    "start_time": "2022-01-28T08:43:03.648Z"
   },
   {
    "duration": 35,
    "start_time": "2022-01-28T08:43:03.668Z"
   },
   {
    "duration": 26,
    "start_time": "2022-01-28T08:43:03.705Z"
   },
   {
    "duration": 11,
    "start_time": "2022-01-28T08:43:03.733Z"
   },
   {
    "duration": 4,
    "start_time": "2022-01-28T08:43:03.745Z"
   },
   {
    "duration": 8792,
    "start_time": "2022-01-28T08:43:03.751Z"
   },
   {
    "duration": 356,
    "start_time": "2022-01-28T08:43:12.189Z"
   },
   {
    "duration": 356,
    "start_time": "2022-01-28T08:43:12.190Z"
   },
   {
    "duration": 355,
    "start_time": "2022-01-28T08:43:12.192Z"
   },
   {
    "duration": 355,
    "start_time": "2022-01-28T08:43:12.193Z"
   },
   {
    "duration": 356,
    "start_time": "2022-01-28T08:43:12.194Z"
   },
   {
    "duration": 355,
    "start_time": "2022-01-28T08:43:12.196Z"
   },
   {
    "duration": 355,
    "start_time": "2022-01-28T08:43:12.197Z"
   },
   {
    "duration": 355,
    "start_time": "2022-01-28T08:43:12.198Z"
   },
   {
    "duration": 331,
    "start_time": "2022-01-28T08:43:12.223Z"
   },
   {
    "duration": 328,
    "start_time": "2022-01-28T08:43:12.227Z"
   },
   {
    "duration": 328,
    "start_time": "2022-01-28T08:43:12.228Z"
   },
   {
    "duration": 328,
    "start_time": "2022-01-28T08:43:12.229Z"
   },
   {
    "duration": 329,
    "start_time": "2022-01-28T08:43:12.230Z"
   },
   {
    "duration": 329,
    "start_time": "2022-01-28T08:43:12.231Z"
   },
   {
    "duration": 328,
    "start_time": "2022-01-28T08:43:12.233Z"
   },
   {
    "duration": 328,
    "start_time": "2022-01-28T08:43:12.234Z"
   },
   {
    "duration": 327,
    "start_time": "2022-01-28T08:43:12.236Z"
   },
   {
    "duration": 20,
    "start_time": "2022-01-28T08:43:23.313Z"
   },
   {
    "duration": 18,
    "start_time": "2022-01-28T08:43:27.459Z"
   },
   {
    "duration": 371,
    "start_time": "2022-01-28T08:43:35.813Z"
   },
   {
    "duration": 3,
    "start_time": "2022-01-28T08:51:41.792Z"
   },
   {
    "duration": 361,
    "start_time": "2022-01-28T08:58:58.810Z"
   },
   {
    "duration": 3,
    "start_time": "2022-01-28T09:02:26.529Z"
   },
   {
    "duration": 109,
    "start_time": "2022-01-28T09:02:35.555Z"
   },
   {
    "duration": 3,
    "start_time": "2022-01-28T09:02:45.489Z"
   },
   {
    "duration": 4,
    "start_time": "2022-01-28T09:04:01.472Z"
   },
   {
    "duration": 4,
    "start_time": "2022-01-28T09:04:04.674Z"
   },
   {
    "duration": 9300,
    "start_time": "2022-01-28T09:04:22.689Z"
   },
   {
    "duration": 390,
    "start_time": "2022-01-28T09:04:31.601Z"
   },
   {
    "duration": 8795,
    "start_time": "2022-01-28T09:04:32.819Z"
   },
   {
    "duration": 9202,
    "start_time": "2022-01-28T09:04:46.707Z"
   },
   {
    "duration": 396,
    "start_time": "2022-01-28T09:04:55.520Z"
   },
   {
    "duration": 395,
    "start_time": "2022-01-28T09:04:55.522Z"
   },
   {
    "duration": 394,
    "start_time": "2022-01-28T09:04:55.523Z"
   },
   {
    "duration": 316,
    "start_time": "2022-01-28T09:04:58.678Z"
   },
   {
    "duration": 4,
    "start_time": "2022-01-28T09:05:32.266Z"
   },
   {
    "duration": 3,
    "start_time": "2022-01-28T09:05:35.595Z"
   },
   {
    "duration": 629,
    "start_time": "2022-01-28T09:07:19.228Z"
   },
   {
    "duration": 128,
    "start_time": "2022-01-28T09:07:19.859Z"
   },
   {
    "duration": 15,
    "start_time": "2022-01-28T09:07:19.989Z"
   },
   {
    "duration": 32,
    "start_time": "2022-01-28T09:07:20.005Z"
   },
   {
    "duration": 4,
    "start_time": "2022-01-28T09:07:20.039Z"
   },
   {
    "duration": 20,
    "start_time": "2022-01-28T09:07:20.044Z"
   },
   {
    "duration": 4,
    "start_time": "2022-01-28T09:07:20.066Z"
   },
   {
    "duration": 21,
    "start_time": "2022-01-28T09:07:20.073Z"
   },
   {
    "duration": 42,
    "start_time": "2022-01-28T09:07:20.097Z"
   },
   {
    "duration": 22,
    "start_time": "2022-01-28T09:07:20.141Z"
   },
   {
    "duration": 72,
    "start_time": "2022-01-28T09:07:20.165Z"
   },
   {
    "duration": 63,
    "start_time": "2022-01-28T09:07:20.239Z"
   },
   {
    "duration": 59,
    "start_time": "2022-01-28T09:07:20.303Z"
   },
   {
    "duration": 36,
    "start_time": "2022-01-28T09:07:20.363Z"
   },
   {
    "duration": 3,
    "start_time": "2022-01-28T09:07:20.400Z"
   },
   {
    "duration": 30,
    "start_time": "2022-01-28T09:07:20.404Z"
   },
   {
    "duration": 36,
    "start_time": "2022-01-28T09:07:20.436Z"
   },
   {
    "duration": 10,
    "start_time": "2022-01-28T09:07:20.473Z"
   },
   {
    "duration": 9,
    "start_time": "2022-01-28T09:07:20.485Z"
   },
   {
    "duration": 3,
    "start_time": "2022-01-28T09:07:20.495Z"
   },
   {
    "duration": 8716,
    "start_time": "2022-01-28T09:07:20.500Z"
   },
   {
    "duration": 401,
    "start_time": "2022-01-28T09:07:28.817Z"
   },
   {
    "duration": 400,
    "start_time": "2022-01-28T09:07:28.819Z"
   },
   {
    "duration": 399,
    "start_time": "2022-01-28T09:07:28.821Z"
   },
   {
    "duration": 398,
    "start_time": "2022-01-28T09:07:28.823Z"
   },
   {
    "duration": 398,
    "start_time": "2022-01-28T09:07:28.824Z"
   },
   {
    "duration": 397,
    "start_time": "2022-01-28T09:07:28.826Z"
   },
   {
    "duration": 397,
    "start_time": "2022-01-28T09:07:28.827Z"
   },
   {
    "duration": 396,
    "start_time": "2022-01-28T09:07:28.829Z"
   },
   {
    "duration": 396,
    "start_time": "2022-01-28T09:07:28.830Z"
   },
   {
    "duration": 395,
    "start_time": "2022-01-28T09:07:28.832Z"
   },
   {
    "duration": 395,
    "start_time": "2022-01-28T09:07:28.833Z"
   },
   {
    "duration": 394,
    "start_time": "2022-01-28T09:07:28.835Z"
   },
   {
    "duration": 394,
    "start_time": "2022-01-28T09:07:28.836Z"
   },
   {
    "duration": 394,
    "start_time": "2022-01-28T09:07:28.837Z"
   },
   {
    "duration": 394,
    "start_time": "2022-01-28T09:07:28.838Z"
   },
   {
    "duration": 394,
    "start_time": "2022-01-28T09:07:28.839Z"
   },
   {
    "duration": 385,
    "start_time": "2022-01-28T09:07:28.849Z"
   },
   {
    "duration": 4,
    "start_time": "2022-01-28T09:10:46.788Z"
   },
   {
    "duration": 4,
    "start_time": "2022-01-28T09:19:09.922Z"
   },
   {
    "duration": 8734,
    "start_time": "2022-01-28T09:19:14.116Z"
   },
   {
    "duration": 3,
    "start_time": "2022-01-28T09:19:51.384Z"
   },
   {
    "duration": 117,
    "start_time": "2022-01-28T09:20:37.349Z"
   },
   {
    "duration": 116,
    "start_time": "2022-01-28T09:20:37.351Z"
   },
   {
    "duration": 82,
    "start_time": "2022-01-28T09:20:37.386Z"
   },
   {
    "duration": 80,
    "start_time": "2022-01-28T09:20:37.389Z"
   },
   {
    "duration": 78,
    "start_time": "2022-01-28T09:20:37.391Z"
   },
   {
    "duration": 77,
    "start_time": "2022-01-28T09:20:37.393Z"
   },
   {
    "duration": 76,
    "start_time": "2022-01-28T09:20:37.395Z"
   },
   {
    "duration": 76,
    "start_time": "2022-01-28T09:20:37.396Z"
   },
   {
    "duration": 51,
    "start_time": "2022-01-28T09:20:37.422Z"
   },
   {
    "duration": 51,
    "start_time": "2022-01-28T09:20:37.423Z"
   },
   {
    "duration": 50,
    "start_time": "2022-01-28T09:20:37.424Z"
   },
   {
    "duration": 50,
    "start_time": "2022-01-28T09:20:37.425Z"
   },
   {
    "duration": 49,
    "start_time": "2022-01-28T09:20:37.427Z"
   },
   {
    "duration": 49,
    "start_time": "2022-01-28T09:20:37.428Z"
   },
   {
    "duration": 20,
    "start_time": "2022-01-28T09:20:37.458Z"
   },
   {
    "duration": 19,
    "start_time": "2022-01-28T09:20:37.459Z"
   },
   {
    "duration": 18,
    "start_time": "2022-01-28T09:20:37.461Z"
   },
   {
    "duration": 18,
    "start_time": "2022-01-28T09:20:37.462Z"
   },
   {
    "duration": 18,
    "start_time": "2022-01-28T09:20:37.463Z"
   },
   {
    "duration": 18,
    "start_time": "2022-01-28T09:20:37.464Z"
   },
   {
    "duration": 17,
    "start_time": "2022-01-28T09:20:37.465Z"
   },
   {
    "duration": -21,
    "start_time": "2022-01-28T09:20:37.504Z"
   },
   {
    "duration": -72,
    "start_time": "2022-01-28T09:20:37.556Z"
   },
   {
    "duration": -72,
    "start_time": "2022-01-28T09:20:37.557Z"
   },
   {
    "duration": -73,
    "start_time": "2022-01-28T09:20:37.559Z"
   },
   {
    "duration": -34,
    "start_time": "2022-01-28T09:20:37.560Z"
   },
   {
    "duration": -34,
    "start_time": "2022-01-28T09:20:37.561Z"
   },
   {
    "duration": -50,
    "start_time": "2022-01-28T09:20:37.578Z"
   },
   {
    "duration": -50,
    "start_time": "2022-01-28T09:20:37.579Z"
   },
   {
    "duration": -50,
    "start_time": "2022-01-28T09:20:37.580Z"
   },
   {
    "duration": -51,
    "start_time": "2022-01-28T09:20:37.581Z"
   },
   {
    "duration": -51,
    "start_time": "2022-01-28T09:20:37.582Z"
   },
   {
    "duration": -52,
    "start_time": "2022-01-28T09:20:37.583Z"
   },
   {
    "duration": -52,
    "start_time": "2022-01-28T09:20:37.584Z"
   },
   {
    "duration": -52,
    "start_time": "2022-01-28T09:20:37.585Z"
   },
   {
    "duration": -59,
    "start_time": "2022-01-28T09:20:37.593Z"
   },
   {
    "duration": -73,
    "start_time": "2022-01-28T09:20:37.607Z"
   },
   {
    "duration": -73,
    "start_time": "2022-01-28T09:20:37.608Z"
   },
   {
    "duration": 3,
    "start_time": "2022-01-28T09:20:50.476Z"
   },
   {
    "duration": 8949,
    "start_time": "2022-01-28T09:20:54.131Z"
   },
   {
    "duration": 12,
    "start_time": "2022-01-28T09:21:40.156Z"
   },
   {
    "duration": 4,
    "start_time": "2022-01-28T09:21:42.840Z"
   },
   {
    "duration": 4,
    "start_time": "2022-01-28T09:22:09.264Z"
   },
   {
    "duration": 3,
    "start_time": "2022-01-28T09:22:23.175Z"
   },
   {
    "duration": 23,
    "start_time": "2022-01-28T09:22:24.602Z"
   },
   {
    "duration": 15,
    "start_time": "2022-01-28T09:24:02.905Z"
   },
   {
    "duration": 4,
    "start_time": "2022-01-28T09:24:06.677Z"
   },
   {
    "duration": 11,
    "start_time": "2022-01-28T09:25:43.677Z"
   },
   {
    "duration": 12,
    "start_time": "2022-01-28T09:25:50.002Z"
   },
   {
    "duration": 4,
    "start_time": "2022-01-28T09:25:51.176Z"
   },
   {
    "duration": 573,
    "start_time": "2022-01-28T09:26:08.737Z"
   },
   {
    "duration": 131,
    "start_time": "2022-01-28T09:26:09.311Z"
   },
   {
    "duration": 16,
    "start_time": "2022-01-28T09:26:09.444Z"
   },
   {
    "duration": 23,
    "start_time": "2022-01-28T09:26:09.462Z"
   },
   {
    "duration": 3,
    "start_time": "2022-01-28T09:26:09.487Z"
   },
   {
    "duration": 40,
    "start_time": "2022-01-28T09:26:09.492Z"
   },
   {
    "duration": 18,
    "start_time": "2022-01-28T09:26:09.534Z"
   },
   {
    "duration": 22,
    "start_time": "2022-01-28T09:26:09.555Z"
   },
   {
    "duration": 17,
    "start_time": "2022-01-28T09:26:09.579Z"
   },
   {
    "duration": 30,
    "start_time": "2022-01-28T09:26:09.598Z"
   },
   {
    "duration": 57,
    "start_time": "2022-01-28T09:26:09.630Z"
   },
   {
    "duration": 81,
    "start_time": "2022-01-28T09:26:09.689Z"
   },
   {
    "duration": 60,
    "start_time": "2022-01-28T09:26:09.772Z"
   },
   {
    "duration": 38,
    "start_time": "2022-01-28T09:26:09.834Z"
   },
   {
    "duration": 3,
    "start_time": "2022-01-28T09:26:09.873Z"
   },
   {
    "duration": 22,
    "start_time": "2022-01-28T09:26:09.877Z"
   },
   {
    "duration": 48,
    "start_time": "2022-01-28T09:26:09.901Z"
   },
   {
    "duration": 10,
    "start_time": "2022-01-28T09:26:09.951Z"
   },
   {
    "duration": 9,
    "start_time": "2022-01-28T09:26:09.963Z"
   },
   {
    "duration": 4,
    "start_time": "2022-01-28T09:26:09.973Z"
   },
   {
    "duration": 20,
    "start_time": "2022-01-28T09:26:09.978Z"
   },
   {
    "duration": 39,
    "start_time": "2022-01-28T09:26:09.999Z"
   },
   {
    "duration": 15,
    "start_time": "2022-01-28T09:26:10.041Z"
   },
   {
    "duration": 400,
    "start_time": "2022-01-28T09:26:10.058Z"
   },
   {
    "duration": 456,
    "start_time": "2022-01-28T09:26:10.004Z"
   },
   {
    "duration": 456,
    "start_time": "2022-01-28T09:26:10.005Z"
   },
   {
    "duration": 455,
    "start_time": "2022-01-28T09:26:10.007Z"
   },
   {
    "duration": 440,
    "start_time": "2022-01-28T09:26:10.023Z"
   },
   {
    "duration": 438,
    "start_time": "2022-01-28T09:26:10.025Z"
   },
   {
    "duration": 438,
    "start_time": "2022-01-28T09:26:10.026Z"
   },
   {
    "duration": 438,
    "start_time": "2022-01-28T09:26:10.027Z"
   },
   {
    "duration": 438,
    "start_time": "2022-01-28T09:26:10.028Z"
   },
   {
    "duration": 437,
    "start_time": "2022-01-28T09:26:10.030Z"
   },
   {
    "duration": 434,
    "start_time": "2022-01-28T09:26:10.034Z"
   },
   {
    "duration": 434,
    "start_time": "2022-01-28T09:26:10.035Z"
   },
   {
    "duration": 434,
    "start_time": "2022-01-28T09:26:10.036Z"
   },
   {
    "duration": 433,
    "start_time": "2022-01-28T09:26:10.037Z"
   },
   {
    "duration": 433,
    "start_time": "2022-01-28T09:26:10.038Z"
   },
   {
    "duration": 14,
    "start_time": "2022-01-28T09:26:43.759Z"
   },
   {
    "duration": 4,
    "start_time": "2022-01-28T09:26:45.090Z"
   },
   {
    "duration": 3,
    "start_time": "2022-01-28T09:27:22.288Z"
   },
   {
    "duration": 16,
    "start_time": "2022-01-28T09:27:26.844Z"
   },
   {
    "duration": 14,
    "start_time": "2022-01-28T09:27:29.331Z"
   },
   {
    "duration": 14,
    "start_time": "2022-01-28T09:27:29.945Z"
   },
   {
    "duration": 369,
    "start_time": "2022-01-28T09:27:30.438Z"
   },
   {
    "duration": 15,
    "start_time": "2022-01-28T09:27:35.945Z"
   },
   {
    "duration": 13,
    "start_time": "2022-01-28T09:27:52.580Z"
   },
   {
    "duration": 15,
    "start_time": "2022-01-28T09:27:53.429Z"
   },
   {
    "duration": 14,
    "start_time": "2022-01-28T09:27:53.998Z"
   },
   {
    "duration": 8,
    "start_time": "2022-01-28T09:27:55.533Z"
   },
   {
    "duration": 1713,
    "start_time": "2022-01-28T09:35:30.903Z"
   },
   {
    "duration": 119,
    "start_time": "2022-01-28T09:35:32.618Z"
   },
   {
    "duration": 14,
    "start_time": "2022-01-28T09:35:32.739Z"
   },
   {
    "duration": 23,
    "start_time": "2022-01-28T09:35:32.754Z"
   },
   {
    "duration": 3,
    "start_time": "2022-01-28T09:35:32.779Z"
   },
   {
    "duration": 18,
    "start_time": "2022-01-28T09:35:32.783Z"
   },
   {
    "duration": 3,
    "start_time": "2022-01-28T09:35:32.802Z"
   },
   {
    "duration": 38,
    "start_time": "2022-01-28T09:35:32.807Z"
   },
   {
    "duration": 16,
    "start_time": "2022-01-28T09:35:32.847Z"
   },
   {
    "duration": 19,
    "start_time": "2022-01-28T09:35:32.864Z"
   },
   {
    "duration": 71,
    "start_time": "2022-01-28T09:35:32.884Z"
   },
   {
    "duration": 61,
    "start_time": "2022-01-28T09:35:32.957Z"
   },
   {
    "duration": 51,
    "start_time": "2022-01-28T09:35:33.019Z"
   },
   {
    "duration": 37,
    "start_time": "2022-01-28T09:35:33.071Z"
   },
   {
    "duration": 19,
    "start_time": "2022-01-28T09:35:33.109Z"
   },
   {
    "duration": 19,
    "start_time": "2022-01-28T09:35:33.130Z"
   },
   {
    "duration": 35,
    "start_time": "2022-01-28T09:35:33.151Z"
   },
   {
    "duration": 10,
    "start_time": "2022-01-28T09:35:33.187Z"
   },
   {
    "duration": 34,
    "start_time": "2022-01-28T09:35:33.198Z"
   },
   {
    "duration": 3,
    "start_time": "2022-01-28T09:35:33.234Z"
   },
   {
    "duration": 19,
    "start_time": "2022-01-28T09:35:33.238Z"
   },
   {
    "duration": 11,
    "start_time": "2022-01-28T09:35:33.258Z"
   },
   {
    "duration": 12,
    "start_time": "2022-01-28T09:35:33.271Z"
   },
   {
    "duration": 11,
    "start_time": "2022-01-28T09:35:33.284Z"
   },
   {
    "duration": 40,
    "start_time": "2022-01-28T09:35:33.296Z"
   },
   {
    "duration": 12,
    "start_time": "2022-01-28T09:35:33.337Z"
   },
   {
    "duration": 6,
    "start_time": "2022-01-28T09:35:33.350Z"
   },
   {
    "duration": 17,
    "start_time": "2022-01-28T09:35:33.358Z"
   },
   {
    "duration": 14,
    "start_time": "2022-01-28T09:35:33.377Z"
   },
   {
    "duration": 511,
    "start_time": "2022-01-28T09:35:33.393Z"
   },
   {
    "duration": 481,
    "start_time": "2022-01-28T09:35:33.425Z"
   },
   {
    "duration": 477,
    "start_time": "2022-01-28T09:35:33.430Z"
   },
   {
    "duration": 476,
    "start_time": "2022-01-28T09:35:33.431Z"
   },
   {
    "duration": 475,
    "start_time": "2022-01-28T09:35:33.433Z"
   },
   {
    "duration": 475,
    "start_time": "2022-01-28T09:35:33.434Z"
   },
   {
    "duration": 475,
    "start_time": "2022-01-28T09:35:33.435Z"
   },
   {
    "duration": 445,
    "start_time": "2022-01-28T09:35:33.466Z"
   },
   {
    "duration": 445,
    "start_time": "2022-01-28T09:35:33.467Z"
   },
   {
    "duration": 61,
    "start_time": "2022-01-28T09:49:41.984Z"
   },
   {
    "duration": 577,
    "start_time": "2022-01-28T09:50:28.675Z"
   },
   {
    "duration": 126,
    "start_time": "2022-01-28T09:50:29.254Z"
   },
   {
    "duration": 16,
    "start_time": "2022-01-28T09:50:29.382Z"
   },
   {
    "duration": 40,
    "start_time": "2022-01-28T09:50:29.401Z"
   },
   {
    "duration": 4,
    "start_time": "2022-01-28T09:50:29.443Z"
   },
   {
    "duration": 20,
    "start_time": "2022-01-28T09:50:29.449Z"
   },
   {
    "duration": 7,
    "start_time": "2022-01-28T09:50:29.470Z"
   },
   {
    "duration": 23,
    "start_time": "2022-01-28T09:50:29.478Z"
   },
   {
    "duration": 26,
    "start_time": "2022-01-28T09:50:29.526Z"
   },
   {
    "duration": 35,
    "start_time": "2022-01-28T09:50:29.554Z"
   },
   {
    "duration": 89,
    "start_time": "2022-01-28T09:50:29.591Z"
   },
   {
    "duration": 91,
    "start_time": "2022-01-28T09:50:29.682Z"
   },
   {
    "duration": 68,
    "start_time": "2022-01-28T09:50:29.775Z"
   },
   {
    "duration": 38,
    "start_time": "2022-01-28T09:50:29.845Z"
   },
   {
    "duration": 2,
    "start_time": "2022-01-28T09:50:29.885Z"
   },
   {
    "duration": 22,
    "start_time": "2022-01-28T09:50:29.889Z"
   },
   {
    "duration": 39,
    "start_time": "2022-01-28T09:50:29.927Z"
   },
   {
    "duration": 11,
    "start_time": "2022-01-28T09:50:29.967Z"
   },
   {
    "duration": 10,
    "start_time": "2022-01-28T09:50:29.980Z"
   },
   {
    "duration": 3,
    "start_time": "2022-01-28T09:50:29.992Z"
   },
   {
    "duration": 49,
    "start_time": "2022-01-28T09:50:29.997Z"
   },
   {
    "duration": 19,
    "start_time": "2022-01-28T09:50:30.048Z"
   },
   {
    "duration": 18,
    "start_time": "2022-01-28T09:50:30.068Z"
   },
   {
    "duration": 16,
    "start_time": "2022-01-28T09:50:30.087Z"
   },
   {
    "duration": 35,
    "start_time": "2022-01-28T09:50:30.105Z"
   },
   {
    "duration": 14,
    "start_time": "2022-01-28T09:50:30.142Z"
   },
   {
    "duration": 7,
    "start_time": "2022-01-28T09:50:30.160Z"
   },
   {
    "duration": 23,
    "start_time": "2022-01-28T09:50:30.169Z"
   },
   {
    "duration": 42,
    "start_time": "2022-01-28T09:50:30.193Z"
   },
   {
    "duration": 128,
    "start_time": "2022-01-28T09:50:30.237Z"
   },
   {
    "duration": 508,
    "start_time": "2022-01-28T09:50:29.859Z"
   },
   {
    "duration": 507,
    "start_time": "2022-01-28T09:50:29.860Z"
   },
   {
    "duration": 508,
    "start_time": "2022-01-28T09:50:29.861Z"
   },
   {
    "duration": 508,
    "start_time": "2022-01-28T09:50:29.862Z"
   },
   {
    "duration": 506,
    "start_time": "2022-01-28T09:50:29.864Z"
   },
   {
    "duration": 506,
    "start_time": "2022-01-28T09:50:29.866Z"
   },
   {
    "duration": 503,
    "start_time": "2022-01-28T09:50:29.870Z"
   },
   {
    "duration": 502,
    "start_time": "2022-01-28T09:50:29.872Z"
   },
   {
    "duration": 160,
    "start_time": "2022-01-28T10:06:34.096Z"
   },
   {
    "duration": 594,
    "start_time": "2022-01-28T10:07:20.615Z"
   },
   {
    "duration": 4,
    "start_time": "2022-01-28T10:09:50.774Z"
   },
   {
    "duration": 3,
    "start_time": "2022-01-28T10:09:53.467Z"
   },
   {
    "duration": 4,
    "start_time": "2022-01-28T10:10:29.788Z"
   },
   {
    "duration": 4,
    "start_time": "2022-01-28T10:10:32.349Z"
   },
   {
    "duration": 4,
    "start_time": "2022-01-28T10:11:00.138Z"
   },
   {
    "duration": 4,
    "start_time": "2022-01-28T10:11:19.308Z"
   },
   {
    "duration": 18,
    "start_time": "2022-01-28T10:18:24.832Z"
   },
   {
    "duration": 12,
    "start_time": "2022-01-28T10:18:38.959Z"
   },
   {
    "duration": 15,
    "start_time": "2022-01-28T10:18:41.712Z"
   },
   {
    "duration": 12,
    "start_time": "2022-01-28T10:18:44.313Z"
   },
   {
    "duration": 601,
    "start_time": "2022-01-28T10:22:58.889Z"
   },
   {
    "duration": 117,
    "start_time": "2022-01-28T10:22:59.492Z"
   },
   {
    "duration": 17,
    "start_time": "2022-01-28T10:22:59.611Z"
   },
   {
    "duration": 22,
    "start_time": "2022-01-28T10:22:59.630Z"
   },
   {
    "duration": 3,
    "start_time": "2022-01-28T10:22:59.654Z"
   },
   {
    "duration": 19,
    "start_time": "2022-01-28T10:22:59.659Z"
   },
   {
    "duration": 3,
    "start_time": "2022-01-28T10:22:59.680Z"
   },
   {
    "duration": 48,
    "start_time": "2022-01-28T10:22:59.685Z"
   },
   {
    "duration": 15,
    "start_time": "2022-01-28T10:22:59.735Z"
   },
   {
    "duration": 18,
    "start_time": "2022-01-28T10:22:59.752Z"
   },
   {
    "duration": 71,
    "start_time": "2022-01-28T10:22:59.772Z"
   },
   {
    "duration": 61,
    "start_time": "2022-01-28T10:22:59.844Z"
   },
   {
    "duration": 60,
    "start_time": "2022-01-28T10:22:59.907Z"
   },
   {
    "duration": 45,
    "start_time": "2022-01-28T10:22:59.968Z"
   },
   {
    "duration": 12,
    "start_time": "2022-01-28T10:23:00.015Z"
   },
   {
    "duration": 20,
    "start_time": "2022-01-28T10:23:00.029Z"
   },
   {
    "duration": 37,
    "start_time": "2022-01-28T10:23:00.050Z"
   },
   {
    "duration": 10,
    "start_time": "2022-01-28T10:23:00.089Z"
   },
   {
    "duration": 32,
    "start_time": "2022-01-28T10:23:00.100Z"
   },
   {
    "duration": 4,
    "start_time": "2022-01-28T10:23:00.133Z"
   },
   {
    "duration": 23,
    "start_time": "2022-01-28T10:23:00.138Z"
   },
   {
    "duration": 12,
    "start_time": "2022-01-28T10:23:00.163Z"
   },
   {
    "duration": 16,
    "start_time": "2022-01-28T10:23:00.178Z"
   },
   {
    "duration": 37,
    "start_time": "2022-01-28T10:23:00.196Z"
   },
   {
    "duration": 14,
    "start_time": "2022-01-28T10:23:00.235Z"
   },
   {
    "duration": 12,
    "start_time": "2022-01-28T10:23:00.251Z"
   },
   {
    "duration": 7,
    "start_time": "2022-01-28T10:23:00.265Z"
   },
   {
    "duration": 20,
    "start_time": "2022-01-28T10:23:00.274Z"
   },
   {
    "duration": 41,
    "start_time": "2022-01-28T10:23:00.295Z"
   },
   {
    "duration": 3,
    "start_time": "2022-01-28T10:23:00.338Z"
   },
   {
    "duration": 24,
    "start_time": "2022-01-28T10:23:00.343Z"
   },
   {
    "duration": 13,
    "start_time": "2022-01-28T10:23:00.369Z"
   },
   {
    "duration": 16,
    "start_time": "2022-01-28T10:23:00.384Z"
   },
   {
    "duration": 13,
    "start_time": "2022-01-28T10:23:00.428Z"
   },
   {
    "duration": 2,
    "start_time": "2022-01-28T10:23:00.443Z"
   },
   {
    "duration": 7,
    "start_time": "2022-01-28T10:23:00.447Z"
   },
   {
    "duration": 8,
    "start_time": "2022-01-28T10:23:00.455Z"
   },
   {
    "duration": 7,
    "start_time": "2022-01-28T10:23:00.464Z"
   },
   {
    "duration": 37,
    "start_time": "2022-01-28T10:25:11.103Z"
   },
   {
    "duration": 380,
    "start_time": "2022-01-28T10:32:36.762Z"
   },
   {
    "duration": 20,
    "start_time": "2022-01-28T10:33:23.833Z"
   },
   {
    "duration": 19,
    "start_time": "2022-01-28T10:33:26.689Z"
   },
   {
    "duration": 27,
    "start_time": "2022-01-28T10:33:38.466Z"
   },
   {
    "duration": 25,
    "start_time": "2022-01-28T10:34:47.905Z"
   },
   {
    "duration": 25,
    "start_time": "2022-01-28T10:35:54.801Z"
   },
   {
    "duration": 20,
    "start_time": "2022-01-28T10:36:39.868Z"
   },
   {
    "duration": 7,
    "start_time": "2022-01-28T10:36:43.795Z"
   },
   {
    "duration": 939,
    "start_time": "2022-01-28T10:40:43.751Z"
   },
   {
    "duration": 14,
    "start_time": "2022-01-28T10:41:19.031Z"
   },
   {
    "duration": 8,
    "start_time": "2022-01-28T10:41:21.927Z"
   },
   {
    "duration": 813,
    "start_time": "2022-02-06T06:18:51.885Z"
   },
   {
    "duration": 172,
    "start_time": "2022-02-06T06:18:52.701Z"
   },
   {
    "duration": 26,
    "start_time": "2022-02-06T06:18:52.879Z"
   },
   {
    "duration": 31,
    "start_time": "2022-02-06T06:18:52.924Z"
   },
   {
    "duration": 5,
    "start_time": "2022-02-06T06:18:52.957Z"
   },
   {
    "duration": 24,
    "start_time": "2022-02-06T06:18:52.965Z"
   },
   {
    "duration": 33,
    "start_time": "2022-02-06T06:18:52.993Z"
   },
   {
    "duration": 30,
    "start_time": "2022-02-06T06:18:53.029Z"
   },
   {
    "duration": 21,
    "start_time": "2022-02-06T06:18:53.061Z"
   },
   {
    "duration": 63,
    "start_time": "2022-02-06T06:18:53.084Z"
   },
   {
    "duration": 96,
    "start_time": "2022-02-06T06:18:53.149Z"
   },
   {
    "duration": 106,
    "start_time": "2022-02-06T06:18:53.248Z"
   },
   {
    "duration": 77,
    "start_time": "2022-02-06T06:18:53.356Z"
   },
   {
    "duration": 54,
    "start_time": "2022-02-06T06:18:53.436Z"
   },
   {
    "duration": 4,
    "start_time": "2022-02-06T06:18:53.492Z"
   },
   {
    "duration": 48,
    "start_time": "2022-02-06T06:18:53.499Z"
   },
   {
    "duration": 52,
    "start_time": "2022-02-06T06:18:53.550Z"
   },
   {
    "duration": 16,
    "start_time": "2022-02-06T06:18:53.624Z"
   },
   {
    "duration": 15,
    "start_time": "2022-02-06T06:18:53.642Z"
   },
   {
    "duration": 5,
    "start_time": "2022-02-06T06:18:53.659Z"
   },
   {
    "duration": 59,
    "start_time": "2022-02-06T06:18:53.667Z"
   },
   {
    "duration": 17,
    "start_time": "2022-02-06T06:18:53.731Z"
   },
   {
    "duration": 17,
    "start_time": "2022-02-06T06:18:53.751Z"
   },
   {
    "duration": 16,
    "start_time": "2022-02-06T06:18:53.771Z"
   },
   {
    "duration": 18,
    "start_time": "2022-02-06T06:18:53.824Z"
   },
   {
    "duration": 16,
    "start_time": "2022-02-06T06:18:53.845Z"
   },
   {
    "duration": 12,
    "start_time": "2022-02-06T06:18:53.864Z"
   },
   {
    "duration": 65,
    "start_time": "2022-02-06T06:18:53.878Z"
   },
   {
    "duration": 24,
    "start_time": "2022-02-06T06:18:53.946Z"
   },
   {
    "duration": 5,
    "start_time": "2022-02-06T06:18:53.973Z"
   },
   {
    "duration": 54,
    "start_time": "2022-02-06T06:18:53.980Z"
   },
   {
    "duration": 16,
    "start_time": "2022-02-06T06:18:54.036Z"
   },
   {
    "duration": 20,
    "start_time": "2022-02-06T06:18:54.055Z"
   },
   {
    "duration": 46,
    "start_time": "2022-02-06T06:18:54.078Z"
   },
   {
    "duration": 28,
    "start_time": "2022-02-06T06:18:54.127Z"
   },
   {
    "duration": 12,
    "start_time": "2022-02-06T06:18:54.157Z"
   },
   {
    "duration": 16,
    "start_time": "2022-02-06T06:18:54.171Z"
   },
   {
    "duration": 42,
    "start_time": "2022-02-06T06:18:54.189Z"
   },
   {
    "duration": 5,
    "start_time": "2022-02-06T06:19:45.122Z"
   },
   {
    "duration": 5,
    "start_time": "2022-02-06T06:19:48.595Z"
   },
   {
    "duration": 57,
    "start_time": "2022-02-06T06:20:00.754Z"
   },
   {
    "duration": 29,
    "start_time": "2022-02-06T06:20:03.277Z"
   },
   {
    "duration": 55,
    "start_time": "2022-02-06T06:20:04.105Z"
   },
   {
    "duration": 15,
    "start_time": "2022-02-06T06:20:07.563Z"
   },
   {
    "duration": 15,
    "start_time": "2022-02-06T06:20:08.412Z"
   },
   {
    "duration": 19,
    "start_time": "2022-02-06T06:20:11.504Z"
   },
   {
    "duration": 18,
    "start_time": "2022-02-06T06:20:11.939Z"
   },
   {
    "duration": 18,
    "start_time": "2022-02-06T06:20:12.392Z"
   },
   {
    "duration": 17,
    "start_time": "2022-02-06T06:20:12.834Z"
   },
   {
    "duration": 20,
    "start_time": "2022-02-06T06:20:13.273Z"
   },
   {
    "duration": 29,
    "start_time": "2022-02-06T06:20:18.508Z"
   },
   {
    "duration": 26,
    "start_time": "2022-02-06T06:20:18.961Z"
   },
   {
    "duration": 25,
    "start_time": "2022-02-06T06:20:21.643Z"
   },
   {
    "duration": 17,
    "start_time": "2022-02-06T06:20:22.071Z"
   },
   {
    "duration": 22,
    "start_time": "2022-02-06T06:20:22.490Z"
   },
   {
    "duration": 29,
    "start_time": "2022-02-06T06:20:25.523Z"
   },
   {
    "duration": 12,
    "start_time": "2022-02-06T06:20:30.859Z"
   },
   {
    "duration": 23,
    "start_time": "2022-02-06T06:20:30.874Z"
   },
   {
    "duration": 11,
    "start_time": "2022-02-06T06:20:30.901Z"
   },
   {
    "duration": 683,
    "start_time": "2022-02-06T08:36:19.859Z"
   },
   {
    "duration": 1540,
    "start_time": "2022-02-06T08:36:48.051Z"
   },
   {
    "duration": 607,
    "start_time": "2022-02-06T08:37:03.050Z"
   },
   {
    "duration": 124,
    "start_time": "2022-02-06T08:37:03.659Z"
   },
   {
    "duration": 14,
    "start_time": "2022-02-06T08:37:03.787Z"
   },
   {
    "duration": 22,
    "start_time": "2022-02-06T08:37:03.803Z"
   },
   {
    "duration": 3,
    "start_time": "2022-02-06T08:37:03.827Z"
   },
   {
    "duration": 41,
    "start_time": "2022-02-06T08:37:03.831Z"
   },
   {
    "duration": 4,
    "start_time": "2022-02-06T08:37:03.874Z"
   },
   {
    "duration": 20,
    "start_time": "2022-02-06T08:37:03.880Z"
   },
   {
    "duration": 15,
    "start_time": "2022-02-06T08:37:03.902Z"
   },
   {
    "duration": 20,
    "start_time": "2022-02-06T08:37:03.919Z"
   },
   {
    "duration": 81,
    "start_time": "2022-02-06T08:37:03.941Z"
   },
   {
    "duration": 72,
    "start_time": "2022-02-06T08:37:04.024Z"
   },
   {
    "duration": 43,
    "start_time": "2022-02-06T08:37:04.098Z"
   },
   {
    "duration": 49,
    "start_time": "2022-02-06T08:37:04.142Z"
   },
   {
    "duration": 2,
    "start_time": "2022-02-06T08:37:04.193Z"
   },
   {
    "duration": 17,
    "start_time": "2022-02-06T08:37:04.197Z"
   },
   {
    "duration": 57,
    "start_time": "2022-02-06T08:37:04.216Z"
   },
   {
    "duration": 12,
    "start_time": "2022-02-06T08:37:04.275Z"
   },
   {
    "duration": 11,
    "start_time": "2022-02-06T08:37:04.289Z"
   },
   {
    "duration": 4,
    "start_time": "2022-02-06T08:37:04.302Z"
   },
   {
    "duration": 20,
    "start_time": "2022-02-06T08:37:04.308Z"
   },
   {
    "duration": 46,
    "start_time": "2022-02-06T08:37:04.332Z"
   },
   {
    "duration": 12,
    "start_time": "2022-02-06T08:37:04.380Z"
   },
   {
    "duration": 11,
    "start_time": "2022-02-06T08:37:04.393Z"
   },
   {
    "duration": 13,
    "start_time": "2022-02-06T08:37:04.405Z"
   },
   {
    "duration": 11,
    "start_time": "2022-02-06T08:37:04.419Z"
   },
   {
    "duration": 7,
    "start_time": "2022-02-06T08:37:04.431Z"
   },
   {
    "duration": 18,
    "start_time": "2022-02-06T08:37:04.472Z"
   },
   {
    "duration": 17,
    "start_time": "2022-02-06T08:37:04.492Z"
   },
   {
    "duration": 3,
    "start_time": "2022-02-06T08:37:04.510Z"
   },
   {
    "duration": 23,
    "start_time": "2022-02-06T08:37:04.515Z"
   },
   {
    "duration": 32,
    "start_time": "2022-02-06T08:37:04.540Z"
   },
   {
    "duration": 15,
    "start_time": "2022-02-06T08:37:04.573Z"
   },
   {
    "duration": 12,
    "start_time": "2022-02-06T08:37:04.589Z"
   },
   {
    "duration": 27,
    "start_time": "2022-02-06T08:37:04.603Z"
   },
   {
    "duration": 7,
    "start_time": "2022-02-06T08:37:04.631Z"
   },
   {
    "duration": 47,
    "start_time": "2022-02-06T08:37:04.639Z"
   },
   {
    "duration": 9,
    "start_time": "2022-02-06T08:37:04.687Z"
   },
   {
    "duration": 21,
    "start_time": "2022-02-06T08:38:36.455Z"
   },
   {
    "duration": 245,
    "start_time": "2022-02-06T11:59:53.621Z"
   },
   {
    "duration": 581,
    "start_time": "2022-02-06T12:00:03.672Z"
   },
   {
    "duration": 142,
    "start_time": "2022-02-06T12:00:04.255Z"
   },
   {
    "duration": 16,
    "start_time": "2022-02-06T12:00:04.399Z"
   },
   {
    "duration": 34,
    "start_time": "2022-02-06T12:00:04.417Z"
   },
   {
    "duration": 20,
    "start_time": "2022-02-06T12:00:04.453Z"
   },
   {
    "duration": 27,
    "start_time": "2022-02-06T12:00:04.474Z"
   },
   {
    "duration": 11,
    "start_time": "2022-02-06T12:00:04.502Z"
   },
   {
    "duration": 30,
    "start_time": "2022-02-06T12:00:04.516Z"
   },
   {
    "duration": 40,
    "start_time": "2022-02-06T12:00:04.548Z"
   },
   {
    "duration": 27,
    "start_time": "2022-02-06T12:00:04.589Z"
   },
   {
    "duration": 64,
    "start_time": "2022-02-06T12:00:04.618Z"
   },
   {
    "duration": 82,
    "start_time": "2022-02-06T12:00:04.684Z"
   },
   {
    "duration": 51,
    "start_time": "2022-02-06T12:00:04.768Z"
   },
   {
    "duration": 46,
    "start_time": "2022-02-06T12:00:04.821Z"
   },
   {
    "duration": 3,
    "start_time": "2022-02-06T12:00:04.869Z"
   },
   {
    "duration": 20,
    "start_time": "2022-02-06T12:00:04.873Z"
   },
   {
    "duration": 65,
    "start_time": "2022-02-06T12:00:04.895Z"
   },
   {
    "duration": 12,
    "start_time": "2022-02-06T12:00:04.961Z"
   },
   {
    "duration": 10,
    "start_time": "2022-02-06T12:00:04.974Z"
   },
   {
    "duration": 7,
    "start_time": "2022-02-06T12:00:04.986Z"
   },
   {
    "duration": 27,
    "start_time": "2022-02-06T12:00:04.994Z"
   },
   {
    "duration": 16,
    "start_time": "2022-02-06T12:00:05.022Z"
   },
   {
    "duration": 33,
    "start_time": "2022-02-06T12:00:05.041Z"
   },
   {
    "duration": 13,
    "start_time": "2022-02-06T12:00:05.076Z"
   },
   {
    "duration": 23,
    "start_time": "2022-02-06T12:00:05.091Z"
   },
   {
    "duration": 14,
    "start_time": "2022-02-06T12:00:05.115Z"
   },
   {
    "duration": 30,
    "start_time": "2022-02-06T12:00:05.131Z"
   },
   {
    "duration": 31,
    "start_time": "2022-02-06T12:00:05.163Z"
   },
   {
    "duration": 17,
    "start_time": "2022-02-06T12:00:05.195Z"
   },
   {
    "duration": 4,
    "start_time": "2022-02-06T12:00:05.214Z"
   },
   {
    "duration": 27,
    "start_time": "2022-02-06T12:00:05.219Z"
   },
   {
    "duration": 76,
    "start_time": "2022-02-06T12:00:05.248Z"
   },
   {
    "duration": 31,
    "start_time": "2022-02-06T12:00:05.326Z"
   },
   {
    "duration": 16,
    "start_time": "2022-02-06T12:00:05.359Z"
   },
   {
    "duration": 248,
    "start_time": "2022-02-06T12:00:05.376Z"
   },
   {
    "duration": 197,
    "start_time": "2022-02-06T12:00:05.429Z"
   },
   {
    "duration": 195,
    "start_time": "2022-02-06T12:00:05.432Z"
   },
   {
    "duration": 192,
    "start_time": "2022-02-06T12:00:05.436Z"
   },
   {
    "duration": 206,
    "start_time": "2022-02-06T12:06:13.975Z"
   },
   {
    "duration": 23,
    "start_time": "2022-02-06T12:16:16.487Z"
   },
   {
    "duration": 8,
    "start_time": "2022-02-06T12:16:21.644Z"
   },
   {
    "duration": 215,
    "start_time": "2022-02-06T12:16:41.049Z"
   },
   {
    "duration": 9,
    "start_time": "2022-02-06T12:18:03.074Z"
   },
   {
    "duration": 5,
    "start_time": "2022-02-06T12:18:07.454Z"
   },
   {
    "duration": 528,
    "start_time": "2022-02-06T12:18:40.180Z"
   },
   {
    "duration": 131,
    "start_time": "2022-02-06T12:18:40.709Z"
   },
   {
    "duration": 19,
    "start_time": "2022-02-06T12:18:40.842Z"
   },
   {
    "duration": 31,
    "start_time": "2022-02-06T12:18:40.863Z"
   },
   {
    "duration": 7,
    "start_time": "2022-02-06T12:18:40.896Z"
   },
   {
    "duration": 23,
    "start_time": "2022-02-06T12:18:40.904Z"
   },
   {
    "duration": 4,
    "start_time": "2022-02-06T12:18:40.929Z"
   },
   {
    "duration": 30,
    "start_time": "2022-02-06T12:18:40.936Z"
   },
   {
    "duration": 25,
    "start_time": "2022-02-06T12:18:40.968Z"
   },
   {
    "duration": 20,
    "start_time": "2022-02-06T12:18:40.995Z"
   },
   {
    "duration": 74,
    "start_time": "2022-02-06T12:18:41.017Z"
   },
   {
    "duration": 76,
    "start_time": "2022-02-06T12:18:41.093Z"
   },
   {
    "duration": 49,
    "start_time": "2022-02-06T12:18:41.171Z"
   },
   {
    "duration": 50,
    "start_time": "2022-02-06T12:18:41.222Z"
   },
   {
    "duration": 3,
    "start_time": "2022-02-06T12:18:41.274Z"
   },
   {
    "duration": 21,
    "start_time": "2022-02-06T12:18:41.278Z"
   },
   {
    "duration": 62,
    "start_time": "2022-02-06T12:18:41.301Z"
   },
   {
    "duration": 11,
    "start_time": "2022-02-06T12:18:41.365Z"
   },
   {
    "duration": 11,
    "start_time": "2022-02-06T12:18:41.377Z"
   },
   {
    "duration": 4,
    "start_time": "2022-02-06T12:18:41.389Z"
   },
   {
    "duration": 25,
    "start_time": "2022-02-06T12:18:41.394Z"
   },
   {
    "duration": 38,
    "start_time": "2022-02-06T12:18:41.421Z"
   },
   {
    "duration": 14,
    "start_time": "2022-02-06T12:18:41.462Z"
   },
   {
    "duration": 13,
    "start_time": "2022-02-06T12:18:41.478Z"
   },
   {
    "duration": 15,
    "start_time": "2022-02-06T12:18:41.492Z"
   },
   {
    "duration": 12,
    "start_time": "2022-02-06T12:18:41.509Z"
   },
   {
    "duration": 42,
    "start_time": "2022-02-06T12:18:41.522Z"
   },
   {
    "duration": 23,
    "start_time": "2022-02-06T12:18:41.565Z"
   },
   {
    "duration": 17,
    "start_time": "2022-02-06T12:18:41.590Z"
   },
   {
    "duration": 4,
    "start_time": "2022-02-06T12:18:41.608Z"
   },
   {
    "duration": 24,
    "start_time": "2022-02-06T12:18:41.613Z"
   },
   {
    "duration": 30,
    "start_time": "2022-02-06T12:18:41.638Z"
   },
   {
    "duration": 15,
    "start_time": "2022-02-06T12:18:41.670Z"
   },
   {
    "duration": 12,
    "start_time": "2022-02-06T12:18:41.686Z"
   },
   {
    "duration": 9,
    "start_time": "2022-02-06T12:18:41.699Z"
   },
   {
    "duration": 4,
    "start_time": "2022-02-06T12:18:41.709Z"
   },
   {
    "duration": 56,
    "start_time": "2022-02-06T12:18:41.715Z"
   },
   {
    "duration": 8,
    "start_time": "2022-02-06T12:18:41.772Z"
   },
   {
    "duration": 80,
    "start_time": "2022-02-06T13:08:35.793Z"
   },
   {
    "duration": 73,
    "start_time": "2022-02-06T13:09:01.346Z"
   },
   {
    "duration": 62,
    "start_time": "2022-02-06T13:09:07.053Z"
   },
   {
    "duration": 61,
    "start_time": "2022-02-06T13:09:52.196Z"
   },
   {
    "duration": 59,
    "start_time": "2022-02-06T13:10:25.451Z"
   },
   {
    "duration": 58,
    "start_time": "2022-02-06T13:11:25.943Z"
   },
   {
    "duration": 572,
    "start_time": "2022-02-06T13:11:50.270Z"
   },
   {
    "duration": 133,
    "start_time": "2022-02-06T13:11:50.844Z"
   },
   {
    "duration": 15,
    "start_time": "2022-02-06T13:11:50.979Z"
   },
   {
    "duration": 34,
    "start_time": "2022-02-06T13:11:50.996Z"
   },
   {
    "duration": 3,
    "start_time": "2022-02-06T13:11:51.032Z"
   },
   {
    "duration": 33,
    "start_time": "2022-02-06T13:11:51.037Z"
   },
   {
    "duration": 5,
    "start_time": "2022-02-06T13:11:51.072Z"
   },
   {
    "duration": 23,
    "start_time": "2022-02-06T13:11:51.079Z"
   },
   {
    "duration": 26,
    "start_time": "2022-02-06T13:11:51.104Z"
   },
   {
    "duration": 36,
    "start_time": "2022-02-06T13:11:51.132Z"
   },
   {
    "duration": 58,
    "start_time": "2022-02-06T13:11:51.170Z"
   },
   {
    "duration": 84,
    "start_time": "2022-02-06T13:11:51.229Z"
   },
   {
    "duration": 56,
    "start_time": "2022-02-06T13:11:51.315Z"
   },
   {
    "duration": 39,
    "start_time": "2022-02-06T13:11:51.372Z"
   },
   {
    "duration": 3,
    "start_time": "2022-02-06T13:11:51.412Z"
   },
   {
    "duration": 19,
    "start_time": "2022-02-06T13:11:51.417Z"
   },
   {
    "duration": 60,
    "start_time": "2022-02-06T13:11:51.437Z"
   },
   {
    "duration": 11,
    "start_time": "2022-02-06T13:11:51.498Z"
   },
   {
    "duration": 10,
    "start_time": "2022-02-06T13:11:51.511Z"
   },
   {
    "duration": 4,
    "start_time": "2022-02-06T13:11:51.522Z"
   },
   {
    "duration": 41,
    "start_time": "2022-02-06T13:11:51.527Z"
   },
   {
    "duration": 13,
    "start_time": "2022-02-06T13:11:51.570Z"
   },
   {
    "duration": 13,
    "start_time": "2022-02-06T13:11:51.586Z"
   },
   {
    "duration": 13,
    "start_time": "2022-02-06T13:11:51.601Z"
   },
   {
    "duration": 43,
    "start_time": "2022-02-06T13:11:51.615Z"
   },
   {
    "duration": 15,
    "start_time": "2022-02-06T13:11:51.660Z"
   },
   {
    "duration": 8,
    "start_time": "2022-02-06T13:11:51.677Z"
   },
   {
    "duration": 28,
    "start_time": "2022-02-06T13:11:51.687Z"
   },
   {
    "duration": 18,
    "start_time": "2022-02-06T13:11:51.717Z"
   },
   {
    "duration": 25,
    "start_time": "2022-02-06T13:11:51.737Z"
   },
   {
    "duration": 31,
    "start_time": "2022-02-06T13:11:51.763Z"
   },
   {
    "duration": 12,
    "start_time": "2022-02-06T13:11:51.795Z"
   },
   {
    "duration": 16,
    "start_time": "2022-02-06T13:11:51.808Z"
   },
   {
    "duration": 11,
    "start_time": "2022-02-06T13:11:51.826Z"
   },
   {
    "duration": 10,
    "start_time": "2022-02-06T13:11:51.858Z"
   },
   {
    "duration": 4,
    "start_time": "2022-02-06T13:11:51.869Z"
   },
   {
    "duration": 16,
    "start_time": "2022-02-06T13:11:51.875Z"
   },
   {
    "duration": 9,
    "start_time": "2022-02-06T13:11:51.892Z"
   },
   {
    "duration": 57,
    "start_time": "2022-02-06T13:15:32.697Z"
   },
   {
    "duration": 63,
    "start_time": "2022-02-06T13:15:52.982Z"
   },
   {
    "duration": 72,
    "start_time": "2022-02-06T13:17:15.091Z"
   },
   {
    "duration": 58,
    "start_time": "2022-02-06T13:17:41.855Z"
   },
   {
    "duration": 570,
    "start_time": "2022-02-06T13:17:52.340Z"
   },
   {
    "duration": 136,
    "start_time": "2022-02-06T13:17:52.912Z"
   },
   {
    "duration": 16,
    "start_time": "2022-02-06T13:17:53.050Z"
   },
   {
    "duration": 22,
    "start_time": "2022-02-06T13:17:53.068Z"
   },
   {
    "duration": 6,
    "start_time": "2022-02-06T13:17:53.092Z"
   },
   {
    "duration": 22,
    "start_time": "2022-02-06T13:17:53.099Z"
   },
   {
    "duration": 4,
    "start_time": "2022-02-06T13:17:53.123Z"
   },
   {
    "duration": 46,
    "start_time": "2022-02-06T13:17:53.129Z"
   },
   {
    "duration": 26,
    "start_time": "2022-02-06T13:17:53.177Z"
   },
   {
    "duration": 20,
    "start_time": "2022-02-06T13:17:53.205Z"
   },
   {
    "duration": 75,
    "start_time": "2022-02-06T13:17:53.227Z"
   },
   {
    "duration": 80,
    "start_time": "2022-02-06T13:17:53.305Z"
   },
   {
    "duration": 53,
    "start_time": "2022-02-06T13:17:53.387Z"
   },
   {
    "duration": 50,
    "start_time": "2022-02-06T13:17:53.442Z"
   },
   {
    "duration": 3,
    "start_time": "2022-02-06T13:17:53.494Z"
   },
   {
    "duration": 18,
    "start_time": "2022-02-06T13:17:53.499Z"
   },
   {
    "duration": 59,
    "start_time": "2022-02-06T13:17:53.519Z"
   },
   {
    "duration": 11,
    "start_time": "2022-02-06T13:17:53.580Z"
   },
   {
    "duration": 10,
    "start_time": "2022-02-06T13:17:53.593Z"
   },
   {
    "duration": 3,
    "start_time": "2022-02-06T13:17:53.605Z"
   },
   {
    "duration": 20,
    "start_time": "2022-02-06T13:17:53.609Z"
   },
   {
    "duration": 15,
    "start_time": "2022-02-06T13:17:53.659Z"
   },
   {
    "duration": 14,
    "start_time": "2022-02-06T13:17:53.677Z"
   },
   {
    "duration": 12,
    "start_time": "2022-02-06T13:17:53.693Z"
   },
   {
    "duration": 15,
    "start_time": "2022-02-06T13:17:53.706Z"
   },
   {
    "duration": 46,
    "start_time": "2022-02-06T13:17:53.722Z"
   },
   {
    "duration": 7,
    "start_time": "2022-02-06T13:17:53.770Z"
   },
   {
    "duration": 20,
    "start_time": "2022-02-06T13:17:53.779Z"
   },
   {
    "duration": 17,
    "start_time": "2022-02-06T13:17:53.800Z"
   },
   {
    "duration": 4,
    "start_time": "2022-02-06T13:17:53.818Z"
   },
   {
    "duration": 48,
    "start_time": "2022-02-06T13:17:53.823Z"
   },
   {
    "duration": 12,
    "start_time": "2022-02-06T13:17:53.873Z"
   },
   {
    "duration": 14,
    "start_time": "2022-02-06T13:17:53.887Z"
   },
   {
    "duration": 10,
    "start_time": "2022-02-06T13:17:53.903Z"
   },
   {
    "duration": 8,
    "start_time": "2022-02-06T13:17:53.915Z"
   },
   {
    "duration": 55,
    "start_time": "2022-02-06T13:17:53.925Z"
   },
   {
    "duration": 153,
    "start_time": "2022-02-06T13:17:53.829Z"
   },
   {
    "duration": 151,
    "start_time": "2022-02-06T13:17:53.832Z"
   },
   {
    "duration": 151,
    "start_time": "2022-02-06T13:17:53.833Z"
   },
   {
    "duration": 57,
    "start_time": "2022-02-06T13:18:11.298Z"
   },
   {
    "duration": 64,
    "start_time": "2022-02-06T14:20:34.349Z"
   },
   {
    "duration": 71,
    "start_time": "2022-02-06T14:20:41.877Z"
   },
   {
    "duration": 55,
    "start_time": "2022-02-06T14:21:43.542Z"
   },
   {
    "duration": 65,
    "start_time": "2022-02-06T14:22:06.271Z"
   },
   {
    "duration": 773,
    "start_time": "2022-02-06T15:52:15.203Z"
   },
   {
    "duration": 178,
    "start_time": "2022-02-06T15:52:15.979Z"
   },
   {
    "duration": 24,
    "start_time": "2022-02-06T15:52:16.160Z"
   },
   {
    "duration": 48,
    "start_time": "2022-02-06T15:52:16.187Z"
   },
   {
    "duration": 6,
    "start_time": "2022-02-06T15:52:16.237Z"
   },
   {
    "duration": 26,
    "start_time": "2022-02-06T15:52:16.245Z"
   },
   {
    "duration": 8,
    "start_time": "2022-02-06T15:52:16.274Z"
   },
   {
    "duration": 74,
    "start_time": "2022-02-06T15:52:16.285Z"
   },
   {
    "duration": 36,
    "start_time": "2022-02-06T15:52:16.362Z"
   },
   {
    "duration": 41,
    "start_time": "2022-02-06T15:52:16.400Z"
   },
   {
    "duration": 99,
    "start_time": "2022-02-06T15:52:16.443Z"
   },
   {
    "duration": 103,
    "start_time": "2022-02-06T15:52:16.544Z"
   },
   {
    "duration": 83,
    "start_time": "2022-02-06T15:52:16.650Z"
   },
   {
    "duration": 54,
    "start_time": "2022-02-06T15:52:16.736Z"
   },
   {
    "duration": 4,
    "start_time": "2022-02-06T15:52:16.792Z"
   },
   {
    "duration": 53,
    "start_time": "2022-02-06T15:52:16.798Z"
   },
   {
    "duration": 56,
    "start_time": "2022-02-06T15:52:16.853Z"
   },
   {
    "duration": 28,
    "start_time": "2022-02-06T15:52:16.911Z"
   },
   {
    "duration": 13,
    "start_time": "2022-02-06T15:52:16.941Z"
   },
   {
    "duration": 4,
    "start_time": "2022-02-06T15:52:16.957Z"
   },
   {
    "duration": 29,
    "start_time": "2022-02-06T15:52:16.963Z"
   },
   {
    "duration": 48,
    "start_time": "2022-02-06T15:52:16.995Z"
   },
   {
    "duration": 18,
    "start_time": "2022-02-06T15:52:17.047Z"
   },
   {
    "duration": 18,
    "start_time": "2022-02-06T15:52:17.068Z"
   },
   {
    "duration": 57,
    "start_time": "2022-02-06T15:52:17.089Z"
   },
   {
    "duration": 16,
    "start_time": "2022-02-06T15:52:17.149Z"
   },
   {
    "duration": 11,
    "start_time": "2022-02-06T15:52:17.168Z"
   },
   {
    "duration": 65,
    "start_time": "2022-02-06T15:52:17.181Z"
   },
   {
    "duration": 26,
    "start_time": "2022-02-06T15:52:17.248Z"
   },
   {
    "duration": 6,
    "start_time": "2022-02-06T15:52:17.277Z"
   },
   {
    "duration": 60,
    "start_time": "2022-02-06T15:52:17.286Z"
   },
   {
    "duration": 18,
    "start_time": "2022-02-06T15:52:17.349Z"
   },
   {
    "duration": 23,
    "start_time": "2022-02-06T15:52:17.370Z"
   },
   {
    "duration": 49,
    "start_time": "2022-02-06T15:52:17.396Z"
   },
   {
    "duration": 11,
    "start_time": "2022-02-06T15:52:17.447Z"
   },
   {
    "duration": 6,
    "start_time": "2022-02-06T15:52:17.460Z"
   },
   {
    "duration": 17,
    "start_time": "2022-02-06T15:52:17.468Z"
   },
   {
    "duration": 12,
    "start_time": "2022-02-06T15:52:17.487Z"
   },
   {
    "duration": 627,
    "start_time": "2022-02-28T19:22:18.806Z"
   },
   {
    "duration": 146,
    "start_time": "2022-02-28T19:22:19.435Z"
   },
   {
    "duration": 17,
    "start_time": "2022-02-28T19:22:19.583Z"
   },
   {
    "duration": 35,
    "start_time": "2022-02-28T19:22:19.602Z"
   },
   {
    "duration": 4,
    "start_time": "2022-02-28T19:22:19.639Z"
   },
   {
    "duration": 20,
    "start_time": "2022-02-28T19:22:19.644Z"
   },
   {
    "duration": 4,
    "start_time": "2022-02-28T19:22:19.666Z"
   },
   {
    "duration": 24,
    "start_time": "2022-02-28T19:22:19.672Z"
   },
   {
    "duration": 51,
    "start_time": "2022-02-28T19:22:19.698Z"
   },
   {
    "duration": 21,
    "start_time": "2022-02-28T19:22:19.751Z"
   },
   {
    "duration": 74,
    "start_time": "2022-02-28T19:22:19.773Z"
   },
   {
    "duration": 69,
    "start_time": "2022-02-28T19:22:19.848Z"
   },
   {
    "duration": 64,
    "start_time": "2022-02-28T19:22:19.919Z"
   },
   {
    "duration": 53,
    "start_time": "2022-02-28T19:22:19.985Z"
   },
   {
    "duration": 3,
    "start_time": "2022-02-28T19:22:20.040Z"
   },
   {
    "duration": 21,
    "start_time": "2022-02-28T19:22:20.045Z"
   },
   {
    "duration": 38,
    "start_time": "2022-02-28T19:22:20.067Z"
   },
   {
    "duration": 31,
    "start_time": "2022-02-28T19:22:20.107Z"
   },
   {
    "duration": 10,
    "start_time": "2022-02-28T19:22:20.140Z"
   },
   {
    "duration": 3,
    "start_time": "2022-02-28T19:22:20.151Z"
   },
   {
    "duration": 21,
    "start_time": "2022-02-28T19:22:20.156Z"
   },
   {
    "duration": 14,
    "start_time": "2022-02-28T19:22:20.179Z"
   },
   {
    "duration": 43,
    "start_time": "2022-02-28T19:22:20.196Z"
   },
   {
    "duration": 12,
    "start_time": "2022-02-28T19:22:20.241Z"
   },
   {
    "duration": 15,
    "start_time": "2022-02-28T19:22:20.254Z"
   },
   {
    "duration": 13,
    "start_time": "2022-02-28T19:22:20.270Z"
   },
   {
    "duration": 7,
    "start_time": "2022-02-28T19:22:20.284Z"
   },
   {
    "duration": 53,
    "start_time": "2022-02-28T19:22:20.293Z"
   },
   {
    "duration": 18,
    "start_time": "2022-02-28T19:22:20.347Z"
   },
   {
    "duration": 4,
    "start_time": "2022-02-28T19:22:20.366Z"
   },
   {
    "duration": 25,
    "start_time": "2022-02-28T19:22:20.371Z"
   },
   {
    "duration": 12,
    "start_time": "2022-02-28T19:22:20.398Z"
   },
   {
    "duration": 38,
    "start_time": "2022-02-28T19:22:20.411Z"
   },
   {
    "duration": 12,
    "start_time": "2022-02-28T19:22:20.450Z"
   },
   {
    "duration": 8,
    "start_time": "2022-02-28T19:22:20.464Z"
   },
   {
    "duration": 5,
    "start_time": "2022-02-28T19:22:20.473Z"
   },
   {
    "duration": 15,
    "start_time": "2022-02-28T19:22:20.479Z"
   },
   {
    "duration": 41,
    "start_time": "2022-02-28T19:22:20.496Z"
   }
  ],
  "colab": {
   "collapsed_sections": [
    "E0vqbgi9ay0H",
    "VUC88oWjTJw2"
   ],
   "name": "yandex_music_project_2021.2.ipynb",
   "provenance": []
  },
  "kernelspec": {
   "display_name": "Python 3 (ipykernel)",
   "language": "python",
   "name": "python3"
  },
  "language_info": {
   "codemirror_mode": {
    "name": "ipython",
    "version": 3
   },
   "file_extension": ".py",
   "mimetype": "text/x-python",
   "name": "python",
   "nbconvert_exporter": "python",
   "pygments_lexer": "ipython3",
   "version": "3.9.12"
  },
  "toc": {
   "base_numbering": 1,
   "nav_menu": {},
   "number_sections": true,
   "sideBar": true,
   "skip_h1_title": true,
   "title_cell": "Содержание",
   "title_sidebar": "Содержание",
   "toc_cell": true,
   "toc_position": {
    "height": "calc(100% - 180px)",
    "left": "10px",
    "top": "150px",
    "width": "390.369px"
   },
   "toc_section_display": true,
   "toc_window_display": true
  }
 },
 "nbformat": 4,
 "nbformat_minor": 1
}
