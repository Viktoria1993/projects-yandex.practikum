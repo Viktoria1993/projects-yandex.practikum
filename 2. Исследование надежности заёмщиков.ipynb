{
 "cells": [
  {
   "cell_type": "markdown",
   "id": "add16c33",
   "metadata": {
    "toc": true
   },
   "source": [
    "<h1>Содержание<span class=\"tocSkip\"></span></h1>\n",
    "<div class=\"toc\"><ul class=\"toc-item\"><li><span><a href=\"#Обзор-данных\" data-toc-modified-id=\"Обзор-данных-1\"><span class=\"toc-item-num\">1&nbsp;&nbsp;</span>Обзор данных</a></span></li><li><span><a href=\"#Заполнение-пропусков\" data-toc-modified-id=\"Заполнение-пропусков-2\"><span class=\"toc-item-num\">2&nbsp;&nbsp;</span>Заполнение пропусков</a></span></li><li><span><a href=\"#Проверка-данных-на-аномалии-и-исправления\" data-toc-modified-id=\"Проверка-данных-на-аномалии-и-исправления-3\"><span class=\"toc-item-num\">3&nbsp;&nbsp;</span>Проверка данных на аномалии и исправления</a></span></li><li><span><a href=\"#Изменение-типов-данных\" data-toc-modified-id=\"Изменение-типов-данных-4\"><span class=\"toc-item-num\">4&nbsp;&nbsp;</span>Изменение типов данных</a></span></li><li><span><a href=\"#Удаление-дубликатов\" data-toc-modified-id=\"Удаление-дубликатов-5\"><span class=\"toc-item-num\">5&nbsp;&nbsp;</span>Удаление дубликатов</a></span></li><li><span><a href=\"#Формирование-дополнительных-датафреймов-словарей,-декомпозиция-исходного-датафрейма.\" data-toc-modified-id=\"Формирование-дополнительных-датафреймов-словарей,-декомпозиция-исходного-датафрейма.-6\"><span class=\"toc-item-num\">6&nbsp;&nbsp;</span>Формирование дополнительных датафреймов словарей, декомпозиция исходного датафрейма.</a></span></li><li><span><a href=\"#Категоризация-дохода\" data-toc-modified-id=\"Категоризация-дохода-7\"><span class=\"toc-item-num\">7&nbsp;&nbsp;</span>Категоризация дохода</a></span></li><li><span><a href=\"#Категоризация-целей-кредита\" data-toc-modified-id=\"Категоризация-целей-кредита-8\"><span class=\"toc-item-num\">8&nbsp;&nbsp;</span>Категоризация целей кредита</a></span></li><li><span><a href=\"#Ответы-на-вопросы\" data-toc-modified-id=\"Ответы-на-вопросы-9\"><span class=\"toc-item-num\">9&nbsp;&nbsp;</span>Ответы на вопросы</a></span></li><li><span><a href=\"#Общий-вывод\" data-toc-modified-id=\"Общий-вывод-10\"><span class=\"toc-item-num\">10&nbsp;&nbsp;</span>Общий вывод</a></span></li></ul></div>"
   ]
  },
  {
   "cell_type": "markdown",
   "id": "e62a099f",
   "metadata": {},
   "source": [
    "# Исследование надежности заёмщиков"
   ]
  },
  {
   "cell_type": "markdown",
   "id": "522e1725",
   "metadata": {},
   "source": [
    "Заказчик - кредитный отдел банка. Нужно разобраться, влияет ли семейное положение и количество детей клиента на факт погашения кредита в срок. \n",
    "\n",
    "Данные от банка - статистика о платёжеспособности клиентов. Результаты исследования будут учтены при построении модели кредитного скоринга - специальной системы, которая оценивает способность потенциального заёмщика вернуть кредит банку."
   ]
  },
  {
   "cell_type": "markdown",
   "id": "756ac824",
   "metadata": {},
   "source": [
    "## Обзор данных"
   ]
  },
  {
   "cell_type": "markdown",
   "id": "87b3d47a",
   "metadata": {},
   "source": [
    "**Импортируем библиотеку Pandas и прочитаем файл с данными о клиентах банка. Выведем на экран первые 10 строк таблицы для ознакомления.**"
   ]
  },
  {
   "cell_type": "code",
   "execution_count": 1,
   "id": "c59efa3d",
   "metadata": {
    "scrolled": true
   },
   "outputs": [],
   "source": [
    "import pandas as pd"
   ]
  },
  {
   "cell_type": "code",
   "execution_count": 2,
   "id": "6b067262",
   "metadata": {},
   "outputs": [
    {
     "data": {
      "text/html": [
       "<div>\n",
       "<style scoped>\n",
       "    .dataframe tbody tr th:only-of-type {\n",
       "        vertical-align: middle;\n",
       "    }\n",
       "\n",
       "    .dataframe tbody tr th {\n",
       "        vertical-align: top;\n",
       "    }\n",
       "\n",
       "    .dataframe thead th {\n",
       "        text-align: right;\n",
       "    }\n",
       "</style>\n",
       "<table border=\"1\" class=\"dataframe\">\n",
       "  <thead>\n",
       "    <tr style=\"text-align: right;\">\n",
       "      <th></th>\n",
       "      <th>children</th>\n",
       "      <th>days_employed</th>\n",
       "      <th>dob_years</th>\n",
       "      <th>education</th>\n",
       "      <th>education_id</th>\n",
       "      <th>family_status</th>\n",
       "      <th>family_status_id</th>\n",
       "      <th>gender</th>\n",
       "      <th>income_type</th>\n",
       "      <th>debt</th>\n",
       "      <th>total_income</th>\n",
       "      <th>purpose</th>\n",
       "    </tr>\n",
       "  </thead>\n",
       "  <tbody>\n",
       "    <tr>\n",
       "      <th>0</th>\n",
       "      <td>1</td>\n",
       "      <td>-8437.673028</td>\n",
       "      <td>42</td>\n",
       "      <td>высшее</td>\n",
       "      <td>0</td>\n",
       "      <td>женат / замужем</td>\n",
       "      <td>0</td>\n",
       "      <td>F</td>\n",
       "      <td>сотрудник</td>\n",
       "      <td>0</td>\n",
       "      <td>253875.639453</td>\n",
       "      <td>покупка жилья</td>\n",
       "    </tr>\n",
       "    <tr>\n",
       "      <th>1</th>\n",
       "      <td>1</td>\n",
       "      <td>-4024.803754</td>\n",
       "      <td>36</td>\n",
       "      <td>среднее</td>\n",
       "      <td>1</td>\n",
       "      <td>женат / замужем</td>\n",
       "      <td>0</td>\n",
       "      <td>F</td>\n",
       "      <td>сотрудник</td>\n",
       "      <td>0</td>\n",
       "      <td>112080.014102</td>\n",
       "      <td>приобретение автомобиля</td>\n",
       "    </tr>\n",
       "    <tr>\n",
       "      <th>2</th>\n",
       "      <td>0</td>\n",
       "      <td>-5623.422610</td>\n",
       "      <td>33</td>\n",
       "      <td>Среднее</td>\n",
       "      <td>1</td>\n",
       "      <td>женат / замужем</td>\n",
       "      <td>0</td>\n",
       "      <td>M</td>\n",
       "      <td>сотрудник</td>\n",
       "      <td>0</td>\n",
       "      <td>145885.952297</td>\n",
       "      <td>покупка жилья</td>\n",
       "    </tr>\n",
       "    <tr>\n",
       "      <th>3</th>\n",
       "      <td>3</td>\n",
       "      <td>-4124.747207</td>\n",
       "      <td>32</td>\n",
       "      <td>среднее</td>\n",
       "      <td>1</td>\n",
       "      <td>женат / замужем</td>\n",
       "      <td>0</td>\n",
       "      <td>M</td>\n",
       "      <td>сотрудник</td>\n",
       "      <td>0</td>\n",
       "      <td>267628.550329</td>\n",
       "      <td>дополнительное образование</td>\n",
       "    </tr>\n",
       "    <tr>\n",
       "      <th>4</th>\n",
       "      <td>0</td>\n",
       "      <td>340266.072047</td>\n",
       "      <td>53</td>\n",
       "      <td>среднее</td>\n",
       "      <td>1</td>\n",
       "      <td>гражданский брак</td>\n",
       "      <td>1</td>\n",
       "      <td>F</td>\n",
       "      <td>пенсионер</td>\n",
       "      <td>0</td>\n",
       "      <td>158616.077870</td>\n",
       "      <td>сыграть свадьбу</td>\n",
       "    </tr>\n",
       "  </tbody>\n",
       "</table>\n",
       "</div>"
      ],
      "text/plain": [
       "   children  days_employed  dob_years education  education_id  \\\n",
       "0         1   -8437.673028         42    высшее             0   \n",
       "1         1   -4024.803754         36   среднее             1   \n",
       "2         0   -5623.422610         33   Среднее             1   \n",
       "3         3   -4124.747207         32   среднее             1   \n",
       "4         0  340266.072047         53   среднее             1   \n",
       "\n",
       "      family_status  family_status_id gender income_type  debt   total_income  \\\n",
       "0   женат / замужем                 0      F   сотрудник     0  253875.639453   \n",
       "1   женат / замужем                 0      F   сотрудник     0  112080.014102   \n",
       "2   женат / замужем                 0      M   сотрудник     0  145885.952297   \n",
       "3   женат / замужем                 0      M   сотрудник     0  267628.550329   \n",
       "4  гражданский брак                 1      F   пенсионер     0  158616.077870   \n",
       "\n",
       "                      purpose  \n",
       "0               покупка жилья  \n",
       "1     приобретение автомобиля  \n",
       "2               покупка жилья  \n",
       "3  дополнительное образование  \n",
       "4             сыграть свадьбу  "
      ]
     },
     "execution_count": 2,
     "metadata": {},
     "output_type": "execute_result"
    }
   ],
   "source": [
    "try:\n",
    "    data = pd.read_csv('D:/datasets/data.csv')\n",
    "except:\n",
    "    data = pd.read_csv('/datasets/data.csv')\n",
    "data.head(5)"
   ]
  },
  {
   "cell_type": "markdown",
   "id": "2cc560a7",
   "metadata": {},
   "source": [
    "**Посмотрим общую информацию о таблице.**"
   ]
  },
  {
   "cell_type": "code",
   "execution_count": 3,
   "id": "cab40b4c",
   "metadata": {
    "scrolled": true
   },
   "outputs": [
    {
     "name": "stdout",
     "output_type": "stream",
     "text": [
      "<class 'pandas.core.frame.DataFrame'>\n",
      "RangeIndex: 21525 entries, 0 to 21524\n",
      "Data columns (total 12 columns):\n",
      " #   Column            Non-Null Count  Dtype  \n",
      "---  ------            --------------  -----  \n",
      " 0   children          21525 non-null  int64  \n",
      " 1   days_employed     19351 non-null  float64\n",
      " 2   dob_years         21525 non-null  int64  \n",
      " 3   education         21525 non-null  object \n",
      " 4   education_id      21525 non-null  int64  \n",
      " 5   family_status     21525 non-null  object \n",
      " 6   family_status_id  21525 non-null  int64  \n",
      " 7   gender            21525 non-null  object \n",
      " 8   income_type       21525 non-null  object \n",
      " 9   debt              21525 non-null  int64  \n",
      " 10  total_income      19351 non-null  float64\n",
      " 11  purpose           21525 non-null  object \n",
      "dtypes: float64(2), int64(5), object(5)\n",
      "memory usage: 2.0+ MB\n"
     ]
    }
   ],
   "source": [
    "data.info()"
   ]
  },
  {
   "cell_type": "markdown",
   "id": "7e93c6e8",
   "metadata": {},
   "source": [
    "* В таблице 12 столбцов, 21 525 строк. Типы данных float64, int64, object. \n",
    "\n",
    "Данные в таблице:\n",
    "\n",
    "* `children` — количество детей в семье;\n",
    "\n",
    "* `days_employed` — общий трудовой стаж в днях;\n",
    "\n",
    "* `dob_years` — возраст клиента в годах;\n",
    "\n",
    "* `education` — уровень образования клиента;\n",
    "\n",
    "* `education_id` — идентификатор уровня образования;\n",
    "\n",
    "* `family_status` — семейное положение;\n",
    "\n",
    "* `family_status_id` — идентификатор семейного положения;\n",
    "\n",
    "* `gender` — пол клиента;\n",
    "\n",
    "* `income_type` — тип занятости;\n",
    "\n",
    "* `debt` — имел ли задолженность по возврату кредитов;\n",
    "\n",
    "* `total_income` — ежемесячный доход;\n",
    "\n",
    "* `purpose` — цель получения кредита."
   ]
  },
  {
   "cell_type": "code",
   "execution_count": 4,
   "id": "3ce7dcfd",
   "metadata": {
    "scrolled": false
   },
   "outputs": [
    {
     "data": {
      "text/plain": [
       "Index(['children', 'days_employed', 'dob_years', 'education', 'education_id',\n",
       "       'family_status', 'family_status_id', 'gender', 'income_type', 'debt',\n",
       "       'total_income', 'purpose'],\n",
       "      dtype='object')"
      ]
     },
     "execution_count": 4,
     "metadata": {},
     "output_type": "execute_result"
    }
   ],
   "source": [
    "# проверим названия столбцов\n",
    "data.columns"
   ]
  },
  {
   "cell_type": "markdown",
   "id": "90e7a382",
   "metadata": {},
   "source": [
    "**Названия столбцов соответствуют хорошему стилю:**\n",
    "\n",
    "* написаны в «змеином_регистре»;\n",
    "* все символы строчные;\n",
    "* пробелы отсутствуют.\n",
    "\n",
    "Для удобства переименуем столбец `dob_years` - возраст клиента, на `age`."
   ]
  },
  {
   "cell_type": "code",
   "execution_count": 5,
   "id": "3e770618",
   "metadata": {},
   "outputs": [],
   "source": [
    "data = data.rename(columns={'dob_years': 'age'})"
   ]
  },
  {
   "cell_type": "markdown",
   "id": "14bcb667",
   "metadata": {},
   "source": [
    "## Заполнение пропусков"
   ]
  },
  {
   "cell_type": "markdown",
   "id": "cf0d76a2",
   "metadata": {},
   "source": [
    "Для начала посчитаем сколько всего пропусков в таблице."
   ]
  },
  {
   "cell_type": "code",
   "execution_count": 6,
   "id": "4bcea8fb",
   "metadata": {},
   "outputs": [
    {
     "data": {
      "text/plain": [
       "children               0\n",
       "days_employed       2174\n",
       "age                    0\n",
       "education              0\n",
       "education_id           0\n",
       "family_status          0\n",
       "family_status_id       0\n",
       "gender                 0\n",
       "income_type            0\n",
       "debt                   0\n",
       "total_income        2174\n",
       "purpose                0\n",
       "dtype: int64"
      ]
     },
     "execution_count": 6,
     "metadata": {},
     "output_type": "execute_result"
    }
   ],
   "source": [
    "data.isna().sum()"
   ]
  },
  {
   "cell_type": "markdown",
   "id": "b0aac391",
   "metadata": {},
   "source": [
    "* В столбцах `days_employed` - общий трудовой стаж и `total_income` - ежемесячный доход обнаружено по 2174 пропущенных значения NaN, эти данные важны для нашего исследования, поэтому удалять их мы не будем, а заменим их на медианные и средние значения. "
   ]
  },
  {
   "cell_type": "markdown",
   "id": "ec9b7411",
   "metadata": {},
   "source": [
    "**Посчитаем какую долю составляют пропущенные значения в каждом из столбцов с пропусками.**"
   ]
  },
  {
   "cell_type": "code",
   "execution_count": 7,
   "id": "cc3ad658",
   "metadata": {},
   "outputs": [
    {
     "name": "stdout",
     "output_type": "stream",
     "text": [
      "Доля пропусков в столбце трудовой стаж - 10%\n"
     ]
    }
   ],
   "source": [
    "print('Доля пропусков в столбце трудовой стаж - {:.0%}'.format(data['days_employed'].isna().sum() / len(data)))\n"
   ]
  },
  {
   "cell_type": "code",
   "execution_count": 8,
   "id": "28a29f04",
   "metadata": {},
   "outputs": [
    {
     "name": "stdout",
     "output_type": "stream",
     "text": [
      "Доля пропусков в столбце ежемесячный доход - 10%\n"
     ]
    }
   ],
   "source": [
    "print('Доля пропусков в столбце ежемесячный доход - {:.0%}'.format(data['total_income'].isna().sum() / len(data)))"
   ]
  },
  {
   "cell_type": "markdown",
   "id": "e7d2c9e0",
   "metadata": {},
   "source": [
    "**Cформируем сводную таблицу с группировкой по возрасту и измерением среднего трудового стажа.**"
   ]
  },
  {
   "cell_type": "code",
   "execution_count": 9,
   "id": "e5225a5c",
   "metadata": {},
   "outputs": [],
   "source": [
    "group_employed = data.groupby('age')['days_employed'].transform('mean')"
   ]
  },
  {
   "cell_type": "markdown",
   "id": "c51e0186",
   "metadata": {},
   "source": [
    "**Заполним пропуски в столбце 'days_employed' по каждой возрастной группе на среднее.**"
   ]
  },
  {
   "cell_type": "code",
   "execution_count": 10,
   "id": "6159ef6f",
   "metadata": {},
   "outputs": [],
   "source": [
    "data['days_employed'] = data['days_employed'].fillna(group_employed)"
   ]
  },
  {
   "cell_type": "markdown",
   "id": "81267b0f",
   "metadata": {},
   "source": [
    "**Cформируем сводную таблицу с группировкой по типу занятости и измерением медианного дохода.**"
   ]
  },
  {
   "cell_type": "code",
   "execution_count": 11,
   "id": "4943ed1a",
   "metadata": {},
   "outputs": [],
   "source": [
    "group_income = data.groupby('income_type')['total_income'].transform('median')"
   ]
  },
  {
   "cell_type": "markdown",
   "id": "d1d3d9f1",
   "metadata": {},
   "source": [
    "**Теперь заменим пропуски медианой по каждой группе и округлим значения до 2 знаков после запятой.**"
   ]
  },
  {
   "cell_type": "code",
   "execution_count": 12,
   "id": "6dbc763d",
   "metadata": {},
   "outputs": [],
   "source": [
    "data['total_income'] = round(data['total_income'].fillna(group_income), 2)"
   ]
  },
  {
   "cell_type": "code",
   "execution_count": 13,
   "id": "c164102f",
   "metadata": {
    "scrolled": true
   },
   "outputs": [
    {
     "data": {
      "text/plain": [
       "children            0\n",
       "days_employed       0\n",
       "age                 0\n",
       "education           0\n",
       "education_id        0\n",
       "family_status       0\n",
       "family_status_id    0\n",
       "gender              0\n",
       "income_type         0\n",
       "debt                0\n",
       "total_income        0\n",
       "purpose             0\n",
       "dtype: int64"
      ]
     },
     "execution_count": 13,
     "metadata": {},
     "output_type": "execute_result"
    }
   ],
   "source": [
    "data.isna().sum()"
   ]
  },
  {
   "cell_type": "markdown",
   "id": "3a539b76",
   "metadata": {},
   "source": [
    "## Проверка данных на аномалии и исправления"
   ]
  },
  {
   "cell_type": "markdown",
   "id": "8068331e",
   "metadata": {},
   "source": [
    "**Проверим данные с помощью метода describe()**"
   ]
  },
  {
   "cell_type": "code",
   "execution_count": 14,
   "id": "d9d6ee3c",
   "metadata": {},
   "outputs": [
    {
     "data": {
      "text/html": [
       "<div>\n",
       "<style scoped>\n",
       "    .dataframe tbody tr th:only-of-type {\n",
       "        vertical-align: middle;\n",
       "    }\n",
       "\n",
       "    .dataframe tbody tr th {\n",
       "        vertical-align: top;\n",
       "    }\n",
       "\n",
       "    .dataframe thead th {\n",
       "        text-align: right;\n",
       "    }\n",
       "</style>\n",
       "<table border=\"1\" class=\"dataframe\">\n",
       "  <thead>\n",
       "    <tr style=\"text-align: right;\">\n",
       "      <th></th>\n",
       "      <th>count</th>\n",
       "      <th>mean</th>\n",
       "      <th>std</th>\n",
       "      <th>min</th>\n",
       "      <th>25%</th>\n",
       "      <th>50%</th>\n",
       "      <th>75%</th>\n",
       "      <th>max</th>\n",
       "    </tr>\n",
       "  </thead>\n",
       "  <tbody>\n",
       "    <tr>\n",
       "      <th>children</th>\n",
       "      <td>21525.0</td>\n",
       "      <td>0.54</td>\n",
       "      <td>1.38</td>\n",
       "      <td>-1.00</td>\n",
       "      <td>0.00</td>\n",
       "      <td>0.00</td>\n",
       "      <td>1.00</td>\n",
       "      <td>20.00</td>\n",
       "    </tr>\n",
       "    <tr>\n",
       "      <th>days_employed</th>\n",
       "      <td>21525.0</td>\n",
       "      <td>63311.24</td>\n",
       "      <td>137241.21</td>\n",
       "      <td>-18388.95</td>\n",
       "      <td>-2518.17</td>\n",
       "      <td>-1022.59</td>\n",
       "      <td>-115.37</td>\n",
       "      <td>401755.40</td>\n",
       "    </tr>\n",
       "    <tr>\n",
       "      <th>age</th>\n",
       "      <td>21525.0</td>\n",
       "      <td>43.29</td>\n",
       "      <td>12.57</td>\n",
       "      <td>0.00</td>\n",
       "      <td>33.00</td>\n",
       "      <td>42.00</td>\n",
       "      <td>53.00</td>\n",
       "      <td>75.00</td>\n",
       "    </tr>\n",
       "    <tr>\n",
       "      <th>education_id</th>\n",
       "      <td>21525.0</td>\n",
       "      <td>0.82</td>\n",
       "      <td>0.55</td>\n",
       "      <td>0.00</td>\n",
       "      <td>1.00</td>\n",
       "      <td>1.00</td>\n",
       "      <td>1.00</td>\n",
       "      <td>4.00</td>\n",
       "    </tr>\n",
       "    <tr>\n",
       "      <th>family_status_id</th>\n",
       "      <td>21525.0</td>\n",
       "      <td>0.97</td>\n",
       "      <td>1.42</td>\n",
       "      <td>0.00</td>\n",
       "      <td>0.00</td>\n",
       "      <td>0.00</td>\n",
       "      <td>1.00</td>\n",
       "      <td>4.00</td>\n",
       "    </tr>\n",
       "    <tr>\n",
       "      <th>debt</th>\n",
       "      <td>21525.0</td>\n",
       "      <td>0.08</td>\n",
       "      <td>0.27</td>\n",
       "      <td>0.00</td>\n",
       "      <td>0.00</td>\n",
       "      <td>0.00</td>\n",
       "      <td>0.00</td>\n",
       "      <td>1.00</td>\n",
       "    </tr>\n",
       "    <tr>\n",
       "      <th>total_income</th>\n",
       "      <td>21525.0</td>\n",
       "      <td>165225.32</td>\n",
       "      <td>98043.67</td>\n",
       "      <td>20667.26</td>\n",
       "      <td>107798.17</td>\n",
       "      <td>142594.40</td>\n",
       "      <td>195549.94</td>\n",
       "      <td>2265604.03</td>\n",
       "    </tr>\n",
       "  </tbody>\n",
       "</table>\n",
       "</div>"
      ],
      "text/plain": [
       "                    count       mean        std       min        25%  \\\n",
       "children          21525.0       0.54       1.38     -1.00       0.00   \n",
       "days_employed     21525.0   63311.24  137241.21 -18388.95   -2518.17   \n",
       "age               21525.0      43.29      12.57      0.00      33.00   \n",
       "education_id      21525.0       0.82       0.55      0.00       1.00   \n",
       "family_status_id  21525.0       0.97       1.42      0.00       0.00   \n",
       "debt              21525.0       0.08       0.27      0.00       0.00   \n",
       "total_income      21525.0  165225.32   98043.67  20667.26  107798.17   \n",
       "\n",
       "                        50%        75%         max  \n",
       "children               0.00       1.00       20.00  \n",
       "days_employed      -1022.59    -115.37   401755.40  \n",
       "age                   42.00      53.00       75.00  \n",
       "education_id           1.00       1.00        4.00  \n",
       "family_status_id       0.00       1.00        4.00  \n",
       "debt                   0.00       0.00        1.00  \n",
       "total_income      142594.40  195549.94  2265604.03  "
      ]
     },
     "execution_count": 14,
     "metadata": {},
     "output_type": "execute_result"
    }
   ],
   "source": [
    "data.describe().T.round(2)"
   ]
  },
  {
   "cell_type": "markdown",
   "id": "e9bff49b",
   "metadata": {},
   "source": [
    "* Столбец `days_employed` и `children` имеет отрицательные значения.\n",
    "\n",
    "\n",
    "* В столбце `children` присутствует аномально высокое значение 20.\n",
    "\n",
    "\n",
    "* В столбце `days_employed` аномально высокое максимальное значение трудового стажа.\n",
    "\n",
    "\n",
    "* Минимальный возраст клиента, согласно данным - 0.\n",
    "\n",
    "\n",
    "**Исправим аномалии:**\n",
    "\n",
    "\n",
    "* С помощью метода abs(), приведём значения в столбцах с количеством трудового стажа и количеством детей к положительным."
   ]
  },
  {
   "cell_type": "code",
   "execution_count": 15,
   "id": "78a7a788",
   "metadata": {
    "scrolled": false
   },
   "outputs": [],
   "source": [
    "data['days_employed'] = abs(round(data['days_employed'], 1))\n",
    "data['children'] = abs(data['children'])"
   ]
  },
  {
   "cell_type": "markdown",
   "id": "79105ec8",
   "metadata": {},
   "source": [
    "* Максимальное количество детей - 20, вероятно это опечатка, найдем медиану и заменим."
   ]
  },
  {
   "cell_type": "code",
   "execution_count": 16,
   "id": "1f0aa2c1",
   "metadata": {
    "scrolled": true
   },
   "outputs": [
    {
     "data": {
      "text/plain": [
       "5.0"
      ]
     },
     "execution_count": 16,
     "metadata": {},
     "output_type": "execute_result"
    }
   ],
   "source": [
    "children_median = data['children'].median()\n",
    "data['children'] = data['children'].replace(20, children_median)\n",
    "data['children'].max()"
   ]
  },
  {
   "cell_type": "markdown",
   "id": "84c24c3e",
   "metadata": {},
   "source": [
    "Теперь максимальное значение по столбцу 5."
   ]
  },
  {
   "cell_type": "markdown",
   "id": "5cdbbf11",
   "metadata": {},
   "source": [
    "* В столбце `days_employed` есть аномально высокие значения трудового стажа."
   ]
  },
  {
   "cell_type": "code",
   "execution_count": 17,
   "id": "71c21219",
   "metadata": {
    "scrolled": true
   },
   "outputs": [
    {
     "data": {
      "text/plain": [
       "income_type\n",
       "безработный        366413.650000\n",
       "в декрете            3296.800000\n",
       "госслужащий          6976.176354\n",
       "компаньон            5043.579233\n",
       "пенсионер          348237.245332\n",
       "предприниматель     92956.000000\n",
       "сотрудник            5310.743160\n",
       "студент               578.800000\n",
       "Name: days_employed, dtype: float64"
      ]
     },
     "execution_count": 17,
     "metadata": {},
     "output_type": "execute_result"
    }
   ],
   "source": [
    "data.groupby('income_type')['days_employed'].mean()"
   ]
  },
  {
   "cell_type": "markdown",
   "id": "a6a35d82",
   "metadata": {},
   "source": [
    "* В категориях пенсионеры, безработные и предприниматели очень высокие значения. Заменим эти значения на средний стаж работы, по России, это 34 года, 12 410 дней, если трудовой стаж больше чем возраст клиента."
   ]
  },
  {
   "cell_type": "code",
   "execution_count": 18,
   "id": "e9d4c619",
   "metadata": {
    "scrolled": false
   },
   "outputs": [
    {
     "data": {
      "text/plain": [
       "18388.9"
      ]
     },
     "execution_count": 18,
     "metadata": {},
     "output_type": "execute_result"
    }
   ],
   "source": [
    "days_employed_mean = 12410\n",
    "data.loc[(data['days_employed'] > (data['age'] * 365)), 'days_employed'] = days_employed_mean\n",
    "data['days_employed'].max()"
   ]
  },
  {
   "cell_type": "markdown",
   "id": "96bd6e6a",
   "metadata": {},
   "source": [
    "Теперь максимальное значение по столбцу 18388 дней, это 50 лет.\n",
    "\n",
    "\n",
    "* Проверим значения столбца `age`, согласно данным таблицы минимальный возраст клиента - 0 лет, что невозможно для заёмщика. Рассчитаем и заменим на медианные значения по семейному статусу (кажется эти признаки вполне коррелируют)."
   ]
  },
  {
   "cell_type": "code",
   "execution_count": 19,
   "id": "c0218efe",
   "metadata": {},
   "outputs": [],
   "source": [
    "group_age_median = data.groupby('family_status')['age'].transform('median')"
   ]
  },
  {
   "cell_type": "code",
   "execution_count": 20,
   "id": "62e72386",
   "metadata": {
    "scrolled": true
   },
   "outputs": [
    {
     "data": {
      "text/plain": [
       "19"
      ]
     },
     "execution_count": 20,
     "metadata": {},
     "output_type": "execute_result"
    }
   ],
   "source": [
    "data.loc[(data['age'] == 0), 'age'] = group_age_median\n",
    "data['age'].min()"
   ]
  },
  {
   "cell_type": "markdown",
   "id": "7a8f7488",
   "metadata": {},
   "source": [
    "Минимальный возраст клиентов после замены 19 лет."
   ]
  },
  {
   "cell_type": "markdown",
   "id": "bcebe805",
   "metadata": {},
   "source": [
    "**Проверим уникальные значения в столбце `gender`.**"
   ]
  },
  {
   "cell_type": "code",
   "execution_count": 21,
   "id": "f51a0da4",
   "metadata": {},
   "outputs": [
    {
     "data": {
      "text/plain": [
       "F      14236\n",
       "M       7288\n",
       "XNA        1\n",
       "Name: gender, dtype: int64"
      ]
     },
     "execution_count": 21,
     "metadata": {},
     "output_type": "execute_result"
    }
   ],
   "source": [
    "data['gender'].value_counts()"
   ]
  },
  {
   "cell_type": "markdown",
   "id": "c56bbd90",
   "metadata": {},
   "source": [
    "* Обнаружено одно некорректное значение `XNA`. Заменим на наиболее популярное значение пола в таблице. В данном случае это женский пол - Female."
   ]
  },
  {
   "cell_type": "code",
   "execution_count": 22,
   "id": "0ea19505",
   "metadata": {},
   "outputs": [],
   "source": [
    "data['gender'] = data['gender'].replace('XNA', 'F')"
   ]
  },
  {
   "cell_type": "markdown",
   "id": "be55db8f",
   "metadata": {},
   "source": [
    "**Выводы:**"
   ]
  },
  {
   "cell_type": "markdown",
   "id": "129a1dda",
   "metadata": {},
   "source": [
    "## Изменение типов данных"
   ]
  },
  {
   "cell_type": "markdown",
   "id": "c3217291",
   "metadata": {},
   "source": [
    "**Заменим вещественный тип данных в столбцах `total_income` и `days_employed` на целочисленный и проверим.**"
   ]
  },
  {
   "cell_type": "code",
   "execution_count": 23,
   "id": "b3ca3769",
   "metadata": {
    "scrolled": true
   },
   "outputs": [
    {
     "data": {
      "text/plain": [
       "total_income       int32\n",
       "days_employed    float64\n",
       "dtype: object"
      ]
     },
     "execution_count": 23,
     "metadata": {},
     "output_type": "execute_result"
    }
   ],
   "source": [
    "data['total_income'] = data[['total_income', 'days_employed']].astype('int')\n",
    "data[['total_income', 'days_employed']].dtypes"
   ]
  },
  {
   "cell_type": "markdown",
   "id": "47ea2a22",
   "metadata": {},
   "source": [
    "## Удаление дубликатов"
   ]
  },
  {
   "cell_type": "markdown",
   "id": "72d1206d",
   "metadata": {},
   "source": [
    "**Посчитаем сколько дубликатов в таблице.**"
   ]
  },
  {
   "cell_type": "code",
   "execution_count": 24,
   "id": "8a54ea09",
   "metadata": {
    "scrolled": true
   },
   "outputs": [
    {
     "data": {
      "text/plain": [
       "54"
      ]
     },
     "execution_count": 24,
     "metadata": {},
     "output_type": "execute_result"
    }
   ],
   "source": [
    "data.duplicated().sum()"
   ]
  },
  {
   "cell_type": "markdown",
   "id": "05de25de",
   "metadata": {},
   "source": [
    "**Проверим уникальные значения в столбце `education`.**"
   ]
  },
  {
   "cell_type": "code",
   "execution_count": 25,
   "id": "6411069c",
   "metadata": {},
   "outputs": [
    {
     "data": {
      "text/plain": [
       "array(['высшее', 'среднее', 'Среднее', 'СРЕДНЕЕ', 'ВЫСШЕЕ',\n",
       "       'неоконченное высшее', 'начальное', 'Высшее',\n",
       "       'НЕОКОНЧЕННОЕ ВЫСШЕЕ', 'Неоконченное высшее', 'НАЧАЛЬНОЕ',\n",
       "       'Начальное', 'Ученая степень', 'УЧЕНАЯ СТЕПЕНЬ', 'ученая степень'],\n",
       "      dtype=object)"
      ]
     },
     "execution_count": 25,
     "metadata": {},
     "output_type": "execute_result"
    }
   ],
   "source": [
    "data['education'].unique()"
   ]
  },
  {
   "cell_type": "markdown",
   "id": "aac374bc",
   "metadata": {},
   "source": [
    "**Приведём с помощью метода str.lower() все буквы к нижнему регистру.**"
   ]
  },
  {
   "cell_type": "code",
   "execution_count": 26,
   "id": "eb5c4008",
   "metadata": {},
   "outputs": [
    {
     "data": {
      "text/plain": [
       "array(['высшее', 'среднее', 'неоконченное высшее', 'начальное',\n",
       "       'ученая степень'], dtype=object)"
      ]
     },
     "execution_count": 26,
     "metadata": {},
     "output_type": "execute_result"
    }
   ],
   "source": [
    "data['education'] = data['education'].str.lower()\n",
    "data['education'].unique()"
   ]
  },
  {
   "cell_type": "markdown",
   "id": "d2cd19c1",
   "metadata": {},
   "source": [
    "**Проверим оставшиеся столбцы.**"
   ]
  },
  {
   "cell_type": "code",
   "execution_count": 27,
   "id": "ee46f6cf",
   "metadata": {
    "scrolled": false
   },
   "outputs": [
    {
     "data": {
      "text/plain": [
       "array(['покупка жилья', 'приобретение автомобиля',\n",
       "       'дополнительное образование', 'сыграть свадьбу',\n",
       "       'операции с жильем', 'образование', 'на проведение свадьбы',\n",
       "       'покупка жилья для семьи', 'покупка недвижимости',\n",
       "       'покупка коммерческой недвижимости', 'покупка жилой недвижимости',\n",
       "       'строительство собственной недвижимости', 'недвижимость',\n",
       "       'строительство недвижимости', 'на покупку подержанного автомобиля',\n",
       "       'на покупку своего автомобиля',\n",
       "       'операции с коммерческой недвижимостью',\n",
       "       'строительство жилой недвижимости', 'жилье',\n",
       "       'операции со своей недвижимостью', 'автомобили',\n",
       "       'заняться образованием', 'сделка с подержанным автомобилем',\n",
       "       'получение образования', 'автомобиль', 'свадьба',\n",
       "       'получение дополнительного образования', 'покупка своего жилья',\n",
       "       'операции с недвижимостью', 'получение высшего образования',\n",
       "       'свой автомобиль', 'сделка с автомобилем',\n",
       "       'профильное образование', 'высшее образование',\n",
       "       'покупка жилья для сдачи', 'на покупку автомобиля', 'ремонт жилью',\n",
       "       'заняться высшим образованием'], dtype=object)"
      ]
     },
     "execution_count": 27,
     "metadata": {},
     "output_type": "execute_result"
    }
   ],
   "source": [
    "data['purpose'].unique()"
   ]
  },
  {
   "cell_type": "markdown",
   "id": "8b03d4d8",
   "metadata": {},
   "source": [
    "* В столбце цель кредита много неявнях дубликатов, позднее проведём категоризацию и объединим цели."
   ]
  },
  {
   "cell_type": "code",
   "execution_count": 28,
   "id": "3643da27",
   "metadata": {},
   "outputs": [
    {
     "data": {
      "text/plain": [
       "array(['сотрудник', 'пенсионер', 'компаньон', 'госслужащий',\n",
       "       'безработный', 'предприниматель', 'студент', 'в декрете'],\n",
       "      dtype=object)"
      ]
     },
     "execution_count": 28,
     "metadata": {},
     "output_type": "execute_result"
    }
   ],
   "source": [
    "data['income_type'].unique()"
   ]
  },
  {
   "cell_type": "code",
   "execution_count": 29,
   "id": "a71aba40",
   "metadata": {
    "scrolled": true
   },
   "outputs": [
    {
     "data": {
      "text/plain": [
       "array(['женат / замужем', 'гражданский брак', 'вдовец / вдова',\n",
       "       'в разводе', 'Не женат / не замужем'], dtype=object)"
      ]
     },
     "execution_count": 29,
     "metadata": {},
     "output_type": "execute_result"
    }
   ],
   "source": [
    "data['family_status'].unique()"
   ]
  },
  {
   "cell_type": "markdown",
   "id": "8fd37af7",
   "metadata": {},
   "source": [
    "**Удалим дубликаты и восстановим индексацию.**"
   ]
  },
  {
   "cell_type": "code",
   "execution_count": 30,
   "id": "e5032bf6",
   "metadata": {
    "scrolled": true
   },
   "outputs": [
    {
     "data": {
      "text/plain": [
       "0"
      ]
     },
     "execution_count": 30,
     "metadata": {},
     "output_type": "execute_result"
    }
   ],
   "source": [
    "data = data.drop_duplicates().reset_index(drop=True)\n",
    "data.duplicated().sum()"
   ]
  },
  {
   "cell_type": "markdown",
   "id": "a0e68f0e",
   "metadata": {},
   "source": [
    "## Формирование дополнительных датафреймов словарей, декомпозиция исходного датафрейма."
   ]
  },
  {
   "cell_type": "markdown",
   "id": "b23f8a28",
   "metadata": {},
   "source": [
    "**Создадим два новых датафрейма со столбцами:**\n",
    "\n",
    "* `education_id` и `education` — в первом;\n",
    "\n",
    "\n",
    "* `family_status_id` и `family_status` — во втором."
   ]
  },
  {
   "cell_type": "code",
   "execution_count": 31,
   "id": "fee252c6",
   "metadata": {
    "scrolled": true
   },
   "outputs": [
    {
     "data": {
      "text/html": [
       "<div>\n",
       "<style scoped>\n",
       "    .dataframe tbody tr th:only-of-type {\n",
       "        vertical-align: middle;\n",
       "    }\n",
       "\n",
       "    .dataframe tbody tr th {\n",
       "        vertical-align: top;\n",
       "    }\n",
       "\n",
       "    .dataframe thead th {\n",
       "        text-align: right;\n",
       "    }\n",
       "</style>\n",
       "<table border=\"1\" class=\"dataframe\">\n",
       "  <thead>\n",
       "    <tr style=\"text-align: right;\">\n",
       "      <th></th>\n",
       "      <th>education_id</th>\n",
       "      <th>education</th>\n",
       "    </tr>\n",
       "  </thead>\n",
       "  <tbody>\n",
       "    <tr>\n",
       "      <th>0</th>\n",
       "      <td>0</td>\n",
       "      <td>высшее</td>\n",
       "    </tr>\n",
       "    <tr>\n",
       "      <th>1</th>\n",
       "      <td>1</td>\n",
       "      <td>среднее</td>\n",
       "    </tr>\n",
       "    <tr>\n",
       "      <th>2</th>\n",
       "      <td>1</td>\n",
       "      <td>среднее</td>\n",
       "    </tr>\n",
       "    <tr>\n",
       "      <th>3</th>\n",
       "      <td>1</td>\n",
       "      <td>среднее</td>\n",
       "    </tr>\n",
       "    <tr>\n",
       "      <th>4</th>\n",
       "      <td>1</td>\n",
       "      <td>среднее</td>\n",
       "    </tr>\n",
       "  </tbody>\n",
       "</table>\n",
       "</div>"
      ],
      "text/plain": [
       "   education_id education\n",
       "0             0    высшее\n",
       "1             1   среднее\n",
       "2             1   среднее\n",
       "3             1   среднее\n",
       "4             1   среднее"
      ]
     },
     "execution_count": 31,
     "metadata": {},
     "output_type": "execute_result"
    }
   ],
   "source": [
    "education_data = data[['education_id', 'education']]\n",
    "education_data.head()"
   ]
  },
  {
   "cell_type": "code",
   "execution_count": 32,
   "id": "e0b416b1",
   "metadata": {},
   "outputs": [
    {
     "data": {
      "text/html": [
       "<div>\n",
       "<style scoped>\n",
       "    .dataframe tbody tr th:only-of-type {\n",
       "        vertical-align: middle;\n",
       "    }\n",
       "\n",
       "    .dataframe tbody tr th {\n",
       "        vertical-align: top;\n",
       "    }\n",
       "\n",
       "    .dataframe thead th {\n",
       "        text-align: right;\n",
       "    }\n",
       "</style>\n",
       "<table border=\"1\" class=\"dataframe\">\n",
       "  <thead>\n",
       "    <tr style=\"text-align: right;\">\n",
       "      <th></th>\n",
       "      <th>family_status_id</th>\n",
       "      <th>family_status</th>\n",
       "    </tr>\n",
       "  </thead>\n",
       "  <tbody>\n",
       "    <tr>\n",
       "      <th>0</th>\n",
       "      <td>0</td>\n",
       "      <td>женат / замужем</td>\n",
       "    </tr>\n",
       "    <tr>\n",
       "      <th>1</th>\n",
       "      <td>0</td>\n",
       "      <td>женат / замужем</td>\n",
       "    </tr>\n",
       "    <tr>\n",
       "      <th>2</th>\n",
       "      <td>0</td>\n",
       "      <td>женат / замужем</td>\n",
       "    </tr>\n",
       "    <tr>\n",
       "      <th>3</th>\n",
       "      <td>0</td>\n",
       "      <td>женат / замужем</td>\n",
       "    </tr>\n",
       "    <tr>\n",
       "      <th>4</th>\n",
       "      <td>1</td>\n",
       "      <td>гражданский брак</td>\n",
       "    </tr>\n",
       "  </tbody>\n",
       "</table>\n",
       "</div>"
      ],
      "text/plain": [
       "   family_status_id     family_status\n",
       "0                 0   женат / замужем\n",
       "1                 0   женат / замужем\n",
       "2                 0   женат / замужем\n",
       "3                 0   женат / замужем\n",
       "4                 1  гражданский брак"
      ]
     },
     "execution_count": 32,
     "metadata": {},
     "output_type": "execute_result"
    }
   ],
   "source": [
    "family_data = data[['family_status_id', 'family_status']]\n",
    "family_data.head()"
   ]
  },
  {
   "cell_type": "markdown",
   "id": "f49248a9",
   "metadata": {},
   "source": [
    "**Удалим дубликаты и восстановим индексы.**"
   ]
  },
  {
   "cell_type": "code",
   "execution_count": 33,
   "id": "8e7b46c6",
   "metadata": {
    "scrolled": true
   },
   "outputs": [],
   "source": [
    "education_data = education_data.drop_duplicates().reset_index(drop=True)\n",
    "family_data = family_data.drop_duplicates().reset_index(drop=True)"
   ]
  },
  {
   "cell_type": "markdown",
   "id": "502368c0",
   "metadata": {},
   "source": [
    "* Из исходного датафрейма удалим столбцы `education_id` и `family_status_id`."
   ]
  },
  {
   "cell_type": "code",
   "execution_count": 34,
   "id": "c8723427",
   "metadata": {},
   "outputs": [
    {
     "data": {
      "text/html": [
       "<div>\n",
       "<style scoped>\n",
       "    .dataframe tbody tr th:only-of-type {\n",
       "        vertical-align: middle;\n",
       "    }\n",
       "\n",
       "    .dataframe tbody tr th {\n",
       "        vertical-align: top;\n",
       "    }\n",
       "\n",
       "    .dataframe thead th {\n",
       "        text-align: right;\n",
       "    }\n",
       "</style>\n",
       "<table border=\"1\" class=\"dataframe\">\n",
       "  <thead>\n",
       "    <tr style=\"text-align: right;\">\n",
       "      <th></th>\n",
       "      <th>children</th>\n",
       "      <th>days_employed</th>\n",
       "      <th>age</th>\n",
       "      <th>education</th>\n",
       "      <th>family_status</th>\n",
       "      <th>gender</th>\n",
       "      <th>income_type</th>\n",
       "      <th>debt</th>\n",
       "      <th>total_income</th>\n",
       "      <th>purpose</th>\n",
       "    </tr>\n",
       "  </thead>\n",
       "  <tbody>\n",
       "    <tr>\n",
       "      <th>0</th>\n",
       "      <td>1.0</td>\n",
       "      <td>8437.7</td>\n",
       "      <td>42</td>\n",
       "      <td>высшее</td>\n",
       "      <td>женат / замужем</td>\n",
       "      <td>F</td>\n",
       "      <td>сотрудник</td>\n",
       "      <td>0</td>\n",
       "      <td>253875</td>\n",
       "      <td>покупка жилья</td>\n",
       "    </tr>\n",
       "    <tr>\n",
       "      <th>1</th>\n",
       "      <td>1.0</td>\n",
       "      <td>4024.8</td>\n",
       "      <td>36</td>\n",
       "      <td>среднее</td>\n",
       "      <td>женат / замужем</td>\n",
       "      <td>F</td>\n",
       "      <td>сотрудник</td>\n",
       "      <td>0</td>\n",
       "      <td>112080</td>\n",
       "      <td>приобретение автомобиля</td>\n",
       "    </tr>\n",
       "    <tr>\n",
       "      <th>2</th>\n",
       "      <td>0.0</td>\n",
       "      <td>5623.4</td>\n",
       "      <td>33</td>\n",
       "      <td>среднее</td>\n",
       "      <td>женат / замужем</td>\n",
       "      <td>M</td>\n",
       "      <td>сотрудник</td>\n",
       "      <td>0</td>\n",
       "      <td>145885</td>\n",
       "      <td>покупка жилья</td>\n",
       "    </tr>\n",
       "    <tr>\n",
       "      <th>3</th>\n",
       "      <td>3.0</td>\n",
       "      <td>4124.7</td>\n",
       "      <td>32</td>\n",
       "      <td>среднее</td>\n",
       "      <td>женат / замужем</td>\n",
       "      <td>M</td>\n",
       "      <td>сотрудник</td>\n",
       "      <td>0</td>\n",
       "      <td>267628</td>\n",
       "      <td>дополнительное образование</td>\n",
       "    </tr>\n",
       "    <tr>\n",
       "      <th>4</th>\n",
       "      <td>0.0</td>\n",
       "      <td>12410.0</td>\n",
       "      <td>53</td>\n",
       "      <td>среднее</td>\n",
       "      <td>гражданский брак</td>\n",
       "      <td>F</td>\n",
       "      <td>пенсионер</td>\n",
       "      <td>0</td>\n",
       "      <td>158616</td>\n",
       "      <td>сыграть свадьбу</td>\n",
       "    </tr>\n",
       "  </tbody>\n",
       "</table>\n",
       "</div>"
      ],
      "text/plain": [
       "   children  days_employed  age education     family_status gender  \\\n",
       "0       1.0         8437.7   42    высшее   женат / замужем      F   \n",
       "1       1.0         4024.8   36   среднее   женат / замужем      F   \n",
       "2       0.0         5623.4   33   среднее   женат / замужем      M   \n",
       "3       3.0         4124.7   32   среднее   женат / замужем      M   \n",
       "4       0.0        12410.0   53   среднее  гражданский брак      F   \n",
       "\n",
       "  income_type  debt  total_income                     purpose  \n",
       "0   сотрудник     0        253875               покупка жилья  \n",
       "1   сотрудник     0        112080     приобретение автомобиля  \n",
       "2   сотрудник     0        145885               покупка жилья  \n",
       "3   сотрудник     0        267628  дополнительное образование  \n",
       "4   пенсионер     0        158616             сыграть свадьбу  "
      ]
     },
     "execution_count": 34,
     "metadata": {},
     "output_type": "execute_result"
    }
   ],
   "source": [
    "data.drop(['education_id', 'family_status_id'], axis=1, inplace=True)\n",
    "data.head()"
   ]
  },
  {
   "cell_type": "markdown",
   "id": "0b14b9f3",
   "metadata": {},
   "source": [
    "## Категоризация дохода"
   ]
  },
  {
   "cell_type": "markdown",
   "id": "c2b2af0c",
   "metadata": {},
   "source": [
    "**Создадим функцию, которая на основании доходов присвоит клиентам определённую категорию и проверим её работу.**"
   ]
  },
  {
   "cell_type": "code",
   "execution_count": 35,
   "id": "25a4c717",
   "metadata": {},
   "outputs": [
    {
     "name": "stdout",
     "output_type": "stream",
     "text": [
      "E\n",
      "D\n",
      "C\n",
      "B\n",
      "A\n"
     ]
    }
   ],
   "source": [
    "def total_income_category(total_income):\n",
    "    \"\"\"\n",
    "    Возвращает категорию исходя из суммы дохода total_income, используя правила:\n",
    "    - 'E', если total_income от 0 до 30000;\n",
    "    - 'D', если total_income от 30001 до 50000;\n",
    "    - 'С', если total_income от 50001 до 200000;\n",
    "    - 'B', если total income от 200001 до 1000000;\n",
    "    - 'A', если total_income 1000001 и выше.\n",
    "    \"\"\"\n",
    "    \n",
    "    if total_income <= 30000:\n",
    "        return 'E'\n",
    "    if total_income <= 50000:\n",
    "        return 'D'\n",
    "    if total_income <= 200000:\n",
    "        return 'C'\n",
    "    if total_income <= 1000000:\n",
    "        return 'B'\n",
    "    return 'A'\n",
    "\n",
    "print(total_income_category(29000))\n",
    "print(total_income_category(45000))\n",
    "print(total_income_category(78000))\n",
    "print(total_income_category(250000))\n",
    "print(total_income_category(1000250))                           "
   ]
  },
  {
   "cell_type": "markdown",
   "id": "e8f6154c",
   "metadata": {},
   "source": [
    "* Написанная функция работает корректно, теперь создадим столбец total_income_category, в который на основании дохода будет записана категория. "
   ]
  },
  {
   "cell_type": "code",
   "execution_count": 36,
   "id": "ffb12fc2",
   "metadata": {
    "scrolled": true
   },
   "outputs": [
    {
     "data": {
      "text/html": [
       "<div>\n",
       "<style scoped>\n",
       "    .dataframe tbody tr th:only-of-type {\n",
       "        vertical-align: middle;\n",
       "    }\n",
       "\n",
       "    .dataframe tbody tr th {\n",
       "        vertical-align: top;\n",
       "    }\n",
       "\n",
       "    .dataframe thead th {\n",
       "        text-align: right;\n",
       "    }\n",
       "</style>\n",
       "<table border=\"1\" class=\"dataframe\">\n",
       "  <thead>\n",
       "    <tr style=\"text-align: right;\">\n",
       "      <th></th>\n",
       "      <th>children</th>\n",
       "      <th>days_employed</th>\n",
       "      <th>age</th>\n",
       "      <th>education</th>\n",
       "      <th>family_status</th>\n",
       "      <th>gender</th>\n",
       "      <th>income_type</th>\n",
       "      <th>debt</th>\n",
       "      <th>total_income</th>\n",
       "      <th>purpose</th>\n",
       "      <th>total_income_category</th>\n",
       "    </tr>\n",
       "  </thead>\n",
       "  <tbody>\n",
       "    <tr>\n",
       "      <th>0</th>\n",
       "      <td>1.0</td>\n",
       "      <td>8437.7</td>\n",
       "      <td>42</td>\n",
       "      <td>высшее</td>\n",
       "      <td>женат / замужем</td>\n",
       "      <td>F</td>\n",
       "      <td>сотрудник</td>\n",
       "      <td>0</td>\n",
       "      <td>253875</td>\n",
       "      <td>покупка жилья</td>\n",
       "      <td>B</td>\n",
       "    </tr>\n",
       "    <tr>\n",
       "      <th>1</th>\n",
       "      <td>1.0</td>\n",
       "      <td>4024.8</td>\n",
       "      <td>36</td>\n",
       "      <td>среднее</td>\n",
       "      <td>женат / замужем</td>\n",
       "      <td>F</td>\n",
       "      <td>сотрудник</td>\n",
       "      <td>0</td>\n",
       "      <td>112080</td>\n",
       "      <td>приобретение автомобиля</td>\n",
       "      <td>C</td>\n",
       "    </tr>\n",
       "    <tr>\n",
       "      <th>2</th>\n",
       "      <td>0.0</td>\n",
       "      <td>5623.4</td>\n",
       "      <td>33</td>\n",
       "      <td>среднее</td>\n",
       "      <td>женат / замужем</td>\n",
       "      <td>M</td>\n",
       "      <td>сотрудник</td>\n",
       "      <td>0</td>\n",
       "      <td>145885</td>\n",
       "      <td>покупка жилья</td>\n",
       "      <td>C</td>\n",
       "    </tr>\n",
       "    <tr>\n",
       "      <th>3</th>\n",
       "      <td>3.0</td>\n",
       "      <td>4124.7</td>\n",
       "      <td>32</td>\n",
       "      <td>среднее</td>\n",
       "      <td>женат / замужем</td>\n",
       "      <td>M</td>\n",
       "      <td>сотрудник</td>\n",
       "      <td>0</td>\n",
       "      <td>267628</td>\n",
       "      <td>дополнительное образование</td>\n",
       "      <td>B</td>\n",
       "    </tr>\n",
       "    <tr>\n",
       "      <th>4</th>\n",
       "      <td>0.0</td>\n",
       "      <td>12410.0</td>\n",
       "      <td>53</td>\n",
       "      <td>среднее</td>\n",
       "      <td>гражданский брак</td>\n",
       "      <td>F</td>\n",
       "      <td>пенсионер</td>\n",
       "      <td>0</td>\n",
       "      <td>158616</td>\n",
       "      <td>сыграть свадьбу</td>\n",
       "      <td>C</td>\n",
       "    </tr>\n",
       "  </tbody>\n",
       "</table>\n",
       "</div>"
      ],
      "text/plain": [
       "   children  days_employed  age education     family_status gender  \\\n",
       "0       1.0         8437.7   42    высшее   женат / замужем      F   \n",
       "1       1.0         4024.8   36   среднее   женат / замужем      F   \n",
       "2       0.0         5623.4   33   среднее   женат / замужем      M   \n",
       "3       3.0         4124.7   32   среднее   женат / замужем      M   \n",
       "4       0.0        12410.0   53   среднее  гражданский брак      F   \n",
       "\n",
       "  income_type  debt  total_income                     purpose  \\\n",
       "0   сотрудник     0        253875               покупка жилья   \n",
       "1   сотрудник     0        112080     приобретение автомобиля   \n",
       "2   сотрудник     0        145885               покупка жилья   \n",
       "3   сотрудник     0        267628  дополнительное образование   \n",
       "4   пенсионер     0        158616             сыграть свадьбу   \n",
       "\n",
       "  total_income_category  \n",
       "0                     B  \n",
       "1                     C  \n",
       "2                     C  \n",
       "3                     B  \n",
       "4                     C  "
      ]
     },
     "execution_count": 36,
     "metadata": {},
     "output_type": "execute_result"
    }
   ],
   "source": [
    "data['total_income_category'] = data['total_income'].apply(total_income_category)\n",
    "data.head()"
   ]
  },
  {
   "cell_type": "markdown",
   "id": "d3758a4c",
   "metadata": {},
   "source": [
    "## Категоризация целей кредита"
   ]
  },
  {
   "cell_type": "markdown",
   "id": "a4fb2943",
   "metadata": {},
   "source": [
    "**Создадим функцию, которая на основании данных из столбца `purpose` сформирует новый столбец `purpose_category`, в который войдут следующие категории:**\n",
    "\n",
    "* `операции с автомобилем`;\n",
    "* `операции с недвижимостью`;\n",
    "* `проведение свадьбы`;\n",
    "* `получение образования`."
   ]
  },
  {
   "cell_type": "code",
   "execution_count": 37,
   "id": "8931c0fb",
   "metadata": {
    "scrolled": true
   },
   "outputs": [
    {
     "data": {
      "text/html": [
       "<div>\n",
       "<style scoped>\n",
       "    .dataframe tbody tr th:only-of-type {\n",
       "        vertical-align: middle;\n",
       "    }\n",
       "\n",
       "    .dataframe tbody tr th {\n",
       "        vertical-align: top;\n",
       "    }\n",
       "\n",
       "    .dataframe thead th {\n",
       "        text-align: right;\n",
       "    }\n",
       "</style>\n",
       "<table border=\"1\" class=\"dataframe\">\n",
       "  <thead>\n",
       "    <tr style=\"text-align: right;\">\n",
       "      <th></th>\n",
       "      <th>children</th>\n",
       "      <th>days_employed</th>\n",
       "      <th>age</th>\n",
       "      <th>education</th>\n",
       "      <th>family_status</th>\n",
       "      <th>gender</th>\n",
       "      <th>income_type</th>\n",
       "      <th>debt</th>\n",
       "      <th>total_income</th>\n",
       "      <th>purpose</th>\n",
       "      <th>total_income_category</th>\n",
       "      <th>purpose_category</th>\n",
       "    </tr>\n",
       "  </thead>\n",
       "  <tbody>\n",
       "    <tr>\n",
       "      <th>0</th>\n",
       "      <td>1.0</td>\n",
       "      <td>8437.7</td>\n",
       "      <td>42</td>\n",
       "      <td>высшее</td>\n",
       "      <td>женат / замужем</td>\n",
       "      <td>F</td>\n",
       "      <td>сотрудник</td>\n",
       "      <td>0</td>\n",
       "      <td>253875</td>\n",
       "      <td>покупка жилья</td>\n",
       "      <td>B</td>\n",
       "      <td>операции с недвижимостью</td>\n",
       "    </tr>\n",
       "    <tr>\n",
       "      <th>1</th>\n",
       "      <td>1.0</td>\n",
       "      <td>4024.8</td>\n",
       "      <td>36</td>\n",
       "      <td>среднее</td>\n",
       "      <td>женат / замужем</td>\n",
       "      <td>F</td>\n",
       "      <td>сотрудник</td>\n",
       "      <td>0</td>\n",
       "      <td>112080</td>\n",
       "      <td>приобретение автомобиля</td>\n",
       "      <td>C</td>\n",
       "      <td>операции с автомобилем</td>\n",
       "    </tr>\n",
       "    <tr>\n",
       "      <th>2</th>\n",
       "      <td>0.0</td>\n",
       "      <td>5623.4</td>\n",
       "      <td>33</td>\n",
       "      <td>среднее</td>\n",
       "      <td>женат / замужем</td>\n",
       "      <td>M</td>\n",
       "      <td>сотрудник</td>\n",
       "      <td>0</td>\n",
       "      <td>145885</td>\n",
       "      <td>покупка жилья</td>\n",
       "      <td>C</td>\n",
       "      <td>операции с недвижимостью</td>\n",
       "    </tr>\n",
       "    <tr>\n",
       "      <th>3</th>\n",
       "      <td>3.0</td>\n",
       "      <td>4124.7</td>\n",
       "      <td>32</td>\n",
       "      <td>среднее</td>\n",
       "      <td>женат / замужем</td>\n",
       "      <td>M</td>\n",
       "      <td>сотрудник</td>\n",
       "      <td>0</td>\n",
       "      <td>267628</td>\n",
       "      <td>дополнительное образование</td>\n",
       "      <td>B</td>\n",
       "      <td>получение образования</td>\n",
       "    </tr>\n",
       "    <tr>\n",
       "      <th>4</th>\n",
       "      <td>0.0</td>\n",
       "      <td>12410.0</td>\n",
       "      <td>53</td>\n",
       "      <td>среднее</td>\n",
       "      <td>гражданский брак</td>\n",
       "      <td>F</td>\n",
       "      <td>пенсионер</td>\n",
       "      <td>0</td>\n",
       "      <td>158616</td>\n",
       "      <td>сыграть свадьбу</td>\n",
       "      <td>C</td>\n",
       "      <td>проведение свадьбы</td>\n",
       "    </tr>\n",
       "  </tbody>\n",
       "</table>\n",
       "</div>"
      ],
      "text/plain": [
       "   children  days_employed  age education     family_status gender  \\\n",
       "0       1.0         8437.7   42    высшее   женат / замужем      F   \n",
       "1       1.0         4024.8   36   среднее   женат / замужем      F   \n",
       "2       0.0         5623.4   33   среднее   женат / замужем      M   \n",
       "3       3.0         4124.7   32   среднее   женат / замужем      M   \n",
       "4       0.0        12410.0   53   среднее  гражданский брак      F   \n",
       "\n",
       "  income_type  debt  total_income                     purpose  \\\n",
       "0   сотрудник     0        253875               покупка жилья   \n",
       "1   сотрудник     0        112080     приобретение автомобиля   \n",
       "2   сотрудник     0        145885               покупка жилья   \n",
       "3   сотрудник     0        267628  дополнительное образование   \n",
       "4   пенсионер     0        158616             сыграть свадьбу   \n",
       "\n",
       "  total_income_category          purpose_category  \n",
       "0                     B  операции с недвижимостью  \n",
       "1                     C    операции с автомобилем  \n",
       "2                     C  операции с недвижимостью  \n",
       "3                     B     получение образования  \n",
       "4                     C        проведение свадьбы  "
      ]
     },
     "execution_count": 37,
     "metadata": {},
     "output_type": "execute_result"
    }
   ],
   "source": [
    "def purpose_category(purpose):\n",
    "        if 'свадьб' in purpose:\n",
    "            return 'проведение свадьбы'\n",
    "        elif 'автомобил' in purpose:\n",
    "            return 'операции с автомобилем'\n",
    "        elif 'образован' in purpose:\n",
    "            return 'получение образования'\n",
    "        elif 'жиль' or 'недвижимост' in purpose:\n",
    "            return 'операции с недвижимостью'\n",
    "        \n",
    "data['purpose_category'] = data['purpose'].apply(purpose_category)\n",
    "data.head()        "
   ]
  },
  {
   "cell_type": "markdown",
   "id": "6e70b969",
   "metadata": {},
   "source": [
    "## Ответы на вопросы"
   ]
  },
  {
   "cell_type": "markdown",
   "id": "9a1aca27",
   "metadata": {},
   "source": [
    "**Проверим есть ли зависимость между количеством детей и возвратом кредита в срок.**\n",
    "\n",
    "* Для начала разделим клиентов на три категории, в зависимости от количества детей."
   ]
  },
  {
   "cell_type": "code",
   "execution_count": 38,
   "id": "d95beb0f",
   "metadata": {
    "scrolled": false
   },
   "outputs": [
    {
     "data": {
      "text/html": [
       "<div>\n",
       "<style scoped>\n",
       "    .dataframe tbody tr th:only-of-type {\n",
       "        vertical-align: middle;\n",
       "    }\n",
       "\n",
       "    .dataframe tbody tr th {\n",
       "        vertical-align: top;\n",
       "    }\n",
       "\n",
       "    .dataframe thead th {\n",
       "        text-align: right;\n",
       "    }\n",
       "</style>\n",
       "<table border=\"1\" class=\"dataframe\">\n",
       "  <thead>\n",
       "    <tr style=\"text-align: right;\">\n",
       "      <th></th>\n",
       "      <th>children</th>\n",
       "      <th>days_employed</th>\n",
       "      <th>age</th>\n",
       "      <th>education</th>\n",
       "      <th>family_status</th>\n",
       "      <th>gender</th>\n",
       "      <th>income_type</th>\n",
       "      <th>debt</th>\n",
       "      <th>total_income</th>\n",
       "      <th>purpose</th>\n",
       "      <th>total_income_category</th>\n",
       "      <th>purpose_category</th>\n",
       "      <th>children_category</th>\n",
       "    </tr>\n",
       "  </thead>\n",
       "  <tbody>\n",
       "    <tr>\n",
       "      <th>0</th>\n",
       "      <td>1.0</td>\n",
       "      <td>8437.7</td>\n",
       "      <td>42</td>\n",
       "      <td>высшее</td>\n",
       "      <td>женат / замужем</td>\n",
       "      <td>F</td>\n",
       "      <td>сотрудник</td>\n",
       "      <td>0</td>\n",
       "      <td>253875</td>\n",
       "      <td>покупка жилья</td>\n",
       "      <td>B</td>\n",
       "      <td>операции с недвижимостью</td>\n",
       "      <td>малодетная семья</td>\n",
       "    </tr>\n",
       "    <tr>\n",
       "      <th>1</th>\n",
       "      <td>1.0</td>\n",
       "      <td>4024.8</td>\n",
       "      <td>36</td>\n",
       "      <td>среднее</td>\n",
       "      <td>женат / замужем</td>\n",
       "      <td>F</td>\n",
       "      <td>сотрудник</td>\n",
       "      <td>0</td>\n",
       "      <td>112080</td>\n",
       "      <td>приобретение автомобиля</td>\n",
       "      <td>C</td>\n",
       "      <td>операции с автомобилем</td>\n",
       "      <td>малодетная семья</td>\n",
       "    </tr>\n",
       "    <tr>\n",
       "      <th>2</th>\n",
       "      <td>0.0</td>\n",
       "      <td>5623.4</td>\n",
       "      <td>33</td>\n",
       "      <td>среднее</td>\n",
       "      <td>женат / замужем</td>\n",
       "      <td>M</td>\n",
       "      <td>сотрудник</td>\n",
       "      <td>0</td>\n",
       "      <td>145885</td>\n",
       "      <td>покупка жилья</td>\n",
       "      <td>C</td>\n",
       "      <td>операции с недвижимостью</td>\n",
       "      <td>нет детей</td>\n",
       "    </tr>\n",
       "    <tr>\n",
       "      <th>3</th>\n",
       "      <td>3.0</td>\n",
       "      <td>4124.7</td>\n",
       "      <td>32</td>\n",
       "      <td>среднее</td>\n",
       "      <td>женат / замужем</td>\n",
       "      <td>M</td>\n",
       "      <td>сотрудник</td>\n",
       "      <td>0</td>\n",
       "      <td>267628</td>\n",
       "      <td>дополнительное образование</td>\n",
       "      <td>B</td>\n",
       "      <td>получение образования</td>\n",
       "      <td>малодетная семья</td>\n",
       "    </tr>\n",
       "    <tr>\n",
       "      <th>4</th>\n",
       "      <td>0.0</td>\n",
       "      <td>12410.0</td>\n",
       "      <td>53</td>\n",
       "      <td>среднее</td>\n",
       "      <td>гражданский брак</td>\n",
       "      <td>F</td>\n",
       "      <td>пенсионер</td>\n",
       "      <td>0</td>\n",
       "      <td>158616</td>\n",
       "      <td>сыграть свадьбу</td>\n",
       "      <td>C</td>\n",
       "      <td>проведение свадьбы</td>\n",
       "      <td>нет детей</td>\n",
       "    </tr>\n",
       "  </tbody>\n",
       "</table>\n",
       "</div>"
      ],
      "text/plain": [
       "   children  days_employed  age education     family_status gender  \\\n",
       "0       1.0         8437.7   42    высшее   женат / замужем      F   \n",
       "1       1.0         4024.8   36   среднее   женат / замужем      F   \n",
       "2       0.0         5623.4   33   среднее   женат / замужем      M   \n",
       "3       3.0         4124.7   32   среднее   женат / замужем      M   \n",
       "4       0.0        12410.0   53   среднее  гражданский брак      F   \n",
       "\n",
       "  income_type  debt  total_income                     purpose  \\\n",
       "0   сотрудник     0        253875               покупка жилья   \n",
       "1   сотрудник     0        112080     приобретение автомобиля   \n",
       "2   сотрудник     0        145885               покупка жилья   \n",
       "3   сотрудник     0        267628  дополнительное образование   \n",
       "4   пенсионер     0        158616             сыграть свадьбу   \n",
       "\n",
       "  total_income_category          purpose_category children_category  \n",
       "0                     B  операции с недвижимостью  малодетная семья  \n",
       "1                     C    операции с автомобилем  малодетная семья  \n",
       "2                     C  операции с недвижимостью         нет детей  \n",
       "3                     B     получение образования  малодетная семья  \n",
       "4                     C        проведение свадьбы         нет детей  "
      ]
     },
     "execution_count": 38,
     "metadata": {},
     "output_type": "execute_result"
    }
   ],
   "source": [
    "def children_category(children):\n",
    "    if children == 0:\n",
    "        return 'нет детей'\n",
    "    elif children <= 3:\n",
    "        return 'малодетная семья'\n",
    "    elif children > 3:\n",
    "        return 'многодетная семья'\n",
    "    \n",
    "data['children_category'] = data['children'].apply(children_category)\n",
    "data.head()"
   ]
  },
  {
   "cell_type": "markdown",
   "id": "745a2cc7",
   "metadata": {},
   "source": [
    "* Создадим сводные таблицы, сгруппируем данные по столбцам `children_category` и `debt`."
   ]
  },
  {
   "cell_type": "code",
   "execution_count": 39,
   "id": "5c29d94b",
   "metadata": {
    "scrolled": true
   },
   "outputs": [
    {
     "data": {
      "text/html": [
       "<div>\n",
       "<style scoped>\n",
       "    .dataframe tbody tr th:only-of-type {\n",
       "        vertical-align: middle;\n",
       "    }\n",
       "\n",
       "    .dataframe tbody tr th {\n",
       "        vertical-align: top;\n",
       "    }\n",
       "\n",
       "    .dataframe thead tr th {\n",
       "        text-align: left;\n",
       "    }\n",
       "\n",
       "    .dataframe thead tr:last-of-type th {\n",
       "        text-align: right;\n",
       "    }\n",
       "</style>\n",
       "<table border=\"1\" class=\"dataframe\">\n",
       "  <thead>\n",
       "    <tr>\n",
       "      <th></th>\n",
       "      <th>mean</th>\n",
       "    </tr>\n",
       "    <tr>\n",
       "      <th></th>\n",
       "      <th>debt</th>\n",
       "    </tr>\n",
       "    <tr>\n",
       "      <th>children_category</th>\n",
       "      <th></th>\n",
       "    </tr>\n",
       "  </thead>\n",
       "  <tbody>\n",
       "    <tr>\n",
       "      <th>малодетная семья</th>\n",
       "      <td>0.092027</td>\n",
       "    </tr>\n",
       "    <tr>\n",
       "      <th>многодетная семья</th>\n",
       "      <td>0.080000</td>\n",
       "    </tr>\n",
       "    <tr>\n",
       "      <th>нет детей</th>\n",
       "      <td>0.075598</td>\n",
       "    </tr>\n",
       "  </tbody>\n",
       "</table>\n",
       "</div>"
      ],
      "text/plain": [
       "                       mean\n",
       "                       debt\n",
       "children_category          \n",
       "малодетная семья   0.092027\n",
       "многодетная семья  0.080000\n",
       "нет детей          0.075598"
      ]
     },
     "execution_count": 39,
     "metadata": {},
     "output_type": "execute_result"
    }
   ],
   "source": [
    "data_pivot = data.pivot_table(index=['children_category'], values='debt', aggfunc=['mean'])\n",
    "data_pivot"
   ]
  },
  {
   "cell_type": "markdown",
   "id": "62cd8341",
   "metadata": {},
   "source": [
    "* Клиенты, у которых 1-2 ребенка, больше просроченных задолженностей, чем у клиентов с 3 и более детьми. Клиенты у которых нет детей имеют меньше просроченной задолженности. Данные не однозначные, возможно, нужна выборка больше."
   ]
  },
  {
   "cell_type": "markdown",
   "id": "91a101a3",
   "metadata": {},
   "source": [
    "**Проверим есть ли зависимость между семейным положением и возвратом кредита в срок.**"
   ]
  },
  {
   "cell_type": "code",
   "execution_count": 40,
   "id": "85d15fff",
   "metadata": {
    "scrolled": true
   },
   "outputs": [
    {
     "data": {
      "text/html": [
       "<div>\n",
       "<style scoped>\n",
       "    .dataframe tbody tr th:only-of-type {\n",
       "        vertical-align: middle;\n",
       "    }\n",
       "\n",
       "    .dataframe tbody tr th {\n",
       "        vertical-align: top;\n",
       "    }\n",
       "\n",
       "    .dataframe thead tr th {\n",
       "        text-align: left;\n",
       "    }\n",
       "\n",
       "    .dataframe thead tr:last-of-type th {\n",
       "        text-align: right;\n",
       "    }\n",
       "</style>\n",
       "<table border=\"1\" class=\"dataframe\">\n",
       "  <thead>\n",
       "    <tr>\n",
       "      <th></th>\n",
       "      <th>mean</th>\n",
       "    </tr>\n",
       "    <tr>\n",
       "      <th></th>\n",
       "      <th>debt</th>\n",
       "    </tr>\n",
       "    <tr>\n",
       "      <th>family_status</th>\n",
       "      <th></th>\n",
       "    </tr>\n",
       "  </thead>\n",
       "  <tbody>\n",
       "    <tr>\n",
       "      <th>Не женат / не замужем</th>\n",
       "      <td>0.097509</td>\n",
       "    </tr>\n",
       "    <tr>\n",
       "      <th>в разводе</th>\n",
       "      <td>0.071130</td>\n",
       "    </tr>\n",
       "    <tr>\n",
       "      <th>вдовец / вдова</th>\n",
       "      <td>0.065693</td>\n",
       "    </tr>\n",
       "    <tr>\n",
       "      <th>гражданский брак</th>\n",
       "      <td>0.093471</td>\n",
       "    </tr>\n",
       "    <tr>\n",
       "      <th>женат / замужем</th>\n",
       "      <td>0.075452</td>\n",
       "    </tr>\n",
       "  </tbody>\n",
       "</table>\n",
       "</div>"
      ],
      "text/plain": [
       "                           mean\n",
       "                           debt\n",
       "family_status                  \n",
       "Не женат / не замужем  0.097509\n",
       "в разводе              0.071130\n",
       "вдовец / вдова         0.065693\n",
       "гражданский брак       0.093471\n",
       "женат / замужем        0.075452"
      ]
     },
     "execution_count": 40,
     "metadata": {},
     "output_type": "execute_result"
    }
   ],
   "source": [
    "data_pivot = data.pivot_table(index=['family_status'], values='debt', aggfunc=['mean'])\n",
    "data_pivot"
   ]
  },
  {
   "cell_type": "markdown",
   "id": "8fc12d52",
   "metadata": {},
   "source": [
    "* Как можно заметить, статус официальности отношений действительно положительно сказывается на возврате кредита. Люди, которые не состоят в официальных отношениях и никогда не состояли хуже возвращают кредиты, в отличии от семей, которые имеют официальный статус, пусть даже когда-то в прошлом.    "
   ]
  },
  {
   "cell_type": "markdown",
   "id": "70a0559b",
   "metadata": {},
   "source": [
    "**Проверим есть ли зависимость между уровнем дохода и возвратом кредита в срок.**"
   ]
  },
  {
   "cell_type": "markdown",
   "id": "ca5e1e94",
   "metadata": {},
   "source": [
    "Разделим уровень доходов клиентов на диапазоны с учетом квартилей распределения. Квартили распределения делятся на 25%. Иными словами, все что до 1 квартиля (25%) — низкий доход, между 1 и медианой(2 квартиль) тоже будет 25% — средний доход, от медианы до 3 квартиля (25%) — выше среднего, а все что дальше 3 квартиля — высокий доход. Воспользуемся функцией pd.qcut, которая определяет интервалы с использованием процентилей на основе распределения данных, а не фактических числовых границ интервалов."
   ]
  },
  {
   "cell_type": "code",
   "execution_count": 41,
   "id": "1fd24a55",
   "metadata": {},
   "outputs": [],
   "source": [
    "data['quantile_total_income'] = pd.qcut(data['total_income'], q=4, labels=['низкий доход', \n",
    "                                                                                      'средний доход',\n",
    "                                                                                      'доход выше среднего', \n",
    "                                                                                      'высокий доход'])"
   ]
  },
  {
   "cell_type": "code",
   "execution_count": 42,
   "id": "cc6058a9",
   "metadata": {
    "scrolled": false
   },
   "outputs": [
    {
     "data": {
      "text/html": [
       "<div>\n",
       "<style scoped>\n",
       "    .dataframe tbody tr th:only-of-type {\n",
       "        vertical-align: middle;\n",
       "    }\n",
       "\n",
       "    .dataframe tbody tr th {\n",
       "        vertical-align: top;\n",
       "    }\n",
       "\n",
       "    .dataframe thead tr th {\n",
       "        text-align: left;\n",
       "    }\n",
       "\n",
       "    .dataframe thead tr:last-of-type th {\n",
       "        text-align: right;\n",
       "    }\n",
       "</style>\n",
       "<table border=\"1\" class=\"dataframe\">\n",
       "  <thead>\n",
       "    <tr>\n",
       "      <th></th>\n",
       "      <th>mean</th>\n",
       "    </tr>\n",
       "    <tr>\n",
       "      <th></th>\n",
       "      <th>debt</th>\n",
       "    </tr>\n",
       "    <tr>\n",
       "      <th>quantile_total_income</th>\n",
       "      <th></th>\n",
       "    </tr>\n",
       "  </thead>\n",
       "  <tbody>\n",
       "    <tr>\n",
       "      <th>низкий доход</th>\n",
       "      <td>0.079605</td>\n",
       "    </tr>\n",
       "    <tr>\n",
       "      <th>средний доход</th>\n",
       "      <td>0.088155</td>\n",
       "    </tr>\n",
       "    <tr>\n",
       "      <th>доход выше среднего</th>\n",
       "      <td>0.085382</td>\n",
       "    </tr>\n",
       "    <tr>\n",
       "      <th>высокий доход</th>\n",
       "      <td>0.071402</td>\n",
       "    </tr>\n",
       "  </tbody>\n",
       "</table>\n",
       "</div>"
      ],
      "text/plain": [
       "                           mean\n",
       "                           debt\n",
       "quantile_total_income          \n",
       "низкий доход           0.079605\n",
       "средний доход          0.088155\n",
       "доход выше среднего    0.085382\n",
       "высокий доход          0.071402"
      ]
     },
     "execution_count": 42,
     "metadata": {},
     "output_type": "execute_result"
    }
   ],
   "source": [
    "data.pivot_table(index=['quantile_total_income'], values='debt', aggfunc=['mean'])"
   ]
  },
  {
   "cell_type": "markdown",
   "id": "3ce976b4",
   "metadata": {},
   "source": [
    "* Как видно, имеется некоторая зависимость, клиенты со средним доходом чаще имеют просроченную задолженность.\n",
    "\n",
    "Клиенты с низким доходом вероятнее всего просто не берут кредит на то, чего не смогут вернуть, проходят куда более строгий контроль. А клиенты с высоким достатком просто обладают достаточными средствами на погашение. Клиенты со средними доходами вероятно слишком оптимистично подходят к своим финансовыми возможностям."
   ]
  },
  {
   "cell_type": "markdown",
   "id": "5719633c",
   "metadata": {},
   "source": [
    "**Проверим как разные цели кредита влияют на его возврат в срок.**"
   ]
  },
  {
   "cell_type": "code",
   "execution_count": 43,
   "id": "af780eb6",
   "metadata": {
    "scrolled": true
   },
   "outputs": [
    {
     "data": {
      "text/html": [
       "<div>\n",
       "<style scoped>\n",
       "    .dataframe tbody tr th:only-of-type {\n",
       "        vertical-align: middle;\n",
       "    }\n",
       "\n",
       "    .dataframe tbody tr th {\n",
       "        vertical-align: top;\n",
       "    }\n",
       "\n",
       "    .dataframe thead tr th {\n",
       "        text-align: left;\n",
       "    }\n",
       "\n",
       "    .dataframe thead tr:last-of-type th {\n",
       "        text-align: right;\n",
       "    }\n",
       "</style>\n",
       "<table border=\"1\" class=\"dataframe\">\n",
       "  <thead>\n",
       "    <tr>\n",
       "      <th></th>\n",
       "      <th>mean</th>\n",
       "    </tr>\n",
       "    <tr>\n",
       "      <th></th>\n",
       "      <th>debt</th>\n",
       "    </tr>\n",
       "    <tr>\n",
       "      <th>purpose_category</th>\n",
       "      <th></th>\n",
       "    </tr>\n",
       "  </thead>\n",
       "  <tbody>\n",
       "    <tr>\n",
       "      <th>операции с автомобилем</th>\n",
       "      <td>0.093590</td>\n",
       "    </tr>\n",
       "    <tr>\n",
       "      <th>операции с недвижимостью</th>\n",
       "      <td>0.072334</td>\n",
       "    </tr>\n",
       "    <tr>\n",
       "      <th>получение образования</th>\n",
       "      <td>0.092200</td>\n",
       "    </tr>\n",
       "    <tr>\n",
       "      <th>проведение свадьбы</th>\n",
       "      <td>0.080034</td>\n",
       "    </tr>\n",
       "  </tbody>\n",
       "</table>\n",
       "</div>"
      ],
      "text/plain": [
       "                              mean\n",
       "                              debt\n",
       "purpose_category                  \n",
       "операции с автомобилем    0.093590\n",
       "операции с недвижимостью  0.072334\n",
       "получение образования     0.092200\n",
       "проведение свадьбы        0.080034"
      ]
     },
     "execution_count": 43,
     "metadata": {},
     "output_type": "execute_result"
    }
   ],
   "source": [
    "data_pivot = data.pivot_table(index=['purpose_category'], values='debt', aggfunc=['mean'])\n",
    "data_pivot"
   ]
  },
  {
   "cell_type": "markdown",
   "id": "b65ddd4f",
   "metadata": {},
   "source": [
    "Среди 4 категорий, чаще всего платят в срок за кредит на недвижимость, а просрочка чаще возникает на кредит на автомобиль и образование. Кредиты на свадьбу имеют меньше просроченных платежей.\n",
    "\n",
    "\n",
    "* Недвижимость как правило находится в залоге у банка, к тому же люди осознанно подходят к взятию кредита на данную цель.\n",
    "\n",
    "\n",
    "* Образование вероятно не сразу окупается, так как студент должен набраться опыта. \n",
    "\n",
    "\n",
    "* Автомобиль влечет за собой множество дополнительных расходов, о которых люди часто забывают, когда берут на него кредит.\n",
    "\n",
    "\n",
    "* Кредит на свадьбу вероятно погашается с подарков :)"
   ]
  },
  {
   "cell_type": "markdown",
   "id": "c22f5063",
   "metadata": {},
   "source": [
    "## Общий вывод"
   ]
  },
  {
   "cell_type": "markdown",
   "id": "2987f5f9",
   "metadata": {},
   "source": [
    "* Итак, семейный статус влияет на вероятность платежей по кредиту в срок.\n",
    "\n",
    "\n",
    "* Люди, состоящие в браке чаще плятят в срок чем те, кто не был в браке, причем разведенные и овдовевшие платят в срок чаще, чем люди в браке. \n",
    "\n",
    "\n",
    "* Чем больше детей, тем больше просрочек по кредиту, люди не имеющие детей реже допускают просроченныую задолженность.\n",
    "\n",
    "\n",
    "* Цель кредита так же влияет на просроченные платежи, за кредит на недвижимость просреченные платежи возникают реже, просрочка чаще возникает на кредит на автомобиль и образование. Кредиты на свадьбу имеют меньше просроченных платежей."
   ]
  }
 ],
 "metadata": {
  "ExecuteTimeLog": [
   {
    "duration": 292,
    "start_time": "2022-02-07T15:44:15.351Z"
   },
   {
    "duration": 247,
    "start_time": "2022-02-07T15:44:18.152Z"
   },
   {
    "duration": 578,
    "start_time": "2022-02-07T15:44:26.857Z"
   },
   {
    "duration": 50,
    "start_time": "2022-02-07T15:44:29.489Z"
   },
   {
    "duration": 11,
    "start_time": "2022-02-07T15:44:40.179Z"
   },
   {
    "duration": 545,
    "start_time": "2022-02-07T19:46:08.014Z"
   },
   {
    "duration": 53,
    "start_time": "2022-02-07T19:46:08.561Z"
   },
   {
    "duration": 12,
    "start_time": "2022-02-07T19:46:08.616Z"
   },
   {
    "duration": 686,
    "start_time": "2022-02-07T19:49:13.743Z"
   },
   {
    "duration": 9,
    "start_time": "2022-02-07T19:49:14.431Z"
   },
   {
    "duration": 53,
    "start_time": "2022-02-07T19:49:19.236Z"
   },
   {
    "duration": 12,
    "start_time": "2022-02-07T19:49:23.537Z"
   },
   {
    "duration": 67,
    "start_time": "2022-02-07T19:52:13.629Z"
   },
   {
    "duration": 61,
    "start_time": "2022-02-07T19:52:33.063Z"
   },
   {
    "duration": 64,
    "start_time": "2022-02-07T19:58:10.550Z"
   },
   {
    "duration": 57,
    "start_time": "2022-02-07T19:58:32.110Z"
   },
   {
    "duration": 62,
    "start_time": "2022-02-07T19:58:48.441Z"
   },
   {
    "duration": 233,
    "start_time": "2022-02-07T20:01:04.365Z"
   },
   {
    "duration": 53,
    "start_time": "2022-02-07T20:01:20.148Z"
   },
   {
    "duration": 63,
    "start_time": "2022-02-07T20:01:30.268Z"
   },
   {
    "duration": 75,
    "start_time": "2022-02-07T20:03:37.811Z"
   },
   {
    "duration": 60,
    "start_time": "2022-02-07T20:03:48.409Z"
   },
   {
    "duration": 60,
    "start_time": "2022-02-07T20:04:11.218Z"
   },
   {
    "duration": 11,
    "start_time": "2022-02-07T20:07:24.461Z"
   },
   {
    "duration": 2579,
    "start_time": "2022-02-07T20:12:35.655Z"
   },
   {
    "duration": 3098,
    "start_time": "2022-02-07T20:12:38.586Z"
   },
   {
    "duration": 8,
    "start_time": "2022-02-07T20:12:49.235Z"
   },
   {
    "duration": 19,
    "start_time": "2022-02-07T20:13:27.040Z"
   },
   {
    "duration": 9,
    "start_time": "2022-02-07T20:13:35.920Z"
   },
   {
    "duration": 35,
    "start_time": "2022-02-07T20:16:55.721Z"
   },
   {
    "duration": 11,
    "start_time": "2022-02-07T20:17:49.623Z"
   },
   {
    "duration": 4028,
    "start_time": "2022-02-07T20:19:06.293Z"
   },
   {
    "duration": 982,
    "start_time": "2022-02-07T20:19:19.350Z"
   },
   {
    "duration": 996,
    "start_time": "2022-02-07T20:20:12.349Z"
   },
   {
    "duration": 609,
    "start_time": "2022-02-07T20:20:18.619Z"
   },
   {
    "duration": 25,
    "start_time": "2022-02-07T20:20:19.230Z"
   },
   {
    "duration": 27,
    "start_time": "2022-02-07T20:24:32.079Z"
   },
   {
    "duration": 30,
    "start_time": "2022-02-07T20:24:59.205Z"
   },
   {
    "duration": 17,
    "start_time": "2022-02-07T20:26:22.270Z"
   },
   {
    "duration": 10,
    "start_time": "2022-02-07T20:26:46.705Z"
   },
   {
    "duration": 11,
    "start_time": "2022-02-07T20:26:48.875Z"
   },
   {
    "duration": 10,
    "start_time": "2022-02-07T20:26:54.259Z"
   },
   {
    "duration": 27,
    "start_time": "2022-02-07T20:27:11.152Z"
   },
   {
    "duration": 152,
    "start_time": "2022-02-08T06:26:44.033Z"
   },
   {
    "duration": 351,
    "start_time": "2022-02-08T06:35:30.667Z"
   },
   {
    "duration": 1510,
    "start_time": "2022-02-08T06:35:37.526Z"
   },
   {
    "duration": 974,
    "start_time": "2022-02-08T06:35:39.727Z"
   },
   {
    "duration": 664,
    "start_time": "2022-02-08T06:35:55.661Z"
   },
   {
    "duration": 22,
    "start_time": "2022-02-08T06:35:56.326Z"
   },
   {
    "duration": 10,
    "start_time": "2022-02-08T06:36:25.029Z"
   },
   {
    "duration": 22,
    "start_time": "2022-02-08T06:37:21.996Z"
   },
   {
    "duration": 18,
    "start_time": "2022-02-08T09:12:41.526Z"
   },
   {
    "duration": 477,
    "start_time": "2022-02-08T09:15:45.776Z"
   },
   {
    "duration": 6,
    "start_time": "2022-02-08T09:18:10.723Z"
   },
   {
    "duration": 5,
    "start_time": "2022-02-08T09:18:37.606Z"
   },
   {
    "duration": 5,
    "start_time": "2022-02-08T09:35:47.117Z"
   },
   {
    "duration": 5,
    "start_time": "2022-02-08T10:19:17.546Z"
   },
   {
    "duration": 4,
    "start_time": "2022-02-08T10:23:09.046Z"
   },
   {
    "duration": 21,
    "start_time": "2022-02-08T10:24:40.792Z"
   },
   {
    "duration": 17,
    "start_time": "2022-02-08T10:26:14.014Z"
   },
   {
    "duration": 11,
    "start_time": "2022-02-08T10:30:48.780Z"
   },
   {
    "duration": 59,
    "start_time": "2022-02-08T10:35:00.869Z"
   },
   {
    "duration": 29,
    "start_time": "2022-02-08T10:36:49.505Z"
   },
   {
    "duration": 11,
    "start_time": "2022-02-08T10:37:18.534Z"
   },
   {
    "duration": 4,
    "start_time": "2022-02-08T11:17:09.058Z"
   },
   {
    "duration": 21,
    "start_time": "2022-02-08T11:27:02.930Z"
   },
   {
    "duration": 9,
    "start_time": "2022-02-08T11:29:16.718Z"
   },
   {
    "duration": 5,
    "start_time": "2022-02-08T11:33:23.626Z"
   },
   {
    "duration": 6,
    "start_time": "2022-02-08T11:33:24.289Z"
   },
   {
    "duration": 307,
    "start_time": "2022-02-08T11:34:40.948Z"
   },
   {
    "duration": 6,
    "start_time": "2022-02-08T11:35:09.464Z"
   },
   {
    "duration": 6,
    "start_time": "2022-02-08T11:37:06.379Z"
   },
   {
    "duration": 6,
    "start_time": "2022-02-08T11:37:06.762Z"
   },
   {
    "duration": 8696,
    "start_time": "2022-02-08T12:47:57.880Z"
   },
   {
    "duration": -30,
    "start_time": "2022-02-08T12:48:18.342Z"
   },
   {
    "duration": 657,
    "start_time": "2022-02-08T12:48:25.548Z"
   },
   {
    "duration": 9,
    "start_time": "2022-02-08T12:48:26.207Z"
   },
   {
    "duration": 3,
    "start_time": "2022-02-08T12:48:26.218Z"
   },
   {
    "duration": 7,
    "start_time": "2022-02-08T12:48:26.223Z"
   },
   {
    "duration": 8,
    "start_time": "2022-02-08T12:48:26.231Z"
   },
   {
    "duration": 32,
    "start_time": "2022-02-08T12:48:26.240Z"
   },
   {
    "duration": 5,
    "start_time": "2022-02-08T12:48:26.273Z"
   },
   {
    "duration": 8523,
    "start_time": "2022-02-08T12:48:26.280Z"
   },
   {
    "duration": -53,
    "start_time": "2022-02-08T13:09:48.951Z"
   },
   {
    "duration": 21,
    "start_time": "2022-02-08T13:16:18.324Z"
   },
   {
    "duration": 17,
    "start_time": "2022-02-08T13:16:34.181Z"
   },
   {
    "duration": 18,
    "start_time": "2022-02-08T13:20:14.970Z"
   },
   {
    "duration": 5,
    "start_time": "2022-02-08T13:21:57.679Z"
   },
   {
    "duration": 6,
    "start_time": "2022-02-08T13:22:03.331Z"
   },
   {
    "duration": 5,
    "start_time": "2022-02-08T13:22:31.472Z"
   },
   {
    "duration": 17,
    "start_time": "2022-02-08T13:23:12.311Z"
   },
   {
    "duration": 5,
    "start_time": "2022-02-08T13:23:26.944Z"
   },
   {
    "duration": 5,
    "start_time": "2022-02-08T13:23:28.119Z"
   },
   {
    "duration": 18,
    "start_time": "2022-02-08T13:23:31.909Z"
   },
   {
    "duration": 654,
    "start_time": "2022-02-08T13:23:51.048Z"
   },
   {
    "duration": 10,
    "start_time": "2022-02-08T13:23:51.703Z"
   },
   {
    "duration": 3,
    "start_time": "2022-02-08T13:23:51.715Z"
   },
   {
    "duration": 8,
    "start_time": "2022-02-08T13:23:51.720Z"
   },
   {
    "duration": 7,
    "start_time": "2022-02-08T13:23:51.730Z"
   },
   {
    "duration": 4,
    "start_time": "2022-02-08T13:23:51.739Z"
   },
   {
    "duration": 30,
    "start_time": "2022-02-08T13:23:51.744Z"
   },
   {
    "duration": 16,
    "start_time": "2022-02-08T13:23:51.776Z"
   },
   {
    "duration": 5,
    "start_time": "2022-02-08T13:24:24.988Z"
   },
   {
    "duration": 4,
    "start_time": "2022-02-08T13:24:27.946Z"
   },
   {
    "duration": 5,
    "start_time": "2022-02-08T13:24:42.772Z"
   },
   {
    "duration": 6,
    "start_time": "2022-02-08T13:24:46.432Z"
   },
   {
    "duration": 4,
    "start_time": "2022-02-08T13:24:48.406Z"
   },
   {
    "duration": 5,
    "start_time": "2022-02-08T13:24:51.476Z"
   },
   {
    "duration": 6,
    "start_time": "2022-02-08T13:24:54.660Z"
   },
   {
    "duration": 108,
    "start_time": "2022-02-08T13:25:44.669Z"
   },
   {
    "duration": 7,
    "start_time": "2022-02-08T13:26:00.412Z"
   },
   {
    "duration": 6,
    "start_time": "2022-02-08T13:26:28.208Z"
   },
   {
    "duration": 6,
    "start_time": "2022-02-08T13:26:29.378Z"
   },
   {
    "duration": 16,
    "start_time": "2022-02-08T13:26:32.320Z"
   },
   {
    "duration": 10,
    "start_time": "2022-02-08T13:27:17.578Z"
   },
   {
    "duration": 21,
    "start_time": "2022-02-08T13:27:38.758Z"
   },
   {
    "duration": 632,
    "start_time": "2022-02-08T13:28:13.104Z"
   },
   {
    "duration": 11,
    "start_time": "2022-02-08T13:28:13.738Z"
   },
   {
    "duration": 3,
    "start_time": "2022-02-08T13:28:13.752Z"
   },
   {
    "duration": 17,
    "start_time": "2022-02-08T13:28:13.757Z"
   },
   {
    "duration": 9,
    "start_time": "2022-02-08T13:28:13.776Z"
   },
   {
    "duration": 5,
    "start_time": "2022-02-08T13:28:13.787Z"
   },
   {
    "duration": 4,
    "start_time": "2022-02-08T13:28:13.793Z"
   },
   {
    "duration": 22,
    "start_time": "2022-02-08T13:28:13.799Z"
   },
   {
    "duration": 5,
    "start_time": "2022-02-08T13:28:22.908Z"
   },
   {
    "duration": 5,
    "start_time": "2022-02-08T13:28:26.469Z"
   },
   {
    "duration": 22,
    "start_time": "2022-02-08T13:28:29.827Z"
   },
   {
    "duration": 9,
    "start_time": "2022-02-08T13:29:43.307Z"
   },
   {
    "duration": 343,
    "start_time": "2022-02-08T16:23:00.467Z"
   },
   {
    "duration": 777,
    "start_time": "2022-02-08T16:23:10.080Z"
   },
   {
    "duration": 15,
    "start_time": "2022-02-08T16:23:10.861Z"
   },
   {
    "duration": 6,
    "start_time": "2022-02-08T16:23:10.879Z"
   },
   {
    "duration": 40,
    "start_time": "2022-02-08T16:23:10.889Z"
   },
   {
    "duration": 15,
    "start_time": "2022-02-08T16:23:10.932Z"
   },
   {
    "duration": 7972,
    "start_time": "2022-02-08T16:23:10.950Z"
   },
   {
    "duration": 626,
    "start_time": "2022-02-08T16:23:18.300Z"
   },
   {
    "duration": 627,
    "start_time": "2022-02-08T16:23:18.302Z"
   },
   {
    "duration": 627,
    "start_time": "2022-02-08T16:23:18.304Z"
   },
   {
    "duration": 627,
    "start_time": "2022-02-08T16:23:18.306Z"
   },
   {
    "duration": 291,
    "start_time": "2022-02-08T16:23:45.048Z"
   },
   {
    "duration": 15,
    "start_time": "2022-02-08T16:28:35.165Z"
   },
   {
    "duration": 10,
    "start_time": "2022-02-08T16:28:53.570Z"
   },
   {
    "duration": 10,
    "start_time": "2022-02-08T16:29:51.755Z"
   },
   {
    "duration": 12,
    "start_time": "2022-02-08T16:30:43.729Z"
   },
   {
    "duration": 35,
    "start_time": "2022-02-08T16:30:52.604Z"
   },
   {
    "duration": 12,
    "start_time": "2022-02-08T16:30:58.772Z"
   },
   {
    "duration": 6,
    "start_time": "2022-02-08T16:49:16.850Z"
   },
   {
    "duration": 32,
    "start_time": "2022-02-08T16:49:21.929Z"
   },
   {
    "duration": 33,
    "start_time": "2022-02-08T16:50:22.315Z"
   },
   {
    "duration": 641,
    "start_time": "2022-02-08T19:10:51.535Z"
   },
   {
    "duration": 9,
    "start_time": "2022-02-08T19:10:52.178Z"
   },
   {
    "duration": 6,
    "start_time": "2022-02-08T19:10:52.191Z"
   },
   {
    "duration": 18,
    "start_time": "2022-02-08T19:10:52.198Z"
   },
   {
    "duration": 12,
    "start_time": "2022-02-08T19:10:52.218Z"
   },
   {
    "duration": 13,
    "start_time": "2022-02-08T19:10:52.232Z"
   },
   {
    "duration": 13,
    "start_time": "2022-02-08T19:10:52.246Z"
   },
   {
    "duration": 18,
    "start_time": "2022-02-08T19:10:52.261Z"
   },
   {
    "duration": 6,
    "start_time": "2022-02-08T19:10:52.281Z"
   },
   {
    "duration": 33,
    "start_time": "2022-02-08T19:10:52.288Z"
   },
   {
    "duration": 9,
    "start_time": "2022-02-08T19:10:52.322Z"
   },
   {
    "duration": 24,
    "start_time": "2022-02-08T19:10:52.332Z"
   },
   {
    "duration": 373,
    "start_time": "2022-02-08T19:21:26.239Z"
   },
   {
    "duration": 303,
    "start_time": "2022-02-08T19:21:58.260Z"
   },
   {
    "duration": 322,
    "start_time": "2022-02-08T19:23:01.095Z"
   },
   {
    "duration": 12,
    "start_time": "2022-02-08T19:23:58.261Z"
   },
   {
    "duration": 14,
    "start_time": "2022-02-08T19:28:12.613Z"
   },
   {
    "duration": 13,
    "start_time": "2022-02-08T19:30:18.457Z"
   },
   {
    "duration": 7,
    "start_time": "2022-02-08T19:31:21.952Z"
   },
   {
    "duration": 5,
    "start_time": "2022-02-08T19:33:16.881Z"
   },
   {
    "duration": 19,
    "start_time": "2022-02-08T19:33:23.265Z"
   },
   {
    "duration": 19,
    "start_time": "2022-02-08T19:34:51.243Z"
   },
   {
    "duration": 330,
    "start_time": "2022-02-08T19:37:26.867Z"
   },
   {
    "duration": 299,
    "start_time": "2022-02-08T19:37:33.248Z"
   },
   {
    "duration": 5,
    "start_time": "2022-02-08T19:38:33.882Z"
   },
   {
    "duration": 3,
    "start_time": "2022-02-08T19:39:26.377Z"
   },
   {
    "duration": 13,
    "start_time": "2022-02-08T19:39:32.377Z"
   },
   {
    "duration": 363,
    "start_time": "2022-02-08T19:43:37.684Z"
   },
   {
    "duration": 8,
    "start_time": "2022-02-08T19:43:47.196Z"
   },
   {
    "duration": 8,
    "start_time": "2022-02-08T19:45:21.768Z"
   },
   {
    "duration": 713,
    "start_time": "2022-02-09T12:27:35.924Z"
   },
   {
    "duration": 10,
    "start_time": "2022-02-09T12:27:36.639Z"
   },
   {
    "duration": 10,
    "start_time": "2022-02-09T12:27:36.651Z"
   },
   {
    "duration": 11,
    "start_time": "2022-02-09T12:27:36.663Z"
   },
   {
    "duration": 10,
    "start_time": "2022-02-09T12:27:36.676Z"
   },
   {
    "duration": 45,
    "start_time": "2022-02-09T12:27:36.687Z"
   },
   {
    "duration": 12,
    "start_time": "2022-02-09T12:27:36.734Z"
   },
   {
    "duration": 9,
    "start_time": "2022-02-09T12:27:36.747Z"
   },
   {
    "duration": 6,
    "start_time": "2022-02-09T12:27:36.759Z"
   },
   {
    "duration": 22,
    "start_time": "2022-02-09T12:27:36.767Z"
   },
   {
    "duration": 34,
    "start_time": "2022-02-09T12:27:36.790Z"
   },
   {
    "duration": 20,
    "start_time": "2022-02-09T12:27:36.826Z"
   },
   {
    "duration": 18,
    "start_time": "2022-02-09T12:27:36.848Z"
   },
   {
    "duration": 59,
    "start_time": "2022-02-09T12:27:36.868Z"
   },
   {
    "duration": 11,
    "start_time": "2022-02-09T12:27:36.929Z"
   },
   {
    "duration": 30,
    "start_time": "2022-02-09T12:27:36.941Z"
   },
   {
    "duration": 20,
    "start_time": "2022-02-09T12:27:36.973Z"
   },
   {
    "duration": 28,
    "start_time": "2022-02-09T12:27:36.995Z"
   },
   {
    "duration": 23,
    "start_time": "2022-02-09T12:27:37.025Z"
   },
   {
    "duration": 10,
    "start_time": "2022-02-09T12:27:37.050Z"
   },
   {
    "duration": 12,
    "start_time": "2022-02-09T12:27:37.062Z"
   },
   {
    "duration": 98,
    "start_time": "2022-02-09T12:29:58.774Z"
   },
   {
    "duration": 12,
    "start_time": "2022-02-09T12:30:08.860Z"
   },
   {
    "duration": 8,
    "start_time": "2022-02-09T12:30:10.016Z"
   },
   {
    "duration": 88,
    "start_time": "2022-02-09T12:30:13.030Z"
   },
   {
    "duration": 5,
    "start_time": "2022-02-09T12:30:16.969Z"
   },
   {
    "duration": 8,
    "start_time": "2022-02-09T12:30:42.108Z"
   },
   {
    "duration": 7,
    "start_time": "2022-02-09T12:30:57.886Z"
   },
   {
    "duration": 687,
    "start_time": "2022-02-09T12:54:25.514Z"
   },
   {
    "duration": 15,
    "start_time": "2022-02-09T12:54:26.203Z"
   },
   {
    "duration": 13,
    "start_time": "2022-02-09T12:54:26.220Z"
   },
   {
    "duration": 12,
    "start_time": "2022-02-09T12:54:26.235Z"
   },
   {
    "duration": 14,
    "start_time": "2022-02-09T12:54:26.249Z"
   },
   {
    "duration": 16,
    "start_time": "2022-02-09T12:54:26.264Z"
   },
   {
    "duration": 7,
    "start_time": "2022-02-09T12:54:26.282Z"
   },
   {
    "duration": 7,
    "start_time": "2022-02-09T12:54:26.292Z"
   },
   {
    "duration": 5,
    "start_time": "2022-02-09T12:54:26.319Z"
   },
   {
    "duration": 28,
    "start_time": "2022-02-09T12:54:26.326Z"
   },
   {
    "duration": 11,
    "start_time": "2022-02-09T12:54:26.356Z"
   },
   {
    "duration": 54,
    "start_time": "2022-02-09T12:54:26.369Z"
   },
   {
    "duration": 14,
    "start_time": "2022-02-09T12:54:26.425Z"
   },
   {
    "duration": 16,
    "start_time": "2022-02-09T12:54:26.441Z"
   },
   {
    "duration": 7,
    "start_time": "2022-02-09T12:54:26.459Z"
   },
   {
    "duration": 57,
    "start_time": "2022-02-09T12:54:26.467Z"
   },
   {
    "duration": 20,
    "start_time": "2022-02-09T12:54:26.525Z"
   },
   {
    "duration": 6,
    "start_time": "2022-02-09T12:54:26.546Z"
   },
   {
    "duration": 22,
    "start_time": "2022-02-09T12:54:26.554Z"
   },
   {
    "duration": 18,
    "start_time": "2022-02-09T12:54:26.578Z"
   },
   {
    "duration": 27,
    "start_time": "2022-02-09T12:54:26.598Z"
   },
   {
    "duration": 6,
    "start_time": "2022-02-09T12:54:26.627Z"
   },
   {
    "duration": 10,
    "start_time": "2022-02-09T12:54:26.636Z"
   },
   {
    "duration": 1125,
    "start_time": "2022-02-09T18:54:52.453Z"
   },
   {
    "duration": 22,
    "start_time": "2022-02-09T18:54:53.581Z"
   },
   {
    "duration": 28,
    "start_time": "2022-02-09T18:54:53.607Z"
   },
   {
    "duration": 20,
    "start_time": "2022-02-09T18:54:53.639Z"
   },
   {
    "duration": 18,
    "start_time": "2022-02-09T18:54:53.663Z"
   },
   {
    "duration": 12,
    "start_time": "2022-02-09T18:54:53.684Z"
   },
   {
    "duration": 43,
    "start_time": "2022-02-09T18:54:53.698Z"
   },
   {
    "duration": 7,
    "start_time": "2022-02-09T18:54:53.745Z"
   },
   {
    "duration": 7,
    "start_time": "2022-02-09T18:54:53.754Z"
   },
   {
    "duration": 91,
    "start_time": "2022-02-09T18:54:53.764Z"
   },
   {
    "duration": 12,
    "start_time": "2022-02-09T18:54:53.857Z"
   },
   {
    "duration": 63,
    "start_time": "2022-02-09T18:54:53.871Z"
   },
   {
    "duration": 18,
    "start_time": "2022-02-09T18:54:53.936Z"
   },
   {
    "duration": 20,
    "start_time": "2022-02-09T18:54:53.957Z"
   },
   {
    "duration": 10,
    "start_time": "2022-02-09T18:54:53.979Z"
   },
   {
    "duration": 71,
    "start_time": "2022-02-09T18:54:53.991Z"
   },
   {
    "duration": 30,
    "start_time": "2022-02-09T18:54:54.065Z"
   },
   {
    "duration": 35,
    "start_time": "2022-02-09T18:54:54.098Z"
   },
   {
    "duration": 24,
    "start_time": "2022-02-09T18:54:54.136Z"
   },
   {
    "duration": 19,
    "start_time": "2022-02-09T18:54:54.162Z"
   },
   {
    "duration": 50,
    "start_time": "2022-02-09T18:54:54.183Z"
   },
   {
    "duration": 10,
    "start_time": "2022-02-09T18:54:54.236Z"
   },
   {
    "duration": 14,
    "start_time": "2022-02-09T18:54:54.252Z"
   },
   {
    "duration": 13,
    "start_time": "2022-02-09T19:14:14.806Z"
   },
   {
    "duration": 14,
    "start_time": "2022-02-09T19:14:15.678Z"
   },
   {
    "duration": 15,
    "start_time": "2022-02-09T19:14:19.307Z"
   },
   {
    "duration": 13,
    "start_time": "2022-02-09T19:34:21.720Z"
   },
   {
    "duration": 13,
    "start_time": "2022-02-09T19:35:07.143Z"
   },
   {
    "duration": 12,
    "start_time": "2022-02-09T19:35:19.244Z"
   },
   {
    "duration": 3,
    "start_time": "2022-02-09T19:35:28.919Z"
   },
   {
    "duration": 13,
    "start_time": "2022-02-09T19:35:37.698Z"
   },
   {
    "duration": 7,
    "start_time": "2022-02-09T19:39:44.285Z"
   },
   {
    "duration": 5,
    "start_time": "2022-02-09T19:40:45.983Z"
   },
   {
    "duration": 6,
    "start_time": "2022-02-09T19:41:16.511Z"
   },
   {
    "duration": 692,
    "start_time": "2022-02-10T08:28:24.762Z"
   },
   {
    "duration": 11,
    "start_time": "2022-02-10T08:28:25.456Z"
   },
   {
    "duration": 4,
    "start_time": "2022-02-10T08:28:25.470Z"
   },
   {
    "duration": 30,
    "start_time": "2022-02-10T08:28:25.476Z"
   },
   {
    "duration": 10,
    "start_time": "2022-02-10T08:28:25.508Z"
   },
   {
    "duration": 7,
    "start_time": "2022-02-10T08:28:25.519Z"
   },
   {
    "duration": 8,
    "start_time": "2022-02-10T08:28:25.528Z"
   },
   {
    "duration": 6,
    "start_time": "2022-02-10T08:28:25.540Z"
   },
   {
    "duration": 51,
    "start_time": "2022-02-10T08:28:25.549Z"
   },
   {
    "duration": 26,
    "start_time": "2022-02-10T08:28:25.602Z"
   },
   {
    "duration": 11,
    "start_time": "2022-02-10T08:28:25.629Z"
   },
   {
    "duration": 25,
    "start_time": "2022-02-10T08:28:25.641Z"
   },
   {
    "duration": 42,
    "start_time": "2022-02-10T08:28:25.668Z"
   },
   {
    "duration": 17,
    "start_time": "2022-02-10T08:28:25.711Z"
   },
   {
    "duration": 8,
    "start_time": "2022-02-10T08:28:25.729Z"
   },
   {
    "duration": 28,
    "start_time": "2022-02-10T08:28:25.738Z"
   },
   {
    "duration": 46,
    "start_time": "2022-02-10T08:28:25.768Z"
   },
   {
    "duration": 8,
    "start_time": "2022-02-10T08:28:25.816Z"
   },
   {
    "duration": 19,
    "start_time": "2022-02-10T08:28:25.825Z"
   },
   {
    "duration": 12,
    "start_time": "2022-02-10T08:28:25.847Z"
   },
   {
    "duration": 42,
    "start_time": "2022-02-10T08:28:25.861Z"
   },
   {
    "duration": 4,
    "start_time": "2022-02-10T08:28:25.905Z"
   },
   {
    "duration": 4,
    "start_time": "2022-02-10T08:28:25.912Z"
   },
   {
    "duration": 10142,
    "start_time": "2022-02-10T08:29:37.235Z"
   },
   {
    "duration": 5,
    "start_time": "2022-02-10T08:30:11.196Z"
   },
   {
    "duration": 5,
    "start_time": "2022-02-10T08:30:33.065Z"
   },
   {
    "duration": 10,
    "start_time": "2022-02-10T08:33:12.901Z"
   },
   {
    "duration": 10,
    "start_time": "2022-02-10T08:33:21.542Z"
   },
   {
    "duration": 9,
    "start_time": "2022-02-10T08:34:06.572Z"
   },
   {
    "duration": 6,
    "start_time": "2022-02-10T08:37:46.937Z"
   },
   {
    "duration": 276,
    "start_time": "2022-02-10T08:46:19.137Z"
   },
   {
    "duration": 271,
    "start_time": "2022-02-10T08:47:04.858Z"
   },
   {
    "duration": 684,
    "start_time": "2022-02-10T08:47:46.733Z"
   },
   {
    "duration": 12,
    "start_time": "2022-02-10T08:47:47.419Z"
   },
   {
    "duration": 5,
    "start_time": "2022-02-10T08:47:47.433Z"
   },
   {
    "duration": 11,
    "start_time": "2022-02-10T08:47:47.441Z"
   },
   {
    "duration": 11,
    "start_time": "2022-02-10T08:47:47.454Z"
   },
   {
    "duration": 35,
    "start_time": "2022-02-10T08:47:47.468Z"
   },
   {
    "duration": 9,
    "start_time": "2022-02-10T08:47:47.505Z"
   },
   {
    "duration": 7,
    "start_time": "2022-02-10T08:47:47.517Z"
   },
   {
    "duration": 6,
    "start_time": "2022-02-10T08:47:47.526Z"
   },
   {
    "duration": 64,
    "start_time": "2022-02-10T08:47:47.534Z"
   },
   {
    "duration": 12,
    "start_time": "2022-02-10T08:47:47.600Z"
   },
   {
    "duration": 47,
    "start_time": "2022-02-10T08:47:47.614Z"
   },
   {
    "duration": 14,
    "start_time": "2022-02-10T08:47:47.664Z"
   },
   {
    "duration": 32,
    "start_time": "2022-02-10T08:47:47.680Z"
   },
   {
    "duration": 8,
    "start_time": "2022-02-10T08:47:47.714Z"
   },
   {
    "duration": 31,
    "start_time": "2022-02-10T08:47:47.725Z"
   },
   {
    "duration": 45,
    "start_time": "2022-02-10T08:47:47.758Z"
   },
   {
    "duration": 6,
    "start_time": "2022-02-10T08:47:47.805Z"
   },
   {
    "duration": 24,
    "start_time": "2022-02-10T08:47:47.812Z"
   },
   {
    "duration": 16,
    "start_time": "2022-02-10T08:47:47.837Z"
   },
   {
    "duration": 11,
    "start_time": "2022-02-10T08:47:47.854Z"
   },
   {
    "duration": 14,
    "start_time": "2022-02-10T08:47:47.867Z"
   },
   {
    "duration": 22,
    "start_time": "2022-02-10T08:47:47.884Z"
   },
   {
    "duration": 10,
    "start_time": "2022-02-10T08:47:47.908Z"
   },
   {
    "duration": 11112,
    "start_time": "2022-02-10T08:47:47.919Z"
   },
   {
    "duration": 7479,
    "start_time": "2022-02-10T08:48:56.574Z"
   },
   {
    "duration": 295,
    "start_time": "2022-02-10T08:49:33.664Z"
   },
   {
    "duration": 7479,
    "start_time": "2022-02-10T08:49:48.753Z"
   },
   {
    "duration": 7770,
    "start_time": "2022-02-10T08:49:57.869Z"
   },
   {
    "duration": 67,
    "start_time": "2022-02-10T08:50:06.587Z"
   },
   {
    "duration": 11,
    "start_time": "2022-02-10T08:50:12.113Z"
   },
   {
    "duration": 5,
    "start_time": "2022-02-10T08:50:16.003Z"
   },
   {
    "duration": 10,
    "start_time": "2022-02-10T08:50:19.810Z"
   },
   {
    "duration": 10,
    "start_time": "2022-02-10T08:50:27.515Z"
   },
   {
    "duration": 9,
    "start_time": "2022-02-10T08:50:32.957Z"
   },
   {
    "duration": 9,
    "start_time": "2022-02-10T08:50:35.177Z"
   },
   {
    "duration": 6,
    "start_time": "2022-02-10T08:50:38.382Z"
   },
   {
    "duration": 6,
    "start_time": "2022-02-10T08:50:40.527Z"
   },
   {
    "duration": 25,
    "start_time": "2022-02-10T08:50:44.691Z"
   },
   {
    "duration": 21,
    "start_time": "2022-02-10T08:50:58.650Z"
   },
   {
    "duration": 12,
    "start_time": "2022-02-10T08:51:05.609Z"
   },
   {
    "duration": 26,
    "start_time": "2022-02-10T08:51:10.128Z"
   },
   {
    "duration": 14,
    "start_time": "2022-02-10T08:51:26.179Z"
   },
   {
    "duration": 16,
    "start_time": "2022-02-10T08:51:40.087Z"
   },
   {
    "duration": 8,
    "start_time": "2022-02-10T08:51:41.906Z"
   },
   {
    "duration": 23,
    "start_time": "2022-02-10T08:51:54.842Z"
   },
   {
    "duration": 21,
    "start_time": "2022-02-10T08:51:58.470Z"
   },
   {
    "duration": 7,
    "start_time": "2022-02-10T08:52:08.480Z"
   },
   {
    "duration": 15,
    "start_time": "2022-02-10T08:52:12.998Z"
   },
   {
    "duration": 9,
    "start_time": "2022-02-10T08:52:22.367Z"
   },
   {
    "duration": 9,
    "start_time": "2022-02-10T08:52:24.930Z"
   },
   {
    "duration": 9,
    "start_time": "2022-02-10T08:52:27.498Z"
   },
   {
    "duration": 9,
    "start_time": "2022-02-10T08:52:29.352Z"
   },
   {
    "duration": 17,
    "start_time": "2022-02-10T08:52:45.226Z"
   },
   {
    "duration": 7342,
    "start_time": "2022-02-10T08:53:27.631Z"
   },
   {
    "duration": 16,
    "start_time": "2022-02-10T08:53:43.478Z"
   },
   {
    "duration": 7850,
    "start_time": "2022-02-10T08:54:45.346Z"
   },
   {
    "duration": 7434,
    "start_time": "2022-02-10T08:55:04.263Z"
   },
   {
    "duration": -814,
    "start_time": "2022-02-10T08:55:20.309Z"
   },
   {
    "duration": -821,
    "start_time": "2022-02-10T08:55:56.894Z"
   },
   {
    "duration": 7404,
    "start_time": "2022-02-10T08:56:01.589Z"
   },
   {
    "duration": 7367,
    "start_time": "2022-02-10T08:56:18.731Z"
   },
   {
    "duration": 747,
    "start_time": "2022-02-10T10:15:34.696Z"
   },
   {
    "duration": 12,
    "start_time": "2022-02-10T10:15:35.445Z"
   },
   {
    "duration": 4,
    "start_time": "2022-02-10T10:15:35.460Z"
   },
   {
    "duration": 17,
    "start_time": "2022-02-10T10:15:35.466Z"
   },
   {
    "duration": 12,
    "start_time": "2022-02-10T10:15:35.498Z"
   },
   {
    "duration": 9,
    "start_time": "2022-02-10T10:15:35.512Z"
   },
   {
    "duration": 8,
    "start_time": "2022-02-10T10:15:35.523Z"
   },
   {
    "duration": 6,
    "start_time": "2022-02-10T10:15:35.535Z"
   },
   {
    "duration": 7,
    "start_time": "2022-02-10T10:15:35.544Z"
   },
   {
    "duration": 61,
    "start_time": "2022-02-10T10:15:35.553Z"
   },
   {
    "duration": 21,
    "start_time": "2022-02-10T10:15:35.617Z"
   },
   {
    "duration": 33,
    "start_time": "2022-02-10T10:15:35.641Z"
   },
   {
    "duration": 16,
    "start_time": "2022-02-10T10:15:35.700Z"
   },
   {
    "duration": 19,
    "start_time": "2022-02-10T10:15:35.719Z"
   },
   {
    "duration": 8,
    "start_time": "2022-02-10T10:15:35.740Z"
   },
   {
    "duration": 57,
    "start_time": "2022-02-10T10:15:35.750Z"
   },
   {
    "duration": 23,
    "start_time": "2022-02-10T10:15:35.810Z"
   },
   {
    "duration": 7,
    "start_time": "2022-02-10T10:15:35.834Z"
   },
   {
    "duration": 21,
    "start_time": "2022-02-10T10:15:35.842Z"
   },
   {
    "duration": 42,
    "start_time": "2022-02-10T10:15:35.866Z"
   },
   {
    "duration": 13,
    "start_time": "2022-02-10T10:15:35.910Z"
   },
   {
    "duration": 16,
    "start_time": "2022-02-10T10:15:35.925Z"
   },
   {
    "duration": 20,
    "start_time": "2022-02-10T10:15:35.945Z"
   },
   {
    "duration": 7,
    "start_time": "2022-02-10T10:15:35.967Z"
   },
   {
    "duration": 22,
    "start_time": "2022-02-10T10:15:35.977Z"
   },
   {
    "duration": 687,
    "start_time": "2022-02-10T11:54:28.928Z"
   },
   {
    "duration": 11,
    "start_time": "2022-02-10T11:54:29.617Z"
   },
   {
    "duration": 13,
    "start_time": "2022-02-10T11:54:29.630Z"
   },
   {
    "duration": 10,
    "start_time": "2022-02-10T11:54:29.645Z"
   },
   {
    "duration": 10,
    "start_time": "2022-02-10T11:54:29.657Z"
   },
   {
    "duration": 33,
    "start_time": "2022-02-10T11:54:29.669Z"
   },
   {
    "duration": 7,
    "start_time": "2022-02-10T11:54:29.704Z"
   },
   {
    "duration": 7,
    "start_time": "2022-02-10T11:54:29.714Z"
   },
   {
    "duration": 5,
    "start_time": "2022-02-10T11:54:29.723Z"
   },
   {
    "duration": 23,
    "start_time": "2022-02-10T11:54:29.730Z"
   },
   {
    "duration": 48,
    "start_time": "2022-02-10T11:54:29.755Z"
   },
   {
    "duration": 27,
    "start_time": "2022-02-10T11:54:29.804Z"
   },
   {
    "duration": 13,
    "start_time": "2022-02-10T11:54:29.833Z"
   },
   {
    "duration": 53,
    "start_time": "2022-02-10T11:54:29.848Z"
   },
   {
    "duration": 8,
    "start_time": "2022-02-10T11:54:29.903Z"
   },
   {
    "duration": 31,
    "start_time": "2022-02-10T11:54:29.913Z"
   },
   {
    "duration": 20,
    "start_time": "2022-02-10T11:54:29.945Z"
   },
   {
    "duration": 33,
    "start_time": "2022-02-10T11:54:29.967Z"
   },
   {
    "duration": 16,
    "start_time": "2022-02-10T11:54:30.002Z"
   },
   {
    "duration": 15,
    "start_time": "2022-02-10T11:54:30.020Z"
   },
   {
    "duration": 12,
    "start_time": "2022-02-10T11:54:30.038Z"
   },
   {
    "duration": 13,
    "start_time": "2022-02-10T11:54:30.051Z"
   },
   {
    "duration": 38,
    "start_time": "2022-02-10T11:54:30.067Z"
   },
   {
    "duration": 9,
    "start_time": "2022-02-10T11:54:30.106Z"
   },
   {
    "duration": 14,
    "start_time": "2022-02-10T11:54:30.117Z"
   },
   {
    "duration": 17,
    "start_time": "2022-02-10T11:58:44.634Z"
   },
   {
    "duration": 5,
    "start_time": "2022-02-10T11:59:14.342Z"
   },
   {
    "duration": 6,
    "start_time": "2022-02-10T11:59:37.564Z"
   },
   {
    "duration": 1901,
    "start_time": "2022-02-10T12:17:41.771Z"
   },
   {
    "duration": 292,
    "start_time": "2022-02-10T12:17:55.220Z"
   },
   {
    "duration": 5,
    "start_time": "2022-02-10T12:18:42.748Z"
   },
   {
    "duration": 5,
    "start_time": "2022-02-10T12:19:06.114Z"
   },
   {
    "duration": 6,
    "start_time": "2022-02-10T12:19:16.157Z"
   },
   {
    "duration": 5,
    "start_time": "2022-02-10T12:19:28.897Z"
   },
   {
    "duration": 5,
    "start_time": "2022-02-10T12:19:53.686Z"
   },
   {
    "duration": 18,
    "start_time": "2022-02-10T12:22:28.683Z"
   },
   {
    "duration": 5,
    "start_time": "2022-02-10T12:24:15.535Z"
   },
   {
    "duration": 5,
    "start_time": "2022-02-10T12:25:43.687Z"
   },
   {
    "duration": 16,
    "start_time": "2022-02-10T12:25:44.953Z"
   },
   {
    "duration": 71,
    "start_time": "2022-02-10T13:00:13.157Z"
   },
   {
    "duration": 6858,
    "start_time": "2022-02-10T13:00:38.357Z"
   },
   {
    "duration": 6763,
    "start_time": "2022-02-10T13:01:04.326Z"
   },
   {
    "duration": 711,
    "start_time": "2022-02-10T13:01:32.943Z"
   },
   {
    "duration": 12,
    "start_time": "2022-02-10T13:01:33.656Z"
   },
   {
    "duration": 4,
    "start_time": "2022-02-10T13:01:33.671Z"
   },
   {
    "duration": 28,
    "start_time": "2022-02-10T13:01:33.677Z"
   },
   {
    "duration": 10,
    "start_time": "2022-02-10T13:01:33.708Z"
   },
   {
    "duration": 9,
    "start_time": "2022-02-10T13:01:33.719Z"
   },
   {
    "duration": 8,
    "start_time": "2022-02-10T13:01:33.729Z"
   },
   {
    "duration": 60,
    "start_time": "2022-02-10T13:01:33.739Z"
   },
   {
    "duration": 6,
    "start_time": "2022-02-10T13:01:33.802Z"
   },
   {
    "duration": 25,
    "start_time": "2022-02-10T13:01:33.810Z"
   },
   {
    "duration": 17,
    "start_time": "2022-02-10T13:01:33.838Z"
   },
   {
    "duration": 62,
    "start_time": "2022-02-10T13:01:33.858Z"
   },
   {
    "duration": 15,
    "start_time": "2022-02-10T13:01:33.922Z"
   },
   {
    "duration": 18,
    "start_time": "2022-02-10T13:01:33.938Z"
   },
   {
    "duration": 42,
    "start_time": "2022-02-10T13:01:33.958Z"
   },
   {
    "duration": 25,
    "start_time": "2022-02-10T13:01:34.002Z"
   },
   {
    "duration": 23,
    "start_time": "2022-02-10T13:01:34.028Z"
   },
   {
    "duration": 7,
    "start_time": "2022-02-10T13:01:34.052Z"
   },
   {
    "duration": 56,
    "start_time": "2022-02-10T13:01:34.060Z"
   },
   {
    "duration": 17,
    "start_time": "2022-02-10T13:01:34.119Z"
   },
   {
    "duration": 18,
    "start_time": "2022-02-10T13:01:34.138Z"
   },
   {
    "duration": 48,
    "start_time": "2022-02-10T13:01:34.158Z"
   },
   {
    "duration": 11,
    "start_time": "2022-02-10T13:01:34.208Z"
   },
   {
    "duration": 12,
    "start_time": "2022-02-10T13:01:34.221Z"
   },
   {
    "duration": 16,
    "start_time": "2022-02-10T13:01:34.235Z"
   },
   {
    "duration": 8,
    "start_time": "2022-02-10T13:01:34.254Z"
   },
   {
    "duration": 57,
    "start_time": "2022-02-10T13:01:34.266Z"
   },
   {
    "duration": 6,
    "start_time": "2022-02-10T13:01:34.326Z"
   },
   {
    "duration": 6523,
    "start_time": "2022-02-10T13:01:34.334Z"
   },
   {
    "duration": 78,
    "start_time": "2022-02-10T13:01:40.782Z"
   },
   {
    "duration": 78,
    "start_time": "2022-02-10T13:01:40.784Z"
   },
   {
    "duration": 69,
    "start_time": "2022-02-10T13:01:44.466Z"
   },
   {
    "duration": 11,
    "start_time": "2022-02-10T13:01:48.602Z"
   },
   {
    "duration": 4,
    "start_time": "2022-02-10T13:01:50.768Z"
   },
   {
    "duration": 8,
    "start_time": "2022-02-10T13:01:52.773Z"
   },
   {
    "duration": 10,
    "start_time": "2022-02-10T13:01:57.071Z"
   },
   {
    "duration": 8,
    "start_time": "2022-02-10T13:01:59.672Z"
   },
   {
    "duration": 9,
    "start_time": "2022-02-10T13:02:00.343Z"
   },
   {
    "duration": 8,
    "start_time": "2022-02-10T13:02:03.986Z"
   },
   {
    "duration": 17,
    "start_time": "2022-02-10T13:02:03.996Z"
   },
   {
    "duration": 22,
    "start_time": "2022-02-10T13:02:05.103Z"
   },
   {
    "duration": 11,
    "start_time": "2022-02-10T13:02:09.299Z"
   },
   {
    "duration": 23,
    "start_time": "2022-02-10T13:02:13.746Z"
   },
   {
    "duration": 17,
    "start_time": "2022-02-10T13:02:19.143Z"
   },
   {
    "duration": 18,
    "start_time": "2022-02-10T13:02:21.423Z"
   },
   {
    "duration": 10,
    "start_time": "2022-02-10T13:02:23.776Z"
   },
   {
    "duration": 24,
    "start_time": "2022-02-10T13:02:28.303Z"
   },
   {
    "duration": 24,
    "start_time": "2022-02-10T13:02:30.999Z"
   },
   {
    "duration": 6,
    "start_time": "2022-02-10T13:02:34.646Z"
   },
   {
    "duration": 14,
    "start_time": "2022-02-10T13:02:38.903Z"
   },
   {
    "duration": 9,
    "start_time": "2022-02-10T13:02:44.316Z"
   },
   {
    "duration": 9,
    "start_time": "2022-02-10T13:02:44.980Z"
   },
   {
    "duration": 10,
    "start_time": "2022-02-10T13:02:48.591Z"
   },
   {
    "duration": 9,
    "start_time": "2022-02-10T13:02:49.227Z"
   },
   {
    "duration": 5,
    "start_time": "2022-02-10T13:02:49.889Z"
   },
   {
    "duration": 6,
    "start_time": "2022-02-10T13:02:52.616Z"
   },
   {
    "duration": 6,
    "start_time": "2022-02-10T13:03:00.341Z"
   },
   {
    "duration": 17,
    "start_time": "2022-02-10T13:03:04.483Z"
   },
   {
    "duration": 3,
    "start_time": "2022-02-10T13:03:10.129Z"
   },
   {
    "duration": 6522,
    "start_time": "2022-02-10T13:03:12.427Z"
   },
   {
    "duration": 98,
    "start_time": "2022-02-10T13:07:17.188Z"
   },
   {
    "duration": 6711,
    "start_time": "2022-02-10T13:07:18.197Z"
   },
   {
    "duration": 88,
    "start_time": "2022-02-10T13:07:27.356Z"
   },
   {
    "duration": 1851,
    "start_time": "2022-02-10T13:07:39.926Z"
   },
   {
    "duration": 18,
    "start_time": "2022-02-10T13:15:06.792Z"
   },
   {
    "duration": 21,
    "start_time": "2022-02-10T13:18:47.914Z"
   },
   {
    "duration": 16,
    "start_time": "2022-02-10T13:19:01.103Z"
   },
   {
    "duration": 7,
    "start_time": "2022-02-10T13:21:51.832Z"
   },
   {
    "duration": 7,
    "start_time": "2022-02-10T13:26:30.752Z"
   },
   {
    "duration": 9,
    "start_time": "2022-02-10T13:26:36.726Z"
   },
   {
    "duration": 7,
    "start_time": "2022-02-10T13:26:45.778Z"
   },
   {
    "duration": 12,
    "start_time": "2022-02-10T13:27:58.526Z"
   },
   {
    "duration": 8,
    "start_time": "2022-02-10T13:28:22.032Z"
   },
   {
    "duration": 8,
    "start_time": "2022-02-10T13:28:22.660Z"
   },
   {
    "duration": 6,
    "start_time": "2022-02-10T13:29:45.828Z"
   },
   {
    "duration": 8,
    "start_time": "2022-02-10T13:30:04.138Z"
   },
   {
    "duration": 688,
    "start_time": "2022-02-10T13:30:29.422Z"
   },
   {
    "duration": 13,
    "start_time": "2022-02-10T13:30:30.112Z"
   },
   {
    "duration": 5,
    "start_time": "2022-02-10T13:30:30.130Z"
   },
   {
    "duration": 14,
    "start_time": "2022-02-10T13:30:30.137Z"
   },
   {
    "duration": 17,
    "start_time": "2022-02-10T13:30:30.153Z"
   },
   {
    "duration": 7,
    "start_time": "2022-02-10T13:30:30.198Z"
   },
   {
    "duration": 11,
    "start_time": "2022-02-10T13:30:30.207Z"
   },
   {
    "duration": 12,
    "start_time": "2022-02-10T13:30:30.221Z"
   },
   {
    "duration": 12,
    "start_time": "2022-02-10T13:30:30.235Z"
   },
   {
    "duration": 54,
    "start_time": "2022-02-10T13:30:30.249Z"
   },
   {
    "duration": 10,
    "start_time": "2022-02-10T13:30:30.305Z"
   },
   {
    "duration": 30,
    "start_time": "2022-02-10T13:30:30.317Z"
   },
   {
    "duration": 19,
    "start_time": "2022-02-10T13:30:30.349Z"
   },
   {
    "duration": 18,
    "start_time": "2022-02-10T13:30:30.398Z"
   },
   {
    "duration": 17,
    "start_time": "2022-02-10T13:30:30.418Z"
   },
   {
    "duration": 55,
    "start_time": "2022-02-10T13:30:30.437Z"
   },
   {
    "duration": 10,
    "start_time": "2022-02-10T13:30:30.494Z"
   },
   {
    "duration": 33,
    "start_time": "2022-02-10T13:30:30.506Z"
   },
   {
    "duration": 30,
    "start_time": "2022-02-10T13:30:30.541Z"
   },
   {
    "duration": 30,
    "start_time": "2022-02-10T13:30:30.573Z"
   },
   {
    "duration": 32,
    "start_time": "2022-02-10T13:30:30.605Z"
   },
   {
    "duration": 18,
    "start_time": "2022-02-10T13:30:30.639Z"
   },
   {
    "duration": 28,
    "start_time": "2022-02-10T13:30:30.659Z"
   },
   {
    "duration": 57,
    "start_time": "2022-02-10T13:30:30.689Z"
   },
   {
    "duration": 89,
    "start_time": "2022-02-10T13:30:30.748Z"
   },
   {
    "duration": 157,
    "start_time": "2022-02-10T13:30:30.683Z"
   },
   {
    "duration": 20,
    "start_time": "2022-02-10T13:30:38.249Z"
   },
   {
    "duration": 20,
    "start_time": "2022-02-10T13:30:42.322Z"
   },
   {
    "duration": 28,
    "start_time": "2022-02-10T13:31:18.132Z"
   },
   {
    "duration": 23,
    "start_time": "2022-02-10T13:33:21.549Z"
   },
   {
    "duration": 42,
    "start_time": "2022-02-10T13:33:25.879Z"
   },
   {
    "duration": 8,
    "start_time": "2022-02-10T13:34:44.211Z"
   },
   {
    "duration": 6,
    "start_time": "2022-02-10T13:37:36.759Z"
   },
   {
    "duration": 19,
    "start_time": "2022-02-10T13:37:51.209Z"
   },
   {
    "duration": 18,
    "start_time": "2022-02-10T13:37:52.494Z"
   },
   {
    "duration": 36,
    "start_time": "2022-02-10T13:37:54.790Z"
   },
   {
    "duration": 7,
    "start_time": "2022-02-10T13:37:55.903Z"
   },
   {
    "duration": 5,
    "start_time": "2022-02-10T13:37:58.740Z"
   },
   {
    "duration": 716,
    "start_time": "2022-02-10T13:38:13.434Z"
   },
   {
    "duration": 13,
    "start_time": "2022-02-10T13:38:14.152Z"
   },
   {
    "duration": 4,
    "start_time": "2022-02-10T13:38:14.168Z"
   },
   {
    "duration": 11,
    "start_time": "2022-02-10T13:38:14.199Z"
   },
   {
    "duration": 11,
    "start_time": "2022-02-10T13:38:14.211Z"
   },
   {
    "duration": 10,
    "start_time": "2022-02-10T13:38:14.224Z"
   },
   {
    "duration": 11,
    "start_time": "2022-02-10T13:38:14.236Z"
   },
   {
    "duration": 13,
    "start_time": "2022-02-10T13:38:14.249Z"
   },
   {
    "duration": 6,
    "start_time": "2022-02-10T13:38:14.299Z"
   },
   {
    "duration": 23,
    "start_time": "2022-02-10T13:38:14.308Z"
   },
   {
    "duration": 10,
    "start_time": "2022-02-10T13:38:14.333Z"
   },
   {
    "duration": 62,
    "start_time": "2022-02-10T13:38:14.345Z"
   },
   {
    "duration": 14,
    "start_time": "2022-02-10T13:38:14.409Z"
   },
   {
    "duration": 16,
    "start_time": "2022-02-10T13:38:14.425Z"
   },
   {
    "duration": 19,
    "start_time": "2022-02-10T13:38:14.443Z"
   },
   {
    "duration": 66,
    "start_time": "2022-02-10T13:38:14.464Z"
   },
   {
    "duration": 5,
    "start_time": "2022-02-10T13:38:14.531Z"
   },
   {
    "duration": 11,
    "start_time": "2022-02-10T13:38:14.538Z"
   },
   {
    "duration": 16,
    "start_time": "2022-02-10T13:38:14.551Z"
   },
   {
    "duration": 11,
    "start_time": "2022-02-10T13:38:14.598Z"
   },
   {
    "duration": 14,
    "start_time": "2022-02-10T13:38:14.610Z"
   },
   {
    "duration": 6,
    "start_time": "2022-02-10T13:38:14.626Z"
   },
   {
    "duration": 10,
    "start_time": "2022-02-10T13:38:14.634Z"
   },
   {
    "duration": 6,
    "start_time": "2022-02-10T13:38:14.646Z"
   },
   {
    "duration": 72,
    "start_time": "2022-02-10T13:38:14.654Z"
   },
   {
    "duration": 102,
    "start_time": "2022-02-10T13:38:14.728Z"
   },
   {
    "duration": 137,
    "start_time": "2022-02-10T13:38:14.695Z"
   },
   {
    "duration": 46,
    "start_time": "2022-02-10T13:38:47.362Z"
   },
   {
    "duration": 5,
    "start_time": "2022-02-10T13:38:56.647Z"
   },
   {
    "duration": 32,
    "start_time": "2022-02-10T13:39:48.571Z"
   },
   {
    "duration": 7,
    "start_time": "2022-02-10T13:40:45.313Z"
   },
   {
    "duration": 7,
    "start_time": "2022-02-10T13:41:06.459Z"
   },
   {
    "duration": 6,
    "start_time": "2022-02-10T13:41:37.396Z"
   },
   {
    "duration": 11,
    "start_time": "2022-02-10T13:45:13.580Z"
   },
   {
    "duration": 10,
    "start_time": "2022-02-10T13:45:14.918Z"
   },
   {
    "duration": 14,
    "start_time": "2022-02-10T13:45:20.884Z"
   },
   {
    "duration": 11,
    "start_time": "2022-02-10T13:45:27.845Z"
   },
   {
    "duration": 8,
    "start_time": "2022-02-10T13:45:41.064Z"
   },
   {
    "duration": 7,
    "start_time": "2022-02-10T13:45:48.061Z"
   },
   {
    "duration": 5,
    "start_time": "2022-02-10T13:45:59.900Z"
   },
   {
    "duration": 32,
    "start_time": "2022-02-10T13:46:03.247Z"
   },
   {
    "duration": 30,
    "start_time": "2022-02-10T13:46:18.196Z"
   },
   {
    "duration": 100,
    "start_time": "2022-02-10T13:46:28.995Z"
   },
   {
    "duration": 4,
    "start_time": "2022-02-10T13:46:35.158Z"
   },
   {
    "duration": 4,
    "start_time": "2022-02-10T13:46:37.085Z"
   },
   {
    "duration": 6914,
    "start_time": "2022-02-10T13:46:38.271Z"
   },
   {
    "duration": 64,
    "start_time": "2022-02-10T14:01:07.814Z"
   },
   {
    "duration": 57,
    "start_time": "2022-02-10T14:01:18.196Z"
   },
   {
    "duration": 63,
    "start_time": "2022-02-10T14:03:38.594Z"
   },
   {
    "duration": 1240,
    "start_time": "2022-02-10T14:04:16.700Z"
   },
   {
    "duration": 30,
    "start_time": "2022-02-10T14:04:56.092Z"
   },
   {
    "duration": 32,
    "start_time": "2022-02-10T14:05:57.327Z"
   },
   {
    "duration": 44,
    "start_time": "2022-02-10T14:12:34.209Z"
   },
   {
    "duration": 699,
    "start_time": "2022-02-10T14:42:18.400Z"
   },
   {
    "duration": 12,
    "start_time": "2022-02-10T14:42:19.101Z"
   },
   {
    "duration": 6,
    "start_time": "2022-02-10T14:42:19.115Z"
   },
   {
    "duration": 9,
    "start_time": "2022-02-10T14:42:19.123Z"
   },
   {
    "duration": 12,
    "start_time": "2022-02-10T14:42:19.134Z"
   },
   {
    "duration": 8,
    "start_time": "2022-02-10T14:42:19.148Z"
   },
   {
    "duration": 43,
    "start_time": "2022-02-10T14:42:19.157Z"
   },
   {
    "duration": 8,
    "start_time": "2022-02-10T14:42:19.203Z"
   },
   {
    "duration": 6,
    "start_time": "2022-02-10T14:42:19.214Z"
   },
   {
    "duration": 31,
    "start_time": "2022-02-10T14:42:19.222Z"
   },
   {
    "duration": 52,
    "start_time": "2022-02-10T14:42:19.255Z"
   },
   {
    "duration": 34,
    "start_time": "2022-02-10T14:42:19.309Z"
   },
   {
    "duration": 14,
    "start_time": "2022-02-10T14:42:19.345Z"
   },
   {
    "duration": 42,
    "start_time": "2022-02-10T14:42:19.361Z"
   },
   {
    "duration": 19,
    "start_time": "2022-02-10T14:42:19.405Z"
   },
   {
    "duration": 38,
    "start_time": "2022-02-10T14:42:19.426Z"
   },
   {
    "duration": 6,
    "start_time": "2022-02-10T14:42:19.466Z"
   },
   {
    "duration": 54,
    "start_time": "2022-02-10T14:42:19.473Z"
   },
   {
    "duration": 11,
    "start_time": "2022-02-10T14:42:19.530Z"
   },
   {
    "duration": 12,
    "start_time": "2022-02-10T14:42:19.543Z"
   },
   {
    "duration": 47,
    "start_time": "2022-02-10T14:42:19.558Z"
   },
   {
    "duration": 10,
    "start_time": "2022-02-10T14:42:19.607Z"
   },
   {
    "duration": 7,
    "start_time": "2022-02-10T14:42:19.620Z"
   },
   {
    "duration": 13,
    "start_time": "2022-02-10T14:42:19.629Z"
   },
   {
    "duration": 7,
    "start_time": "2022-02-10T14:42:19.644Z"
   },
   {
    "duration": 52,
    "start_time": "2022-02-10T14:42:19.653Z"
   },
   {
    "duration": 30,
    "start_time": "2022-02-10T14:42:19.707Z"
   },
   {
    "duration": 13,
    "start_time": "2022-02-10T14:52:31.843Z"
   },
   {
    "duration": 68,
    "start_time": "2022-02-10T14:53:09.302Z"
   },
   {
    "duration": 58,
    "start_time": "2022-02-10T14:53:21.175Z"
   },
   {
    "duration": 7,
    "start_time": "2022-02-10T14:54:27.064Z"
   },
   {
    "duration": 12,
    "start_time": "2022-02-10T14:54:38.283Z"
   },
   {
    "duration": 634,
    "start_time": "2022-02-10T15:29:36.150Z"
   },
   {
    "duration": 11,
    "start_time": "2022-02-10T15:29:36.786Z"
   },
   {
    "duration": 4,
    "start_time": "2022-02-10T15:29:36.799Z"
   },
   {
    "duration": 11,
    "start_time": "2022-02-10T15:29:36.804Z"
   },
   {
    "duration": 10,
    "start_time": "2022-02-10T15:29:36.817Z"
   },
   {
    "duration": 7,
    "start_time": "2022-02-10T15:29:36.828Z"
   },
   {
    "duration": 8,
    "start_time": "2022-02-10T15:29:36.837Z"
   },
   {
    "duration": 7,
    "start_time": "2022-02-10T15:29:36.848Z"
   },
   {
    "duration": 44,
    "start_time": "2022-02-10T15:29:36.857Z"
   },
   {
    "duration": 21,
    "start_time": "2022-02-10T15:29:36.902Z"
   },
   {
    "duration": 10,
    "start_time": "2022-02-10T15:29:36.925Z"
   },
   {
    "duration": 26,
    "start_time": "2022-02-10T15:29:36.936Z"
   },
   {
    "duration": 44,
    "start_time": "2022-02-10T15:29:36.963Z"
   },
   {
    "duration": 16,
    "start_time": "2022-02-10T15:29:37.008Z"
   },
   {
    "duration": 20,
    "start_time": "2022-02-10T15:29:37.025Z"
   },
   {
    "duration": 59,
    "start_time": "2022-02-10T15:29:37.047Z"
   },
   {
    "duration": 5,
    "start_time": "2022-02-10T15:29:37.108Z"
   },
   {
    "duration": 30,
    "start_time": "2022-02-10T15:29:37.115Z"
   },
   {
    "duration": 10,
    "start_time": "2022-02-10T15:29:37.147Z"
   },
   {
    "duration": 41,
    "start_time": "2022-02-10T15:29:37.158Z"
   },
   {
    "duration": 12,
    "start_time": "2022-02-10T15:29:37.201Z"
   },
   {
    "duration": 10,
    "start_time": "2022-02-10T15:29:37.215Z"
   },
   {
    "duration": 8,
    "start_time": "2022-02-10T15:29:37.227Z"
   },
   {
    "duration": 9,
    "start_time": "2022-02-10T15:29:37.236Z"
   },
   {
    "duration": 8,
    "start_time": "2022-02-10T15:29:37.247Z"
   },
   {
    "duration": 59,
    "start_time": "2022-02-10T15:29:37.257Z"
   },
   {
    "duration": 28,
    "start_time": "2022-02-10T15:29:37.317Z"
   },
   {
    "duration": 362,
    "start_time": "2022-02-10T15:32:18.487Z"
   },
   {
    "duration": 269,
    "start_time": "2022-02-10T15:33:52.534Z"
   },
   {
    "duration": 7,
    "start_time": "2022-02-10T15:46:17.088Z"
   },
   {
    "duration": 5,
    "start_time": "2022-02-10T15:46:35.463Z"
   },
   {
    "duration": 7,
    "start_time": "2022-02-10T15:46:42.938Z"
   },
   {
    "duration": 7,
    "start_time": "2022-02-10T15:48:58.942Z"
   },
   {
    "duration": 297,
    "start_time": "2022-02-10T15:49:38.501Z"
   },
   {
    "duration": 6,
    "start_time": "2022-02-10T15:50:20.705Z"
   },
   {
    "duration": 6,
    "start_time": "2022-02-10T15:50:57.012Z"
   },
   {
    "duration": 11,
    "start_time": "2022-02-10T15:52:53.710Z"
   },
   {
    "duration": 14,
    "start_time": "2022-02-10T15:54:00.871Z"
   },
   {
    "duration": 23,
    "start_time": "2022-02-10T15:57:05.851Z"
   },
   {
    "duration": 719,
    "start_time": "2022-02-10T15:57:12.686Z"
   },
   {
    "duration": 12,
    "start_time": "2022-02-10T15:57:13.408Z"
   },
   {
    "duration": 4,
    "start_time": "2022-02-10T15:57:13.422Z"
   },
   {
    "duration": 11,
    "start_time": "2022-02-10T15:57:13.428Z"
   },
   {
    "duration": 10,
    "start_time": "2022-02-10T15:57:13.440Z"
   },
   {
    "duration": 6,
    "start_time": "2022-02-10T15:57:13.452Z"
   },
   {
    "duration": 39,
    "start_time": "2022-02-10T15:57:13.460Z"
   },
   {
    "duration": 6,
    "start_time": "2022-02-10T15:57:13.502Z"
   },
   {
    "duration": 6,
    "start_time": "2022-02-10T15:57:13.510Z"
   },
   {
    "duration": 21,
    "start_time": "2022-02-10T15:57:13.517Z"
   },
   {
    "duration": 10,
    "start_time": "2022-02-10T15:57:13.539Z"
   },
   {
    "duration": 65,
    "start_time": "2022-02-10T15:57:13.550Z"
   },
   {
    "duration": 25,
    "start_time": "2022-02-10T15:57:13.617Z"
   },
   {
    "duration": 13,
    "start_time": "2022-02-10T15:57:13.643Z"
   },
   {
    "duration": 42,
    "start_time": "2022-02-10T15:57:13.659Z"
   },
   {
    "duration": 20,
    "start_time": "2022-02-10T15:57:13.703Z"
   },
   {
    "duration": 39,
    "start_time": "2022-02-10T15:57:13.725Z"
   },
   {
    "duration": 33,
    "start_time": "2022-02-10T15:57:13.766Z"
   },
   {
    "duration": 32,
    "start_time": "2022-02-10T15:57:13.801Z"
   },
   {
    "duration": 33,
    "start_time": "2022-02-10T15:57:13.835Z"
   },
   {
    "duration": 22,
    "start_time": "2022-02-10T15:57:13.869Z"
   },
   {
    "duration": 17,
    "start_time": "2022-02-10T15:57:13.893Z"
   },
   {
    "duration": 11,
    "start_time": "2022-02-10T15:57:13.914Z"
   },
   {
    "duration": 8,
    "start_time": "2022-02-10T15:57:13.927Z"
   },
   {
    "duration": 9,
    "start_time": "2022-02-10T15:57:13.937Z"
   },
   {
    "duration": 10,
    "start_time": "2022-02-10T15:57:13.948Z"
   },
   {
    "duration": 55,
    "start_time": "2022-02-10T15:57:13.959Z"
   },
   {
    "duration": 29,
    "start_time": "2022-02-10T15:57:14.016Z"
   },
   {
    "duration": 19,
    "start_time": "2022-02-10T15:57:14.047Z"
   },
   {
    "duration": 38,
    "start_time": "2022-02-10T15:57:14.068Z"
   },
   {
    "duration": 827,
    "start_time": "2022-02-10T17:19:10.839Z"
   },
   {
    "duration": 12,
    "start_time": "2022-02-10T17:19:11.668Z"
   },
   {
    "duration": 5,
    "start_time": "2022-02-10T17:19:11.683Z"
   },
   {
    "duration": 17,
    "start_time": "2022-02-10T17:19:11.689Z"
   },
   {
    "duration": 11,
    "start_time": "2022-02-10T17:19:11.708Z"
   },
   {
    "duration": 6,
    "start_time": "2022-02-10T17:19:11.721Z"
   },
   {
    "duration": 7,
    "start_time": "2022-02-10T17:19:11.729Z"
   },
   {
    "duration": 5,
    "start_time": "2022-02-10T17:19:11.739Z"
   },
   {
    "duration": 5,
    "start_time": "2022-02-10T17:19:11.800Z"
   },
   {
    "duration": 24,
    "start_time": "2022-02-10T17:19:11.806Z"
   },
   {
    "duration": 10,
    "start_time": "2022-02-10T17:19:11.832Z"
   },
   {
    "duration": 72,
    "start_time": "2022-02-10T17:19:11.844Z"
   },
   {
    "duration": 24,
    "start_time": "2022-02-10T17:19:11.918Z"
   },
   {
    "duration": 14,
    "start_time": "2022-02-10T17:19:11.944Z"
   },
   {
    "duration": 46,
    "start_time": "2022-02-10T17:19:11.959Z"
   },
   {
    "duration": 20,
    "start_time": "2022-02-10T17:19:12.007Z"
   },
   {
    "duration": 39,
    "start_time": "2022-02-10T17:19:12.028Z"
   },
   {
    "duration": 31,
    "start_time": "2022-02-10T17:19:12.068Z"
   },
   {
    "duration": 32,
    "start_time": "2022-02-10T17:19:12.101Z"
   },
   {
    "duration": 11,
    "start_time": "2022-02-10T17:19:12.135Z"
   },
   {
    "duration": 28,
    "start_time": "2022-02-10T17:19:12.148Z"
   },
   {
    "duration": 12,
    "start_time": "2022-02-10T17:19:12.198Z"
   },
   {
    "duration": 10,
    "start_time": "2022-02-10T17:19:12.214Z"
   },
   {
    "duration": 8,
    "start_time": "2022-02-10T17:19:12.227Z"
   },
   {
    "duration": 11,
    "start_time": "2022-02-10T17:19:12.237Z"
   },
   {
    "duration": 7,
    "start_time": "2022-02-10T17:19:12.249Z"
   },
   {
    "duration": 26,
    "start_time": "2022-02-10T17:19:12.299Z"
   },
   {
    "duration": 32,
    "start_time": "2022-02-10T17:19:12.327Z"
   },
   {
    "duration": 46,
    "start_time": "2022-02-10T17:19:12.361Z"
   },
   {
    "duration": 11,
    "start_time": "2022-02-10T17:19:12.408Z"
   },
   {
    "duration": 8,
    "start_time": "2022-02-10T17:35:34.715Z"
   },
   {
    "duration": 7,
    "start_time": "2022-02-10T17:35:35.111Z"
   },
   {
    "duration": 58,
    "start_time": "2022-02-10T17:35:43.474Z"
   },
   {
    "duration": 11,
    "start_time": "2022-02-10T17:35:48.127Z"
   },
   {
    "duration": 4,
    "start_time": "2022-02-10T17:35:54.845Z"
   },
   {
    "duration": 10,
    "start_time": "2022-02-10T17:35:58.047Z"
   },
   {
    "duration": 11,
    "start_time": "2022-02-10T17:36:01.695Z"
   },
   {
    "duration": 7,
    "start_time": "2022-02-10T17:36:06.195Z"
   },
   {
    "duration": 7,
    "start_time": "2022-02-10T17:36:07.708Z"
   },
   {
    "duration": 6,
    "start_time": "2022-02-10T17:38:53.963Z"
   },
   {
    "duration": 4,
    "start_time": "2022-02-10T17:41:51.946Z"
   },
   {
    "duration": 3,
    "start_time": "2022-02-10T17:41:54.699Z"
   },
   {
    "duration": 8,
    "start_time": "2022-02-10T17:42:09.301Z"
   },
   {
    "duration": 8,
    "start_time": "2022-02-10T17:42:09.738Z"
   },
   {
    "duration": 4,
    "start_time": "2022-02-10T17:42:11.784Z"
   },
   {
    "duration": 5,
    "start_time": "2022-02-10T17:42:25.762Z"
   },
   {
    "duration": 5,
    "start_time": "2022-02-10T17:42:26.476Z"
   },
   {
    "duration": 3,
    "start_time": "2022-02-10T17:43:07.489Z"
   },
   {
    "duration": 5,
    "start_time": "2022-02-10T17:43:31.318Z"
   },
   {
    "duration": 9,
    "start_time": "2022-02-10T17:47:04.517Z"
   },
   {
    "duration": 21,
    "start_time": "2022-02-10T17:48:31.992Z"
   },
   {
    "duration": 12,
    "start_time": "2022-02-10T17:49:31.835Z"
   },
   {
    "duration": 34,
    "start_time": "2022-02-10T17:50:49.200Z"
   },
   {
    "duration": 25,
    "start_time": "2022-02-10T17:52:56.226Z"
   },
   {
    "duration": 5,
    "start_time": "2022-02-10T17:55:12.091Z"
   },
   {
    "duration": 6,
    "start_time": "2022-02-10T18:00:20.314Z"
   },
   {
    "duration": 700,
    "start_time": "2022-02-10T18:04:04.061Z"
   },
   {
    "duration": 12,
    "start_time": "2022-02-10T18:04:04.763Z"
   },
   {
    "duration": 4,
    "start_time": "2022-02-10T18:04:04.778Z"
   },
   {
    "duration": 25,
    "start_time": "2022-02-10T18:04:04.784Z"
   },
   {
    "duration": 12,
    "start_time": "2022-02-10T18:04:04.811Z"
   },
   {
    "duration": 9,
    "start_time": "2022-02-10T18:04:04.825Z"
   },
   {
    "duration": 8,
    "start_time": "2022-02-10T18:04:04.837Z"
   },
   {
    "duration": 5,
    "start_time": "2022-02-10T18:04:04.849Z"
   },
   {
    "duration": 45,
    "start_time": "2022-02-10T18:04:04.856Z"
   },
   {
    "duration": 21,
    "start_time": "2022-02-10T18:04:04.904Z"
   },
   {
    "duration": 10,
    "start_time": "2022-02-10T18:04:04.927Z"
   },
   {
    "duration": 31,
    "start_time": "2022-02-10T18:04:04.939Z"
   },
   {
    "duration": 14,
    "start_time": "2022-02-10T18:04:04.998Z"
   },
   {
    "duration": 18,
    "start_time": "2022-02-10T18:04:05.014Z"
   },
   {
    "duration": 22,
    "start_time": "2022-02-10T18:04:05.034Z"
   },
   {
    "duration": 72,
    "start_time": "2022-02-10T18:04:05.058Z"
   },
   {
    "duration": 6,
    "start_time": "2022-02-10T18:04:05.132Z"
   },
   {
    "duration": 37,
    "start_time": "2022-02-10T18:04:05.140Z"
   },
   {
    "duration": 21,
    "start_time": "2022-02-10T18:04:05.179Z"
   },
   {
    "duration": 16,
    "start_time": "2022-02-10T18:04:05.202Z"
   },
   {
    "duration": 15,
    "start_time": "2022-02-10T18:04:05.220Z"
   },
   {
    "duration": 20,
    "start_time": "2022-02-10T18:04:05.237Z"
   },
   {
    "duration": 18,
    "start_time": "2022-02-10T18:04:05.260Z"
   },
   {
    "duration": 19,
    "start_time": "2022-02-10T18:04:05.279Z"
   },
   {
    "duration": 6,
    "start_time": "2022-02-10T18:04:05.300Z"
   },
   {
    "duration": 9,
    "start_time": "2022-02-10T18:04:05.308Z"
   },
   {
    "duration": 29,
    "start_time": "2022-02-10T18:04:05.318Z"
   },
   {
    "duration": 58,
    "start_time": "2022-02-10T18:04:05.348Z"
   },
   {
    "duration": 16,
    "start_time": "2022-02-10T18:04:05.408Z"
   },
   {
    "duration": 12,
    "start_time": "2022-02-10T18:04:05.426Z"
   },
   {
    "duration": 5,
    "start_time": "2022-02-10T18:05:39.032Z"
   },
   {
    "duration": 5,
    "start_time": "2022-02-10T18:07:49.577Z"
   },
   {
    "duration": 6,
    "start_time": "2022-02-10T18:08:17.555Z"
   },
   {
    "duration": 5,
    "start_time": "2022-02-10T18:08:27.579Z"
   },
   {
    "duration": 5,
    "start_time": "2022-02-10T18:09:16.766Z"
   },
   {
    "duration": 770,
    "start_time": "2022-02-10T18:18:24.324Z"
   },
   {
    "duration": 14,
    "start_time": "2022-02-10T18:18:25.097Z"
   },
   {
    "duration": 5,
    "start_time": "2022-02-10T18:18:25.116Z"
   },
   {
    "duration": 10,
    "start_time": "2022-02-10T18:18:25.123Z"
   },
   {
    "duration": 11,
    "start_time": "2022-02-10T18:18:25.135Z"
   },
   {
    "duration": 10,
    "start_time": "2022-02-10T18:18:25.148Z"
   },
   {
    "duration": 43,
    "start_time": "2022-02-10T18:18:25.160Z"
   },
   {
    "duration": 5,
    "start_time": "2022-02-10T18:18:25.207Z"
   },
   {
    "duration": 7,
    "start_time": "2022-02-10T18:18:25.214Z"
   },
   {
    "duration": 21,
    "start_time": "2022-02-10T18:18:25.223Z"
   },
   {
    "duration": 10,
    "start_time": "2022-02-10T18:18:25.245Z"
   },
   {
    "duration": 61,
    "start_time": "2022-02-10T18:18:25.257Z"
   },
   {
    "duration": 13,
    "start_time": "2022-02-10T18:18:25.320Z"
   },
   {
    "duration": 23,
    "start_time": "2022-02-10T18:18:25.334Z"
   },
   {
    "duration": 56,
    "start_time": "2022-02-10T18:18:25.359Z"
   },
   {
    "duration": 42,
    "start_time": "2022-02-10T18:18:25.417Z"
   },
   {
    "duration": 6,
    "start_time": "2022-02-10T18:18:25.461Z"
   },
   {
    "duration": 57,
    "start_time": "2022-02-10T18:18:25.469Z"
   },
   {
    "duration": 6,
    "start_time": "2022-02-10T18:18:25.528Z"
   },
   {
    "duration": 12,
    "start_time": "2022-02-10T18:18:25.536Z"
   },
   {
    "duration": 12,
    "start_time": "2022-02-10T18:18:25.550Z"
   },
   {
    "duration": 48,
    "start_time": "2022-02-10T18:18:25.564Z"
   },
   {
    "duration": 11,
    "start_time": "2022-02-10T18:18:25.616Z"
   },
   {
    "duration": 9,
    "start_time": "2022-02-10T18:18:25.629Z"
   },
   {
    "duration": 9,
    "start_time": "2022-02-10T18:18:25.641Z"
   },
   {
    "duration": 7,
    "start_time": "2022-02-10T18:18:25.652Z"
   },
   {
    "duration": 61,
    "start_time": "2022-02-10T18:18:25.661Z"
   },
   {
    "duration": 30,
    "start_time": "2022-02-10T18:18:25.724Z"
   },
   {
    "duration": 43,
    "start_time": "2022-02-10T18:18:25.756Z"
   },
   {
    "duration": 15,
    "start_time": "2022-02-10T18:18:25.801Z"
   },
   {
    "duration": 5,
    "start_time": "2022-02-10T18:19:32.425Z"
   },
   {
    "duration": 5,
    "start_time": "2022-02-10T18:21:04.954Z"
   },
   {
    "duration": 5,
    "start_time": "2022-02-10T18:23:13.415Z"
   },
   {
    "duration": 6,
    "start_time": "2022-02-10T18:23:28.595Z"
   },
   {
    "duration": 84,
    "start_time": "2022-02-10T18:26:15.808Z"
   },
   {
    "duration": 69,
    "start_time": "2022-02-10T18:26:56.865Z"
   },
   {
    "duration": 37,
    "start_time": "2022-02-10T18:27:16.069Z"
   },
   {
    "duration": 33,
    "start_time": "2022-02-10T18:29:07.748Z"
   },
   {
    "duration": 24,
    "start_time": "2022-02-10T18:29:57.379Z"
   },
   {
    "duration": 329,
    "start_time": "2022-02-10T18:44:24.827Z"
   },
   {
    "duration": 9,
    "start_time": "2022-02-10T18:44:50.828Z"
   },
   {
    "duration": 267,
    "start_time": "2022-02-10T18:45:09.857Z"
   },
   {
    "duration": 9,
    "start_time": "2022-02-10T18:45:29.261Z"
   },
   {
    "duration": 6,
    "start_time": "2022-02-10T18:45:48.730Z"
   },
   {
    "duration": 24,
    "start_time": "2022-02-10T18:47:27.465Z"
   },
   {
    "duration": 37,
    "start_time": "2022-02-10T18:47:41.361Z"
   },
   {
    "duration": 276,
    "start_time": "2022-02-10T18:48:03.440Z"
   },
   {
    "duration": 718,
    "start_time": "2022-02-10T18:48:13.130Z"
   },
   {
    "duration": 12,
    "start_time": "2022-02-10T18:48:13.850Z"
   },
   {
    "duration": 19,
    "start_time": "2022-02-10T18:48:13.864Z"
   },
   {
    "duration": 33,
    "start_time": "2022-02-10T18:48:13.885Z"
   },
   {
    "duration": 18,
    "start_time": "2022-02-10T18:48:13.920Z"
   },
   {
    "duration": 32,
    "start_time": "2022-02-10T18:48:13.940Z"
   },
   {
    "duration": 20,
    "start_time": "2022-02-10T18:48:13.974Z"
   },
   {
    "duration": 22,
    "start_time": "2022-02-10T18:48:13.997Z"
   },
   {
    "duration": 31,
    "start_time": "2022-02-10T18:48:14.021Z"
   },
   {
    "duration": 36,
    "start_time": "2022-02-10T18:48:14.054Z"
   },
   {
    "duration": 23,
    "start_time": "2022-02-10T18:48:14.092Z"
   },
   {
    "duration": 37,
    "start_time": "2022-02-10T18:48:14.117Z"
   },
   {
    "duration": 27,
    "start_time": "2022-02-10T18:48:14.156Z"
   },
   {
    "duration": 39,
    "start_time": "2022-02-10T18:48:14.185Z"
   },
   {
    "duration": 13,
    "start_time": "2022-02-10T18:48:14.226Z"
   },
   {
    "duration": 40,
    "start_time": "2022-02-10T18:48:14.241Z"
   },
   {
    "duration": 25,
    "start_time": "2022-02-10T18:48:14.283Z"
   },
   {
    "duration": 41,
    "start_time": "2022-02-10T18:48:14.310Z"
   },
   {
    "duration": 5,
    "start_time": "2022-02-10T18:48:14.353Z"
   },
   {
    "duration": 48,
    "start_time": "2022-02-10T18:48:14.359Z"
   },
   {
    "duration": 20,
    "start_time": "2022-02-10T18:48:14.409Z"
   },
   {
    "duration": 28,
    "start_time": "2022-02-10T18:48:14.430Z"
   },
   {
    "duration": 20,
    "start_time": "2022-02-10T18:48:14.461Z"
   },
   {
    "duration": 34,
    "start_time": "2022-02-10T18:48:14.483Z"
   },
   {
    "duration": 16,
    "start_time": "2022-02-10T18:48:14.519Z"
   },
   {
    "duration": 42,
    "start_time": "2022-02-10T18:48:14.537Z"
   },
   {
    "duration": 21,
    "start_time": "2022-02-10T18:48:14.581Z"
   },
   {
    "duration": 34,
    "start_time": "2022-02-10T18:48:14.604Z"
   },
   {
    "duration": 33,
    "start_time": "2022-02-10T18:48:14.641Z"
   },
   {
    "duration": 48,
    "start_time": "2022-02-10T18:48:14.676Z"
   },
   {
    "duration": 18,
    "start_time": "2022-02-10T18:48:14.726Z"
   },
   {
    "duration": 14,
    "start_time": "2022-02-10T18:48:14.746Z"
   },
   {
    "duration": 13,
    "start_time": "2022-02-10T18:48:46.348Z"
   },
   {
    "duration": 20,
    "start_time": "2022-02-10T18:48:59.993Z"
   },
   {
    "duration": 18,
    "start_time": "2022-02-10T18:49:03.976Z"
   },
   {
    "duration": 23,
    "start_time": "2022-02-10T18:49:11.014Z"
   },
   {
    "duration": 47,
    "start_time": "2022-02-10T18:49:16.333Z"
   },
   {
    "duration": 5,
    "start_time": "2022-02-10T18:51:20.948Z"
   },
   {
    "duration": 88,
    "start_time": "2022-02-10T18:52:38.082Z"
   },
   {
    "duration": 5,
    "start_time": "2022-02-10T18:54:33.599Z"
   },
   {
    "duration": 29,
    "start_time": "2022-02-10T18:54:53.388Z"
   },
   {
    "duration": 724,
    "start_time": "2022-02-10T18:55:02.404Z"
   },
   {
    "duration": 12,
    "start_time": "2022-02-10T18:55:03.130Z"
   },
   {
    "duration": 4,
    "start_time": "2022-02-10T18:55:03.145Z"
   },
   {
    "duration": 11,
    "start_time": "2022-02-10T18:55:03.151Z"
   },
   {
    "duration": 10,
    "start_time": "2022-02-10T18:55:03.164Z"
   },
   {
    "duration": 9,
    "start_time": "2022-02-10T18:55:03.199Z"
   },
   {
    "duration": 27,
    "start_time": "2022-02-10T18:55:03.209Z"
   },
   {
    "duration": 11,
    "start_time": "2022-02-10T18:55:03.239Z"
   },
   {
    "duration": 17,
    "start_time": "2022-02-10T18:55:03.253Z"
   },
   {
    "duration": 53,
    "start_time": "2022-02-10T18:55:03.271Z"
   },
   {
    "duration": 11,
    "start_time": "2022-02-10T18:55:03.326Z"
   },
   {
    "duration": 69,
    "start_time": "2022-02-10T18:55:03.339Z"
   },
   {
    "duration": 28,
    "start_time": "2022-02-10T18:55:03.410Z"
   },
   {
    "duration": 40,
    "start_time": "2022-02-10T18:55:03.440Z"
   },
   {
    "duration": 28,
    "start_time": "2022-02-10T18:55:03.482Z"
   },
   {
    "duration": 36,
    "start_time": "2022-02-10T18:55:03.512Z"
   },
   {
    "duration": 28,
    "start_time": "2022-02-10T18:55:03.550Z"
   },
   {
    "duration": 47,
    "start_time": "2022-02-10T18:55:03.580Z"
   },
   {
    "duration": 5,
    "start_time": "2022-02-10T18:55:03.629Z"
   },
   {
    "duration": 49,
    "start_time": "2022-02-10T18:55:03.636Z"
   },
   {
    "duration": 13,
    "start_time": "2022-02-10T18:55:03.687Z"
   },
   {
    "duration": 59,
    "start_time": "2022-02-10T18:55:03.702Z"
   },
   {
    "duration": 12,
    "start_time": "2022-02-10T18:55:03.766Z"
   },
   {
    "duration": 21,
    "start_time": "2022-02-10T18:55:03.780Z"
   },
   {
    "duration": 11,
    "start_time": "2022-02-10T18:55:03.803Z"
   },
   {
    "duration": 15,
    "start_time": "2022-02-10T18:55:03.816Z"
   },
   {
    "duration": 34,
    "start_time": "2022-02-10T18:55:03.833Z"
   },
   {
    "duration": 19,
    "start_time": "2022-02-10T18:55:03.869Z"
   },
   {
    "duration": 37,
    "start_time": "2022-02-10T18:55:03.890Z"
   },
   {
    "duration": 36,
    "start_time": "2022-02-10T18:55:03.929Z"
   },
   {
    "duration": 23,
    "start_time": "2022-02-10T18:55:03.968Z"
   },
   {
    "duration": 19,
    "start_time": "2022-02-10T18:55:03.993Z"
   },
   {
    "duration": 47,
    "start_time": "2022-02-10T18:55:55.243Z"
   },
   {
    "duration": 6,
    "start_time": "2022-02-10T18:56:35.397Z"
   },
   {
    "duration": 6,
    "start_time": "2022-02-10T18:56:50.583Z"
   },
   {
    "duration": 33,
    "start_time": "2022-02-10T18:56:53.327Z"
   },
   {
    "duration": 738,
    "start_time": "2022-02-10T18:57:00.167Z"
   },
   {
    "duration": 14,
    "start_time": "2022-02-10T18:57:00.907Z"
   },
   {
    "duration": 8,
    "start_time": "2022-02-10T18:57:00.924Z"
   },
   {
    "duration": 20,
    "start_time": "2022-02-10T18:57:00.934Z"
   },
   {
    "duration": 18,
    "start_time": "2022-02-10T18:57:00.955Z"
   },
   {
    "duration": 26,
    "start_time": "2022-02-10T18:57:00.974Z"
   },
   {
    "duration": 10,
    "start_time": "2022-02-10T18:57:01.001Z"
   },
   {
    "duration": 5,
    "start_time": "2022-02-10T18:57:01.014Z"
   },
   {
    "duration": 17,
    "start_time": "2022-02-10T18:57:01.021Z"
   },
   {
    "duration": 28,
    "start_time": "2022-02-10T18:57:01.040Z"
   },
   {
    "duration": 30,
    "start_time": "2022-02-10T18:57:01.069Z"
   },
   {
    "duration": 36,
    "start_time": "2022-02-10T18:57:01.101Z"
   },
   {
    "duration": 24,
    "start_time": "2022-02-10T18:57:01.139Z"
   },
   {
    "duration": 68,
    "start_time": "2022-02-10T18:57:01.165Z"
   },
   {
    "duration": 14,
    "start_time": "2022-02-10T18:57:01.235Z"
   },
   {
    "duration": 19,
    "start_time": "2022-02-10T18:57:01.251Z"
   },
   {
    "duration": 54,
    "start_time": "2022-02-10T18:57:01.272Z"
   },
   {
    "duration": 42,
    "start_time": "2022-02-10T18:57:01.329Z"
   },
   {
    "duration": 5,
    "start_time": "2022-02-10T18:57:01.373Z"
   },
   {
    "duration": 33,
    "start_time": "2022-02-10T18:57:01.399Z"
   },
   {
    "duration": 5,
    "start_time": "2022-02-10T18:57:01.434Z"
   },
   {
    "duration": 18,
    "start_time": "2022-02-10T18:57:01.441Z"
   },
   {
    "duration": 40,
    "start_time": "2022-02-10T18:57:01.463Z"
   },
   {
    "duration": 22,
    "start_time": "2022-02-10T18:57:01.506Z"
   },
   {
    "duration": 11,
    "start_time": "2022-02-10T18:57:01.530Z"
   },
   {
    "duration": 13,
    "start_time": "2022-02-10T18:57:01.542Z"
   },
   {
    "duration": 22,
    "start_time": "2022-02-10T18:57:01.557Z"
   },
   {
    "duration": 19,
    "start_time": "2022-02-10T18:57:01.581Z"
   },
   {
    "duration": 30,
    "start_time": "2022-02-10T18:57:01.602Z"
   },
   {
    "duration": 32,
    "start_time": "2022-02-10T18:57:01.634Z"
   },
   {
    "duration": 44,
    "start_time": "2022-02-10T18:57:01.668Z"
   },
   {
    "duration": 12,
    "start_time": "2022-02-10T18:57:01.714Z"
   },
   {
    "duration": 7,
    "start_time": "2022-02-10T18:58:49.661Z"
   },
   {
    "duration": 6,
    "start_time": "2022-02-10T18:59:36.565Z"
   },
   {
    "duration": 4,
    "start_time": "2022-02-10T19:00:09.944Z"
   },
   {
    "duration": 809,
    "start_time": "2022-02-11T13:53:46.863Z"
   },
   {
    "duration": 17,
    "start_time": "2022-02-11T13:53:47.676Z"
   },
   {
    "duration": 7,
    "start_time": "2022-02-11T13:53:47.696Z"
   },
   {
    "duration": 11,
    "start_time": "2022-02-11T13:53:47.732Z"
   },
   {
    "duration": 11,
    "start_time": "2022-02-11T13:53:47.746Z"
   },
   {
    "duration": 9,
    "start_time": "2022-02-11T13:53:47.760Z"
   },
   {
    "duration": 11,
    "start_time": "2022-02-11T13:53:47.771Z"
   },
   {
    "duration": 47,
    "start_time": "2022-02-11T13:53:47.786Z"
   },
   {
    "duration": 7,
    "start_time": "2022-02-11T13:53:47.835Z"
   },
   {
    "duration": 29,
    "start_time": "2022-02-11T13:53:47.845Z"
   },
   {
    "duration": 12,
    "start_time": "2022-02-11T13:53:47.877Z"
   },
   {
    "duration": 79,
    "start_time": "2022-02-11T13:53:47.891Z"
   },
   {
    "duration": 35,
    "start_time": "2022-02-11T13:53:47.972Z"
   },
   {
    "duration": 65,
    "start_time": "2022-02-11T13:53:48.032Z"
   },
   {
    "duration": 36,
    "start_time": "2022-02-11T13:53:48.099Z"
   },
   {
    "duration": 22,
    "start_time": "2022-02-11T13:53:48.138Z"
   },
   {
    "duration": 25,
    "start_time": "2022-02-11T13:53:48.162Z"
   },
   {
    "duration": 80,
    "start_time": "2022-02-11T13:53:48.190Z"
   },
   {
    "duration": 6,
    "start_time": "2022-02-11T13:53:48.273Z"
   },
   {
    "duration": 63,
    "start_time": "2022-02-11T13:53:48.281Z"
   },
   {
    "duration": 7,
    "start_time": "2022-02-11T13:53:48.346Z"
   },
   {
    "duration": 11,
    "start_time": "2022-02-11T13:53:48.355Z"
   },
   {
    "duration": 7,
    "start_time": "2022-02-11T13:53:48.371Z"
   },
   {
    "duration": 50,
    "start_time": "2022-02-11T13:53:48.382Z"
   },
   {
    "duration": 15,
    "start_time": "2022-02-11T13:53:48.435Z"
   },
   {
    "duration": 14,
    "start_time": "2022-02-11T13:53:48.452Z"
   },
   {
    "duration": 15,
    "start_time": "2022-02-11T13:53:48.468Z"
   },
   {
    "duration": 48,
    "start_time": "2022-02-11T13:53:48.485Z"
   },
   {
    "duration": 9,
    "start_time": "2022-02-11T13:53:48.536Z"
   },
   {
    "duration": 16,
    "start_time": "2022-02-11T13:53:48.548Z"
   },
   {
    "duration": 8,
    "start_time": "2022-02-11T13:53:48.566Z"
   },
   {
    "duration": 70,
    "start_time": "2022-02-11T13:53:48.577Z"
   },
   {
    "duration": 40,
    "start_time": "2022-02-11T13:53:48.649Z"
   },
   {
    "duration": 42,
    "start_time": "2022-02-11T13:53:48.691Z"
   },
   {
    "duration": 17,
    "start_time": "2022-02-11T13:53:48.736Z"
   },
   {
    "duration": 46,
    "start_time": "2022-02-11T13:58:22.139Z"
   },
   {
    "duration": 8,
    "start_time": "2022-02-11T13:58:25.264Z"
   },
   {
    "duration": 10,
    "start_time": "2022-02-11T13:58:26.301Z"
   },
   {
    "duration": 6,
    "start_time": "2022-02-11T13:58:28.815Z"
   },
   {
    "duration": 8,
    "start_time": "2022-02-11T13:58:29.798Z"
   },
   {
    "duration": 15,
    "start_time": "2022-02-11T13:58:33.697Z"
   },
   {
    "duration": 15,
    "start_time": "2022-02-11T13:58:38.352Z"
   },
   {
    "duration": 16,
    "start_time": "2022-02-11T13:58:41.528Z"
   },
   {
    "duration": 14,
    "start_time": "2022-02-11T13:58:44.605Z"
   },
   {
    "duration": 10,
    "start_time": "2022-02-11T13:58:47.534Z"
   },
   {
    "duration": 9,
    "start_time": "2022-02-11T13:58:49.702Z"
   },
   {
    "duration": 41,
    "start_time": "2022-02-11T14:03:48.802Z"
   },
   {
    "duration": 363,
    "start_time": "2022-02-11T14:04:34.711Z"
   },
   {
    "duration": 24,
    "start_time": "2022-02-11T14:04:51.661Z"
   },
   {
    "duration": 26,
    "start_time": "2022-02-11T14:08:12.142Z"
   },
   {
    "duration": 21,
    "start_time": "2022-02-11T14:10:10.912Z"
   },
   {
    "duration": -921,
    "start_time": "2022-02-11T14:11:11.919Z"
   },
   {
    "duration": -882,
    "start_time": "2022-02-11T14:11:34.049Z"
   },
   {
    "duration": -884,
    "start_time": "2022-02-11T14:11:34.053Z"
   },
   {
    "duration": -875,
    "start_time": "2022-02-11T14:12:02.313Z"
   },
   {
    "duration": 6773,
    "start_time": "2022-02-11T14:12:14.082Z"
   },
   {
    "duration": 267,
    "start_time": "2022-02-11T14:13:08.113Z"
   },
   {
    "duration": 19,
    "start_time": "2022-02-11T14:13:18.487Z"
   },
   {
    "duration": 308,
    "start_time": "2022-02-11T15:21:52.633Z"
   },
   {
    "duration": 248,
    "start_time": "2022-02-11T15:22:10.434Z"
   },
   {
    "duration": 93,
    "start_time": "2022-02-11T15:34:22.448Z"
   },
   {
    "duration": 130,
    "start_time": "2022-02-11T15:34:41.406Z"
   },
   {
    "duration": 260,
    "start_time": "2022-02-11T15:35:45.132Z"
   },
   {
    "duration": 28,
    "start_time": "2022-02-11T15:36:36.234Z"
   },
   {
    "duration": 830,
    "start_time": "2022-02-11T15:36:46.500Z"
   },
   {
    "duration": 14,
    "start_time": "2022-02-11T15:36:47.333Z"
   },
   {
    "duration": 9,
    "start_time": "2022-02-11T15:36:47.350Z"
   },
   {
    "duration": 13,
    "start_time": "2022-02-11T15:36:47.362Z"
   },
   {
    "duration": 13,
    "start_time": "2022-02-11T15:36:47.377Z"
   },
   {
    "duration": 43,
    "start_time": "2022-02-11T15:36:47.394Z"
   },
   {
    "duration": 13,
    "start_time": "2022-02-11T15:36:47.440Z"
   },
   {
    "duration": 8,
    "start_time": "2022-02-11T15:36:47.455Z"
   },
   {
    "duration": 9,
    "start_time": "2022-02-11T15:36:47.468Z"
   },
   {
    "duration": 77,
    "start_time": "2022-02-11T15:36:47.481Z"
   },
   {
    "duration": 15,
    "start_time": "2022-02-11T15:36:47.561Z"
   },
   {
    "duration": 77,
    "start_time": "2022-02-11T15:36:47.578Z"
   },
   {
    "duration": 34,
    "start_time": "2022-02-11T15:36:47.657Z"
   },
   {
    "duration": 72,
    "start_time": "2022-02-11T15:36:47.693Z"
   },
   {
    "duration": 17,
    "start_time": "2022-02-11T15:36:47.767Z"
   },
   {
    "duration": 45,
    "start_time": "2022-02-11T15:36:47.787Z"
   },
   {
    "duration": 27,
    "start_time": "2022-02-11T15:36:47.834Z"
   },
   {
    "duration": 70,
    "start_time": "2022-02-11T15:36:47.864Z"
   },
   {
    "duration": 7,
    "start_time": "2022-02-11T15:36:47.936Z"
   },
   {
    "duration": 43,
    "start_time": "2022-02-11T15:36:47.946Z"
   },
   {
    "duration": 7,
    "start_time": "2022-02-11T15:36:47.991Z"
   },
   {
    "duration": 38,
    "start_time": "2022-02-11T15:36:48.000Z"
   },
   {
    "duration": 14,
    "start_time": "2022-02-11T15:36:48.040Z"
   },
   {
    "duration": 6,
    "start_time": "2022-02-11T15:36:48.057Z"
   },
   {
    "duration": 15,
    "start_time": "2022-02-11T15:36:48.066Z"
   },
   {
    "duration": 49,
    "start_time": "2022-02-11T15:36:48.084Z"
   },
   {
    "duration": 16,
    "start_time": "2022-02-11T15:36:48.137Z"
   },
   {
    "duration": 12,
    "start_time": "2022-02-11T15:36:48.155Z"
   },
   {
    "duration": 7,
    "start_time": "2022-02-11T15:36:48.169Z"
   },
   {
    "duration": 72,
    "start_time": "2022-02-11T15:36:48.178Z"
   },
   {
    "duration": 41,
    "start_time": "2022-02-11T15:36:48.252Z"
   },
   {
    "duration": 54,
    "start_time": "2022-02-11T15:36:48.295Z"
   },
   {
    "duration": 26,
    "start_time": "2022-02-11T15:37:11.664Z"
   },
   {
    "duration": 37,
    "start_time": "2022-02-11T15:37:20.317Z"
   },
   {
    "duration": 72,
    "start_time": "2022-02-11T15:37:23.738Z"
   },
   {
    "duration": 6,
    "start_time": "2022-02-11T15:37:32.817Z"
   },
   {
    "duration": 28,
    "start_time": "2022-02-11T15:37:38.202Z"
   },
   {
    "duration": 836,
    "start_time": "2022-02-11T15:37:49.104Z"
   },
   {
    "duration": 15,
    "start_time": "2022-02-11T15:37:49.942Z"
   },
   {
    "duration": 6,
    "start_time": "2022-02-11T15:37:49.960Z"
   },
   {
    "duration": 11,
    "start_time": "2022-02-11T15:37:49.969Z"
   },
   {
    "duration": 11,
    "start_time": "2022-02-11T15:37:49.983Z"
   },
   {
    "duration": 9,
    "start_time": "2022-02-11T15:37:50.033Z"
   },
   {
    "duration": 10,
    "start_time": "2022-02-11T15:37:50.044Z"
   },
   {
    "duration": 5,
    "start_time": "2022-02-11T15:37:50.058Z"
   },
   {
    "duration": 6,
    "start_time": "2022-02-11T15:37:50.066Z"
   },
   {
    "duration": 74,
    "start_time": "2022-02-11T15:37:50.075Z"
   },
   {
    "duration": 11,
    "start_time": "2022-02-11T15:37:50.152Z"
   },
   {
    "duration": 72,
    "start_time": "2022-02-11T15:37:50.166Z"
   },
   {
    "duration": 35,
    "start_time": "2022-02-11T15:37:50.241Z"
   },
   {
    "duration": 71,
    "start_time": "2022-02-11T15:37:50.278Z"
   },
   {
    "duration": 17,
    "start_time": "2022-02-11T15:37:50.351Z"
   },
   {
    "duration": 22,
    "start_time": "2022-02-11T15:37:50.370Z"
   },
   {
    "duration": 60,
    "start_time": "2022-02-11T15:37:50.394Z"
   },
   {
    "duration": 55,
    "start_time": "2022-02-11T15:37:50.456Z"
   },
   {
    "duration": 19,
    "start_time": "2022-02-11T15:37:50.514Z"
   },
   {
    "duration": 41,
    "start_time": "2022-02-11T15:37:50.536Z"
   },
   {
    "duration": 9,
    "start_time": "2022-02-11T15:37:50.579Z"
   },
   {
    "duration": 49,
    "start_time": "2022-02-11T15:37:50.590Z"
   },
   {
    "duration": 7,
    "start_time": "2022-02-11T15:37:50.643Z"
   },
   {
    "duration": 10,
    "start_time": "2022-02-11T15:37:50.653Z"
   },
   {
    "duration": 16,
    "start_time": "2022-02-11T15:37:50.666Z"
   },
   {
    "duration": 55,
    "start_time": "2022-02-11T15:37:50.685Z"
   },
   {
    "duration": 17,
    "start_time": "2022-02-11T15:37:50.742Z"
   },
   {
    "duration": 13,
    "start_time": "2022-02-11T15:37:50.761Z"
   },
   {
    "duration": 7,
    "start_time": "2022-02-11T15:37:50.776Z"
   },
   {
    "duration": 69,
    "start_time": "2022-02-11T15:37:50.785Z"
   },
   {
    "duration": 41,
    "start_time": "2022-02-11T15:37:50.856Z"
   },
   {
    "duration": 56,
    "start_time": "2022-02-11T15:37:50.900Z"
   },
   {
    "duration": 26,
    "start_time": "2022-02-11T15:37:58.479Z"
   },
   {
    "duration": 69,
    "start_time": "2022-02-11T15:38:46.685Z"
   },
   {
    "duration": 27,
    "start_time": "2022-02-11T15:38:49.481Z"
   },
   {
    "duration": 64,
    "start_time": "2022-02-11T15:39:02.934Z"
   },
   {
    "duration": 7,
    "start_time": "2022-02-11T15:39:06.444Z"
   },
   {
    "duration": 49,
    "start_time": "2022-02-11T15:39:10.053Z"
   },
   {
    "duration": 7,
    "start_time": "2022-02-11T15:39:14.932Z"
   },
   {
    "duration": 8,
    "start_time": "2022-02-11T15:39:19.519Z"
   },
   {
    "duration": 7,
    "start_time": "2022-02-11T15:39:20.274Z"
   },
   {
    "duration": 8,
    "start_time": "2022-02-11T15:39:23.909Z"
   },
   {
    "duration": 14,
    "start_time": "2022-02-11T15:41:32.180Z"
   },
   {
    "duration": 14,
    "start_time": "2022-02-11T15:41:32.674Z"
   },
   {
    "duration": 17,
    "start_time": "2022-02-11T15:41:36.053Z"
   },
   {
    "duration": 14,
    "start_time": "2022-02-11T15:41:38.469Z"
   },
   {
    "duration": 8,
    "start_time": "2022-02-11T15:41:41.394Z"
   },
   {
    "duration": 38,
    "start_time": "2022-02-11T15:41:44.766Z"
   },
   {
    "duration": 40,
    "start_time": "2022-02-11T15:41:49.170Z"
   },
   {
    "duration": 27,
    "start_time": "2022-02-11T15:41:53.223Z"
   },
   {
    "duration": 29,
    "start_time": "2022-02-11T15:44:11.825Z"
   },
   {
    "duration": 28,
    "start_time": "2022-02-11T15:44:52.497Z"
   },
   {
    "duration": 28,
    "start_time": "2022-02-11T15:45:01.129Z"
   },
   {
    "duration": 10,
    "start_time": "2022-02-11T15:46:02.858Z"
   },
   {
    "duration": 7,
    "start_time": "2022-02-11T15:47:25.480Z"
   },
   {
    "duration": 5,
    "start_time": "2022-02-11T15:47:35.960Z"
   },
   {
    "duration": 9,
    "start_time": "2022-02-11T15:47:47.928Z"
   },
   {
    "duration": 8,
    "start_time": "2022-02-11T15:48:16.468Z"
   },
   {
    "duration": 8,
    "start_time": "2022-02-11T15:49:37.868Z"
   },
   {
    "duration": 343,
    "start_time": "2022-02-11T15:51:55.456Z"
   },
   {
    "duration": 262,
    "start_time": "2022-02-11T15:52:34.833Z"
   },
   {
    "duration": 245,
    "start_time": "2022-02-11T15:53:07.159Z"
   },
   {
    "duration": 24,
    "start_time": "2022-02-11T15:53:18.761Z"
   },
   {
    "duration": 20,
    "start_time": "2022-02-11T16:15:04.477Z"
   },
   {
    "duration": 19,
    "start_time": "2022-02-11T16:15:19.690Z"
   },
   {
    "duration": 21,
    "start_time": "2022-02-11T16:15:47.353Z"
   },
   {
    "duration": 19,
    "start_time": "2022-02-11T16:18:27.367Z"
   },
   {
    "duration": 269,
    "start_time": "2022-02-11T16:33:30.902Z"
   },
   {
    "duration": 248,
    "start_time": "2022-02-11T16:33:47.946Z"
   },
   {
    "duration": 243,
    "start_time": "2022-02-11T16:34:19.725Z"
   },
   {
    "duration": 22,
    "start_time": "2022-02-11T16:34:30.833Z"
   },
   {
    "duration": 24,
    "start_time": "2022-02-11T16:37:47.959Z"
   },
   {
    "duration": 34,
    "start_time": "2022-02-11T16:39:33.326Z"
   },
   {
    "duration": 1155,
    "start_time": "2022-02-11T17:48:28.269Z"
   },
   {
    "duration": 17,
    "start_time": "2022-02-11T17:48:29.427Z"
   },
   {
    "duration": 5,
    "start_time": "2022-02-11T17:48:29.447Z"
   },
   {
    "duration": 11,
    "start_time": "2022-02-11T17:48:29.454Z"
   },
   {
    "duration": 11,
    "start_time": "2022-02-11T17:48:29.468Z"
   },
   {
    "duration": 51,
    "start_time": "2022-02-11T17:48:29.481Z"
   },
   {
    "duration": 10,
    "start_time": "2022-02-11T17:48:29.535Z"
   },
   {
    "duration": 5,
    "start_time": "2022-02-11T17:48:29.549Z"
   },
   {
    "duration": 12,
    "start_time": "2022-02-11T17:48:29.557Z"
   },
   {
    "duration": 73,
    "start_time": "2022-02-11T17:48:29.571Z"
   },
   {
    "duration": 12,
    "start_time": "2022-02-11T17:48:29.647Z"
   },
   {
    "duration": 51,
    "start_time": "2022-02-11T17:48:29.662Z"
   },
   {
    "duration": 33,
    "start_time": "2022-02-11T17:48:29.732Z"
   },
   {
    "duration": 66,
    "start_time": "2022-02-11T17:48:29.767Z"
   },
   {
    "duration": 16,
    "start_time": "2022-02-11T17:48:29.835Z"
   },
   {
    "duration": 21,
    "start_time": "2022-02-11T17:48:29.853Z"
   },
   {
    "duration": 80,
    "start_time": "2022-02-11T17:48:29.876Z"
   },
   {
    "duration": 6,
    "start_time": "2022-02-11T17:48:29.959Z"
   },
   {
    "duration": 66,
    "start_time": "2022-02-11T17:48:29.967Z"
   },
   {
    "duration": 8,
    "start_time": "2022-02-11T17:48:30.036Z"
   },
   {
    "duration": 20,
    "start_time": "2022-02-11T17:48:30.046Z"
   },
   {
    "duration": 10,
    "start_time": "2022-02-11T17:48:30.068Z"
   },
   {
    "duration": 12,
    "start_time": "2022-02-11T17:48:30.085Z"
   },
   {
    "duration": 42,
    "start_time": "2022-02-11T17:48:30.100Z"
   },
   {
    "duration": 14,
    "start_time": "2022-02-11T17:48:30.144Z"
   },
   {
    "duration": 32,
    "start_time": "2022-02-11T17:48:30.160Z"
   },
   {
    "duration": 43,
    "start_time": "2022-02-11T17:48:30.194Z"
   },
   {
    "duration": 7,
    "start_time": "2022-02-11T17:48:30.240Z"
   },
   {
    "duration": 69,
    "start_time": "2022-02-11T17:48:30.249Z"
   },
   {
    "duration": 41,
    "start_time": "2022-02-11T17:48:30.320Z"
   },
   {
    "duration": 480,
    "start_time": "2022-02-11T17:48:30.364Z"
   },
   {
    "duration": -1399,
    "start_time": "2022-02-11T17:48:32.245Z"
   },
   {
    "duration": -1402,
    "start_time": "2022-02-11T17:48:32.250Z"
   },
   {
    "duration": 42,
    "start_time": "2022-02-11T17:48:42.564Z"
   },
   {
    "duration": 246,
    "start_time": "2022-02-11T17:48:46.104Z"
   },
   {
    "duration": 25,
    "start_time": "2022-02-11T17:49:10.594Z"
   },
   {
    "duration": 24,
    "start_time": "2022-02-11T17:49:16.671Z"
   },
   {
    "duration": 35,
    "start_time": "2022-02-11T17:49:21.302Z"
   },
   {
    "duration": 21,
    "start_time": "2022-02-11T17:54:12.110Z"
   },
   {
    "duration": 28,
    "start_time": "2022-02-11T18:01:36.065Z"
   },
   {
    "duration": 23,
    "start_time": "2022-02-11T18:02:24.294Z"
   },
   {
    "duration": 25,
    "start_time": "2022-02-11T18:42:13.258Z"
   },
   {
    "duration": 22,
    "start_time": "2022-02-11T18:53:39.481Z"
   },
   {
    "duration": 22,
    "start_time": "2022-02-11T18:54:32.186Z"
   },
   {
    "duration": 23,
    "start_time": "2022-02-11T18:55:06.314Z"
   },
   {
    "duration": 642,
    "start_time": "2022-02-12T06:10:37.088Z"
   },
   {
    "duration": 10,
    "start_time": "2022-02-12T06:10:37.731Z"
   },
   {
    "duration": 3,
    "start_time": "2022-02-12T06:10:37.743Z"
   },
   {
    "duration": 7,
    "start_time": "2022-02-12T06:10:37.748Z"
   },
   {
    "duration": 9,
    "start_time": "2022-02-12T06:10:37.757Z"
   },
   {
    "duration": 6,
    "start_time": "2022-02-12T06:10:37.767Z"
   },
   {
    "duration": 37,
    "start_time": "2022-02-12T06:10:37.775Z"
   },
   {
    "duration": 4,
    "start_time": "2022-02-12T06:10:37.815Z"
   },
   {
    "duration": 4,
    "start_time": "2022-02-12T06:10:37.821Z"
   },
   {
    "duration": 18,
    "start_time": "2022-02-12T06:10:37.826Z"
   },
   {
    "duration": 8,
    "start_time": "2022-02-12T06:10:37.846Z"
   },
   {
    "duration": 58,
    "start_time": "2022-02-12T06:10:37.855Z"
   },
   {
    "duration": 21,
    "start_time": "2022-02-12T06:10:37.914Z"
   },
   {
    "duration": 31,
    "start_time": "2022-02-12T06:10:37.937Z"
   },
   {
    "duration": 11,
    "start_time": "2022-02-12T06:10:37.969Z"
   },
   {
    "duration": 39,
    "start_time": "2022-02-12T06:10:37.981Z"
   },
   {
    "duration": 33,
    "start_time": "2022-02-12T06:10:38.021Z"
   },
   {
    "duration": 4,
    "start_time": "2022-02-12T06:10:38.056Z"
   },
   {
    "duration": 52,
    "start_time": "2022-02-12T06:10:38.061Z"
   },
   {
    "duration": 5,
    "start_time": "2022-02-12T06:10:38.114Z"
   },
   {
    "duration": 7,
    "start_time": "2022-02-12T06:10:38.120Z"
   },
   {
    "duration": 5,
    "start_time": "2022-02-12T06:10:38.128Z"
   },
   {
    "duration": 4,
    "start_time": "2022-02-12T06:10:38.136Z"
   },
   {
    "duration": 8,
    "start_time": "2022-02-12T06:10:38.142Z"
   },
   {
    "duration": 9,
    "start_time": "2022-02-12T06:10:38.152Z"
   },
   {
    "duration": 10,
    "start_time": "2022-02-12T06:10:38.162Z"
   },
   {
    "duration": 9,
    "start_time": "2022-02-12T06:10:38.212Z"
   },
   {
    "duration": 5,
    "start_time": "2022-02-12T06:10:38.223Z"
   },
   {
    "duration": 23,
    "start_time": "2022-02-12T06:10:38.229Z"
   },
   {
    "duration": 25,
    "start_time": "2022-02-12T06:10:38.253Z"
   },
   {
    "duration": 47,
    "start_time": "2022-02-12T06:10:38.280Z"
   },
   {
    "duration": 14,
    "start_time": "2022-02-12T06:10:38.329Z"
   },
   {
    "duration": 13,
    "start_time": "2022-02-12T06:10:38.344Z"
   },
   {
    "duration": 14,
    "start_time": "2022-02-12T06:10:38.359Z"
   },
   {
    "duration": 12,
    "start_time": "2022-02-12T06:35:56.218Z"
   },
   {
    "duration": 609,
    "start_time": "2022-02-12T07:02:29.837Z"
   },
   {
    "duration": 10,
    "start_time": "2022-02-12T07:02:30.448Z"
   },
   {
    "duration": 3,
    "start_time": "2022-02-12T07:02:30.463Z"
   },
   {
    "duration": 12,
    "start_time": "2022-02-12T07:02:30.468Z"
   },
   {
    "duration": 31,
    "start_time": "2022-02-12T07:02:30.481Z"
   },
   {
    "duration": 7,
    "start_time": "2022-02-12T07:02:30.514Z"
   },
   {
    "duration": 9,
    "start_time": "2022-02-12T07:02:30.523Z"
   },
   {
    "duration": 14,
    "start_time": "2022-02-12T07:02:30.534Z"
   },
   {
    "duration": 21,
    "start_time": "2022-02-12T07:02:30.550Z"
   },
   {
    "duration": 23,
    "start_time": "2022-02-12T07:02:30.573Z"
   },
   {
    "duration": 13,
    "start_time": "2022-02-12T07:02:30.599Z"
   },
   {
    "duration": 36,
    "start_time": "2022-02-12T07:02:30.614Z"
   },
   {
    "duration": 22,
    "start_time": "2022-02-12T07:02:30.652Z"
   },
   {
    "duration": 48,
    "start_time": "2022-02-12T07:02:30.676Z"
   },
   {
    "duration": 13,
    "start_time": "2022-02-12T07:02:30.726Z"
   },
   {
    "duration": 15,
    "start_time": "2022-02-12T07:02:30.741Z"
   },
   {
    "duration": 58,
    "start_time": "2022-02-12T07:02:30.758Z"
   },
   {
    "duration": 5,
    "start_time": "2022-02-12T07:02:30.819Z"
   },
   {
    "duration": 35,
    "start_time": "2022-02-12T07:02:30.825Z"
   },
   {
    "duration": 4,
    "start_time": "2022-02-12T07:02:30.862Z"
   },
   {
    "duration": 8,
    "start_time": "2022-02-12T07:02:30.868Z"
   },
   {
    "duration": 5,
    "start_time": "2022-02-12T07:02:30.879Z"
   },
   {
    "duration": 5,
    "start_time": "2022-02-12T07:02:30.913Z"
   },
   {
    "duration": 10,
    "start_time": "2022-02-12T07:02:30.920Z"
   },
   {
    "duration": 10,
    "start_time": "2022-02-12T07:02:30.932Z"
   },
   {
    "duration": 17,
    "start_time": "2022-02-12T07:02:30.943Z"
   },
   {
    "duration": 10,
    "start_time": "2022-02-12T07:02:30.961Z"
   },
   {
    "duration": 4,
    "start_time": "2022-02-12T07:02:30.973Z"
   },
   {
    "duration": 53,
    "start_time": "2022-02-12T07:02:30.979Z"
   },
   {
    "duration": 28,
    "start_time": "2022-02-12T07:02:31.033Z"
   },
   {
    "duration": 17,
    "start_time": "2022-02-12T07:02:31.062Z"
   },
   {
    "duration": 39,
    "start_time": "2022-02-12T07:02:31.081Z"
   },
   {
    "duration": 14,
    "start_time": "2022-02-12T07:02:31.122Z"
   },
   {
    "duration": 13,
    "start_time": "2022-02-12T07:02:31.137Z"
   },
   {
    "duration": 257,
    "start_time": "2022-02-12T08:19:35.041Z"
   },
   {
    "duration": 473,
    "start_time": "2022-02-12T08:19:47.001Z"
   },
   {
    "duration": 486,
    "start_time": "2022-02-12T08:19:57.634Z"
   },
   {
    "duration": 41,
    "start_time": "2022-02-12T08:20:23.794Z"
   },
   {
    "duration": 203,
    "start_time": "2022-02-12T08:21:29.576Z"
   },
   {
    "duration": 41,
    "start_time": "2022-02-12T08:22:03.748Z"
   },
   {
    "duration": 66,
    "start_time": "2022-02-12T08:23:40.028Z"
   },
   {
    "duration": 38,
    "start_time": "2022-02-12T08:23:49.052Z"
   },
   {
    "duration": 75,
    "start_time": "2022-02-12T08:27:32.976Z"
   },
   {
    "duration": 11,
    "start_time": "2022-02-12T08:27:47.791Z"
   },
   {
    "duration": 14,
    "start_time": "2022-02-12T08:28:34.729Z"
   },
   {
    "duration": 17,
    "start_time": "2022-02-12T08:28:45.247Z"
   },
   {
    "duration": 17,
    "start_time": "2022-02-12T08:29:01.917Z"
   },
   {
    "duration": 647,
    "start_time": "2022-02-12T09:56:15.514Z"
   },
   {
    "duration": 10,
    "start_time": "2022-02-12T09:56:16.163Z"
   },
   {
    "duration": 4,
    "start_time": "2022-02-12T09:56:16.176Z"
   },
   {
    "duration": 12,
    "start_time": "2022-02-12T09:56:16.181Z"
   },
   {
    "duration": 9,
    "start_time": "2022-02-12T09:56:16.212Z"
   },
   {
    "duration": 8,
    "start_time": "2022-02-12T09:56:16.223Z"
   },
   {
    "duration": 7,
    "start_time": "2022-02-12T09:56:16.233Z"
   },
   {
    "duration": 4,
    "start_time": "2022-02-12T09:56:16.243Z"
   },
   {
    "duration": 7,
    "start_time": "2022-02-12T09:56:16.249Z"
   },
   {
    "duration": 21,
    "start_time": "2022-02-12T09:56:16.257Z"
   },
   {
    "duration": 39,
    "start_time": "2022-02-12T09:56:16.280Z"
   },
   {
    "duration": 31,
    "start_time": "2022-02-12T09:56:16.321Z"
   },
   {
    "duration": 23,
    "start_time": "2022-02-12T09:56:16.353Z"
   },
   {
    "duration": 55,
    "start_time": "2022-02-12T09:56:16.377Z"
   },
   {
    "duration": 12,
    "start_time": "2022-02-12T09:56:16.434Z"
   },
   {
    "duration": 15,
    "start_time": "2022-02-12T09:56:16.447Z"
   },
   {
    "duration": 55,
    "start_time": "2022-02-12T09:56:16.463Z"
   },
   {
    "duration": 5,
    "start_time": "2022-02-12T09:56:16.520Z"
   },
   {
    "duration": 27,
    "start_time": "2022-02-12T09:56:16.526Z"
   },
   {
    "duration": 4,
    "start_time": "2022-02-12T09:56:16.555Z"
   },
   {
    "duration": 7,
    "start_time": "2022-02-12T09:56:16.560Z"
   },
   {
    "duration": 4,
    "start_time": "2022-02-12T09:56:16.569Z"
   },
   {
    "duration": 37,
    "start_time": "2022-02-12T09:56:16.576Z"
   },
   {
    "duration": 10,
    "start_time": "2022-02-12T09:56:16.615Z"
   },
   {
    "duration": 11,
    "start_time": "2022-02-12T09:56:16.626Z"
   },
   {
    "duration": 14,
    "start_time": "2022-02-12T09:56:16.639Z"
   },
   {
    "duration": 9,
    "start_time": "2022-02-12T09:56:16.654Z"
   },
   {
    "duration": 5,
    "start_time": "2022-02-12T09:56:16.664Z"
   },
   {
    "duration": 57,
    "start_time": "2022-02-12T09:56:16.670Z"
   },
   {
    "duration": 26,
    "start_time": "2022-02-12T09:56:16.728Z"
   },
   {
    "duration": 18,
    "start_time": "2022-02-12T09:56:16.755Z"
   },
   {
    "duration": 38,
    "start_time": "2022-02-12T09:56:16.775Z"
   },
   {
    "duration": 16,
    "start_time": "2022-02-12T09:56:16.814Z"
   },
   {
    "duration": 19,
    "start_time": "2022-02-12T09:56:16.832Z"
   },
   {
    "duration": 644,
    "start_time": "2022-02-12T10:33:15.288Z"
   },
   {
    "duration": 13,
    "start_time": "2022-02-12T10:33:15.935Z"
   },
   {
    "duration": 4,
    "start_time": "2022-02-12T10:33:15.950Z"
   },
   {
    "duration": 8,
    "start_time": "2022-02-12T10:33:15.956Z"
   },
   {
    "duration": 12,
    "start_time": "2022-02-12T10:33:15.966Z"
   },
   {
    "duration": 36,
    "start_time": "2022-02-12T10:33:15.982Z"
   },
   {
    "duration": 12,
    "start_time": "2022-02-12T10:33:16.021Z"
   },
   {
    "duration": 6,
    "start_time": "2022-02-12T10:33:16.035Z"
   },
   {
    "duration": 6,
    "start_time": "2022-02-12T10:33:16.042Z"
   },
   {
    "duration": 20,
    "start_time": "2022-02-12T10:33:16.050Z"
   },
   {
    "duration": 51,
    "start_time": "2022-02-12T10:33:16.072Z"
   },
   {
    "duration": 33,
    "start_time": "2022-02-12T10:33:16.127Z"
   },
   {
    "duration": 22,
    "start_time": "2022-02-12T10:33:16.161Z"
   },
   {
    "duration": 67,
    "start_time": "2022-02-12T10:33:16.185Z"
   },
   {
    "duration": 11,
    "start_time": "2022-02-12T10:33:16.254Z"
   },
   {
    "duration": 16,
    "start_time": "2022-02-12T10:33:16.267Z"
   },
   {
    "duration": 60,
    "start_time": "2022-02-12T10:33:16.285Z"
   },
   {
    "duration": 5,
    "start_time": "2022-02-12T10:33:16.348Z"
   },
   {
    "duration": 33,
    "start_time": "2022-02-12T10:33:16.355Z"
   },
   {
    "duration": 25,
    "start_time": "2022-02-12T10:33:16.390Z"
   },
   {
    "duration": 19,
    "start_time": "2022-02-12T10:33:16.416Z"
   },
   {
    "duration": 14,
    "start_time": "2022-02-12T10:33:16.437Z"
   },
   {
    "duration": 32,
    "start_time": "2022-02-12T10:33:16.453Z"
   },
   {
    "duration": 23,
    "start_time": "2022-02-12T10:33:16.487Z"
   },
   {
    "duration": 17,
    "start_time": "2022-02-12T10:33:16.512Z"
   },
   {
    "duration": 31,
    "start_time": "2022-02-12T10:33:16.531Z"
   },
   {
    "duration": 9,
    "start_time": "2022-02-12T10:33:16.564Z"
   },
   {
    "duration": 20,
    "start_time": "2022-02-12T10:33:16.575Z"
   },
   {
    "duration": 56,
    "start_time": "2022-02-12T10:33:16.596Z"
   },
   {
    "duration": 51,
    "start_time": "2022-02-12T10:33:16.654Z"
   },
   {
    "duration": 27,
    "start_time": "2022-02-12T10:33:16.707Z"
   },
   {
    "duration": 22,
    "start_time": "2022-02-12T10:33:16.736Z"
   },
   {
    "duration": 27,
    "start_time": "2022-02-12T10:33:16.759Z"
   },
   {
    "duration": 28,
    "start_time": "2022-02-12T10:33:16.788Z"
   },
   {
    "duration": 486,
    "start_time": "2022-02-12T10:38:04.183Z"
   },
   {
    "duration": 290,
    "start_time": "2022-02-12T10:39:33.833Z"
   },
   {
    "duration": 28,
    "start_time": "2022-02-12T10:39:46.286Z"
   },
   {
    "duration": 19,
    "start_time": "2022-02-12T10:40:05.335Z"
   },
   {
    "duration": 30,
    "start_time": "2022-02-12T10:41:09.361Z"
   },
   {
    "duration": 19,
    "start_time": "2022-02-12T10:51:23.610Z"
   },
   {
    "duration": 4494,
    "start_time": "2022-02-12T12:07:52.176Z"
   },
   {
    "duration": 14,
    "start_time": "2022-02-12T12:08:17.571Z"
   },
   {
    "duration": 11,
    "start_time": "2022-02-12T14:33:36.285Z"
   },
   {
    "duration": 16,
    "start_time": "2022-02-12T14:33:48.922Z"
   },
   {
    "duration": 192,
    "start_time": "2022-02-12T14:34:46.802Z"
   },
   {
    "duration": 673,
    "start_time": "2022-02-12T14:35:00.811Z"
   },
   {
    "duration": 11,
    "start_time": "2022-02-12T14:35:01.486Z"
   },
   {
    "duration": 14,
    "start_time": "2022-02-12T14:35:01.499Z"
   },
   {
    "duration": 8,
    "start_time": "2022-02-12T14:35:01.515Z"
   },
   {
    "duration": 10,
    "start_time": "2022-02-12T14:35:01.525Z"
   },
   {
    "duration": 8,
    "start_time": "2022-02-12T14:35:01.538Z"
   },
   {
    "duration": 8,
    "start_time": "2022-02-12T14:35:01.548Z"
   },
   {
    "duration": 5,
    "start_time": "2022-02-12T14:35:01.560Z"
   },
   {
    "duration": 48,
    "start_time": "2022-02-12T14:35:01.567Z"
   },
   {
    "duration": 20,
    "start_time": "2022-02-12T14:35:01.617Z"
   },
   {
    "duration": 9,
    "start_time": "2022-02-12T14:35:01.638Z"
   },
   {
    "duration": 32,
    "start_time": "2022-02-12T14:35:01.649Z"
   },
   {
    "duration": 59,
    "start_time": "2022-02-12T14:35:01.682Z"
   },
   {
    "duration": 31,
    "start_time": "2022-02-12T14:35:01.743Z"
   },
   {
    "duration": 37,
    "start_time": "2022-02-12T14:35:01.775Z"
   },
   {
    "duration": 15,
    "start_time": "2022-02-12T14:35:01.814Z"
   },
   {
    "duration": 34,
    "start_time": "2022-02-12T14:35:01.831Z"
   },
   {
    "duration": 4,
    "start_time": "2022-02-12T14:35:01.867Z"
   },
   {
    "duration": 51,
    "start_time": "2022-02-12T14:35:01.873Z"
   },
   {
    "duration": 4,
    "start_time": "2022-02-12T14:35:01.926Z"
   },
   {
    "duration": 10,
    "start_time": "2022-02-12T14:35:01.931Z"
   },
   {
    "duration": 5,
    "start_time": "2022-02-12T14:35:01.942Z"
   },
   {
    "duration": 5,
    "start_time": "2022-02-12T14:35:01.950Z"
   },
   {
    "duration": 12,
    "start_time": "2022-02-12T14:35:01.956Z"
   },
   {
    "duration": 15,
    "start_time": "2022-02-12T14:35:01.969Z"
   },
   {
    "duration": 36,
    "start_time": "2022-02-12T14:35:01.986Z"
   },
   {
    "duration": 16,
    "start_time": "2022-02-12T14:35:02.024Z"
   },
   {
    "duration": 6,
    "start_time": "2022-02-12T14:35:02.041Z"
   },
   {
    "duration": 25,
    "start_time": "2022-02-12T14:35:02.049Z"
   },
   {
    "duration": 48,
    "start_time": "2022-02-12T14:35:02.077Z"
   },
   {
    "duration": 19,
    "start_time": "2022-02-12T14:35:02.127Z"
   },
   {
    "duration": 255,
    "start_time": "2022-02-12T14:35:02.147Z"
   },
   {
    "duration": -1521,
    "start_time": "2022-02-12T14:35:03.925Z"
   },
   {
    "duration": -1524,
    "start_time": "2022-02-12T14:35:03.930Z"
   },
   {
    "duration": 29,
    "start_time": "2022-02-12T14:37:09.649Z"
   },
   {
    "duration": 28,
    "start_time": "2022-02-12T14:37:20.607Z"
   },
   {
    "duration": 721,
    "start_time": "2022-02-12T14:37:35.228Z"
   },
   {
    "duration": 10,
    "start_time": "2022-02-12T14:37:35.952Z"
   },
   {
    "duration": 5,
    "start_time": "2022-02-12T14:37:35.964Z"
   },
   {
    "duration": 11,
    "start_time": "2022-02-12T14:37:35.971Z"
   },
   {
    "duration": 9,
    "start_time": "2022-02-12T14:37:35.983Z"
   },
   {
    "duration": 24,
    "start_time": "2022-02-12T14:37:35.994Z"
   },
   {
    "duration": 6,
    "start_time": "2022-02-12T14:37:36.019Z"
   },
   {
    "duration": 3,
    "start_time": "2022-02-12T14:37:36.028Z"
   },
   {
    "duration": 4,
    "start_time": "2022-02-12T14:37:36.033Z"
   },
   {
    "duration": 19,
    "start_time": "2022-02-12T14:37:36.038Z"
   },
   {
    "duration": 8,
    "start_time": "2022-02-12T14:37:36.059Z"
   },
   {
    "duration": 70,
    "start_time": "2022-02-12T14:37:36.068Z"
   },
   {
    "duration": 21,
    "start_time": "2022-02-12T14:37:36.139Z"
   },
   {
    "duration": 30,
    "start_time": "2022-02-12T14:37:36.162Z"
   },
   {
    "duration": 28,
    "start_time": "2022-02-12T14:37:36.194Z"
   },
   {
    "duration": 16,
    "start_time": "2022-02-12T14:37:36.223Z"
   },
   {
    "duration": 34,
    "start_time": "2022-02-12T14:37:36.240Z"
   },
   {
    "duration": 4,
    "start_time": "2022-02-12T14:37:36.276Z"
   },
   {
    "duration": 53,
    "start_time": "2022-02-12T14:37:36.281Z"
   },
   {
    "duration": 4,
    "start_time": "2022-02-12T14:37:36.335Z"
   },
   {
    "duration": 8,
    "start_time": "2022-02-12T14:37:36.340Z"
   },
   {
    "duration": 5,
    "start_time": "2022-02-12T14:37:36.350Z"
   },
   {
    "duration": 11,
    "start_time": "2022-02-12T14:37:36.358Z"
   },
   {
    "duration": 45,
    "start_time": "2022-02-12T14:37:36.371Z"
   },
   {
    "duration": 10,
    "start_time": "2022-02-12T14:37:36.418Z"
   },
   {
    "duration": 10,
    "start_time": "2022-02-12T14:37:36.430Z"
   },
   {
    "duration": 10,
    "start_time": "2022-02-12T14:37:36.441Z"
   },
   {
    "duration": 7,
    "start_time": "2022-02-12T14:37:36.453Z"
   },
   {
    "duration": 62,
    "start_time": "2022-02-12T14:37:36.462Z"
   },
   {
    "duration": 30,
    "start_time": "2022-02-12T14:37:36.526Z"
   },
   {
    "duration": 20,
    "start_time": "2022-02-12T14:37:36.558Z"
   },
   {
    "duration": 47,
    "start_time": "2022-02-12T14:37:36.580Z"
   },
   {
    "duration": 18,
    "start_time": "2022-02-12T14:37:36.629Z"
   },
   {
    "duration": 20,
    "start_time": "2022-02-12T14:37:36.649Z"
   },
   {
    "duration": 16,
    "start_time": "2022-02-12T14:38:26.273Z"
   },
   {
    "duration": 15,
    "start_time": "2022-02-12T14:38:53.844Z"
   },
   {
    "duration": 16,
    "start_time": "2022-02-12T14:39:54.975Z"
   },
   {
    "duration": 15,
    "start_time": "2022-02-12T14:40:14.029Z"
   },
   {
    "duration": 15,
    "start_time": "2022-02-12T14:44:38.057Z"
   },
   {
    "duration": 656,
    "start_time": "2022-02-12T16:04:48.317Z"
   },
   {
    "duration": 19,
    "start_time": "2022-02-12T16:04:48.975Z"
   },
   {
    "duration": 5,
    "start_time": "2022-02-12T16:04:48.996Z"
   },
   {
    "duration": 25,
    "start_time": "2022-02-12T16:04:49.003Z"
   },
   {
    "duration": 10,
    "start_time": "2022-02-12T16:04:49.029Z"
   },
   {
    "duration": 7,
    "start_time": "2022-02-12T16:04:49.040Z"
   },
   {
    "duration": 7,
    "start_time": "2022-02-12T16:04:49.049Z"
   },
   {
    "duration": 4,
    "start_time": "2022-02-12T16:04:49.058Z"
   },
   {
    "duration": 55,
    "start_time": "2022-02-12T16:04:49.064Z"
   },
   {
    "duration": 18,
    "start_time": "2022-02-12T16:04:49.121Z"
   },
   {
    "duration": 10,
    "start_time": "2022-02-12T16:04:49.141Z"
   },
   {
    "duration": 30,
    "start_time": "2022-02-12T16:04:49.152Z"
   },
   {
    "duration": 51,
    "start_time": "2022-02-12T16:04:49.184Z"
   },
   {
    "duration": 33,
    "start_time": "2022-02-12T16:04:49.237Z"
   },
   {
    "duration": 13,
    "start_time": "2022-02-12T16:04:49.272Z"
   },
   {
    "duration": 17,
    "start_time": "2022-02-12T16:04:49.318Z"
   },
   {
    "duration": 38,
    "start_time": "2022-02-12T16:04:49.337Z"
   },
   {
    "duration": 7,
    "start_time": "2022-02-12T16:04:49.377Z"
   },
   {
    "duration": 65,
    "start_time": "2022-02-12T16:04:49.386Z"
   },
   {
    "duration": 6,
    "start_time": "2022-02-12T16:04:49.453Z"
   },
   {
    "duration": 15,
    "start_time": "2022-02-12T16:04:49.460Z"
   },
   {
    "duration": 49,
    "start_time": "2022-02-12T16:04:49.477Z"
   },
   {
    "duration": 14,
    "start_time": "2022-02-12T16:04:49.530Z"
   },
   {
    "duration": 21,
    "start_time": "2022-02-12T16:04:49.547Z"
   },
   {
    "duration": 18,
    "start_time": "2022-02-12T16:04:49.570Z"
   },
   {
    "duration": 17,
    "start_time": "2022-02-12T16:04:49.590Z"
   },
   {
    "duration": 23,
    "start_time": "2022-02-12T16:04:49.609Z"
   },
   {
    "duration": 18,
    "start_time": "2022-02-12T16:04:49.634Z"
   },
   {
    "duration": 30,
    "start_time": "2022-02-12T16:04:49.654Z"
   },
   {
    "duration": 32,
    "start_time": "2022-02-12T16:04:49.687Z"
   },
   {
    "duration": 18,
    "start_time": "2022-02-12T16:04:49.721Z"
   },
   {
    "duration": 24,
    "start_time": "2022-02-12T16:04:49.741Z"
   },
   {
    "duration": 14,
    "start_time": "2022-02-12T16:04:49.767Z"
   },
   {
    "duration": 45,
    "start_time": "2022-02-12T16:04:49.782Z"
   },
   {
    "duration": 6,
    "start_time": "2022-02-12T16:14:01.230Z"
   },
   {
    "duration": 5,
    "start_time": "2022-02-12T16:16:04.718Z"
   },
   {
    "duration": 633,
    "start_time": "2022-02-12T16:16:16.872Z"
   },
   {
    "duration": 12,
    "start_time": "2022-02-12T16:16:17.507Z"
   },
   {
    "duration": 10,
    "start_time": "2022-02-12T16:16:17.521Z"
   },
   {
    "duration": 27,
    "start_time": "2022-02-12T16:16:17.534Z"
   },
   {
    "duration": 17,
    "start_time": "2022-02-12T16:16:17.563Z"
   },
   {
    "duration": 10,
    "start_time": "2022-02-12T16:16:17.582Z"
   },
   {
    "duration": 15,
    "start_time": "2022-02-12T16:16:17.593Z"
   },
   {
    "duration": 5,
    "start_time": "2022-02-12T16:16:17.619Z"
   },
   {
    "duration": 15,
    "start_time": "2022-02-12T16:16:17.626Z"
   },
   {
    "duration": 36,
    "start_time": "2022-02-12T16:16:17.643Z"
   },
   {
    "duration": 10,
    "start_time": "2022-02-12T16:16:17.681Z"
   },
   {
    "duration": 43,
    "start_time": "2022-02-12T16:16:17.693Z"
   },
   {
    "duration": 25,
    "start_time": "2022-02-12T16:16:17.738Z"
   },
   {
    "duration": 62,
    "start_time": "2022-02-12T16:16:17.765Z"
   },
   {
    "duration": 13,
    "start_time": "2022-02-12T16:16:17.830Z"
   },
   {
    "duration": 18,
    "start_time": "2022-02-12T16:16:17.845Z"
   },
   {
    "duration": 64,
    "start_time": "2022-02-12T16:16:17.865Z"
   },
   {
    "duration": 7,
    "start_time": "2022-02-12T16:16:17.931Z"
   },
   {
    "duration": 40,
    "start_time": "2022-02-12T16:16:17.940Z"
   },
   {
    "duration": 6,
    "start_time": "2022-02-12T16:16:17.983Z"
   },
   {
    "duration": 36,
    "start_time": "2022-02-12T16:16:17.991Z"
   },
   {
    "duration": 24,
    "start_time": "2022-02-12T16:16:18.029Z"
   },
   {
    "duration": 24,
    "start_time": "2022-02-12T16:16:18.058Z"
   },
   {
    "duration": 46,
    "start_time": "2022-02-12T16:16:18.084Z"
   },
   {
    "duration": 20,
    "start_time": "2022-02-12T16:16:18.132Z"
   },
   {
    "duration": 30,
    "start_time": "2022-02-12T16:16:18.154Z"
   },
   {
    "duration": 15,
    "start_time": "2022-02-12T16:16:18.186Z"
   },
   {
    "duration": 24,
    "start_time": "2022-02-12T16:16:18.203Z"
   },
   {
    "duration": 37,
    "start_time": "2022-02-12T16:16:18.229Z"
   },
   {
    "duration": 44,
    "start_time": "2022-02-12T16:16:18.268Z"
   },
   {
    "duration": 27,
    "start_time": "2022-02-12T16:16:18.314Z"
   },
   {
    "duration": 31,
    "start_time": "2022-02-12T16:16:18.343Z"
   },
   {
    "duration": 23,
    "start_time": "2022-02-12T16:16:18.375Z"
   },
   {
    "duration": 31,
    "start_time": "2022-02-12T16:16:18.400Z"
   },
   {
    "duration": 6,
    "start_time": "2022-02-12T16:18:35.302Z"
   },
   {
    "duration": 6,
    "start_time": "2022-02-12T16:19:04.976Z"
   },
   {
    "duration": 23,
    "start_time": "2022-02-12T16:19:24.437Z"
   },
   {
    "duration": 669,
    "start_time": "2022-02-12T16:19:45.421Z"
   },
   {
    "duration": 12,
    "start_time": "2022-02-12T16:19:46.092Z"
   },
   {
    "duration": 4,
    "start_time": "2022-02-12T16:19:46.106Z"
   },
   {
    "duration": 8,
    "start_time": "2022-02-12T16:19:46.119Z"
   },
   {
    "duration": 9,
    "start_time": "2022-02-12T16:19:46.129Z"
   },
   {
    "duration": 7,
    "start_time": "2022-02-12T16:19:46.140Z"
   },
   {
    "duration": 8,
    "start_time": "2022-02-12T16:19:46.148Z"
   },
   {
    "duration": 4,
    "start_time": "2022-02-12T16:19:46.159Z"
   },
   {
    "duration": 4,
    "start_time": "2022-02-12T16:19:46.165Z"
   },
   {
    "duration": 64,
    "start_time": "2022-02-12T16:19:46.171Z"
   },
   {
    "duration": 9,
    "start_time": "2022-02-12T16:19:46.237Z"
   },
   {
    "duration": 31,
    "start_time": "2022-02-12T16:19:46.247Z"
   },
   {
    "duration": 55,
    "start_time": "2022-02-12T16:19:46.280Z"
   },
   {
    "duration": 33,
    "start_time": "2022-02-12T16:19:46.337Z"
   },
   {
    "duration": 14,
    "start_time": "2022-02-12T16:19:46.372Z"
   },
   {
    "duration": 40,
    "start_time": "2022-02-12T16:19:46.388Z"
   },
   {
    "duration": 34,
    "start_time": "2022-02-12T16:19:46.430Z"
   },
   {
    "duration": 5,
    "start_time": "2022-02-12T16:19:46.465Z"
   },
   {
    "duration": 57,
    "start_time": "2022-02-12T16:19:46.472Z"
   },
   {
    "duration": 4,
    "start_time": "2022-02-12T16:19:46.531Z"
   },
   {
    "duration": 8,
    "start_time": "2022-02-12T16:19:46.537Z"
   },
   {
    "duration": 5,
    "start_time": "2022-02-12T16:19:46.547Z"
   },
   {
    "duration": 10,
    "start_time": "2022-02-12T16:19:46.555Z"
   },
   {
    "duration": 15,
    "start_time": "2022-02-12T16:19:46.566Z"
   },
   {
    "duration": 42,
    "start_time": "2022-02-12T16:19:46.583Z"
   },
   {
    "duration": 10,
    "start_time": "2022-02-12T16:19:46.627Z"
   },
   {
    "duration": 9,
    "start_time": "2022-02-12T16:19:46.638Z"
   },
   {
    "duration": 4,
    "start_time": "2022-02-12T16:19:46.649Z"
   },
   {
    "duration": 24,
    "start_time": "2022-02-12T16:19:46.655Z"
   },
   {
    "duration": 28,
    "start_time": "2022-02-12T16:19:46.719Z"
   },
   {
    "duration": 22,
    "start_time": "2022-02-12T16:19:46.749Z"
   },
   {
    "duration": 15,
    "start_time": "2022-02-12T16:19:46.773Z"
   },
   {
    "duration": 15,
    "start_time": "2022-02-12T16:19:46.819Z"
   },
   {
    "duration": 15,
    "start_time": "2022-02-12T16:19:46.836Z"
   },
   {
    "duration": 5,
    "start_time": "2022-02-12T16:20:11.189Z"
   },
   {
    "duration": 5,
    "start_time": "2022-02-12T16:20:13.950Z"
   },
   {
    "duration": 22,
    "start_time": "2022-02-12T16:20:16.375Z"
   },
   {
    "duration": 5,
    "start_time": "2022-02-12T16:20:26.829Z"
   },
   {
    "duration": 6,
    "start_time": "2022-02-12T16:20:29.214Z"
   },
   {
    "duration": 21,
    "start_time": "2022-02-12T16:20:30.966Z"
   },
   {
    "duration": 4,
    "start_time": "2022-02-12T16:20:53.009Z"
   },
   {
    "duration": 4,
    "start_time": "2022-02-12T16:20:54.765Z"
   },
   {
    "duration": 22,
    "start_time": "2022-02-12T16:21:09.433Z"
   },
   {
    "duration": 5,
    "start_time": "2022-02-12T16:21:22.576Z"
   },
   {
    "duration": 7,
    "start_time": "2022-02-12T16:21:31.287Z"
   },
   {
    "duration": 28,
    "start_time": "2022-02-12T16:21:34.438Z"
   },
   {
    "duration": 22,
    "start_time": "2022-02-12T16:21:45.338Z"
   },
   {
    "duration": 658,
    "start_time": "2022-02-12T16:23:22.435Z"
   },
   {
    "duration": 11,
    "start_time": "2022-02-12T16:23:23.096Z"
   },
   {
    "duration": 26,
    "start_time": "2022-02-12T16:23:23.109Z"
   },
   {
    "duration": 17,
    "start_time": "2022-02-12T16:23:23.137Z"
   },
   {
    "duration": 19,
    "start_time": "2022-02-12T16:23:23.156Z"
   },
   {
    "duration": 8,
    "start_time": "2022-02-12T16:23:23.177Z"
   },
   {
    "duration": 18,
    "start_time": "2022-02-12T16:23:23.187Z"
   },
   {
    "duration": 13,
    "start_time": "2022-02-12T16:23:23.207Z"
   },
   {
    "duration": 15,
    "start_time": "2022-02-12T16:23:23.222Z"
   },
   {
    "duration": 32,
    "start_time": "2022-02-12T16:23:23.240Z"
   },
   {
    "duration": 10,
    "start_time": "2022-02-12T16:23:23.274Z"
   },
   {
    "duration": 46,
    "start_time": "2022-02-12T16:23:23.286Z"
   },
   {
    "duration": 24,
    "start_time": "2022-02-12T16:23:23.334Z"
   },
   {
    "duration": 33,
    "start_time": "2022-02-12T16:23:23.360Z"
   },
   {
    "duration": 35,
    "start_time": "2022-02-12T16:23:23.396Z"
   },
   {
    "duration": 25,
    "start_time": "2022-02-12T16:23:23.433Z"
   },
   {
    "duration": 62,
    "start_time": "2022-02-12T16:23:23.460Z"
   },
   {
    "duration": 6,
    "start_time": "2022-02-12T16:23:23.525Z"
   },
   {
    "duration": 37,
    "start_time": "2022-02-12T16:23:23.533Z"
   },
   {
    "duration": 6,
    "start_time": "2022-02-12T16:23:23.572Z"
   },
   {
    "duration": 21,
    "start_time": "2022-02-12T16:23:23.580Z"
   },
   {
    "duration": 6,
    "start_time": "2022-02-12T16:23:23.618Z"
   },
   {
    "duration": 15,
    "start_time": "2022-02-12T16:23:23.626Z"
   },
   {
    "duration": 14,
    "start_time": "2022-02-12T16:23:23.643Z"
   },
   {
    "duration": 23,
    "start_time": "2022-02-12T16:23:23.659Z"
   },
   {
    "duration": 19,
    "start_time": "2022-02-12T16:23:23.684Z"
   },
   {
    "duration": 17,
    "start_time": "2022-02-12T16:23:23.706Z"
   },
   {
    "duration": 8,
    "start_time": "2022-02-12T16:23:23.725Z"
   },
   {
    "duration": 48,
    "start_time": "2022-02-12T16:23:23.735Z"
   },
   {
    "duration": 38,
    "start_time": "2022-02-12T16:23:23.785Z"
   },
   {
    "duration": 29,
    "start_time": "2022-02-12T16:23:23.825Z"
   },
   {
    "duration": 27,
    "start_time": "2022-02-12T16:23:23.856Z"
   },
   {
    "duration": 15,
    "start_time": "2022-02-12T16:23:23.885Z"
   },
   {
    "duration": 26,
    "start_time": "2022-02-12T16:23:23.901Z"
   },
   {
    "duration": 5,
    "start_time": "2022-02-12T16:24:29.268Z"
   },
   {
    "duration": 6,
    "start_time": "2022-02-12T16:24:31.918Z"
   },
   {
    "duration": 20,
    "start_time": "2022-02-12T16:24:33.599Z"
   },
   {
    "duration": 12,
    "start_time": "2022-02-12T16:24:40.035Z"
   },
   {
    "duration": 23,
    "start_time": "2022-02-12T16:25:03.587Z"
   },
   {
    "duration": 12,
    "start_time": "2022-02-12T16:25:14.591Z"
   },
   {
    "duration": 21,
    "start_time": "2022-02-12T16:25:31.709Z"
   },
   {
    "duration": 5,
    "start_time": "2022-02-12T16:25:34.317Z"
   },
   {
    "duration": 5,
    "start_time": "2022-02-12T16:25:35.342Z"
   },
   {
    "duration": 28,
    "start_time": "2022-02-12T16:25:36.469Z"
   },
   {
    "duration": 5,
    "start_time": "2022-02-12T16:26:21.703Z"
   },
   {
    "duration": 5,
    "start_time": "2022-02-12T16:26:23.808Z"
   },
   {
    "duration": 20,
    "start_time": "2022-02-12T16:26:26.171Z"
   },
   {
    "duration": 11,
    "start_time": "2022-02-12T16:26:31.496Z"
   },
   {
    "duration": 30,
    "start_time": "2022-02-12T16:26:35.442Z"
   },
   {
    "duration": 21,
    "start_time": "2022-02-12T16:26:48.211Z"
   },
   {
    "duration": 21,
    "start_time": "2022-02-12T16:27:07.857Z"
   },
   {
    "duration": 6,
    "start_time": "2022-02-12T16:28:32.185Z"
   },
   {
    "duration": 5,
    "start_time": "2022-02-12T16:28:35.515Z"
   },
   {
    "duration": 20,
    "start_time": "2022-02-12T16:28:38.315Z"
   },
   {
    "duration": 22,
    "start_time": "2022-02-12T16:28:44.501Z"
   },
   {
    "duration": 5,
    "start_time": "2022-02-12T16:29:24.825Z"
   },
   {
    "duration": 5,
    "start_time": "2022-02-12T16:29:27.802Z"
   },
   {
    "duration": 21,
    "start_time": "2022-02-12T16:29:29.782Z"
   },
   {
    "duration": 12,
    "start_time": "2022-02-12T16:29:34.692Z"
   },
   {
    "duration": 21,
    "start_time": "2022-02-12T16:33:48.071Z"
   },
   {
    "duration": 23,
    "start_time": "2022-02-12T16:33:50.204Z"
   },
   {
    "duration": 31,
    "start_time": "2022-02-12T16:34:03.737Z"
   },
   {
    "duration": 35,
    "start_time": "2022-02-12T16:35:09.499Z"
   },
   {
    "duration": 14,
    "start_time": "2022-02-12T16:36:03.906Z"
   },
   {
    "duration": 20,
    "start_time": "2022-02-12T16:36:26.435Z"
   },
   {
    "duration": 709,
    "start_time": "2022-02-12T16:36:35.128Z"
   },
   {
    "duration": 11,
    "start_time": "2022-02-12T16:36:35.839Z"
   },
   {
    "duration": 7,
    "start_time": "2022-02-12T16:36:35.852Z"
   },
   {
    "duration": 18,
    "start_time": "2022-02-12T16:36:35.861Z"
   },
   {
    "duration": 15,
    "start_time": "2022-02-12T16:36:35.880Z"
   },
   {
    "duration": 12,
    "start_time": "2022-02-12T16:36:35.896Z"
   },
   {
    "duration": 9,
    "start_time": "2022-02-12T16:36:35.919Z"
   },
   {
    "duration": 8,
    "start_time": "2022-02-12T16:36:35.931Z"
   },
   {
    "duration": 30,
    "start_time": "2022-02-12T16:36:35.941Z"
   },
   {
    "duration": 28,
    "start_time": "2022-02-12T16:36:35.972Z"
   },
   {
    "duration": 10,
    "start_time": "2022-02-12T16:36:36.002Z"
   },
   {
    "duration": 43,
    "start_time": "2022-02-12T16:36:36.013Z"
   },
   {
    "duration": 21,
    "start_time": "2022-02-12T16:36:36.058Z"
   },
   {
    "duration": 53,
    "start_time": "2022-02-12T16:36:36.081Z"
   },
   {
    "duration": 12,
    "start_time": "2022-02-12T16:36:36.136Z"
   },
   {
    "duration": 24,
    "start_time": "2022-02-12T16:36:36.150Z"
   },
   {
    "duration": 50,
    "start_time": "2022-02-12T16:36:36.175Z"
   },
   {
    "duration": 4,
    "start_time": "2022-02-12T16:36:36.227Z"
   },
   {
    "duration": 44,
    "start_time": "2022-02-12T16:36:36.233Z"
   },
   {
    "duration": 15,
    "start_time": "2022-02-12T16:36:36.279Z"
   },
   {
    "duration": 9,
    "start_time": "2022-02-12T16:36:36.296Z"
   },
   {
    "duration": 13,
    "start_time": "2022-02-12T16:36:36.306Z"
   },
   {
    "duration": 4,
    "start_time": "2022-02-12T16:36:36.322Z"
   },
   {
    "duration": 29,
    "start_time": "2022-02-12T16:36:36.328Z"
   },
   {
    "duration": 13,
    "start_time": "2022-02-12T16:36:36.359Z"
   },
   {
    "duration": 14,
    "start_time": "2022-02-12T16:36:36.374Z"
   },
   {
    "duration": 8,
    "start_time": "2022-02-12T16:36:36.389Z"
   },
   {
    "duration": 21,
    "start_time": "2022-02-12T16:36:36.399Z"
   },
   {
    "duration": 33,
    "start_time": "2022-02-12T16:36:36.421Z"
   },
   {
    "duration": 26,
    "start_time": "2022-02-12T16:36:36.455Z"
   },
   {
    "duration": 37,
    "start_time": "2022-02-12T16:36:36.483Z"
   },
   {
    "duration": 15,
    "start_time": "2022-02-12T16:36:36.522Z"
   },
   {
    "duration": 13,
    "start_time": "2022-02-12T16:36:36.539Z"
   },
   {
    "duration": 14,
    "start_time": "2022-02-12T16:36:36.553Z"
   },
   {
    "duration": 22,
    "start_time": "2022-02-12T16:39:56.459Z"
   },
   {
    "duration": 22,
    "start_time": "2022-02-12T16:40:11.988Z"
   },
   {
    "duration": 20,
    "start_time": "2022-02-12T16:40:26.387Z"
   },
   {
    "duration": 45,
    "start_time": "2022-02-12T16:40:28.991Z"
   },
   {
    "duration": 21,
    "start_time": "2022-02-12T16:40:31.833Z"
   },
   {
    "duration": 46,
    "start_time": "2022-02-12T16:40:34.784Z"
   },
   {
    "duration": 6,
    "start_time": "2022-02-12T16:40:37.812Z"
   },
   {
    "duration": 33,
    "start_time": "2022-02-12T16:40:39.999Z"
   },
   {
    "duration": 5,
    "start_time": "2022-02-12T16:40:42.351Z"
   },
   {
    "duration": 6,
    "start_time": "2022-02-12T16:40:44.963Z"
   },
   {
    "duration": 7,
    "start_time": "2022-02-12T16:40:45.636Z"
   },
   {
    "duration": 5,
    "start_time": "2022-02-12T16:40:47.787Z"
   },
   {
    "duration": 20,
    "start_time": "2022-02-12T16:40:57.117Z"
   },
   {
    "duration": 6,
    "start_time": "2022-02-12T16:43:19.501Z"
   },
   {
    "duration": 859,
    "start_time": "2022-02-12T16:44:13.508Z"
   },
   {
    "duration": 18,
    "start_time": "2022-02-12T16:44:14.370Z"
   },
   {
    "duration": 8,
    "start_time": "2022-02-12T16:44:14.390Z"
   },
   {
    "duration": 27,
    "start_time": "2022-02-12T16:44:14.400Z"
   },
   {
    "duration": 10,
    "start_time": "2022-02-12T16:44:14.430Z"
   },
   {
    "duration": 9,
    "start_time": "2022-02-12T16:44:14.441Z"
   },
   {
    "duration": 31,
    "start_time": "2022-02-12T16:44:14.452Z"
   },
   {
    "duration": 16,
    "start_time": "2022-02-12T16:44:14.486Z"
   },
   {
    "duration": 24,
    "start_time": "2022-02-12T16:44:14.504Z"
   },
   {
    "duration": 25,
    "start_time": "2022-02-12T16:44:14.529Z"
   },
   {
    "duration": 11,
    "start_time": "2022-02-12T16:44:14.556Z"
   },
   {
    "duration": 73,
    "start_time": "2022-02-12T16:44:14.569Z"
   },
   {
    "duration": 22,
    "start_time": "2022-02-12T16:44:14.644Z"
   },
   {
    "duration": 63,
    "start_time": "2022-02-12T16:44:14.668Z"
   },
   {
    "duration": 16,
    "start_time": "2022-02-12T16:44:14.733Z"
   },
   {
    "duration": 18,
    "start_time": "2022-02-12T16:44:14.751Z"
   },
   {
    "duration": 72,
    "start_time": "2022-02-12T16:44:14.771Z"
   },
   {
    "duration": 5,
    "start_time": "2022-02-12T16:44:14.845Z"
   },
   {
    "duration": 30,
    "start_time": "2022-02-12T16:44:14.851Z"
   },
   {
    "duration": 5,
    "start_time": "2022-02-12T16:44:14.882Z"
   },
   {
    "duration": 6,
    "start_time": "2022-02-12T16:44:14.919Z"
   },
   {
    "duration": 6,
    "start_time": "2022-02-12T16:44:14.927Z"
   },
   {
    "duration": 9,
    "start_time": "2022-02-12T16:44:14.936Z"
   },
   {
    "duration": 22,
    "start_time": "2022-02-12T16:44:14.947Z"
   },
   {
    "duration": 10,
    "start_time": "2022-02-12T16:44:14.971Z"
   },
   {
    "duration": 11,
    "start_time": "2022-02-12T16:44:15.019Z"
   },
   {
    "duration": 13,
    "start_time": "2022-02-12T16:44:15.032Z"
   },
   {
    "duration": 18,
    "start_time": "2022-02-12T16:44:15.047Z"
   },
   {
    "duration": 6,
    "start_time": "2022-02-12T16:44:15.067Z"
   },
   {
    "duration": 63,
    "start_time": "2022-02-12T16:44:15.075Z"
   },
   {
    "duration": 30,
    "start_time": "2022-02-12T16:44:15.140Z"
   },
   {
    "duration": 18,
    "start_time": "2022-02-12T16:44:15.172Z"
   },
   {
    "duration": 18,
    "start_time": "2022-02-12T16:44:15.219Z"
   },
   {
    "duration": 16,
    "start_time": "2022-02-12T16:44:15.239Z"
   },
   {
    "duration": 18,
    "start_time": "2022-02-12T16:44:15.257Z"
   },
   {
    "duration": 634,
    "start_time": "2022-02-18T17:26:10.830Z"
   },
   {
    "duration": 10,
    "start_time": "2022-02-18T17:26:11.466Z"
   },
   {
    "duration": 4,
    "start_time": "2022-02-18T17:26:11.478Z"
   },
   {
    "duration": 14,
    "start_time": "2022-02-18T17:26:11.484Z"
   },
   {
    "duration": 9,
    "start_time": "2022-02-18T17:26:11.500Z"
   },
   {
    "duration": 7,
    "start_time": "2022-02-18T17:26:11.511Z"
   },
   {
    "duration": 6,
    "start_time": "2022-02-18T17:26:11.520Z"
   },
   {
    "duration": 34,
    "start_time": "2022-02-18T17:26:11.528Z"
   },
   {
    "duration": 6,
    "start_time": "2022-02-18T17:26:11.565Z"
   },
   {
    "duration": 20,
    "start_time": "2022-02-18T17:26:11.573Z"
   },
   {
    "duration": 10,
    "start_time": "2022-02-18T17:26:11.595Z"
   },
   {
    "duration": 69,
    "start_time": "2022-02-18T17:26:11.606Z"
   },
   {
    "duration": 19,
    "start_time": "2022-02-18T17:26:11.678Z"
   },
   {
    "duration": 33,
    "start_time": "2022-02-18T17:26:11.699Z"
   },
   {
    "duration": 36,
    "start_time": "2022-02-18T17:26:11.734Z"
   },
   {
    "duration": 14,
    "start_time": "2022-02-18T17:26:11.772Z"
   },
   {
    "duration": 35,
    "start_time": "2022-02-18T17:26:11.788Z"
   },
   {
    "duration": 5,
    "start_time": "2022-02-18T17:26:11.824Z"
   },
   {
    "duration": 58,
    "start_time": "2022-02-18T17:26:11.830Z"
   },
   {
    "duration": 4,
    "start_time": "2022-02-18T17:26:11.890Z"
   },
   {
    "duration": 9,
    "start_time": "2022-02-18T17:26:11.896Z"
   },
   {
    "duration": 5,
    "start_time": "2022-02-18T17:26:11.907Z"
   },
   {
    "duration": 8,
    "start_time": "2022-02-18T17:26:11.915Z"
   },
   {
    "duration": 41,
    "start_time": "2022-02-18T17:26:11.925Z"
   },
   {
    "duration": 10,
    "start_time": "2022-02-18T17:26:11.968Z"
   },
   {
    "duration": 12,
    "start_time": "2022-02-18T17:26:11.980Z"
   },
   {
    "duration": 11,
    "start_time": "2022-02-18T17:26:11.993Z"
   },
   {
    "duration": 9,
    "start_time": "2022-02-18T17:26:12.006Z"
   },
   {
    "duration": 5,
    "start_time": "2022-02-18T17:26:12.016Z"
   },
   {
    "duration": 60,
    "start_time": "2022-02-18T17:26:12.022Z"
   },
   {
    "duration": 28,
    "start_time": "2022-02-18T17:26:12.084Z"
   },
   {
    "duration": 18,
    "start_time": "2022-02-18T17:26:12.113Z"
   },
   {
    "duration": 40,
    "start_time": "2022-02-18T17:26:12.132Z"
   },
   {
    "duration": 27,
    "start_time": "2022-02-18T17:26:12.174Z"
   },
   {
    "duration": 8,
    "start_time": "2022-02-18T17:28:19.233Z"
   },
   {
    "duration": 29,
    "start_time": "2022-02-18T17:28:44.755Z"
   },
   {
    "duration": 737,
    "start_time": "2022-02-19T12:18:03.107Z"
   },
   {
    "duration": 13,
    "start_time": "2022-02-19T12:18:03.846Z"
   },
   {
    "duration": 4,
    "start_time": "2022-02-19T12:18:03.862Z"
   },
   {
    "duration": 13,
    "start_time": "2022-02-19T12:18:03.868Z"
   },
   {
    "duration": 32,
    "start_time": "2022-02-19T12:18:03.883Z"
   },
   {
    "duration": 11,
    "start_time": "2022-02-19T12:18:03.917Z"
   },
   {
    "duration": 16,
    "start_time": "2022-02-19T12:18:03.930Z"
   },
   {
    "duration": 7,
    "start_time": "2022-02-19T12:18:03.949Z"
   },
   {
    "duration": 7,
    "start_time": "2022-02-19T12:18:03.959Z"
   },
   {
    "duration": 46,
    "start_time": "2022-02-19T12:18:03.968Z"
   },
   {
    "duration": 12,
    "start_time": "2022-02-19T12:18:04.016Z"
   },
   {
    "duration": 69,
    "start_time": "2022-02-19T12:18:04.029Z"
   },
   {
    "duration": 22,
    "start_time": "2022-02-19T12:18:04.100Z"
   },
   {
    "duration": 37,
    "start_time": "2022-02-19T12:18:04.125Z"
   },
   {
    "duration": 14,
    "start_time": "2022-02-19T12:18:04.163Z"
   },
   {
    "duration": 39,
    "start_time": "2022-02-19T12:18:04.178Z"
   },
   {
    "duration": 40,
    "start_time": "2022-02-19T12:18:04.219Z"
   },
   {
    "duration": 7,
    "start_time": "2022-02-19T12:18:04.262Z"
   },
   {
    "duration": 59,
    "start_time": "2022-02-19T12:18:04.271Z"
   },
   {
    "duration": 5,
    "start_time": "2022-02-19T12:18:04.333Z"
   },
   {
    "duration": 25,
    "start_time": "2022-02-19T12:18:04.340Z"
   },
   {
    "duration": 13,
    "start_time": "2022-02-19T12:18:04.367Z"
   },
   {
    "duration": 11,
    "start_time": "2022-02-19T12:18:04.383Z"
   },
   {
    "duration": 27,
    "start_time": "2022-02-19T12:18:04.396Z"
   },
   {
    "duration": 11,
    "start_time": "2022-02-19T12:18:04.424Z"
   },
   {
    "duration": 18,
    "start_time": "2022-02-19T12:18:04.437Z"
   },
   {
    "duration": 28,
    "start_time": "2022-02-19T12:18:04.457Z"
   },
   {
    "duration": 25,
    "start_time": "2022-02-19T12:18:04.487Z"
   },
   {
    "duration": 6,
    "start_time": "2022-02-19T12:18:04.515Z"
   },
   {
    "duration": 32,
    "start_time": "2022-02-19T12:18:04.524Z"
   },
   {
    "duration": 53,
    "start_time": "2022-02-19T12:18:04.558Z"
   },
   {
    "duration": 20,
    "start_time": "2022-02-19T12:18:04.613Z"
   },
   {
    "duration": 19,
    "start_time": "2022-02-19T12:18:04.636Z"
   },
   {
    "duration": 65,
    "start_time": "2022-02-19T12:18:04.657Z"
   },
   {
    "duration": 8,
    "start_time": "2022-02-19T12:18:04.724Z"
   },
   {
    "duration": 39,
    "start_time": "2022-02-19T12:18:04.735Z"
   },
   {
    "duration": 46,
    "start_time": "2022-02-19T12:18:04.776Z"
   },
   {
    "duration": 24,
    "start_time": "2022-02-19T12:18:30.702Z"
   },
   {
    "duration": 739,
    "start_time": "2022-02-19T12:23:37.793Z"
   },
   {
    "duration": 11,
    "start_time": "2022-02-19T12:23:38.535Z"
   },
   {
    "duration": 7,
    "start_time": "2022-02-19T12:23:38.549Z"
   },
   {
    "duration": 12,
    "start_time": "2022-02-19T12:23:38.558Z"
   },
   {
    "duration": 11,
    "start_time": "2022-02-19T12:23:38.572Z"
   },
   {
    "duration": 8,
    "start_time": "2022-02-19T12:23:38.608Z"
   },
   {
    "duration": 14,
    "start_time": "2022-02-19T12:23:38.618Z"
   },
   {
    "duration": 15,
    "start_time": "2022-02-19T12:23:38.636Z"
   },
   {
    "duration": 10,
    "start_time": "2022-02-19T12:23:38.654Z"
   },
   {
    "duration": 22,
    "start_time": "2022-02-19T12:23:38.666Z"
   },
   {
    "duration": 11,
    "start_time": "2022-02-19T12:23:38.708Z"
   },
   {
    "duration": 38,
    "start_time": "2022-02-19T12:23:38.721Z"
   },
   {
    "duration": 23,
    "start_time": "2022-02-19T12:23:38.761Z"
   },
   {
    "duration": 36,
    "start_time": "2022-02-19T12:23:38.808Z"
   },
   {
    "duration": 15,
    "start_time": "2022-02-19T12:23:38.846Z"
   },
   {
    "duration": 44,
    "start_time": "2022-02-19T12:23:38.863Z"
   },
   {
    "duration": 40,
    "start_time": "2022-02-19T12:23:38.909Z"
   },
   {
    "duration": 5,
    "start_time": "2022-02-19T12:23:38.951Z"
   },
   {
    "duration": 54,
    "start_time": "2022-02-19T12:23:38.958Z"
   },
   {
    "duration": 6,
    "start_time": "2022-02-19T12:23:39.015Z"
   },
   {
    "duration": 14,
    "start_time": "2022-02-19T12:23:39.023Z"
   },
   {
    "duration": 7,
    "start_time": "2022-02-19T12:23:39.039Z"
   },
   {
    "duration": 7,
    "start_time": "2022-02-19T12:23:39.049Z"
   },
   {
    "duration": 50,
    "start_time": "2022-02-19T12:23:39.058Z"
   },
   {
    "duration": 11,
    "start_time": "2022-02-19T12:23:39.110Z"
   },
   {
    "duration": 16,
    "start_time": "2022-02-19T12:23:39.123Z"
   },
   {
    "duration": 17,
    "start_time": "2022-02-19T12:23:39.141Z"
   },
   {
    "duration": 10,
    "start_time": "2022-02-19T12:23:39.160Z"
   },
   {
    "duration": 6,
    "start_time": "2022-02-19T12:23:39.172Z"
   },
   {
    "duration": 29,
    "start_time": "2022-02-19T12:23:39.208Z"
   },
   {
    "duration": 33,
    "start_time": "2022-02-19T12:23:39.240Z"
   },
   {
    "duration": 44,
    "start_time": "2022-02-19T12:23:39.275Z"
   },
   {
    "duration": 21,
    "start_time": "2022-02-19T12:23:39.321Z"
   },
   {
    "duration": 32,
    "start_time": "2022-02-19T12:23:39.344Z"
   },
   {
    "duration": 35,
    "start_time": "2022-02-19T12:23:39.378Z"
   },
   {
    "duration": 36,
    "start_time": "2022-02-19T12:23:39.416Z"
   },
   {
    "duration": 19,
    "start_time": "2022-02-19T12:23:39.454Z"
   },
   {
    "duration": 30,
    "start_time": "2022-02-19T12:28:36.251Z"
   },
   {
    "duration": 6,
    "start_time": "2022-02-19T12:28:59.002Z"
   },
   {
    "duration": 9,
    "start_time": "2022-02-19T12:30:31.848Z"
   },
   {
    "duration": 8,
    "start_time": "2022-02-19T12:32:26.069Z"
   },
   {
    "duration": 8,
    "start_time": "2022-02-19T12:33:05.705Z"
   },
   {
    "duration": 772,
    "start_time": "2022-02-19T17:58:21.210Z"
   },
   {
    "duration": 15,
    "start_time": "2022-02-19T17:58:21.984Z"
   },
   {
    "duration": 8,
    "start_time": "2022-02-19T17:58:22.001Z"
   },
   {
    "duration": 14,
    "start_time": "2022-02-19T17:58:22.011Z"
   },
   {
    "duration": 13,
    "start_time": "2022-02-19T17:58:22.028Z"
   },
   {
    "duration": 8,
    "start_time": "2022-02-19T17:58:22.043Z"
   },
   {
    "duration": 12,
    "start_time": "2022-02-19T17:58:22.054Z"
   },
   {
    "duration": 7,
    "start_time": "2022-02-19T17:58:22.106Z"
   },
   {
    "duration": 17,
    "start_time": "2022-02-19T17:58:22.116Z"
   },
   {
    "duration": 48,
    "start_time": "2022-02-19T17:58:22.135Z"
   },
   {
    "duration": 12,
    "start_time": "2022-02-19T17:58:22.185Z"
   },
   {
    "duration": 41,
    "start_time": "2022-02-19T17:58:22.199Z"
   },
   {
    "duration": 27,
    "start_time": "2022-02-19T17:58:22.242Z"
   },
   {
    "duration": 6,
    "start_time": "2022-02-19T17:58:22.271Z"
   },
   {
    "duration": 50,
    "start_time": "2022-02-19T17:58:22.279Z"
   },
   {
    "duration": 24,
    "start_time": "2022-02-19T17:58:22.332Z"
   },
   {
    "duration": 19,
    "start_time": "2022-02-19T17:58:22.359Z"
   },
   {
    "duration": 76,
    "start_time": "2022-02-19T17:58:22.380Z"
   },
   {
    "duration": 7,
    "start_time": "2022-02-19T17:58:22.458Z"
   },
   {
    "duration": 55,
    "start_time": "2022-02-19T17:58:22.466Z"
   },
   {
    "duration": 5,
    "start_time": "2022-02-19T17:58:22.523Z"
   },
   {
    "duration": 14,
    "start_time": "2022-02-19T17:58:22.530Z"
   },
   {
    "duration": 5,
    "start_time": "2022-02-19T17:58:22.548Z"
   },
   {
    "duration": 8,
    "start_time": "2022-02-19T17:58:22.555Z"
   },
   {
    "duration": 51,
    "start_time": "2022-02-19T17:58:22.565Z"
   },
   {
    "duration": 14,
    "start_time": "2022-02-19T17:58:22.618Z"
   },
   {
    "duration": 25,
    "start_time": "2022-02-19T17:58:22.634Z"
   },
   {
    "duration": 17,
    "start_time": "2022-02-19T17:58:22.661Z"
   },
   {
    "duration": 29,
    "start_time": "2022-02-19T17:58:22.680Z"
   },
   {
    "duration": 7,
    "start_time": "2022-02-19T17:58:22.711Z"
   },
   {
    "duration": 37,
    "start_time": "2022-02-19T17:58:22.720Z"
   },
   {
    "duration": 61,
    "start_time": "2022-02-19T17:58:22.759Z"
   },
   {
    "duration": 22,
    "start_time": "2022-02-19T17:58:22.822Z"
   },
   {
    "duration": 19,
    "start_time": "2022-02-19T17:58:22.846Z"
   },
   {
    "duration": 73,
    "start_time": "2022-02-19T17:58:22.868Z"
   },
   {
    "duration": 10,
    "start_time": "2022-02-19T17:58:22.943Z"
   },
   {
    "duration": 51,
    "start_time": "2022-02-19T17:58:22.955Z"
   },
   {
    "duration": 27,
    "start_time": "2022-02-19T17:58:23.009Z"
   },
   {
    "duration": 330,
    "start_time": "2022-02-19T18:05:18.917Z"
   },
   {
    "duration": 13,
    "start_time": "2022-02-19T18:05:28.905Z"
   },
   {
    "duration": 12,
    "start_time": "2022-02-19T18:05:48.970Z"
   },
   {
    "duration": 8,
    "start_time": "2022-02-19T18:07:34.118Z"
   },
   {
    "duration": 299,
    "start_time": "2022-02-19T18:10:27.683Z"
   },
   {
    "duration": 34,
    "start_time": "2022-02-19T18:10:43.445Z"
   },
   {
    "duration": 50,
    "start_time": "2022-02-19T18:11:07.912Z"
   },
   {
    "duration": 307,
    "start_time": "2022-02-19T18:11:29.524Z"
   },
   {
    "duration": 70,
    "start_time": "2022-02-19T18:11:40.191Z"
   },
   {
    "duration": 62,
    "start_time": "2022-02-19T18:14:00.553Z"
   },
   {
    "duration": 50,
    "start_time": "2022-02-19T18:14:18.734Z"
   },
   {
    "duration": 264,
    "start_time": "2022-02-19T18:24:29.762Z"
   },
   {
    "duration": 433,
    "start_time": "2022-02-19T18:24:36.994Z"
   },
   {
    "duration": 39,
    "start_time": "2022-02-19T18:24:42.623Z"
   },
   {
    "duration": 307,
    "start_time": "2022-02-19T18:53:52.235Z"
   },
   {
    "duration": 39,
    "start_time": "2022-02-19T18:53:59.070Z"
   },
   {
    "duration": 31,
    "start_time": "2022-02-19T18:56:26.727Z"
   },
   {
    "duration": 27,
    "start_time": "2022-02-19T18:56:36.100Z"
   },
   {
    "duration": 279,
    "start_time": "2022-02-19T19:05:20.463Z"
   },
   {
    "duration": 13,
    "start_time": "2022-02-19T19:05:34.613Z"
   },
   {
    "duration": 13,
    "start_time": "2022-02-19T19:05:48.110Z"
   },
   {
    "duration": 13,
    "start_time": "2022-02-19T19:06:31.061Z"
   },
   {
    "duration": 803,
    "start_time": "2022-02-19T19:06:46.164Z"
   },
   {
    "duration": 13,
    "start_time": "2022-02-19T19:06:46.969Z"
   },
   {
    "duration": 28,
    "start_time": "2022-02-19T19:06:46.984Z"
   },
   {
    "duration": 53,
    "start_time": "2022-02-19T19:06:47.015Z"
   },
   {
    "duration": 47,
    "start_time": "2022-02-19T19:06:47.071Z"
   },
   {
    "duration": 19,
    "start_time": "2022-02-19T19:06:47.120Z"
   },
   {
    "duration": 49,
    "start_time": "2022-02-19T19:06:47.141Z"
   },
   {
    "duration": 29,
    "start_time": "2022-02-19T19:06:47.193Z"
   },
   {
    "duration": 14,
    "start_time": "2022-02-19T19:06:47.225Z"
   },
   {
    "duration": 67,
    "start_time": "2022-02-19T19:06:47.241Z"
   },
   {
    "duration": 24,
    "start_time": "2022-02-19T19:06:47.311Z"
   },
   {
    "duration": 48,
    "start_time": "2022-02-19T19:06:47.337Z"
   },
   {
    "duration": 23,
    "start_time": "2022-02-19T19:06:47.388Z"
   },
   {
    "duration": 35,
    "start_time": "2022-02-19T19:06:47.413Z"
   },
   {
    "duration": 54,
    "start_time": "2022-02-19T19:06:47.450Z"
   },
   {
    "duration": 11,
    "start_time": "2022-02-19T19:06:47.507Z"
   },
   {
    "duration": 32,
    "start_time": "2022-02-19T19:06:47.520Z"
   },
   {
    "duration": 36,
    "start_time": "2022-02-19T19:06:47.554Z"
   },
   {
    "duration": 69,
    "start_time": "2022-02-19T19:06:47.592Z"
   },
   {
    "duration": 8,
    "start_time": "2022-02-19T19:06:47.663Z"
   },
   {
    "duration": 56,
    "start_time": "2022-02-19T19:06:47.673Z"
   },
   {
    "duration": 47,
    "start_time": "2022-02-19T19:06:47.731Z"
   },
   {
    "duration": 51,
    "start_time": "2022-02-19T19:06:47.781Z"
   },
   {
    "duration": 44,
    "start_time": "2022-02-19T19:06:47.834Z"
   },
   {
    "duration": 36,
    "start_time": "2022-02-19T19:06:47.880Z"
   },
   {
    "duration": 36,
    "start_time": "2022-02-19T19:06:47.918Z"
   },
   {
    "duration": 39,
    "start_time": "2022-02-19T19:06:47.956Z"
   },
   {
    "duration": 51,
    "start_time": "2022-02-19T19:06:47.997Z"
   },
   {
    "duration": 61,
    "start_time": "2022-02-19T19:06:48.050Z"
   },
   {
    "duration": 28,
    "start_time": "2022-02-19T19:06:48.113Z"
   },
   {
    "duration": 26,
    "start_time": "2022-02-19T19:06:48.143Z"
   },
   {
    "duration": 69,
    "start_time": "2022-02-19T19:06:48.171Z"
   },
   {
    "duration": 55,
    "start_time": "2022-02-19T19:06:48.241Z"
   },
   {
    "duration": 33,
    "start_time": "2022-02-19T19:06:48.298Z"
   },
   {
    "duration": 45,
    "start_time": "2022-02-19T19:06:48.332Z"
   },
   {
    "duration": 40,
    "start_time": "2022-02-19T19:06:48.378Z"
   },
   {
    "duration": 11,
    "start_time": "2022-02-19T19:06:48.420Z"
   },
   {
    "duration": 64,
    "start_time": "2022-02-19T19:06:48.433Z"
   },
   {
    "duration": 22,
    "start_time": "2022-02-19T19:06:48.499Z"
   },
   {
    "duration": 14,
    "start_time": "2022-02-19T19:07:36.292Z"
   },
   {
    "duration": 763,
    "start_time": "2022-02-19T19:08:57.491Z"
   },
   {
    "duration": 12,
    "start_time": "2022-02-19T19:08:58.257Z"
   },
   {
    "duration": 4,
    "start_time": "2022-02-19T19:08:58.272Z"
   },
   {
    "duration": 31,
    "start_time": "2022-02-19T19:08:58.279Z"
   },
   {
    "duration": 11,
    "start_time": "2022-02-19T19:08:58.312Z"
   },
   {
    "duration": 8,
    "start_time": "2022-02-19T19:08:58.325Z"
   },
   {
    "duration": 9,
    "start_time": "2022-02-19T19:08:58.334Z"
   },
   {
    "duration": 5,
    "start_time": "2022-02-19T19:08:58.346Z"
   },
   {
    "duration": 7,
    "start_time": "2022-02-19T19:08:58.354Z"
   },
   {
    "duration": 60,
    "start_time": "2022-02-19T19:08:58.363Z"
   },
   {
    "duration": 11,
    "start_time": "2022-02-19T19:08:58.425Z"
   },
   {
    "duration": 51,
    "start_time": "2022-02-19T19:08:58.438Z"
   },
   {
    "duration": 31,
    "start_time": "2022-02-19T19:08:58.508Z"
   },
   {
    "duration": 6,
    "start_time": "2022-02-19T19:08:58.541Z"
   },
   {
    "duration": 34,
    "start_time": "2022-02-19T19:08:58.550Z"
   },
   {
    "duration": 12,
    "start_time": "2022-02-19T19:08:58.607Z"
   },
   {
    "duration": 14,
    "start_time": "2022-02-19T19:08:58.621Z"
   },
   {
    "duration": 17,
    "start_time": "2022-02-19T19:08:58.637Z"
   },
   {
    "duration": 72,
    "start_time": "2022-02-19T19:08:58.656Z"
   },
   {
    "duration": 5,
    "start_time": "2022-02-19T19:08:58.730Z"
   },
   {
    "duration": 32,
    "start_time": "2022-02-19T19:08:58.737Z"
   },
   {
    "duration": 5,
    "start_time": "2022-02-19T19:08:58.771Z"
   },
   {
    "duration": 8,
    "start_time": "2022-02-19T19:08:58.809Z"
   },
   {
    "duration": 23,
    "start_time": "2022-02-19T19:08:58.819Z"
   },
   {
    "duration": 17,
    "start_time": "2022-02-19T19:08:58.843Z"
   },
   {
    "duration": 32,
    "start_time": "2022-02-19T19:08:58.862Z"
   },
   {
    "duration": 13,
    "start_time": "2022-02-19T19:08:58.895Z"
   },
   {
    "duration": 19,
    "start_time": "2022-02-19T19:08:58.911Z"
   },
   {
    "duration": 20,
    "start_time": "2022-02-19T19:08:58.932Z"
   },
   {
    "duration": 15,
    "start_time": "2022-02-19T19:08:58.954Z"
   },
   {
    "duration": 7,
    "start_time": "2022-02-19T19:08:58.971Z"
   },
   {
    "duration": 49,
    "start_time": "2022-02-19T19:08:58.980Z"
   },
   {
    "duration": 31,
    "start_time": "2022-02-19T19:08:59.031Z"
   },
   {
    "duration": 42,
    "start_time": "2022-02-19T19:08:59.065Z"
   },
   {
    "duration": 18,
    "start_time": "2022-02-19T19:08:59.109Z"
   },
   {
    "duration": 36,
    "start_time": "2022-02-19T19:08:59.128Z"
   },
   {
    "duration": 8,
    "start_time": "2022-02-19T19:08:59.166Z"
   },
   {
    "duration": 61,
    "start_time": "2022-02-19T19:08:59.176Z"
   },
   {
    "duration": 17,
    "start_time": "2022-02-19T19:08:59.239Z"
   },
   {
    "duration": 27,
    "start_time": "2022-02-19T19:11:34.407Z"
   },
   {
    "duration": 12,
    "start_time": "2022-02-19T19:11:53.139Z"
   },
   {
    "duration": 14,
    "start_time": "2022-02-19T19:12:02.997Z"
   },
   {
    "duration": 8,
    "start_time": "2022-02-19T19:18:30.313Z"
   },
   {
    "duration": 6,
    "start_time": "2022-02-19T19:18:47.373Z"
   },
   {
    "duration": 6,
    "start_time": "2022-02-19T19:20:30.360Z"
   },
   {
    "duration": 5,
    "start_time": "2022-02-19T19:22:18.190Z"
   },
   {
    "duration": 384,
    "start_time": "2022-02-19T19:22:33.545Z"
   },
   {
    "duration": 6,
    "start_time": "2022-02-19T19:22:42.187Z"
   },
   {
    "duration": 268,
    "start_time": "2022-02-19T19:23:07.724Z"
   },
   {
    "duration": 9,
    "start_time": "2022-02-19T19:23:12.584Z"
   },
   {
    "duration": 268,
    "start_time": "2022-02-19T19:28:44.109Z"
   },
   {
    "duration": 5,
    "start_time": "2022-02-19T19:28:53.161Z"
   },
   {
    "duration": 11,
    "start_time": "2022-02-19T19:29:19.058Z"
   },
   {
    "duration": 10,
    "start_time": "2022-02-19T19:33:25.733Z"
   },
   {
    "duration": 8,
    "start_time": "2022-02-19T19:34:15.472Z"
   },
   {
    "duration": 5,
    "start_time": "2022-02-19T19:34:47.289Z"
   },
   {
    "duration": 6,
    "start_time": "2022-02-19T19:36:40.362Z"
   },
   {
    "duration": 790,
    "start_time": "2022-02-19T19:38:09.172Z"
   },
   {
    "duration": 14,
    "start_time": "2022-02-19T19:38:09.965Z"
   },
   {
    "duration": 4,
    "start_time": "2022-02-19T19:38:09.982Z"
   },
   {
    "duration": 9,
    "start_time": "2022-02-19T19:38:10.007Z"
   },
   {
    "duration": 12,
    "start_time": "2022-02-19T19:38:10.018Z"
   },
   {
    "duration": 11,
    "start_time": "2022-02-19T19:38:10.032Z"
   },
   {
    "duration": 9,
    "start_time": "2022-02-19T19:38:10.045Z"
   },
   {
    "duration": 8,
    "start_time": "2022-02-19T19:38:10.057Z"
   },
   {
    "duration": 41,
    "start_time": "2022-02-19T19:38:10.067Z"
   },
   {
    "duration": 22,
    "start_time": "2022-02-19T19:38:10.111Z"
   },
   {
    "duration": 11,
    "start_time": "2022-02-19T19:38:10.136Z"
   },
   {
    "duration": 65,
    "start_time": "2022-02-19T19:38:10.149Z"
   },
   {
    "duration": 22,
    "start_time": "2022-02-19T19:38:10.216Z"
   },
   {
    "duration": 5,
    "start_time": "2022-02-19T19:38:10.240Z"
   },
   {
    "duration": 31,
    "start_time": "2022-02-19T19:38:10.247Z"
   },
   {
    "duration": 31,
    "start_time": "2022-02-19T19:38:10.279Z"
   },
   {
    "duration": 5,
    "start_time": "2022-02-19T19:38:10.312Z"
   },
   {
    "duration": 16,
    "start_time": "2022-02-19T19:38:10.320Z"
   },
   {
    "duration": 9,
    "start_time": "2022-02-19T19:38:10.339Z"
   },
   {
    "duration": 11,
    "start_time": "2022-02-19T19:38:10.350Z"
   },
   {
    "duration": 45,
    "start_time": "2022-02-19T19:38:10.364Z"
   },
   {
    "duration": 19,
    "start_time": "2022-02-19T19:38:10.411Z"
   },
   {
    "duration": 40,
    "start_time": "2022-02-19T19:38:10.433Z"
   },
   {
    "duration": 5,
    "start_time": "2022-02-19T19:38:10.475Z"
   },
   {
    "duration": 33,
    "start_time": "2022-02-19T19:38:10.508Z"
   },
   {
    "duration": 7,
    "start_time": "2022-02-19T19:38:10.543Z"
   },
   {
    "duration": 11,
    "start_time": "2022-02-19T19:38:10.552Z"
   },
   {
    "duration": 7,
    "start_time": "2022-02-19T19:38:10.565Z"
   },
   {
    "duration": 49,
    "start_time": "2022-02-19T19:38:10.574Z"
   },
   {
    "duration": 13,
    "start_time": "2022-02-19T19:38:10.625Z"
   },
   {
    "duration": 15,
    "start_time": "2022-02-19T19:38:10.640Z"
   },
   {
    "duration": 15,
    "start_time": "2022-02-19T19:38:10.657Z"
   },
   {
    "duration": 42,
    "start_time": "2022-02-19T19:38:10.674Z"
   },
   {
    "duration": 6,
    "start_time": "2022-02-19T19:38:10.717Z"
   },
   {
    "duration": 31,
    "start_time": "2022-02-19T19:38:10.725Z"
   },
   {
    "duration": 53,
    "start_time": "2022-02-19T19:38:10.758Z"
   },
   {
    "duration": 20,
    "start_time": "2022-02-19T19:38:10.813Z"
   },
   {
    "duration": 17,
    "start_time": "2022-02-19T19:38:10.835Z"
   },
   {
    "duration": 61,
    "start_time": "2022-02-19T19:38:10.854Z"
   },
   {
    "duration": 9,
    "start_time": "2022-02-19T19:38:10.917Z"
   },
   {
    "duration": 44,
    "start_time": "2022-02-19T19:38:10.928Z"
   },
   {
    "duration": 43,
    "start_time": "2022-02-19T19:38:10.974Z"
   },
   {
    "duration": 29,
    "start_time": "2022-02-19T19:39:00.452Z"
   },
   {
    "duration": 36,
    "start_time": "2022-02-19T19:39:07.631Z"
   },
   {
    "duration": 829,
    "start_time": "2022-02-19T20:33:50.160Z"
   },
   {
    "duration": 18,
    "start_time": "2022-02-19T20:33:50.991Z"
   },
   {
    "duration": 6,
    "start_time": "2022-02-19T20:33:51.012Z"
   },
   {
    "duration": 16,
    "start_time": "2022-02-19T20:33:51.021Z"
   },
   {
    "duration": 11,
    "start_time": "2022-02-19T20:33:51.039Z"
   },
   {
    "duration": 9,
    "start_time": "2022-02-19T20:33:51.052Z"
   },
   {
    "duration": 58,
    "start_time": "2022-02-19T20:33:51.063Z"
   },
   {
    "duration": 10,
    "start_time": "2022-02-19T20:33:51.125Z"
   },
   {
    "duration": 12,
    "start_time": "2022-02-19T20:33:51.138Z"
   },
   {
    "duration": 26,
    "start_time": "2022-02-19T20:33:51.152Z"
   },
   {
    "duration": 29,
    "start_time": "2022-02-19T20:33:51.180Z"
   },
   {
    "duration": 37,
    "start_time": "2022-02-19T20:33:51.211Z"
   },
   {
    "duration": 28,
    "start_time": "2022-02-19T20:33:51.250Z"
   },
   {
    "duration": 30,
    "start_time": "2022-02-19T20:33:51.280Z"
   },
   {
    "duration": 41,
    "start_time": "2022-02-19T20:33:51.312Z"
   },
   {
    "duration": 15,
    "start_time": "2022-02-19T20:33:51.356Z"
   },
   {
    "duration": 8,
    "start_time": "2022-02-19T20:33:51.373Z"
   },
   {
    "duration": 28,
    "start_time": "2022-02-19T20:33:51.383Z"
   },
   {
    "duration": 18,
    "start_time": "2022-02-19T20:33:51.414Z"
   },
   {
    "duration": 11,
    "start_time": "2022-02-19T20:33:51.434Z"
   },
   {
    "duration": 15,
    "start_time": "2022-02-19T20:33:51.447Z"
   },
   {
    "duration": 47,
    "start_time": "2022-02-19T20:33:51.464Z"
   },
   {
    "duration": 41,
    "start_time": "2022-02-19T20:33:51.515Z"
   },
   {
    "duration": 5,
    "start_time": "2022-02-19T20:33:51.559Z"
   },
   {
    "duration": 54,
    "start_time": "2022-02-19T20:33:51.566Z"
   },
   {
    "duration": 6,
    "start_time": "2022-02-19T20:33:51.622Z"
   },
   {
    "duration": 5,
    "start_time": "2022-02-19T20:33:51.630Z"
   },
   {
    "duration": 8,
    "start_time": "2022-02-19T20:33:51.637Z"
   },
   {
    "duration": 25,
    "start_time": "2022-02-19T20:33:51.647Z"
   },
   {
    "duration": 42,
    "start_time": "2022-02-19T20:33:51.674Z"
   },
   {
    "duration": 15,
    "start_time": "2022-02-19T20:33:51.718Z"
   },
   {
    "duration": 18,
    "start_time": "2022-02-19T20:33:51.736Z"
   },
   {
    "duration": 15,
    "start_time": "2022-02-19T20:33:51.756Z"
   },
   {
    "duration": 36,
    "start_time": "2022-02-19T20:33:51.773Z"
   },
   {
    "duration": 42,
    "start_time": "2022-02-19T20:33:51.812Z"
   },
   {
    "duration": 72,
    "start_time": "2022-02-19T20:33:51.857Z"
   },
   {
    "duration": 19,
    "start_time": "2022-02-19T20:33:51.931Z"
   },
   {
    "duration": 20,
    "start_time": "2022-02-19T20:33:51.952Z"
   },
   {
    "duration": 62,
    "start_time": "2022-02-19T20:33:51.974Z"
   },
   {
    "duration": 9,
    "start_time": "2022-02-19T20:33:52.038Z"
   },
   {
    "duration": 59,
    "start_time": "2022-02-19T20:33:52.050Z"
   },
   {
    "duration": 19,
    "start_time": "2022-02-19T20:33:52.111Z"
   },
   {
    "duration": 8,
    "start_time": "2022-02-19T20:35:07.000Z"
   },
   {
    "duration": 9,
    "start_time": "2022-02-19T20:38:32.143Z"
   },
   {
    "duration": 34,
    "start_time": "2022-02-19T20:39:49.345Z"
   },
   {
    "duration": 61,
    "start_time": "2022-02-19T20:40:26.701Z"
   },
   {
    "duration": 42,
    "start_time": "2022-02-19T20:40:53.531Z"
   },
   {
    "duration": 12,
    "start_time": "2022-02-19T20:42:36.068Z"
   },
   {
    "duration": 100,
    "start_time": "2022-02-19T20:46:27.843Z"
   },
   {
    "duration": 363,
    "start_time": "2022-02-19T20:47:15.885Z"
   },
   {
    "duration": 10,
    "start_time": "2022-02-19T20:50:50.216Z"
   },
   {
    "duration": 10,
    "start_time": "2022-02-19T20:51:17.572Z"
   },
   {
    "duration": 7,
    "start_time": "2022-02-19T20:51:30.225Z"
   },
   {
    "duration": 8,
    "start_time": "2022-02-19T20:51:37.800Z"
   },
   {
    "duration": 7,
    "start_time": "2022-02-19T20:51:54.365Z"
   },
   {
    "duration": 696,
    "start_time": "2022-02-19T20:52:04.562Z"
   },
   {
    "duration": 13,
    "start_time": "2022-02-19T20:52:05.260Z"
   },
   {
    "duration": 24,
    "start_time": "2022-02-19T20:52:05.275Z"
   },
   {
    "duration": 31,
    "start_time": "2022-02-19T20:52:05.301Z"
   },
   {
    "duration": 30,
    "start_time": "2022-02-19T20:52:05.334Z"
   },
   {
    "duration": 10,
    "start_time": "2022-02-19T20:52:05.366Z"
   },
   {
    "duration": 17,
    "start_time": "2022-02-19T20:52:05.378Z"
   },
   {
    "duration": 28,
    "start_time": "2022-02-19T20:52:05.398Z"
   },
   {
    "duration": 44,
    "start_time": "2022-02-19T20:52:05.429Z"
   },
   {
    "duration": 37,
    "start_time": "2022-02-19T20:52:05.475Z"
   },
   {
    "duration": 40,
    "start_time": "2022-02-19T20:52:05.513Z"
   },
   {
    "duration": 66,
    "start_time": "2022-02-19T20:52:05.555Z"
   },
   {
    "duration": 27,
    "start_time": "2022-02-19T20:52:05.623Z"
   },
   {
    "duration": 14,
    "start_time": "2022-02-19T20:52:05.652Z"
   },
   {
    "duration": 46,
    "start_time": "2022-02-19T20:52:05.668Z"
   },
   {
    "duration": 16,
    "start_time": "2022-02-19T20:52:05.715Z"
   },
   {
    "duration": 21,
    "start_time": "2022-02-19T20:52:05.733Z"
   },
   {
    "duration": 32,
    "start_time": "2022-02-19T20:52:05.756Z"
   },
   {
    "duration": 25,
    "start_time": "2022-02-19T20:52:05.790Z"
   },
   {
    "duration": 34,
    "start_time": "2022-02-19T20:52:05.816Z"
   },
   {
    "duration": 35,
    "start_time": "2022-02-19T20:52:05.852Z"
   },
   {
    "duration": 36,
    "start_time": "2022-02-19T20:52:05.889Z"
   },
   {
    "duration": 53,
    "start_time": "2022-02-19T20:52:05.928Z"
   },
   {
    "duration": 5,
    "start_time": "2022-02-19T20:52:05.984Z"
   },
   {
    "duration": 49,
    "start_time": "2022-02-19T20:52:05.991Z"
   },
   {
    "duration": 6,
    "start_time": "2022-02-19T20:52:06.042Z"
   },
   {
    "duration": 27,
    "start_time": "2022-02-19T20:52:06.050Z"
   },
   {
    "duration": 37,
    "start_time": "2022-02-19T20:52:06.079Z"
   },
   {
    "duration": 36,
    "start_time": "2022-02-19T20:52:06.118Z"
   },
   {
    "duration": 15,
    "start_time": "2022-02-19T20:52:06.156Z"
   },
   {
    "duration": 50,
    "start_time": "2022-02-19T20:52:06.173Z"
   },
   {
    "duration": 38,
    "start_time": "2022-02-19T20:52:06.225Z"
   },
   {
    "duration": 31,
    "start_time": "2022-02-19T20:52:06.266Z"
   },
   {
    "duration": 28,
    "start_time": "2022-02-19T20:52:06.299Z"
   },
   {
    "duration": 50,
    "start_time": "2022-02-19T20:52:06.328Z"
   },
   {
    "duration": 57,
    "start_time": "2022-02-19T20:52:06.380Z"
   },
   {
    "duration": 48,
    "start_time": "2022-02-19T20:52:06.439Z"
   },
   {
    "duration": 28,
    "start_time": "2022-02-19T20:52:06.489Z"
   },
   {
    "duration": 50,
    "start_time": "2022-02-19T20:52:06.519Z"
   },
   {
    "duration": 49,
    "start_time": "2022-02-19T20:52:06.571Z"
   },
   {
    "duration": 65,
    "start_time": "2022-02-19T20:52:06.621Z"
   },
   {
    "duration": 18,
    "start_time": "2022-02-19T20:52:06.688Z"
   },
   {
    "duration": 8,
    "start_time": "2022-02-19T20:52:50.572Z"
   },
   {
    "duration": 9,
    "start_time": "2022-02-19T20:52:51.561Z"
   },
   {
    "duration": 859,
    "start_time": "2022-02-20T06:11:27.984Z"
   },
   {
    "duration": 15,
    "start_time": "2022-02-20T06:11:28.845Z"
   },
   {
    "duration": 30,
    "start_time": "2022-02-20T06:11:28.863Z"
   },
   {
    "duration": 12,
    "start_time": "2022-02-20T06:11:28.896Z"
   },
   {
    "duration": 12,
    "start_time": "2022-02-20T06:11:28.911Z"
   },
   {
    "duration": 10,
    "start_time": "2022-02-20T06:11:28.925Z"
   },
   {
    "duration": 9,
    "start_time": "2022-02-20T06:11:28.939Z"
   },
   {
    "duration": 47,
    "start_time": "2022-02-20T06:11:28.952Z"
   },
   {
    "duration": 8,
    "start_time": "2022-02-20T06:11:29.002Z"
   },
   {
    "duration": 36,
    "start_time": "2022-02-20T06:11:29.013Z"
   },
   {
    "duration": 57,
    "start_time": "2022-02-20T06:11:29.052Z"
   },
   {
    "duration": 48,
    "start_time": "2022-02-20T06:11:29.111Z"
   },
   {
    "duration": 59,
    "start_time": "2022-02-20T06:11:29.161Z"
   },
   {
    "duration": 5,
    "start_time": "2022-02-20T06:11:29.223Z"
   },
   {
    "duration": 31,
    "start_time": "2022-02-20T06:11:29.231Z"
   },
   {
    "duration": 34,
    "start_time": "2022-02-20T06:11:29.265Z"
   },
   {
    "duration": 9,
    "start_time": "2022-02-20T06:11:29.301Z"
   },
   {
    "duration": 9,
    "start_time": "2022-02-20T06:11:29.312Z"
   },
   {
    "duration": 10,
    "start_time": "2022-02-20T06:11:29.323Z"
   },
   {
    "duration": 59,
    "start_time": "2022-02-20T06:11:29.336Z"
   },
   {
    "duration": 17,
    "start_time": "2022-02-20T06:11:29.397Z"
   },
   {
    "duration": 21,
    "start_time": "2022-02-20T06:11:29.416Z"
   },
   {
    "duration": 88,
    "start_time": "2022-02-20T06:11:29.445Z"
   },
   {
    "duration": 9,
    "start_time": "2022-02-20T06:11:29.537Z"
   },
   {
    "duration": 72,
    "start_time": "2022-02-20T06:11:29.549Z"
   },
   {
    "duration": 7,
    "start_time": "2022-02-20T06:11:29.623Z"
   },
   {
    "duration": 11,
    "start_time": "2022-02-20T06:11:29.633Z"
   },
   {
    "duration": 7,
    "start_time": "2022-02-20T06:11:29.646Z"
   },
   {
    "duration": 57,
    "start_time": "2022-02-20T06:11:29.655Z"
   },
   {
    "duration": 14,
    "start_time": "2022-02-20T06:11:29.715Z"
   },
   {
    "duration": 19,
    "start_time": "2022-02-20T06:11:29.731Z"
   },
   {
    "duration": 43,
    "start_time": "2022-02-20T06:11:29.753Z"
   },
   {
    "duration": 13,
    "start_time": "2022-02-20T06:11:29.798Z"
   },
   {
    "duration": 8,
    "start_time": "2022-02-20T06:11:29.813Z"
   },
   {
    "duration": 44,
    "start_time": "2022-02-20T06:11:29.823Z"
   },
   {
    "duration": 43,
    "start_time": "2022-02-20T06:11:29.893Z"
   },
   {
    "duration": 54,
    "start_time": "2022-02-20T06:11:29.939Z"
   },
   {
    "duration": 24,
    "start_time": "2022-02-20T06:11:29.996Z"
   },
   {
    "duration": 53,
    "start_time": "2022-02-20T06:11:30.023Z"
   },
   {
    "duration": 23,
    "start_time": "2022-02-20T06:11:30.079Z"
   },
   {
    "duration": 65,
    "start_time": "2022-02-20T06:11:30.105Z"
   },
   {
    "duration": 30,
    "start_time": "2022-02-20T06:11:30.173Z"
   },
   {
    "duration": 13,
    "start_time": "2022-02-20T06:14:58.648Z"
   },
   {
    "duration": 389,
    "start_time": "2022-02-20T06:15:01.804Z"
   },
   {
    "duration": 8,
    "start_time": "2022-02-20T06:15:46.554Z"
   },
   {
    "duration": 824,
    "start_time": "2022-02-20T17:00:49.967Z"
   },
   {
    "duration": 12,
    "start_time": "2022-02-20T17:00:50.794Z"
   },
   {
    "duration": 5,
    "start_time": "2022-02-20T17:00:50.811Z"
   },
   {
    "duration": 11,
    "start_time": "2022-02-20T17:00:50.818Z"
   },
   {
    "duration": 11,
    "start_time": "2022-02-20T17:00:50.831Z"
   },
   {
    "duration": 9,
    "start_time": "2022-02-20T17:00:50.844Z"
   },
   {
    "duration": 9,
    "start_time": "2022-02-20T17:00:50.855Z"
   },
   {
    "duration": 42,
    "start_time": "2022-02-20T17:00:50.867Z"
   },
   {
    "duration": 6,
    "start_time": "2022-02-20T17:00:50.911Z"
   },
   {
    "duration": 23,
    "start_time": "2022-02-20T17:00:50.918Z"
   },
   {
    "duration": 11,
    "start_time": "2022-02-20T17:00:50.943Z"
   },
   {
    "duration": 67,
    "start_time": "2022-02-20T17:00:50.956Z"
   },
   {
    "duration": 26,
    "start_time": "2022-02-20T17:00:51.025Z"
   },
   {
    "duration": 5,
    "start_time": "2022-02-20T17:00:51.053Z"
   },
   {
    "duration": 47,
    "start_time": "2022-02-20T17:00:51.060Z"
   },
   {
    "duration": 7,
    "start_time": "2022-02-20T17:00:51.109Z"
   },
   {
    "duration": 19,
    "start_time": "2022-02-20T17:00:51.119Z"
   },
   {
    "duration": 24,
    "start_time": "2022-02-20T17:00:51.140Z"
   },
   {
    "duration": 17,
    "start_time": "2022-02-20T17:00:51.166Z"
   },
   {
    "duration": 26,
    "start_time": "2022-02-20T17:00:51.186Z"
   },
   {
    "duration": 27,
    "start_time": "2022-02-20T17:00:51.214Z"
   },
   {
    "duration": 18,
    "start_time": "2022-02-20T17:00:51.246Z"
   },
   {
    "duration": 53,
    "start_time": "2022-02-20T17:00:51.267Z"
   },
   {
    "duration": 6,
    "start_time": "2022-02-20T17:00:51.322Z"
   },
   {
    "duration": 39,
    "start_time": "2022-02-20T17:00:51.330Z"
   },
   {
    "duration": 6,
    "start_time": "2022-02-20T17:00:51.371Z"
   },
   {
    "duration": 13,
    "start_time": "2022-02-20T17:00:51.379Z"
   },
   {
    "duration": 21,
    "start_time": "2022-02-20T17:00:51.393Z"
   },
   {
    "duration": 42,
    "start_time": "2022-02-20T17:00:51.416Z"
   },
   {
    "duration": 13,
    "start_time": "2022-02-20T17:00:51.460Z"
   },
   {
    "duration": 16,
    "start_time": "2022-02-20T17:00:51.475Z"
   },
   {
    "duration": 25,
    "start_time": "2022-02-20T17:00:51.493Z"
   },
   {
    "duration": 18,
    "start_time": "2022-02-20T17:00:51.520Z"
   },
   {
    "duration": 17,
    "start_time": "2022-02-20T17:00:51.540Z"
   },
   {
    "duration": 39,
    "start_time": "2022-02-20T17:00:51.559Z"
   },
   {
    "duration": 50,
    "start_time": "2022-02-20T17:00:51.599Z"
   },
   {
    "duration": 18,
    "start_time": "2022-02-20T17:00:51.651Z"
   },
   {
    "duration": 19,
    "start_time": "2022-02-20T17:00:51.671Z"
   },
   {
    "duration": 33,
    "start_time": "2022-02-20T17:00:51.692Z"
   },
   {
    "duration": 9,
    "start_time": "2022-02-20T17:00:51.727Z"
   },
   {
    "duration": 43,
    "start_time": "2022-02-20T17:00:51.737Z"
   },
   {
    "duration": 29,
    "start_time": "2022-02-20T17:00:51.782Z"
   },
   {
    "duration": 9,
    "start_time": "2022-02-20T17:02:57.407Z"
   },
   {
    "duration": 8,
    "start_time": "2022-02-20T17:02:59.496Z"
   },
   {
    "duration": 11,
    "start_time": "2022-02-20T17:09:54.925Z"
   },
   {
    "duration": 8,
    "start_time": "2022-02-20T17:09:56.837Z"
   },
   {
    "duration": 8,
    "start_time": "2022-02-20T17:10:11.889Z"
   },
   {
    "duration": 10,
    "start_time": "2022-02-20T17:10:13.652Z"
   },
   {
    "duration": 18,
    "start_time": "2022-02-20T17:11:06.069Z"
   },
   {
    "duration": 36,
    "start_time": "2022-02-20T17:11:10.509Z"
   },
   {
    "duration": 382,
    "start_time": "2022-02-20T17:14:40.110Z"
   },
   {
    "duration": 254,
    "start_time": "2022-02-20T17:14:47.653Z"
   },
   {
    "duration": 11,
    "start_time": "2022-02-20T17:15:50.998Z"
   },
   {
    "duration": 8,
    "start_time": "2022-02-20T17:17:15.150Z"
   },
   {
    "duration": 262,
    "start_time": "2022-02-20T17:17:39.464Z"
   },
   {
    "duration": 317,
    "start_time": "2022-02-20T17:18:29.526Z"
   },
   {
    "duration": 7,
    "start_time": "2022-02-20T17:18:36.761Z"
   },
   {
    "duration": 35,
    "start_time": "2022-02-20T17:18:42.838Z"
   },
   {
    "duration": 760,
    "start_time": "2022-02-20T17:18:54.944Z"
   },
   {
    "duration": 14,
    "start_time": "2022-02-20T17:18:55.706Z"
   },
   {
    "duration": 6,
    "start_time": "2022-02-20T17:18:55.723Z"
   },
   {
    "duration": 17,
    "start_time": "2022-02-20T17:18:55.732Z"
   },
   {
    "duration": 18,
    "start_time": "2022-02-20T17:18:55.752Z"
   },
   {
    "duration": 38,
    "start_time": "2022-02-20T17:18:55.773Z"
   },
   {
    "duration": 14,
    "start_time": "2022-02-20T17:18:55.813Z"
   },
   {
    "duration": 19,
    "start_time": "2022-02-20T17:18:55.829Z"
   },
   {
    "duration": 8,
    "start_time": "2022-02-20T17:18:55.851Z"
   },
   {
    "duration": 29,
    "start_time": "2022-02-20T17:18:55.861Z"
   },
   {
    "duration": 12,
    "start_time": "2022-02-20T17:18:55.908Z"
   },
   {
    "duration": 52,
    "start_time": "2022-02-20T17:18:55.922Z"
   },
   {
    "duration": 50,
    "start_time": "2022-02-20T17:18:55.977Z"
   },
   {
    "duration": 6,
    "start_time": "2022-02-20T17:18:56.030Z"
   },
   {
    "duration": 31,
    "start_time": "2022-02-20T17:18:56.038Z"
   },
   {
    "duration": 8,
    "start_time": "2022-02-20T17:18:56.072Z"
   },
   {
    "duration": 13,
    "start_time": "2022-02-20T17:18:56.107Z"
   },
   {
    "duration": 13,
    "start_time": "2022-02-20T17:18:56.123Z"
   },
   {
    "duration": 47,
    "start_time": "2022-02-20T17:18:56.138Z"
   },
   {
    "duration": 8,
    "start_time": "2022-02-20T17:18:56.208Z"
   },
   {
    "duration": 24,
    "start_time": "2022-02-20T17:18:56.218Z"
   },
   {
    "duration": 18,
    "start_time": "2022-02-20T17:18:56.245Z"
   },
   {
    "duration": 26,
    "start_time": "2022-02-20T17:18:56.266Z"
   },
   {
    "duration": 66,
    "start_time": "2022-02-20T17:18:56.294Z"
   },
   {
    "duration": 7,
    "start_time": "2022-02-20T17:18:56.362Z"
   },
   {
    "duration": 52,
    "start_time": "2022-02-20T17:18:56.371Z"
   },
   {
    "duration": 8,
    "start_time": "2022-02-20T17:18:56.427Z"
   },
   {
    "duration": 10,
    "start_time": "2022-02-20T17:18:56.438Z"
   },
   {
    "duration": 18,
    "start_time": "2022-02-20T17:18:56.449Z"
   },
   {
    "duration": 39,
    "start_time": "2022-02-20T17:18:56.469Z"
   },
   {
    "duration": 11,
    "start_time": "2022-02-20T17:18:56.510Z"
   },
   {
    "duration": 15,
    "start_time": "2022-02-20T17:18:56.523Z"
   },
   {
    "duration": 23,
    "start_time": "2022-02-20T17:18:56.540Z"
   },
   {
    "duration": 17,
    "start_time": "2022-02-20T17:18:56.564Z"
   },
   {
    "duration": 5,
    "start_time": "2022-02-20T17:18:56.583Z"
   },
   {
    "duration": 46,
    "start_time": "2022-02-20T17:18:56.590Z"
   },
   {
    "duration": 43,
    "start_time": "2022-02-20T17:18:56.638Z"
   },
   {
    "duration": 50,
    "start_time": "2022-02-20T17:18:56.683Z"
   },
   {
    "duration": 20,
    "start_time": "2022-02-20T17:18:56.735Z"
   },
   {
    "duration": 73,
    "start_time": "2022-02-20T17:18:56.758Z"
   },
   {
    "duration": 9,
    "start_time": "2022-02-20T17:18:56.833Z"
   },
   {
    "duration": 43,
    "start_time": "2022-02-20T17:18:56.844Z"
   },
   {
    "duration": 32,
    "start_time": "2022-02-20T17:18:56.889Z"
   },
   {
    "duration": 401,
    "start_time": "2022-02-20T17:19:16.205Z"
   },
   {
    "duration": 10,
    "start_time": "2022-02-20T17:19:22.505Z"
   },
   {
    "duration": 273,
    "start_time": "2022-02-20T17:20:36.900Z"
   },
   {
    "duration": 8,
    "start_time": "2022-02-20T17:20:46.474Z"
   },
   {
    "duration": 34,
    "start_time": "2022-02-20T17:20:54.367Z"
   },
   {
    "duration": 10,
    "start_time": "2022-02-20T17:22:56.002Z"
   },
   {
    "duration": 9,
    "start_time": "2022-02-20T17:23:27.080Z"
   },
   {
    "duration": 356,
    "start_time": "2022-02-20T17:24:03.901Z"
   },
   {
    "duration": 8,
    "start_time": "2022-02-20T17:24:07.649Z"
   },
   {
    "duration": 315,
    "start_time": "2022-02-20T17:27:36.989Z"
   },
   {
    "duration": 7,
    "start_time": "2022-02-20T17:27:41.621Z"
   },
   {
    "duration": 37,
    "start_time": "2022-02-20T17:27:42.475Z"
   },
   {
    "duration": 17,
    "start_time": "2022-02-20T17:30:33.422Z"
   },
   {
    "duration": 17,
    "start_time": "2022-02-20T17:30:42.454Z"
   },
   {
    "duration": 23,
    "start_time": "2022-02-20T17:30:50.935Z"
   },
   {
    "duration": 54,
    "start_time": "2022-02-20T17:30:57.200Z"
   },
   {
    "duration": 730,
    "start_time": "2022-02-20T17:31:19.523Z"
   },
   {
    "duration": 13,
    "start_time": "2022-02-20T17:31:20.255Z"
   },
   {
    "duration": 16,
    "start_time": "2022-02-20T17:31:20.271Z"
   },
   {
    "duration": 24,
    "start_time": "2022-02-20T17:31:20.289Z"
   },
   {
    "duration": 23,
    "start_time": "2022-02-20T17:31:20.315Z"
   },
   {
    "duration": 9,
    "start_time": "2022-02-20T17:31:20.340Z"
   },
   {
    "duration": 16,
    "start_time": "2022-02-20T17:31:20.351Z"
   },
   {
    "duration": 17,
    "start_time": "2022-02-20T17:31:20.370Z"
   },
   {
    "duration": 8,
    "start_time": "2022-02-20T17:31:20.407Z"
   },
   {
    "duration": 25,
    "start_time": "2022-02-20T17:31:20.417Z"
   },
   {
    "duration": 13,
    "start_time": "2022-02-20T17:31:20.444Z"
   },
   {
    "duration": 71,
    "start_time": "2022-02-20T17:31:20.459Z"
   },
   {
    "duration": 30,
    "start_time": "2022-02-20T17:31:20.533Z"
   },
   {
    "duration": 7,
    "start_time": "2022-02-20T17:31:20.565Z"
   },
   {
    "duration": 56,
    "start_time": "2022-02-20T17:31:20.573Z"
   },
   {
    "duration": 8,
    "start_time": "2022-02-20T17:31:20.632Z"
   },
   {
    "duration": 29,
    "start_time": "2022-02-20T17:31:20.642Z"
   },
   {
    "duration": 15,
    "start_time": "2022-02-20T17:31:20.673Z"
   },
   {
    "duration": 54,
    "start_time": "2022-02-20T17:31:20.690Z"
   },
   {
    "duration": 8,
    "start_time": "2022-02-20T17:31:20.746Z"
   },
   {
    "duration": 29,
    "start_time": "2022-02-20T17:31:20.757Z"
   },
   {
    "duration": 27,
    "start_time": "2022-02-20T17:31:20.788Z"
   },
   {
    "duration": 17,
    "start_time": "2022-02-20T17:31:20.819Z"
   },
   {
    "duration": 46,
    "start_time": "2022-02-20T17:31:20.838Z"
   },
   {
    "duration": 23,
    "start_time": "2022-02-20T17:31:20.886Z"
   },
   {
    "duration": 38,
    "start_time": "2022-02-20T17:31:20.911Z"
   },
   {
    "duration": 19,
    "start_time": "2022-02-20T17:31:20.951Z"
   },
   {
    "duration": 21,
    "start_time": "2022-02-20T17:31:20.972Z"
   },
   {
    "duration": 25,
    "start_time": "2022-02-20T17:31:20.996Z"
   },
   {
    "duration": 32,
    "start_time": "2022-02-20T17:31:21.023Z"
   },
   {
    "duration": 25,
    "start_time": "2022-02-20T17:31:21.058Z"
   },
   {
    "duration": 41,
    "start_time": "2022-02-20T17:31:21.085Z"
   },
   {
    "duration": 42,
    "start_time": "2022-02-20T17:31:21.128Z"
   },
   {
    "duration": 11,
    "start_time": "2022-02-20T17:31:21.172Z"
   },
   {
    "duration": 24,
    "start_time": "2022-02-20T17:31:21.186Z"
   },
   {
    "duration": 47,
    "start_time": "2022-02-20T17:31:21.212Z"
   },
   {
    "duration": 41,
    "start_time": "2022-02-20T17:31:21.261Z"
   },
   {
    "duration": 19,
    "start_time": "2022-02-20T17:31:21.304Z"
   },
   {
    "duration": 19,
    "start_time": "2022-02-20T17:31:21.325Z"
   },
   {
    "duration": 50,
    "start_time": "2022-02-20T17:31:21.345Z"
   },
   {
    "duration": 18,
    "start_time": "2022-02-20T17:31:21.397Z"
   },
   {
    "duration": 61,
    "start_time": "2022-02-20T17:31:21.417Z"
   },
   {
    "duration": 29,
    "start_time": "2022-02-20T17:31:21.480Z"
   },
   {
    "duration": 22,
    "start_time": "2022-02-20T17:50:48.965Z"
   },
   {
    "duration": 698,
    "start_time": "2022-02-20T17:50:56.229Z"
   },
   {
    "duration": 14,
    "start_time": "2022-02-20T17:50:56.929Z"
   },
   {
    "duration": 14,
    "start_time": "2022-02-20T17:50:56.946Z"
   },
   {
    "duration": 12,
    "start_time": "2022-02-20T17:50:56.963Z"
   },
   {
    "duration": 31,
    "start_time": "2022-02-20T17:50:56.977Z"
   },
   {
    "duration": 7,
    "start_time": "2022-02-20T17:50:57.011Z"
   },
   {
    "duration": 8,
    "start_time": "2022-02-20T17:50:57.020Z"
   },
   {
    "duration": 6,
    "start_time": "2022-02-20T17:50:57.031Z"
   },
   {
    "duration": 13,
    "start_time": "2022-02-20T17:50:57.039Z"
   },
   {
    "duration": 21,
    "start_time": "2022-02-20T17:50:57.054Z"
   },
   {
    "duration": 11,
    "start_time": "2022-02-20T17:50:57.108Z"
   },
   {
    "duration": 42,
    "start_time": "2022-02-20T17:50:57.121Z"
   },
   {
    "duration": 48,
    "start_time": "2022-02-20T17:50:57.165Z"
   },
   {
    "duration": 5,
    "start_time": "2022-02-20T17:50:57.215Z"
   },
   {
    "duration": 25,
    "start_time": "2022-02-20T17:50:57.222Z"
   },
   {
    "duration": 7,
    "start_time": "2022-02-20T17:50:57.248Z"
   },
   {
    "duration": 11,
    "start_time": "2022-02-20T17:50:57.257Z"
   },
   {
    "duration": 39,
    "start_time": "2022-02-20T17:50:57.270Z"
   },
   {
    "duration": 44,
    "start_time": "2022-02-20T17:50:57.311Z"
   },
   {
    "duration": 9,
    "start_time": "2022-02-20T17:50:57.357Z"
   },
   {
    "duration": 13,
    "start_time": "2022-02-20T17:50:57.368Z"
   },
   {
    "duration": 37,
    "start_time": "2022-02-20T17:50:57.383Z"
   },
   {
    "duration": 19,
    "start_time": "2022-02-20T17:50:57.424Z"
   },
   {
    "duration": 69,
    "start_time": "2022-02-20T17:50:57.446Z"
   },
   {
    "duration": 6,
    "start_time": "2022-02-20T17:50:57.517Z"
   },
   {
    "duration": 35,
    "start_time": "2022-02-20T17:50:57.525Z"
   },
   {
    "duration": 7,
    "start_time": "2022-02-20T17:50:57.562Z"
   },
   {
    "duration": 37,
    "start_time": "2022-02-20T17:50:57.572Z"
   },
   {
    "duration": 9,
    "start_time": "2022-02-20T17:50:57.611Z"
   },
   {
    "duration": 26,
    "start_time": "2022-02-20T17:50:57.623Z"
   },
   {
    "duration": 12,
    "start_time": "2022-02-20T17:50:57.652Z"
   },
   {
    "duration": 45,
    "start_time": "2022-02-20T17:50:57.667Z"
   },
   {
    "duration": 18,
    "start_time": "2022-02-20T17:50:57.714Z"
   },
   {
    "duration": 16,
    "start_time": "2022-02-20T17:50:57.734Z"
   },
   {
    "duration": 6,
    "start_time": "2022-02-20T17:50:57.752Z"
   },
   {
    "duration": 48,
    "start_time": "2022-02-20T17:50:57.760Z"
   },
   {
    "duration": 29,
    "start_time": "2022-02-20T17:50:57.810Z"
   },
   {
    "duration": 26,
    "start_time": "2022-02-20T17:50:57.841Z"
   },
   {
    "duration": 43,
    "start_time": "2022-02-20T17:50:57.869Z"
   },
   {
    "duration": 33,
    "start_time": "2022-02-20T17:50:57.915Z"
   },
   {
    "duration": 9,
    "start_time": "2022-02-20T17:50:57.950Z"
   },
   {
    "duration": 61,
    "start_time": "2022-02-20T17:50:57.961Z"
   },
   {
    "duration": 17,
    "start_time": "2022-02-20T17:50:58.024Z"
   },
   {
    "duration": 33,
    "start_time": "2022-02-20T17:52:06.879Z"
   },
   {
    "duration": 50,
    "start_time": "2022-02-20T17:53:40.350Z"
   },
   {
    "duration": 48,
    "start_time": "2022-02-20T17:54:12.226Z"
   },
   {
    "duration": 7,
    "start_time": "2022-02-20T17:54:25.665Z"
   },
   {
    "duration": 53,
    "start_time": "2022-02-20T17:54:27.498Z"
   },
   {
    "duration": 8,
    "start_time": "2022-02-20T17:54:33.017Z"
   },
   {
    "duration": 5,
    "start_time": "2022-02-20T17:54:35.792Z"
   },
   {
    "duration": 6,
    "start_time": "2022-02-20T17:54:37.174Z"
   },
   {
    "duration": 24,
    "start_time": "2022-02-20T17:54:42.852Z"
   },
   {
    "duration": 761,
    "start_time": "2022-02-20T17:54:53.483Z"
   },
   {
    "duration": 14,
    "start_time": "2022-02-20T17:54:54.246Z"
   },
   {
    "duration": 5,
    "start_time": "2022-02-20T17:54:54.262Z"
   },
   {
    "duration": 13,
    "start_time": "2022-02-20T17:54:54.269Z"
   },
   {
    "duration": 32,
    "start_time": "2022-02-20T17:54:54.284Z"
   },
   {
    "duration": 10,
    "start_time": "2022-02-20T17:54:54.318Z"
   },
   {
    "duration": 11,
    "start_time": "2022-02-20T17:54:54.330Z"
   },
   {
    "duration": 7,
    "start_time": "2022-02-20T17:54:54.344Z"
   },
   {
    "duration": 7,
    "start_time": "2022-02-20T17:54:54.353Z"
   },
   {
    "duration": 49,
    "start_time": "2022-02-20T17:54:54.362Z"
   },
   {
    "duration": 11,
    "start_time": "2022-02-20T17:54:54.413Z"
   },
   {
    "duration": 41,
    "start_time": "2022-02-20T17:54:54.426Z"
   },
   {
    "duration": 48,
    "start_time": "2022-02-20T17:54:54.468Z"
   },
   {
    "duration": 5,
    "start_time": "2022-02-20T17:54:54.518Z"
   },
   {
    "duration": 30,
    "start_time": "2022-02-20T17:54:54.525Z"
   },
   {
    "duration": 6,
    "start_time": "2022-02-20T17:54:54.557Z"
   },
   {
    "duration": 12,
    "start_time": "2022-02-20T17:54:54.565Z"
   },
   {
    "duration": 32,
    "start_time": "2022-02-20T17:54:54.579Z"
   },
   {
    "duration": 36,
    "start_time": "2022-02-20T17:54:54.613Z"
   },
   {
    "duration": 9,
    "start_time": "2022-02-20T17:54:54.651Z"
   },
   {
    "duration": 16,
    "start_time": "2022-02-20T17:54:54.661Z"
   },
   {
    "duration": 43,
    "start_time": "2022-02-20T17:54:54.679Z"
   },
   {
    "duration": 17,
    "start_time": "2022-02-20T17:54:54.726Z"
   },
   {
    "duration": 33,
    "start_time": "2022-02-20T17:54:54.745Z"
   },
   {
    "duration": 30,
    "start_time": "2022-02-20T17:54:54.780Z"
   },
   {
    "duration": 36,
    "start_time": "2022-02-20T17:54:54.811Z"
   },
   {
    "duration": 6,
    "start_time": "2022-02-20T17:54:54.850Z"
   },
   {
    "duration": 10,
    "start_time": "2022-02-20T17:54:54.858Z"
   },
   {
    "duration": 10,
    "start_time": "2022-02-20T17:54:54.870Z"
   },
   {
    "duration": 41,
    "start_time": "2022-02-20T17:54:54.881Z"
   },
   {
    "duration": 12,
    "start_time": "2022-02-20T17:54:54.924Z"
   },
   {
    "duration": 16,
    "start_time": "2022-02-20T17:54:54.938Z"
   },
   {
    "duration": 15,
    "start_time": "2022-02-20T17:54:54.956Z"
   },
   {
    "duration": 41,
    "start_time": "2022-02-20T17:54:54.972Z"
   },
   {
    "duration": 8,
    "start_time": "2022-02-20T17:54:55.015Z"
   },
   {
    "duration": 37,
    "start_time": "2022-02-20T17:54:55.025Z"
   },
   {
    "duration": 45,
    "start_time": "2022-02-20T17:54:55.064Z"
   },
   {
    "duration": 19,
    "start_time": "2022-02-20T17:54:55.111Z"
   },
   {
    "duration": 26,
    "start_time": "2022-02-20T17:54:55.132Z"
   },
   {
    "duration": 53,
    "start_time": "2022-02-20T17:54:55.160Z"
   },
   {
    "duration": 9,
    "start_time": "2022-02-20T17:54:55.215Z"
   },
   {
    "duration": 45,
    "start_time": "2022-02-20T17:54:55.226Z"
   },
   {
    "duration": 17,
    "start_time": "2022-02-20T17:54:55.273Z"
   },
   {
    "duration": 47,
    "start_time": "2022-02-20T17:56:27.592Z"
   },
   {
    "duration": 8,
    "start_time": "2022-02-20T17:56:29.661Z"
   },
   {
    "duration": 808,
    "start_time": "2022-02-20T17:56:35.611Z"
   },
   {
    "duration": 13,
    "start_time": "2022-02-20T17:56:36.422Z"
   },
   {
    "duration": 5,
    "start_time": "2022-02-20T17:56:36.437Z"
   },
   {
    "duration": 12,
    "start_time": "2022-02-20T17:56:36.444Z"
   },
   {
    "duration": 13,
    "start_time": "2022-02-20T17:56:36.459Z"
   },
   {
    "duration": 33,
    "start_time": "2022-02-20T17:56:36.474Z"
   },
   {
    "duration": 7,
    "start_time": "2022-02-20T17:56:36.510Z"
   },
   {
    "duration": 8,
    "start_time": "2022-02-20T17:56:36.520Z"
   },
   {
    "duration": 5,
    "start_time": "2022-02-20T17:56:36.531Z"
   },
   {
    "duration": 29,
    "start_time": "2022-02-20T17:56:36.538Z"
   },
   {
    "duration": 43,
    "start_time": "2022-02-20T17:56:36.569Z"
   },
   {
    "duration": 35,
    "start_time": "2022-02-20T17:56:36.614Z"
   },
   {
    "duration": 30,
    "start_time": "2022-02-20T17:56:36.651Z"
   },
   {
    "duration": 28,
    "start_time": "2022-02-20T17:56:36.683Z"
   },
   {
    "duration": 37,
    "start_time": "2022-02-20T17:56:36.713Z"
   },
   {
    "duration": 6,
    "start_time": "2022-02-20T17:56:36.752Z"
   },
   {
    "duration": 13,
    "start_time": "2022-02-20T17:56:36.760Z"
   },
   {
    "duration": 7,
    "start_time": "2022-02-20T17:56:36.775Z"
   },
   {
    "duration": 61,
    "start_time": "2022-02-20T17:56:36.783Z"
   },
   {
    "duration": 8,
    "start_time": "2022-02-20T17:56:36.846Z"
   },
   {
    "duration": 19,
    "start_time": "2022-02-20T17:56:36.857Z"
   },
   {
    "duration": 36,
    "start_time": "2022-02-20T17:56:36.879Z"
   },
   {
    "duration": 20,
    "start_time": "2022-02-20T17:56:36.919Z"
   },
   {
    "duration": 36,
    "start_time": "2022-02-20T17:56:36.941Z"
   },
   {
    "duration": 30,
    "start_time": "2022-02-20T17:56:36.979Z"
   },
   {
    "duration": 34,
    "start_time": "2022-02-20T17:56:37.011Z"
   },
   {
    "duration": 6,
    "start_time": "2022-02-20T17:56:37.047Z"
   },
   {
    "duration": 6,
    "start_time": "2022-02-20T17:56:37.054Z"
   },
   {
    "duration": 8,
    "start_time": "2022-02-20T17:56:37.063Z"
   },
   {
    "duration": 24,
    "start_time": "2022-02-20T17:56:37.108Z"
   },
   {
    "duration": 13,
    "start_time": "2022-02-20T17:56:37.134Z"
   },
   {
    "duration": 12,
    "start_time": "2022-02-20T17:56:37.149Z"
   },
   {
    "duration": 51,
    "start_time": "2022-02-20T17:56:37.163Z"
   },
   {
    "duration": 12,
    "start_time": "2022-02-20T17:56:37.217Z"
   },
   {
    "duration": 6,
    "start_time": "2022-02-20T17:56:37.231Z"
   },
   {
    "duration": 35,
    "start_time": "2022-02-20T17:56:37.239Z"
   },
   {
    "duration": 51,
    "start_time": "2022-02-20T17:56:37.276Z"
   },
   {
    "duration": 18,
    "start_time": "2022-02-20T17:56:37.329Z"
   },
   {
    "duration": 18,
    "start_time": "2022-02-20T17:56:37.349Z"
   },
   {
    "duration": 58,
    "start_time": "2022-02-20T17:56:37.368Z"
   },
   {
    "duration": 8,
    "start_time": "2022-02-20T17:56:37.428Z"
   },
   {
    "duration": 35,
    "start_time": "2022-02-20T17:56:37.438Z"
   },
   {
    "duration": 42,
    "start_time": "2022-02-20T17:56:37.475Z"
   },
   {
    "duration": 25,
    "start_time": "2022-02-20T17:56:51.996Z"
   },
   {
    "duration": 47,
    "start_time": "2022-02-20T17:56:53.852Z"
   },
   {
    "duration": 6,
    "start_time": "2022-02-20T17:56:58.044Z"
   },
   {
    "duration": 37,
    "start_time": "2022-02-20T17:56:59.147Z"
   },
   {
    "duration": 7,
    "start_time": "2022-02-20T17:57:02.519Z"
   },
   {
    "duration": 6,
    "start_time": "2022-02-20T17:57:03.124Z"
   },
   {
    "duration": 6,
    "start_time": "2022-02-20T17:57:05.327Z"
   },
   {
    "duration": 25,
    "start_time": "2022-02-20T17:57:06.633Z"
   },
   {
    "duration": 327,
    "start_time": "2022-02-20T18:02:58.125Z"
   },
   {
    "duration": 9,
    "start_time": "2022-02-20T18:03:07.240Z"
   },
   {
    "duration": 49,
    "start_time": "2022-02-20T18:03:16.478Z"
   },
   {
    "duration": 719,
    "start_time": "2022-02-20T18:03:23.411Z"
   },
   {
    "duration": 13,
    "start_time": "2022-02-20T18:03:24.132Z"
   },
   {
    "duration": 5,
    "start_time": "2022-02-20T18:03:24.149Z"
   },
   {
    "duration": 14,
    "start_time": "2022-02-20T18:03:24.156Z"
   },
   {
    "duration": 41,
    "start_time": "2022-02-20T18:03:24.171Z"
   },
   {
    "duration": 11,
    "start_time": "2022-02-20T18:03:24.214Z"
   },
   {
    "duration": 7,
    "start_time": "2022-02-20T18:03:24.228Z"
   },
   {
    "duration": 7,
    "start_time": "2022-02-20T18:03:24.237Z"
   },
   {
    "duration": 12,
    "start_time": "2022-02-20T18:03:24.246Z"
   },
   {
    "duration": 22,
    "start_time": "2022-02-20T18:03:24.260Z"
   },
   {
    "duration": 12,
    "start_time": "2022-02-20T18:03:24.308Z"
   },
   {
    "duration": 45,
    "start_time": "2022-02-20T18:03:24.322Z"
   },
   {
    "duration": 40,
    "start_time": "2022-02-20T18:03:24.369Z"
   },
   {
    "duration": 5,
    "start_time": "2022-02-20T18:03:24.411Z"
   },
   {
    "duration": 31,
    "start_time": "2022-02-20T18:03:24.418Z"
   },
   {
    "duration": 7,
    "start_time": "2022-02-20T18:03:24.451Z"
   },
   {
    "duration": 14,
    "start_time": "2022-02-20T18:03:24.459Z"
   },
   {
    "duration": 9,
    "start_time": "2022-02-20T18:03:24.476Z"
   },
   {
    "duration": 39,
    "start_time": "2022-02-20T18:03:24.508Z"
   },
   {
    "duration": 8,
    "start_time": "2022-02-20T18:03:24.549Z"
   },
   {
    "duration": 12,
    "start_time": "2022-02-20T18:03:24.559Z"
   },
   {
    "duration": 38,
    "start_time": "2022-02-20T18:03:24.575Z"
   },
   {
    "duration": 17,
    "start_time": "2022-02-20T18:03:24.616Z"
   },
   {
    "duration": 36,
    "start_time": "2022-02-20T18:03:24.635Z"
   },
   {
    "duration": 35,
    "start_time": "2022-02-20T18:03:24.674Z"
   },
   {
    "duration": 32,
    "start_time": "2022-02-20T18:03:24.710Z"
   },
   {
    "duration": 5,
    "start_time": "2022-02-20T18:03:24.744Z"
   },
   {
    "duration": 13,
    "start_time": "2022-02-20T18:03:24.751Z"
   },
   {
    "duration": 12,
    "start_time": "2022-02-20T18:03:24.766Z"
   },
   {
    "duration": 43,
    "start_time": "2022-02-20T18:03:24.780Z"
   },
   {
    "duration": 12,
    "start_time": "2022-02-20T18:03:24.824Z"
   },
   {
    "duration": 11,
    "start_time": "2022-02-20T18:03:24.837Z"
   },
   {
    "duration": 21,
    "start_time": "2022-02-20T18:03:24.849Z"
   },
   {
    "duration": 40,
    "start_time": "2022-02-20T18:03:24.873Z"
   },
   {
    "duration": 8,
    "start_time": "2022-02-20T18:03:24.915Z"
   },
   {
    "duration": 34,
    "start_time": "2022-02-20T18:03:24.925Z"
   },
   {
    "duration": 52,
    "start_time": "2022-02-20T18:03:24.961Z"
   },
   {
    "duration": 20,
    "start_time": "2022-02-20T18:03:25.016Z"
   },
   {
    "duration": 19,
    "start_time": "2022-02-20T18:03:25.038Z"
   },
   {
    "duration": 65,
    "start_time": "2022-02-20T18:03:25.060Z"
   },
   {
    "duration": 9,
    "start_time": "2022-02-20T18:03:25.126Z"
   },
   {
    "duration": 36,
    "start_time": "2022-02-20T18:03:25.137Z"
   },
   {
    "duration": 34,
    "start_time": "2022-02-20T18:03:25.175Z"
   },
   {
    "duration": 320,
    "start_time": "2022-02-20T18:16:35.212Z"
   },
   {
    "duration": 8,
    "start_time": "2022-02-20T18:16:40.431Z"
   },
   {
    "duration": 41,
    "start_time": "2022-02-20T18:16:48.049Z"
   },
   {
    "duration": 26,
    "start_time": "2022-02-20T18:21:32.710Z"
   },
   {
    "duration": 14,
    "start_time": "2022-02-20T18:21:40.769Z"
   },
   {
    "duration": 8,
    "start_time": "2022-02-20T18:24:19.867Z"
   },
   {
    "duration": 668,
    "start_time": "2022-02-20T18:24:48.964Z"
   },
   {
    "duration": 12,
    "start_time": "2022-02-20T18:24:49.634Z"
   },
   {
    "duration": 10,
    "start_time": "2022-02-20T18:24:49.649Z"
   },
   {
    "duration": 32,
    "start_time": "2022-02-20T18:24:49.661Z"
   },
   {
    "duration": 14,
    "start_time": "2022-02-20T18:24:49.695Z"
   },
   {
    "duration": 8,
    "start_time": "2022-02-20T18:24:49.711Z"
   },
   {
    "duration": 9,
    "start_time": "2022-02-20T18:24:49.721Z"
   },
   {
    "duration": 17,
    "start_time": "2022-02-20T18:24:49.733Z"
   },
   {
    "duration": 16,
    "start_time": "2022-02-20T18:24:49.753Z"
   },
   {
    "duration": 36,
    "start_time": "2022-02-20T18:24:49.771Z"
   },
   {
    "duration": 11,
    "start_time": "2022-02-20T18:24:49.809Z"
   },
   {
    "duration": 43,
    "start_time": "2022-02-20T18:24:49.821Z"
   },
   {
    "duration": 43,
    "start_time": "2022-02-20T18:24:49.866Z"
   },
   {
    "duration": 6,
    "start_time": "2022-02-20T18:24:49.911Z"
   },
   {
    "duration": 24,
    "start_time": "2022-02-20T18:24:49.918Z"
   },
   {
    "duration": 9,
    "start_time": "2022-02-20T18:24:49.944Z"
   },
   {
    "duration": 14,
    "start_time": "2022-02-20T18:24:49.955Z"
   },
   {
    "duration": 12,
    "start_time": "2022-02-20T18:24:49.971Z"
   },
   {
    "duration": 38,
    "start_time": "2022-02-20T18:24:50.008Z"
   },
   {
    "duration": 8,
    "start_time": "2022-02-20T18:24:50.048Z"
   },
   {
    "duration": 24,
    "start_time": "2022-02-20T18:24:50.057Z"
   },
   {
    "duration": 31,
    "start_time": "2022-02-20T18:24:50.083Z"
   },
   {
    "duration": 17,
    "start_time": "2022-02-20T18:24:50.117Z"
   },
   {
    "duration": 41,
    "start_time": "2022-02-20T18:24:50.136Z"
   },
   {
    "duration": 5,
    "start_time": "2022-02-20T18:24:50.179Z"
   },
   {
    "duration": 31,
    "start_time": "2022-02-20T18:24:50.208Z"
   },
   {
    "duration": 23,
    "start_time": "2022-02-20T18:24:50.241Z"
   },
   {
    "duration": 20,
    "start_time": "2022-02-20T18:24:50.266Z"
   },
   {
    "duration": 18,
    "start_time": "2022-02-20T18:24:50.288Z"
   },
   {
    "duration": 29,
    "start_time": "2022-02-20T18:24:50.308Z"
   },
   {
    "duration": 12,
    "start_time": "2022-02-20T18:24:50.339Z"
   },
   {
    "duration": 11,
    "start_time": "2022-02-20T18:24:50.353Z"
   },
   {
    "duration": 22,
    "start_time": "2022-02-20T18:24:50.365Z"
   },
   {
    "duration": 28,
    "start_time": "2022-02-20T18:24:50.389Z"
   },
   {
    "duration": 8,
    "start_time": "2022-02-20T18:24:50.419Z"
   },
   {
    "duration": 48,
    "start_time": "2022-02-20T18:24:50.429Z"
   },
   {
    "duration": 34,
    "start_time": "2022-02-20T18:24:50.480Z"
   },
   {
    "duration": 30,
    "start_time": "2022-02-20T18:24:50.517Z"
   },
   {
    "duration": 16,
    "start_time": "2022-02-20T18:24:50.549Z"
   },
   {
    "duration": 43,
    "start_time": "2022-02-20T18:24:50.567Z"
   },
   {
    "duration": 10,
    "start_time": "2022-02-20T18:24:50.612Z"
   },
   {
    "duration": 44,
    "start_time": "2022-02-20T18:24:50.624Z"
   },
   {
    "duration": 18,
    "start_time": "2022-02-20T18:24:50.670Z"
   },
   {
    "duration": 14,
    "start_time": "2022-02-20T18:25:46.815Z"
   },
   {
    "duration": 7,
    "start_time": "2022-02-20T18:25:49.017Z"
   },
   {
    "duration": 7,
    "start_time": "2022-02-20T18:25:56.480Z"
   },
   {
    "duration": 40,
    "start_time": "2022-02-20T18:26:03.483Z"
   },
   {
    "duration": 6,
    "start_time": "2022-02-20T18:26:11.494Z"
   },
   {
    "duration": 25,
    "start_time": "2022-02-20T18:26:12.712Z"
   },
   {
    "duration": 13,
    "start_time": "2022-02-20T18:26:16.575Z"
   },
   {
    "duration": 719,
    "start_time": "2022-02-20T18:26:21.647Z"
   },
   {
    "duration": 13,
    "start_time": "2022-02-20T18:26:22.368Z"
   },
   {
    "duration": 7,
    "start_time": "2022-02-20T18:26:22.383Z"
   },
   {
    "duration": 10,
    "start_time": "2022-02-20T18:26:22.409Z"
   },
   {
    "duration": 13,
    "start_time": "2022-02-20T18:26:22.421Z"
   },
   {
    "duration": 8,
    "start_time": "2022-02-20T18:26:22.436Z"
   },
   {
    "duration": 9,
    "start_time": "2022-02-20T18:26:22.446Z"
   },
   {
    "duration": 5,
    "start_time": "2022-02-20T18:26:22.458Z"
   },
   {
    "duration": 46,
    "start_time": "2022-02-20T18:26:22.466Z"
   },
   {
    "duration": 21,
    "start_time": "2022-02-20T18:26:22.514Z"
   },
   {
    "duration": 12,
    "start_time": "2022-02-20T18:26:22.538Z"
   },
   {
    "duration": 65,
    "start_time": "2022-02-20T18:26:22.552Z"
   },
   {
    "duration": 27,
    "start_time": "2022-02-20T18:26:22.618Z"
   },
   {
    "duration": 6,
    "start_time": "2022-02-20T18:26:22.647Z"
   },
   {
    "duration": 20,
    "start_time": "2022-02-20T18:26:22.655Z"
   },
   {
    "duration": 42,
    "start_time": "2022-02-20T18:26:22.677Z"
   },
   {
    "duration": 8,
    "start_time": "2022-02-20T18:26:22.721Z"
   },
   {
    "duration": 8,
    "start_time": "2022-02-20T18:26:22.731Z"
   },
   {
    "duration": 36,
    "start_time": "2022-02-20T18:26:22.741Z"
   },
   {
    "duration": 33,
    "start_time": "2022-02-20T18:26:22.779Z"
   },
   {
    "duration": 16,
    "start_time": "2022-02-20T18:26:22.814Z"
   },
   {
    "duration": 19,
    "start_time": "2022-02-20T18:26:22.832Z"
   },
   {
    "duration": 16,
    "start_time": "2022-02-20T18:26:22.855Z"
   },
   {
    "duration": 64,
    "start_time": "2022-02-20T18:26:22.873Z"
   },
   {
    "duration": 6,
    "start_time": "2022-02-20T18:26:22.938Z"
   },
   {
    "duration": 33,
    "start_time": "2022-02-20T18:26:22.946Z"
   },
   {
    "duration": 29,
    "start_time": "2022-02-20T18:26:22.981Z"
   },
   {
    "duration": 8,
    "start_time": "2022-02-20T18:26:23.012Z"
   },
   {
    "duration": 8,
    "start_time": "2022-02-20T18:26:23.022Z"
   },
   {
    "duration": 22,
    "start_time": "2022-02-20T18:26:23.032Z"
   },
   {
    "duration": 11,
    "start_time": "2022-02-20T18:26:23.056Z"
   },
   {
    "duration": 45,
    "start_time": "2022-02-20T18:26:23.069Z"
   },
   {
    "duration": 13,
    "start_time": "2022-02-20T18:26:23.116Z"
   },
   {
    "duration": 12,
    "start_time": "2022-02-20T18:26:23.131Z"
   },
   {
    "duration": 7,
    "start_time": "2022-02-20T18:26:23.145Z"
   },
   {
    "duration": 63,
    "start_time": "2022-02-20T18:26:23.154Z"
   },
   {
    "duration": 30,
    "start_time": "2022-02-20T18:26:23.220Z"
   },
   {
    "duration": 20,
    "start_time": "2022-02-20T18:26:23.252Z"
   },
   {
    "duration": 43,
    "start_time": "2022-02-20T18:26:23.273Z"
   },
   {
    "duration": 31,
    "start_time": "2022-02-20T18:26:23.317Z"
   },
   {
    "duration": 9,
    "start_time": "2022-02-20T18:26:23.350Z"
   },
   {
    "duration": 57,
    "start_time": "2022-02-20T18:26:23.360Z"
   },
   {
    "duration": 18,
    "start_time": "2022-02-20T18:26:23.419Z"
   },
   {
    "duration": 13,
    "start_time": "2022-02-20T18:26:50.474Z"
   },
   {
    "duration": 9,
    "start_time": "2022-02-20T18:30:24.055Z"
   },
   {
    "duration": 27,
    "start_time": "2022-02-20T18:31:24.332Z"
   },
   {
    "duration": 13,
    "start_time": "2022-02-20T18:31:30.454Z"
   },
   {
    "duration": 729,
    "start_time": "2022-02-20T18:37:22.290Z"
   },
   {
    "duration": 13,
    "start_time": "2022-02-20T18:37:23.022Z"
   },
   {
    "duration": 24,
    "start_time": "2022-02-20T18:37:23.037Z"
   },
   {
    "duration": 27,
    "start_time": "2022-02-20T18:37:23.064Z"
   },
   {
    "duration": 22,
    "start_time": "2022-02-20T18:37:23.093Z"
   },
   {
    "duration": 29,
    "start_time": "2022-02-20T18:37:23.118Z"
   },
   {
    "duration": 18,
    "start_time": "2022-02-20T18:37:23.150Z"
   },
   {
    "duration": 16,
    "start_time": "2022-02-20T18:37:23.172Z"
   },
   {
    "duration": 22,
    "start_time": "2022-02-20T18:37:23.190Z"
   },
   {
    "duration": 45,
    "start_time": "2022-02-20T18:37:23.214Z"
   },
   {
    "duration": 34,
    "start_time": "2022-02-20T18:37:23.261Z"
   },
   {
    "duration": 34,
    "start_time": "2022-02-20T18:37:23.297Z"
   },
   {
    "duration": 18,
    "start_time": "2022-02-20T18:37:23.333Z"
   },
   {
    "duration": 29,
    "start_time": "2022-02-20T18:37:23.353Z"
   },
   {
    "duration": 7,
    "start_time": "2022-02-20T18:37:23.384Z"
   },
   {
    "duration": 16,
    "start_time": "2022-02-20T18:37:23.393Z"
   },
   {
    "duration": 7,
    "start_time": "2022-02-20T18:37:23.411Z"
   },
   {
    "duration": 40,
    "start_time": "2022-02-20T18:37:23.420Z"
   },
   {
    "duration": 8,
    "start_time": "2022-02-20T18:37:23.462Z"
   },
   {
    "duration": 39,
    "start_time": "2022-02-20T18:37:23.471Z"
   },
   {
    "duration": 16,
    "start_time": "2022-02-20T18:37:23.512Z"
   },
   {
    "duration": 16,
    "start_time": "2022-02-20T18:37:23.530Z"
   },
   {
    "duration": 60,
    "start_time": "2022-02-20T18:37:23.550Z"
   },
   {
    "duration": 5,
    "start_time": "2022-02-20T18:37:23.612Z"
   },
   {
    "duration": 40,
    "start_time": "2022-02-20T18:37:23.619Z"
   },
   {
    "duration": 6,
    "start_time": "2022-02-20T18:37:23.661Z"
   },
   {
    "duration": 9,
    "start_time": "2022-02-20T18:37:23.668Z"
   },
   {
    "duration": 30,
    "start_time": "2022-02-20T18:37:23.678Z"
   },
   {
    "duration": 21,
    "start_time": "2022-02-20T18:37:23.710Z"
   },
   {
    "duration": 14,
    "start_time": "2022-02-20T18:37:23.733Z"
   },
   {
    "duration": 11,
    "start_time": "2022-02-20T18:37:23.749Z"
   },
   {
    "duration": 15,
    "start_time": "2022-02-20T18:37:23.762Z"
   },
   {
    "duration": 10,
    "start_time": "2022-02-20T18:37:23.808Z"
   },
   {
    "duration": 12,
    "start_time": "2022-02-20T18:37:23.820Z"
   },
   {
    "duration": 32,
    "start_time": "2022-02-20T18:37:23.835Z"
   },
   {
    "duration": 52,
    "start_time": "2022-02-20T18:37:23.869Z"
   },
   {
    "duration": 20,
    "start_time": "2022-02-20T18:37:23.923Z"
   },
   {
    "duration": 18,
    "start_time": "2022-02-20T18:37:23.945Z"
   },
   {
    "duration": 60,
    "start_time": "2022-02-20T18:37:23.965Z"
   },
   {
    "duration": 10,
    "start_time": "2022-02-20T18:37:24.027Z"
   },
   {
    "duration": 45,
    "start_time": "2022-02-20T18:37:24.039Z"
   },
   {
    "duration": 32,
    "start_time": "2022-02-20T18:37:24.086Z"
   },
   {
    "duration": 7,
    "start_time": "2022-02-20T18:45:56.176Z"
   },
   {
    "duration": 9,
    "start_time": "2022-02-20T18:46:00.497Z"
   },
   {
    "duration": 40,
    "start_time": "2022-02-20T18:46:06.699Z"
   },
   {
    "duration": 7,
    "start_time": "2022-02-20T18:46:11.517Z"
   },
   {
    "duration": 722,
    "start_time": "2022-02-20T18:53:07.400Z"
   },
   {
    "duration": 13,
    "start_time": "2022-02-20T18:53:08.124Z"
   },
   {
    "duration": 87,
    "start_time": "2022-02-20T18:53:08.140Z"
   },
   {
    "duration": 171,
    "start_time": "2022-02-20T18:53:08.230Z"
   },
   {
    "duration": 11,
    "start_time": "2022-02-20T18:53:08.403Z"
   },
   {
    "duration": 8,
    "start_time": "2022-02-20T18:53:08.416Z"
   },
   {
    "duration": 12,
    "start_time": "2022-02-20T18:53:08.426Z"
   },
   {
    "duration": 8,
    "start_time": "2022-02-20T18:53:08.442Z"
   },
   {
    "duration": 8,
    "start_time": "2022-02-20T18:53:08.453Z"
   },
   {
    "duration": 46,
    "start_time": "2022-02-20T18:53:08.463Z"
   },
   {
    "duration": 35,
    "start_time": "2022-02-20T18:53:08.511Z"
   },
   {
    "duration": 30,
    "start_time": "2022-02-20T18:53:08.548Z"
   },
   {
    "duration": 30,
    "start_time": "2022-02-20T18:53:08.580Z"
   },
   {
    "duration": 24,
    "start_time": "2022-02-20T18:53:08.613Z"
   },
   {
    "duration": 7,
    "start_time": "2022-02-20T18:53:08.639Z"
   },
   {
    "duration": 25,
    "start_time": "2022-02-20T18:53:08.648Z"
   },
   {
    "duration": 8,
    "start_time": "2022-02-20T18:53:08.675Z"
   },
   {
    "duration": 7,
    "start_time": "2022-02-20T18:53:08.708Z"
   },
   {
    "duration": 37,
    "start_time": "2022-02-20T18:53:08.717Z"
   },
   {
    "duration": 8,
    "start_time": "2022-02-20T18:53:08.756Z"
   },
   {
    "duration": 15,
    "start_time": "2022-02-20T18:53:08.766Z"
   },
   {
    "duration": 38,
    "start_time": "2022-02-20T18:53:08.783Z"
   },
   {
    "duration": 17,
    "start_time": "2022-02-20T18:53:08.825Z"
   },
   {
    "duration": 37,
    "start_time": "2022-02-20T18:53:08.845Z"
   },
   {
    "duration": 5,
    "start_time": "2022-02-20T18:53:08.909Z"
   },
   {
    "duration": 32,
    "start_time": "2022-02-20T18:53:08.916Z"
   },
   {
    "duration": 6,
    "start_time": "2022-02-20T18:53:08.950Z"
   },
   {
    "duration": 12,
    "start_time": "2022-02-20T18:53:08.958Z"
   },
   {
    "duration": 37,
    "start_time": "2022-02-20T18:53:08.972Z"
   },
   {
    "duration": 20,
    "start_time": "2022-02-20T18:53:09.011Z"
   },
   {
    "duration": 13,
    "start_time": "2022-02-20T18:53:09.033Z"
   },
   {
    "duration": 12,
    "start_time": "2022-02-20T18:53:09.048Z"
   },
   {
    "duration": 44,
    "start_time": "2022-02-20T18:53:09.063Z"
   },
   {
    "duration": 12,
    "start_time": "2022-02-20T18:53:09.110Z"
   },
   {
    "duration": 5,
    "start_time": "2022-02-20T18:53:09.125Z"
   },
   {
    "duration": 33,
    "start_time": "2022-02-20T18:53:09.132Z"
   },
   {
    "duration": 60,
    "start_time": "2022-02-20T18:53:09.168Z"
   },
   {
    "duration": 19,
    "start_time": "2022-02-20T18:53:09.231Z"
   },
   {
    "duration": 19,
    "start_time": "2022-02-20T18:53:09.253Z"
   },
   {
    "duration": 63,
    "start_time": "2022-02-20T18:53:09.274Z"
   },
   {
    "duration": 9,
    "start_time": "2022-02-20T18:53:09.339Z"
   },
   {
    "duration": 35,
    "start_time": "2022-02-20T18:53:09.350Z"
   },
   {
    "duration": 19,
    "start_time": "2022-02-20T18:53:09.408Z"
   },
   {
    "duration": 700,
    "start_time": "2022-02-20T18:57:16.028Z"
   },
   {
    "duration": 15,
    "start_time": "2022-02-20T18:57:16.731Z"
   },
   {
    "duration": 27,
    "start_time": "2022-02-20T18:57:16.749Z"
   },
   {
    "duration": 20,
    "start_time": "2022-02-20T18:57:16.778Z"
   },
   {
    "duration": 22,
    "start_time": "2022-02-20T18:57:16.800Z"
   },
   {
    "duration": 31,
    "start_time": "2022-02-20T18:57:16.825Z"
   },
   {
    "duration": 20,
    "start_time": "2022-02-20T18:57:16.857Z"
   },
   {
    "duration": 22,
    "start_time": "2022-02-20T18:57:16.880Z"
   },
   {
    "duration": 32,
    "start_time": "2022-02-20T18:57:16.905Z"
   },
   {
    "duration": 34,
    "start_time": "2022-02-20T18:57:16.939Z"
   },
   {
    "duration": 37,
    "start_time": "2022-02-20T18:57:16.975Z"
   },
   {
    "duration": 34,
    "start_time": "2022-02-20T18:57:17.014Z"
   },
   {
    "duration": 5,
    "start_time": "2022-02-20T18:57:17.050Z"
   },
   {
    "duration": 34,
    "start_time": "2022-02-20T18:57:17.057Z"
   },
   {
    "duration": 17,
    "start_time": "2022-02-20T18:57:17.093Z"
   },
   {
    "duration": 27,
    "start_time": "2022-02-20T18:57:17.112Z"
   },
   {
    "duration": 12,
    "start_time": "2022-02-20T18:57:17.142Z"
   },
   {
    "duration": 25,
    "start_time": "2022-02-20T18:57:17.156Z"
   },
   {
    "duration": 37,
    "start_time": "2022-02-20T18:57:17.184Z"
   },
   {
    "duration": 12,
    "start_time": "2022-02-20T18:57:17.223Z"
   },
   {
    "duration": 24,
    "start_time": "2022-02-20T18:57:17.236Z"
   },
   {
    "duration": 17,
    "start_time": "2022-02-20T18:57:17.262Z"
   },
   {
    "duration": 32,
    "start_time": "2022-02-20T18:57:17.283Z"
   },
   {
    "duration": 38,
    "start_time": "2022-02-20T18:57:17.317Z"
   },
   {
    "duration": 5,
    "start_time": "2022-02-20T18:57:17.357Z"
   },
   {
    "duration": 57,
    "start_time": "2022-02-20T18:57:17.363Z"
   },
   {
    "duration": 6,
    "start_time": "2022-02-20T18:57:17.422Z"
   },
   {
    "duration": 7,
    "start_time": "2022-02-20T18:57:17.430Z"
   },
   {
    "duration": 8,
    "start_time": "2022-02-20T18:57:17.439Z"
   },
   {
    "duration": 24,
    "start_time": "2022-02-20T18:57:17.449Z"
   },
   {
    "duration": 38,
    "start_time": "2022-02-20T18:57:17.475Z"
   },
   {
    "duration": 14,
    "start_time": "2022-02-20T18:57:17.514Z"
   },
   {
    "duration": 12,
    "start_time": "2022-02-20T18:57:17.530Z"
   },
   {
    "duration": 12,
    "start_time": "2022-02-20T18:57:17.544Z"
   },
   {
    "duration": 6,
    "start_time": "2022-02-20T18:57:17.558Z"
   },
   {
    "duration": 64,
    "start_time": "2022-02-20T18:57:17.566Z"
   },
   {
    "duration": 31,
    "start_time": "2022-02-20T18:57:17.633Z"
   },
   {
    "duration": 42,
    "start_time": "2022-02-20T18:57:17.666Z"
   },
   {
    "duration": 17,
    "start_time": "2022-02-20T18:57:17.710Z"
   },
   {
    "duration": 30,
    "start_time": "2022-02-20T18:57:17.729Z"
   },
   {
    "duration": 8,
    "start_time": "2022-02-20T18:57:17.761Z"
   },
   {
    "duration": 59,
    "start_time": "2022-02-20T18:57:17.771Z"
   },
   {
    "duration": 18,
    "start_time": "2022-02-20T18:57:17.832Z"
   }
  ],
  "kernelspec": {
   "display_name": "Python 3 (ipykernel)",
   "language": "python",
   "name": "python3"
  },
  "language_info": {
   "codemirror_mode": {
    "name": "ipython",
    "version": 3
   },
   "file_extension": ".py",
   "mimetype": "text/x-python",
   "name": "python",
   "nbconvert_exporter": "python",
   "pygments_lexer": "ipython3",
   "version": "3.9.12"
  },
  "toc": {
   "base_numbering": 1,
   "nav_menu": {},
   "number_sections": true,
   "sideBar": true,
   "skip_h1_title": true,
   "title_cell": "Содержание",
   "title_sidebar": "Содержание",
   "toc_cell": true,
   "toc_position": {},
   "toc_section_display": true,
   "toc_window_display": true
  }
 },
 "nbformat": 4,
 "nbformat_minor": 5
}
