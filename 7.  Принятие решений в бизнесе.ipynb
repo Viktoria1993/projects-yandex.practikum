{
 "cells": [
  {
   "cell_type": "markdown",
   "id": "45205642",
   "metadata": {
    "toc": true
   },
   "source": [
    "<h1>Содержание<span class=\"tocSkip\"></span></h1>\n",
    "<div class=\"toc\"><ul class=\"toc-item\"><li><span><a href=\"#Описание-проекта.\" data-toc-modified-id=\"Описание-проекта.-1\"><span class=\"toc-item-num\">1&nbsp;&nbsp;</span>Описание проекта.</a></span></li><li><span><a href=\"#Предобработка-данных.\" data-toc-modified-id=\"Предобработка-данных.-2\"><span class=\"toc-item-num\">2&nbsp;&nbsp;</span>Предобработка данных.</a></span></li><li><span><a href=\"#Приоритизация-гипотез.\" data-toc-modified-id=\"Приоритизация-гипотез.-3\"><span class=\"toc-item-num\">3&nbsp;&nbsp;</span>Приоритизация гипотез.</a></span></li><li><span><a href=\"#Анализ-A/B-теста.\" data-toc-modified-id=\"Анализ-A/B-теста.-4\"><span class=\"toc-item-num\">4&nbsp;&nbsp;</span>Анализ A/B-теста.</a></span><ul class=\"toc-item\"><li><span><a href=\"#Кумулятивная-выручка-по-дням.\" data-toc-modified-id=\"Кумулятивная-выручка-по-дням.-4.1\"><span class=\"toc-item-num\">4.1&nbsp;&nbsp;</span>Кумулятивная выручка по дням.</a></span></li><li><span><a href=\"#Кумулятивный-средний-чек.\" data-toc-modified-id=\"Кумулятивный-средний-чек.-4.2\"><span class=\"toc-item-num\">4.2&nbsp;&nbsp;</span>Кумулятивный средний чек.</a></span></li><li><span><a href=\"#Кумулятивная-конверсия.\" data-toc-modified-id=\"Кумулятивная-конверсия.-4.3\"><span class=\"toc-item-num\">4.3&nbsp;&nbsp;</span>Кумулятивная конверсия.</a></span></li><li><span><a href=\"#Количество-заказов-по-пользователям.\" data-toc-modified-id=\"Количество-заказов-по-пользователям.-4.4\"><span class=\"toc-item-num\">4.4&nbsp;&nbsp;</span>Количество заказов по пользователям.</a></span></li><li><span><a href=\"#Распределение-стоимости-заказов.\" data-toc-modified-id=\"Распределение-стоимости-заказов.-4.5\"><span class=\"toc-item-num\">4.5&nbsp;&nbsp;</span>Распределение стоимости заказов.</a></span></li><li><span><a href=\"#Cтатистическая-значимость-различий-в-конверсии-и-в-среднем-чеке.\" data-toc-modified-id=\"Cтатистическая-значимость-различий-в-конверсии-и-в-среднем-чеке.-4.6\"><span class=\"toc-item-num\">4.6&nbsp;&nbsp;</span>Cтатистическая значимость различий в конверсии и в среднем чеке.</a></span></li></ul></li><li><span><a href=\"#Выводы:\" data-toc-modified-id=\"Выводы:-5\"><span class=\"toc-item-num\">5&nbsp;&nbsp;</span>Выводы:</a></span></li></ul></div>"
   ]
  },
  {
   "cell_type": "markdown",
   "id": "3b9e3338",
   "metadata": {},
   "source": [
    "# Описание проекта.\n",
    "\n",
    "Отдел аналитики, совместно с отделом маркетинга крупного интернет-магазина, подготовили список гипотез для увеличения выручки.\n",
    "Необходимо приоритизировать гипотезы, запустить A/B-тест и проанализировать результаты."
   ]
  },
  {
   "cell_type": "markdown",
   "id": "c7c17f3e",
   "metadata": {},
   "source": [
    "# Предобработка данных.\n",
    "\n",
    "**Импортируем все необходимые библиотеки.**"
   ]
  },
  {
   "cell_type": "code",
   "execution_count": 1,
   "id": "e24965d4",
   "metadata": {},
   "outputs": [],
   "source": [
    "import pandas as pd\n",
    "import numpy as np\n",
    "import seaborn as sns\n",
    "import matplotlib.pyplot as plt\n",
    "%matplotlib inline\n",
    "import math as m\n",
    "from scipy import stats as st\n",
    "from datetime import datetime, timedelta\n",
    "import datetime as dt\n",
    "from pandas.plotting import register_matplotlib_converters\n",
    "import warnings\n",
    "register_matplotlib_converters()"
   ]
  },
  {
   "cell_type": "markdown",
   "id": "6cea1f7b",
   "metadata": {},
   "source": [
    "**Загрузим файл с гипотезами.**"
   ]
  },
  {
   "cell_type": "code",
   "execution_count": 2,
   "id": "56ceb45f",
   "metadata": {
    "scrolled": false
   },
   "outputs": [
    {
     "data": {
      "text/html": [
       "<div>\n",
       "<style scoped>\n",
       "    .dataframe tbody tr th:only-of-type {\n",
       "        vertical-align: middle;\n",
       "    }\n",
       "\n",
       "    .dataframe tbody tr th {\n",
       "        vertical-align: top;\n",
       "    }\n",
       "\n",
       "    .dataframe thead th {\n",
       "        text-align: right;\n",
       "    }\n",
       "</style>\n",
       "<table border=\"1\" class=\"dataframe\">\n",
       "  <thead>\n",
       "    <tr style=\"text-align: right;\">\n",
       "      <th></th>\n",
       "      <th>Hypothesis</th>\n",
       "      <th>Reach</th>\n",
       "      <th>Impact</th>\n",
       "      <th>Confidence</th>\n",
       "      <th>Efforts</th>\n",
       "    </tr>\n",
       "  </thead>\n",
       "  <tbody>\n",
       "    <tr>\n",
       "      <th>0</th>\n",
       "      <td>Добавить два новых канала привлечения трафика, что позволит привлекать на 30% больше пользователей</td>\n",
       "      <td>3</td>\n",
       "      <td>10</td>\n",
       "      <td>8</td>\n",
       "      <td>6</td>\n",
       "    </tr>\n",
       "    <tr>\n",
       "      <th>1</th>\n",
       "      <td>Запустить собственную службу доставки, что сократит срок доставки заказов</td>\n",
       "      <td>2</td>\n",
       "      <td>5</td>\n",
       "      <td>4</td>\n",
       "      <td>10</td>\n",
       "    </tr>\n",
       "    <tr>\n",
       "      <th>2</th>\n",
       "      <td>Добавить блоки рекомендаций товаров на сайт интернет магазина, чтобы повысить конверсию и средний чек заказа</td>\n",
       "      <td>8</td>\n",
       "      <td>3</td>\n",
       "      <td>7</td>\n",
       "      <td>3</td>\n",
       "    </tr>\n",
       "    <tr>\n",
       "      <th>3</th>\n",
       "      <td>Изменить структура категорий, что увеличит конверсию, т.к. пользователи быстрее найдут нужный товар</td>\n",
       "      <td>8</td>\n",
       "      <td>3</td>\n",
       "      <td>3</td>\n",
       "      <td>8</td>\n",
       "    </tr>\n",
       "    <tr>\n",
       "      <th>4</th>\n",
       "      <td>Изменить цвет фона главной страницы, чтобы увеличить вовлеченность пользователей</td>\n",
       "      <td>3</td>\n",
       "      <td>1</td>\n",
       "      <td>1</td>\n",
       "      <td>1</td>\n",
       "    </tr>\n",
       "    <tr>\n",
       "      <th>5</th>\n",
       "      <td>Добавить страницу отзывов клиентов о магазине, что позволит увеличить количество заказов</td>\n",
       "      <td>3</td>\n",
       "      <td>2</td>\n",
       "      <td>2</td>\n",
       "      <td>3</td>\n",
       "    </tr>\n",
       "    <tr>\n",
       "      <th>6</th>\n",
       "      <td>Показать на главной странице баннеры с актуальными акциями и распродажами, чтобы увеличить конверсию</td>\n",
       "      <td>5</td>\n",
       "      <td>3</td>\n",
       "      <td>8</td>\n",
       "      <td>3</td>\n",
       "    </tr>\n",
       "    <tr>\n",
       "      <th>7</th>\n",
       "      <td>Добавить форму подписки на все основные страницы, чтобы собрать базу клиентов для email-рассылок</td>\n",
       "      <td>10</td>\n",
       "      <td>7</td>\n",
       "      <td>8</td>\n",
       "      <td>5</td>\n",
       "    </tr>\n",
       "    <tr>\n",
       "      <th>8</th>\n",
       "      <td>Запустить акцию, дающую скидку на товар в день рождения</td>\n",
       "      <td>1</td>\n",
       "      <td>9</td>\n",
       "      <td>9</td>\n",
       "      <td>5</td>\n",
       "    </tr>\n",
       "  </tbody>\n",
       "</table>\n",
       "</div>"
      ],
      "text/plain": [
       "                                                                                                     Hypothesis  \\\n",
       "0            Добавить два новых канала привлечения трафика, что позволит привлекать на 30% больше пользователей   \n",
       "1                                     Запустить собственную службу доставки, что сократит срок доставки заказов   \n",
       "2  Добавить блоки рекомендаций товаров на сайт интернет магазина, чтобы повысить конверсию и средний чек заказа   \n",
       "3           Изменить структура категорий, что увеличит конверсию, т.к. пользователи быстрее найдут нужный товар   \n",
       "4                              Изменить цвет фона главной страницы, чтобы увеличить вовлеченность пользователей   \n",
       "5                      Добавить страницу отзывов клиентов о магазине, что позволит увеличить количество заказов   \n",
       "6          Показать на главной странице баннеры с актуальными акциями и распродажами, чтобы увеличить конверсию   \n",
       "7              Добавить форму подписки на все основные страницы, чтобы собрать базу клиентов для email-рассылок   \n",
       "8                                                       Запустить акцию, дающую скидку на товар в день рождения   \n",
       "\n",
       "   Reach  Impact  Confidence  Efforts  \n",
       "0      3      10           8        6  \n",
       "1      2       5           4       10  \n",
       "2      8       3           7        3  \n",
       "3      8       3           3        8  \n",
       "4      3       1           1        1  \n",
       "5      3       2           2        3  \n",
       "6      5       3           8        3  \n",
       "7     10       7           8        5  \n",
       "8      1       9           9        5  "
      ]
     },
     "execution_count": 2,
     "metadata": {},
     "output_type": "execute_result"
    }
   ],
   "source": [
    "# увеличим количество, отображаемых символов\n",
    "pd.options.display.max_colwidth = 110\n",
    "try:\n",
    "    hypothesis = pd.read_csv('D:/datasets/hypothesis.csv')\n",
    "except:\n",
    "    hypothesis = pd.read_csv('/datasets/hypothesis.csv')\n",
    "hypothesis"
   ]
  },
  {
   "cell_type": "markdown",
   "id": "70f5424b",
   "metadata": {},
   "source": [
    "**Приведём названия столбцов к нижнему регистру.**"
   ]
  },
  {
   "cell_type": "code",
   "execution_count": 3,
   "id": "d6a50b0a",
   "metadata": {},
   "outputs": [],
   "source": [
    "hypothesis.columns = hypothesis.columns.str.lower()"
   ]
  },
  {
   "cell_type": "code",
   "execution_count": 4,
   "id": "abe47a8a",
   "metadata": {},
   "outputs": [
    {
     "name": "stdout",
     "output_type": "stream",
     "text": [
      "<class 'pandas.core.frame.DataFrame'>\n",
      "RangeIndex: 9 entries, 0 to 8\n",
      "Data columns (total 5 columns):\n",
      " #   Column      Non-Null Count  Dtype \n",
      "---  ------      --------------  ----- \n",
      " 0   hypothesis  9 non-null      object\n",
      " 1   reach       9 non-null      int64 \n",
      " 2   impact      9 non-null      int64 \n",
      " 3   confidence  9 non-null      int64 \n",
      " 4   efforts     9 non-null      int64 \n",
      "dtypes: int64(4), object(1)\n",
      "memory usage: 488.0+ bytes\n"
     ]
    }
   ],
   "source": [
    "hypothesis.info()"
   ]
  },
  {
   "cell_type": "markdown",
   "id": "a097efe8",
   "metadata": {},
   "source": [
    "* В таблице `hypothesis` 9 гипотез по увеличению выручки интернет-магазина с указанными параметрами *Reach*, *Impact*, *Confidence*, *Effort*. В таблице 9 строк, 5 столбцов, пропущенных значений нет.\n",
    "\n",
    "**Описание данных:**\n",
    "\n",
    "* `hypothesis` - краткое описание гипотезы;\n",
    "* `reach` - охват пользователей по 10-балльной шкале;\n",
    "* `impact` - влияние на пользователей по 10-балльной шкале;\n",
    "* `confidence` - уверенность в гипотезе по 10-балльной шкале;\n",
    "* `efforts` - затраты ресурсов на проверку гипотезы по 10-балльной шкале."
   ]
  },
  {
   "cell_type": "markdown",
   "id": "14bf05cf",
   "metadata": {},
   "source": [
    "**Загрузим таблицу с данными о заказах.**"
   ]
  },
  {
   "cell_type": "code",
   "execution_count": 5,
   "id": "0729e43f",
   "metadata": {},
   "outputs": [
    {
     "data": {
      "text/html": [
       "<div>\n",
       "<style scoped>\n",
       "    .dataframe tbody tr th:only-of-type {\n",
       "        vertical-align: middle;\n",
       "    }\n",
       "\n",
       "    .dataframe tbody tr th {\n",
       "        vertical-align: top;\n",
       "    }\n",
       "\n",
       "    .dataframe thead th {\n",
       "        text-align: right;\n",
       "    }\n",
       "</style>\n",
       "<table border=\"1\" class=\"dataframe\">\n",
       "  <thead>\n",
       "    <tr style=\"text-align: right;\">\n",
       "      <th></th>\n",
       "      <th>transactionId</th>\n",
       "      <th>visitorId</th>\n",
       "      <th>date</th>\n",
       "      <th>revenue</th>\n",
       "      <th>group</th>\n",
       "    </tr>\n",
       "  </thead>\n",
       "  <tbody>\n",
       "    <tr>\n",
       "      <th>0</th>\n",
       "      <td>3667963787</td>\n",
       "      <td>3312258926</td>\n",
       "      <td>2019-08-15</td>\n",
       "      <td>1650</td>\n",
       "      <td>B</td>\n",
       "    </tr>\n",
       "    <tr>\n",
       "      <th>1</th>\n",
       "      <td>2804400009</td>\n",
       "      <td>3642806036</td>\n",
       "      <td>2019-08-15</td>\n",
       "      <td>730</td>\n",
       "      <td>B</td>\n",
       "    </tr>\n",
       "    <tr>\n",
       "      <th>2</th>\n",
       "      <td>2961555356</td>\n",
       "      <td>4069496402</td>\n",
       "      <td>2019-08-15</td>\n",
       "      <td>400</td>\n",
       "      <td>A</td>\n",
       "    </tr>\n",
       "    <tr>\n",
       "      <th>3</th>\n",
       "      <td>3797467345</td>\n",
       "      <td>1196621759</td>\n",
       "      <td>2019-08-15</td>\n",
       "      <td>9759</td>\n",
       "      <td>B</td>\n",
       "    </tr>\n",
       "    <tr>\n",
       "      <th>4</th>\n",
       "      <td>2282983706</td>\n",
       "      <td>2322279887</td>\n",
       "      <td>2019-08-15</td>\n",
       "      <td>2308</td>\n",
       "      <td>B</td>\n",
       "    </tr>\n",
       "  </tbody>\n",
       "</table>\n",
       "</div>"
      ],
      "text/plain": [
       "   transactionId   visitorId        date  revenue group\n",
       "0     3667963787  3312258926  2019-08-15     1650     B\n",
       "1     2804400009  3642806036  2019-08-15      730     B\n",
       "2     2961555356  4069496402  2019-08-15      400     A\n",
       "3     3797467345  1196621759  2019-08-15     9759     B\n",
       "4     2282983706  2322279887  2019-08-15     2308     B"
      ]
     },
     "execution_count": 5,
     "metadata": {},
     "output_type": "execute_result"
    }
   ],
   "source": [
    "try:\n",
    "    orders = pd.read_csv('D:/datasets/orders.csv')\n",
    "except:\n",
    "    orders = pd.read_csv('/datasets/orders.csv')\n",
    "orders.head()"
   ]
  },
  {
   "cell_type": "code",
   "execution_count": 6,
   "id": "374223df",
   "metadata": {},
   "outputs": [
    {
     "name": "stdout",
     "output_type": "stream",
     "text": [
      "<class 'pandas.core.frame.DataFrame'>\n",
      "RangeIndex: 1197 entries, 0 to 1196\n",
      "Data columns (total 5 columns):\n",
      " #   Column          Non-Null Count  Dtype \n",
      "---  ------          --------------  ----- \n",
      " 0   transaction_id  1197 non-null   int64 \n",
      " 1   visitor_id      1197 non-null   int64 \n",
      " 2   date            1197 non-null   object\n",
      " 3   revenue         1197 non-null   int64 \n",
      " 4   group           1197 non-null   object\n",
      "dtypes: int64(3), object(2)\n",
      "memory usage: 46.9+ KB\n"
     ]
    }
   ],
   "source": [
    "# переименуем столбцы\n",
    "orders = orders.rename(columns={'transactionId':'transaction_id', 'visitorId':'visitor_id'})\n",
    "orders.info()"
   ]
  },
  {
   "cell_type": "markdown",
   "id": "cff8995d",
   "metadata": {},
   "source": [
    "* В 1197 строк, 5 столбцов, пропущенных значений нет.\n",
    "\n",
    "**Описание данных:**\n",
    "\n",
    "* `transaction_id` - идентификатор заказа;\n",
    "* `visitor_id` - идентификатор пользователя, совершившего заказ;\n",
    "* `date` - дата, когда был совершён заказ;\n",
    "* `revenue` - выручка заказа;\n",
    "* `group` - группа A/B-теста, в которую попал заказ.\n",
    "\n",
    "**Проверим таблицу на дубликаты.**"
   ]
  },
  {
   "cell_type": "code",
   "execution_count": 7,
   "id": "86cc833e",
   "metadata": {},
   "outputs": [
    {
     "name": "stdout",
     "output_type": "stream",
     "text": [
      "Количество дубликатов - 0\n"
     ]
    }
   ],
   "source": [
    "print('Количество дубликатов -', orders.duplicated().sum())"
   ]
  },
  {
   "cell_type": "code",
   "execution_count": 8,
   "id": "8631aa54",
   "metadata": {},
   "outputs": [],
   "source": [
    "# перевём столбец date в формат для работы с датой и временем\n",
    "orders['date'] = pd.to_datetime(orders['date'])"
   ]
  },
  {
   "cell_type": "markdown",
   "id": "3108dc8a",
   "metadata": {},
   "source": [
    "**Загрузим таблицу с информацией о посетителях.**"
   ]
  },
  {
   "cell_type": "code",
   "execution_count": 9,
   "id": "5c2a01e1",
   "metadata": {},
   "outputs": [
    {
     "data": {
      "text/html": [
       "<div>\n",
       "<style scoped>\n",
       "    .dataframe tbody tr th:only-of-type {\n",
       "        vertical-align: middle;\n",
       "    }\n",
       "\n",
       "    .dataframe tbody tr th {\n",
       "        vertical-align: top;\n",
       "    }\n",
       "\n",
       "    .dataframe thead th {\n",
       "        text-align: right;\n",
       "    }\n",
       "</style>\n",
       "<table border=\"1\" class=\"dataframe\">\n",
       "  <thead>\n",
       "    <tr style=\"text-align: right;\">\n",
       "      <th></th>\n",
       "      <th>date</th>\n",
       "      <th>group</th>\n",
       "      <th>visitors</th>\n",
       "    </tr>\n",
       "  </thead>\n",
       "  <tbody>\n",
       "    <tr>\n",
       "      <th>0</th>\n",
       "      <td>2019-08-01</td>\n",
       "      <td>A</td>\n",
       "      <td>719</td>\n",
       "    </tr>\n",
       "    <tr>\n",
       "      <th>1</th>\n",
       "      <td>2019-08-02</td>\n",
       "      <td>A</td>\n",
       "      <td>619</td>\n",
       "    </tr>\n",
       "    <tr>\n",
       "      <th>2</th>\n",
       "      <td>2019-08-03</td>\n",
       "      <td>A</td>\n",
       "      <td>507</td>\n",
       "    </tr>\n",
       "    <tr>\n",
       "      <th>3</th>\n",
       "      <td>2019-08-04</td>\n",
       "      <td>A</td>\n",
       "      <td>717</td>\n",
       "    </tr>\n",
       "    <tr>\n",
       "      <th>4</th>\n",
       "      <td>2019-08-05</td>\n",
       "      <td>A</td>\n",
       "      <td>756</td>\n",
       "    </tr>\n",
       "  </tbody>\n",
       "</table>\n",
       "</div>"
      ],
      "text/plain": [
       "         date group  visitors\n",
       "0  2019-08-01     A       719\n",
       "1  2019-08-02     A       619\n",
       "2  2019-08-03     A       507\n",
       "3  2019-08-04     A       717\n",
       "4  2019-08-05     A       756"
      ]
     },
     "execution_count": 9,
     "metadata": {},
     "output_type": "execute_result"
    }
   ],
   "source": [
    "try:\n",
    "    visitors = pd.read_csv('D:/datasets/visitors.csv')\n",
    "except:\n",
    "    visitors = pd.read_csv('/datasets/visitors.csv')\n",
    "visitors.head()"
   ]
  },
  {
   "cell_type": "code",
   "execution_count": 10,
   "id": "10d37b95",
   "metadata": {},
   "outputs": [
    {
     "name": "stdout",
     "output_type": "stream",
     "text": [
      "<class 'pandas.core.frame.DataFrame'>\n",
      "RangeIndex: 62 entries, 0 to 61\n",
      "Data columns (total 3 columns):\n",
      " #   Column    Non-Null Count  Dtype \n",
      "---  ------    --------------  ----- \n",
      " 0   date      62 non-null     object\n",
      " 1   group     62 non-null     object\n",
      " 2   visitors  62 non-null     int64 \n",
      "dtypes: int64(1), object(2)\n",
      "memory usage: 1.6+ KB\n"
     ]
    }
   ],
   "source": [
    "visitors.info()"
   ]
  },
  {
   "cell_type": "markdown",
   "id": "4db06726",
   "metadata": {},
   "source": [
    "* В таблице 62 строки, 3 столбца, пропущенных значений нет.\n",
    "\n",
    "**Описание данных:**\n",
    "\n",
    "* `date` - дата;\n",
    "* `group` - группа A/B-теста;\n",
    "* `visitors` - количество пользователей в указанную дату в указанной группе A/B-теста.\n",
    "\n",
    "\n",
    "\n",
    "**Проверим таблицу на дубликаты.**"
   ]
  },
  {
   "cell_type": "code",
   "execution_count": 11,
   "id": "9deffb23",
   "metadata": {},
   "outputs": [
    {
     "name": "stdout",
     "output_type": "stream",
     "text": [
      "Количество дубликатов - 0\n"
     ]
    }
   ],
   "source": [
    "print('Количество дубликатов -', visitors.duplicated().sum())"
   ]
  },
  {
   "cell_type": "code",
   "execution_count": 12,
   "id": "18ebbc8e",
   "metadata": {},
   "outputs": [],
   "source": [
    "# перевём столбец date в формат для работы с датой и временем\n",
    "visitors['date'] = pd.to_datetime(visitors['date'])"
   ]
  },
  {
   "cell_type": "markdown",
   "id": "36ef03c8",
   "metadata": {},
   "source": [
    "**Выводы:**\n",
    "\n",
    "Проведена предобработка данных. Дубликатов и пропущенных значений в таблицах не обнаружено. Данные столбцов с датой были приведены к типам datetime, так же названия столбцов были приведены к нижнему и змеиному регистру."
   ]
  },
  {
   "cell_type": "markdown",
   "id": "04255c63",
   "metadata": {},
   "source": [
    "# Приоритизация гипотез."
   ]
  },
  {
   "cell_type": "markdown",
   "id": "f6d759a5",
   "metadata": {},
   "source": [
    "**Применим фреймворк ICE для приоритизации гипотез. Отсортируем их по убыванию приоритета.**"
   ]
  },
  {
   "cell_type": "code",
   "execution_count": 13,
   "id": "b7cd5b2d",
   "metadata": {
    "scrolled": true
   },
   "outputs": [
    {
     "data": {
      "text/html": [
       "<div>\n",
       "<style scoped>\n",
       "    .dataframe tbody tr th:only-of-type {\n",
       "        vertical-align: middle;\n",
       "    }\n",
       "\n",
       "    .dataframe tbody tr th {\n",
       "        vertical-align: top;\n",
       "    }\n",
       "\n",
       "    .dataframe thead th {\n",
       "        text-align: right;\n",
       "    }\n",
       "</style>\n",
       "<table border=\"1\" class=\"dataframe\">\n",
       "  <thead>\n",
       "    <tr style=\"text-align: right;\">\n",
       "      <th></th>\n",
       "      <th>hypothesis</th>\n",
       "      <th>reach</th>\n",
       "      <th>impact</th>\n",
       "      <th>confidence</th>\n",
       "      <th>efforts</th>\n",
       "      <th>ice</th>\n",
       "    </tr>\n",
       "  </thead>\n",
       "  <tbody>\n",
       "    <tr>\n",
       "      <th>8</th>\n",
       "      <td>Запустить акцию, дающую скидку на товар в день рождения</td>\n",
       "      <td>1</td>\n",
       "      <td>9</td>\n",
       "      <td>9</td>\n",
       "      <td>5</td>\n",
       "      <td>16.20</td>\n",
       "    </tr>\n",
       "    <tr>\n",
       "      <th>0</th>\n",
       "      <td>Добавить два новых канала привлечения трафика, что позволит привлекать на 30% больше пользователей</td>\n",
       "      <td>3</td>\n",
       "      <td>10</td>\n",
       "      <td>8</td>\n",
       "      <td>6</td>\n",
       "      <td>13.33</td>\n",
       "    </tr>\n",
       "    <tr>\n",
       "      <th>7</th>\n",
       "      <td>Добавить форму подписки на все основные страницы, чтобы собрать базу клиентов для email-рассылок</td>\n",
       "      <td>10</td>\n",
       "      <td>7</td>\n",
       "      <td>8</td>\n",
       "      <td>5</td>\n",
       "      <td>11.20</td>\n",
       "    </tr>\n",
       "    <tr>\n",
       "      <th>6</th>\n",
       "      <td>Показать на главной странице баннеры с актуальными акциями и распродажами, чтобы увеличить конверсию</td>\n",
       "      <td>5</td>\n",
       "      <td>3</td>\n",
       "      <td>8</td>\n",
       "      <td>3</td>\n",
       "      <td>8.00</td>\n",
       "    </tr>\n",
       "    <tr>\n",
       "      <th>2</th>\n",
       "      <td>Добавить блоки рекомендаций товаров на сайт интернет магазина, чтобы повысить конверсию и средний чек заказа</td>\n",
       "      <td>8</td>\n",
       "      <td>3</td>\n",
       "      <td>7</td>\n",
       "      <td>3</td>\n",
       "      <td>7.00</td>\n",
       "    </tr>\n",
       "    <tr>\n",
       "      <th>1</th>\n",
       "      <td>Запустить собственную службу доставки, что сократит срок доставки заказов</td>\n",
       "      <td>2</td>\n",
       "      <td>5</td>\n",
       "      <td>4</td>\n",
       "      <td>10</td>\n",
       "      <td>2.00</td>\n",
       "    </tr>\n",
       "    <tr>\n",
       "      <th>5</th>\n",
       "      <td>Добавить страницу отзывов клиентов о магазине, что позволит увеличить количество заказов</td>\n",
       "      <td>3</td>\n",
       "      <td>2</td>\n",
       "      <td>2</td>\n",
       "      <td>3</td>\n",
       "      <td>1.33</td>\n",
       "    </tr>\n",
       "    <tr>\n",
       "      <th>3</th>\n",
       "      <td>Изменить структура категорий, что увеличит конверсию, т.к. пользователи быстрее найдут нужный товар</td>\n",
       "      <td>8</td>\n",
       "      <td>3</td>\n",
       "      <td>3</td>\n",
       "      <td>8</td>\n",
       "      <td>1.12</td>\n",
       "    </tr>\n",
       "    <tr>\n",
       "      <th>4</th>\n",
       "      <td>Изменить цвет фона главной страницы, чтобы увеличить вовлеченность пользователей</td>\n",
       "      <td>3</td>\n",
       "      <td>1</td>\n",
       "      <td>1</td>\n",
       "      <td>1</td>\n",
       "      <td>1.00</td>\n",
       "    </tr>\n",
       "  </tbody>\n",
       "</table>\n",
       "</div>"
      ],
      "text/plain": [
       "                                                                                                     hypothesis  \\\n",
       "8                                                       Запустить акцию, дающую скидку на товар в день рождения   \n",
       "0            Добавить два новых канала привлечения трафика, что позволит привлекать на 30% больше пользователей   \n",
       "7              Добавить форму подписки на все основные страницы, чтобы собрать базу клиентов для email-рассылок   \n",
       "6          Показать на главной странице баннеры с актуальными акциями и распродажами, чтобы увеличить конверсию   \n",
       "2  Добавить блоки рекомендаций товаров на сайт интернет магазина, чтобы повысить конверсию и средний чек заказа   \n",
       "1                                     Запустить собственную службу доставки, что сократит срок доставки заказов   \n",
       "5                      Добавить страницу отзывов клиентов о магазине, что позволит увеличить количество заказов   \n",
       "3           Изменить структура категорий, что увеличит конверсию, т.к. пользователи быстрее найдут нужный товар   \n",
       "4                              Изменить цвет фона главной страницы, чтобы увеличить вовлеченность пользователей   \n",
       "\n",
       "   reach  impact  confidence  efforts    ice  \n",
       "8      1       9           9        5  16.20  \n",
       "0      3      10           8        6  13.33  \n",
       "7     10       7           8        5  11.20  \n",
       "6      5       3           8        3   8.00  \n",
       "2      8       3           7        3   7.00  \n",
       "1      2       5           4       10   2.00  \n",
       "5      3       2           2        3   1.33  \n",
       "3      8       3           3        8   1.12  \n",
       "4      3       1           1        1   1.00  "
      ]
     },
     "execution_count": 13,
     "metadata": {},
     "output_type": "execute_result"
    }
   ],
   "source": [
    "hypothesis['ice'] = round((hypothesis['impact'] * hypothesis['confidence']) / hypothesis['efforts'], 2)\n",
    "hypothesis.sort_values(by='ice', ascending=False)"
   ]
  },
  {
   "cell_type": "markdown",
   "id": "0e8887ac",
   "metadata": {},
   "source": [
    "* Гипотезы под номером 8, 0, 7 и 6 наиболее перспективные. На первом месте находится гипотеза под номером 8 - \"Запустить акцию, дающую скидку на товар в день рождения\"."
   ]
  },
  {
   "cell_type": "markdown",
   "id": "b6fcb86f",
   "metadata": {},
   "source": [
    "**Применим фреймворк RICE для приоритизации гипотез. Отсортируем их по убыванию приоритета.**"
   ]
  },
  {
   "cell_type": "code",
   "execution_count": 14,
   "id": "9d79b07d",
   "metadata": {},
   "outputs": [
    {
     "data": {
      "text/html": [
       "<div>\n",
       "<style scoped>\n",
       "    .dataframe tbody tr th:only-of-type {\n",
       "        vertical-align: middle;\n",
       "    }\n",
       "\n",
       "    .dataframe tbody tr th {\n",
       "        vertical-align: top;\n",
       "    }\n",
       "\n",
       "    .dataframe thead th {\n",
       "        text-align: right;\n",
       "    }\n",
       "</style>\n",
       "<table border=\"1\" class=\"dataframe\">\n",
       "  <thead>\n",
       "    <tr style=\"text-align: right;\">\n",
       "      <th></th>\n",
       "      <th>hypothesis</th>\n",
       "      <th>reach</th>\n",
       "      <th>impact</th>\n",
       "      <th>confidence</th>\n",
       "      <th>efforts</th>\n",
       "      <th>ice</th>\n",
       "      <th>rice</th>\n",
       "    </tr>\n",
       "  </thead>\n",
       "  <tbody>\n",
       "    <tr>\n",
       "      <th>7</th>\n",
       "      <td>Добавить форму подписки на все основные страницы, чтобы собрать базу клиентов для email-рассылок</td>\n",
       "      <td>10</td>\n",
       "      <td>7</td>\n",
       "      <td>8</td>\n",
       "      <td>5</td>\n",
       "      <td>11.20</td>\n",
       "      <td>112.0</td>\n",
       "    </tr>\n",
       "    <tr>\n",
       "      <th>2</th>\n",
       "      <td>Добавить блоки рекомендаций товаров на сайт интернет магазина, чтобы повысить конверсию и средний чек заказа</td>\n",
       "      <td>8</td>\n",
       "      <td>3</td>\n",
       "      <td>7</td>\n",
       "      <td>3</td>\n",
       "      <td>7.00</td>\n",
       "      <td>56.0</td>\n",
       "    </tr>\n",
       "    <tr>\n",
       "      <th>0</th>\n",
       "      <td>Добавить два новых канала привлечения трафика, что позволит привлекать на 30% больше пользователей</td>\n",
       "      <td>3</td>\n",
       "      <td>10</td>\n",
       "      <td>8</td>\n",
       "      <td>6</td>\n",
       "      <td>13.33</td>\n",
       "      <td>40.0</td>\n",
       "    </tr>\n",
       "    <tr>\n",
       "      <th>6</th>\n",
       "      <td>Показать на главной странице баннеры с актуальными акциями и распродажами, чтобы увеличить конверсию</td>\n",
       "      <td>5</td>\n",
       "      <td>3</td>\n",
       "      <td>8</td>\n",
       "      <td>3</td>\n",
       "      <td>8.00</td>\n",
       "      <td>40.0</td>\n",
       "    </tr>\n",
       "    <tr>\n",
       "      <th>8</th>\n",
       "      <td>Запустить акцию, дающую скидку на товар в день рождения</td>\n",
       "      <td>1</td>\n",
       "      <td>9</td>\n",
       "      <td>9</td>\n",
       "      <td>5</td>\n",
       "      <td>16.20</td>\n",
       "      <td>16.2</td>\n",
       "    </tr>\n",
       "    <tr>\n",
       "      <th>3</th>\n",
       "      <td>Изменить структура категорий, что увеличит конверсию, т.к. пользователи быстрее найдут нужный товар</td>\n",
       "      <td>8</td>\n",
       "      <td>3</td>\n",
       "      <td>3</td>\n",
       "      <td>8</td>\n",
       "      <td>1.12</td>\n",
       "      <td>9.0</td>\n",
       "    </tr>\n",
       "    <tr>\n",
       "      <th>1</th>\n",
       "      <td>Запустить собственную службу доставки, что сократит срок доставки заказов</td>\n",
       "      <td>2</td>\n",
       "      <td>5</td>\n",
       "      <td>4</td>\n",
       "      <td>10</td>\n",
       "      <td>2.00</td>\n",
       "      <td>4.0</td>\n",
       "    </tr>\n",
       "    <tr>\n",
       "      <th>5</th>\n",
       "      <td>Добавить страницу отзывов клиентов о магазине, что позволит увеличить количество заказов</td>\n",
       "      <td>3</td>\n",
       "      <td>2</td>\n",
       "      <td>2</td>\n",
       "      <td>3</td>\n",
       "      <td>1.33</td>\n",
       "      <td>4.0</td>\n",
       "    </tr>\n",
       "    <tr>\n",
       "      <th>4</th>\n",
       "      <td>Изменить цвет фона главной страницы, чтобы увеличить вовлеченность пользователей</td>\n",
       "      <td>3</td>\n",
       "      <td>1</td>\n",
       "      <td>1</td>\n",
       "      <td>1</td>\n",
       "      <td>1.00</td>\n",
       "      <td>3.0</td>\n",
       "    </tr>\n",
       "  </tbody>\n",
       "</table>\n",
       "</div>"
      ],
      "text/plain": [
       "                                                                                                     hypothesis  \\\n",
       "7              Добавить форму подписки на все основные страницы, чтобы собрать базу клиентов для email-рассылок   \n",
       "2  Добавить блоки рекомендаций товаров на сайт интернет магазина, чтобы повысить конверсию и средний чек заказа   \n",
       "0            Добавить два новых канала привлечения трафика, что позволит привлекать на 30% больше пользователей   \n",
       "6          Показать на главной странице баннеры с актуальными акциями и распродажами, чтобы увеличить конверсию   \n",
       "8                                                       Запустить акцию, дающую скидку на товар в день рождения   \n",
       "3           Изменить структура категорий, что увеличит конверсию, т.к. пользователи быстрее найдут нужный товар   \n",
       "1                                     Запустить собственную службу доставки, что сократит срок доставки заказов   \n",
       "5                      Добавить страницу отзывов клиентов о магазине, что позволит увеличить количество заказов   \n",
       "4                              Изменить цвет фона главной страницы, чтобы увеличить вовлеченность пользователей   \n",
       "\n",
       "   reach  impact  confidence  efforts    ice   rice  \n",
       "7     10       7           8        5  11.20  112.0  \n",
       "2      8       3           7        3   7.00   56.0  \n",
       "0      3      10           8        6  13.33   40.0  \n",
       "6      5       3           8        3   8.00   40.0  \n",
       "8      1       9           9        5  16.20   16.2  \n",
       "3      8       3           3        8   1.12    9.0  \n",
       "1      2       5           4       10   2.00    4.0  \n",
       "5      3       2           2        3   1.33    4.0  \n",
       "4      3       1           1        1   1.00    3.0  "
      ]
     },
     "execution_count": 14,
     "metadata": {},
     "output_type": "execute_result"
    }
   ],
   "source": [
    "hypothesis['rice'] = (hypothesis['reach'] * hypothesis['impact'] * hypothesis['confidence']) / hypothesis['efforts']\n",
    "hypothesis.sort_values(by='rice', ascending=False)"
   ]
  },
  {
   "cell_type": "markdown",
   "id": "d3f0e606",
   "metadata": {},
   "source": [
    "* Теперь наиболее перспективные гипотезы под номерами - 7, 2, 0 и 6. На первом месте теперь находится гипотеза под номером 7 - \"Добавить форму подписки на все основные страницы, чтобы собрать базу клиентов для email-рассылок\". Так получилось, потому что её параметр Reach(охват пользователей) равен 10, в то время как у других гипотез он меньше."
   ]
  },
  {
   "cell_type": "markdown",
   "id": "a91cb519",
   "metadata": {},
   "source": [
    "# Анализ A/B-теста.\n"
   ]
  },
  {
   "cell_type": "markdown",
   "id": "da843d63",
   "metadata": {},
   "source": [
    "**Перед проведением расчётов проверим сколько групп участвуют в тестировании.**"
   ]
  },
  {
   "cell_type": "code",
   "execution_count": 15,
   "id": "7b4515a8",
   "metadata": {},
   "outputs": [
    {
     "data": {
      "text/plain": [
       "array(['A', 'B'], dtype=object)"
      ]
     },
     "execution_count": 15,
     "metadata": {},
     "output_type": "execute_result"
    }
   ],
   "source": [
    "# сколько групп в АВ-тесте\n",
    "visitors['group'].unique()"
   ]
  },
  {
   "cell_type": "markdown",
   "id": "b1ae7b3e",
   "metadata": {},
   "source": [
    "* В тестировании участвуют две группы А и В."
   ]
  },
  {
   "cell_type": "markdown",
   "id": "77e602ff",
   "metadata": {},
   "source": [
    "**Узнаем сколько длился эксперимент.**"
   ]
  },
  {
   "cell_type": "code",
   "execution_count": 16,
   "id": "f304d1aa",
   "metadata": {
    "scrolled": true
   },
   "outputs": [
    {
     "data": {
      "text/plain": [
       "Timestamp('2019-08-01 00:00:00')"
      ]
     },
     "execution_count": 16,
     "metadata": {},
     "output_type": "execute_result"
    }
   ],
   "source": [
    "# дата начала теста\n",
    "visitors['date'].min()"
   ]
  },
  {
   "cell_type": "code",
   "execution_count": 17,
   "id": "9913222a",
   "metadata": {
    "scrolled": true
   },
   "outputs": [
    {
     "data": {
      "text/plain": [
       "Timestamp('2019-08-31 00:00:00')"
      ]
     },
     "execution_count": 17,
     "metadata": {},
     "output_type": "execute_result"
    }
   ],
   "source": [
    "# дата окончания теста\n",
    "visitors['date'].max()"
   ]
  },
  {
   "cell_type": "markdown",
   "id": "19b28142",
   "metadata": {},
   "source": [
    "* Тестирование длилось с 01-08-2019 по 31-08-2019 года, 1 месяц.\n",
    "\n",
    "\n",
    "\n",
    "**Проверим количество пользователей в каждой группе.**"
   ]
  },
  {
   "cell_type": "code",
   "execution_count": 18,
   "id": "76f4cfbb",
   "metadata": {},
   "outputs": [
    {
     "data": {
      "text/plain": [
       "B    640\n",
       "A    557\n",
       "Name: group, dtype: int64"
      ]
     },
     "execution_count": 18,
     "metadata": {},
     "output_type": "execute_result"
    }
   ],
   "source": [
    "orders['group'].value_counts()"
   ]
  },
  {
   "cell_type": "markdown",
   "id": "70a407c0",
   "metadata": {},
   "source": [
    "* В группе А - 557 пользователей, а в группе B - 640, всего 1197 участников.\n",
    "\n",
    "\n",
    "**Проверим не попадают ли пользователи в обе группы.**"
   ]
  },
  {
   "cell_type": "code",
   "execution_count": 19,
   "id": "41721a51",
   "metadata": {},
   "outputs": [
    {
     "data": {
      "text/plain": [
       "visitor_id    58\n",
       "group         58\n",
       "dtype: int64"
      ]
     },
     "execution_count": 19,
     "metadata": {},
     "output_type": "execute_result"
    }
   ],
   "source": [
    "ab = orders.groupby('visitor_id').agg({'group': 'nunique'}).sort_values(by='group', ascending=False).reset_index()\n",
    "ab.query('group == 2').count()"
   ]
  },
  {
   "cell_type": "markdown",
   "id": "16c646e4",
   "metadata": {},
   "source": [
    "* 58 пользователей попали в обе группы теста, 4.8% от общего числа пользователей. Удалять этих пользователей не будем, так как их немного, и их удаление никак не скажется на результатах теста."
   ]
  },
  {
   "cell_type": "markdown",
   "id": "fb4cf9c8",
   "metadata": {},
   "source": [
    "**Создадим массив уникальных пар значений дат и групп теста.**"
   ]
  },
  {
   "cell_type": "code",
   "execution_count": 20,
   "id": "7d3b5b89",
   "metadata": {
    "scrolled": true
   },
   "outputs": [
    {
     "data": {
      "text/html": [
       "<div>\n",
       "<style scoped>\n",
       "    .dataframe tbody tr th:only-of-type {\n",
       "        vertical-align: middle;\n",
       "    }\n",
       "\n",
       "    .dataframe tbody tr th {\n",
       "        vertical-align: top;\n",
       "    }\n",
       "\n",
       "    .dataframe thead th {\n",
       "        text-align: right;\n",
       "    }\n",
       "</style>\n",
       "<table border=\"1\" class=\"dataframe\">\n",
       "  <thead>\n",
       "    <tr style=\"text-align: right;\">\n",
       "      <th></th>\n",
       "      <th>date</th>\n",
       "      <th>group</th>\n",
       "    </tr>\n",
       "  </thead>\n",
       "  <tbody>\n",
       "    <tr>\n",
       "      <th>0</th>\n",
       "      <td>2019-08-15</td>\n",
       "      <td>B</td>\n",
       "    </tr>\n",
       "    <tr>\n",
       "      <th>2</th>\n",
       "      <td>2019-08-15</td>\n",
       "      <td>A</td>\n",
       "    </tr>\n",
       "    <tr>\n",
       "      <th>45</th>\n",
       "      <td>2019-08-16</td>\n",
       "      <td>A</td>\n",
       "    </tr>\n",
       "    <tr>\n",
       "      <th>47</th>\n",
       "      <td>2019-08-16</td>\n",
       "      <td>B</td>\n",
       "    </tr>\n",
       "    <tr>\n",
       "      <th>55</th>\n",
       "      <td>2019-08-01</td>\n",
       "      <td>A</td>\n",
       "    </tr>\n",
       "  </tbody>\n",
       "</table>\n",
       "</div>"
      ],
      "text/plain": [
       "         date group\n",
       "0  2019-08-15     B\n",
       "2  2019-08-15     A\n",
       "45 2019-08-16     A\n",
       "47 2019-08-16     B\n",
       "55 2019-08-01     A"
      ]
     },
     "execution_count": 20,
     "metadata": {},
     "output_type": "execute_result"
    }
   ],
   "source": [
    "datesGroups = orders[['date','group']].drop_duplicates() \n",
    "datesGroups.head()"
   ]
  },
  {
   "cell_type": "markdown",
   "id": "62cad278",
   "metadata": {},
   "source": [
    "**Соберём агрегированные кумулятивные по дням данные о заказах.**"
   ]
  },
  {
   "cell_type": "code",
   "execution_count": 21,
   "id": "303abbcd",
   "metadata": {},
   "outputs": [
    {
     "data": {
      "text/html": [
       "<div>\n",
       "<style scoped>\n",
       "    .dataframe tbody tr th:only-of-type {\n",
       "        vertical-align: middle;\n",
       "    }\n",
       "\n",
       "    .dataframe tbody tr th {\n",
       "        vertical-align: top;\n",
       "    }\n",
       "\n",
       "    .dataframe thead th {\n",
       "        text-align: right;\n",
       "    }\n",
       "</style>\n",
       "<table border=\"1\" class=\"dataframe\">\n",
       "  <thead>\n",
       "    <tr style=\"text-align: right;\">\n",
       "      <th></th>\n",
       "      <th>date</th>\n",
       "      <th>group</th>\n",
       "      <th>transaction_id</th>\n",
       "      <th>visitor_id</th>\n",
       "      <th>revenue</th>\n",
       "    </tr>\n",
       "  </thead>\n",
       "  <tbody>\n",
       "    <tr>\n",
       "      <th>55</th>\n",
       "      <td>2019-08-01</td>\n",
       "      <td>A</td>\n",
       "      <td>24</td>\n",
       "      <td>20</td>\n",
       "      <td>148579</td>\n",
       "    </tr>\n",
       "    <tr>\n",
       "      <th>66</th>\n",
       "      <td>2019-08-01</td>\n",
       "      <td>B</td>\n",
       "      <td>21</td>\n",
       "      <td>20</td>\n",
       "      <td>101217</td>\n",
       "    </tr>\n",
       "    <tr>\n",
       "      <th>175</th>\n",
       "      <td>2019-08-02</td>\n",
       "      <td>A</td>\n",
       "      <td>44</td>\n",
       "      <td>38</td>\n",
       "      <td>242401</td>\n",
       "    </tr>\n",
       "    <tr>\n",
       "      <th>173</th>\n",
       "      <td>2019-08-02</td>\n",
       "      <td>B</td>\n",
       "      <td>45</td>\n",
       "      <td>43</td>\n",
       "      <td>266748</td>\n",
       "    </tr>\n",
       "    <tr>\n",
       "      <th>291</th>\n",
       "      <td>2019-08-03</td>\n",
       "      <td>A</td>\n",
       "      <td>68</td>\n",
       "      <td>62</td>\n",
       "      <td>354874</td>\n",
       "    </tr>\n",
       "  </tbody>\n",
       "</table>\n",
       "</div>"
      ],
      "text/plain": [
       "          date group  transaction_id  visitor_id  revenue\n",
       "55  2019-08-01     A              24          20   148579\n",
       "66  2019-08-01     B              21          20   101217\n",
       "175 2019-08-02     A              44          38   242401\n",
       "173 2019-08-02     B              45          43   266748\n",
       "291 2019-08-03     A              68          62   354874"
      ]
     },
     "execution_count": 21,
     "metadata": {},
     "output_type": "execute_result"
    }
   ],
   "source": [
    "ordersAggregated = datesGroups.apply(lambda x: orders[np.logical_and(orders['date'] <= x['date'], orders['group'] == x['group'])]\\\n",
    ".agg({'date' : 'max', 'group' : 'max', 'transaction_id' : 'nunique', 'visitor_id' : 'nunique', 'revenue' : 'sum'}), axis=1).sort_values(by=['date','group'])\n",
    "ordersAggregated.head()"
   ]
  },
  {
   "cell_type": "markdown",
   "id": "ddd7a694",
   "metadata": {},
   "source": [
    "**Аналогично получим агрегированные кумулятивные по дням данные о посетителях интернет-магазина.**"
   ]
  },
  {
   "cell_type": "code",
   "execution_count": 22,
   "id": "bf567579",
   "metadata": {},
   "outputs": [
    {
     "data": {
      "text/html": [
       "<div>\n",
       "<style scoped>\n",
       "    .dataframe tbody tr th:only-of-type {\n",
       "        vertical-align: middle;\n",
       "    }\n",
       "\n",
       "    .dataframe tbody tr th {\n",
       "        vertical-align: top;\n",
       "    }\n",
       "\n",
       "    .dataframe thead th {\n",
       "        text-align: right;\n",
       "    }\n",
       "</style>\n",
       "<table border=\"1\" class=\"dataframe\">\n",
       "  <thead>\n",
       "    <tr style=\"text-align: right;\">\n",
       "      <th></th>\n",
       "      <th>date</th>\n",
       "      <th>group</th>\n",
       "      <th>visitors</th>\n",
       "    </tr>\n",
       "  </thead>\n",
       "  <tbody>\n",
       "    <tr>\n",
       "      <th>55</th>\n",
       "      <td>2019-08-01</td>\n",
       "      <td>A</td>\n",
       "      <td>719</td>\n",
       "    </tr>\n",
       "    <tr>\n",
       "      <th>66</th>\n",
       "      <td>2019-08-01</td>\n",
       "      <td>B</td>\n",
       "      <td>713</td>\n",
       "    </tr>\n",
       "    <tr>\n",
       "      <th>175</th>\n",
       "      <td>2019-08-02</td>\n",
       "      <td>A</td>\n",
       "      <td>1338</td>\n",
       "    </tr>\n",
       "    <tr>\n",
       "      <th>173</th>\n",
       "      <td>2019-08-02</td>\n",
       "      <td>B</td>\n",
       "      <td>1294</td>\n",
       "    </tr>\n",
       "    <tr>\n",
       "      <th>291</th>\n",
       "      <td>2019-08-03</td>\n",
       "      <td>A</td>\n",
       "      <td>1845</td>\n",
       "    </tr>\n",
       "  </tbody>\n",
       "</table>\n",
       "</div>"
      ],
      "text/plain": [
       "          date group  visitors\n",
       "55  2019-08-01     A       719\n",
       "66  2019-08-01     B       713\n",
       "175 2019-08-02     A      1338\n",
       "173 2019-08-02     B      1294\n",
       "291 2019-08-03     A      1845"
      ]
     },
     "execution_count": 22,
     "metadata": {},
     "output_type": "execute_result"
    }
   ],
   "source": [
    "visitorsAggregated = datesGroups.apply(lambda x: visitors[np.logical_and(visitors['date'] <= x['date'], visitors['group'] == x['group'])].agg({'date' : 'max', 'group' : 'max', 'visitors' : 'sum'}), axis=1).sort_values(by=['date','group']) \n",
    "visitorsAggregated.head()"
   ]
  },
  {
   "cell_type": "markdown",
   "id": "5df77d6f",
   "metadata": {},
   "source": [
    "**Объединим таблицы в одну и изменим названия столбцов.**"
   ]
  },
  {
   "cell_type": "code",
   "execution_count": 23,
   "id": "6896d8d9",
   "metadata": {},
   "outputs": [
    {
     "data": {
      "text/html": [
       "<div>\n",
       "<style scoped>\n",
       "    .dataframe tbody tr th:only-of-type {\n",
       "        vertical-align: middle;\n",
       "    }\n",
       "\n",
       "    .dataframe tbody tr th {\n",
       "        vertical-align: top;\n",
       "    }\n",
       "\n",
       "    .dataframe thead th {\n",
       "        text-align: right;\n",
       "    }\n",
       "</style>\n",
       "<table border=\"1\" class=\"dataframe\">\n",
       "  <thead>\n",
       "    <tr style=\"text-align: right;\">\n",
       "      <th></th>\n",
       "      <th>date</th>\n",
       "      <th>group</th>\n",
       "      <th>orders</th>\n",
       "      <th>buyers</th>\n",
       "      <th>revenue</th>\n",
       "      <th>visitors</th>\n",
       "    </tr>\n",
       "  </thead>\n",
       "  <tbody>\n",
       "    <tr>\n",
       "      <th>0</th>\n",
       "      <td>2019-08-01</td>\n",
       "      <td>A</td>\n",
       "      <td>24</td>\n",
       "      <td>20</td>\n",
       "      <td>148579</td>\n",
       "      <td>719</td>\n",
       "    </tr>\n",
       "    <tr>\n",
       "      <th>1</th>\n",
       "      <td>2019-08-01</td>\n",
       "      <td>B</td>\n",
       "      <td>21</td>\n",
       "      <td>20</td>\n",
       "      <td>101217</td>\n",
       "      <td>713</td>\n",
       "    </tr>\n",
       "    <tr>\n",
       "      <th>2</th>\n",
       "      <td>2019-08-02</td>\n",
       "      <td>A</td>\n",
       "      <td>44</td>\n",
       "      <td>38</td>\n",
       "      <td>242401</td>\n",
       "      <td>1338</td>\n",
       "    </tr>\n",
       "    <tr>\n",
       "      <th>3</th>\n",
       "      <td>2019-08-02</td>\n",
       "      <td>B</td>\n",
       "      <td>45</td>\n",
       "      <td>43</td>\n",
       "      <td>266748</td>\n",
       "      <td>1294</td>\n",
       "    </tr>\n",
       "    <tr>\n",
       "      <th>4</th>\n",
       "      <td>2019-08-03</td>\n",
       "      <td>A</td>\n",
       "      <td>68</td>\n",
       "      <td>62</td>\n",
       "      <td>354874</td>\n",
       "      <td>1845</td>\n",
       "    </tr>\n",
       "  </tbody>\n",
       "</table>\n",
       "</div>"
      ],
      "text/plain": [
       "        date group  orders  buyers  revenue  visitors\n",
       "0 2019-08-01     A      24      20   148579       719\n",
       "1 2019-08-01     B      21      20   101217       713\n",
       "2 2019-08-02     A      44      38   242401      1338\n",
       "3 2019-08-02     B      45      43   266748      1294\n",
       "4 2019-08-03     A      68      62   354874      1845"
      ]
     },
     "execution_count": 23,
     "metadata": {},
     "output_type": "execute_result"
    }
   ],
   "source": [
    "cumulativeData = ordersAggregated.merge(visitorsAggregated, left_on=['date', 'group'], right_on=['date', 'group'])\n",
    "cumulativeData.columns = ['date', 'group', 'orders', 'buyers', 'revenue', 'visitors']\n",
    "cumulativeData.head()"
   ]
  },
  {
   "cell_type": "markdown",
   "id": "f1846722",
   "metadata": {},
   "source": [
    "## Кумулятивная выручка по дням.\n",
    "**Построим график кумулятивной выручки по дням и группам A/B-тестирования**"
   ]
  },
  {
   "cell_type": "code",
   "execution_count": 24,
   "id": "cafd0525",
   "metadata": {
    "scrolled": true
   },
   "outputs": [
    {
     "data": {
      "image/png": "[encoded data removed]",
      "text/plain": [
       "<Figure size 864x360 with 1 Axes>"
      ]
     },
     "metadata": {
      "needs_background": "light"
     },
     "output_type": "display_data"
    }
   ],
   "source": [
    "# датафрейм с кумулятивным количеством заказов и кумулятивной выручкой по дням в группе А\n",
    "cumulativeRevenueA = cumulativeData[cumulativeData['group']=='A'][['date','revenue', 'orders']]\n",
    "\n",
    "# датафрейм с кумулятивным количеством заказов и кумулятивной выручкой по дням в группе B\n",
    "cumulativeRevenueB = cumulativeData[cumulativeData['group']=='B'][['date','revenue', 'orders']]\n",
    "\n",
    "\n",
    "plt.figure(figsize=(12, 5))\n",
    "plt.xticks(rotation=45)\n",
    "plt.plot(cumulativeRevenueA['date'], cumulativeRevenueA['revenue'], label='A')\n",
    "plt.plot(cumulativeRevenueB['date'], cumulativeRevenueB['revenue'], label='B')\n",
    "plt.title('Кумулятивная выручка по дням и группам A/B-тестирования')\n",
    "plt.xlabel('Дата')\n",
    "plt.ylabel('Выручка')\n",
    "plt.grid()\n",
    "plt.legend(); "
   ]
  },
  {
   "cell_type": "markdown",
   "id": "8c358854",
   "metadata": {},
   "source": [
    "* Выручка почти равномерно увеличивается в течение всего теста. Выручка группы А меньше выручки группы В, у которой в середине августа произошел резкий скачок. Возможно в это время был рост числа заказов или появились дорогие заказы.\n",
    "\n",
    "* Посмотрим какие заказы были совершены в этом промежутке времени."
   ]
  },
  {
   "cell_type": "code",
   "execution_count": 25,
   "id": "910bd8d1",
   "metadata": {
    "scrolled": true
   },
   "outputs": [
    {
     "data": {
      "text/html": [
       "<div>\n",
       "<style scoped>\n",
       "    .dataframe tbody tr th:only-of-type {\n",
       "        vertical-align: middle;\n",
       "    }\n",
       "\n",
       "    .dataframe tbody tr th {\n",
       "        vertical-align: top;\n",
       "    }\n",
       "\n",
       "    .dataframe thead th {\n",
       "        text-align: right;\n",
       "    }\n",
       "</style>\n",
       "<table border=\"1\" class=\"dataframe\">\n",
       "  <thead>\n",
       "    <tr style=\"text-align: right;\">\n",
       "      <th></th>\n",
       "      <th>date</th>\n",
       "      <th>revenue</th>\n",
       "      <th>orders</th>\n",
       "    </tr>\n",
       "  </thead>\n",
       "  <tbody>\n",
       "    <tr>\n",
       "      <th>29</th>\n",
       "      <td>2019-08-15</td>\n",
       "      <td>2367945</td>\n",
       "      <td>339</td>\n",
       "    </tr>\n",
       "    <tr>\n",
       "      <th>31</th>\n",
       "      <td>2019-08-16</td>\n",
       "      <td>2539635</td>\n",
       "      <td>359</td>\n",
       "    </tr>\n",
       "    <tr>\n",
       "      <th>33</th>\n",
       "      <td>2019-08-17</td>\n",
       "      <td>2620790</td>\n",
       "      <td>373</td>\n",
       "    </tr>\n",
       "    <tr>\n",
       "      <th>35</th>\n",
       "      <td>2019-08-18</td>\n",
       "      <td>2686621</td>\n",
       "      <td>382</td>\n",
       "    </tr>\n",
       "    <tr>\n",
       "      <th>37</th>\n",
       "      <td>2019-08-19</td>\n",
       "      <td>4116541</td>\n",
       "      <td>403</td>\n",
       "    </tr>\n",
       "    <tr>\n",
       "      <th>39</th>\n",
       "      <td>2019-08-20</td>\n",
       "      <td>4263815</td>\n",
       "      <td>423</td>\n",
       "    </tr>\n",
       "  </tbody>\n",
       "</table>\n",
       "</div>"
      ],
      "text/plain": [
       "         date  revenue  orders\n",
       "29 2019-08-15  2367945     339\n",
       "31 2019-08-16  2539635     359\n",
       "33 2019-08-17  2620790     373\n",
       "35 2019-08-18  2686621     382\n",
       "37 2019-08-19  4116541     403\n",
       "39 2019-08-20  4263815     423"
      ]
     },
     "execution_count": 25,
     "metadata": {},
     "output_type": "execute_result"
    }
   ],
   "source": [
    "cumulativeRevenueB.query('date >= \"2019-08-15\" and date <= \"2019-08-20\"')"
   ]
  },
  {
   "cell_type": "markdown",
   "id": "ca848b0d",
   "metadata": {},
   "source": [
    "* Действительно с 19 августа были совершены заказы свыше 400 тысяч рублей, это значительный рост в сравнении с совершенными заказами до 19 августа."
   ]
  },
  {
   "cell_type": "markdown",
   "id": "3fc9e14a",
   "metadata": {},
   "source": [
    "## Кумулятивный средний чек.\n",
    "**Построим график кумулятивного среднего чека по группам.**"
   ]
  },
  {
   "cell_type": "code",
   "execution_count": 26,
   "id": "f6d9f23e",
   "metadata": {},
   "outputs": [
    {
     "data": {
      "image/png": "[encoded data removed]",
      "text/plain": [
       "<Figure size 864x360 with 1 Axes>"
      ]
     },
     "metadata": {
      "needs_background": "light"
     },
     "output_type": "display_data"
    }
   ],
   "source": [
    "plt.figure(figsize=(12, 5))\n",
    "plt.xticks(rotation=45)\n",
    "plt.plot(cumulativeRevenueA['date'], cumulativeRevenueA['revenue']/cumulativeRevenueA['orders'], label='A')\n",
    "plt.plot(cumulativeRevenueB['date'], cumulativeRevenueB['revenue']/cumulativeRevenueB['orders'], label='B')\n",
    "plt.title('График кумулятивного среднего чека по группам')\n",
    "plt.xlabel('Дата')\n",
    "plt.ylabel('Средний чек')\n",
    "plt.grid()\n",
    "plt.legend();"
   ]
  },
  {
   "cell_type": "markdown",
   "id": "fd0e989f",
   "metadata": {},
   "source": [
    "* Куммулятивное значение среднего чека не стабильное. Средний чек группы В на протяжении всего теста скачкообразно растёт, а средний чек группы А в начале показывает небольшое падение, затем резкий скачок роста и далее становится равномерным до конца теста."
   ]
  },
  {
   "cell_type": "markdown",
   "id": "1965cad6",
   "metadata": {},
   "source": [
    "**Построим график относительного изменения кумулятивного среднего чека группы B к группе A.**"
   ]
  },
  {
   "cell_type": "code",
   "execution_count": 27,
   "id": "d738bb11",
   "metadata": {},
   "outputs": [
    {
     "data": {
      "image/png": "[encoded data removed]",
      "text/plain": [
       "<Figure size 864x360 with 1 Axes>"
      ]
     },
     "metadata": {
      "needs_background": "light"
     },
     "output_type": "display_data"
    }
   ],
   "source": [
    "# собираем данные в одном датафрейме\n",
    "mergedCumulativeRevenue = cumulativeRevenueA.merge(cumulativeRevenueB, left_on='date', right_on='date', how='left', suffixes=['A', 'B'])\n",
    "\n",
    "plt.figure(figsize=(12, 5))\n",
    "plt.xticks(rotation=45)\n",
    "plt.plot(mergedCumulativeRevenue['date'], (mergedCumulativeRevenue['revenueB']/mergedCumulativeRevenue['ordersB'])/(mergedCumulativeRevenue['revenueA']/mergedCumulativeRevenue['ordersA'])-1)\n",
    "plt.axhline(y=0, color='black', linestyle='--')\n",
    "plt.title('График относительного изменения кумулятивного среднего чека группы B к группе A')\n",
    "plt.xlabel('Дата')\n",
    "plt.ylabel('Куммулятивный средний чек')\n",
    "plt.grid()\n",
    "plt.show()"
   ]
  },
  {
   "cell_type": "markdown",
   "id": "ce66c518",
   "metadata": {},
   "source": [
    "* Все три графика показывают одинаковую динамику, в нескольких точках график различия между сегментами резко скачет, в эти даты были совершены крупные заказы."
   ]
  },
  {
   "cell_type": "markdown",
   "id": "ab9d1bb3",
   "metadata": {},
   "source": [
    "## Кумулятивная конверсия.\n",
    "**Построим график кумулятивной конверсии по группам.**"
   ]
  },
  {
   "cell_type": "code",
   "execution_count": 28,
   "id": "cafec04b",
   "metadata": {},
   "outputs": [
    {
     "data": {
      "image/png": "[encoded data removed]",
      "text/plain": [
       "<Figure size 864x360 with 1 Axes>"
      ]
     },
     "metadata": {
      "needs_background": "light"
     },
     "output_type": "display_data"
    }
   ],
   "source": [
    "# считаем кумулятивную конверсию\n",
    "cumulativeData['conversion'] = cumulativeData['orders']/cumulativeData['visitors']\n",
    "\n",
    "# отделяем данные по группе A\n",
    "cumulativeDataA = cumulativeData[cumulativeData['group']=='A']\n",
    "\n",
    "# отделяем данные по группе B\n",
    "cumulativeDataB = cumulativeData[cumulativeData['group']=='B']\n",
    "\n",
    "# строим графики\n",
    "plt.figure(figsize=(12, 5))\n",
    "plt.xticks(rotation=45)\n",
    "plt.plot(cumulativeDataA['date'], cumulativeDataA['conversion'], label='A')\n",
    "plt.plot(cumulativeDataB['date'], cumulativeDataB['conversion'], label='B')\n",
    "plt.title('График кумулятивной конверсии по группам')\n",
    "plt.xlabel('Дата')\n",
    "plt.ylabel('Куммулятивная конверсия')\n",
    "plt.grid()\n",
    "plt.legend()\n",
    "plt.axis(['2019-08-01', '2019-08-31', 0.029, 0.038]);"
   ]
  },
  {
   "cell_type": "markdown",
   "id": "11cb64d8",
   "metadata": {},
   "source": [
    "* Конверсия группы А была выше в начале теста и даже показала максимальное значение - 0.037 за весь период наблюдения между группами, затем снизилась и зафиксировалась на отметке 0.029. Конверсия группы В началась с отметки 0.030 и затем показала значительный рост в сравнении с группой А, конверсия группы В зафиксировалась на отметке 0.034. "
   ]
  },
  {
   "cell_type": "markdown",
   "id": "4d2c253f",
   "metadata": {},
   "source": [
    "**Построим график относительного изменения кумулятивной конверсии группы B к группе A.**"
   ]
  },
  {
   "cell_type": "code",
   "execution_count": 29,
   "id": "25637a67",
   "metadata": {
    "scrolled": false
   },
   "outputs": [
    {
     "data": {
      "image/png": "[encoded data removed]",
      "text/plain": [
       "<Figure size 864x360 with 1 Axes>"
      ]
     },
     "metadata": {
      "needs_background": "light"
     },
     "output_type": "display_data"
    }
   ],
   "source": [
    "mergedCumulativeConversions = cumulativeDataA[['date','conversion']].merge(cumulativeDataB[['date','conversion']], left_on='date', right_on='date', how='left', suffixes=['A', 'B'])\n",
    "plt.figure(figsize=(12, 5))\n",
    "plt.xticks(rotation=45)\n",
    "plt.plot(mergedCumulativeConversions['date'], mergedCumulativeConversions['conversionB']/mergedCumulativeConversions['conversionA']-1, label=\"Относительный прирост конверсии группы B относительно группы A\")\n",
    "plt.title('График относительного изменения кумулятивной конверсии группы B к группе A')\n",
    "plt.xlabel('Дата')\n",
    "plt.ylabel('Куммулятивная конверсия')\n",
    "plt.grid()\n",
    "plt.legend()\n",
    "\n",
    "plt.axhline(y=0, color='black', linestyle='--')\n",
    "plt.axhline(y=0.2, color='grey', linestyle='--')\n",
    "plt.axis([\"2019-08-01\", '2019-08-29', - 0.2, 0.3]);"
   ]
  },
  {
   "cell_type": "markdown",
   "id": "2db52f9b",
   "metadata": {},
   "source": [
    "* В начале теста группа B проигрывала группе A, затем вырвалась вперёд. Её конверсия имела плавный рост и затем было небольшое снижение."
   ]
  },
  {
   "cell_type": "markdown",
   "id": "04278922",
   "metadata": {},
   "source": [
    "## Количество заказов по пользователям.\n",
    "**Подсчитаем количество заказов по пользователям.**"
   ]
  },
  {
   "cell_type": "code",
   "execution_count": 30,
   "id": "dda8eccd",
   "metadata": {
    "scrolled": true
   },
   "outputs": [
    {
     "data": {
      "text/html": [
       "<div>\n",
       "<style scoped>\n",
       "    .dataframe tbody tr th:only-of-type {\n",
       "        vertical-align: middle;\n",
       "    }\n",
       "\n",
       "    .dataframe tbody tr th {\n",
       "        vertical-align: top;\n",
       "    }\n",
       "\n",
       "    .dataframe thead th {\n",
       "        text-align: right;\n",
       "    }\n",
       "</style>\n",
       "<table border=\"1\" class=\"dataframe\">\n",
       "  <thead>\n",
       "    <tr style=\"text-align: right;\">\n",
       "      <th></th>\n",
       "      <th>visitor_id</th>\n",
       "      <th>orders_count</th>\n",
       "    </tr>\n",
       "  </thead>\n",
       "  <tbody>\n",
       "    <tr>\n",
       "      <th>1023</th>\n",
       "      <td>4256040402</td>\n",
       "      <td>11</td>\n",
       "    </tr>\n",
       "    <tr>\n",
       "      <th>591</th>\n",
       "      <td>2458001652</td>\n",
       "      <td>11</td>\n",
       "    </tr>\n",
       "    <tr>\n",
       "      <th>569</th>\n",
       "      <td>2378935119</td>\n",
       "      <td>9</td>\n",
       "    </tr>\n",
       "    <tr>\n",
       "      <th>487</th>\n",
       "      <td>2038680547</td>\n",
       "      <td>8</td>\n",
       "    </tr>\n",
       "    <tr>\n",
       "      <th>44</th>\n",
       "      <td>199603092</td>\n",
       "      <td>5</td>\n",
       "    </tr>\n",
       "  </tbody>\n",
       "</table>\n",
       "</div>"
      ],
      "text/plain": [
       "      visitor_id  orders_count\n",
       "1023  4256040402            11\n",
       "591   2458001652            11\n",
       "569   2378935119             9\n",
       "487   2038680547             8\n",
       "44     199603092             5"
      ]
     },
     "execution_count": 30,
     "metadata": {},
     "output_type": "execute_result"
    }
   ],
   "source": [
    "orders_by_users = orders.groupby('visitor_id', as_index=False).agg({'transaction_id': 'nunique'}).sort_values(by='transaction_id', ascending=False)\n",
    "orders_by_users.columns = ['visitor_id', 'orders_count']\n",
    "orders_by_users.head()"
   ]
  },
  {
   "cell_type": "markdown",
   "id": "d30b98a8",
   "metadata": {},
   "source": [
    "**Построим гистрограмму распределения количества заказов на одного пользователя.**"
   ]
  },
  {
   "cell_type": "code",
   "execution_count": 31,
   "id": "5183dc43",
   "metadata": {
    "scrolled": true
   },
   "outputs": [
    {
     "data": {
      "image/png": "[encoded data removed]",
      "text/plain": [
       "<Figure size 432x288 with 1 Axes>"
      ]
     },
     "metadata": {
      "needs_background": "light"
     },
     "output_type": "display_data"
    }
   ],
   "source": [
    "plt.hist(orders_by_users['orders_count'], color='#FA4EAB')\n",
    "plt.grid()\n",
    "plt.title('Распределение количества заказов')\n",
    "plt.xlabel('Количество заказа')\n",
    "plt.ylabel('Количество пользователей')\n",
    "plt.show();"
   ]
  },
  {
   "cell_type": "markdown",
   "id": "251036b9",
   "metadata": {},
   "source": [
    "* Большинство покупателей заказывали только один раз. Доля пользователей с 2-4 заказами незначительна.\n",
    "\n",
    "\n",
    "**Построим точечную диаграмму числа заказов на одного пользователя.**"
   ]
  },
  {
   "cell_type": "code",
   "execution_count": 32,
   "id": "b0fe72c9",
   "metadata": {
    "scrolled": false
   },
   "outputs": [
    {
     "data": {
      "image/png": "[encoded data removed]",
      "text/plain": [
       "<Figure size 720x360 with 1 Axes>"
      ]
     },
     "metadata": {
      "needs_background": "light"
     },
     "output_type": "display_data"
    }
   ],
   "source": [
    "x_values = pd.Series(range(0, len(orders_by_users['orders_count'])))\n",
    "plt.figure(figsize=(10,5))\n",
    "plt.scatter(x_values, orders_by_users['orders_count'], color='#FF5403', alpha=0.5)\n",
    "plt.grid()\n",
    "plt.title('Распределение количества заказов')\n",
    "plt.xlabel('Количество пользователей')\n",
    "plt.ylabel('Количество заказов')\n",
    "plt.show();"
   ]
  },
  {
   "cell_type": "markdown",
   "id": "24b40cf1",
   "metadata": {},
   "source": [
    "* Большинство пользователей сделали один заказ и небольшое количество пользователей сделали 2 заказа.\n",
    "\n",
    "**Посчитаем 95-й и 99-й перцентили количества заказов на пользователя. Выберем границу для определения аномальных пользователей.**"
   ]
  },
  {
   "cell_type": "code",
   "execution_count": 33,
   "id": "69ebef4a",
   "metadata": {},
   "outputs": [
    {
     "data": {
      "text/plain": [
       "array([2., 4.])"
      ]
     },
     "execution_count": 33,
     "metadata": {},
     "output_type": "execute_result"
    }
   ],
   "source": [
    "np.percentile(orders_by_users['orders_count'], [ 95, 99])"
   ]
  },
  {
   "cell_type": "markdown",
   "id": "04b8e650",
   "metadata": {},
   "source": [
    "* Не более 5% пользователей оформили 2 заказа. И 1% пользователей заказывали 4 раза.\n",
    "\n",
    "\n",
    "* Разумно выбрать 2 заказа на одного пользователя за верхнюю границу числа заказов, все заказы выше 2 считать аномальными."
   ]
  },
  {
   "cell_type": "markdown",
   "id": "ed2b10cf",
   "metadata": {},
   "source": [
    "## Распределение стоимости заказов.\n",
    "**Построим гистрограмму распределения стоимости заказов.**"
   ]
  },
  {
   "cell_type": "code",
   "execution_count": 34,
   "id": "2c770831",
   "metadata": {},
   "outputs": [
    {
     "data": {
      "image/png": "[encoded data removed]",
      "text/plain": [
       "<Figure size 720x360 with 1 Axes>"
      ]
     },
     "metadata": {
      "needs_background": "light"
     },
     "output_type": "display_data"
    }
   ],
   "source": [
    "plt.figure(figsize=(10,5))\n",
    "plt.hist(orders['revenue'], color='#77D970')\n",
    "plt.grid()\n",
    "plt.title('Распределение стоимости заказов')\n",
    "plt.xlabel('Стоимость заказа')\n",
    "plt.ylabel('Количество пользователей')\n",
    "plt.show();"
   ]
  },
  {
   "cell_type": "markdown",
   "id": "59ccdd20",
   "metadata": {},
   "source": [
    "* Большинство заказов до 100 тысяч. В данных есть заказы дороже 100 тысяч - например, 202 740, и 1 294 500 рублей. Однако большинство всё-таки имеет меньшую выручку.\n",
    "\n",
    "**Построим точечный график стоимостей заказов.**"
   ]
  },
  {
   "cell_type": "code",
   "execution_count": 35,
   "id": "2f96ef3d",
   "metadata": {
    "scrolled": true
   },
   "outputs": [
    {
     "data": {
      "image/png": "[encoded data removed]",
      "text/plain": [
       "<Figure size 720x360 with 1 Axes>"
      ]
     },
     "metadata": {
      "needs_background": "light"
     },
     "output_type": "display_data"
    }
   ],
   "source": [
    "x_values = pd.Series(range(0, len(orders['revenue'])))\n",
    "plt.figure(figsize=(10, 5))\n",
    "plt.scatter(x_values, orders['revenue'], color='#9C19E0', alpha=0.5)\n",
    "plt.grid()\n",
    "plt.title('Распределение стоимости заказов')\n",
    "plt.xlabel('Количество пользователей')\n",
    "plt.ylabel('Стоимость заказа')\n",
    "plt.show();"
   ]
  },
  {
   "cell_type": "markdown",
   "id": "fccf1799",
   "metadata": {},
   "source": [
    "**Ограничим ось Y, чтобы убрать явные выбросы и проверить появятся ли новые.**"
   ]
  },
  {
   "cell_type": "code",
   "execution_count": 36,
   "id": "2402104e",
   "metadata": {
    "scrolled": false
   },
   "outputs": [
    {
     "data": {
      "image/png": "[encoded data removed]",
      "text/plain": [
       "<Figure size 720x360 with 1 Axes>"
      ]
     },
     "metadata": {
      "needs_background": "light"
     },
     "output_type": "display_data"
    }
   ],
   "source": [
    "new_orders = orders.query('revenue < 200000')\n",
    "x_values = pd.Series(range(0, len(new_orders['revenue'])))\n",
    "plt.figure(figsize=(10, 5))\n",
    "plt.scatter(x_values, new_orders['revenue'], color='#9C19E0', alpha=0.5)\n",
    "plt.grid()\n",
    "plt.title('Распределение стоимости заказов')\n",
    "plt.xlabel('Количество пользователей')\n",
    "plt.ylabel('Стоимость заказа')\n",
    "plt.show();"
   ]
  },
  {
   "cell_type": "markdown",
   "id": "7c9130ad",
   "metadata": {},
   "source": [
    "* Большинство заказов до 20 тысяч рублей. В этом дипазоне выбросами считаются заказы больше 80 тысяч рублей. Для определения более точной границы аномальных значений рассчитаем процентили."
   ]
  },
  {
   "cell_type": "markdown",
   "id": "82efb724",
   "metadata": {},
   "source": [
    "* На графике так же видно 2 заказа выше 100 тысяч.\n",
    "\n",
    "\n",
    "**Посчитаем 95-й и 99-й перцентили стоимости заказов. Выберем границу для определения аномальных заказов.**"
   ]
  },
  {
   "cell_type": "code",
   "execution_count": 37,
   "id": "cb178a2d",
   "metadata": {},
   "outputs": [
    {
     "data": {
      "text/plain": [
       "array([28000. , 58233.2])"
      ]
     },
     "execution_count": 37,
     "metadata": {},
     "output_type": "execute_result"
    }
   ],
   "source": [
    "np.percentile(orders['revenue'], [ 95, 99])"
   ]
  },
  {
   "cell_type": "markdown",
   "id": "16ec96fb",
   "metadata": {},
   "source": [
    "* Не более 5% заказов дороже 28 000 рублей и не более 1% дороже 58 233.2 рублей. Всё что выше 58 233 рублей, будем считать аномалией."
   ]
  },
  {
   "cell_type": "markdown",
   "id": "cc3f03fe",
   "metadata": {},
   "source": [
    "## Cтатистическая значимость различий в конверсии и в среднем чеке.\n",
    "**Посчитаем статистическую значимость различий в конверсии между группами по «сырым» данным.**"
   ]
  },
  {
   "cell_type": "code",
   "execution_count": 38,
   "id": "1da2e215",
   "metadata": {},
   "outputs": [
    {
     "name": "stdout",
     "output_type": "stream",
     "text": [
      "        date  ordersPerDateA  revenuePerDateA  ordersPerDateB  \\\n",
      "0 2019-08-01              24           148579              21   \n",
      "1 2019-08-02              20            93822              24   \n",
      "2 2019-08-03              24           112473              16   \n",
      "\n",
      "   revenuePerDateB  ordersCummulativeA  revenueCummulativeA  \\\n",
      "0           101217                  24               148579   \n",
      "1           165531                  44               242401   \n",
      "2           114248                  68               354874   \n",
      "\n",
      "   ordersCummulativeB  revenueCummulativeB  visitorsPerDateA  \\\n",
      "0                  21               101217               719   \n",
      "1                  45               266748               619   \n",
      "2                  61               380996               507   \n",
      "\n",
      "   visitorsPerDateB  visitorsCummulativeA  visitorsCummulativeB  \n",
      "0               713                   719                   713  \n",
      "1               581                  1338                  1294  \n",
      "2               509                  1845                  1803  \n"
     ]
    }
   ],
   "source": [
    "visitorsADaily = visitors[visitors['group'] == 'A'][['date', 'visitors']]\n",
    "visitorsADaily.columns = ['date', 'visitorsPerDateA']\n",
    "\n",
    "visitorsACummulative = visitorsADaily.apply(\n",
    "    lambda x: visitorsADaily[visitorsADaily['date'] <= x['date']].agg(\n",
    "        {'date': 'max', 'visitorsPerDateA': 'sum'}\n",
    "    ),\n",
    "    axis=1,\n",
    ")\n",
    "visitorsACummulative.columns = ['date', 'visitorsCummulativeA']\n",
    "\n",
    "visitorsBDaily = visitors[visitors['group'] == 'B'][['date', 'visitors']]\n",
    "visitorsBDaily.columns = ['date', 'visitorsPerDateB']\n",
    "\n",
    "visitorsBCummulative = visitorsBDaily.apply(\n",
    "    lambda x: visitorsBDaily[visitorsBDaily['date'] <= x['date']].agg(\n",
    "        {'date': 'max', 'visitorsPerDateB': 'sum'}\n",
    "    ),\n",
    "    axis=1,\n",
    ")\n",
    "visitorsBCummulative.columns = ['date', 'visitorsCummulativeB']\n",
    "\n",
    "ordersADaily = (\n",
    "    orders[orders['group'] == 'A'][['date', 'transaction_id', 'visitor_id', 'revenue']]\n",
    "    .groupby('date', as_index=False)\n",
    "    .agg({'transaction_id': pd.Series.nunique, 'revenue': 'sum'})\n",
    ")\n",
    "ordersADaily.columns = ['date', 'ordersPerDateA', 'revenuePerDateA']\n",
    "\n",
    "ordersACummulative = ordersADaily.apply(\n",
    "    lambda x: ordersADaily[ordersADaily['date'] <= x['date']].agg(\n",
    "        {'date': 'max', 'ordersPerDateA': 'sum', 'revenuePerDateA': 'sum'}\n",
    "    ),\n",
    "    axis=1,\n",
    ").sort_values(by=['date'])\n",
    "ordersACummulative.columns = [\n",
    "    'date',\n",
    "    'ordersCummulativeA',\n",
    "    'revenueCummulativeA',\n",
    "]\n",
    "\n",
    "ordersBDaily = (\n",
    "    orders[orders['group'] == 'B'][['date', 'transaction_id', 'visitor_id', 'revenue']]\n",
    "    .groupby('date', as_index=False)\n",
    "    .agg({'transaction_id': pd.Series.nunique, 'revenue': 'sum'})\n",
    ")\n",
    "ordersBDaily.columns = ['date', 'ordersPerDateB', 'revenuePerDateB']\n",
    "\n",
    "ordersBCummulative = ordersBDaily.apply(\n",
    "    lambda x: ordersBDaily[ordersBDaily['date'] <= x['date']].agg(\n",
    "        {'date': 'max', 'ordersPerDateB': 'sum', 'revenuePerDateB': 'sum'}\n",
    "    ),\n",
    "    axis=1,\n",
    ").sort_values(by=['date'])\n",
    "ordersBCummulative.columns = [\n",
    "    'date',\n",
    "    'ordersCummulativeB',\n",
    "    'revenueCummulativeB',\n",
    "]\n",
    "\n",
    "data = (\n",
    "    ordersADaily.merge(\n",
    "        ordersBDaily, left_on='date', right_on='date', how='left'\n",
    "    )\n",
    "    .merge(ordersACummulative, left_on='date', right_on='date', how='left')\n",
    "    .merge(ordersBCummulative, left_on='date', right_on='date', how='left')\n",
    "    .merge(visitorsADaily, left_on='date', right_on='date', how='left')\n",
    "    .merge(visitorsBDaily, left_on='date', right_on='date', how='left')\n",
    "    .merge(visitorsACummulative, left_on='date', right_on='date', how='left')\n",
    "    .merge(visitorsBCummulative, left_on='date', right_on='date', how='left')\n",
    ")\n",
    "print(data.head(3)) "
   ]
  },
  {
   "cell_type": "markdown",
   "id": "143afc74",
   "metadata": {},
   "source": [
    "* Создадим переменные ordersByUsersA и ordersByUsersB со столбцами ['user_id', 'orders']. В них для пользователей, которые заказывали хотя бы 1 раз, укажем число совершённых заказов.\n",
    "\n",
    "* Объявим переменные sampleA и sampleB, в которых пользователям из разных групп будет соответствовать количество заказов. Тем, кто ничего не заказал, будут соответствовать нули. Это нужно, чтобы подготовить выборки к проверке критерием Манна-Уитни."
   ]
  },
  {
   "cell_type": "markdown",
   "id": "5c6784a7",
   "metadata": {},
   "source": [
    "* Выведем относительный прирост конверсии группы B: конверсия группы B / конверсия группы A - 1."
   ]
  },
  {
   "cell_type": "markdown",
   "id": "0a315927",
   "metadata": {},
   "source": [
    "**Сформулируем гипотезы:**\n",
    "\n",
    "H₀ - статистически значимых различий в конверсии по \"сырым\" данным между группами нет.\n",
    "\n",
    "H₁ - статистически значимые различия в конверсии по \"сырым\" данным между группами есть."
   ]
  },
  {
   "cell_type": "code",
   "execution_count": 39,
   "id": "8b50be9e",
   "metadata": {},
   "outputs": [
    {
     "name": "stdout",
     "output_type": "stream",
     "text": [
      "alpha = 0.05\n",
      "p-value =  0.016792355056752608\n",
      "Относительный проигрыш группы B = 0.138\n"
     ]
    }
   ],
   "source": [
    "ordersByUsersA = (\n",
    "    orders[orders['group'] == 'A']\n",
    "    .groupby('visitor_id', as_index=False)\n",
    "    .agg({'transaction_id': pd.Series.nunique})\n",
    ")\n",
    "ordersByUsersA.columns = ['user_id', 'orders']\n",
    "\n",
    "ordersByUsersB = (\n",
    "    orders[orders['group'] == 'B']\n",
    "    .groupby('visitor_id', as_index=False)\n",
    "    .agg({'transaction_id': pd.Series.nunique})\n",
    ")\n",
    "ordersByUsersB.columns = ['user_id', 'orders'] \n",
    "\n",
    "pd.Series(0, index=np.arange(data['visitorsPerDateA'].sum() - len(ordersByUsersA['orders'])), name='orders')\n",
    "[ordersByUsersA['orders'],pd.Series(0, index=np.arange(data['visitorsPerDateA'].sum() - len(ordersByUsersA['orders'])), name='orders')]\n",
    "\n",
    "sampleA = pd.concat([ordersByUsersA['orders'],pd.Series(0, index=np.arange(data['visitorsPerDateA'].sum() - len(ordersByUsersA['orders'])), name='orders')],axis=0)\n",
    "\n",
    "sampleB = pd.concat([ordersByUsersB['orders'],pd.Series(0, index=np.arange(data['visitorsPerDateB'].sum() - len(ordersByUsersB['orders'])), name='orders')],axis=0) \n",
    "\n",
    "print('alpha = 0.05')\n",
    "print('p-value = ', (st.mannwhitneyu(sampleA, sampleB)[1]))\n",
    "\n",
    "print(\"Относительный проигрыш группы B = {0:.3f}\".format(sampleB.mean() / sampleA.mean() - 1))\n",
    " "
   ]
  },
  {
   "cell_type": "markdown",
   "id": "d35b1dbd",
   "metadata": {},
   "source": [
    "* p-value меньше 0.05, значит, нулевую гипотезу о том, что статистически значимых различий в конверсии между группами нет, отвергаем. \n",
    "* По «сырым» данным различия в конверсии групп A и B есть. А относительный выигрыш группы B равен 13.8% ."
   ]
  },
  {
   "cell_type": "markdown",
   "id": "eb2e21b0",
   "metadata": {},
   "source": [
    "**Посчитаем статистическую значимость различий в среднем чеке заказа между группами по «сырым» данным.** \n",
    "\n",
    "**Сформулируем гипотезы:**\n",
    "\n",
    "H₀ - в среднем чеке нет различий между группами по \"сырым\" данным.\n",
    "\n",
    "H₁ - в среднем чеке есть различия между группами по \"сырым\" данным."
   ]
  },
  {
   "cell_type": "code",
   "execution_count": 40,
   "id": "b29d2510",
   "metadata": {},
   "outputs": [
    {
     "name": "stdout",
     "output_type": "stream",
     "text": [
      "alpha = 0.05\n",
      "p-value =  0.7292909855432458\n",
      "Относительный проигрыш группы B = 0.259\n"
     ]
    }
   ],
   "source": [
    "print('alpha = 0.05')\n",
    "print('p-value = ', (st.mannwhitneyu(orders[orders['group']=='A']['revenue'], orders[orders['group']=='B']['revenue'])[1]))\n",
    "print('Относительный проигрыш группы B = {0:.3f}'.format(orders[orders['group']=='B']['revenue'].mean()/orders[orders['group']=='A']['revenue'].mean()-1)) "
   ]
  },
  {
   "cell_type": "markdown",
   "id": "85e46134",
   "metadata": {},
   "source": [
    "* p-value значительно больше 0.05. Значит, причин отвергать нулевую гипотезу и считать, что в среднем чеке есть различия, нет. Различие среднего чека между группами всего 2.6%."
   ]
  },
  {
   "cell_type": "markdown",
   "id": "c75620a1",
   "metadata": {},
   "source": [
    "**Cтатистическая значимость различий в конверсии между группами по «очищенным» данным.**"
   ]
  },
  {
   "cell_type": "markdown",
   "id": "5b33950d",
   "metadata": {},
   "source": [
    "* Примем за аномальных пользователей тех, кто совершил больше 2 заказов или совершил заказ дороже 58233.2 рублей. \n",
    "* Узнаем, сколько всего аномальных пользователей методом shape()."
   ]
  },
  {
   "cell_type": "code",
   "execution_count": 41,
   "id": "17373013",
   "metadata": {},
   "outputs": [
    {
     "name": "stdout",
     "output_type": "stream",
     "text": [
      "1099    148427295\n",
      "18      199603092\n",
      "23      237748145\n",
      "37      249864742\n",
      "68      457167155\n",
      "dtype: int64\n",
      "31\n"
     ]
    }
   ],
   "source": [
    "usersWithManyOrders = pd.concat(\n",
    "    [\n",
    "        ordersByUsersA[ordersByUsersA['orders'] > 2]['user_id'],\n",
    "        ordersByUsersB[ordersByUsersB['orders'] > 2]['user_id'],\n",
    "    ],\n",
    "    axis=0,\n",
    ")\n",
    "usersWithExpensiveOrders = orders[orders['revenue'] > 58233.2]['visitor_id']\n",
    "abnormalUsers = (\n",
    "    pd.concat([usersWithManyOrders, usersWithExpensiveOrders], axis=0)\n",
    "    .drop_duplicates()\n",
    "    .sort_values()\n",
    ")\n",
    "print(abnormalUsers.head(5))\n",
    "print(abnormalUsers.shape[0]) "
   ]
  },
  {
   "cell_type": "markdown",
   "id": "51395a7a",
   "metadata": {},
   "source": [
    "* Всего 31 аномальных пользователей. Узнаем, как их действия повлияли на результаты теста. Посчитаем статистическую значимость различий в конверсии между группами теста по очищенным данным. \n",
    "\n",
    "\n",
    "* Подготовим выборки количества заказов по пользователям по группам теста.\n",
    "\n",
    "**Сформулируем гипотезы:**\n",
    "\n",
    "H₀ - статистически значимых различий в конверсии по \"очищенным\" данным между группами нет.\n",
    "\n",
    "H₁ - статистически значимые различия в конверсии по \"очищенным\" данным между группами есть."
   ]
  },
  {
   "cell_type": "code",
   "execution_count": 42,
   "id": "2011994e",
   "metadata": {
    "scrolled": true
   },
   "outputs": [
    {
     "name": "stdout",
     "output_type": "stream",
     "text": [
      "alpha = 0.05\n",
      "p-value =  0.010074820358290555\n",
      "Относительный проигрыш группы B = 0.174\n"
     ]
    }
   ],
   "source": [
    "sampleAFiltered = pd.concat(\n",
    "    [\n",
    "        ordersByUsersA[\n",
    "            np.logical_not(ordersByUsersA['user_id'].isin(abnormalUsers))\n",
    "        ]['orders'],\n",
    "        pd.Series(\n",
    "            0,\n",
    "            index=np.arange(\n",
    "                data['visitorsPerDateA'].sum() - len(ordersByUsersA['orders'])\n",
    "            ),\n",
    "            name='orders',\n",
    "        ),\n",
    "    ],\n",
    "    axis=0,\n",
    ")\n",
    "\n",
    "sampleBFiltered = pd.concat(\n",
    "    [\n",
    "        ordersByUsersB[\n",
    "            np.logical_not(ordersByUsersB['user_id'].isin(abnormalUsers))\n",
    "        ]['orders'],\n",
    "        pd.Series(\n",
    "            0,\n",
    "            index=np.arange(\n",
    "                data['visitorsPerDateB'].sum() - len(ordersByUsersB['orders'])\n",
    "            ),\n",
    "            name='orders',\n",
    "        ),\n",
    "    ],\n",
    "    axis=0,\n",
    ") \n",
    "\n",
    "# применим статистический критерий Манна-Уитни к полученным выборкам\n",
    "print('alpha = 0.05')\n",
    "print('p-value = ', (st.mannwhitneyu(sampleAFiltered, sampleBFiltered)[1]))\n",
    "print('Относительный проигрыш группы B = {0:.3f}'.format(sampleBFiltered.mean()/sampleAFiltered.mean()-1)) "
   ]
  },
  {
   "cell_type": "markdown",
   "id": "db684052",
   "metadata": {},
   "source": [
    "* Результаты по конверсии практически не изменились. Проверим изменилось ли что-нибудь с результатами по среднему чеку."
   ]
  },
  {
   "cell_type": "markdown",
   "id": "b41ce699",
   "metadata": {},
   "source": [
    "**Посчитаем статистическую значимость различий в среднем чеке заказа между группами по «очищенным» данным.**\n",
    "\n",
    "**Сформулируем гипотезы:**\n",
    "\n",
    "H₀ - в среднем чеке нет различий между группами по \"очищенным\" данным.\n",
    "\n",
    "H₁ - в среднем чеке есть различия между группами по \"очищенным\" данным."
   ]
  },
  {
   "cell_type": "code",
   "execution_count": 43,
   "id": "915c29f3",
   "metadata": {
    "scrolled": true
   },
   "outputs": [
    {
     "name": "stdout",
     "output_type": "stream",
     "text": [
      "alpha=0.05\n",
      "p-value =  0.7977151576527292\n",
      "Относительный проигрыш группы B = -0.020\n"
     ]
    }
   ],
   "source": [
    "print('alpha=0.05')\n",
    "print(\n",
    "    'p-value = ', (\n",
    "        st.mannwhitneyu(\n",
    "            orders[\n",
    "                np.logical_and(\n",
    "                    orders['group'] == 'A',\n",
    "                    np.logical_not(orders['visitor_id'].isin(abnormalUsers)),\n",
    "                )\n",
    "            ]['revenue'],\n",
    "            orders[\n",
    "                np.logical_and(\n",
    "                    orders['group'] == 'B',\n",
    "                    np.logical_not(orders['visitor_id'].isin(abnormalUsers)),\n",
    "                )\n",
    "            ]['revenue'],\n",
    "        )[1]\n",
    "    )\n",
    ")\n",
    "\n",
    "\n",
    "print(\n",
    "    'Относительный проигрыш группы B = {0:.3f}'.format(\n",
    "        orders[\n",
    "            np.logical_and(\n",
    "                orders['group'] == 'B',\n",
    "                np.logical_not(orders['visitor_id'].isin(abnormalUsers)),\n",
    "            )\n",
    "        ]['revenue'].mean()\n",
    "        / orders[\n",
    "            np.logical_and(\n",
    "                orders['group'] == 'A',\n",
    "                np.logical_not(orders['visitor_id'].isin(abnormalUsers)),\n",
    "            )\n",
    "        ]['revenue'].mean()\n",
    "        - 1\n",
    "    )\n",
    ") "
   ]
  },
  {
   "cell_type": "markdown",
   "id": "8d3cff65",
   "metadata": {},
   "source": [
    "* P-value уменьшился, разница между сегментами сократилась с 26% до 2%.  Такой пример хорошо показывает, как сильно выбросы могут влиять на результаты A/B-теста."
   ]
  },
  {
   "cell_type": "markdown",
   "id": "4437939d",
   "metadata": {},
   "source": [
    "# Выводы:\n",
    "\n",
    "1. По «сырым» и \"очищенным \"данным есть различия в конверсии групп A и B. Выигрыш группы B относительно группы А по \"сырым\" данным равен 13.8%, а по \"очищенным\" 17,4%.\n",
    "\n",
    "\n",
    "2. Различия между группами по среднему чеку между группами по \"сырым\" данным - 26%, а по \"очищенным\" - 2%. После очистки выбросов чеки сравнялись. Следовательно, различия в средних чеках групп A и B отстутствуют.\n",
    "\n",
    "\n",
    "3. Принято решение остановить тестирование и признать успех группы B. Конверсия группы B значительно выше конверсии группы A, не смотря на то, что разницы в средних чеках нет. Конверсия является важным показателем и влияет на выручку."
   ]
  }
 ],
 "metadata": {
  "ExecuteTimeLog": [
   {
    "duration": 1337,
    "start_time": "2022-06-06T19:17:43.570Z"
   },
   {
    "duration": 72,
    "start_time": "2022-06-06T19:17:44.909Z"
   },
   {
    "duration": 2,
    "start_time": "2022-06-06T19:17:44.983Z"
   },
   {
    "duration": 19,
    "start_time": "2022-06-06T19:17:44.987Z"
   },
   {
    "duration": 107,
    "start_time": "2022-06-06T19:17:45.008Z"
   },
   {
    "duration": 10,
    "start_time": "2022-06-06T19:17:45.117Z"
   },
   {
    "duration": 11,
    "start_time": "2022-06-06T19:17:45.128Z"
   },
   {
    "duration": 8,
    "start_time": "2022-06-06T19:17:45.140Z"
   },
   {
    "duration": 66,
    "start_time": "2022-06-06T19:17:45.150Z"
   },
   {
    "duration": 10,
    "start_time": "2022-06-06T19:17:45.218Z"
   },
   {
    "duration": 8,
    "start_time": "2022-06-06T19:17:45.229Z"
   },
   {
    "duration": 9,
    "start_time": "2022-06-06T19:17:45.238Z"
   },
   {
    "duration": 18,
    "start_time": "2022-06-06T19:17:45.249Z"
   },
   {
    "duration": 12,
    "start_time": "2022-06-06T19:17:45.269Z"
   },
   {
    "duration": 14,
    "start_time": "2022-06-06T19:17:45.283Z"
   },
   {
    "duration": 199,
    "start_time": "2022-06-06T19:17:45.299Z"
   },
   {
    "duration": 138,
    "start_time": "2022-06-06T19:17:45.500Z"
   },
   {
    "duration": 12,
    "start_time": "2022-06-06T19:17:45.642Z"
   },
   {
    "duration": 427,
    "start_time": "2022-06-06T19:17:45.655Z"
   },
   {
    "duration": 14,
    "start_time": "2022-06-06T19:17:46.085Z"
   },
   {
    "duration": 249,
    "start_time": "2022-06-06T19:17:46.101Z"
   },
   {
    "duration": 392,
    "start_time": "2022-06-06T19:17:46.352Z"
   },
   {
    "duration": 243,
    "start_time": "2022-06-06T19:17:46.746Z"
   },
   {
    "duration": 358,
    "start_time": "2022-06-06T19:17:46.991Z"
   },
   {
    "duration": 12,
    "start_time": "2022-06-06T19:17:47.351Z"
   },
   {
    "duration": 138,
    "start_time": "2022-06-06T19:17:47.365Z"
   },
   {
    "duration": 141,
    "start_time": "2022-06-06T19:17:47.505Z"
   },
   {
    "duration": 5,
    "start_time": "2022-06-06T19:17:47.650Z"
   },
   {
    "duration": 160,
    "start_time": "2022-06-06T19:17:47.657Z"
   },
   {
    "duration": 181,
    "start_time": "2022-06-06T19:17:47.818Z"
   },
   {
    "duration": 5,
    "start_time": "2022-06-06T19:17:48.000Z"
   },
   {
    "duration": 223,
    "start_time": "2022-06-06T19:17:48.007Z"
   },
   {
    "duration": 156,
    "start_time": "2022-06-06T19:17:48.232Z"
   },
   {
    "duration": 195,
    "start_time": "2022-06-06T19:17:48.389Z"
   },
   {
    "duration": 12,
    "start_time": "2022-06-06T19:17:48.586Z"
   },
   {
    "duration": 33,
    "start_time": "2022-06-06T19:17:48.600Z"
   },
   {
    "duration": 39,
    "start_time": "2022-06-06T19:17:48.635Z"
   },
   {
    "duration": 16,
    "start_time": "2022-06-06T19:17:48.676Z"
   },
   {
    "duration": 25,
    "start_time": "2022-06-06T19:25:06.598Z"
   },
   {
    "duration": 37,
    "start_time": "2022-06-06T19:32:35.859Z"
   },
   {
    "duration": 38,
    "start_time": "2022-06-06T20:08:54.280Z"
   },
   {
    "duration": 7,
    "start_time": "2022-06-06T20:26:04.761Z"
   },
   {
    "duration": 6,
    "start_time": "2022-06-06T20:26:55.808Z"
   },
   {
    "duration": 6,
    "start_time": "2022-06-06T20:27:53.544Z"
   },
   {
    "duration": 126,
    "start_time": "2022-06-06T20:28:25.252Z"
   },
   {
    "duration": 34,
    "start_time": "2022-06-06T20:30:43.408Z"
   },
   {
    "duration": 42,
    "start_time": "2022-06-06T20:33:23.117Z"
   },
   {
    "duration": 36,
    "start_time": "2022-06-06T20:35:47.799Z"
   },
   {
    "duration": 1353,
    "start_time": "2022-06-07T05:27:58.649Z"
   },
   {
    "duration": 94,
    "start_time": "2022-06-07T05:28:00.004Z"
   },
   {
    "duration": 3,
    "start_time": "2022-06-07T05:28:00.100Z"
   },
   {
    "duration": 20,
    "start_time": "2022-06-07T05:28:00.106Z"
   },
   {
    "duration": 86,
    "start_time": "2022-06-07T05:28:00.128Z"
   },
   {
    "duration": 13,
    "start_time": "2022-06-07T05:28:00.216Z"
   },
   {
    "duration": 19,
    "start_time": "2022-06-07T05:28:00.231Z"
   },
   {
    "duration": 10,
    "start_time": "2022-06-07T05:28:00.252Z"
   },
   {
    "duration": 80,
    "start_time": "2022-06-07T05:28:00.264Z"
   },
   {
    "duration": 11,
    "start_time": "2022-06-07T05:28:00.347Z"
   },
   {
    "duration": 61,
    "start_time": "2022-06-07T05:28:00.360Z"
   },
   {
    "duration": 14,
    "start_time": "2022-06-07T05:28:00.423Z"
   },
   {
    "duration": 35,
    "start_time": "2022-06-07T05:28:00.439Z"
   },
   {
    "duration": 44,
    "start_time": "2022-06-07T05:28:00.476Z"
   },
   {
    "duration": 33,
    "start_time": "2022-06-07T05:28:00.521Z"
   },
   {
    "duration": 302,
    "start_time": "2022-06-07T05:28:00.556Z"
   },
   {
    "duration": 185,
    "start_time": "2022-06-07T05:28:00.860Z"
   },
   {
    "duration": 19,
    "start_time": "2022-06-07T05:28:01.047Z"
   },
   {
    "duration": 469,
    "start_time": "2022-06-07T05:28:01.068Z"
   },
   {
    "duration": 11,
    "start_time": "2022-06-07T05:28:01.538Z"
   },
   {
    "duration": 253,
    "start_time": "2022-06-07T05:28:01.550Z"
   },
   {
    "duration": 420,
    "start_time": "2022-06-07T05:28:01.805Z"
   },
   {
    "duration": 261,
    "start_time": "2022-06-07T05:28:02.228Z"
   },
   {
    "duration": 382,
    "start_time": "2022-06-07T05:28:02.491Z"
   },
   {
    "duration": 13,
    "start_time": "2022-06-07T05:28:02.875Z"
   },
   {
    "duration": 158,
    "start_time": "2022-06-07T05:28:02.890Z"
   },
   {
    "duration": 170,
    "start_time": "2022-06-07T05:28:03.050Z"
   },
   {
    "duration": 9,
    "start_time": "2022-06-07T05:28:03.223Z"
   },
   {
    "duration": 189,
    "start_time": "2022-06-07T05:28:03.233Z"
   },
   {
    "duration": 183,
    "start_time": "2022-06-07T05:28:03.424Z"
   },
   {
    "duration": 7,
    "start_time": "2022-06-07T05:28:03.609Z"
   },
   {
    "duration": 248,
    "start_time": "2022-06-07T05:28:03.618Z"
   },
   {
    "duration": 152,
    "start_time": "2022-06-07T05:28:03.868Z"
   },
   {
    "duration": 196,
    "start_time": "2022-06-07T05:28:04.022Z"
   },
   {
    "duration": 17,
    "start_time": "2022-06-07T05:28:04.220Z"
   },
   {
    "duration": 20,
    "start_time": "2022-06-07T05:28:04.239Z"
   },
   {
    "duration": 58,
    "start_time": "2022-06-07T05:28:04.261Z"
   },
   {
    "duration": 17,
    "start_time": "2022-06-07T05:28:04.321Z"
   },
   {
    "duration": 13,
    "start_time": "2022-06-07T05:29:35.600Z"
   },
   {
    "duration": 954,
    "start_time": "2022-06-07T21:01:46.200Z"
   },
   {
    "duration": 81,
    "start_time": "2022-06-07T21:01:47.157Z"
   },
   {
    "duration": 3,
    "start_time": "2022-06-07T21:01:47.240Z"
   },
   {
    "duration": 15,
    "start_time": "2022-06-07T21:01:47.245Z"
   },
   {
    "duration": 70,
    "start_time": "2022-06-07T21:01:47.262Z"
   },
   {
    "duration": 9,
    "start_time": "2022-06-07T21:01:47.334Z"
   },
   {
    "duration": 5,
    "start_time": "2022-06-07T21:01:47.345Z"
   },
   {
    "duration": 5,
    "start_time": "2022-06-07T21:01:47.351Z"
   },
   {
    "duration": 58,
    "start_time": "2022-06-07T21:01:47.357Z"
   },
   {
    "duration": 8,
    "start_time": "2022-06-07T21:01:47.418Z"
   },
   {
    "duration": 5,
    "start_time": "2022-06-07T21:01:47.427Z"
   },
   {
    "duration": 4,
    "start_time": "2022-06-07T21:01:47.433Z"
   },
   {
    "duration": 14,
    "start_time": "2022-06-07T21:01:47.438Z"
   },
   {
    "duration": 10,
    "start_time": "2022-06-07T21:01:47.454Z"
   },
   {
    "duration": 8,
    "start_time": "2022-06-07T21:01:47.465Z"
   },
   {
    "duration": 6,
    "start_time": "2022-06-07T21:01:47.474Z"
   },
   {
    "duration": 4,
    "start_time": "2022-06-07T21:01:47.482Z"
   },
   {
    "duration": 6,
    "start_time": "2022-06-07T21:01:47.491Z"
   },
   {
    "duration": 10,
    "start_time": "2022-06-07T21:01:47.498Z"
   },
   {
    "duration": 9,
    "start_time": "2022-06-07T21:01:47.509Z"
   },
   {
    "duration": 161,
    "start_time": "2022-06-07T21:01:47.520Z"
   },
   {
    "duration": 190,
    "start_time": "2022-06-07T21:01:47.683Z"
   },
   {
    "duration": 17,
    "start_time": "2022-06-07T21:01:47.875Z"
   },
   {
    "duration": 282,
    "start_time": "2022-06-07T21:01:47.893Z"
   },
   {
    "duration": 9,
    "start_time": "2022-06-07T21:01:48.176Z"
   },
   {
    "duration": 181,
    "start_time": "2022-06-07T21:01:48.186Z"
   },
   {
    "duration": 300,
    "start_time": "2022-06-07T21:01:48.369Z"
   },
   {
    "duration": 196,
    "start_time": "2022-06-07T21:01:48.672Z"
   },
   {
    "duration": 300,
    "start_time": "2022-06-07T21:01:48.869Z"
   },
   {
    "duration": 21,
    "start_time": "2022-06-07T21:01:49.170Z"
   },
   {
    "duration": 110,
    "start_time": "2022-06-07T21:01:49.192Z"
   },
   {
    "duration": 122,
    "start_time": "2022-06-07T21:01:49.304Z"
   },
   {
    "duration": 4,
    "start_time": "2022-06-07T21:01:49.428Z"
   },
   {
    "duration": 136,
    "start_time": "2022-06-07T21:01:49.433Z"
   },
   {
    "duration": 139,
    "start_time": "2022-06-07T21:01:49.570Z"
   },
   {
    "duration": 139,
    "start_time": "2022-06-07T21:01:49.711Z"
   },
   {
    "duration": 5,
    "start_time": "2022-06-07T21:01:49.851Z"
   },
   {
    "duration": 276,
    "start_time": "2022-06-07T21:01:49.858Z"
   },
   {
    "duration": 167,
    "start_time": "2022-06-07T21:01:50.136Z"
   },
   {
    "duration": 9,
    "start_time": "2022-06-07T21:01:50.304Z"
   },
   {
    "duration": 7,
    "start_time": "2022-06-07T21:01:50.315Z"
   },
   {
    "duration": 29,
    "start_time": "2022-06-07T21:01:50.323Z"
   },
   {
    "duration": 38,
    "start_time": "2022-06-07T21:01:50.353Z"
   },
   {
    "duration": 38,
    "start_time": "2022-06-07T21:06:08.170Z"
   },
   {
    "duration": 91,
    "start_time": "2022-06-07T21:08:01.155Z"
   },
   {
    "duration": 11,
    "start_time": "2022-06-07T21:08:06.045Z"
   },
   {
    "duration": 12,
    "start_time": "2022-06-07T21:08:28.698Z"
   },
   {
    "duration": 11,
    "start_time": "2022-06-07T21:08:47.381Z"
   },
   {
    "duration": 29,
    "start_time": "2022-06-07T21:09:11.493Z"
   },
   {
    "duration": 16,
    "start_time": "2022-06-07T21:09:48.545Z"
   },
   {
    "duration": 18,
    "start_time": "2022-06-07T21:13:24.121Z"
   },
   {
    "duration": 25,
    "start_time": "2022-06-07T21:13:37.691Z"
   },
   {
    "duration": 12,
    "start_time": "2022-06-07T21:16:43.377Z"
   },
   {
    "duration": 8,
    "start_time": "2022-06-07T21:17:00.158Z"
   },
   {
    "duration": 12,
    "start_time": "2022-06-07T21:17:03.329Z"
   },
   {
    "duration": 4,
    "start_time": "2022-06-07T21:18:29.771Z"
   },
   {
    "duration": 151,
    "start_time": "2022-06-07T21:18:35.707Z"
   },
   {
    "duration": 6,
    "start_time": "2022-06-07T21:18:39.355Z"
   },
   {
    "duration": 10,
    "start_time": "2022-06-07T21:22:12.064Z"
   },
   {
    "duration": 3,
    "start_time": "2022-06-07T21:28:32.140Z"
   },
   {
    "duration": 5,
    "start_time": "2022-06-07T21:28:36.451Z"
   },
   {
    "duration": 8,
    "start_time": "2022-06-07T21:29:21.461Z"
   },
   {
    "duration": 44,
    "start_time": "2022-06-07T21:30:46.745Z"
   },
   {
    "duration": 36,
    "start_time": "2022-06-07T21:30:49.582Z"
   },
   {
    "duration": 35,
    "start_time": "2022-06-07T21:31:07.787Z"
   }
  ],
  "kernelspec": {
   "display_name": "Python 3 (ipykernel)",
   "language": "python",
   "name": "python3"
  },
  "language_info": {
   "codemirror_mode": {
    "name": "ipython",
    "version": 3
   },
   "file_extension": ".py",
   "mimetype": "text/x-python",
   "name": "python",
   "nbconvert_exporter": "python",
   "pygments_lexer": "ipython3",
   "version": "3.9.12"
  },
  "toc": {
   "base_numbering": 1,
   "nav_menu": {},
   "number_sections": true,
   "sideBar": true,
   "skip_h1_title": false,
   "title_cell": "Содержание",
   "title_sidebar": "Содержание",
   "toc_cell": true,
   "toc_position": {},
   "toc_section_display": true,
   "toc_window_display": true
  }
 },
 "nbformat": 4,
 "nbformat_minor": 5
}
