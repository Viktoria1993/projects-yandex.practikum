{
 "cells": [
  {
   "cell_type": "markdown",
   "id": "98ef0769",
   "metadata": {
    "toc": true
   },
   "source": [
    "<h1>Содержание<span class=\"tocSkip\"></span></h1>\n",
    "<div class=\"toc\"><ul class=\"toc-item\"><li><span><a href=\"#Определение-перспективного-тарифа-для-телеком-компании\" data-toc-modified-id=\"Определение-перспективного-тарифа-для-телеком-компании-1\">Определение перспективного тарифа для телеком-компании</a></span><ul class=\"toc-item\"><li><span><a href=\"#Предобработка-данных\" data-toc-modified-id=\"Предобработка-данных-1.1\">Предобработка данных</a></span></li><li><span><a href=\"#Описание-тарифов\" data-toc-modified-id=\"Описание-тарифов-1.2\">Описание тарифов</a></span></li><li><span><a href=\"#Рассчёт-прибыли\" data-toc-modified-id=\"Рассчёт-прибыли-1.3\">Рассчёт прибыли</a></span></li><li><span><a href=\"#Анализ-полученных-данных\" data-toc-modified-id=\"Анализ-полученных-данных-1.4\">Анализ полученных данных</a></span><ul class=\"toc-item\"><li><span><a href=\"#Выводы-по-характеристикам-распределения\" data-toc-modified-id=\"Выводы-по-характеристикам-распределения-1.4.1\">Выводы по характеристикам распределения</a></span></li></ul></li><li><span><a href=\"#Проверка-гипотез\" data-toc-modified-id=\"Проверка-гипотез-1.5\">Проверка гипотез</a></span></li></ul></li><li><span><a href=\"#Выводы\" data-toc-modified-id=\"Выводы-2\">Выводы</a></span></li></ul></div>"
   ]
  },
  {
   "cell_type": "markdown",
   "id": "afe00ce2",
   "metadata": {},
   "source": [
    "# Определение перспективного тарифа для телеком-компании"
   ]
  },
  {
   "cell_type": "markdown",
   "id": "c770d4cb",
   "metadata": {},
   "source": [
    "Компания **Мегалайн** - федеральный оператор сотовой связи, предлагает клиентам два тарифных плана: `Смарт` и `Ультра`. Чтобы скорректировать рекламный бюджет, коммерческий департамент хочет понять, какой тариф приносит больше денег.\n",
    "\n",
    "\n",
    "Неодходимо сделать предварительный анализ тарифов на небольшой выборке клиентов. В распоряжении данные 500 пользователей **Мегалайна**: кто они, откуда, каким тарифом пользуются, сколько звонков и сообщений каждый отправил за 2018 год. Нужно проанализировать поведение клиентов и сделать вывод - какой тариф лучше."
   ]
  },
  {
   "cell_type": "markdown",
   "id": "98ce1ccc",
   "metadata": {},
   "source": [
    "## Предобработка данных"
   ]
  },
  {
   "cell_type": "markdown",
   "id": "cae300b5",
   "metadata": {},
   "source": [
    "**Импортируем необходимые библиотеки.**"
   ]
  },
  {
   "cell_type": "code",
   "execution_count": 1,
   "id": "0850d7f0",
   "metadata": {},
   "outputs": [],
   "source": [
    "import pandas as pd\n",
    "import numpy as np\n",
    "import matplotlib.pyplot as plt\n",
    "import math as m\n",
    "import seaborn as sns\n",
    "from scipy import stats as st"
   ]
  },
  {
   "cell_type": "markdown",
   "id": "3a491716",
   "metadata": {},
   "source": [
    "**Загрузим датасеты, сохраним в переменные и подготовим данные для дальнейшего анализа.**"
   ]
  },
  {
   "cell_type": "code",
   "execution_count": 2,
   "id": "d6fdb356",
   "metadata": {},
   "outputs": [
    {
     "data": {
      "text/html": [
       "<div>\n",
       "<style scoped>\n",
       "    .dataframe tbody tr th:only-of-type {\n",
       "        vertical-align: middle;\n",
       "    }\n",
       "\n",
       "    .dataframe tbody tr th {\n",
       "        vertical-align: top;\n",
       "    }\n",
       "\n",
       "    .dataframe thead th {\n",
       "        text-align: right;\n",
       "    }\n",
       "</style>\n",
       "<table border=\"1\" class=\"dataframe\">\n",
       "  <thead>\n",
       "    <tr style=\"text-align: right;\">\n",
       "      <th></th>\n",
       "      <th>id</th>\n",
       "      <th>call_date</th>\n",
       "      <th>duration</th>\n",
       "      <th>user_id</th>\n",
       "    </tr>\n",
       "  </thead>\n",
       "  <tbody>\n",
       "    <tr>\n",
       "      <th>0</th>\n",
       "      <td>1000_0</td>\n",
       "      <td>2018-07-25</td>\n",
       "      <td>0.00</td>\n",
       "      <td>1000</td>\n",
       "    </tr>\n",
       "    <tr>\n",
       "      <th>1</th>\n",
       "      <td>1000_1</td>\n",
       "      <td>2018-08-17</td>\n",
       "      <td>0.00</td>\n",
       "      <td>1000</td>\n",
       "    </tr>\n",
       "    <tr>\n",
       "      <th>2</th>\n",
       "      <td>1000_2</td>\n",
       "      <td>2018-06-11</td>\n",
       "      <td>2.85</td>\n",
       "      <td>1000</td>\n",
       "    </tr>\n",
       "    <tr>\n",
       "      <th>3</th>\n",
       "      <td>1000_3</td>\n",
       "      <td>2018-09-21</td>\n",
       "      <td>13.80</td>\n",
       "      <td>1000</td>\n",
       "    </tr>\n",
       "    <tr>\n",
       "      <th>4</th>\n",
       "      <td>1000_4</td>\n",
       "      <td>2018-12-15</td>\n",
       "      <td>5.18</td>\n",
       "      <td>1000</td>\n",
       "    </tr>\n",
       "  </tbody>\n",
       "</table>\n",
       "</div>"
      ],
      "text/plain": [
       "       id   call_date  duration  user_id\n",
       "0  1000_0  2018-07-25      0.00     1000\n",
       "1  1000_1  2018-08-17      0.00     1000\n",
       "2  1000_2  2018-06-11      2.85     1000\n",
       "3  1000_3  2018-09-21     13.80     1000\n",
       "4  1000_4  2018-12-15      5.18     1000"
      ]
     },
     "execution_count": 2,
     "metadata": {},
     "output_type": "execute_result"
    }
   ],
   "source": [
    "try:\n",
    "    calls = pd.read_csv('D:/datasets/calls.csv')\n",
    "except:\n",
    "    calls = pd.read_csv('/datasets/calls.csv')\n",
    "calls.head()"
   ]
  },
  {
   "cell_type": "markdown",
   "id": "ab5d0d3a",
   "metadata": {},
   "source": [
    "**Датасет calls содержит информацию о звонках:**\n",
    "* `id` - уникальный номер звонка;\n",
    "* `call_date` - дата звонка;\n",
    "* `duration` - длительность звонка в минутах;\n",
    "* `user_id` - идентификатор пользователя, сделавшего звонок.\n",
    "\n",
    "\n",
    "**Посмотрим общую информацию о таблице.**"
   ]
  },
  {
   "cell_type": "code",
   "execution_count": 4,
   "id": "1315244d",
   "metadata": {
    "scrolled": true
   },
   "outputs": [
    {
     "name": "stdout",
     "output_type": "stream",
     "text": [
      "<class 'pandas.core.frame.DataFrame'>\n",
      "RangeIndex: 202607 entries, 0 to 202606\n",
      "Data columns (total 4 columns):\n",
      " #   Column     Non-Null Count   Dtype  \n",
      "---  ------     --------------   -----  \n",
      " 0   id         202607 non-null  object \n",
      " 1   call_date  202607 non-null  object \n",
      " 2   duration   202607 non-null  float64\n",
      " 3   user_id    202607 non-null  int64  \n",
      "dtypes: float64(1), int64(1), object(2)\n",
      "memory usage: 6.2+ MB\n"
     ]
    }
   ],
   "source": [
    "calls.info()"
   ]
  },
  {
   "cell_type": "markdown",
   "id": "2324aa83",
   "metadata": {},
   "source": [
    "* В таблице 202 607 строк, 4 столбца, пропущенных значений нет."
   ]
  },
  {
   "cell_type": "markdown",
   "id": "858a27aa",
   "metadata": {},
   "source": [
    "**Изменим тип столбца `user_id` на *object*, а `call_date` на тип *datetime64*. Так же переименуем `id` - уникальный номер звонка, на `call_id`.**"
   ]
  },
  {
   "cell_type": "code",
   "execution_count": 5,
   "id": "6fb342bf",
   "metadata": {},
   "outputs": [],
   "source": [
    "calls['user_id'] = calls['user_id'].astype('object')\n",
    "calls['call_date'] = calls['call_date'].astype('datetime64')\n",
    "calls = calls.rename(columns={'id': 'call_id'})"
   ]
  },
  {
   "cell_type": "code",
   "execution_count": 6,
   "id": "ef1ca46d",
   "metadata": {},
   "outputs": [
    {
     "data": {
      "text/html": [
       "<div>\n",
       "<style scoped>\n",
       "    .dataframe tbody tr th:only-of-type {\n",
       "        vertical-align: middle;\n",
       "    }\n",
       "\n",
       "    .dataframe tbody tr th {\n",
       "        vertical-align: top;\n",
       "    }\n",
       "\n",
       "    .dataframe thead th {\n",
       "        text-align: right;\n",
       "    }\n",
       "</style>\n",
       "<table border=\"1\" class=\"dataframe\">\n",
       "  <thead>\n",
       "    <tr style=\"text-align: right;\">\n",
       "      <th></th>\n",
       "      <th>count</th>\n",
       "      <th>mean</th>\n",
       "      <th>std</th>\n",
       "      <th>min</th>\n",
       "      <th>25%</th>\n",
       "      <th>50%</th>\n",
       "      <th>75%</th>\n",
       "      <th>max</th>\n",
       "    </tr>\n",
       "  </thead>\n",
       "  <tbody>\n",
       "    <tr>\n",
       "      <th>duration</th>\n",
       "      <td>202607.0</td>\n",
       "      <td>6.755887</td>\n",
       "      <td>5.843365</td>\n",
       "      <td>0.0</td>\n",
       "      <td>1.3</td>\n",
       "      <td>6.0</td>\n",
       "      <td>10.7</td>\n",
       "      <td>38.0</td>\n",
       "    </tr>\n",
       "  </tbody>\n",
       "</table>\n",
       "</div>"
      ],
      "text/plain": [
       "             count      mean       std  min  25%  50%   75%   max\n",
       "duration  202607.0  6.755887  5.843365  0.0  1.3  6.0  10.7  38.0"
      ]
     },
     "execution_count": 6,
     "metadata": {},
     "output_type": "execute_result"
    }
   ],
   "source": [
    "calls.describe().T"
   ]
  },
  {
   "cell_type": "code",
   "execution_count": 7,
   "id": "ba075169",
   "metadata": {},
   "outputs": [
    {
     "data": {
      "image/png": "[encoded data removed]",
      "text/plain": [
       "<Figure size 720x360 with 1 Axes>"
      ]
     },
     "metadata": {
      "needs_background": "light"
     },
     "output_type": "display_data"
    }
   ],
   "source": [
    "calls.plot(y='duration', kind='hist', figsize=(10,5), bins=10, grid=True, range=(0, 38))\n",
    "plt.axvline(calls['duration'].median(), color='red', linestyle='--', label='median')\n",
    "plt.axvline(calls['duration'].mean(), color='orange', linestyle='--', label='mean')\n",
    "plt.title('Распределение длительности звонков, мин.')\n",
    "plt.xlabel('Длительность, мин.')\n",
    "plt.ylabel('Частота')\n",
    "plt.legend();"
   ]
  },
  {
   "cell_type": "markdown",
   "id": "0eb4c087",
   "metadata": {},
   "source": [
    "* Длительность большинства звонков находится в диапазоне 0 - 4 минуты. Средняя продолжительность звонка - 6.7 минут, медиана - 6 минут, минимальная - 0, максимальная продолжительность - 38 минут."
   ]
  },
  {
   "cell_type": "markdown",
   "id": "d20e4918",
   "metadata": {},
   "source": [
    "**Добавим в таблицу столбец `month` и выделим месяц из даты `call_date`, затем округлим количесво минут к большему целому числу, так как *Мегалайн* всегда округляет секунды до минут, каждый звонок округляется отдельно: даже если он длился всего 1 секунду, будет засчитан как 1 минута.**"
   ]
  },
  {
   "cell_type": "code",
   "execution_count": 8,
   "id": "15f503e9",
   "metadata": {},
   "outputs": [
    {
     "data": {
      "text/html": [
       "<div>\n",
       "<style scoped>\n",
       "    .dataframe tbody tr th:only-of-type {\n",
       "        vertical-align: middle;\n",
       "    }\n",
       "\n",
       "    .dataframe tbody tr th {\n",
       "        vertical-align: top;\n",
       "    }\n",
       "\n",
       "    .dataframe thead th {\n",
       "        text-align: right;\n",
       "    }\n",
       "</style>\n",
       "<table border=\"1\" class=\"dataframe\">\n",
       "  <thead>\n",
       "    <tr style=\"text-align: right;\">\n",
       "      <th></th>\n",
       "      <th>call_id</th>\n",
       "      <th>call_date</th>\n",
       "      <th>duration</th>\n",
       "      <th>user_id</th>\n",
       "      <th>month</th>\n",
       "    </tr>\n",
       "  </thead>\n",
       "  <tbody>\n",
       "    <tr>\n",
       "      <th>0</th>\n",
       "      <td>1000_0</td>\n",
       "      <td>2018-07-25</td>\n",
       "      <td>0.0</td>\n",
       "      <td>1000</td>\n",
       "      <td>7</td>\n",
       "    </tr>\n",
       "    <tr>\n",
       "      <th>1</th>\n",
       "      <td>1000_1</td>\n",
       "      <td>2018-08-17</td>\n",
       "      <td>0.0</td>\n",
       "      <td>1000</td>\n",
       "      <td>8</td>\n",
       "    </tr>\n",
       "    <tr>\n",
       "      <th>2</th>\n",
       "      <td>1000_2</td>\n",
       "      <td>2018-06-11</td>\n",
       "      <td>3.0</td>\n",
       "      <td>1000</td>\n",
       "      <td>6</td>\n",
       "    </tr>\n",
       "    <tr>\n",
       "      <th>3</th>\n",
       "      <td>1000_3</td>\n",
       "      <td>2018-09-21</td>\n",
       "      <td>14.0</td>\n",
       "      <td>1000</td>\n",
       "      <td>9</td>\n",
       "    </tr>\n",
       "    <tr>\n",
       "      <th>4</th>\n",
       "      <td>1000_4</td>\n",
       "      <td>2018-12-15</td>\n",
       "      <td>6.0</td>\n",
       "      <td>1000</td>\n",
       "      <td>12</td>\n",
       "    </tr>\n",
       "  </tbody>\n",
       "</table>\n",
       "</div>"
      ],
      "text/plain": [
       "  call_id  call_date  duration user_id  month\n",
       "0  1000_0 2018-07-25       0.0    1000      7\n",
       "1  1000_1 2018-08-17       0.0    1000      8\n",
       "2  1000_2 2018-06-11       3.0    1000      6\n",
       "3  1000_3 2018-09-21      14.0    1000      9\n",
       "4  1000_4 2018-12-15       6.0    1000     12"
      ]
     },
     "execution_count": 8,
     "metadata": {},
     "output_type": "execute_result"
    }
   ],
   "source": [
    "calls['month'] = calls['call_date'].dt.month\n",
    "calls['duration'] = np.ceil(calls['duration'])\n",
    "calls.head()"
   ]
  },
  {
   "cell_type": "markdown",
   "id": "3511b3c2",
   "metadata": {},
   "source": [
    "**Посчитаем количество сделанных звонков и количество израсходованных минут разговора для каждого пользователя по месяцам.**"
   ]
  },
  {
   "cell_type": "code",
   "execution_count": 9,
   "id": "cf2d013b",
   "metadata": {},
   "outputs": [
    {
     "data": {
      "text/html": [
       "<div>\n",
       "<style scoped>\n",
       "    .dataframe tbody tr th:only-of-type {\n",
       "        vertical-align: middle;\n",
       "    }\n",
       "\n",
       "    .dataframe tbody tr th {\n",
       "        vertical-align: top;\n",
       "    }\n",
       "\n",
       "    .dataframe thead th {\n",
       "        text-align: right;\n",
       "    }\n",
       "</style>\n",
       "<table border=\"1\" class=\"dataframe\">\n",
       "  <thead>\n",
       "    <tr style=\"text-align: right;\">\n",
       "      <th></th>\n",
       "      <th>user_id</th>\n",
       "      <th>month</th>\n",
       "      <th>call_duration</th>\n",
       "      <th>calls_count</th>\n",
       "    </tr>\n",
       "  </thead>\n",
       "  <tbody>\n",
       "    <tr>\n",
       "      <th>0</th>\n",
       "      <td>1000</td>\n",
       "      <td>5</td>\n",
       "      <td>159.0</td>\n",
       "      <td>22</td>\n",
       "    </tr>\n",
       "    <tr>\n",
       "      <th>1</th>\n",
       "      <td>1000</td>\n",
       "      <td>6</td>\n",
       "      <td>172.0</td>\n",
       "      <td>43</td>\n",
       "    </tr>\n",
       "    <tr>\n",
       "      <th>2</th>\n",
       "      <td>1000</td>\n",
       "      <td>7</td>\n",
       "      <td>340.0</td>\n",
       "      <td>47</td>\n",
       "    </tr>\n",
       "    <tr>\n",
       "      <th>3</th>\n",
       "      <td>1000</td>\n",
       "      <td>8</td>\n",
       "      <td>408.0</td>\n",
       "      <td>52</td>\n",
       "    </tr>\n",
       "    <tr>\n",
       "      <th>4</th>\n",
       "      <td>1000</td>\n",
       "      <td>9</td>\n",
       "      <td>466.0</td>\n",
       "      <td>58</td>\n",
       "    </tr>\n",
       "  </tbody>\n",
       "</table>\n",
       "</div>"
      ],
      "text/plain": [
       "   user_id  month  call_duration  calls_count\n",
       "0     1000      5          159.0           22\n",
       "1     1000      6          172.0           43\n",
       "2     1000      7          340.0           47\n",
       "3     1000      8          408.0           52\n",
       "4     1000      9          466.0           58"
      ]
     },
     "execution_count": 9,
     "metadata": {},
     "output_type": "execute_result"
    }
   ],
   "source": [
    "calls = calls.pivot_table(index=['user_id', 'month'], values='duration', aggfunc=['sum', 'count']).reset_index()\n",
    "calls.columns = ['user_id', 'month', 'call_duration', 'calls_count']\n",
    "calls.head()"
   ]
  },
  {
   "cell_type": "markdown",
   "id": "37f98283",
   "metadata": {},
   "source": [
    "**Обработаем данные и произведем необходимые рассчёты в таблице messages.**"
   ]
  },
  {
   "cell_type": "code",
   "execution_count": 10,
   "id": "bfea526d",
   "metadata": {
    "scrolled": true
   },
   "outputs": [
    {
     "data": {
      "text/html": [
       "<div>\n",
       "<style scoped>\n",
       "    .dataframe tbody tr th:only-of-type {\n",
       "        vertical-align: middle;\n",
       "    }\n",
       "\n",
       "    .dataframe tbody tr th {\n",
       "        vertical-align: top;\n",
       "    }\n",
       "\n",
       "    .dataframe thead th {\n",
       "        text-align: right;\n",
       "    }\n",
       "</style>\n",
       "<table border=\"1\" class=\"dataframe\">\n",
       "  <thead>\n",
       "    <tr style=\"text-align: right;\">\n",
       "      <th></th>\n",
       "      <th>id</th>\n",
       "      <th>message_date</th>\n",
       "      <th>user_id</th>\n",
       "    </tr>\n",
       "  </thead>\n",
       "  <tbody>\n",
       "    <tr>\n",
       "      <th>0</th>\n",
       "      <td>1000_0</td>\n",
       "      <td>2018-06-27</td>\n",
       "      <td>1000</td>\n",
       "    </tr>\n",
       "    <tr>\n",
       "      <th>1</th>\n",
       "      <td>1000_1</td>\n",
       "      <td>2018-10-08</td>\n",
       "      <td>1000</td>\n",
       "    </tr>\n",
       "    <tr>\n",
       "      <th>2</th>\n",
       "      <td>1000_2</td>\n",
       "      <td>2018-08-04</td>\n",
       "      <td>1000</td>\n",
       "    </tr>\n",
       "    <tr>\n",
       "      <th>3</th>\n",
       "      <td>1000_3</td>\n",
       "      <td>2018-06-16</td>\n",
       "      <td>1000</td>\n",
       "    </tr>\n",
       "    <tr>\n",
       "      <th>4</th>\n",
       "      <td>1000_4</td>\n",
       "      <td>2018-12-05</td>\n",
       "      <td>1000</td>\n",
       "    </tr>\n",
       "  </tbody>\n",
       "</table>\n",
       "</div>"
      ],
      "text/plain": [
       "       id message_date  user_id\n",
       "0  1000_0   2018-06-27     1000\n",
       "1  1000_1   2018-10-08     1000\n",
       "2  1000_2   2018-08-04     1000\n",
       "3  1000_3   2018-06-16     1000\n",
       "4  1000_4   2018-12-05     1000"
      ]
     },
     "execution_count": 10,
     "metadata": {},
     "output_type": "execute_result"
    }
   ],
   "source": [
    "try:\n",
    "    messages = pd.read_csv('D:/datasets/messages.csv')\n",
    "except:\n",
    "    messages = pd.read_csv('/datasets/messages.csv')\n",
    "messages.head()"
   ]
  },
  {
   "cell_type": "markdown",
   "id": "ee63794f",
   "metadata": {},
   "source": [
    "**Посмотрим общую информацию о таблице.**"
   ]
  },
  {
   "cell_type": "code",
   "execution_count": 11,
   "id": "05019f05",
   "metadata": {},
   "outputs": [
    {
     "name": "stdout",
     "output_type": "stream",
     "text": [
      "<class 'pandas.core.frame.DataFrame'>\n",
      "RangeIndex: 123036 entries, 0 to 123035\n",
      "Data columns (total 3 columns):\n",
      " #   Column        Non-Null Count   Dtype \n",
      "---  ------        --------------   ----- \n",
      " 0   id            123036 non-null  object\n",
      " 1   message_date  123036 non-null  object\n",
      " 2   user_id       123036 non-null  int64 \n",
      "dtypes: int64(1), object(2)\n",
      "memory usage: 2.8+ MB\n"
     ]
    }
   ],
   "source": [
    "messages.info()"
   ]
  },
  {
   "cell_type": "markdown",
   "id": "d789f7d5",
   "metadata": {},
   "source": [
    "**Таблица messages содержит информацию о сообщениях:**\n",
    "* `id` - уникальный номер сообщения;\n",
    "* `message_date` - дата сообщения;\n",
    "* `user_id` - идентификатор пользователя, отправившего сообщение.\n",
    "\n",
    "* В таблице 123 036 строк, 3 столбца, пропущенных значений нет.\n",
    "\n",
    "\n",
    "**Изменим типы столбцов `message_date` на *datetime64* и `user_id` на *object*.**"
   ]
  },
  {
   "cell_type": "code",
   "execution_count": 12,
   "id": "baca16e8",
   "metadata": {},
   "outputs": [],
   "source": [
    "messages['message_date'] = messages['message_date'].astype('datetime64')\n",
    "messages['user_id'] = messages['user_id'].astype('object')"
   ]
  },
  {
   "cell_type": "markdown",
   "id": "da47392a",
   "metadata": {},
   "source": [
    "**Посчитаем для каждого пользователя количество отправленных сообщений по месяцам.**"
   ]
  },
  {
   "cell_type": "code",
   "execution_count": 13,
   "id": "48a38ffa",
   "metadata": {},
   "outputs": [],
   "source": [
    "# выделим из даты месяц и добавим в таблицу столбец month\n",
    "messages['month'] = messages['message_date'].dt.month"
   ]
  },
  {
   "cell_type": "code",
   "execution_count": 14,
   "id": "dcb0e026",
   "metadata": {},
   "outputs": [
    {
     "data": {
      "text/html": [
       "<div>\n",
       "<style scoped>\n",
       "    .dataframe tbody tr th:only-of-type {\n",
       "        vertical-align: middle;\n",
       "    }\n",
       "\n",
       "    .dataframe tbody tr th {\n",
       "        vertical-align: top;\n",
       "    }\n",
       "\n",
       "    .dataframe thead th {\n",
       "        text-align: right;\n",
       "    }\n",
       "</style>\n",
       "<table border=\"1\" class=\"dataframe\">\n",
       "  <thead>\n",
       "    <tr style=\"text-align: right;\">\n",
       "      <th></th>\n",
       "      <th></th>\n",
       "      <th>message_count</th>\n",
       "    </tr>\n",
       "    <tr>\n",
       "      <th>user_id</th>\n",
       "      <th>month</th>\n",
       "      <th></th>\n",
       "    </tr>\n",
       "  </thead>\n",
       "  <tbody>\n",
       "    <tr>\n",
       "      <th rowspan=\"5\" valign=\"top\">1000</th>\n",
       "      <th>5</th>\n",
       "      <td>22</td>\n",
       "    </tr>\n",
       "    <tr>\n",
       "      <th>6</th>\n",
       "      <td>60</td>\n",
       "    </tr>\n",
       "    <tr>\n",
       "      <th>7</th>\n",
       "      <td>75</td>\n",
       "    </tr>\n",
       "    <tr>\n",
       "      <th>8</th>\n",
       "      <td>81</td>\n",
       "    </tr>\n",
       "    <tr>\n",
       "      <th>9</th>\n",
       "      <td>57</td>\n",
       "    </tr>\n",
       "  </tbody>\n",
       "</table>\n",
       "</div>"
      ],
      "text/plain": [
       "               message_count\n",
       "user_id month               \n",
       "1000    5                 22\n",
       "        6                 60\n",
       "        7                 75\n",
       "        8                 81\n",
       "        9                 57"
      ]
     },
     "execution_count": 14,
     "metadata": {},
     "output_type": "execute_result"
    }
   ],
   "source": [
    "# считаем для каждого пользователя количество отправленных сообщений по месяцам\n",
    "messages = pd.pivot_table(messages, index=['user_id', 'month'], values='id', aggfunc='count')\n",
    "messages = messages.rename(columns={'id': 'message_count'})\n",
    "messages.head()"
   ]
  },
  {
   "cell_type": "markdown",
   "id": "c2c9a5e8",
   "metadata": {},
   "source": [
    "**Обработаем и произведём необходимые расчёты в таблице internet.**"
   ]
  },
  {
   "cell_type": "code",
   "execution_count": 15,
   "id": "538834d1",
   "metadata": {
    "scrolled": true
   },
   "outputs": [
    {
     "data": {
      "text/html": [
       "<div>\n",
       "<style scoped>\n",
       "    .dataframe tbody tr th:only-of-type {\n",
       "        vertical-align: middle;\n",
       "    }\n",
       "\n",
       "    .dataframe tbody tr th {\n",
       "        vertical-align: top;\n",
       "    }\n",
       "\n",
       "    .dataframe thead th {\n",
       "        text-align: right;\n",
       "    }\n",
       "</style>\n",
       "<table border=\"1\" class=\"dataframe\">\n",
       "  <thead>\n",
       "    <tr style=\"text-align: right;\">\n",
       "      <th></th>\n",
       "      <th>id</th>\n",
       "      <th>mb_used</th>\n",
       "      <th>session_date</th>\n",
       "      <th>user_id</th>\n",
       "    </tr>\n",
       "  </thead>\n",
       "  <tbody>\n",
       "    <tr>\n",
       "      <th>0</th>\n",
       "      <td>1000_0</td>\n",
       "      <td>112.95</td>\n",
       "      <td>2018-11-25</td>\n",
       "      <td>1000</td>\n",
       "    </tr>\n",
       "    <tr>\n",
       "      <th>1</th>\n",
       "      <td>1000_1</td>\n",
       "      <td>1052.81</td>\n",
       "      <td>2018-09-07</td>\n",
       "      <td>1000</td>\n",
       "    </tr>\n",
       "    <tr>\n",
       "      <th>2</th>\n",
       "      <td>1000_2</td>\n",
       "      <td>1197.26</td>\n",
       "      <td>2018-06-25</td>\n",
       "      <td>1000</td>\n",
       "    </tr>\n",
       "    <tr>\n",
       "      <th>3</th>\n",
       "      <td>1000_3</td>\n",
       "      <td>550.27</td>\n",
       "      <td>2018-08-22</td>\n",
       "      <td>1000</td>\n",
       "    </tr>\n",
       "    <tr>\n",
       "      <th>4</th>\n",
       "      <td>1000_4</td>\n",
       "      <td>302.56</td>\n",
       "      <td>2018-09-24</td>\n",
       "      <td>1000</td>\n",
       "    </tr>\n",
       "  </tbody>\n",
       "</table>\n",
       "</div>"
      ],
      "text/plain": [
       "       id  mb_used session_date  user_id\n",
       "0  1000_0   112.95   2018-11-25     1000\n",
       "1  1000_1  1052.81   2018-09-07     1000\n",
       "2  1000_2  1197.26   2018-06-25     1000\n",
       "3  1000_3   550.27   2018-08-22     1000\n",
       "4  1000_4   302.56   2018-09-24     1000"
      ]
     },
     "execution_count": 15,
     "metadata": {},
     "output_type": "execute_result"
    }
   ],
   "source": [
    "try:\n",
    "    internet = pd.read_csv('D:/datasets/internet.csv', index_col=0)\n",
    "except:\n",
    "    internet = pd.read_csv('/datasets/internet.csv')\n",
    "internet.head()"
   ]
  },
  {
   "cell_type": "markdown",
   "id": "02ce553c",
   "metadata": {},
   "source": [
    "**Таблица internet содержит информацию об интернет-сессиях:**\n",
    "* `id` - уникальный номер сессии;\n",
    "* `mb_used` - объём потраченного за сессию интернет-трафика (в мегабайтах);\n",
    "* `session_date` - дата интернет-сессии;\n",
    "* `user_id` - идентификатор пользователя.\n",
    "\n",
    "\n",
    " **Посмотрим общую информацию о таблице.**"
   ]
  },
  {
   "cell_type": "code",
   "execution_count": 16,
   "id": "0ac3fd78",
   "metadata": {
    "scrolled": true
   },
   "outputs": [
    {
     "name": "stdout",
     "output_type": "stream",
     "text": [
      "<class 'pandas.core.frame.DataFrame'>\n",
      "Int64Index: 149396 entries, 0 to 149395\n",
      "Data columns (total 4 columns):\n",
      " #   Column        Non-Null Count   Dtype  \n",
      "---  ------        --------------   -----  \n",
      " 0   id            149396 non-null  object \n",
      " 1   mb_used       149396 non-null  float64\n",
      " 2   session_date  149396 non-null  object \n",
      " 3   user_id       149396 non-null  int64  \n",
      "dtypes: float64(1), int64(1), object(2)\n",
      "memory usage: 5.7+ MB\n"
     ]
    }
   ],
   "source": [
    "internet.info()"
   ]
  },
  {
   "cell_type": "markdown",
   "id": "a8b57bbe",
   "metadata": {},
   "source": [
    "* В таблице 149 396 строк и 5 столбцов, пропущенных значений нет.\n",
    "\n",
    "**Изменим тип столбца `session_date` на *datetime64* и `user_id` на *object* и переименуем столбец `id` - уникальный номер сессии, на `session_id`.**"
   ]
  },
  {
   "cell_type": "code",
   "execution_count": 17,
   "id": "ee881c89",
   "metadata": {},
   "outputs": [],
   "source": [
    "internet['session_date'] = internet['session_date'].astype('datetime64')\n",
    "internet['user_id'] = internet['user_id'].astype('object')\n",
    "internet = internet.rename(columns={'id': 'session_id'})"
   ]
  },
  {
   "cell_type": "code",
   "execution_count": 18,
   "id": "292f3e71",
   "metadata": {
    "scrolled": true
   },
   "outputs": [
    {
     "data": {
      "text/html": [
       "<div>\n",
       "<style scoped>\n",
       "    .dataframe tbody tr th:only-of-type {\n",
       "        vertical-align: middle;\n",
       "    }\n",
       "\n",
       "    .dataframe tbody tr th {\n",
       "        vertical-align: top;\n",
       "    }\n",
       "\n",
       "    .dataframe thead th {\n",
       "        text-align: right;\n",
       "    }\n",
       "</style>\n",
       "<table border=\"1\" class=\"dataframe\">\n",
       "  <thead>\n",
       "    <tr style=\"text-align: right;\">\n",
       "      <th></th>\n",
       "      <th>count</th>\n",
       "      <th>mean</th>\n",
       "      <th>std</th>\n",
       "      <th>min</th>\n",
       "      <th>25%</th>\n",
       "      <th>50%</th>\n",
       "      <th>75%</th>\n",
       "      <th>max</th>\n",
       "    </tr>\n",
       "  </thead>\n",
       "  <tbody>\n",
       "    <tr>\n",
       "      <th>mb_used</th>\n",
       "      <td>149396.0</td>\n",
       "      <td>370.192426</td>\n",
       "      <td>278.300951</td>\n",
       "      <td>0.0</td>\n",
       "      <td>138.1875</td>\n",
       "      <td>348.015</td>\n",
       "      <td>559.5525</td>\n",
       "      <td>1724.83</td>\n",
       "    </tr>\n",
       "  </tbody>\n",
       "</table>\n",
       "</div>"
      ],
      "text/plain": [
       "            count        mean         std  min       25%      50%       75%  \\\n",
       "mb_used  149396.0  370.192426  278.300951  0.0  138.1875  348.015  559.5525   \n",
       "\n",
       "             max  \n",
       "mb_used  1724.83  "
      ]
     },
     "execution_count": 18,
     "metadata": {},
     "output_type": "execute_result"
    }
   ],
   "source": [
    "internet.describe().T"
   ]
  },
  {
   "cell_type": "code",
   "execution_count": 19,
   "id": "3fd4c38a",
   "metadata": {},
   "outputs": [
    {
     "data": {
      "image/png": "[encoded data removed]",
      "text/plain": [
       "<Figure size 720x360 with 1 Axes>"
      ]
     },
     "metadata": {
      "needs_background": "light"
     },
     "output_type": "display_data"
    }
   ],
   "source": [
    "internet.plot(y='mb_used', kind='hist', figsize=(10,5), grid=True, range=(0, 1250), bins=10)\n",
    "plt.axvline(internet['mb_used'].median(), color='red', linestyle='--', label='median')\n",
    "plt.axvline(internet['mb_used'].mean(), color='orange', linestyle='--', label='mean')\n",
    "plt.title('Распределение объёма, потраченного за сессию интернет-трафика, Мб')\n",
    "plt.xlabel('Объём трафика, Мб.')\n",
    "plt.ylabel('Частота')\n",
    "plt.legend();"
   ]
  },
  {
   "cell_type": "markdown",
   "id": "83e1ce86",
   "metadata": {},
   "source": [
    "* Большинство значений потраченного трафика за сессию находится в диапазоне 0 - 200 мб. Средний объём  - 370.19 мегабайт,  медиана - 348.015, минимальный - 0, максимальный объём трафика - 1724.83 мегабайт."
   ]
  },
  {
   "cell_type": "markdown",
   "id": "ebe76b20",
   "metadata": {},
   "source": [
    "**Добавим столбец `month` и выделим из столбца `session_date` месяц и переведём столбец `mb_used` - объём потраченного за сессию интернет - трафика (в мегабайтах) в гигабайты, разделим на 1024 (столько мегабайт в одном гигабайте) и переименуем сразу столбец.**"
   ]
  },
  {
   "cell_type": "code",
   "execution_count": 20,
   "id": "4cff3b10",
   "metadata": {
    "scrolled": true
   },
   "outputs": [
    {
     "data": {
      "text/html": [
       "<div>\n",
       "<style scoped>\n",
       "    .dataframe tbody tr th:only-of-type {\n",
       "        vertical-align: middle;\n",
       "    }\n",
       "\n",
       "    .dataframe tbody tr th {\n",
       "        vertical-align: top;\n",
       "    }\n",
       "\n",
       "    .dataframe thead th {\n",
       "        text-align: right;\n",
       "    }\n",
       "</style>\n",
       "<table border=\"1\" class=\"dataframe\">\n",
       "  <thead>\n",
       "    <tr style=\"text-align: right;\">\n",
       "      <th></th>\n",
       "      <th>session_id</th>\n",
       "      <th>gb_used</th>\n",
       "      <th>session_date</th>\n",
       "      <th>user_id</th>\n",
       "      <th>month</th>\n",
       "    </tr>\n",
       "  </thead>\n",
       "  <tbody>\n",
       "    <tr>\n",
       "      <th>0</th>\n",
       "      <td>1000_0</td>\n",
       "      <td>0.110303</td>\n",
       "      <td>2018-11-25</td>\n",
       "      <td>1000</td>\n",
       "      <td>11</td>\n",
       "    </tr>\n",
       "    <tr>\n",
       "      <th>1</th>\n",
       "      <td>1000_1</td>\n",
       "      <td>1.028135</td>\n",
       "      <td>2018-09-07</td>\n",
       "      <td>1000</td>\n",
       "      <td>9</td>\n",
       "    </tr>\n",
       "    <tr>\n",
       "      <th>2</th>\n",
       "      <td>1000_2</td>\n",
       "      <td>1.169199</td>\n",
       "      <td>2018-06-25</td>\n",
       "      <td>1000</td>\n",
       "      <td>6</td>\n",
       "    </tr>\n",
       "    <tr>\n",
       "      <th>3</th>\n",
       "      <td>1000_3</td>\n",
       "      <td>0.537373</td>\n",
       "      <td>2018-08-22</td>\n",
       "      <td>1000</td>\n",
       "      <td>8</td>\n",
       "    </tr>\n",
       "    <tr>\n",
       "      <th>4</th>\n",
       "      <td>1000_4</td>\n",
       "      <td>0.295469</td>\n",
       "      <td>2018-09-24</td>\n",
       "      <td>1000</td>\n",
       "      <td>9</td>\n",
       "    </tr>\n",
       "  </tbody>\n",
       "</table>\n",
       "</div>"
      ],
      "text/plain": [
       "  session_id   gb_used session_date user_id  month\n",
       "0     1000_0  0.110303   2018-11-25    1000     11\n",
       "1     1000_1  1.028135   2018-09-07    1000      9\n",
       "2     1000_2  1.169199   2018-06-25    1000      6\n",
       "3     1000_3  0.537373   2018-08-22    1000      8\n",
       "4     1000_4  0.295469   2018-09-24    1000      9"
      ]
     },
     "execution_count": 20,
     "metadata": {},
     "output_type": "execute_result"
    }
   ],
   "source": [
    "internet['month'] = internet['session_date'].dt.month\n",
    "internet['mb_used'] = internet['mb_used'] / 1024\n",
    "internet = internet.rename(columns={'mb_used': 'gb_used'})\n",
    "internet.head()"
   ]
  },
  {
   "cell_type": "markdown",
   "id": "cf1ea3e0",
   "metadata": {},
   "source": [
    "**Округлим столбец `gb_used` до целого числа вверх, (так как \"Мегалайн\" всегда округляет мегабайты до гигабайт) и посчитаем для каждого пользователя объём израсходованного интернет-трафика по месяцам.**"
   ]
  },
  {
   "cell_type": "code",
   "execution_count": 21,
   "id": "7380e00d",
   "metadata": {},
   "outputs": [
    {
     "data": {
      "text/html": [
       "<div>\n",
       "<style scoped>\n",
       "    .dataframe tbody tr th:only-of-type {\n",
       "        vertical-align: middle;\n",
       "    }\n",
       "\n",
       "    .dataframe tbody tr th {\n",
       "        vertical-align: top;\n",
       "    }\n",
       "\n",
       "    .dataframe thead th {\n",
       "        text-align: right;\n",
       "    }\n",
       "</style>\n",
       "<table border=\"1\" class=\"dataframe\">\n",
       "  <thead>\n",
       "    <tr style=\"text-align: right;\">\n",
       "      <th></th>\n",
       "      <th>user_id</th>\n",
       "      <th>month</th>\n",
       "      <th>gb_used</th>\n",
       "    </tr>\n",
       "  </thead>\n",
       "  <tbody>\n",
       "    <tr>\n",
       "      <th>0</th>\n",
       "      <td>1000</td>\n",
       "      <td>5</td>\n",
       "      <td>3.0</td>\n",
       "    </tr>\n",
       "    <tr>\n",
       "      <th>1</th>\n",
       "      <td>1000</td>\n",
       "      <td>6</td>\n",
       "      <td>23.0</td>\n",
       "    </tr>\n",
       "    <tr>\n",
       "      <th>2</th>\n",
       "      <td>1000</td>\n",
       "      <td>7</td>\n",
       "      <td>14.0</td>\n",
       "    </tr>\n",
       "    <tr>\n",
       "      <th>3</th>\n",
       "      <td>1000</td>\n",
       "      <td>8</td>\n",
       "      <td>14.0</td>\n",
       "    </tr>\n",
       "    <tr>\n",
       "      <th>4</th>\n",
       "      <td>1000</td>\n",
       "      <td>9</td>\n",
       "      <td>15.0</td>\n",
       "    </tr>\n",
       "    <tr>\n",
       "      <th>5</th>\n",
       "      <td>1000</td>\n",
       "      <td>10</td>\n",
       "      <td>15.0</td>\n",
       "    </tr>\n",
       "    <tr>\n",
       "      <th>6</th>\n",
       "      <td>1000</td>\n",
       "      <td>11</td>\n",
       "      <td>15.0</td>\n",
       "    </tr>\n",
       "    <tr>\n",
       "      <th>7</th>\n",
       "      <td>1000</td>\n",
       "      <td>12</td>\n",
       "      <td>10.0</td>\n",
       "    </tr>\n",
       "    <tr>\n",
       "      <th>8</th>\n",
       "      <td>1001</td>\n",
       "      <td>11</td>\n",
       "      <td>18.0</td>\n",
       "    </tr>\n",
       "    <tr>\n",
       "      <th>9</th>\n",
       "      <td>1001</td>\n",
       "      <td>12</td>\n",
       "      <td>14.0</td>\n",
       "    </tr>\n",
       "  </tbody>\n",
       "</table>\n",
       "</div>"
      ],
      "text/plain": [
       "   user_id  month  gb_used\n",
       "0     1000      5      3.0\n",
       "1     1000      6     23.0\n",
       "2     1000      7     14.0\n",
       "3     1000      8     14.0\n",
       "4     1000      9     15.0\n",
       "5     1000     10     15.0\n",
       "6     1000     11     15.0\n",
       "7     1000     12     10.0\n",
       "8     1001     11     18.0\n",
       "9     1001     12     14.0"
      ]
     },
     "execution_count": 21,
     "metadata": {},
     "output_type": "execute_result"
    }
   ],
   "source": [
    "# подсчёт потраченных гигабайт\n",
    "internet = pd.pivot_table(internet, index=['user_id', 'month'], values='gb_used', aggfunc='sum').reset_index()\n",
    "internet['gb_used'] = np.ceil(internet['gb_used'])\n",
    "internet.head(10)"
   ]
  },
  {
   "cell_type": "markdown",
   "id": "d5064ee2",
   "metadata": {},
   "source": [
    "**Обработаем данные и произведём необходимые рассчёты в таблице `tariffs`.**"
   ]
  },
  {
   "cell_type": "code",
   "execution_count": 22,
   "id": "83ccc9a9",
   "metadata": {
    "scrolled": true
   },
   "outputs": [
    {
     "data": {
      "text/html": [
       "<div>\n",
       "<style scoped>\n",
       "    .dataframe tbody tr th:only-of-type {\n",
       "        vertical-align: middle;\n",
       "    }\n",
       "\n",
       "    .dataframe tbody tr th {\n",
       "        vertical-align: top;\n",
       "    }\n",
       "\n",
       "    .dataframe thead th {\n",
       "        text-align: right;\n",
       "    }\n",
       "</style>\n",
       "<table border=\"1\" class=\"dataframe\">\n",
       "  <thead>\n",
       "    <tr style=\"text-align: right;\">\n",
       "      <th></th>\n",
       "      <th>messages_included</th>\n",
       "      <th>mb_per_month_included</th>\n",
       "      <th>minutes_included</th>\n",
       "      <th>rub_monthly_fee</th>\n",
       "      <th>rub_per_gb</th>\n",
       "      <th>rub_per_message</th>\n",
       "      <th>rub_per_minute</th>\n",
       "      <th>tariff_name</th>\n",
       "    </tr>\n",
       "  </thead>\n",
       "  <tbody>\n",
       "    <tr>\n",
       "      <th>0</th>\n",
       "      <td>50</td>\n",
       "      <td>15360</td>\n",
       "      <td>500</td>\n",
       "      <td>550</td>\n",
       "      <td>200</td>\n",
       "      <td>3</td>\n",
       "      <td>3</td>\n",
       "      <td>smart</td>\n",
       "    </tr>\n",
       "    <tr>\n",
       "      <th>1</th>\n",
       "      <td>1000</td>\n",
       "      <td>30720</td>\n",
       "      <td>3000</td>\n",
       "      <td>1950</td>\n",
       "      <td>150</td>\n",
       "      <td>1</td>\n",
       "      <td>1</td>\n",
       "      <td>ultra</td>\n",
       "    </tr>\n",
       "  </tbody>\n",
       "</table>\n",
       "</div>"
      ],
      "text/plain": [
       "   messages_included  mb_per_month_included  minutes_included  \\\n",
       "0                 50                  15360               500   \n",
       "1               1000                  30720              3000   \n",
       "\n",
       "   rub_monthly_fee  rub_per_gb  rub_per_message  rub_per_minute tariff_name  \n",
       "0              550         200                3               3       smart  \n",
       "1             1950         150                1               1       ultra  "
      ]
     },
     "execution_count": 22,
     "metadata": {},
     "output_type": "execute_result"
    }
   ],
   "source": [
    "try:\n",
    "    tariffs = pd.read_csv('D:/datasets/tariffs.csv')\n",
    "except:\n",
    "    tariffs = pd.read_csv('/datasets/tariffs.csv')\n",
    "tariffs.head()"
   ]
  },
  {
   "cell_type": "code",
   "execution_count": 23,
   "id": "0143a6f2",
   "metadata": {
    "scrolled": true
   },
   "outputs": [
    {
     "name": "stdout",
     "output_type": "stream",
     "text": [
      "<class 'pandas.core.frame.DataFrame'>\n",
      "RangeIndex: 2 entries, 0 to 1\n",
      "Data columns (total 8 columns):\n",
      " #   Column                 Non-Null Count  Dtype \n",
      "---  ------                 --------------  ----- \n",
      " 0   messages_included      2 non-null      int64 \n",
      " 1   mb_per_month_included  2 non-null      int64 \n",
      " 2   minutes_included       2 non-null      int64 \n",
      " 3   rub_monthly_fee        2 non-null      int64 \n",
      " 4   rub_per_gb             2 non-null      int64 \n",
      " 5   rub_per_message        2 non-null      int64 \n",
      " 6   rub_per_minute         2 non-null      int64 \n",
      " 7   tariff_name            2 non-null      object\n",
      "dtypes: int64(7), object(1)\n",
      "memory usage: 256.0+ bytes\n"
     ]
    }
   ],
   "source": [
    "tariffs.info()"
   ]
  },
  {
   "cell_type": "markdown",
   "id": "08a12865",
   "metadata": {},
   "source": [
    "**Таблица tariffs содержит информацию о тарифах:**\n",
    "* `tariff_name` - название тарифа;\n",
    "* `rub_monthly_fee` - ежемесячная абонентская плата в рублях;\n",
    "* `minutes_included` - количество минут разговора в месяц, включённых в абонентскую плату;\n",
    "* `messages_included` - количество сообщений в месяц, включённых в абонентскую плату;\n",
    "* `mb_per_month_included` - объём интернет-трафика, включённого в абонентскую плату (в мегабайтах);\n",
    "* `rub_per_minute` - стоимость минуты разговора сверх тарифного пакета (например, если в тарифе 100 минут разговора в месяц, то со 101 минуты будет взиматься плата);\n",
    "* `rub_per_message` - стоимость отправки сообщения сверх тарифного пакета;\n",
    "* `rub_per_gb` - стоимость дополнительного гигабайта интернет-трафика сверх тарифного пакета (1 гигабайт = 1024 мегабайта).\n",
    "\n",
    "В таблице 2 строки и 8 столбцов, пропущенных значений нет.\n",
    "\n",
    "## Описание тарифов\n",
    "\n",
    " **Тариф «Smart»**\n",
    "* Ежемесячная плата: 550 рублей\n",
    "* Включено 500 минут разговора, 50 сообщений и 15 Гб интернет-трафика\n",
    "* Стоимость услуг сверх тарифного пакета: \n",
    "    * минута разговора: 3 рубля\n",
    "    * сообщение: 3 рубля\n",
    "    * 1 Гб интернет-трафика: 200 рублей\n",
    "    \n",
    "**Тариф «Ultra»**\n",
    "* Ежемесячная плата: 1950 рублей\n",
    "* Включено 3000 минут разговора, 1000 сообщений и 30 Гб интернет-трафика\n",
    "* Стоимость услуг сверх тарифного пакета:\n",
    "    * минута разговора: 1 рубль\n",
    "    * сообщение: 1 рубль\n",
    "    * 1 Гб интернет-трафика: 150 рублей"
   ]
  },
  {
   "cell_type": "code",
   "execution_count": 24,
   "id": "1ff12f7f",
   "metadata": {},
   "outputs": [
    {
     "data": {
      "text/html": [
       "<div>\n",
       "<style scoped>\n",
       "    .dataframe tbody tr th:only-of-type {\n",
       "        vertical-align: middle;\n",
       "    }\n",
       "\n",
       "    .dataframe tbody tr th {\n",
       "        vertical-align: top;\n",
       "    }\n",
       "\n",
       "    .dataframe thead th {\n",
       "        text-align: right;\n",
       "    }\n",
       "</style>\n",
       "<table border=\"1\" class=\"dataframe\">\n",
       "  <thead>\n",
       "    <tr style=\"text-align: right;\">\n",
       "      <th></th>\n",
       "      <th>messages_included</th>\n",
       "      <th>mb_per_month_included</th>\n",
       "      <th>minutes_included</th>\n",
       "      <th>rub_monthly_fee</th>\n",
       "      <th>rub_per_gb</th>\n",
       "      <th>rub_per_message</th>\n",
       "      <th>rub_per_minute</th>\n",
       "      <th>tariff_name</th>\n",
       "    </tr>\n",
       "  </thead>\n",
       "  <tbody>\n",
       "    <tr>\n",
       "      <th>0</th>\n",
       "      <td>50</td>\n",
       "      <td>15.0</td>\n",
       "      <td>500</td>\n",
       "      <td>550</td>\n",
       "      <td>200</td>\n",
       "      <td>3</td>\n",
       "      <td>3</td>\n",
       "      <td>smart</td>\n",
       "    </tr>\n",
       "    <tr>\n",
       "      <th>1</th>\n",
       "      <td>1000</td>\n",
       "      <td>30.0</td>\n",
       "      <td>3000</td>\n",
       "      <td>1950</td>\n",
       "      <td>150</td>\n",
       "      <td>1</td>\n",
       "      <td>1</td>\n",
       "      <td>ultra</td>\n",
       "    </tr>\n",
       "  </tbody>\n",
       "</table>\n",
       "</div>"
      ],
      "text/plain": [
       "   messages_included  mb_per_month_included  minutes_included  \\\n",
       "0                 50                   15.0               500   \n",
       "1               1000                   30.0              3000   \n",
       "\n",
       "   rub_monthly_fee  rub_per_gb  rub_per_message  rub_per_minute tariff_name  \n",
       "0              550         200                3               3       smart  \n",
       "1             1950         150                1               1       ultra  "
      ]
     },
     "execution_count": 24,
     "metadata": {},
     "output_type": "execute_result"
    }
   ],
   "source": [
    "# переведём значения включенного объёма интернет-трафика в тариф в Гб\n",
    "tariffs['mb_per_month_included'] = tariffs['mb_per_month_included'] / 1024\n",
    "tariffs"
   ]
  },
  {
   "cell_type": "markdown",
   "id": "0e52a535",
   "metadata": {},
   "source": [
    "**Загрузим таблицу users**"
   ]
  },
  {
   "cell_type": "code",
   "execution_count": 25,
   "id": "15a84b1d",
   "metadata": {},
   "outputs": [
    {
     "data": {
      "text/html": [
       "<div>\n",
       "<style scoped>\n",
       "    .dataframe tbody tr th:only-of-type {\n",
       "        vertical-align: middle;\n",
       "    }\n",
       "\n",
       "    .dataframe tbody tr th {\n",
       "        vertical-align: top;\n",
       "    }\n",
       "\n",
       "    .dataframe thead th {\n",
       "        text-align: right;\n",
       "    }\n",
       "</style>\n",
       "<table border=\"1\" class=\"dataframe\">\n",
       "  <thead>\n",
       "    <tr style=\"text-align: right;\">\n",
       "      <th></th>\n",
       "      <th>user_id</th>\n",
       "      <th>age</th>\n",
       "      <th>churn_date</th>\n",
       "      <th>city</th>\n",
       "      <th>first_name</th>\n",
       "      <th>last_name</th>\n",
       "      <th>reg_date</th>\n",
       "      <th>tariff</th>\n",
       "    </tr>\n",
       "  </thead>\n",
       "  <tbody>\n",
       "    <tr>\n",
       "      <th>0</th>\n",
       "      <td>1000</td>\n",
       "      <td>52</td>\n",
       "      <td>NaN</td>\n",
       "      <td>Краснодар</td>\n",
       "      <td>Рафаил</td>\n",
       "      <td>Верещагин</td>\n",
       "      <td>2018-05-25</td>\n",
       "      <td>ultra</td>\n",
       "    </tr>\n",
       "    <tr>\n",
       "      <th>1</th>\n",
       "      <td>1001</td>\n",
       "      <td>41</td>\n",
       "      <td>NaN</td>\n",
       "      <td>Москва</td>\n",
       "      <td>Иван</td>\n",
       "      <td>Ежов</td>\n",
       "      <td>2018-11-01</td>\n",
       "      <td>smart</td>\n",
       "    </tr>\n",
       "    <tr>\n",
       "      <th>2</th>\n",
       "      <td>1002</td>\n",
       "      <td>59</td>\n",
       "      <td>NaN</td>\n",
       "      <td>Стерлитамак</td>\n",
       "      <td>Евгений</td>\n",
       "      <td>Абрамович</td>\n",
       "      <td>2018-06-17</td>\n",
       "      <td>smart</td>\n",
       "    </tr>\n",
       "    <tr>\n",
       "      <th>3</th>\n",
       "      <td>1003</td>\n",
       "      <td>23</td>\n",
       "      <td>NaN</td>\n",
       "      <td>Москва</td>\n",
       "      <td>Белла</td>\n",
       "      <td>Белякова</td>\n",
       "      <td>2018-08-17</td>\n",
       "      <td>ultra</td>\n",
       "    </tr>\n",
       "    <tr>\n",
       "      <th>4</th>\n",
       "      <td>1004</td>\n",
       "      <td>68</td>\n",
       "      <td>NaN</td>\n",
       "      <td>Новокузнецк</td>\n",
       "      <td>Татьяна</td>\n",
       "      <td>Авдеенко</td>\n",
       "      <td>2018-05-14</td>\n",
       "      <td>ultra</td>\n",
       "    </tr>\n",
       "  </tbody>\n",
       "</table>\n",
       "</div>"
      ],
      "text/plain": [
       "   user_id  age churn_date         city first_name  last_name    reg_date  \\\n",
       "0     1000   52        NaN    Краснодар     Рафаил  Верещагин  2018-05-25   \n",
       "1     1001   41        NaN       Москва       Иван       Ежов  2018-11-01   \n",
       "2     1002   59        NaN  Стерлитамак    Евгений  Абрамович  2018-06-17   \n",
       "3     1003   23        NaN       Москва      Белла   Белякова  2018-08-17   \n",
       "4     1004   68        NaN  Новокузнецк    Татьяна   Авдеенко  2018-05-14   \n",
       "\n",
       "  tariff  \n",
       "0  ultra  \n",
       "1  smart  \n",
       "2  smart  \n",
       "3  ultra  \n",
       "4  ultra  "
      ]
     },
     "execution_count": 25,
     "metadata": {},
     "output_type": "execute_result"
    }
   ],
   "source": [
    "try:\n",
    "    users = pd.read_csv('D:/datasets/users.csv')\n",
    "except:\n",
    "    users = pd.read_csv('/datasets/users.csv')\n",
    "users.head()"
   ]
  },
  {
   "cell_type": "code",
   "execution_count": 26,
   "id": "2be1093d",
   "metadata": {
    "scrolled": true
   },
   "outputs": [
    {
     "name": "stdout",
     "output_type": "stream",
     "text": [
      "<class 'pandas.core.frame.DataFrame'>\n",
      "RangeIndex: 500 entries, 0 to 499\n",
      "Data columns (total 8 columns):\n",
      " #   Column      Non-Null Count  Dtype \n",
      "---  ------      --------------  ----- \n",
      " 0   user_id     500 non-null    int64 \n",
      " 1   age         500 non-null    int64 \n",
      " 2   churn_date  38 non-null     object\n",
      " 3   city        500 non-null    object\n",
      " 4   first_name  500 non-null    object\n",
      " 5   last_name   500 non-null    object\n",
      " 6   reg_date    500 non-null    object\n",
      " 7   tariff      500 non-null    object\n",
      "dtypes: int64(2), object(6)\n",
      "memory usage: 31.4+ KB\n"
     ]
    }
   ],
   "source": [
    "users.info()"
   ]
  },
  {
   "cell_type": "code",
   "execution_count": 27,
   "id": "da43c3a5",
   "metadata": {},
   "outputs": [
    {
     "data": {
      "text/html": [
       "<div>\n",
       "<style scoped>\n",
       "    .dataframe tbody tr th:only-of-type {\n",
       "        vertical-align: middle;\n",
       "    }\n",
       "\n",
       "    .dataframe tbody tr th {\n",
       "        vertical-align: top;\n",
       "    }\n",
       "\n",
       "    .dataframe thead th {\n",
       "        text-align: right;\n",
       "    }\n",
       "</style>\n",
       "<table border=\"1\" class=\"dataframe\">\n",
       "  <thead>\n",
       "    <tr style=\"text-align: right;\">\n",
       "      <th></th>\n",
       "      <th>user_id</th>\n",
       "      <th>age</th>\n",
       "    </tr>\n",
       "  </thead>\n",
       "  <tbody>\n",
       "    <tr>\n",
       "      <th>count</th>\n",
       "      <td>500.000000</td>\n",
       "      <td>500.00000</td>\n",
       "    </tr>\n",
       "    <tr>\n",
       "      <th>mean</th>\n",
       "      <td>1249.500000</td>\n",
       "      <td>46.58800</td>\n",
       "    </tr>\n",
       "    <tr>\n",
       "      <th>std</th>\n",
       "      <td>144.481833</td>\n",
       "      <td>16.66763</td>\n",
       "    </tr>\n",
       "    <tr>\n",
       "      <th>min</th>\n",
       "      <td>1000.000000</td>\n",
       "      <td>18.00000</td>\n",
       "    </tr>\n",
       "    <tr>\n",
       "      <th>25%</th>\n",
       "      <td>1124.750000</td>\n",
       "      <td>32.00000</td>\n",
       "    </tr>\n",
       "    <tr>\n",
       "      <th>50%</th>\n",
       "      <td>1249.500000</td>\n",
       "      <td>46.00000</td>\n",
       "    </tr>\n",
       "    <tr>\n",
       "      <th>75%</th>\n",
       "      <td>1374.250000</td>\n",
       "      <td>62.00000</td>\n",
       "    </tr>\n",
       "    <tr>\n",
       "      <th>max</th>\n",
       "      <td>1499.000000</td>\n",
       "      <td>75.00000</td>\n",
       "    </tr>\n",
       "  </tbody>\n",
       "</table>\n",
       "</div>"
      ],
      "text/plain": [
       "           user_id        age\n",
       "count   500.000000  500.00000\n",
       "mean   1249.500000   46.58800\n",
       "std     144.481833   16.66763\n",
       "min    1000.000000   18.00000\n",
       "25%    1124.750000   32.00000\n",
       "50%    1249.500000   46.00000\n",
       "75%    1374.250000   62.00000\n",
       "max    1499.000000   75.00000"
      ]
     },
     "execution_count": 27,
     "metadata": {},
     "output_type": "execute_result"
    }
   ],
   "source": [
    "users.describe()"
   ]
  },
  {
   "cell_type": "markdown",
   "id": "1222158d",
   "metadata": {},
   "source": [
    "**Таблица users содержит информацию о пользователях:**\n",
    "* `user_id` - уникальный идентификатор пользователя;\n",
    "* `first_name` - имя пользователя;\n",
    "* `last_name` - фамилия пользователя;\n",
    "* `age` - возраст пользователя (годы);\n",
    "* `reg_date` - дата подключения тарифа (день, месяц, год);\n",
    "* `churn_date` - дата прекращения пользования тарифом;\n",
    "* `city` - город проживания пользователя;\n",
    "* `tariff` - название тарифного плана.\n",
    "\n",
    "\n",
    "В таблице 500 строк и 8 столбцов, есть пропущенные значения в столбце `churn_date` - дата прекращения пользования тарифом, если значение пропущено, то тариф ещё действовал на момент выгрузки данных. Заменим в этом столбце пропуски на значение - 'valid' (действующий). Средний возраст пользователей 46 лет, минимальный 18, максимальный 75.\n",
    "\n",
    "\n",
    "**Изменим типы столбцов `user_id` на *object*, `reg_date` на *datetime64*.**"
   ]
  },
  {
   "cell_type": "code",
   "execution_count": 28,
   "id": "b03c4353",
   "metadata": {},
   "outputs": [],
   "source": [
    "users = users.rename(columns={'tariff': 'tariff_name'})\n",
    "users['churn_date'] = users['churn_date'].fillna('valid')\n",
    "users['user_id'] = users['user_id'].astype('object')\n",
    "users['reg_date'] = pd.to_datetime(users['reg_date'], format='%Y-%m-%d')"
   ]
  },
  {
   "cell_type": "markdown",
   "id": "8ff3dab7",
   "metadata": {},
   "source": [
    "**Объединим сводные таблицы для дальнейших исследований.**"
   ]
  },
  {
   "cell_type": "code",
   "execution_count": 29,
   "id": "fc206b86",
   "metadata": {},
   "outputs": [
    {
     "data": {
      "text/html": [
       "<div>\n",
       "<style scoped>\n",
       "    .dataframe tbody tr th:only-of-type {\n",
       "        vertical-align: middle;\n",
       "    }\n",
       "\n",
       "    .dataframe tbody tr th {\n",
       "        vertical-align: top;\n",
       "    }\n",
       "\n",
       "    .dataframe thead th {\n",
       "        text-align: right;\n",
       "    }\n",
       "</style>\n",
       "<table border=\"1\" class=\"dataframe\">\n",
       "  <thead>\n",
       "    <tr style=\"text-align: right;\">\n",
       "      <th></th>\n",
       "      <th>user_id</th>\n",
       "      <th>month</th>\n",
       "      <th>call_duration</th>\n",
       "      <th>calls_count</th>\n",
       "      <th>gb_used</th>\n",
       "    </tr>\n",
       "  </thead>\n",
       "  <tbody>\n",
       "    <tr>\n",
       "      <th>0</th>\n",
       "      <td>1000</td>\n",
       "      <td>5</td>\n",
       "      <td>159.0</td>\n",
       "      <td>22.0</td>\n",
       "      <td>3.0</td>\n",
       "    </tr>\n",
       "    <tr>\n",
       "      <th>1</th>\n",
       "      <td>1000</td>\n",
       "      <td>6</td>\n",
       "      <td>172.0</td>\n",
       "      <td>43.0</td>\n",
       "      <td>23.0</td>\n",
       "    </tr>\n",
       "    <tr>\n",
       "      <th>2</th>\n",
       "      <td>1000</td>\n",
       "      <td>7</td>\n",
       "      <td>340.0</td>\n",
       "      <td>47.0</td>\n",
       "      <td>14.0</td>\n",
       "    </tr>\n",
       "    <tr>\n",
       "      <th>3</th>\n",
       "      <td>1000</td>\n",
       "      <td>8</td>\n",
       "      <td>408.0</td>\n",
       "      <td>52.0</td>\n",
       "      <td>14.0</td>\n",
       "    </tr>\n",
       "    <tr>\n",
       "      <th>4</th>\n",
       "      <td>1000</td>\n",
       "      <td>9</td>\n",
       "      <td>466.0</td>\n",
       "      <td>58.0</td>\n",
       "      <td>15.0</td>\n",
       "    </tr>\n",
       "  </tbody>\n",
       "</table>\n",
       "</div>"
      ],
      "text/plain": [
       "   user_id  month  call_duration  calls_count  gb_used\n",
       "0     1000      5          159.0         22.0      3.0\n",
       "1     1000      6          172.0         43.0     23.0\n",
       "2     1000      7          340.0         47.0     14.0\n",
       "3     1000      8          408.0         52.0     14.0\n",
       "4     1000      9          466.0         58.0     15.0"
      ]
     },
     "execution_count": 29,
     "metadata": {},
     "output_type": "execute_result"
    }
   ],
   "source": [
    "# объединение таблиц с информацией о минутах и гигабайтах\n",
    "data = (calls\n",
    "    .merge(internet, on=['user_id', 'month'], how='outer').reset_index(drop=True))\n",
    "data.head()"
   ]
  },
  {
   "cell_type": "code",
   "execution_count": 30,
   "id": "8a06b9d5",
   "metadata": {},
   "outputs": [
    {
     "data": {
      "text/html": [
       "<div>\n",
       "<style scoped>\n",
       "    .dataframe tbody tr th:only-of-type {\n",
       "        vertical-align: middle;\n",
       "    }\n",
       "\n",
       "    .dataframe tbody tr th {\n",
       "        vertical-align: top;\n",
       "    }\n",
       "\n",
       "    .dataframe thead th {\n",
       "        text-align: right;\n",
       "    }\n",
       "</style>\n",
       "<table border=\"1\" class=\"dataframe\">\n",
       "  <thead>\n",
       "    <tr style=\"text-align: right;\">\n",
       "      <th></th>\n",
       "      <th>user_id</th>\n",
       "      <th>month</th>\n",
       "      <th>call_duration</th>\n",
       "      <th>calls_count</th>\n",
       "      <th>gb_used</th>\n",
       "      <th>message_count</th>\n",
       "    </tr>\n",
       "  </thead>\n",
       "  <tbody>\n",
       "    <tr>\n",
       "      <th>0</th>\n",
       "      <td>1000</td>\n",
       "      <td>5</td>\n",
       "      <td>159.0</td>\n",
       "      <td>22.0</td>\n",
       "      <td>3.0</td>\n",
       "      <td>22.0</td>\n",
       "    </tr>\n",
       "    <tr>\n",
       "      <th>1</th>\n",
       "      <td>1000</td>\n",
       "      <td>6</td>\n",
       "      <td>172.0</td>\n",
       "      <td>43.0</td>\n",
       "      <td>23.0</td>\n",
       "      <td>60.0</td>\n",
       "    </tr>\n",
       "    <tr>\n",
       "      <th>2</th>\n",
       "      <td>1000</td>\n",
       "      <td>7</td>\n",
       "      <td>340.0</td>\n",
       "      <td>47.0</td>\n",
       "      <td>14.0</td>\n",
       "      <td>75.0</td>\n",
       "    </tr>\n",
       "    <tr>\n",
       "      <th>3</th>\n",
       "      <td>1000</td>\n",
       "      <td>8</td>\n",
       "      <td>408.0</td>\n",
       "      <td>52.0</td>\n",
       "      <td>14.0</td>\n",
       "      <td>81.0</td>\n",
       "    </tr>\n",
       "    <tr>\n",
       "      <th>4</th>\n",
       "      <td>1000</td>\n",
       "      <td>9</td>\n",
       "      <td>466.0</td>\n",
       "      <td>58.0</td>\n",
       "      <td>15.0</td>\n",
       "      <td>57.0</td>\n",
       "    </tr>\n",
       "  </tbody>\n",
       "</table>\n",
       "</div>"
      ],
      "text/plain": [
       "   user_id  month  call_duration  calls_count  gb_used  message_count\n",
       "0     1000      5          159.0         22.0      3.0           22.0\n",
       "1     1000      6          172.0         43.0     23.0           60.0\n",
       "2     1000      7          340.0         47.0     14.0           75.0\n",
       "3     1000      8          408.0         52.0     14.0           81.0\n",
       "4     1000      9          466.0         58.0     15.0           57.0"
      ]
     },
     "execution_count": 30,
     "metadata": {},
     "output_type": "execute_result"
    }
   ],
   "source": [
    "# присоединение таблицы с данными о смс\n",
    "data = (data\n",
    "    .merge(messages, on=['user_id', 'month'], how='outer').reset_index(drop=True))\n",
    "data.head()"
   ]
  },
  {
   "cell_type": "code",
   "execution_count": 31,
   "id": "341026d1",
   "metadata": {},
   "outputs": [
    {
     "data": {
      "text/html": [
       "<div>\n",
       "<style scoped>\n",
       "    .dataframe tbody tr th:only-of-type {\n",
       "        vertical-align: middle;\n",
       "    }\n",
       "\n",
       "    .dataframe tbody tr th {\n",
       "        vertical-align: top;\n",
       "    }\n",
       "\n",
       "    .dataframe thead th {\n",
       "        text-align: right;\n",
       "    }\n",
       "</style>\n",
       "<table border=\"1\" class=\"dataframe\">\n",
       "  <thead>\n",
       "    <tr style=\"text-align: right;\">\n",
       "      <th></th>\n",
       "      <th>user_id</th>\n",
       "      <th>month</th>\n",
       "      <th>call_duration</th>\n",
       "      <th>calls_count</th>\n",
       "      <th>gb_used</th>\n",
       "      <th>message_count</th>\n",
       "      <th>age</th>\n",
       "      <th>churn_date</th>\n",
       "      <th>city</th>\n",
       "      <th>first_name</th>\n",
       "      <th>last_name</th>\n",
       "      <th>reg_date</th>\n",
       "      <th>tariff_name</th>\n",
       "    </tr>\n",
       "  </thead>\n",
       "  <tbody>\n",
       "    <tr>\n",
       "      <th>0</th>\n",
       "      <td>1000</td>\n",
       "      <td>5</td>\n",
       "      <td>159.0</td>\n",
       "      <td>22.0</td>\n",
       "      <td>3.0</td>\n",
       "      <td>22.0</td>\n",
       "      <td>52</td>\n",
       "      <td>valid</td>\n",
       "      <td>Краснодар</td>\n",
       "      <td>Рафаил</td>\n",
       "      <td>Верещагин</td>\n",
       "      <td>2018-05-25</td>\n",
       "      <td>ultra</td>\n",
       "    </tr>\n",
       "    <tr>\n",
       "      <th>1</th>\n",
       "      <td>1000</td>\n",
       "      <td>6</td>\n",
       "      <td>172.0</td>\n",
       "      <td>43.0</td>\n",
       "      <td>23.0</td>\n",
       "      <td>60.0</td>\n",
       "      <td>52</td>\n",
       "      <td>valid</td>\n",
       "      <td>Краснодар</td>\n",
       "      <td>Рафаил</td>\n",
       "      <td>Верещагин</td>\n",
       "      <td>2018-05-25</td>\n",
       "      <td>ultra</td>\n",
       "    </tr>\n",
       "    <tr>\n",
       "      <th>2</th>\n",
       "      <td>1000</td>\n",
       "      <td>7</td>\n",
       "      <td>340.0</td>\n",
       "      <td>47.0</td>\n",
       "      <td>14.0</td>\n",
       "      <td>75.0</td>\n",
       "      <td>52</td>\n",
       "      <td>valid</td>\n",
       "      <td>Краснодар</td>\n",
       "      <td>Рафаил</td>\n",
       "      <td>Верещагин</td>\n",
       "      <td>2018-05-25</td>\n",
       "      <td>ultra</td>\n",
       "    </tr>\n",
       "    <tr>\n",
       "      <th>3</th>\n",
       "      <td>1000</td>\n",
       "      <td>8</td>\n",
       "      <td>408.0</td>\n",
       "      <td>52.0</td>\n",
       "      <td>14.0</td>\n",
       "      <td>81.0</td>\n",
       "      <td>52</td>\n",
       "      <td>valid</td>\n",
       "      <td>Краснодар</td>\n",
       "      <td>Рафаил</td>\n",
       "      <td>Верещагин</td>\n",
       "      <td>2018-05-25</td>\n",
       "      <td>ultra</td>\n",
       "    </tr>\n",
       "    <tr>\n",
       "      <th>4</th>\n",
       "      <td>1000</td>\n",
       "      <td>9</td>\n",
       "      <td>466.0</td>\n",
       "      <td>58.0</td>\n",
       "      <td>15.0</td>\n",
       "      <td>57.0</td>\n",
       "      <td>52</td>\n",
       "      <td>valid</td>\n",
       "      <td>Краснодар</td>\n",
       "      <td>Рафаил</td>\n",
       "      <td>Верещагин</td>\n",
       "      <td>2018-05-25</td>\n",
       "      <td>ultra</td>\n",
       "    </tr>\n",
       "  </tbody>\n",
       "</table>\n",
       "</div>"
      ],
      "text/plain": [
       "  user_id  month  call_duration  calls_count  gb_used  message_count  age  \\\n",
       "0    1000      5          159.0         22.0      3.0           22.0   52   \n",
       "1    1000      6          172.0         43.0     23.0           60.0   52   \n",
       "2    1000      7          340.0         47.0     14.0           75.0   52   \n",
       "3    1000      8          408.0         52.0     14.0           81.0   52   \n",
       "4    1000      9          466.0         58.0     15.0           57.0   52   \n",
       "\n",
       "  churn_date       city first_name  last_name   reg_date tariff_name  \n",
       "0      valid  Краснодар     Рафаил  Верещагин 2018-05-25       ultra  \n",
       "1      valid  Краснодар     Рафаил  Верещагин 2018-05-25       ultra  \n",
       "2      valid  Краснодар     Рафаил  Верещагин 2018-05-25       ultra  \n",
       "3      valid  Краснодар     Рафаил  Верещагин 2018-05-25       ultra  \n",
       "4      valid  Краснодар     Рафаил  Верещагин 2018-05-25       ultra  "
      ]
     },
     "execution_count": 31,
     "metadata": {},
     "output_type": "execute_result"
    }
   ],
   "source": [
    "# присоединение таблицы с пользователями\n",
    "data = (data\n",
    "    .merge(users, on='user_id', how='left').reset_index(drop=True))\n",
    "data.head()"
   ]
  },
  {
   "cell_type": "code",
   "execution_count": 32,
   "id": "036c21de",
   "metadata": {},
   "outputs": [
    {
     "data": {
      "text/html": [
       "<div>\n",
       "<style scoped>\n",
       "    .dataframe tbody tr th:only-of-type {\n",
       "        vertical-align: middle;\n",
       "    }\n",
       "\n",
       "    .dataframe tbody tr th {\n",
       "        vertical-align: top;\n",
       "    }\n",
       "\n",
       "    .dataframe thead th {\n",
       "        text-align: right;\n",
       "    }\n",
       "</style>\n",
       "<table border=\"1\" class=\"dataframe\">\n",
       "  <thead>\n",
       "    <tr style=\"text-align: right;\">\n",
       "      <th></th>\n",
       "      <th>user_id</th>\n",
       "      <th>month</th>\n",
       "      <th>call_duration</th>\n",
       "      <th>calls_count</th>\n",
       "      <th>gb_used</th>\n",
       "      <th>message_count</th>\n",
       "      <th>age</th>\n",
       "      <th>churn_date</th>\n",
       "      <th>city</th>\n",
       "      <th>first_name</th>\n",
       "      <th>last_name</th>\n",
       "      <th>reg_date</th>\n",
       "      <th>tariff_name</th>\n",
       "      <th>messages_included</th>\n",
       "      <th>mb_per_month_included</th>\n",
       "      <th>minutes_included</th>\n",
       "      <th>rub_monthly_fee</th>\n",
       "      <th>rub_per_gb</th>\n",
       "      <th>rub_per_message</th>\n",
       "      <th>rub_per_minute</th>\n",
       "    </tr>\n",
       "  </thead>\n",
       "  <tbody>\n",
       "    <tr>\n",
       "      <th>0</th>\n",
       "      <td>1000</td>\n",
       "      <td>5</td>\n",
       "      <td>159.0</td>\n",
       "      <td>22.0</td>\n",
       "      <td>3.0</td>\n",
       "      <td>22.0</td>\n",
       "      <td>52</td>\n",
       "      <td>valid</td>\n",
       "      <td>Краснодар</td>\n",
       "      <td>Рафаил</td>\n",
       "      <td>Верещагин</td>\n",
       "      <td>2018-05-25</td>\n",
       "      <td>ultra</td>\n",
       "      <td>1000</td>\n",
       "      <td>30.0</td>\n",
       "      <td>3000</td>\n",
       "      <td>1950</td>\n",
       "      <td>150</td>\n",
       "      <td>1</td>\n",
       "      <td>1</td>\n",
       "    </tr>\n",
       "    <tr>\n",
       "      <th>1</th>\n",
       "      <td>1000</td>\n",
       "      <td>6</td>\n",
       "      <td>172.0</td>\n",
       "      <td>43.0</td>\n",
       "      <td>23.0</td>\n",
       "      <td>60.0</td>\n",
       "      <td>52</td>\n",
       "      <td>valid</td>\n",
       "      <td>Краснодар</td>\n",
       "      <td>Рафаил</td>\n",
       "      <td>Верещагин</td>\n",
       "      <td>2018-05-25</td>\n",
       "      <td>ultra</td>\n",
       "      <td>1000</td>\n",
       "      <td>30.0</td>\n",
       "      <td>3000</td>\n",
       "      <td>1950</td>\n",
       "      <td>150</td>\n",
       "      <td>1</td>\n",
       "      <td>1</td>\n",
       "    </tr>\n",
       "    <tr>\n",
       "      <th>2</th>\n",
       "      <td>1000</td>\n",
       "      <td>7</td>\n",
       "      <td>340.0</td>\n",
       "      <td>47.0</td>\n",
       "      <td>14.0</td>\n",
       "      <td>75.0</td>\n",
       "      <td>52</td>\n",
       "      <td>valid</td>\n",
       "      <td>Краснодар</td>\n",
       "      <td>Рафаил</td>\n",
       "      <td>Верещагин</td>\n",
       "      <td>2018-05-25</td>\n",
       "      <td>ultra</td>\n",
       "      <td>1000</td>\n",
       "      <td>30.0</td>\n",
       "      <td>3000</td>\n",
       "      <td>1950</td>\n",
       "      <td>150</td>\n",
       "      <td>1</td>\n",
       "      <td>1</td>\n",
       "    </tr>\n",
       "    <tr>\n",
       "      <th>3</th>\n",
       "      <td>1000</td>\n",
       "      <td>8</td>\n",
       "      <td>408.0</td>\n",
       "      <td>52.0</td>\n",
       "      <td>14.0</td>\n",
       "      <td>81.0</td>\n",
       "      <td>52</td>\n",
       "      <td>valid</td>\n",
       "      <td>Краснодар</td>\n",
       "      <td>Рафаил</td>\n",
       "      <td>Верещагин</td>\n",
       "      <td>2018-05-25</td>\n",
       "      <td>ultra</td>\n",
       "      <td>1000</td>\n",
       "      <td>30.0</td>\n",
       "      <td>3000</td>\n",
       "      <td>1950</td>\n",
       "      <td>150</td>\n",
       "      <td>1</td>\n",
       "      <td>1</td>\n",
       "    </tr>\n",
       "    <tr>\n",
       "      <th>4</th>\n",
       "      <td>1000</td>\n",
       "      <td>9</td>\n",
       "      <td>466.0</td>\n",
       "      <td>58.0</td>\n",
       "      <td>15.0</td>\n",
       "      <td>57.0</td>\n",
       "      <td>52</td>\n",
       "      <td>valid</td>\n",
       "      <td>Краснодар</td>\n",
       "      <td>Рафаил</td>\n",
       "      <td>Верещагин</td>\n",
       "      <td>2018-05-25</td>\n",
       "      <td>ultra</td>\n",
       "      <td>1000</td>\n",
       "      <td>30.0</td>\n",
       "      <td>3000</td>\n",
       "      <td>1950</td>\n",
       "      <td>150</td>\n",
       "      <td>1</td>\n",
       "      <td>1</td>\n",
       "    </tr>\n",
       "  </tbody>\n",
       "</table>\n",
       "</div>"
      ],
      "text/plain": [
       "  user_id  month  call_duration  calls_count  gb_used  message_count  age  \\\n",
       "0    1000      5          159.0         22.0      3.0           22.0   52   \n",
       "1    1000      6          172.0         43.0     23.0           60.0   52   \n",
       "2    1000      7          340.0         47.0     14.0           75.0   52   \n",
       "3    1000      8          408.0         52.0     14.0           81.0   52   \n",
       "4    1000      9          466.0         58.0     15.0           57.0   52   \n",
       "\n",
       "  churn_date       city first_name  last_name   reg_date tariff_name  \\\n",
       "0      valid  Краснодар     Рафаил  Верещагин 2018-05-25       ultra   \n",
       "1      valid  Краснодар     Рафаил  Верещагин 2018-05-25       ultra   \n",
       "2      valid  Краснодар     Рафаил  Верещагин 2018-05-25       ultra   \n",
       "3      valid  Краснодар     Рафаил  Верещагин 2018-05-25       ultra   \n",
       "4      valid  Краснодар     Рафаил  Верещагин 2018-05-25       ultra   \n",
       "\n",
       "   messages_included  mb_per_month_included  minutes_included  \\\n",
       "0               1000                   30.0              3000   \n",
       "1               1000                   30.0              3000   \n",
       "2               1000                   30.0              3000   \n",
       "3               1000                   30.0              3000   \n",
       "4               1000                   30.0              3000   \n",
       "\n",
       "   rub_monthly_fee  rub_per_gb  rub_per_message  rub_per_minute  \n",
       "0             1950         150                1               1  \n",
       "1             1950         150                1               1  \n",
       "2             1950         150                1               1  \n",
       "3             1950         150                1               1  \n",
       "4             1950         150                1               1  "
      ]
     },
     "execution_count": 32,
     "metadata": {},
     "output_type": "execute_result"
    }
   ],
   "source": [
    "# присоединение к таблице информации о тарифах\n",
    "data = (data\n",
    "       .merge(tariffs, on='tariff_name', how='outer').reset_index(drop=True))\n",
    "data.head()"
   ]
  },
  {
   "cell_type": "markdown",
   "id": "6a1790cc",
   "metadata": {},
   "source": [
    "**Удалим столбцы, которые не понадобятся в исследовании.**"
   ]
  },
  {
   "cell_type": "code",
   "execution_count": 33,
   "id": "24773570",
   "metadata": {},
   "outputs": [
    {
     "data": {
      "text/html": [
       "<div>\n",
       "<style scoped>\n",
       "    .dataframe tbody tr th:only-of-type {\n",
       "        vertical-align: middle;\n",
       "    }\n",
       "\n",
       "    .dataframe tbody tr th {\n",
       "        vertical-align: top;\n",
       "    }\n",
       "\n",
       "    .dataframe thead th {\n",
       "        text-align: right;\n",
       "    }\n",
       "</style>\n",
       "<table border=\"1\" class=\"dataframe\">\n",
       "  <thead>\n",
       "    <tr style=\"text-align: right;\">\n",
       "      <th></th>\n",
       "      <th>user_id</th>\n",
       "      <th>month</th>\n",
       "      <th>call_duration</th>\n",
       "      <th>calls_count</th>\n",
       "      <th>gb_used</th>\n",
       "      <th>message_count</th>\n",
       "      <th>churn_date</th>\n",
       "      <th>city</th>\n",
       "      <th>reg_date</th>\n",
       "      <th>tariff_name</th>\n",
       "      <th>messages_included</th>\n",
       "      <th>mb_per_month_included</th>\n",
       "      <th>minutes_included</th>\n",
       "      <th>rub_monthly_fee</th>\n",
       "      <th>rub_per_gb</th>\n",
       "      <th>rub_per_message</th>\n",
       "      <th>rub_per_minute</th>\n",
       "    </tr>\n",
       "  </thead>\n",
       "  <tbody>\n",
       "    <tr>\n",
       "      <th>0</th>\n",
       "      <td>1000</td>\n",
       "      <td>5</td>\n",
       "      <td>159.0</td>\n",
       "      <td>22.0</td>\n",
       "      <td>3.0</td>\n",
       "      <td>22.0</td>\n",
       "      <td>valid</td>\n",
       "      <td>Краснодар</td>\n",
       "      <td>2018-05-25</td>\n",
       "      <td>ultra</td>\n",
       "      <td>1000</td>\n",
       "      <td>30.0</td>\n",
       "      <td>3000</td>\n",
       "      <td>1950</td>\n",
       "      <td>150</td>\n",
       "      <td>1</td>\n",
       "      <td>1</td>\n",
       "    </tr>\n",
       "    <tr>\n",
       "      <th>1</th>\n",
       "      <td>1000</td>\n",
       "      <td>6</td>\n",
       "      <td>172.0</td>\n",
       "      <td>43.0</td>\n",
       "      <td>23.0</td>\n",
       "      <td>60.0</td>\n",
       "      <td>valid</td>\n",
       "      <td>Краснодар</td>\n",
       "      <td>2018-05-25</td>\n",
       "      <td>ultra</td>\n",
       "      <td>1000</td>\n",
       "      <td>30.0</td>\n",
       "      <td>3000</td>\n",
       "      <td>1950</td>\n",
       "      <td>150</td>\n",
       "      <td>1</td>\n",
       "      <td>1</td>\n",
       "    </tr>\n",
       "    <tr>\n",
       "      <th>2</th>\n",
       "      <td>1000</td>\n",
       "      <td>7</td>\n",
       "      <td>340.0</td>\n",
       "      <td>47.0</td>\n",
       "      <td>14.0</td>\n",
       "      <td>75.0</td>\n",
       "      <td>valid</td>\n",
       "      <td>Краснодар</td>\n",
       "      <td>2018-05-25</td>\n",
       "      <td>ultra</td>\n",
       "      <td>1000</td>\n",
       "      <td>30.0</td>\n",
       "      <td>3000</td>\n",
       "      <td>1950</td>\n",
       "      <td>150</td>\n",
       "      <td>1</td>\n",
       "      <td>1</td>\n",
       "    </tr>\n",
       "    <tr>\n",
       "      <th>3</th>\n",
       "      <td>1000</td>\n",
       "      <td>8</td>\n",
       "      <td>408.0</td>\n",
       "      <td>52.0</td>\n",
       "      <td>14.0</td>\n",
       "      <td>81.0</td>\n",
       "      <td>valid</td>\n",
       "      <td>Краснодар</td>\n",
       "      <td>2018-05-25</td>\n",
       "      <td>ultra</td>\n",
       "      <td>1000</td>\n",
       "      <td>30.0</td>\n",
       "      <td>3000</td>\n",
       "      <td>1950</td>\n",
       "      <td>150</td>\n",
       "      <td>1</td>\n",
       "      <td>1</td>\n",
       "    </tr>\n",
       "    <tr>\n",
       "      <th>4</th>\n",
       "      <td>1000</td>\n",
       "      <td>9</td>\n",
       "      <td>466.0</td>\n",
       "      <td>58.0</td>\n",
       "      <td>15.0</td>\n",
       "      <td>57.0</td>\n",
       "      <td>valid</td>\n",
       "      <td>Краснодар</td>\n",
       "      <td>2018-05-25</td>\n",
       "      <td>ultra</td>\n",
       "      <td>1000</td>\n",
       "      <td>30.0</td>\n",
       "      <td>3000</td>\n",
       "      <td>1950</td>\n",
       "      <td>150</td>\n",
       "      <td>1</td>\n",
       "      <td>1</td>\n",
       "    </tr>\n",
       "  </tbody>\n",
       "</table>\n",
       "</div>"
      ],
      "text/plain": [
       "  user_id  month  call_duration  calls_count  gb_used  message_count  \\\n",
       "0    1000      5          159.0         22.0      3.0           22.0   \n",
       "1    1000      6          172.0         43.0     23.0           60.0   \n",
       "2    1000      7          340.0         47.0     14.0           75.0   \n",
       "3    1000      8          408.0         52.0     14.0           81.0   \n",
       "4    1000      9          466.0         58.0     15.0           57.0   \n",
       "\n",
       "  churn_date       city   reg_date tariff_name  messages_included  \\\n",
       "0      valid  Краснодар 2018-05-25       ultra               1000   \n",
       "1      valid  Краснодар 2018-05-25       ultra               1000   \n",
       "2      valid  Краснодар 2018-05-25       ultra               1000   \n",
       "3      valid  Краснодар 2018-05-25       ultra               1000   \n",
       "4      valid  Краснодар 2018-05-25       ultra               1000   \n",
       "\n",
       "   mb_per_month_included  minutes_included  rub_monthly_fee  rub_per_gb  \\\n",
       "0                   30.0              3000             1950         150   \n",
       "1                   30.0              3000             1950         150   \n",
       "2                   30.0              3000             1950         150   \n",
       "3                   30.0              3000             1950         150   \n",
       "4                   30.0              3000             1950         150   \n",
       "\n",
       "   rub_per_message  rub_per_minute  \n",
       "0                1               1  \n",
       "1                1               1  \n",
       "2                1               1  \n",
       "3                1               1  \n",
       "4                1               1  "
      ]
     },
     "execution_count": 33,
     "metadata": {},
     "output_type": "execute_result"
    }
   ],
   "source": [
    "data.drop(columns=['age', 'first_name', 'last_name'], axis=1, inplace=True)\n",
    "data.head()"
   ]
  },
  {
   "cell_type": "markdown",
   "id": "7a0e4069",
   "metadata": {},
   "source": [
    "**Проверим пропуски в таблице.**"
   ]
  },
  {
   "cell_type": "code",
   "execution_count": 34,
   "id": "44720d55",
   "metadata": {},
   "outputs": [
    {
     "data": {
      "text/plain": [
       "user_id                    0\n",
       "month                      0\n",
       "call_duration             40\n",
       "calls_count               40\n",
       "gb_used                   11\n",
       "message_count            497\n",
       "churn_date                 0\n",
       "city                       0\n",
       "reg_date                   0\n",
       "tariff_name                0\n",
       "messages_included          0\n",
       "mb_per_month_included      0\n",
       "minutes_included           0\n",
       "rub_monthly_fee            0\n",
       "rub_per_gb                 0\n",
       "rub_per_message            0\n",
       "rub_per_minute             0\n",
       "dtype: int64"
      ]
     },
     "execution_count": 34,
     "metadata": {},
     "output_type": "execute_result"
    }
   ],
   "source": [
    "data.isna().sum()"
   ]
  },
  {
   "cell_type": "markdown",
   "id": "6503e038",
   "metadata": {},
   "source": [
    "* В таблице есть пропущенные значения, клиент может не пользоваться смс или интернетом или звонками, заменим пропущенные значения на 0."
   ]
  },
  {
   "cell_type": "code",
   "execution_count": 35,
   "id": "d75df8f3",
   "metadata": {},
   "outputs": [],
   "source": [
    "data[['call_duration', 'calls_count', 'gb_used']] = data[['call_duration', 'calls_count', 'gb_used']].fillna(0)\n",
    "data[['call_duration', 'calls_count', 'gb_used']] = data[['call_duration', 'calls_count', 'gb_used']].astype('int64')"
   ]
  },
  {
   "cell_type": "markdown",
   "id": "a2b6ba34",
   "metadata": {},
   "source": [
    "**Проверим таблицу на дубликаты.**"
   ]
  },
  {
   "cell_type": "code",
   "execution_count": 36,
   "id": "902d4f23",
   "metadata": {},
   "outputs": [
    {
     "data": {
      "text/plain": [
       "0"
      ]
     },
     "execution_count": 36,
     "metadata": {},
     "output_type": "execute_result"
    }
   ],
   "source": [
    "data.duplicated().sum()"
   ]
  },
  {
   "cell_type": "code",
   "execution_count": 37,
   "id": "4d174a39",
   "metadata": {},
   "outputs": [
    {
     "data": {
      "text/html": [
       "<div>\n",
       "<style scoped>\n",
       "    .dataframe tbody tr th:only-of-type {\n",
       "        vertical-align: middle;\n",
       "    }\n",
       "\n",
       "    .dataframe tbody tr th {\n",
       "        vertical-align: top;\n",
       "    }\n",
       "\n",
       "    .dataframe thead th {\n",
       "        text-align: right;\n",
       "    }\n",
       "</style>\n",
       "<table border=\"1\" class=\"dataframe\">\n",
       "  <thead>\n",
       "    <tr style=\"text-align: right;\">\n",
       "      <th></th>\n",
       "      <th>messages_included</th>\n",
       "      <th>mb_per_month_included</th>\n",
       "      <th>minutes_included</th>\n",
       "      <th>rub_monthly_fee</th>\n",
       "      <th>rub_per_gb</th>\n",
       "      <th>rub_per_message</th>\n",
       "      <th>rub_per_minute</th>\n",
       "      <th>tariff_name</th>\n",
       "    </tr>\n",
       "  </thead>\n",
       "  <tbody>\n",
       "    <tr>\n",
       "      <th>0</th>\n",
       "      <td>50</td>\n",
       "      <td>15.0</td>\n",
       "      <td>500</td>\n",
       "      <td>550</td>\n",
       "      <td>200</td>\n",
       "      <td>3</td>\n",
       "      <td>3</td>\n",
       "      <td>smart</td>\n",
       "    </tr>\n",
       "    <tr>\n",
       "      <th>1</th>\n",
       "      <td>1000</td>\n",
       "      <td>30.0</td>\n",
       "      <td>3000</td>\n",
       "      <td>1950</td>\n",
       "      <td>150</td>\n",
       "      <td>1</td>\n",
       "      <td>1</td>\n",
       "      <td>ultra</td>\n",
       "    </tr>\n",
       "  </tbody>\n",
       "</table>\n",
       "</div>"
      ],
      "text/plain": [
       "   messages_included  mb_per_month_included  minutes_included  \\\n",
       "0                 50                   15.0               500   \n",
       "1               1000                   30.0              3000   \n",
       "\n",
       "   rub_monthly_fee  rub_per_gb  rub_per_message  rub_per_minute tariff_name  \n",
       "0              550         200                3               3       smart  \n",
       "1             1950         150                1               1       ultra  "
      ]
     },
     "execution_count": 37,
     "metadata": {},
     "output_type": "execute_result"
    }
   ],
   "source": [
    "tariffs"
   ]
  },
  {
   "cell_type": "markdown",
   "id": "a7a5064f",
   "metadata": {},
   "source": [
    "## Рассчёт прибыли\n",
    "\n",
    "**Посчитаем для каждого пользователя помесячную выручку, с помощью функции.**"
   ]
  },
  {
   "cell_type": "code",
   "execution_count": 38,
   "id": "c7093fa4",
   "metadata": {},
   "outputs": [
    {
     "data": {
      "text/html": [
       "<div>\n",
       "<style scoped>\n",
       "    .dataframe tbody tr th:only-of-type {\n",
       "        vertical-align: middle;\n",
       "    }\n",
       "\n",
       "    .dataframe tbody tr th {\n",
       "        vertical-align: top;\n",
       "    }\n",
       "\n",
       "    .dataframe thead th {\n",
       "        text-align: right;\n",
       "    }\n",
       "</style>\n",
       "<table border=\"1\" class=\"dataframe\">\n",
       "  <thead>\n",
       "    <tr style=\"text-align: right;\">\n",
       "      <th></th>\n",
       "      <th>user_id</th>\n",
       "      <th>month</th>\n",
       "      <th>call_duration</th>\n",
       "      <th>calls_count</th>\n",
       "      <th>gb_used</th>\n",
       "      <th>message_count</th>\n",
       "      <th>churn_date</th>\n",
       "      <th>city</th>\n",
       "      <th>reg_date</th>\n",
       "      <th>tariff_name</th>\n",
       "      <th>messages_included</th>\n",
       "      <th>mb_per_month_included</th>\n",
       "      <th>minutes_included</th>\n",
       "      <th>rub_monthly_fee</th>\n",
       "      <th>rub_per_gb</th>\n",
       "      <th>rub_per_message</th>\n",
       "      <th>rub_per_minute</th>\n",
       "      <th>profit</th>\n",
       "    </tr>\n",
       "  </thead>\n",
       "  <tbody>\n",
       "    <tr>\n",
       "      <th>0</th>\n",
       "      <td>1000</td>\n",
       "      <td>5</td>\n",
       "      <td>159</td>\n",
       "      <td>22</td>\n",
       "      <td>3</td>\n",
       "      <td>22.0</td>\n",
       "      <td>valid</td>\n",
       "      <td>Краснодар</td>\n",
       "      <td>2018-05-25</td>\n",
       "      <td>ultra</td>\n",
       "      <td>1000</td>\n",
       "      <td>30.0</td>\n",
       "      <td>3000</td>\n",
       "      <td>1950</td>\n",
       "      <td>150</td>\n",
       "      <td>1</td>\n",
       "      <td>1</td>\n",
       "      <td>1950.0</td>\n",
       "    </tr>\n",
       "    <tr>\n",
       "      <th>1</th>\n",
       "      <td>1000</td>\n",
       "      <td>6</td>\n",
       "      <td>172</td>\n",
       "      <td>43</td>\n",
       "      <td>23</td>\n",
       "      <td>60.0</td>\n",
       "      <td>valid</td>\n",
       "      <td>Краснодар</td>\n",
       "      <td>2018-05-25</td>\n",
       "      <td>ultra</td>\n",
       "      <td>1000</td>\n",
       "      <td>30.0</td>\n",
       "      <td>3000</td>\n",
       "      <td>1950</td>\n",
       "      <td>150</td>\n",
       "      <td>1</td>\n",
       "      <td>1</td>\n",
       "      <td>1950.0</td>\n",
       "    </tr>\n",
       "    <tr>\n",
       "      <th>2</th>\n",
       "      <td>1000</td>\n",
       "      <td>7</td>\n",
       "      <td>340</td>\n",
       "      <td>47</td>\n",
       "      <td>14</td>\n",
       "      <td>75.0</td>\n",
       "      <td>valid</td>\n",
       "      <td>Краснодар</td>\n",
       "      <td>2018-05-25</td>\n",
       "      <td>ultra</td>\n",
       "      <td>1000</td>\n",
       "      <td>30.0</td>\n",
       "      <td>3000</td>\n",
       "      <td>1950</td>\n",
       "      <td>150</td>\n",
       "      <td>1</td>\n",
       "      <td>1</td>\n",
       "      <td>1950.0</td>\n",
       "    </tr>\n",
       "    <tr>\n",
       "      <th>3</th>\n",
       "      <td>1000</td>\n",
       "      <td>8</td>\n",
       "      <td>408</td>\n",
       "      <td>52</td>\n",
       "      <td>14</td>\n",
       "      <td>81.0</td>\n",
       "      <td>valid</td>\n",
       "      <td>Краснодар</td>\n",
       "      <td>2018-05-25</td>\n",
       "      <td>ultra</td>\n",
       "      <td>1000</td>\n",
       "      <td>30.0</td>\n",
       "      <td>3000</td>\n",
       "      <td>1950</td>\n",
       "      <td>150</td>\n",
       "      <td>1</td>\n",
       "      <td>1</td>\n",
       "      <td>1950.0</td>\n",
       "    </tr>\n",
       "    <tr>\n",
       "      <th>4</th>\n",
       "      <td>1000</td>\n",
       "      <td>9</td>\n",
       "      <td>466</td>\n",
       "      <td>58</td>\n",
       "      <td>15</td>\n",
       "      <td>57.0</td>\n",
       "      <td>valid</td>\n",
       "      <td>Краснодар</td>\n",
       "      <td>2018-05-25</td>\n",
       "      <td>ultra</td>\n",
       "      <td>1000</td>\n",
       "      <td>30.0</td>\n",
       "      <td>3000</td>\n",
       "      <td>1950</td>\n",
       "      <td>150</td>\n",
       "      <td>1</td>\n",
       "      <td>1</td>\n",
       "      <td>1950.0</td>\n",
       "    </tr>\n",
       "  </tbody>\n",
       "</table>\n",
       "</div>"
      ],
      "text/plain": [
       "  user_id  month  call_duration  calls_count  gb_used  message_count  \\\n",
       "0    1000      5            159           22        3           22.0   \n",
       "1    1000      6            172           43       23           60.0   \n",
       "2    1000      7            340           47       14           75.0   \n",
       "3    1000      8            408           52       14           81.0   \n",
       "4    1000      9            466           58       15           57.0   \n",
       "\n",
       "  churn_date       city   reg_date tariff_name  messages_included  \\\n",
       "0      valid  Краснодар 2018-05-25       ultra               1000   \n",
       "1      valid  Краснодар 2018-05-25       ultra               1000   \n",
       "2      valid  Краснодар 2018-05-25       ultra               1000   \n",
       "3      valid  Краснодар 2018-05-25       ultra               1000   \n",
       "4      valid  Краснодар 2018-05-25       ultra               1000   \n",
       "\n",
       "   mb_per_month_included  minutes_included  rub_monthly_fee  rub_per_gb  \\\n",
       "0                   30.0              3000             1950         150   \n",
       "1                   30.0              3000             1950         150   \n",
       "2                   30.0              3000             1950         150   \n",
       "3                   30.0              3000             1950         150   \n",
       "4                   30.0              3000             1950         150   \n",
       "\n",
       "   rub_per_message  rub_per_minute  profit  \n",
       "0                1               1  1950.0  \n",
       "1                1               1  1950.0  \n",
       "2                1               1  1950.0  \n",
       "3                1               1  1950.0  \n",
       "4                1               1  1950.0  "
      ]
     },
     "execution_count": 38,
     "metadata": {},
     "output_type": "execute_result"
    }
   ],
   "source": [
    "def profit(i):\n",
    "    if i['tariff_name'] == 'smart':\n",
    "        if i['call_duration'] > i['minutes_included']:\n",
    "            calls = (i['call_duration'] - i['minutes_included']) * i['rub_per_minute']\n",
    "        else:\n",
    "            calls = 0\n",
    "        if i['message_count'] > i['messages_included']:\n",
    "            messages = (i['message_count'] - i['messages_included']) * i['rub_per_message']\n",
    "        else:\n",
    "            messages = 0\n",
    "        if i['gb_used'] > i['mb_per_month_included']:\n",
    "            internet = (i['gb_used'] - i['mb_per_month_included']) * i['rub_per_gb']\n",
    "        else:\n",
    "            internet = 0\n",
    "        total = calls + messages + internet + i['rub_monthly_fee']\n",
    "        \n",
    "    if i['tariff_name'] == 'ultra':\n",
    "        if i['call_duration'] > i['minutes_included']:\n",
    "            calls = (i['call_duration'] - i['minutes_included']) * i['rub_per_minute']\n",
    "        else:\n",
    "            calls = 0\n",
    "        if i['message_count'] > i['messages_included']:\n",
    "            messages = (i['message_count'] - i['messages_included']) * i['rub_per_message']\n",
    "        else:\n",
    "            messages = 0\n",
    "        if i['gb_used'] > i['mb_per_month_included']:\n",
    "            internet = (i['gb_used'] - i['mb_per_month_included']) * i['rub_per_gb']\n",
    "        else:\n",
    "            internet = 0\n",
    "        total = calls + messages + internet + i['rub_monthly_fee']\n",
    "    return total\n",
    "\n",
    "data['profit'] = data.apply(profit, axis=1)\n",
    "data.head()"
   ]
  },
  {
   "cell_type": "markdown",
   "id": "ddfa966c",
   "metadata": {},
   "source": [
    "## Анализ полученных данных"
   ]
  },
  {
   "cell_type": "markdown",
   "id": "776b84e8",
   "metadata": {},
   "source": [
    "**Посмотрим как распределяются пользователи по тарифам.**"
   ]
  },
  {
   "cell_type": "code",
   "execution_count": 39,
   "id": "7f22f65e",
   "metadata": {},
   "outputs": [
    {
     "data": {
      "image/png": "[encoded data removed]",
      "text/plain": [
       "<Figure size 432x288 with 1 Axes>"
      ]
     },
     "metadata": {},
     "output_type": "display_data"
    }
   ],
   "source": [
    "data['tariff_name'].value_counts().plot(kind = 'pie', autopct='%1.2f%%', explode = (0, 0.1), shadow = True)\n",
    "plt.title('Доли тарифов smart и ultra среди пользователей')\n",
    "plt.show()"
   ]
  },
  {
   "cell_type": "markdown",
   "id": "36c144ba",
   "metadata": {},
   "source": [
    "* 69.35% клиентов пользуются тарифом `Smart` и 30.65% предпочитают тариф `Ultra`.\n",
    "\n",
    "\n",
    "**Выделим пользователей каждого тарифа в отдельные таблицы и сохраним в переменные.**"
   ]
  },
  {
   "cell_type": "code",
   "execution_count": 40,
   "id": "91d89aac",
   "metadata": {},
   "outputs": [],
   "source": [
    "smart = data.query('tariff_name == \"smart\"') # пользователи тарифа smart\n",
    "ultra = data.query('tariff_name == \"ultra\"') # пользователи тарифа ultra"
   ]
  },
  {
   "cell_type": "markdown",
   "id": "e87ac385",
   "metadata": {},
   "source": [
    "**Построим гисторгаммы распределений использованных минут, смс, гигабайт по двум тарифам.**"
   ]
  },
  {
   "cell_type": "code",
   "execution_count": 41,
   "id": "4be90706",
   "metadata": {},
   "outputs": [
    {
     "data": {
      "image/png": "[encoded data removed]",
      "text/plain": [
       "<Figure size 1152x360 with 1 Axes>"
      ]
     },
     "metadata": {
      "needs_background": "light"
     },
     "output_type": "display_data"
    }
   ],
   "source": [
    "plt.figure(figsize=(16, 5));\n",
    "smart['call_duration'].plot(grid=True, bins=50, kind='hist', alpha=1, label='smart');\n",
    "ultra['call_duration'].plot(grid=True, bins=50, kind='hist', alpha=1, label='ultra');\n",
    "plt.title('Количество использованных минут разговора');\n",
    "plt.xlabel('Количество минут');\n",
    "plt.ylabel('Частота');\n",
    "plt.axvline(smart['call_duration'].mean(), color='orange', linestyle='--', label='mean smart')\n",
    "plt.axvline(ultra['call_duration'].mean(), color='yellow', linestyle='--', label='mean ultra')\n",
    "plt.legend()\n",
    "plt.show();"
   ]
  },
  {
   "cell_type": "markdown",
   "id": "a37d29ef",
   "metadata": {},
   "source": [
    "* Пользователи тарифа `Smart` в среднем используют 417 минут, (в тариф включено 500 минут). Некоторые пользователи превышают лимит, максимальное количество израсходованных минут 1435. Большинство значений находятся в диапазоне примерно от 400 до 550 минут.\n",
    "\n",
    "\n",
    "* Пользователи тарифа `Ultra` используют в среднем 526 минут, (в тариф включено 3000 минут). Пользователи не превышают этот лимит, максимальное количество  израсходованных минут 1673."
   ]
  },
  {
   "cell_type": "code",
   "execution_count": 42,
   "id": "fcf252ac",
   "metadata": {
    "scrolled": true
   },
   "outputs": [
    {
     "data": {
      "image/png": "[encoded data removed]",
      "text/plain": [
       "<Figure size 1152x360 with 1 Axes>"
      ]
     },
     "metadata": {
      "needs_background": "light"
     },
     "output_type": "display_data"
    }
   ],
   "source": [
    "plt.figure(figsize=(16, 5))\n",
    "smart['gb_used'].plot(grid=True, bins=50, kind='hist', alpha=1, label='smart')\n",
    "ultra['gb_used'].plot(grid=True, bins=50, kind='hist', alpha=1, label='ultra')\n",
    "plt.title('Количество использованных гигабайт');\n",
    "plt.xlabel('Количество гигабайт')\n",
    "plt.ylabel('Частота')\n",
    "plt.axvline(smart['gb_used'].mean(), color='orange', linestyle='--', label='mean smart')\n",
    "plt.axvline(ultra['gb_used'].mean(), color='yellow', linestyle='--', label='mean ultra')\n",
    "plt.legend();"
   ]
  },
  {
   "cell_type": "markdown",
   "id": "06d86441",
   "metadata": {},
   "source": [
    "* Пользователи тарифа `Smart` в среднем используют 42 гигабайта, (в тариф включено 15 гигабайт). Многие пользователи превышают лимит, максимальное количество - 101 гигабайт. Большинство значений находятся в диапазоне примерно от 40 до 50 гигабайт.\n",
    "\n",
    "\n",
    "* Пользователи тарифа `Ultra` используют в среднем 38 гигабайт, (в тариф включено 30 гигабайт). Пользователи тарифа 'Ultra' так же превышают этот лимит, максимальное количество израсходованных гигабайт - 98."
   ]
  },
  {
   "cell_type": "code",
   "execution_count": 43,
   "id": "b9c86db9",
   "metadata": {},
   "outputs": [
    {
     "data": {
      "image/png": "[encoded data removed]",
      "text/plain": [
       "<Figure size 1152x360 with 1 Axes>"
      ]
     },
     "metadata": {
      "needs_background": "light"
     },
     "output_type": "display_data"
    }
   ],
   "source": [
    "plt.figure(figsize=(16, 5))\n",
    "smart['message_count'].plot(grid=True, bins=50, kind='hist', alpha=1, label='smart')\n",
    "ultra['message_count'].plot(grid=True, bins=50, kind='hist', alpha=1, label='ultra')\n",
    "plt.title('Количество использованых смс')\n",
    "plt.xlabel('Количество смс')\n",
    "plt.ylabel('Частота')\n",
    "plt.axvline(smart['message_count'].mean(), color='orange', linestyle='--', label='mean smart')\n",
    "plt.axvline(ultra['message_count'].mean(), color='yellow', linestyle='--', label='mean ultra')\n",
    "plt.legend();"
   ]
  },
  {
   "cell_type": "markdown",
   "id": "e032a3e9",
   "metadata": {},
   "source": [
    "* Пользователи тарифа `Smart` в среднем отправляют 38 смс, (в тариф включено 50 смс). Немногие пользователи превышают этот лимит, максимальное количество отправленных смс 143. Большинство значений находятся в диапазоне примерно от 30 до 50.\n",
    "\n",
    "\n",
    "* Пользователи тарифа `Ultra` отправляют в среднем 61 смс, (в тариф включено 1000 смс). Пользователи не превышают этот лимит, максимальное количество отправленных смс 224."
   ]
  },
  {
   "cell_type": "markdown",
   "id": "01f6cd61",
   "metadata": {},
   "source": [
    "**Посчитаем среднее значение, дисперсию и стандартное отклонение по прибыли, количеству смс, минут и гигабайт.**"
   ]
  },
  {
   "cell_type": "code",
   "execution_count": 44,
   "id": "ec3e75e1",
   "metadata": {},
   "outputs": [
    {
     "data": {
      "text/html": [
       "<div>\n",
       "<style scoped>\n",
       "    .dataframe tbody tr th:only-of-type {\n",
       "        vertical-align: middle;\n",
       "    }\n",
       "\n",
       "    .dataframe tbody tr th {\n",
       "        vertical-align: top;\n",
       "    }\n",
       "\n",
       "    .dataframe thead tr th {\n",
       "        text-align: left;\n",
       "    }\n",
       "\n",
       "    .dataframe thead tr:last-of-type th {\n",
       "        text-align: right;\n",
       "    }\n",
       "</style>\n",
       "<table border=\"1\" class=\"dataframe\">\n",
       "  <thead>\n",
       "    <tr>\n",
       "      <th></th>\n",
       "      <th colspan=\"4\" halign=\"left\">call_duration</th>\n",
       "      <th colspan=\"4\" halign=\"left\">gb_used</th>\n",
       "      <th colspan=\"4\" halign=\"left\">message_count</th>\n",
       "    </tr>\n",
       "    <tr>\n",
       "      <th></th>\n",
       "      <th>mean</th>\n",
       "      <th>median</th>\n",
       "      <th>std</th>\n",
       "      <th>var</th>\n",
       "      <th>mean</th>\n",
       "      <th>median</th>\n",
       "      <th>std</th>\n",
       "      <th>var</th>\n",
       "      <th>mean</th>\n",
       "      <th>median</th>\n",
       "      <th>std</th>\n",
       "      <th>var</th>\n",
       "    </tr>\n",
       "    <tr>\n",
       "      <th>tariff_name</th>\n",
       "      <th></th>\n",
       "      <th></th>\n",
       "      <th></th>\n",
       "      <th></th>\n",
       "      <th></th>\n",
       "      <th></th>\n",
       "      <th></th>\n",
       "      <th></th>\n",
       "      <th></th>\n",
       "      <th></th>\n",
       "      <th></th>\n",
       "      <th></th>\n",
       "    </tr>\n",
       "  </thead>\n",
       "  <tbody>\n",
       "    <tr>\n",
       "      <th>smart</th>\n",
       "      <td>417.934948</td>\n",
       "      <td>422.0</td>\n",
       "      <td>190.313730</td>\n",
       "      <td>36219.315784</td>\n",
       "      <td>16.328847</td>\n",
       "      <td>17.0</td>\n",
       "      <td>5.747061</td>\n",
       "      <td>33.028705</td>\n",
       "      <td>38.716441</td>\n",
       "      <td>34.0</td>\n",
       "      <td>26.787949</td>\n",
       "      <td>717.594201</td>\n",
       "    </tr>\n",
       "    <tr>\n",
       "      <th>ultra</th>\n",
       "      <td>526.623350</td>\n",
       "      <td>518.0</td>\n",
       "      <td>317.606098</td>\n",
       "      <td>100873.633397</td>\n",
       "      <td>19.494416</td>\n",
       "      <td>19.0</td>\n",
       "      <td>9.853511</td>\n",
       "      <td>97.091686</td>\n",
       "      <td>61.161006</td>\n",
       "      <td>51.0</td>\n",
       "      <td>45.931026</td>\n",
       "      <td>2109.659183</td>\n",
       "    </tr>\n",
       "  </tbody>\n",
       "</table>\n",
       "</div>"
      ],
      "text/plain": [
       "            call_duration                                      gb_used         \\\n",
       "                     mean median         std            var       mean median   \n",
       "tariff_name                                                                     \n",
       "smart          417.934948  422.0  190.313730   36219.315784  16.328847   17.0   \n",
       "ultra          526.623350  518.0  317.606098  100873.633397  19.494416   19.0   \n",
       "\n",
       "                                 message_count                                 \n",
       "                  std        var          mean median        std          var  \n",
       "tariff_name                                                                    \n",
       "smart        5.747061  33.028705     38.716441   34.0  26.787949   717.594201  \n",
       "ultra        9.853511  97.091686     61.161006   51.0  45.931026  2109.659183  "
      ]
     },
     "metadata": {},
     "output_type": "display_data"
    }
   ],
   "source": [
    "statistics = data.pivot_table(index=['tariff_name'], values=['call_duration', 'gb_used', 'message_count'], \n",
    "                    aggfunc={'call_duration': [np.mean, np.median, np.var, np.std], \n",
    "                             'gb_used': [np.mean, np.median, np.var, np.std], \n",
    "                          'message_count': [np.mean, np.median, np.var, np.std]})\n",
    "display(statistics)"
   ]
  },
  {
   "cell_type": "markdown",
   "id": "1491858a",
   "metadata": {},
   "source": [
    "### Выводы по характеристикам распределения\n",
    "\n",
    "Средняя длительность разговора не сильно зависит от тарифа. В среднем человеку нужно около 417 минут разговора на тарифе `Smart` и 526 - на тарифе `Ultra`.\n",
    "Пользователи обоих тарифов используют смс в пределах лимита, на тарифе `Smart` некоторые абоненты превысили лимит.\n",
    "\n",
    "Основные различия касаются объема интернет-трафика. Пользователи тарифа `Smart` превышают лимит 15 гигабайт и платят за дополнительные мегабайты. Абоненты тарифа `Ultra` используют интернет активнее, но реже выходят за установленный лимит в 30 гигабайт."
   ]
  },
  {
   "cell_type": "markdown",
   "id": "42f0f04d",
   "metadata": {},
   "source": [
    "## Проверка гипотез\n",
    "\n",
    "* Первая гипотеза звучит так: \"Средняя выручка пользователей тарифов `Ультра` и `Смарт` различаются.\"\n",
    "\n",
    "**Посмотрим на гистограмму распределения прибыли по тарифам.**"
   ]
  },
  {
   "cell_type": "code",
   "execution_count": 45,
   "id": "e02c0c70",
   "metadata": {},
   "outputs": [
    {
     "data": {
      "image/png": "[encoded data removed]",
      "text/plain": [
       "<Figure size 1152x360 with 1 Axes>"
      ]
     },
     "metadata": {
      "needs_background": "light"
     },
     "output_type": "display_data"
    }
   ],
   "source": [
    "plt.figure(figsize=(16, 5));\n",
    "smart['profit'].plot(grid=True, bins=50, kind='hist', alpha=1, label='smart')\n",
    "ultra['profit'].plot(grid=True, bins=50, kind='hist', alpha=1, label='ultra')\n",
    "plt.title('Распределение прибыли')\n",
    "plt.xlabel('Прибыль, рублей')\n",
    "plt.ylabel('Частота')\n",
    "plt.axvline(smart['profit'].mean(), color='orange', linestyle='--', label='mean smart')\n",
    "plt.axvline(ultra['profit'].mean(), color='yellow', linestyle='--', label='mean ultra')\n",
    "plt.legend()\n",
    "plt.show();"
   ]
  },
  {
   "cell_type": "markdown",
   "id": "f95b3c16",
   "metadata": {},
   "source": [
    "* Средняя прибыль пользователей тарифа `Smart` составляет 1289 рублей. Пик у тарифа smart 550 рублей - это стоимость тарифа. Максимальная прибыль составила 6770 рублей.\n",
    "\n",
    "\n",
    "* Средняя прибыль пользователей тарифа `Ultra` составляет 2070 рублей. Пик у тарифа ultra 1950 рублей, это так же стоимость тарифа, большинство пользователей не выходят за рамки тарифа. Максимальная прибыль у тарифа `Ultra`составила 4800 рублей."
   ]
  },
  {
   "cell_type": "markdown",
   "id": "5daa0d07",
   "metadata": {},
   "source": [
    "**Теперь проверим гипотезу.**\n",
    "\n",
    "Сформулируем нулевую и альтернативную гипотезу:\n",
    "\n",
    "* H₀ - средняя выручка пользователей тарифов `Ultra` и `Smart` равна.\n",
    "\n",
    "* H₁ - средняя выручка пользователей тарифов `Ultra` и `Smart` не равна.\n",
    "\n",
    "Критический уровень статистической значимости укажем 0.05.\n",
    "\n",
    "Для проверки гипотезы о равенстве среднего двух генеральных совокупностей будем использовать метод `scipy.stats.ttest_ind`."
   ]
  },
  {
   "cell_type": "code",
   "execution_count": 46,
   "id": "05fb58b0",
   "metadata": {},
   "outputs": [
    {
     "name": "stdout",
     "output_type": "stream",
     "text": [
      "p-значение: 1.4229814360764067e-160\n",
      "Отвергаем нулевую гипотезу\n",
      "\n",
      "Средняя выручка с пользователя тарифа smart - 1290.0\n",
      "Средняя выручка с пользователя тарифа ultra - 2070.2\n"
     ]
    }
   ],
   "source": [
    "alpha = 0.05\n",
    "\n",
    "results = st.ttest_ind(\n",
    "    smart['profit'],\n",
    "    ultra['profit']\n",
    ")\n",
    "\n",
    "print('p-значение:', results.pvalue)\n",
    "\n",
    "if (results.pvalue < alpha):\n",
    "    print(\"Отвергаем нулевую гипотезу\")\n",
    "else:\n",
    "    print(\"Не получилось отвергнуть нулевую гипотезу\")\n",
    "    \n",
    "print()    \n",
    "print('Средняя выручка с пользователя тарифа smart -', round(smart['profit'].mean(), 1))\n",
    "print('Средняя выручка с пользователя тарифа ultra -', round(ultra['profit'].mean(), 1))"
   ]
  },
  {
   "cell_type": "markdown",
   "id": "c8af5c55",
   "metadata": {},
   "source": [
    "**Отвергаем нулевую гипотезу, средняя выручка пользователей тарифа `Ultra` не равна выручке тарифа `Smart`. Средняя выручка пользователей тарифа `Ultra` больше в среднем на 780 рублей.**"
   ]
  },
  {
   "cell_type": "markdown",
   "id": "d788072d",
   "metadata": {},
   "source": [
    "* Вторая гипотеза звучит так: \"Средняя выручка пользователей из Москвы отличается от выручки пользователей из других регионов.\"\n",
    "\n",
    "**Сформулируем нулевую и альтернативную гипотезу:**\n",
    "\n",
    "* H₀ - средняя выручка пользователей из Москвы и других регионов равна.\n",
    "\n",
    "*  H₁ - средняя выручка пользователей из Москвы и других регионов не равна.\n",
    "\n",
    "Критический уровень статистической значимости укажем 0.05."
   ]
  },
  {
   "cell_type": "markdown",
   "id": "2cf2f626",
   "metadata": {},
   "source": [
    "**Выделим пользователей Москвы и пользователей других регионов в две отдельные таблицы.**"
   ]
  },
  {
   "cell_type": "code",
   "execution_count": 47,
   "id": "68bbe368",
   "metadata": {
    "scrolled": true
   },
   "outputs": [
    {
     "data": {
      "text/html": [
       "<div>\n",
       "<style scoped>\n",
       "    .dataframe tbody tr th:only-of-type {\n",
       "        vertical-align: middle;\n",
       "    }\n",
       "\n",
       "    .dataframe tbody tr th {\n",
       "        vertical-align: top;\n",
       "    }\n",
       "\n",
       "    .dataframe thead th {\n",
       "        text-align: right;\n",
       "    }\n",
       "</style>\n",
       "<table border=\"1\" class=\"dataframe\">\n",
       "  <thead>\n",
       "    <tr style=\"text-align: right;\">\n",
       "      <th></th>\n",
       "      <th>user_id</th>\n",
       "      <th>month</th>\n",
       "      <th>call_duration</th>\n",
       "      <th>calls_count</th>\n",
       "      <th>gb_used</th>\n",
       "      <th>message_count</th>\n",
       "      <th>churn_date</th>\n",
       "      <th>city</th>\n",
       "      <th>reg_date</th>\n",
       "      <th>tariff_name</th>\n",
       "      <th>messages_included</th>\n",
       "      <th>mb_per_month_included</th>\n",
       "      <th>minutes_included</th>\n",
       "      <th>rub_monthly_fee</th>\n",
       "      <th>rub_per_gb</th>\n",
       "      <th>rub_per_message</th>\n",
       "      <th>rub_per_minute</th>\n",
       "      <th>profit</th>\n",
       "    </tr>\n",
       "  </thead>\n",
       "  <tbody>\n",
       "    <tr>\n",
       "      <th>8</th>\n",
       "      <td>1003</td>\n",
       "      <td>8</td>\n",
       "      <td>380</td>\n",
       "      <td>55</td>\n",
       "      <td>9</td>\n",
       "      <td>37.0</td>\n",
       "      <td>valid</td>\n",
       "      <td>Москва</td>\n",
       "      <td>2018-08-17</td>\n",
       "      <td>ultra</td>\n",
       "      <td>1000</td>\n",
       "      <td>30.0</td>\n",
       "      <td>3000</td>\n",
       "      <td>1950</td>\n",
       "      <td>150</td>\n",
       "      <td>1</td>\n",
       "      <td>1</td>\n",
       "      <td>1950.0</td>\n",
       "    </tr>\n",
       "    <tr>\n",
       "      <th>9</th>\n",
       "      <td>1003</td>\n",
       "      <td>9</td>\n",
       "      <td>961</td>\n",
       "      <td>134</td>\n",
       "      <td>13</td>\n",
       "      <td>91.0</td>\n",
       "      <td>valid</td>\n",
       "      <td>Москва</td>\n",
       "      <td>2018-08-17</td>\n",
       "      <td>ultra</td>\n",
       "      <td>1000</td>\n",
       "      <td>30.0</td>\n",
       "      <td>3000</td>\n",
       "      <td>1950</td>\n",
       "      <td>150</td>\n",
       "      <td>1</td>\n",
       "      <td>1</td>\n",
       "      <td>1950.0</td>\n",
       "    </tr>\n",
       "    <tr>\n",
       "      <th>10</th>\n",
       "      <td>1003</td>\n",
       "      <td>10</td>\n",
       "      <td>855</td>\n",
       "      <td>108</td>\n",
       "      <td>15</td>\n",
       "      <td>83.0</td>\n",
       "      <td>valid</td>\n",
       "      <td>Москва</td>\n",
       "      <td>2018-08-17</td>\n",
       "      <td>ultra</td>\n",
       "      <td>1000</td>\n",
       "      <td>30.0</td>\n",
       "      <td>3000</td>\n",
       "      <td>1950</td>\n",
       "      <td>150</td>\n",
       "      <td>1</td>\n",
       "      <td>1</td>\n",
       "      <td>1950.0</td>\n",
       "    </tr>\n",
       "    <tr>\n",
       "      <th>11</th>\n",
       "      <td>1003</td>\n",
       "      <td>11</td>\n",
       "      <td>824</td>\n",
       "      <td>115</td>\n",
       "      <td>12</td>\n",
       "      <td>94.0</td>\n",
       "      <td>valid</td>\n",
       "      <td>Москва</td>\n",
       "      <td>2018-08-17</td>\n",
       "      <td>ultra</td>\n",
       "      <td>1000</td>\n",
       "      <td>30.0</td>\n",
       "      <td>3000</td>\n",
       "      <td>1950</td>\n",
       "      <td>150</td>\n",
       "      <td>1</td>\n",
       "      <td>1</td>\n",
       "      <td>1950.0</td>\n",
       "    </tr>\n",
       "    <tr>\n",
       "      <th>12</th>\n",
       "      <td>1003</td>\n",
       "      <td>12</td>\n",
       "      <td>802</td>\n",
       "      <td>108</td>\n",
       "      <td>10</td>\n",
       "      <td>75.0</td>\n",
       "      <td>valid</td>\n",
       "      <td>Москва</td>\n",
       "      <td>2018-08-17</td>\n",
       "      <td>ultra</td>\n",
       "      <td>1000</td>\n",
       "      <td>30.0</td>\n",
       "      <td>3000</td>\n",
       "      <td>1950</td>\n",
       "      <td>150</td>\n",
       "      <td>1</td>\n",
       "      <td>1</td>\n",
       "      <td>1950.0</td>\n",
       "    </tr>\n",
       "  </tbody>\n",
       "</table>\n",
       "</div>"
      ],
      "text/plain": [
       "   user_id  month  call_duration  calls_count  gb_used  message_count  \\\n",
       "8     1003      8            380           55        9           37.0   \n",
       "9     1003      9            961          134       13           91.0   \n",
       "10    1003     10            855          108       15           83.0   \n",
       "11    1003     11            824          115       12           94.0   \n",
       "12    1003     12            802          108       10           75.0   \n",
       "\n",
       "   churn_date    city   reg_date tariff_name  messages_included  \\\n",
       "8       valid  Москва 2018-08-17       ultra               1000   \n",
       "9       valid  Москва 2018-08-17       ultra               1000   \n",
       "10      valid  Москва 2018-08-17       ultra               1000   \n",
       "11      valid  Москва 2018-08-17       ultra               1000   \n",
       "12      valid  Москва 2018-08-17       ultra               1000   \n",
       "\n",
       "    mb_per_month_included  minutes_included  rub_monthly_fee  rub_per_gb  \\\n",
       "8                    30.0              3000             1950         150   \n",
       "9                    30.0              3000             1950         150   \n",
       "10                   30.0              3000             1950         150   \n",
       "11                   30.0              3000             1950         150   \n",
       "12                   30.0              3000             1950         150   \n",
       "\n",
       "    rub_per_message  rub_per_minute  profit  \n",
       "8                 1               1  1950.0  \n",
       "9                 1               1  1950.0  \n",
       "10                1               1  1950.0  \n",
       "11                1               1  1950.0  \n",
       "12                1               1  1950.0  "
      ]
     },
     "metadata": {},
     "output_type": "display_data"
    },
    {
     "data": {
      "text/html": [
       "<div>\n",
       "<style scoped>\n",
       "    .dataframe tbody tr th:only-of-type {\n",
       "        vertical-align: middle;\n",
       "    }\n",
       "\n",
       "    .dataframe tbody tr th {\n",
       "        vertical-align: top;\n",
       "    }\n",
       "\n",
       "    .dataframe thead th {\n",
       "        text-align: right;\n",
       "    }\n",
       "</style>\n",
       "<table border=\"1\" class=\"dataframe\">\n",
       "  <thead>\n",
       "    <tr style=\"text-align: right;\">\n",
       "      <th></th>\n",
       "      <th>user_id</th>\n",
       "      <th>month</th>\n",
       "      <th>call_duration</th>\n",
       "      <th>calls_count</th>\n",
       "      <th>gb_used</th>\n",
       "      <th>message_count</th>\n",
       "      <th>churn_date</th>\n",
       "      <th>city</th>\n",
       "      <th>reg_date</th>\n",
       "      <th>tariff_name</th>\n",
       "      <th>messages_included</th>\n",
       "      <th>mb_per_month_included</th>\n",
       "      <th>minutes_included</th>\n",
       "      <th>rub_monthly_fee</th>\n",
       "      <th>rub_per_gb</th>\n",
       "      <th>rub_per_message</th>\n",
       "      <th>rub_per_minute</th>\n",
       "      <th>profit</th>\n",
       "    </tr>\n",
       "  </thead>\n",
       "  <tbody>\n",
       "    <tr>\n",
       "      <th>0</th>\n",
       "      <td>1000</td>\n",
       "      <td>5</td>\n",
       "      <td>159</td>\n",
       "      <td>22</td>\n",
       "      <td>3</td>\n",
       "      <td>22.0</td>\n",
       "      <td>valid</td>\n",
       "      <td>Краснодар</td>\n",
       "      <td>2018-05-25</td>\n",
       "      <td>ultra</td>\n",
       "      <td>1000</td>\n",
       "      <td>30.0</td>\n",
       "      <td>3000</td>\n",
       "      <td>1950</td>\n",
       "      <td>150</td>\n",
       "      <td>1</td>\n",
       "      <td>1</td>\n",
       "      <td>1950.0</td>\n",
       "    </tr>\n",
       "    <tr>\n",
       "      <th>1</th>\n",
       "      <td>1000</td>\n",
       "      <td>6</td>\n",
       "      <td>172</td>\n",
       "      <td>43</td>\n",
       "      <td>23</td>\n",
       "      <td>60.0</td>\n",
       "      <td>valid</td>\n",
       "      <td>Краснодар</td>\n",
       "      <td>2018-05-25</td>\n",
       "      <td>ultra</td>\n",
       "      <td>1000</td>\n",
       "      <td>30.0</td>\n",
       "      <td>3000</td>\n",
       "      <td>1950</td>\n",
       "      <td>150</td>\n",
       "      <td>1</td>\n",
       "      <td>1</td>\n",
       "      <td>1950.0</td>\n",
       "    </tr>\n",
       "    <tr>\n",
       "      <th>2</th>\n",
       "      <td>1000</td>\n",
       "      <td>7</td>\n",
       "      <td>340</td>\n",
       "      <td>47</td>\n",
       "      <td>14</td>\n",
       "      <td>75.0</td>\n",
       "      <td>valid</td>\n",
       "      <td>Краснодар</td>\n",
       "      <td>2018-05-25</td>\n",
       "      <td>ultra</td>\n",
       "      <td>1000</td>\n",
       "      <td>30.0</td>\n",
       "      <td>3000</td>\n",
       "      <td>1950</td>\n",
       "      <td>150</td>\n",
       "      <td>1</td>\n",
       "      <td>1</td>\n",
       "      <td>1950.0</td>\n",
       "    </tr>\n",
       "    <tr>\n",
       "      <th>3</th>\n",
       "      <td>1000</td>\n",
       "      <td>8</td>\n",
       "      <td>408</td>\n",
       "      <td>52</td>\n",
       "      <td>14</td>\n",
       "      <td>81.0</td>\n",
       "      <td>valid</td>\n",
       "      <td>Краснодар</td>\n",
       "      <td>2018-05-25</td>\n",
       "      <td>ultra</td>\n",
       "      <td>1000</td>\n",
       "      <td>30.0</td>\n",
       "      <td>3000</td>\n",
       "      <td>1950</td>\n",
       "      <td>150</td>\n",
       "      <td>1</td>\n",
       "      <td>1</td>\n",
       "      <td>1950.0</td>\n",
       "    </tr>\n",
       "    <tr>\n",
       "      <th>4</th>\n",
       "      <td>1000</td>\n",
       "      <td>9</td>\n",
       "      <td>466</td>\n",
       "      <td>58</td>\n",
       "      <td>15</td>\n",
       "      <td>57.0</td>\n",
       "      <td>valid</td>\n",
       "      <td>Краснодар</td>\n",
       "      <td>2018-05-25</td>\n",
       "      <td>ultra</td>\n",
       "      <td>1000</td>\n",
       "      <td>30.0</td>\n",
       "      <td>3000</td>\n",
       "      <td>1950</td>\n",
       "      <td>150</td>\n",
       "      <td>1</td>\n",
       "      <td>1</td>\n",
       "      <td>1950.0</td>\n",
       "    </tr>\n",
       "  </tbody>\n",
       "</table>\n",
       "</div>"
      ],
      "text/plain": [
       "  user_id  month  call_duration  calls_count  gb_used  message_count  \\\n",
       "0    1000      5            159           22        3           22.0   \n",
       "1    1000      6            172           43       23           60.0   \n",
       "2    1000      7            340           47       14           75.0   \n",
       "3    1000      8            408           52       14           81.0   \n",
       "4    1000      9            466           58       15           57.0   \n",
       "\n",
       "  churn_date       city   reg_date tariff_name  messages_included  \\\n",
       "0      valid  Краснодар 2018-05-25       ultra               1000   \n",
       "1      valid  Краснодар 2018-05-25       ultra               1000   \n",
       "2      valid  Краснодар 2018-05-25       ultra               1000   \n",
       "3      valid  Краснодар 2018-05-25       ultra               1000   \n",
       "4      valid  Краснодар 2018-05-25       ultra               1000   \n",
       "\n",
       "   mb_per_month_included  minutes_included  rub_monthly_fee  rub_per_gb  \\\n",
       "0                   30.0              3000             1950         150   \n",
       "1                   30.0              3000             1950         150   \n",
       "2                   30.0              3000             1950         150   \n",
       "3                   30.0              3000             1950         150   \n",
       "4                   30.0              3000             1950         150   \n",
       "\n",
       "   rub_per_message  rub_per_minute  profit  \n",
       "0                1               1  1950.0  \n",
       "1                1               1  1950.0  \n",
       "2                1               1  1950.0  \n",
       "3                1               1  1950.0  \n",
       "4                1               1  1950.0  "
      ]
     },
     "metadata": {},
     "output_type": "display_data"
    }
   ],
   "source": [
    "moscow = data.query('city == \"Москва\"')\n",
    "regions = data.query('city != \"Москва\"')\n",
    "display(moscow.head(5))\n",
    "display(regions.head(5))"
   ]
  },
  {
   "cell_type": "code",
   "execution_count": 48,
   "id": "ab1bbe2c",
   "metadata": {},
   "outputs": [
    {
     "name": "stdout",
     "output_type": "stream",
     "text": [
      "p-значение: 0.5440152911670223\n",
      "Не получилось отвергнуть нулевую гипотезу\n",
      "\n",
      "Средняя выручка в месяц с пользователя в Москве - 1546.7\n",
      "Средняя выручка в месяц с пользователя в других регионах - 1524.9\n"
     ]
    }
   ],
   "source": [
    "alpha = 0.05\n",
    "\n",
    "results = st.ttest_ind(\n",
    "    moscow['profit'],\n",
    "    regions['profit']\n",
    ")\n",
    "\n",
    "print('p-значение:', results.pvalue)\n",
    "\n",
    "if (results.pvalue < alpha):\n",
    "    print(\"Отвергаем нулевую гипотезу\")\n",
    "else:\n",
    "    print(\"Не получилось отвергнуть нулевую гипотезу\")\n",
    "    \n",
    "print()    \n",
    "print('Средняя выручка в месяц с пользователя в Москве -', round(moscow['profit'].mean(), 1))\n",
    "print('Средняя выручка в месяц с пользователя в других регионах -', round(regions['profit'].mean(), 1))"
   ]
  },
  {
   "cell_type": "markdown",
   "id": "53ac65a6",
   "metadata": {},
   "source": [
    "* Нулевую гипотезу отвергнуть не получилось так как, средняя выручка в Москве и за её пределами почти не отличается от выручки в других регионах."
   ]
  },
  {
   "cell_type": "markdown",
   "id": "0f0d7457",
   "metadata": {},
   "source": [
    "# Выводы\n",
    "\n",
    "* Были обработан и проанализирован полученный архив данных, заполнены пропущенные значения там, где это необходимо. Выявлены и проанализированы аномальные значения.\n",
    "\n",
    "* Данные приведены к нужным типам, найдены и исправлены ошибки.\n",
    "\n",
    "Проведя статистический анализ выборки из 500 абонентов сотового оператора **Мегалайн**, можно сделать следующие выводы:\n",
    "\n",
    "* 69.35% клиентов пользуются тарифом `Smart` и 30.65% предпочитают тариф `Ultra`.\n",
    "\n",
    "\n",
    "* Пользователи больше предпочитают тариф `Smart`, вероятнее потому, что он доступнее по цене.\n",
    "\n",
    "\n",
    "* Пользователи обоих тарифов не выходят за рамки лимитов по смс и минутам.\n",
    "\n",
    "\n",
    "* Интернет абоненты используют охотнее, в обоих тарифах пользователи превышают лимит установленный оператором.\n",
    "\n",
    "\n",
    "* Гипотеза о том, что средняя выручка в Москве отличается от выручки в других регионах не подтвердилась, выручка почти не отличается.\n",
    "\n",
    "\n",
    "* Средняя прибыль пользователей тарифа `Smart` составляет 1289 рублей, а средняя прибыль пользователей тарифа `Ultra` составляет 2070 рублей. Следовательно прибыль от тарифа `Ultra` больше в 1,6 раза. Коммерческому департаменту компании **Мегалайн** следует сделать упор на рекламу тарифу `Ultra`, для привлечения перехода клиентов на этот тариф."
   ]
  }
 ],
 "metadata": {
  "ExecuteTimeLog": [
   {
    "duration": 1693,
    "start_time": "2022-04-22T12:42:25.373Z"
   },
   {
    "duration": 193,
    "start_time": "2022-04-22T12:42:27.069Z"
   },
   {
    "duration": 0,
    "start_time": "2022-04-22T12:42:27.266Z"
   },
   {
    "duration": 0,
    "start_time": "2022-04-22T12:42:27.268Z"
   },
   {
    "duration": 0,
    "start_time": "2022-04-22T12:42:27.269Z"
   },
   {
    "duration": 0,
    "start_time": "2022-04-22T12:42:27.271Z"
   },
   {
    "duration": 0,
    "start_time": "2022-04-22T12:42:27.273Z"
   },
   {
    "duration": 0,
    "start_time": "2022-04-22T12:42:27.274Z"
   },
   {
    "duration": 0,
    "start_time": "2022-04-22T12:42:27.276Z"
   },
   {
    "duration": 0,
    "start_time": "2022-04-22T12:42:27.277Z"
   },
   {
    "duration": 0,
    "start_time": "2022-04-22T12:42:27.279Z"
   },
   {
    "duration": 0,
    "start_time": "2022-04-22T12:42:27.280Z"
   },
   {
    "duration": 0,
    "start_time": "2022-04-22T12:42:27.281Z"
   },
   {
    "duration": 0,
    "start_time": "2022-04-22T12:42:27.283Z"
   },
   {
    "duration": 0,
    "start_time": "2022-04-22T12:42:27.284Z"
   },
   {
    "duration": 0,
    "start_time": "2022-04-22T12:42:27.285Z"
   },
   {
    "duration": 0,
    "start_time": "2022-04-22T12:42:27.287Z"
   },
   {
    "duration": 0,
    "start_time": "2022-04-22T12:42:27.288Z"
   },
   {
    "duration": 0,
    "start_time": "2022-04-22T12:42:27.289Z"
   },
   {
    "duration": 0,
    "start_time": "2022-04-22T12:42:27.290Z"
   },
   {
    "duration": 0,
    "start_time": "2022-04-22T12:42:27.292Z"
   },
   {
    "duration": 0,
    "start_time": "2022-04-22T12:42:27.294Z"
   },
   {
    "duration": 0,
    "start_time": "2022-04-22T12:42:27.295Z"
   },
   {
    "duration": 0,
    "start_time": "2022-04-22T12:42:27.297Z"
   },
   {
    "duration": 0,
    "start_time": "2022-04-22T12:42:27.352Z"
   },
   {
    "duration": 0,
    "start_time": "2022-04-22T12:42:27.354Z"
   },
   {
    "duration": 0,
    "start_time": "2022-04-22T12:42:27.356Z"
   },
   {
    "duration": 0,
    "start_time": "2022-04-22T12:42:27.358Z"
   },
   {
    "duration": 0,
    "start_time": "2022-04-22T12:42:27.360Z"
   },
   {
    "duration": 0,
    "start_time": "2022-04-22T12:42:27.361Z"
   },
   {
    "duration": 0,
    "start_time": "2022-04-22T12:42:27.362Z"
   },
   {
    "duration": 0,
    "start_time": "2022-04-22T12:42:27.364Z"
   },
   {
    "duration": 0,
    "start_time": "2022-04-22T12:42:27.365Z"
   },
   {
    "duration": 0,
    "start_time": "2022-04-22T12:42:27.366Z"
   },
   {
    "duration": 0,
    "start_time": "2022-04-22T12:42:27.368Z"
   },
   {
    "duration": 0,
    "start_time": "2022-04-22T12:42:27.369Z"
   },
   {
    "duration": 0,
    "start_time": "2022-04-22T12:42:27.371Z"
   },
   {
    "duration": 0,
    "start_time": "2022-04-22T12:42:27.373Z"
   },
   {
    "duration": 0,
    "start_time": "2022-04-22T12:42:27.375Z"
   },
   {
    "duration": 0,
    "start_time": "2022-04-22T12:42:27.377Z"
   },
   {
    "duration": 0,
    "start_time": "2022-04-22T12:42:27.379Z"
   },
   {
    "duration": 0,
    "start_time": "2022-04-22T12:42:27.381Z"
   },
   {
    "duration": 0,
    "start_time": "2022-04-22T12:42:27.382Z"
   },
   {
    "duration": 0,
    "start_time": "2022-04-22T12:42:27.384Z"
   },
   {
    "duration": 0,
    "start_time": "2022-04-22T12:42:27.386Z"
   },
   {
    "duration": 35,
    "start_time": "2022-04-22T12:43:54.853Z"
   },
   {
    "duration": 1421,
    "start_time": "2022-04-22T12:44:23.632Z"
   },
   {
    "duration": 204,
    "start_time": "2022-04-22T12:44:25.055Z"
   },
   {
    "duration": 34,
    "start_time": "2022-04-22T12:44:25.261Z"
   },
   {
    "duration": 101,
    "start_time": "2022-04-22T12:44:25.298Z"
   },
   {
    "duration": 61,
    "start_time": "2022-04-22T12:44:25.401Z"
   },
   {
    "duration": 41,
    "start_time": "2022-04-22T12:44:25.464Z"
   },
   {
    "duration": 137,
    "start_time": "2022-04-22T12:44:25.508Z"
   },
   {
    "duration": 120,
    "start_time": "2022-04-22T12:44:25.647Z"
   },
   {
    "duration": 25,
    "start_time": "2022-04-22T12:44:25.769Z"
   },
   {
    "duration": 57,
    "start_time": "2022-04-22T12:44:25.797Z"
   },
   {
    "duration": 22,
    "start_time": "2022-04-22T12:44:25.856Z"
   },
   {
    "duration": 84,
    "start_time": "2022-04-22T12:44:25.880Z"
   },
   {
    "duration": 175,
    "start_time": "2022-04-22T12:44:25.966Z"
   },
   {
    "duration": 33,
    "start_time": "2022-04-22T12:44:26.143Z"
   },
   {
    "duration": 81,
    "start_time": "2022-04-22T12:44:26.178Z"
   },
   {
    "duration": 13,
    "start_time": "2022-04-22T12:44:26.261Z"
   },
   {
    "duration": 42,
    "start_time": "2022-04-22T12:44:26.275Z"
   },
   {
    "duration": 63,
    "start_time": "2022-04-22T12:44:26.319Z"
   },
   {
    "duration": 69,
    "start_time": "2022-04-22T12:44:26.384Z"
   },
   {
    "duration": 19,
    "start_time": "2022-04-22T12:44:26.455Z"
   },
   {
    "duration": 16,
    "start_time": "2022-04-22T12:44:26.476Z"
   },
   {
    "duration": 18,
    "start_time": "2022-04-22T12:44:26.495Z"
   },
   {
    "duration": 71,
    "start_time": "2022-04-22T12:44:26.514Z"
   },
   {
    "duration": 15,
    "start_time": "2022-04-22T12:44:26.587Z"
   },
   {
    "duration": 21,
    "start_time": "2022-04-22T12:44:26.605Z"
   },
   {
    "duration": 9,
    "start_time": "2022-04-22T12:44:26.628Z"
   },
   {
    "duration": 26,
    "start_time": "2022-04-22T12:44:26.651Z"
   },
   {
    "duration": 26,
    "start_time": "2022-04-22T12:44:26.682Z"
   },
   {
    "duration": 69,
    "start_time": "2022-04-22T12:44:26.710Z"
   },
   {
    "duration": 49,
    "start_time": "2022-04-22T12:44:26.781Z"
   },
   {
    "duration": 40,
    "start_time": "2022-04-22T12:44:26.851Z"
   },
   {
    "duration": 11,
    "start_time": "2022-04-22T12:44:26.894Z"
   },
   {
    "duration": 10,
    "start_time": "2022-04-22T12:44:26.908Z"
   },
   {
    "duration": 14,
    "start_time": "2022-04-22T12:44:26.953Z"
   },
   {
    "duration": 173,
    "start_time": "2022-04-22T12:44:26.969Z"
   },
   {
    "duration": 171,
    "start_time": "2022-04-22T12:44:27.151Z"
   },
   {
    "duration": 15,
    "start_time": "2022-04-22T12:44:27.324Z"
   },
   {
    "duration": 683,
    "start_time": "2022-04-22T12:44:27.340Z"
   },
   {
    "duration": 702,
    "start_time": "2022-04-22T12:44:28.027Z"
   },
   {
    "duration": 682,
    "start_time": "2022-04-22T12:44:28.731Z"
   },
   {
    "duration": 72,
    "start_time": "2022-04-22T12:44:29.416Z"
   },
   {
    "duration": 794,
    "start_time": "2022-04-22T12:44:29.491Z"
   },
   {
    "duration": 10,
    "start_time": "2022-04-22T12:44:30.288Z"
   },
   {
    "duration": 74,
    "start_time": "2022-04-22T12:44:30.300Z"
   },
   {
    "duration": 10,
    "start_time": "2022-04-22T12:44:30.376Z"
   },
   {
    "duration": 21,
    "start_time": "2022-04-22T12:47:26.502Z"
   },
   {
    "duration": 8,
    "start_time": "2022-04-22T12:48:35.271Z"
   },
   {
    "duration": 2140,
    "start_time": "2022-04-24T18:51:23.763Z"
   },
   {
    "duration": 372,
    "start_time": "2022-04-24T18:51:25.906Z"
   },
   {
    "duration": 58,
    "start_time": "2022-04-24T18:51:26.281Z"
   },
   {
    "duration": 113,
    "start_time": "2022-04-24T18:51:26.345Z"
   },
   {
    "duration": 60,
    "start_time": "2022-04-24T18:51:26.465Z"
   },
   {
    "duration": 52,
    "start_time": "2022-04-24T18:51:26.528Z"
   },
   {
    "duration": 201,
    "start_time": "2022-04-24T18:51:26.582Z"
   },
   {
    "duration": 192,
    "start_time": "2022-04-24T18:51:26.786Z"
   },
   {
    "duration": 45,
    "start_time": "2022-04-24T18:51:26.981Z"
   },
   {
    "duration": 63,
    "start_time": "2022-04-24T18:51:27.030Z"
   },
   {
    "duration": 41,
    "start_time": "2022-04-24T18:51:27.097Z"
   },
   {
    "duration": 115,
    "start_time": "2022-04-24T18:51:27.143Z"
   },
   {
    "duration": 230,
    "start_time": "2022-04-24T18:51:27.261Z"
   },
   {
    "duration": 56,
    "start_time": "2022-04-24T18:51:27.497Z"
   },
   {
    "duration": 84,
    "start_time": "2022-04-24T18:51:27.556Z"
   },
   {
    "duration": 15,
    "start_time": "2022-04-24T18:51:27.643Z"
   },
   {
    "duration": 94,
    "start_time": "2022-04-24T18:51:27.660Z"
   },
   {
    "duration": 48,
    "start_time": "2022-04-24T18:51:27.759Z"
   },
   {
    "duration": 84,
    "start_time": "2022-04-24T18:51:27.810Z"
   },
   {
    "duration": 50,
    "start_time": "2022-04-24T18:51:27.897Z"
   },
   {
    "duration": 17,
    "start_time": "2022-04-24T18:51:27.951Z"
   },
   {
    "duration": 28,
    "start_time": "2022-04-24T18:51:27.970Z"
   },
   {
    "duration": 66,
    "start_time": "2022-04-24T18:51:28.000Z"
   },
   {
    "duration": 17,
    "start_time": "2022-04-24T18:51:28.069Z"
   },
   {
    "duration": 27,
    "start_time": "2022-04-24T18:51:28.088Z"
   },
   {
    "duration": 35,
    "start_time": "2022-04-24T18:51:28.117Z"
   },
   {
    "duration": 42,
    "start_time": "2022-04-24T18:51:28.156Z"
   },
   {
    "duration": 37,
    "start_time": "2022-04-24T18:51:28.200Z"
   },
   {
    "duration": 64,
    "start_time": "2022-04-24T18:51:28.240Z"
   },
   {
    "duration": 86,
    "start_time": "2022-04-24T18:51:28.306Z"
   },
   {
    "duration": 52,
    "start_time": "2022-04-24T18:51:28.395Z"
   },
   {
    "duration": 13,
    "start_time": "2022-04-24T18:51:28.449Z"
   },
   {
    "duration": 19,
    "start_time": "2022-04-24T18:51:28.465Z"
   },
   {
    "duration": 17,
    "start_time": "2022-04-24T18:51:28.486Z"
   },
   {
    "duration": 215,
    "start_time": "2022-04-24T18:51:28.529Z"
   },
   {
    "duration": 267,
    "start_time": "2022-04-24T18:51:28.750Z"
   },
   {
    "duration": 26,
    "start_time": "2022-04-24T18:51:29.019Z"
   },
   {
    "duration": 934,
    "start_time": "2022-04-24T18:51:29.051Z"
   },
   {
    "duration": 881,
    "start_time": "2022-04-24T18:51:29.988Z"
   },
   {
    "duration": 796,
    "start_time": "2022-04-24T18:51:30.872Z"
   },
   {
    "duration": 85,
    "start_time": "2022-04-24T18:51:31.676Z"
   },
   {
    "duration": 874,
    "start_time": "2022-04-24T18:51:31.764Z"
   },
   {
    "duration": 16,
    "start_time": "2022-04-24T18:51:32.642Z"
   },
   {
    "duration": 102,
    "start_time": "2022-04-24T18:51:32.662Z"
   },
   {
    "duration": 15,
    "start_time": "2022-04-24T18:51:32.767Z"
   }
  ],
  "kernelspec": {
   "display_name": "Python 3 (ipykernel)",
   "language": "python",
   "name": "python3"
  },
  "language_info": {
   "codemirror_mode": {
    "name": "ipython",
    "version": 3
   },
   "file_extension": ".py",
   "mimetype": "text/x-python",
   "name": "python",
   "nbconvert_exporter": "python",
   "pygments_lexer": "ipython3",
   "version": "3.9.12"
  },
  "toc": {
   "base_numbering": 1,
   "nav_menu": {},
   "number_sections": false,
   "sideBar": true,
   "skip_h1_title": false,
   "title_cell": "Содержание",
   "title_sidebar": "Содержание",
   "toc_cell": true,
   "toc_position": {
    "height": "211.676px",
    "left": "10px",
    "top": "150px",
    "width": "351.051px"
   },
   "toc_section_display": false,
   "toc_window_display": true
  }
 },
 "nbformat": 4,
 "nbformat_minor": 5
}
